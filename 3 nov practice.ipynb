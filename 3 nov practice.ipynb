{
 "cells": [
  {
   "cell_type": "markdown",
   "id": "448c48f4-00ca-4dae-a182-5af3089707df",
   "metadata": {},
   "source": [
    "## Built-in Functions of Python"
   ]
  },
  {
   "cell_type": "code",
   "execution_count": 5,
   "id": "b037809f-d513-46e7-87ae-a85c29ef2ac1",
   "metadata": {},
   "outputs": [],
   "source": [
    "#round(): Rounds a number to a specified number of decimal places.\n",
    "#divmod(): Returns a tuple containing quotient and remainder."
   ]
  },
  {
   "cell_type": "code",
   "execution_count": 7,
   "id": "857cdd41-9059-4e01-bb5c-58a374bbbb3c",
   "metadata": {},
   "outputs": [
    {
     "name": "stdout",
     "output_type": "stream",
     "text": [
      "5.68\n",
      "(3, 1)\n"
     ]
    }
   ],
   "source": [
    "print(round(5.678, 2))\n",
    "print(divmod(10, 3)) "
   ]
  },
  {
   "cell_type": "markdown",
   "id": "20de302d-ecab-4ec8-aa02-1ee99413506e",
   "metadata": {},
   "source": [
    "##  Isinstance Function & Pow Function"
   ]
  },
  {
   "cell_type": "code",
   "execution_count": 10,
   "id": "64ea6ab4-811a-483a-9ca6-208e16d2bb58",
   "metadata": {},
   "outputs": [],
   "source": [
    "#isinstance(): Checks if an object is of a specific type.\n",
    "#pow(): Returns the power of a number."
   ]
  },
  {
   "cell_type": "code",
   "execution_count": 20,
   "id": "da008cd1-35a0-4a2f-b066-2062514ac9ae",
   "metadata": {},
   "outputs": [
    {
     "name": "stdout",
     "output_type": "stream",
     "text": [
      "False\n",
      "8\n"
     ]
    }
   ],
   "source": [
    "print(isinstance(5, float)) \n",
    "print(pow(2,3))   "
   ]
  },
  {
   "cell_type": "markdown",
   "id": "ff2b68a0-31df-47e8-806e-7dafac0ed9e4",
   "metadata": {},
   "source": [
    "## Sorted Function and Help Function"
   ]
  },
  {
   "cell_type": "code",
   "execution_count": 29,
   "id": "4b0d0f8c-bc39-4da2-a451-dc9f0bdbea60",
   "metadata": {},
   "outputs": [
    {
     "name": "stdout",
     "output_type": "stream",
     "text": [
      "[1, 2, 5, 9]\n",
      "Help on built-in function len in module builtins:\n",
      "\n",
      "len(obj, /)\n",
      "    Return the number of items in a container.\n",
      "\n"
     ]
    }
   ],
   "source": [
    "numbers = [5, 2, 9, 1]\n",
    "print(sorted(numbers))  \n",
    "\n",
    "# Help on a function\n",
    "help(len)\n"
   ]
  },
  {
   "cell_type": "markdown",
   "id": "0dd2111e-14bb-4603-a371-dc29ef46be9f",
   "metadata": {},
   "source": [
    "## How does the << (left shift) operator work in Python?"
   ]
  },
  {
   "cell_type": "code",
   "execution_count": null,
   "id": "78fb20c5-9adf-455d-a6ee-4d89cc9e55c5",
   "metadata": {},
   "outputs": [],
   "source": [
    "#The << operator shifts the bits of a number to the left by a specified number of positions, filling in 0s from the right.\n",
    "#Each shift left effectively doubles the number."
   ]
  },
  {
   "cell_type": "code",
   "execution_count": 32,
   "id": "d8aa1288-0a58-43be-ac62-868f1e1190a9",
   "metadata": {},
   "outputs": [
    {
     "name": "stdout",
     "output_type": "stream",
     "text": [
      "10\n"
     ]
    }
   ],
   "source": [
    "x = 5\n",
    "aprint(x<<1)"
   ]
  },
  {
   "cell_type": "markdown",
   "id": "27e299fe-432a-4526-8754-0644343c02e1",
   "metadata": {},
   "source": [
    "## Can you explain and give an example of when you’d use the += operator?"
   ]
  },
  {
   "cell_type": "code",
   "execution_count": null,
   "id": "77ea5514-52ba-4e61-8d8c-12c742d0e99c",
   "metadata": {},
   "outputs": [],
   "source": [
    "#The += operator is an increment operator. \n",
    "#It adds a value to a variable and assigns the result back to that variable."
   ]
  },
  {
   "cell_type": "code",
   "execution_count": 37,
   "id": "dadfa4af-2a4c-4b6c-a0be-91120b147141",
   "metadata": {},
   "outputs": [
    {
     "name": "stdout",
     "output_type": "stream",
     "text": [
      "15\n"
     ]
    }
   ],
   "source": [
    "score = 10\n",
    "bonus = 5\n",
    "score+=bonus  # Equivalent to score = score + bonus\n",
    "print(score)"
   ]
  },
  {
   "cell_type": "markdown",
   "id": "f5f56796-337e-429e-9da0-e00dc14f4c49",
   "metadata": {},
   "source": [
    "## How do comparison operators work with strings?"
   ]
  },
  {
   "cell_type": "code",
   "execution_count": 41,
   "id": "3c3d49db-711a-4ea5-9c4a-8dca39b70cba",
   "metadata": {},
   "outputs": [],
   "source": [
    "#Python compares the Unicode value of each character, so \"apple\" < \"banana\" is True because \"a\" comes before \"b\"."
   ]
  },
  {
   "cell_type": "code",
   "execution_count": 43,
   "id": "bf586f8f-fcea-498c-bbfd-a12ca35d5577",
   "metadata": {},
   "outputs": [
    {
     "name": "stdout",
     "output_type": "stream",
     "text": [
      "True\n",
      "False\n"
     ]
    }
   ],
   "source": [
    "print(\"apple\" < \"banana\") \n",
    "print(\"apple\" == \"Apple\") "
   ]
  },
  {
   "cell_type": "markdown",
   "id": "7d4ba76d-aee3-4240-bd9f-3672522ed203",
   "metadata": {},
   "source": [
    "## Built-in Functions of Python"
   ]
  },
  {
   "cell_type": "code",
   "execution_count": 58,
   "id": "333afe4b-ce14-4a87-9954-b34c1fbcb418",
   "metadata": {},
   "outputs": [],
   "source": [
    "#Description: Returns the absolute value of a number, making negative numbers positive."
   ]
  },
  {
   "cell_type": "code",
   "execution_count": 60,
   "id": "7deca7db-c33b-461a-acc2-ebb5091705d0",
   "metadata": {},
   "outputs": [
    {
     "name": "stdout",
     "output_type": "stream",
     "text": [
      "10\n"
     ]
    }
   ],
   "source": [
    "num = -10\n",
    "print(abs(num))  "
   ]
  },
  {
   "cell_type": "code",
   "execution_count": 62,
   "id": "b4d2b28f-d6ca-408d-a61b-4ccdc84a228d",
   "metadata": {},
   "outputs": [
    {
     "name": "stdout",
     "output_type": "stream",
     "text": [
      "140731395488312\n"
     ]
    }
   ],
   "source": [
    "#Description: Returns the unique identifier (memory address) of an object.\n",
    "x = 5\n",
    "print(id(x))\n"
   ]
  },
  {
   "cell_type": "code",
   "execution_count": null,
   "id": "249b1059-cd36-4df7-8581-0f9ae5bb4438",
   "metadata": {},
   "outputs": [],
   "source": []
  }
 ],
 "metadata": {
  "kernelspec": {
   "display_name": "Python 3 (ipykernel)",
   "language": "python",
   "name": "python3"
  },
  "language_info": {
   "codemirror_mode": {
    "name": "ipython",
    "version": 3
   },
   "file_extension": ".py",
   "mimetype": "text/x-python",
   "name": "python",
   "nbconvert_exporter": "python",
   "pygments_lexer": "ipython3",
   "version": "3.12.4"
  }
 },
 "nbformat": 4,
 "nbformat_minor": 5
}
