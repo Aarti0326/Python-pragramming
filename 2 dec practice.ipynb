{
 "cells": [
  {
   "cell_type": "markdown",
   "id": "faff53c7-a7fc-4539-9993-8a0262ba26a4",
   "metadata": {},
   "source": [
    "## 1. Simple Calculator Description: A basic calculator program that can perform simple operations like addition, subtraction, multiplication, and division. You can also add functionality for more operations like exponentiation and modulus. Key Concepts: Functions, user input, if-else statements."
   ]
  },
  {
   "cell_type": "code",
   "execution_count": 17,
   "id": "05862aba-4702-4b8c-8a7c-ccb8435cecff",
   "metadata": {},
   "outputs": [
    {
     "name": "stdout",
     "output_type": "stream",
     "text": [
      "Welcome to the Simple Calculator!\n",
      "Operations:  (Addition), (Subtraction),  (Multiplication),  (Division),  (Exponentiation),  (Modulus)\n"
     ]
    },
    {
     "name": "stdin",
     "output_type": "stream",
     "text": [
      "Enter the first number:  5\n",
      "Enter an operation (+, -, *, /, ^, %):  3\n",
      "Enter the second number:  2\n"
     ]
    },
    {
     "name": "stdout",
     "output_type": "stream",
     "text": [
      "Result: Invalid operation! Please try again.\n"
     ]
    },
    {
     "name": "stdin",
     "output_type": "stream",
     "text": [
      "Do you want to perform another calculation? (yes/no):  yes\n",
      "Enter the first number:  14\n",
      "Enter an operation (+, -, *, /, ^, %):  *\n",
      "Enter the second number:  6\n"
     ]
    },
    {
     "name": "stdout",
     "output_type": "stream",
     "text": [
      "Result: 84.0\n"
     ]
    },
    {
     "name": "stdin",
     "output_type": "stream",
     "text": [
      "Do you want to perform another calculation? (yes/no):  no\n"
     ]
    },
    {
     "name": "stdout",
     "output_type": "stream",
     "text": [
      "Thank you for using the Simple Calculator! Goodbye!\n"
     ]
    }
   ],
   "source": [
    "# Simple Calculator Program\n",
    "\n",
    "# Define functions for operations\n",
    "def add(a, b):\n",
    "    return a + b\n",
    "\n",
    "def subtract(a, b):\n",
    "    return a - b\n",
    "\n",
    "def multiply(a, b):\n",
    "    return a * b\n",
    "\n",
    "def divide(a, b):\n",
    "    if b != 0:\n",
    "        return a / b\n",
    "    else:\n",
    "        return \"Error! Division by zero.\"\n",
    "\n",
    "def exponentiate(a, b):\n",
    "    return a ** b\n",
    "\n",
    "def modulus(a, b):\n",
    "    return a % b\n",
    "\n",
    "# Main program loop\n",
    "def calculator():\n",
    "    print(\"Welcome to the Simple Calculator!\")\n",
    "    print(\"Operations:  (Addition), (Subtraction),  (Multiplication),  (Division),  (Exponentiation),  (Modulus)\")\n",
    "    \n",
    "    while True:\n",
    "        # Get user input\n",
    "        num1 = float(input(\"Enter the first number: \"))\n",
    "        operation = input(\"Enter an operation (+, -, *, /, ^, %): \")\n",
    "        num2 = float(input(\"Enter the second number: \"))\n",
    "        \n",
    "        # Perform the selected operation\n",
    "        if operation == '+':\n",
    "            result = add(num1, num2)\n",
    "        elif operation == '-':\n",
    "            result = subtract(num1, num2)\n",
    "        elif operation == '*':\n",
    "            result = multiply(num1, num2)\n",
    "        elif operation == '/':\n",
    "            result = divide(num1, num2)\n",
    "        elif operation == '^':\n",
    "            result = exponentiate(num1, num2)\n",
    "        elif operation == '%':\n",
    "            result = modulus(num1, num2)\n",
    "        else:\n",
    "            result = \"Invalid operation! Please try again.\"\n",
    "        \n",
    "        print(f\"Result: {result}\")\n",
    "        \n",
    "        # Check if the user wants to continue\n",
    "        cont = input(\"Do you want to perform another calculation? (yes/no): \").strip().lower()\n",
    "        if cont != 'yes':\n",
    "            print(\"Thank you for using the Simple Calculator! Goodbye!\")\n",
    "            break\n",
    "\n",
    "# Run the calculator\n",
    "calculator()\n",
    "\n"
   ]
  },
  {
   "cell_type": "code",
   "execution_count": null,
   "id": "7e8b8872-787d-4108-b822-7082bcbb76e9",
   "metadata": {},
   "outputs": [],
   "source": []
  }
 ],
 "metadata": {
  "kernelspec": {
   "display_name": "Python 3 (ipykernel)",
   "language": "python",
   "name": "python3"
  },
  "language_info": {
   "codemirror_mode": {
    "name": "ipython",
    "version": 3
   },
   "file_extension": ".py",
   "mimetype": "text/x-python",
   "name": "python",
   "nbconvert_exporter": "python",
   "pygments_lexer": "ipython3",
   "version": "3.12.4"
  }
 },
 "nbformat": 4,
 "nbformat_minor": 5
}
