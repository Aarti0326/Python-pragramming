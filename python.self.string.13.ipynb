{
 "cells": [
  {
   "cell_type": "markdown",
   "id": "2727d1fb-11a2-4a5e-a1cd-e499ca78429b",
   "metadata": {},
   "source": [
    "##### write a python function that takes a date string in the format \"YYYY-MM-DD\" and returns a tuple containg the year,month and day as integers.\n",
    "Example Input \"2024-05-28\"\n",
    "\n",
    "expected output: (2024,5,28)\n"
   ]
  },
  {
   "cell_type": "code",
   "execution_count": 2,
   "id": "2636fff4-f2be-4fbf-85aa-5d2a0665b1bf",
   "metadata": {},
   "outputs": [],
   "source": [
    "def extract_date_parts(date_string):\n",
    "    year=int(date_string[0:4])\n",
    "    month=int(date_string[5:7])\n",
    "    day=int(date_string[8:])\n",
    "    return (year,month,day)"
   ]
  },
  {
   "cell_type": "code",
   "execution_count": 3,
   "id": "7f28d9ab-036e-4e93-a020-c9c01bb7bdaa",
   "metadata": {},
   "outputs": [
    {
     "data": {
      "text/plain": [
       "(2024, 5, 28)"
      ]
     },
     "execution_count": 3,
     "metadata": {},
     "output_type": "execute_result"
    }
   ],
   "source": [
    "extract_date_parts(\"2024-05-28\")"
   ]
  },
  {
   "cell_type": "code",
   "execution_count": 4,
   "id": "11138aa4-9ee6-4b9c-a86b-3fc0df84fbc9",
   "metadata": {},
   "outputs": [
    {
     "data": {
      "text/plain": [
       "(2024, 8, 12)"
      ]
     },
     "execution_count": 4,
     "metadata": {},
     "output_type": "execute_result"
    }
   ],
   "source": [
    "extract_date_parts(\"2024-08-12\")"
   ]
  },
  {
   "cell_type": "code",
   "execution_count": 5,
   "id": "099d2d7c-2233-4d9f-a53c-4ae8bd9a5a16",
   "metadata": {},
   "outputs": [
    {
     "name": "stdout",
     "output_type": "stream",
     "text": [
      "ycilop tseb eht si ytsenoh\n"
     ]
    }
   ],
   "source": [
    "#write a python program to reverse the string \"honesty is the best policy\"\n",
    "\n",
    "str =\"honesty is the best policy\"\n",
    "print(str[::-1])"
   ]
  },
  {
   "cell_type": "code",
   "execution_count": 23,
   "id": "c3e91014-deae-4754-bb54-a675759dbf1e",
   "metadata": {},
   "outputs": [
    {
     "name": "stdout",
     "output_type": "stream",
     "text": [
      "a Sci\n",
      "o wor\n",
      " the \n"
     ]
    }
   ],
   "source": [
    "# write a python function that takes a string as input and returns the subtracting from the 3rd to the 8th character.\n",
    "\n",
    "a=\"Data Science\"\n",
    "b=\"helo world, i am learning python\"\n",
    "c=\"All the best\"\n",
    "\n",
    "print(a[3:8])\n",
    "print(b[3:8])\n",
    "print(c[3:8])\n"
   ]
  },
  {
   "cell_type": "code",
   "execution_count": 25,
   "id": "1ca8f8a7-2993-435c-ad9f-8f9b32327b2d",
   "metadata": {},
   "outputs": [],
   "source": [
    "a=\"helloworld\""
   ]
  },
  {
   "cell_type": "code",
   "execution_count": 27,
   "id": "4b19f65f-292c-437e-a0b9-b99a97e1badc",
   "metadata": {},
   "outputs": [
    {
     "name": "stdout",
     "output_type": "stream",
     "text": [
      "ello\n"
     ]
    }
   ],
   "source": [
    "print(a[1:5])"
   ]
  },
  {
   "cell_type": "code",
   "execution_count": 29,
   "id": "d019d470-b19b-4ae2-bed0-d5afb478daa1",
   "metadata": {},
   "outputs": [
    {
     "name": "stdout",
     "output_type": "stream",
     "text": [
      "p\n"
     ]
    }
   ],
   "source": [
    "b=\"programming\"\n",
    "print(b[0])"
   ]
  },
  {
   "cell_type": "code",
   "execution_count": 33,
   "id": "ed2f2297-9c2b-4f1e-8df3-65abb7a42b57",
   "metadata": {},
   "outputs": [
    {
     "name": "stdout",
     "output_type": "stream",
     "text": [
      "Artifi\n"
     ]
    }
   ],
   "source": [
    "s=\"Artificial\"\n",
    "print(s[:-4])"
   ]
  },
  {
   "cell_type": "code",
   "execution_count": 35,
   "id": "df97d07c-6168-4072-8249-17ce8d00ee36",
   "metadata": {},
   "outputs": [
    {
     "name": "stdout",
     "output_type": "stream",
     "text": [
      "ficial\n"
     ]
    }
   ],
   "source": [
    "t=\"Artificial\"\n",
    "print(t[4:])"
   ]
  },
  {
   "cell_type": "code",
   "execution_count": null,
   "id": "191a38a5-561a-4f39-8add-2fcf28faa2f9",
   "metadata": {},
   "outputs": [],
   "source": []
  }
 ],
 "metadata": {
  "kernelspec": {
   "display_name": "Python 3 (ipykernel)",
   "language": "python",
   "name": "python3"
  },
  "language_info": {
   "codemirror_mode": {
    "name": "ipython",
    "version": 3
   },
   "file_extension": ".py",
   "mimetype": "text/x-python",
   "name": "python",
   "nbconvert_exporter": "python",
   "pygments_lexer": "ipython3",
   "version": "3.12.4"
  }
 },
 "nbformat": 4,
 "nbformat_minor": 5
}
