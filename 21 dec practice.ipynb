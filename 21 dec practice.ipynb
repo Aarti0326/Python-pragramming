{
 "cells": [
  {
   "cell_type": "markdown",
   "id": "3892dec0-5695-499a-8e6c-bad0066851fe",
   "metadata": {},
   "source": [
    "### User will input (3ages).Find the oldest one"
   ]
  },
  {
   "cell_type": "code",
   "execution_count": 3,
   "id": "c938a92b-fb13-47d6-9665-41fe3ef65316",
   "metadata": {},
   "outputs": [
    {
     "name": "stdin",
     "output_type": "stream",
     "text": [
      "Enter the first age:  18\n",
      "Enter the second age:  56\n",
      "Enter the third age:  80\n"
     ]
    },
    {
     "name": "stdout",
     "output_type": "stream",
     "text": [
      "the oldest age is 80\n"
     ]
    }
   ],
   "source": [
    "age1 = int(input(\"Enter the first age: \"))\n",
    "age2 = int(input(\"Enter the second age: \"))\n",
    "age3 = int(input(\"Enter the third age: \"))\n",
    "\n",
    "oldest = max(age1,age2,age3)\n",
    "print(f\"the oldest age is {oldest}\")"
   ]
  },
  {
   "cell_type": "markdown",
   "id": "d85e8358-7cc2-4fb3-9be6-b3ac51be8ef7",
   "metadata": {},
   "source": [
    "### find youngest one"
   ]
  },
  {
   "cell_type": "code",
   "execution_count": 12,
   "id": "4070e4e2-d449-4915-85e4-e79f5ea20867",
   "metadata": {},
   "outputs": [
    {
     "name": "stdin",
     "output_type": "stream",
     "text": [
      "Enter first person  age :  18\n",
      "Enter second person  age :  33\n",
      "Enter third person  age :  69\n"
     ]
    },
    {
     "name": "stdout",
     "output_type": "stream",
     "text": [
      "18  is the yougest person\n"
     ]
    }
   ],
   "source": [
    "a=int(input(\"Enter first person  age : \"))\n",
    "b=int(input(\"Enter second person  age : \"))\n",
    "c=int(input(\"Enter third person  age : \"))\n",
    "if a<b and a<c:\n",
    "        print(a,\" is the yougest person\")\n",
    "elif b<a and b<c:\n",
    "        print(b,\" is the yougest person\")\n",
    "else:\n",
    "       print(c,\" is the yougest person\")"
   ]
  },
  {
   "cell_type": "markdown",
   "id": "0ac25b1d-eafe-412c-b0cc-efcf1d20f063",
   "metadata": {},
   "source": [
    "### swap the two numbers"
   ]
  },
  {
   "cell_type": "code",
   "execution_count": 11,
   "id": "230fd706-28ef-4d37-85d5-d5dada2f1558",
   "metadata": {},
   "outputs": [
    {
     "name": "stdin",
     "output_type": "stream",
     "text": [
      "Enter the first number:  10\n",
      "Enter the second number:  20\n"
     ]
    },
    {
     "name": "stdout",
     "output_type": "stream",
     "text": [
      "after swapping num1 = 20 , num2 = 10\n"
     ]
    }
   ],
   "source": [
    "# Input two numbers\n",
    "num1 = int(input(\"Enter the first number: \"))\n",
    "num2 = int(input(\"Enter the second number: \"))\n",
    "#swapping the numbers\n",
    "num1,num2 = num2,num1\n",
    "print(f\"after swapping num1 = {num1 } , num2 = {num2}\")"
   ]
  },
  {
   "cell_type": "markdown",
   "id": "03a331ab-d830-4386-8f22-c12a450570e4",
   "metadata": {},
   "source": [
    "### Write a program that will give you the sum of 3 digits"
   ]
  },
  {
   "cell_type": "code",
   "execution_count": 14,
   "id": "1f708c16-d36a-4e87-95d5-a3d856911870",
   "metadata": {},
   "outputs": [
    {
     "name": "stdin",
     "output_type": "stream",
     "text": [
      "Enter the first digit:  10\n",
      "Enter the second digit:  30\n",
      "Enter the third digit:  10\n"
     ]
    },
    {
     "name": "stdout",
     "output_type": "stream",
     "text": [
      "50\n"
     ]
    }
   ],
   "source": [
    "digit1 = int(input(\"Enter the first digit: \"))\n",
    "digit2 = int(input(\"Enter the second digit: \"))\n",
    "digit3 = int(input(\"Enter the third digit: \"))\n",
    "\n",
    "sum_of_digits = digit1+digit2+digit3\n",
    "print(sum_of_digits)"
   ]
  },
  {
   "cell_type": "markdown",
   "id": "0d65c80f-55ab-41c7-bebc-5a1a74d5f704",
   "metadata": {},
   "source": [
    "### Write a program that will reverse a four digit number.Also it checks whether the reverse is true."
   ]
  },
  {
   "cell_type": "code",
   "execution_count": 17,
   "id": "89a7513a-c8e2-4238-93d9-671a848a93d3",
   "metadata": {},
   "outputs": [
    {
     "name": "stdin",
     "output_type": "stream",
     "text": [
      "Enter a four-digit number:  1221\n"
     ]
    },
    {
     "name": "stdout",
     "output_type": "stream",
     "text": [
      "the reverse of number is 1221, and it is a palindrome\n"
     ]
    }
   ],
   "source": [
    "num = input(\"Enter a four-digit number: \")\n",
    "\n",
    "reverse_num = num[::-1]\n",
    "\n",
    "# Check if the original and reversed numbers are the same\n",
    "if num == reverse_num:\n",
    "    print(f\"the reverse of number is {reverse_num}, and it is a palindrome\")\n",
    "else:\n",
    "     print(f\"The reverse of  number is {reversed_num}, and it is not a palindrome.\")"
   ]
  },
  {
   "cell_type": "code",
   "execution_count": null,
   "id": "16b592a6-fc5a-481e-b27e-f31e023a0080",
   "metadata": {},
   "outputs": [],
   "source": []
  }
 ],
 "metadata": {
  "kernelspec": {
   "display_name": "Python 3 (ipykernel)",
   "language": "python",
   "name": "python3"
  },
  "language_info": {
   "codemirror_mode": {
    "name": "ipython",
    "version": 3
   },
   "file_extension": ".py",
   "mimetype": "text/x-python",
   "name": "python",
   "nbconvert_exporter": "python",
   "pygments_lexer": "ipython3",
   "version": "3.12.4"
  }
 },
 "nbformat": 4,
 "nbformat_minor": 5
}
