{
 "cells": [
  {
   "cell_type": "markdown",
   "id": "8ca945fa-512b-45ea-81cf-bde8d9d96dda",
   "metadata": {},
   "source": [
    "###  How do you check if a key exists in a dictionary?"
   ]
  },
  {
   "cell_type": "code",
   "execution_count": 2,
   "id": "d12ca473-ea81-492a-9d0b-79a4f0207430",
   "metadata": {},
   "outputs": [
    {
     "name": "stdout",
     "output_type": "stream",
     "text": [
      "Key exists\n"
     ]
    }
   ],
   "source": [
    "my_dict = {\"name\": \"Aarti\", \"age\": 25}\n",
    "if \"name\" in my_dict:\n",
    "    print(\"Key exists\")  \n",
    "else:\n",
    "    print(\"Key does not exist\")\n"
   ]
  },
  {
   "cell_type": "markdown",
   "id": "f4bdcc3a-aa52-4fa7-a0a9-3baa8d4f90cc",
   "metadata": {},
   "source": [
    "### Write a Python program to remove an element from a list by value."
   ]
  },
  {
   "cell_type": "code",
   "execution_count": 5,
   "id": "c544d840-ae1f-4944-a8af-8acf9a05269f",
   "metadata": {},
   "outputs": [],
   "source": [
    "##Use the remove() method."
   ]
  },
  {
   "cell_type": "code",
   "execution_count": 7,
   "id": "47ee80d4-f674-4a64-9f03-3e6d26c49e3e",
   "metadata": {},
   "outputs": [
    {
     "name": "stdout",
     "output_type": "stream",
     "text": [
      "[1, 2, 4]\n"
     ]
    }
   ],
   "source": [
    "my_list = [1,2,3,4]\n",
    "my_list.remove(3)\n",
    "print(my_list)"
   ]
  },
  {
   "cell_type": "markdown",
   "id": "bf61b1d4-883f-4548-804d-316085dce0c9",
   "metadata": {},
   "source": [
    "### How do you create a list comprehension in Python?"
   ]
  },
  {
   "cell_type": "markdown",
   "id": "dbcdce84-209b-4b67-b215-6b24238b8fda",
   "metadata": {},
   "source": [
    "-  Use a compact way to create a new list by applying an expression to each item in an existing list."
   ]
  },
  {
   "cell_type": "code",
   "execution_count": 11,
   "id": "475b5f30-9619-427a-877d-84b5858238b8",
   "metadata": {},
   "outputs": [
    {
     "name": "stdout",
     "output_type": "stream",
     "text": [
      "[1, 4, 9, 16]\n"
     ]
    }
   ],
   "source": [
    "numbers = [1,2,3,4]\n",
    "squares = [x**2 for x in numbers]\n",
    "print(squares)"
   ]
  },
  {
   "cell_type": "markdown",
   "id": "62fd57b3-5be6-464c-bdf3-61a659d06a39",
   "metadata": {},
   "source": [
    "### Write a Python program to count vowels in a string."
   ]
  },
  {
   "cell_type": "code",
   "execution_count": 14,
   "id": "bfe7cb7d-5ede-4ceb-91a0-154f5dbb7ab1",
   "metadata": {},
   "outputs": [
    {
     "name": "stdout",
     "output_type": "stream",
     "text": [
      "3\n"
     ]
    }
   ],
   "source": [
    "def count_vowels(s):\n",
    "    vowels = \"aeiou\"\n",
    "    count = sum(1 for char in s.lower() if char in vowels)\n",
    "    return count\n",
    "\n",
    "print(count_vowels(\"Hello World\")) \n"
   ]
  },
  {
   "cell_type": "markdown",
   "id": "841e2c3f-921c-4908-ae90-4ac8a61f36f4",
   "metadata": {},
   "source": [
    "### How do you find the index of an element in a list?"
   ]
  },
  {
   "cell_type": "markdown",
   "id": "88390d75-4ae4-489c-8ced-819d29988d43",
   "metadata": {},
   "source": [
    "- Use the index() method."
   ]
  },
  {
   "cell_type": "code",
   "execution_count": 22,
   "id": "757ac4b6-9418-41c2-ab33-45a4caf216cd",
   "metadata": {},
   "outputs": [
    {
     "name": "stdout",
     "output_type": "stream",
     "text": [
      "2\n"
     ]
    }
   ],
   "source": [
    "my_list = [10, 20, 30, 40]\n",
    "print(my_list.index(30))"
   ]
  },
  {
   "cell_type": "markdown",
   "id": "1ff2197d-8b23-4d47-b262-48be4bdec0df",
   "metadata": {},
   "source": [
    "###  Write a Python program to flatten a nested list."
   ]
  },
  {
   "cell_type": "markdown",
   "id": "0a778129-b2e9-4612-9d75-b717d6b0c92a",
   "metadata": {},
   "source": [
    "- Use a loop or list comprehension."
   ]
  },
  {
   "cell_type": "code",
   "execution_count": 26,
   "id": "615b7df8-93bb-44b4-8b5e-ff0dd69679f8",
   "metadata": {},
   "outputs": [
    {
     "name": "stdout",
     "output_type": "stream",
     "text": [
      "[1, 2, 3, 4, 5]\n"
     ]
    }
   ],
   "source": [
    "nested_list = [[1, 2], [3, 4], [5]]\n",
    "flattened = [item for sublist in nested_list for item in sublist]\n",
    "print(flattened)"
   ]
  },
  {
   "cell_type": "markdown",
   "id": "3dfb4cf3-dd72-4ffe-85b5-c1c91b3daf24",
   "metadata": {},
   "source": [
    "### What is the purpose of the zip() function in Python?"
   ]
  },
  {
   "cell_type": "markdown",
   "id": "a0cd94b4-c848-42b2-b029-e87bff2bc580",
   "metadata": {},
   "source": [
    "- zip() combines two or more iterables (e.g., lists) into a single iterable of tuples."
   ]
  },
  {
   "cell_type": "code",
   "execution_count": 30,
   "id": "c8871a00-9082-4c86-b3c4-774cbcb64608",
   "metadata": {},
   "outputs": [
    {
     "name": "stdout",
     "output_type": "stream",
     "text": [
      "[(1, 'a'), (2, 'b'), (3, 'c')]\n"
     ]
    }
   ],
   "source": [
    "list1 = [1, 2, 3]\n",
    "list2 = ['a', 'b', 'c']\n",
    "zipped = list(zip(list1,list2))\n",
    "print(zipped)"
   ]
  },
  {
   "cell_type": "markdown",
   "id": "b15d849b-7695-4575-b1e9-e4bdcb9c64ce",
   "metadata": {},
   "source": [
    "### How do you generate a list of numbers in a range with a step?"
   ]
  },
  {
   "cell_type": "markdown",
   "id": "cf97bd3c-ffc4-4826-94e7-ab024dc2b2f8",
   "metadata": {},
   "source": [
    "- Use the range() function with a step argument."
   ]
  },
  {
   "cell_type": "code",
   "execution_count": 35,
   "id": "99487a78-4a08-4386-b376-8cf068880060",
   "metadata": {},
   "outputs": [
    {
     "name": "stdout",
     "output_type": "stream",
     "text": [
      "[0, 2, 4, 6, 8]\n"
     ]
    }
   ],
   "source": [
    "numbers = list(range(0, 10, 2))\n",
    "print(numbers) "
   ]
  },
  {
   "cell_type": "markdown",
   "id": "0f902771-c1da-42b8-be74-346051d52eb6",
   "metadata": {},
   "source": [
    "### Write a Python program to check if all elements in a list are unique."
   ]
  },
  {
   "cell_type": "code",
   "execution_count": 38,
   "id": "4647d11d-9e30-4d9c-9454-caa7a0ae92b0",
   "metadata": {},
   "outputs": [
    {
     "name": "stdout",
     "output_type": "stream",
     "text": [
      "True\n",
      "False\n"
     ]
    }
   ],
   "source": [
    "def are_elements_unique(list):\n",
    "    return len(list)==len(set(list))\n",
    "print(are_elements_unique([1, 2, 3, 4]))  \n",
    "print(are_elements_unique([1, 2, 2, 4]))  "
   ]
  }
 ],
 "metadata": {
  "kernelspec": {
   "display_name": "Python 3 (ipykernel)",
   "language": "python",
   "name": "python3"
  },
  "language_info": {
   "codemirror_mode": {
    "name": "ipython",
    "version": 3
   },
   "file_extension": ".py",
   "mimetype": "text/x-python",
   "name": "python",
   "nbconvert_exporter": "python",
   "pygments_lexer": "ipython3",
   "version": "3.12.4"
  }
 },
 "nbformat": 4,
 "nbformat_minor": 5
}
