{
 "cells": [
  {
   "cell_type": "markdown",
   "id": "68ceaf57-04c7-43be-a959-30f7f10e62b5",
   "metadata": {},
   "source": [
    "## Join a List of Words into a String"
   ]
  },
  {
   "cell_type": "code",
   "execution_count": 2,
   "id": "0ea3685f-136b-44f3-b932-66bc50a2dc4a",
   "metadata": {},
   "outputs": [
    {
     "name": "stdout",
     "output_type": "stream",
     "text": [
      "Python is fun\n"
     ]
    }
   ],
   "source": [
    "words = [\"Python\", \"is\", \"fun\"]\n",
    "sentence = \" \".join(words)\n",
    "print(sentence)"
   ]
  },
  {
   "cell_type": "markdown",
   "id": "105704b1-e00f-41d1-ae73-4e8092ff5a03",
   "metadata": {},
   "source": [
    "## Check if a String Contains Only Digits"
   ]
  },
  {
   "cell_type": "code",
   "execution_count": 5,
   "id": "64a57522-937a-48c4-a59e-aef58507c441",
   "metadata": {},
   "outputs": [
    {
     "name": "stdout",
     "output_type": "stream",
     "text": [
      "String contains only digits\n"
     ]
    }
   ],
   "source": [
    "text = \"12345\"\n",
    "if text.isdigit():\n",
    "    print(\"String contains only digits\")\n",
    "else:\n",
    "    print(\"String contains non-digit characters\")"
   ]
  },
  {
   "cell_type": "markdown",
   "id": "d6b9ad12-0765-4026-94b0-d47c74711025",
   "metadata": {},
   "source": [
    "## Capitalize the First Letter of Each Word"
   ]
  },
  {
   "cell_type": "code",
   "execution_count": 8,
   "id": "63f5d383-1bcb-4378-8fe7-a8cc1203174a",
   "metadata": {},
   "outputs": [
    {
     "name": "stdout",
     "output_type": "stream",
     "text": [
      "Hello World\n"
     ]
    }
   ],
   "source": [
    "text = \"hello world\"\n",
    "capitalized_text = text.title()\n",
    "print(capitalized_text)"
   ]
  },
  {
   "cell_type": "markdown",
   "id": "0ff5e58d-5fd9-471c-a6f4-f14d7bbbc81c",
   "metadata": {},
   "source": [
    "## Check if a String is Alphanumeric"
   ]
  },
  {
   "cell_type": "code",
   "execution_count": 16,
   "id": "019464d0-833f-4757-b06b-8a5471c52102",
   "metadata": {},
   "outputs": [
    {
     "name": "stdout",
     "output_type": "stream",
     "text": [
      "String is alphanumeric\n"
     ]
    }
   ],
   "source": [
    "text = \"python123\"\n",
    "if text.isalnum():\n",
    "    print(\"String is alphanumeric\")\n",
    "else:\n",
    "    print(\"String is not alphanumeric\")"
   ]
  },
  {
   "cell_type": "markdown",
   "id": "b10f874d-bb30-4866-8092-17907cae45fd",
   "metadata": {},
   "source": [
    "## Convert a String to a List of Characters"
   ]
  },
  {
   "cell_type": "code",
   "execution_count": 19,
   "id": "e3ce5b9f-e60b-43bd-82d2-1dac717f873b",
   "metadata": {},
   "outputs": [
    {
     "name": "stdout",
     "output_type": "stream",
     "text": [
      "['h', 'e', 'l', 'l', 'o']\n"
     ]
    }
   ],
   "source": [
    "text = \"hello\"\n",
    "char_list = list(text)\n",
    "print(char_list)  \n"
   ]
  },
  {
   "cell_type": "code",
   "execution_count": null,
   "id": "60e82a1b-e9a8-433d-a38c-347f41eeeb1a",
   "metadata": {},
   "outputs": [],
   "source": []
  }
 ],
 "metadata": {
  "kernelspec": {
   "display_name": "Python 3 (ipykernel)",
   "language": "python",
   "name": "python3"
  },
  "language_info": {
   "codemirror_mode": {
    "name": "ipython",
    "version": 3
   },
   "file_extension": ".py",
   "mimetype": "text/x-python",
   "name": "python",
   "nbconvert_exporter": "python",
   "pygments_lexer": "ipython3",
   "version": "3.12.4"
  }
 },
 "nbformat": 4,
 "nbformat_minor": 5
}
