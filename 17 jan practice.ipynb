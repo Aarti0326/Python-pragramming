{
 "cells": [
  {
   "cell_type": "markdown",
   "id": "611405f5-f741-4bd9-b840-40f67ec73d64",
   "metadata": {},
   "source": [
    "### Write a program to print a pyramid pattern using nested loops."
   ]
  },
  {
   "cell_type": "code",
   "execution_count": 2,
   "id": "17419ab0-2fb2-47a2-aeb0-65aadcd1eb50",
   "metadata": {},
   "outputs": [
    {
     "name": "stdout",
     "output_type": "stream",
     "text": [
      "    *\n",
      "   ***\n",
      "  *****\n",
      " *******\n",
      "*********\n"
     ]
    }
   ],
   "source": [
    "n = 5\n",
    "for i in range(1, n + 1):\n",
    "    print(\" \" * (n - i) + \"*\" * (2 * i - 1))\n"
   ]
  },
  {
   "cell_type": "markdown",
   "id": "4858eed1-c569-4625-8584-681c003e789e",
   "metadata": {},
   "source": [
    "### What is a function in Python?"
   ]
  },
  {
   "cell_type": "code",
   "execution_count": 4,
   "id": "8f71a4c2-7565-4172-9950-67cefaea2025",
   "metadata": {},
   "outputs": [
    {
     "name": "stdout",
     "output_type": "stream",
     "text": [
      "Hello,welcome to python!\n"
     ]
    }
   ],
   "source": [
    "def greet():\n",
    "    print(\"Hello,welcome to python!\")\n",
    "greet()"
   ]
  },
  {
   "cell_type": "markdown",
   "id": "008d87f9-d814-4a23-ab61-bdefe1f9a30d",
   "metadata": {},
   "source": [
    "### Write a program to find the square of a number using a function."
   ]
  },
  {
   "cell_type": "code",
   "execution_count": 11,
   "id": "107317b8-846c-42b0-b207-09590071886c",
   "metadata": {},
   "outputs": [
    {
     "name": "stdout",
     "output_type": "stream",
     "text": [
      "25\n"
     ]
    }
   ],
   "source": [
    "def square(num):\n",
    "    return num**2\n",
    "print(square(5))"
   ]
  },
  {
   "cell_type": "markdown",
   "id": "a3eaa5ae-2da5-40ea-80a4-66666b0254ad",
   "metadata": {},
   "source": [
    "### Write a program using default arguments."
   ]
  },
  {
   "cell_type": "code",
   "execution_count": 14,
   "id": "424e51bd-c36b-4fe6-af26-9fc97f013dc2",
   "metadata": {},
   "outputs": [
    {
     "name": "stdout",
     "output_type": "stream",
     "text": [
      "Hello, User!\n",
      "Hello, Aarti!\n"
     ]
    }
   ],
   "source": [
    "def greet(name=\"User\"):\n",
    "    print(f\"Hello, {name}!\")\n",
    "greet()\n",
    "greet(\"Aarti\")\n"
   ]
  },
  {
   "cell_type": "code",
   "execution_count": null,
   "id": "3e04c984-4637-4726-969a-b1617f5087b4",
   "metadata": {},
   "outputs": [],
   "source": []
  }
 ],
 "metadata": {
  "kernelspec": {
   "display_name": "Python 3 (ipykernel)",
   "language": "python",
   "name": "python3"
  },
  "language_info": {
   "codemirror_mode": {
    "name": "ipython",
    "version": 3
   },
   "file_extension": ".py",
   "mimetype": "text/x-python",
   "name": "python",
   "nbconvert_exporter": "python",
   "pygments_lexer": "ipython3",
   "version": "3.12.4"
  }
 },
 "nbformat": 4,
 "nbformat_minor": 5
}
