{
 "cells": [
  {
   "cell_type": "markdown",
   "id": "a33c6281-fac8-4283-8d69-7dda00a7ac77",
   "metadata": {},
   "source": [
    "## How do you generate random numbers in Python?"
   ]
  },
  {
   "cell_type": "code",
   "execution_count": 6,
   "id": "646d6b53-b6b9-4389-aff0-b52131bf539e",
   "metadata": {},
   "outputs": [
    {
     "name": "stdout",
     "output_type": "stream",
     "text": [
      "9\n",
      "6.868045106540184\n"
     ]
    }
   ],
   "source": [
    "import random\n",
    "\n",
    "# Random number between 1 and 10\n",
    "num = random.randint(1, 10)\n",
    "print(num)\n",
    "\n",
    "# Random floating-point number\n",
    "num_float = random.uniform(1, 10)\n",
    "print(num_float)\n"
   ]
  },
  {
   "cell_type": "markdown",
   "id": "b71e7c07-d27b-4893-9c84-6a01eff9bdd9",
   "metadata": {},
   "source": [
    "## How do you find the factorial of a number in Python?"
   ]
  },
  {
   "cell_type": "code",
   "execution_count": 8,
   "id": "73e2cef1-e44a-434d-a5af-d0191e4d2e1f",
   "metadata": {},
   "outputs": [
    {
     "name": "stdout",
     "output_type": "stream",
     "text": [
      "120\n"
     ]
    }
   ],
   "source": [
    "import math\n",
    "num = 5\n",
    "factorial = math.factorial(num)\n",
    "print(factorial)"
   ]
  },
  {
   "cell_type": "code",
   "execution_count": null,
   "id": "bc65864e-4a8c-4843-afb1-2d7408458295",
   "metadata": {},
   "outputs": [],
   "source": []
  }
 ],
 "metadata": {
  "kernelspec": {
   "display_name": "Python 3 (ipykernel)",
   "language": "python",
   "name": "python3"
  },
  "language_info": {
   "codemirror_mode": {
    "name": "ipython",
    "version": 3
   },
   "file_extension": ".py",
   "mimetype": "text/x-python",
   "name": "python",
   "nbconvert_exporter": "python",
   "pygments_lexer": "ipython3",
   "version": "3.12.4"
  }
 },
 "nbformat": 4,
 "nbformat_minor": 5
}
