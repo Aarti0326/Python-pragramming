{
 "cells": [
  {
   "cell_type": "markdown",
   "id": "0a723b9a-7276-4ec3-9f81-5ab1d08a3381",
   "metadata": {},
   "source": [
    "# For loop\n"
   ]
  },
  {
   "cell_type": "markdown",
   "id": "01ad9160-a387-4fcc-bdf4-631f2b6e180b",
   "metadata": {},
   "source": [
    "### in a python for loop is used to iterate over a sequence(such as a list,tuple,string,dictionary or range )and excecute block of code for each item in sequence "
   ]
  },
  {
   "cell_type": "code",
   "execution_count": 3,
   "id": "ed6916ce-b0a7-4c3d-8232-7493f4952ee7",
   "metadata": {},
   "outputs": [
    {
     "name": "stdout",
     "output_type": "stream",
     "text": [
      "1\n",
      "2\n",
      "3\n",
      "4\n",
      "5\n",
      "6\n"
     ]
    }
   ],
   "source": [
    "num=[1,2,3,4,5,6]\n",
    "for i in num:\n",
    "    print(i)"
   ]
  },
  {
   "cell_type": "code",
   "execution_count": 4,
   "id": "1a0ea4f5-3316-49f6-af92-8b7f505ae44e",
   "metadata": {},
   "outputs": [
    {
     "name": "stdout",
     "output_type": "stream",
     "text": [
      "0\n",
      "1\n",
      "2\n",
      "3\n",
      "4\n",
      "5\n",
      "6\n",
      "7\n",
      "8\n",
      "9\n",
      "10\n"
     ]
    }
   ],
   "source": [
    "for n in range(11):\n",
    "    print(n)\n"
   ]
  },
  {
   "cell_type": "code",
   "execution_count": 5,
   "id": "ac1eee1d-e77f-4ab6-8809-9075ed4eaa58",
   "metadata": {},
   "outputs": [
    {
     "name": "stdout",
     "output_type": "stream",
     "text": [
      "2\n",
      "3\n",
      "4\n",
      "5\n",
      "6\n",
      "7\n",
      "8\n",
      "9\n"
     ]
    }
   ],
   "source": [
    "for m in range(2,10):\n",
    "    print(m)"
   ]
  },
  {
   "cell_type": "markdown",
   "id": "2a65d734-e2e1-45ee-a3d9-35d5fde43be9",
   "metadata": {},
   "source": [
    "### for loop and if condition"
   ]
  },
  {
   "cell_type": "code",
   "execution_count": 7,
   "id": "8e740319-9668-4cbb-9d01-daa2473f986c",
   "metadata": {},
   "outputs": [
    {
     "name": "stdout",
     "output_type": "stream",
     "text": [
      "the number is odd 1\n",
      "the number is even 2\n",
      "the number is odd 3\n",
      "the number is even 4\n",
      "the number is odd 5\n",
      "the number is even 6\n",
      "the number is odd 7\n"
     ]
    }
   ],
   "source": [
    "for i in range(1,8):\n",
    "    if i%2==0:\n",
    "        print(\"the number is even\",i)\n",
    "    else:\n",
    "        print(\"the number is odd\",i)"
   ]
  },
  {
   "cell_type": "code",
   "execution_count": 8,
   "id": "3b74c103-3d02-4407-817d-28dfcde16d8b",
   "metadata": {},
   "outputs": [
    {
     "name": "stdin",
     "output_type": "stream",
     "text": [
      "enter the number  5\n"
     ]
    },
    {
     "name": "stdout",
     "output_type": "stream",
     "text": [
      "5\n"
     ]
    }
   ],
   "source": [
    "num=int(input(\"enter the number \"))\n",
    "print(num)"
   ]
  },
  {
   "cell_type": "code",
   "execution_count": 9,
   "id": "039294c0-b1e3-43c3-8dde-5a0bd88c9d67",
   "metadata": {},
   "outputs": [
    {
     "name": "stdout",
     "output_type": "stream",
     "text": [
      "5*0 = 0\n",
      "5*1 = 5\n",
      "5*2 = 10\n",
      "5*3 = 15\n",
      "5*4 = 20\n",
      "5*5 = 25\n",
      "5*6 = 30\n",
      "5*7 = 35\n",
      "5*8 = 40\n",
      "5*9 = 45\n",
      "5*10 = 50\n"
     ]
    }
   ],
   "source": [
    "for i in range(0,11):\n",
    "    print(f\"{num}*{i} = {num*i}\")"
   ]
  },
  {
   "cell_type": "code",
   "execution_count": 10,
   "id": "0711fbeb-f7bd-40b4-92eb-584b3013f9c7",
   "metadata": {},
   "outputs": [
    {
     "name": "stdin",
     "output_type": "stream",
     "text": [
      "enter the value 33\n"
     ]
    },
    {
     "name": "stdout",
     "output_type": "stream",
     "text": [
      "33\n"
     ]
    }
   ],
   "source": [
    "num1=int(input(\"enter the value\"))\n",
    "print(num1)"
   ]
  },
  {
   "cell_type": "code",
   "execution_count": 11,
   "id": "c9f2f475-a03a-4e35-92f0-1c93d084c87c",
   "metadata": {},
   "outputs": [
    {
     "name": "stdout",
     "output_type": "stream",
     "text": [
      "the number is odd 1\n",
      "33**1 = 33\n",
      "the number is even 2\n",
      "33**2 = 1089\n",
      "the number is odd 3\n",
      "33**3 = 35937\n",
      "the number is even 4\n",
      "33**4 = 1185921\n",
      "the number is odd 5\n",
      "33**5 = 39135393\n",
      "the number is even 6\n",
      "33**6 = 1291467969\n",
      "the number is odd 7\n",
      "33**7 = 42618442977\n",
      "the number is even 8\n",
      "33**8 = 1406408618241\n",
      "the number is odd 9\n",
      "33**9 = 46411484401953\n",
      "the number is even 10\n",
      "33**10 = 1531578985264449\n"
     ]
    }
   ],
   "source": [
    "for i in range(1,11):\n",
    "    if i%2==0:\n",
    "        print(\"the number is even\",i)\n",
    "    else:\n",
    "        print(\"the number is odd\",i)\n",
    "        \n",
    "    print(f\"{num1}**{i} = {num1**i}\")\n",
    "    "
   ]
  },
  {
   "cell_type": "markdown",
   "id": "679e656c-c695-4bb5-94ca-dcc60eba86a9",
   "metadata": {},
   "source": [
    "#### you are tasked with creating a program shoppers in calculating their total bill at a grocery store.the store offers discounts based on the total purchase amount.your task is to implement a python program that takes the price of each item purchased and calculates the total bill,including any applicable discounts.\n",
    "### the store offers the folllowing discounts rates\n",
    "#### based on the total purchase amount:\n",
    "####    :if the total purchase amount is \n",
    "#### $100 or more\n",
    "### the customer receives a 10% discount.\n",
    "#### if  : the total purchase amount is between $50 and 99.99,\n",
    "#### the customer recerives a 5% discount.\n",
    "#### if  :the total purchase amount is less than %50,\n",
    "#### no discount is applied.\n",
    "#### write a python program to prompt the user to enter the prices of the item they purchased.\n",
    "#### use for loop to iterate through the prices entered and calculate the subtotal.\n",
    "#### apply the appropriate discount based on the total purchase amount using if-else statement.finally print out the subtotal ,discount amount      (if any),and the total bill after applying the discount."
   ]
  },
  {
   "cell_type": "code",
   "execution_count": 13,
   "id": "1645d55a-91b3-48ad-b68c-0544e362c2ed",
   "metadata": {},
   "outputs": [
    {
     "name": "stdin",
     "output_type": "stream",
     "text": [
      "enter the number of items purchased 3\n",
      "enter the amount of item 100\n"
     ]
    },
    {
     "name": "stdout",
     "output_type": "stream",
     "text": [
      "total price is 100.0\n"
     ]
    },
    {
     "name": "stdin",
     "output_type": "stream",
     "text": [
      "enter the amount of item 200\n"
     ]
    },
    {
     "name": "stdout",
     "output_type": "stream",
     "text": [
      "total price is 300.0\n"
     ]
    },
    {
     "name": "stdin",
     "output_type": "stream",
     "text": [
      "enter the amount of item 300\n"
     ]
    },
    {
     "name": "stdout",
     "output_type": "stream",
     "text": [
      "total price is 600.0\n",
      "subtotal 540.0\n"
     ]
    }
   ],
   "source": [
    "num_items=int(input(\"enter the number of items purchased\"))\n",
    "total_price=0\n",
    "\n",
    "for i in range(num_items):\n",
    "    price=float(input(\"enter the amount of item\"))\n",
    "    total_price= total_price + price\n",
    "    i=i+1\n",
    "    print(\"total price is\",total_price)\n",
    "\n",
    "   # Determine the discount rate\n",
    "    #100 or more the customer receives a 10% discount\n",
    "if total_price >= 100:\n",
    "    discount_rate = 0.10*total_price\n",
    "\n",
    "    #the total purchase amount is between 50 and 99.99,the customer recerives a 5% discount\n",
    "\n",
    "elif 50<=total_price<100:\n",
    "    discount_rate = 0.05*total_price\n",
    "\n",
    "else:\n",
    "    discount_rate = 0.00  \n",
    "\n",
    "# Calculate the total bill after applying the discount\n",
    "total_bill = total_price - discount_rate\n",
    "print(\"subtotal\",total_bill)\n",
    "\n"
   ]
  },
  {
   "cell_type": "markdown",
   "id": "5c602885-8870-4c96-93aa-e3a71ccf6aa1",
   "metadata": {},
   "source": [
    "# break statement"
   ]
  },
  {
   "cell_type": "code",
   "execution_count": 46,
   "id": "cbf3b3f5-196f-441d-8160-27b0661550f8",
   "metadata": {},
   "outputs": [],
   "source": [
    "# we can use the break statement with the for loop to terminate the loop when a certain condition is met."
   ]
  },
  {
   "cell_type": "code",
   "execution_count": 38,
   "id": "c37aabd6-eeac-4ba8-933e-21d613268dab",
   "metadata": {},
   "outputs": [
    {
     "name": "stdout",
     "output_type": "stream",
     "text": [
      "0\n",
      "1\n",
      "2\n"
     ]
    }
   ],
   "source": [
    "for i in range(10):\n",
    "    if i==3:\n",
    "        break\n",
    "    print(i)"
   ]
  },
  {
   "cell_type": "code",
   "execution_count": 44,
   "id": "044e9412-78f1-4c62-9c55-dcaba5731d9d",
   "metadata": {},
   "outputs": [
    {
     "name": "stdout",
     "output_type": "stream",
     "text": [
      "0\n",
      "1\n",
      "2\n",
      "4\n",
      "5\n",
      "6\n",
      "7\n",
      "8\n",
      "9\n",
      "hello\n"
     ]
    }
   ],
   "source": [
    "for i in range(10):\n",
    "    if i==3:\n",
    "        continue\n",
    "    print(i)\n",
    "\n",
    "print(\"hello\")"
   ]
  },
  {
   "cell_type": "code",
   "execution_count": 86,
   "id": "3083dd08-6985-451d-ac44-089cb6b8bac0",
   "metadata": {},
   "outputs": [
    {
     "name": "stdout",
     "output_type": "stream",
     "text": [
      "0\n",
      "1\n",
      "1\n",
      "2\n",
      "2\n"
     ]
    }
   ],
   "source": [
    "i=[1,2,3,4,5]\n",
    "for i in numbers:\n",
    "    print(i//2)"
   ]
  },
  {
   "cell_type": "code",
   "execution_count": null,
   "id": "d01030ce-ed05-4780-b471-ca94e19d824b",
   "metadata": {},
   "outputs": [],
   "source": []
  }
 ],
 "metadata": {
  "kernelspec": {
   "display_name": "Python 3 (ipykernel)",
   "language": "python",
   "name": "python3"
  },
  "language_info": {
   "codemirror_mode": {
    "name": "ipython",
    "version": 3
   },
   "file_extension": ".py",
   "mimetype": "text/x-python",
   "name": "python",
   "nbconvert_exporter": "python",
   "pygments_lexer": "ipython3",
   "version": "3.12.4"
  }
 },
 "nbformat": 4,
 "nbformat_minor": 5
}
