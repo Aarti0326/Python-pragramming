{
 "cells": [
  {
   "cell_type": "markdown",
   "id": "f72179f7-4432-4fcf-a338-f07ca40223ee",
   "metadata": {},
   "source": [
    "# Rules for python variables"
   ]
  },
  {
   "cell_type": "markdown",
   "id": "bd4b28b2-31ba-4860-b599-5af0b2d91174",
   "metadata": {},
   "source": [
    "# A variable name must have start with a letter or the underscore character"
   ]
  },
  {
   "cell_type": "code",
   "execution_count": 4,
   "id": "fdd125bb-fdad-4fe8-9b93-a738425a16a4",
   "metadata": {},
   "outputs": [
    {
     "name": "stdout",
     "output_type": "stream",
     "text": [
      "3\n"
     ]
    }
   ],
   "source": [
    "a=3\n",
    "print(a)"
   ]
  },
  {
   "cell_type": "code",
   "execution_count": 6,
   "id": "3392f281-ea68-4678-b1d2-c741807c3a09",
   "metadata": {},
   "outputs": [
    {
     "name": "stdout",
     "output_type": "stream",
     "text": [
      "2\n"
     ]
    }
   ],
   "source": [
    "apple_box=2\n",
    "print(apple_box)"
   ]
  },
  {
   "cell_type": "code",
   "execution_count": 8,
   "id": "93caa984-c93d-424f-8990-2d9f049164f3",
   "metadata": {},
   "outputs": [
    {
     "name": "stdout",
     "output_type": "stream",
     "text": [
      "13\n"
     ]
    }
   ],
   "source": [
    "_=13\n",
    "print(_)"
   ]
  },
  {
   "cell_type": "markdown",
   "id": "c5d32d39-96a4-450a-8af8-1063861b8c70",
   "metadata": {},
   "source": [
    "# A variable name cannot start with a number"
   ]
  },
  {
   "cell_type": "code",
   "execution_count": 19,
   "id": "75addf79-5a15-46cd-92be-f6d76d2fe3c7",
   "metadata": {},
   "outputs": [
    {
     "ename": "SyntaxError",
     "evalue": "cannot assign to literal here. Maybe you meant '==' instead of '='? (2057481314.py, line 1)",
     "output_type": "error",
     "traceback": [
      "\u001b[1;36m  Cell \u001b[1;32mIn[19], line 1\u001b[1;36m\u001b[0m\n\u001b[1;33m    1=13\u001b[0m\n\u001b[1;37m    ^\u001b[0m\n\u001b[1;31mSyntaxError\u001b[0m\u001b[1;31m:\u001b[0m cannot assign to literal here. Maybe you meant '==' instead of '='?\n"
     ]
    }
   ],
   "source": [
    "1=13\n",
    "print(1)"
   ]
  },
  {
   "cell_type": "code",
   "execution_count": 21,
   "id": "64cd4cf8-5189-428f-b092-5dec3d847bfd",
   "metadata": {},
   "outputs": [
    {
     "name": "stdout",
     "output_type": "stream",
     "text": [
      "23\n"
     ]
    }
   ],
   "source": [
    "a_apple=23\n",
    "print(a_apple)"
   ]
  },
  {
   "cell_type": "code",
   "execution_count": 15,
   "id": "c356e5be-eed1-4284-952d-68355e57c324",
   "metadata": {},
   "outputs": [
    {
     "data": {
      "text/plain": [
       "False"
      ]
     },
     "execution_count": 15,
     "metadata": {},
     "output_type": "execute_result"
    }
   ],
   "source": [
    "4==26"
   ]
  },
  {
   "cell_type": "code",
   "execution_count": 17,
   "id": "198295e1-6600-4ebc-ba34-e102b4c99b8a",
   "metadata": {},
   "outputs": [
    {
     "data": {
      "text/plain": [
       "True"
      ]
     },
     "execution_count": 17,
     "metadata": {},
     "output_type": "execute_result"
    }
   ],
   "source": [
    "4==4"
   ]
  },
  {
   "cell_type": "markdown",
   "id": "245b6244-2a3a-4c56-8b66-bed291c0099a",
   "metadata": {},
   "source": [
    "# variable name can only contain alpha-numeric"
   ]
  },
  {
   "cell_type": "code",
   "execution_count": 24,
   "id": "a4968701-955d-460d-807d-5157dc0935b3",
   "metadata": {},
   "outputs": [
    {
     "name": "stdout",
     "output_type": "stream",
     "text": [
      "52\n"
     ]
    }
   ],
   "source": [
    "a_1=52\n",
    "print(a_1)"
   ]
  },
  {
   "cell_type": "code",
   "execution_count": 26,
   "id": "b3edd613-f5f3-41aa-a1f4-baa6c9544122",
   "metadata": {},
   "outputs": [
    {
     "name": "stdout",
     "output_type": "stream",
     "text": [
      "3.2\n"
     ]
    }
   ],
   "source": [
    "abc15xye=3.2\n",
    "print(abc15xye)"
   ]
  },
  {
   "cell_type": "code",
   "execution_count": 28,
   "id": "514b0632-7049-4201-aa9c-3297f0af193e",
   "metadata": {},
   "outputs": [
    {
     "ename": "SyntaxError",
     "evalue": "invalid syntax (4129659089.py, line 1)",
     "output_type": "error",
     "traceback": [
      "\u001b[1;36m  Cell \u001b[1;32mIn[28], line 1\u001b[1;36m\u001b[0m\n\u001b[1;33m    $72=3\u001b[0m\n\u001b[1;37m    ^\u001b[0m\n\u001b[1;31mSyntaxError\u001b[0m\u001b[1;31m:\u001b[0m invalid syntax\n"
     ]
    }
   ],
   "source": [
    "$72=3\n",
    "print($72)"
   ]
  },
  {
   "cell_type": "code",
   "execution_count": 109,
   "id": "67168d69-f73c-4715-ae2c-1e90f95d259d",
   "metadata": {},
   "outputs": [
    {
     "ename": "TypeError",
     "evalue": "'int' object is not callable",
     "output_type": "error",
     "traceback": [
      "\u001b[1;31m---------------------------------------------------------------------------\u001b[0m",
      "\u001b[1;31mTypeError\u001b[0m                                 Traceback (most recent call last)",
      "Cell \u001b[1;32mIn[109], line 2\u001b[0m\n\u001b[0;32m      1\u001b[0m abc_213322 \u001b[38;5;241m=\u001b[39m \u001b[38;5;241m1\u001b[39m\n\u001b[1;32m----> 2\u001b[0m \u001b[38;5;28mprint\u001b[39m(abc_213322)\n",
      "\u001b[1;31mTypeError\u001b[0m: 'int' object is not callable"
     ]
    }
   ],
   "source": [
    "abc_213322 = 1\n",
    "print(abc_213322)\n"
   ]
  },
  {
   "cell_type": "markdown",
   "id": "2a98b1ed-000f-4002-818d-7102cb8a1a5f",
   "metadata": {},
   "source": [
    "# variable names are case-sensitive  ( age,Age,AGE are three different variables)   "
   ]
  },
  {
   "cell_type": "code",
   "execution_count": 31,
   "id": "a48b8e4c-9d2f-4247-b788-e2cb4a412dd4",
   "metadata": {},
   "outputs": [
    {
     "name": "stdout",
     "output_type": "stream",
     "text": [
      "2\n",
      "5\n",
      "5\n"
     ]
    }
   ],
   "source": [
    "age=2\n",
    "Age=5\n",
    "AGE=5\n",
    "print(age)\n",
    "print(Age)\n",
    "print(AGE)"
   ]
  },
  {
   "cell_type": "markdown",
   "id": "c9a69105-ce40-458c-bb51-dd6293b5faf8",
   "metadata": {},
   "source": [
    "# Data types in python"
   ]
  },
  {
   "cell_type": "code",
   "execution_count": 39,
   "id": "b29d5725-1d78-41ca-8d68-1e2163feb162",
   "metadata": {},
   "outputs": [],
   "source": [
    "a=2\n",
    "b=2.5\n",
    "c=\"my name is aarti\"\n"
   ]
  },
  {
   "cell_type": "code",
   "execution_count": 51,
   "id": "f1fa370b-f601-4bc5-9f95-d6cd7a49a184",
   "metadata": {},
   "outputs": [
    {
     "name": "stdout",
     "output_type": "stream",
     "text": [
      "2\n"
     ]
    }
   ],
   "source": [
    "print(a)"
   ]
  },
  {
   "cell_type": "code",
   "execution_count": 53,
   "id": "af300cf3-c70d-401b-a2d1-b18a7779ca27",
   "metadata": {},
   "outputs": [
    {
     "data": {
      "text/plain": [
       "int"
      ]
     },
     "execution_count": 53,
     "metadata": {},
     "output_type": "execute_result"
    }
   ],
   "source": [
    "type(a)"
   ]
  },
  {
   "cell_type": "code",
   "execution_count": 55,
   "id": "045c5dc9-934c-4564-bd55-8e67202546c3",
   "metadata": {},
   "outputs": [
    {
     "data": {
      "text/plain": [
       "float"
      ]
     },
     "execution_count": 55,
     "metadata": {},
     "output_type": "execute_result"
    }
   ],
   "source": [
    "type(b)"
   ]
  },
  {
   "cell_type": "code",
   "execution_count": 57,
   "id": "0bc8c0c3-92fe-436d-8606-c49fa93c01ae",
   "metadata": {},
   "outputs": [
    {
     "data": {
      "text/plain": [
       "str"
      ]
     },
     "execution_count": 57,
     "metadata": {},
     "output_type": "execute_result"
    }
   ],
   "source": [
    "type(c)"
   ]
  },
  {
   "cell_type": "code",
   "execution_count": 59,
   "id": "bfc214c9-9a31-4f2e-bd3b-44855f98f728",
   "metadata": {},
   "outputs": [],
   "source": [
    "b=[1,4,5,8]"
   ]
  },
  {
   "cell_type": "code",
   "execution_count": 61,
   "id": "cc8f59df-33d2-4e5c-9cb6-96b7e2ce8cd7",
   "metadata": {},
   "outputs": [
    {
     "data": {
      "text/plain": [
       "list"
      ]
     },
     "execution_count": 61,
     "metadata": {},
     "output_type": "execute_result"
    }
   ],
   "source": [
    "type(b)"
   ]
  },
  {
   "cell_type": "code",
   "execution_count": 65,
   "id": "626c6e78-44a9-485b-aff1-3250220c3244",
   "metadata": {},
   "outputs": [
    {
     "name": "stdout",
     "output_type": "stream",
     "text": [
      "[1, 4, 5, 8]\n"
     ]
    }
   ],
   "source": [
    "print(b)"
   ]
  },
  {
   "cell_type": "code",
   "execution_count": 67,
   "id": "56a7438e-76a4-4576-b950-a9caeb6718cc",
   "metadata": {},
   "outputs": [
    {
     "name": "stdout",
     "output_type": "stream",
     "text": [
      "(1, 5, 3)\n"
     ]
    }
   ],
   "source": [
    "n=(1,5,3)\n",
    "print(n)"
   ]
  },
  {
   "cell_type": "code",
   "execution_count": 83,
   "id": "de281830-a8b2-4e27-a78a-2222f06ce575",
   "metadata": {},
   "outputs": [
    {
     "data": {
      "text/plain": [
       "complex"
      ]
     },
     "execution_count": 83,
     "metadata": {},
     "output_type": "execute_result"
    }
   ],
   "source": [
    "num=(5-1j)\n",
    "type(num)"
   ]
  },
  {
   "cell_type": "code",
   "execution_count": 85,
   "id": "a87e51a7-46ed-419b-815e-7a14e1208fd0",
   "metadata": {},
   "outputs": [
    {
     "data": {
      "text/plain": [
       "bool"
      ]
     },
     "execution_count": 85,
     "metadata": {},
     "output_type": "execute_result"
    }
   ],
   "source": [
    "num1=True\n",
    "type(num1)"
   ]
  },
  {
   "cell_type": "markdown",
   "id": "8887e754-f215-46c7-b770-378313e38461",
   "metadata": {},
   "source": [
    "# A variable name cannot be any of the python keywords"
   ]
  },
  {
   "cell_type": "code",
   "execution_count": 88,
   "id": "314fb1b0-a545-4f8a-a5a3-303cb947dd85",
   "metadata": {},
   "outputs": [
    {
     "ename": "TypeError",
     "evalue": "'int' object is not callable",
     "output_type": "error",
     "traceback": [
      "\u001b[1;31m---------------------------------------------------------------------------\u001b[0m",
      "\u001b[1;31mTypeError\u001b[0m                                 Traceback (most recent call last)",
      "Cell \u001b[1;32mIn[88], line 2\u001b[0m\n\u001b[0;32m      1\u001b[0m \u001b[38;5;28mprint\u001b[39m\u001b[38;5;241m=\u001b[39m\u001b[38;5;241m12\u001b[39m\n\u001b[1;32m----> 2\u001b[0m \u001b[38;5;28mprint\u001b[39m(\u001b[38;5;28mprint\u001b[39m)\n",
      "\u001b[1;31mTypeError\u001b[0m: 'int' object is not callable"
     ]
    }
   ],
   "source": [
    "print=12\n",
    "print(print)"
   ]
  },
  {
   "cell_type": "code",
   "execution_count": 91,
   "id": "c089bd0d-98c7-4987-b4fb-d5c7b50e0138",
   "metadata": {},
   "outputs": [
    {
     "ename": "TypeError",
     "evalue": "'int' object is not callable",
     "output_type": "error",
     "traceback": [
      "\u001b[1;31m---------------------------------------------------------------------------\u001b[0m",
      "\u001b[1;31mTypeError\u001b[0m                                 Traceback (most recent call last)",
      "Cell \u001b[1;32mIn[91], line 2\u001b[0m\n\u001b[0;32m      1\u001b[0m \u001b[38;5;28mint\u001b[39m\u001b[38;5;241m=\u001b[39m\u001b[38;5;241m1\u001b[39m\n\u001b[1;32m----> 2\u001b[0m \u001b[38;5;28mprint\u001b[39m(\u001b[38;5;28mint\u001b[39m)\n",
      "\u001b[1;31mTypeError\u001b[0m: 'int' object is not callable"
     ]
    }
   ],
   "source": [
    "int=1\n",
    "print(int)"
   ]
  }
 ],
 "metadata": {
  "kernelspec": {
   "display_name": "Python 3 (ipykernel)",
   "language": "python",
   "name": "python3"
  },
  "language_info": {
   "codemirror_mode": {
    "name": "ipython",
    "version": 3
   },
   "file_extension": ".py",
   "mimetype": "text/x-python",
   "name": "python",
   "nbconvert_exporter": "python",
   "pygments_lexer": "ipython3",
   "version": "3.12.4"
  }
 },
 "nbformat": 4,
 "nbformat_minor": 5
}
