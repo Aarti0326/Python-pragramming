{
 "cells": [
  {
   "cell_type": "markdown",
   "id": "2bf0707f-4726-45a4-93e1-10c32a44e6dc",
   "metadata": {},
   "source": [
    "## What is the output of the following code?"
   ]
  },
  {
   "cell_type": "code",
   "execution_count": 16,
   "id": "00e68779-3c74-4634-b0ba-22d76f77130e",
   "metadata": {},
   "outputs": [
    {
     "name": "stdout",
     "output_type": "stream",
     "text": [
      "15\n"
     ]
    }
   ],
   "source": [
    "def calculate(a,b = 5):\n",
    "    return a*b\n",
    "result = calculate(3)\n",
    "print(result)"
   ]
  },
  {
   "cell_type": "code",
   "execution_count": 18,
   "id": "4944584f-0bfe-4dd2-ae50-19676b03ad5d",
   "metadata": {},
   "outputs": [
    {
     "name": "stdout",
     "output_type": "stream",
     "text": [
      "15\n"
     ]
    }
   ],
   "source": [
    "a = [1, 2, 3, 4, 5]\n",
    "sum = 0\n",
    "for ele in a:\n",
    "    sum += ele\n",
    "print(sum)\n"
   ]
  },
  {
   "cell_type": "code",
   "execution_count": 20,
   "id": "c278cec6-5f17-4545-a09b-2bbbc29ea22e",
   "metadata": {},
   "outputs": [
    {
     "name": "stdout",
     "output_type": "stream",
     "text": [
      "15\n",
      "30\n",
      "40\n"
     ]
    }
   ],
   "source": [
    "def add(x=5, y=10):\n",
    "    return x + y\n",
    "\n",
    "print(add())\n",
    "print(add(20))\n",
    "print(add(15, 25))\n"
   ]
  },
  {
   "cell_type": "code",
   "execution_count": 22,
   "id": "8ccae2f6-7e7e-40cd-a6a3-3a9b1a6d409b",
   "metadata": {},
   "outputs": [
    {
     "name": "stdout",
     "output_type": "stream",
     "text": [
      "[1]\n",
      "[1, 2]\n"
     ]
    }
   ],
   "source": [
    "def func(a, b=[]):\n",
    "    b.append(a)\n",
    "    return b\n",
    "\n",
    "print(func(1))\n",
    "print(func(2))\n"
   ]
  },
  {
   "cell_type": "code",
   "execution_count": null,
   "id": "ef01774f-2ce0-48c4-8f4b-ce0a80d20fd9",
   "metadata": {},
   "outputs": [],
   "source": []
  }
 ],
 "metadata": {
  "kernelspec": {
   "display_name": "Python 3 (ipykernel)",
   "language": "python",
   "name": "python3"
  },
  "language_info": {
   "codemirror_mode": {
    "name": "ipython",
    "version": 3
   },
   "file_extension": ".py",
   "mimetype": "text/x-python",
   "name": "python",
   "nbconvert_exporter": "python",
   "pygments_lexer": "ipython3",
   "version": "3.12.4"
  }
 },
 "nbformat": 4,
 "nbformat_minor": 5
}
