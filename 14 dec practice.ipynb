{
 "cells": [
  {
   "cell_type": "markdown",
   "id": "6abcd9ae-21f6-44f5-b773-7954c6321a3f",
   "metadata": {},
   "source": [
    "### Write a Program to extract each digit from an integer in the reverse order.\n",
    "### For example, If the given int is 7536, the output shall be “6 3 5 7“, with a space separating the digits."
   ]
  },
  {
   "cell_type": "code",
   "execution_count": 7,
   "id": "bd580050-56ce-455c-a3e5-37c2f1cf0ff8",
   "metadata": {},
   "outputs": [
    {
     "name": "stdin",
     "output_type": "stream",
     "text": [
      "enter the number  9632\n"
     ]
    },
    {
     "name": "stdout",
     "output_type": "stream",
     "text": [
      "2369\n"
     ]
    }
   ],
   "source": [
    "n = (input(\"enter the number \"))\n",
    "\n",
    "y = n[::-1]\n",
    "print(y)"
   ]
  },
  {
   "cell_type": "markdown",
   "id": "b038c651-c97b-4f80-8d44-1cf2911c224f",
   "metadata": {},
   "source": [
    "### Write a python program to search a given number from a list"
   ]
  },
  {
   "cell_type": "code",
   "execution_count": 42,
   "id": "d2b6d891-6c86-4056-9d90-df3b5a9b40a6",
   "metadata": {},
   "outputs": [
    {
     "name": "stdin",
     "output_type": "stream",
     "text": [
      "enter the number:  5\n"
     ]
    },
    {
     "name": "stdout",
     "output_type": "stream",
     "text": [
      "Number exist\n"
     ]
    }
   ],
   "source": [
    "l1=[4,5,6,2,3,9,1,4,5,6,3]\n",
    "n=int(input(\"enter the number: \"))\n",
    "for i in l1:\n",
    "    if i==n:\n",
    "        print(\"Number exist\")\n",
    "        break\n",
    "else:\n",
    " print(\"number dont exist\")"
   ]
  },
  {
   "cell_type": "code",
   "execution_count": null,
   "id": "a3de32a9-dd81-4d11-87df-f80265b3bb86",
   "metadata": {},
   "outputs": [],
   "source": []
  }
 ],
 "metadata": {
  "kernelspec": {
   "display_name": "Python 3 (ipykernel)",
   "language": "python",
   "name": "python3"
  },
  "language_info": {
   "codemirror_mode": {
    "name": "ipython",
    "version": 3
   },
   "file_extension": ".py",
   "mimetype": "text/x-python",
   "name": "python",
   "nbconvert_exporter": "python",
   "pygments_lexer": "ipython3",
   "version": "3.12.4"
  }
 },
 "nbformat": 4,
 "nbformat_minor": 5
}
