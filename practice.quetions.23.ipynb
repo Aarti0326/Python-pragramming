{
 "cells": [
  {
   "cell_type": "markdown",
   "id": "afc9c650-8ee3-4deb-8505-34105bd48194",
   "metadata": {},
   "source": [
    "### Merge Two Dictionaries"
   ]
  },
  {
   "cell_type": "code",
   "execution_count": 1,
   "id": "a1c63331-7843-4f23-8ea1-e9a071d76e82",
   "metadata": {},
   "outputs": [
    {
     "name": "stdout",
     "output_type": "stream",
     "text": [
      "{'a': 1, 'b': 3, 'c': 4}\n"
     ]
    }
   ],
   "source": [
    "def merge_dicts(dict1, dict2):\n",
    "    return {**dict1, **dict2}\n",
    "\n",
    "dict_a = {'a': 1, 'b': 2}\n",
    "dict_b = {'b': 3, 'c': 4}\n",
    "merged_dict = merge_dicts(dict_a, dict_b)\n",
    "print(merged_dict)  # Output: {'a': 1, 'b': 3, 'c': 4}\n"
   ]
  },
  {
   "cell_type": "markdown",
   "id": "9c7fd48f-e95f-4dfb-ba5f-280e806d099b",
   "metadata": {},
   "source": [
    "### Basic Exception Handling"
   ]
  },
  {
   "cell_type": "code",
   "execution_count": 15,
   "id": "f70f9ffe-6657-41d8-9caf-384a00098636",
   "metadata": {},
   "outputs": [
    {
     "name": "stdout",
     "output_type": "stream",
     "text": [
      "Cannot divide by zero!\n"
     ]
    }
   ],
   "source": [
    "try:\n",
    "    result = 10 / 0\n",
    "except ZeroDivisionError:\n",
    "    print(\"Cannot divide by zero!\")\n"
   ]
  },
  {
   "cell_type": "markdown",
   "id": "0bb7035c-6785-44b6-bc91-6ac2a17ac29b",
   "metadata": {},
   "source": [
    "### Generate a Random Number"
   ]
  },
  {
   "cell_type": "code",
   "execution_count": 11,
   "id": "d40beacf-b5e8-45f6-9cca-9d96195d153d",
   "metadata": {},
   "outputs": [
    {
     "name": "stdout",
     "output_type": "stream",
     "text": [
      "Random number between 1 and 100: 76\n"
     ]
    }
   ],
   "source": [
    "import random\n",
    "\n",
    "random_number = random.randint(1, 100)\n",
    "print(f\"Random number between 1 and 100: {random_number}\")\n"
   ]
  },
  {
   "cell_type": "markdown",
   "id": "46d30bf7-817e-4b12-b0cd-26b14e0a468d",
   "metadata": {},
   "source": [
    "### Check if a List is Empty"
   ]
  },
  {
   "cell_type": "code",
   "execution_count": 19,
   "id": "1e5a8f75-31d7-4b43-aaf3-d5ec6843f7a9",
   "metadata": {},
   "outputs": [
    {
     "name": "stdout",
     "output_type": "stream",
     "text": [
      "True\n",
      "False\n"
     ]
    }
   ],
   "source": [
    "def is_empty(lst):\n",
    "    return len(lst) == 0\n",
    "\n",
    "print(is_empty([]))  \n",
    "print(is_empty([1, 2, 3]))  \n"
   ]
  },
  {
   "cell_type": "markdown",
   "id": "8fb2e8f4-5e28-43b1-b977-cf8be6fce8ce",
   "metadata": {},
   "source": [
    "###  Create a Simple Countdown Timer"
   ]
  },
  {
   "cell_type": "code",
   "execution_count": 21,
   "id": "7d415bbe-685c-4e40-9761-31f605751168",
   "metadata": {
    "scrolled": true
   },
   "outputs": [
    {
     "name": "stdout",
     "output_type": "stream",
     "text": [
      "5\n",
      "4\n",
      "3\n",
      "2\n",
      "1\n",
      "Time's up!\n"
     ]
    }
   ],
   "source": [
    "import time\n",
    "\n",
    "def countdown(n):\n",
    "    while n > 0:\n",
    "        print(n)\n",
    "        time.sleep(1)\n",
    "        n -= 1\n",
    "    print(\"Time's up!\")\n",
    "\n",
    "countdown(5)\n"
   ]
  },
  {
   "cell_type": "code",
   "execution_count": null,
   "id": "ea0fcf42-779e-4b39-b67f-4a5beb25cf25",
   "metadata": {},
   "outputs": [],
   "source": []
  }
 ],
 "metadata": {
  "kernelspec": {
   "display_name": "Python 3 (ipykernel)",
   "language": "python",
   "name": "python3"
  },
  "language_info": {
   "codemirror_mode": {
    "name": "ipython",
    "version": 3
   },
   "file_extension": ".py",
   "mimetype": "text/x-python",
   "name": "python",
   "nbconvert_exporter": "python",
   "pygments_lexer": "ipython3",
   "version": "3.12.4"
  }
 },
 "nbformat": 4,
 "nbformat_minor": 5
}
