{
 "cells": [
  {
   "cell_type": "markdown",
   "id": "571143a8-7c99-48d1-a57d-718c5cf31ee9",
   "metadata": {},
   "source": [
    "## You receive a list of orders. Each order contains a product name and quantity sold. Write a function to calculate total revenue generated."
   ]
  },
  {
   "cell_type": "code",
   "execution_count": 2,
   "id": "86a25613-df08-45a1-b736-eea1815c5537",
   "metadata": {},
   "outputs": [],
   "source": [
    "sales = [\n",
    "    {'product': 'Laptop', 'quantity': 2},\n",
    "    {'product': 'Smartphone', 'quantity': 5},\n",
    "    {'product': 'Headphones', 'quantity': 8}\n",
    "]\n",
    "\n",
    "prices = {\n",
    "    'Laptop': 80000,\n",
    "    'Smartphone': 30000,\n",
    "    'Headphones': 2000\n",
    "}\n"
   ]
  },
  {
   "cell_type": "markdown",
   "id": "6bd56843-0009-480e-bae3-aa95811c3988",
   "metadata": {},
   "source": [
    "## Calculate the total revenue by multiplying the quantity sold with the product price."
   ]
  },
  {
   "cell_type": "code",
   "execution_count": 7,
   "id": "b62d199b-fb17-43a9-aa6e-02d61b3e37ed",
   "metadata": {},
   "outputs": [
    {
     "name": "stdout",
     "output_type": "stream",
     "text": [
      "Total Revenue: ₹326000\n"
     ]
    }
   ],
   "source": [
    "def calculate_revenue(sales_data, prices):\n",
    "    total_revenue = 0\n",
    "    for sale in sales_data:\n",
    "        product = sale['product']\n",
    "        quantity = sale['quantity']\n",
    "        if product in prices:\n",
    "            total_revenue += quantity * prices[product]\n",
    "    return total_revenue\n",
    "\n",
    "# Example usage\n",
    "revenue = calculate_revenue(sales, prices)\n",
    "print(f\"Total Revenue: ₹{revenue}\")  "
   ]
  },
  {
   "cell_type": "code",
   "execution_count": null,
   "id": "fbb48a08-2872-4b3c-8bc4-d75c41e4c0d6",
   "metadata": {},
   "outputs": [],
   "source": []
  }
 ],
 "metadata": {
  "kernelspec": {
   "display_name": "Python 3 (ipykernel)",
   "language": "python",
   "name": "python3"
  },
  "language_info": {
   "codemirror_mode": {
    "name": "ipython",
    "version": 3
   },
   "file_extension": ".py",
   "mimetype": "text/x-python",
   "name": "python",
   "nbconvert_exporter": "python",
   "pygments_lexer": "ipython3",
   "version": "3.12.4"
  }
 },
 "nbformat": 4,
 "nbformat_minor": 5
}
