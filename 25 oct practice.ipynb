{
 "cells": [
  {
   "cell_type": "markdown",
   "id": "b6977aaf-bf98-47df-a7f8-3bbb38cb2e97",
   "metadata": {},
   "source": [
    "#Question:\n",
    "## Write a Python program that takes a list of integers and:\n",
    "\n",
    "### Finds the maximum and minimum values.\n",
    "### Sorts the list in ascending order.\n",
    "### Removes duplicates from the list.\n",
    "### Calculates the sum of all elements.\n",
    "### Use this sample list:\n"
   ]
  },
  {
   "cell_type": "code",
   "execution_count": 5,
   "id": "05ca7bc7-29ae-4ac3-80c9-d672834edaf0",
   "metadata": {},
   "outputs": [],
   "source": [
    "#[12, 45, 78, 12, 5, 78, 99, 45, 32]"
   ]
  },
  {
   "cell_type": "code",
   "execution_count": 7,
   "id": "7e430c75-fa36-459c-8fc6-d0e247c433e5",
   "metadata": {},
   "outputs": [
    {
     "name": "stdout",
     "output_type": "stream",
     "text": [
      "Original List: [12, 45, 78, 12, 5, 78, 99, 45, 32]\n",
      "Maximum Value: 99\n",
      "Minimum Value: 5\n",
      "Sorted List: [5, 12, 12, 32, 45, 45, 78, 78, 99]\n",
      "Unique List: [32, 99, 5, 12, 45, 78]\n",
      "Sum of Elements: 406\n"
     ]
    }
   ],
   "source": [
    "# Sample list\n",
    "numbers = [12, 45, 78, 12, 5, 78, 99, 45, 32]\n",
    "\n",
    "# 1. Find the maximum and minimum values\n",
    "max_value = max(numbers)\n",
    "min_value = min(numbers)\n",
    "\n",
    "# 2. Sort the list in ascending order\n",
    "sorted_list = sorted(numbers)\n",
    "\n",
    "# 3. Remove duplicates from the list\n",
    "unique_list = list(set(numbers))\n",
    "\n",
    "# 4. Calculate the sum of all elements\n",
    "total_sum = sum(numbers)\n",
    "\n",
    "# Display the results\n",
    "print(\"Original List:\", numbers)\n",
    "print(\"Maximum Value:\", max_value)\n",
    "print(\"Minimum Value:\", min_value)\n",
    "print(\"Sorted List:\", sorted_list)\n",
    "print(\"Unique List:\", unique_list)\n",
    "print(\"Sum of Elements:\", total_sum)\n"
   ]
  },
  {
   "cell_type": "code",
   "execution_count": null,
   "id": "ed32a0f2-41f6-4f06-8604-f2cb725065d9",
   "metadata": {},
   "outputs": [],
   "source": []
  }
 ],
 "metadata": {
  "kernelspec": {
   "display_name": "Python 3 (ipykernel)",
   "language": "python",
   "name": "python3"
  },
  "language_info": {
   "codemirror_mode": {
    "name": "ipython",
    "version": 3
   },
   "file_extension": ".py",
   "mimetype": "text/x-python",
   "name": "python",
   "nbconvert_exporter": "python",
   "pygments_lexer": "ipython3",
   "version": "3.12.4"
  }
 },
 "nbformat": 4,
 "nbformat_minor": 5
}
