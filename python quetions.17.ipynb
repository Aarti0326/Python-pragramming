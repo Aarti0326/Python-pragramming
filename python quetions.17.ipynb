{
 "cells": [
  {
   "cell_type": "code",
   "execution_count": 1,
   "id": "efbee1fc-2fea-446c-a840-93c9390934c0",
   "metadata": {},
   "outputs": [
    {
     "name": "stdout",
     "output_type": "stream",
     "text": [
      "* * * * * "
     ]
    }
   ],
   "source": [
    "for i in range(1,6):\n",
    "    print(\"*\", end =\" \")"
   ]
  },
  {
   "cell_type": "code",
   "execution_count": 2,
   "id": "e5db4e03-b5fa-4f5f-a4f1-7ac6553b6615",
   "metadata": {},
   "outputs": [
    {
     "name": "stdout",
     "output_type": "stream",
     "text": [
      "* & * & * & * & * & "
     ]
    }
   ],
   "source": [
    "for i in range(1,6):\n",
    "    print(\"*\",end=\" & \")"
   ]
  },
  {
   "cell_type": "code",
   "execution_count": 3,
   "id": "03e4f1c8-836d-48d3-a9a4-974a6f327ce2",
   "metadata": {},
   "outputs": [
    {
     "name": "stdin",
     "output_type": "stream",
     "text": [
      "enter your name : Aarti\n"
     ]
    },
    {
     "name": "stdout",
     "output_type": "stream",
     "text": [
      "Aarti\n"
     ]
    },
    {
     "name": "stdin",
     "output_type": "stream",
     "text": [
      "enter your name : nikita\n"
     ]
    },
    {
     "name": "stdout",
     "output_type": "stream",
     "text": [
      "nikita\n"
     ]
    }
   ],
   "source": [
    "for i in range(2):\n",
    "    names=input(\"enter your name :\")\n",
    "    print(names)    "
   ]
  },
  {
   "cell_type": "markdown",
   "id": "df86fbd7-387f-4fea-b245-a34f464bc475",
   "metadata": {},
   "source": [
    "### pass"
   ]
  },
  {
   "cell_type": "markdown",
   "id": "f6ef9eb4-fe0f-4861-a51b-70a6b3bb3cf0",
   "metadata": {},
   "source": [
    "#### it does not affect the flow it will just continue loop and not goes in if"
   ]
  },
  {
   "cell_type": "code",
   "execution_count": 6,
   "id": "c6a93465-1a2a-47a3-b83a-e6916e65a43c",
   "metadata": {},
   "outputs": [
    {
     "name": "stdout",
     "output_type": "stream",
     "text": [
      "1\n",
      "2\n",
      "3\n",
      "4\n",
      "5\n",
      "6\n",
      "7\n",
      "8\n",
      "9\n",
      "10\n"
     ]
    }
   ],
   "source": [
    "i = 0\n",
    "while(i<10):\n",
    "    i+=1\n",
    "    if (i==5):\n",
    "        pass\n",
    "    print(i)"
   ]
  },
  {
   "cell_type": "code",
   "execution_count": 7,
   "id": "cf84ff6f-7f3a-470b-bf5f-feb863f97af6",
   "metadata": {},
   "outputs": [
    {
     "name": "stdout",
     "output_type": "stream",
     "text": [
      "1\n",
      "2\n",
      "3\n",
      "4\n",
      "5\n",
      "6\n",
      "7\n",
      "8\n",
      "9\n",
      "10\n",
      "11\n",
      "12\n"
     ]
    }
   ],
   "source": [
    "i = 0\n",
    "while(i<12):\n",
    "    i=i+1\n",
    "    if(i==8):\n",
    "        pass\n",
    "    print(i)\n",
    "    "
   ]
  },
  {
   "cell_type": "code",
   "execution_count": 8,
   "id": "a7ec7e01-92ad-411a-a7cc-8448d3011e40",
   "metadata": {},
   "outputs": [
    {
     "name": "stdout",
     "output_type": "stream",
     "text": [
      "0\n",
      "1\n",
      "2\n",
      "3\n",
      "4\n"
     ]
    }
   ],
   "source": [
    "i = 0\n",
    "while i<5:\n",
    "    print(i)\n",
    "    i+=1"
   ]
  },
  {
   "cell_type": "markdown",
   "id": "f5a0ca0f-a754-4206-914d-e88cdea4996e",
   "metadata": {},
   "source": [
    " ### User Input Validation"
   ]
  },
  {
   "cell_type": "code",
   "execution_count": 28,
   "id": "62668acf-3935-477a-bf4b-8c5271d03b2d",
   "metadata": {},
   "outputs": [
    {
     "name": "stdin",
     "output_type": "stream",
     "text": [
      " positive number:  -5\n",
      " positive number:  9\n"
     ]
    },
    {
     "name": "stdout",
     "output_type": "stream",
     "text": [
      "9\n"
     ]
    }
   ],
   "source": [
    "number = -1\n",
    "while number < 0:\n",
    "    number = int(input(\" positive number: \"))\n",
    "print(number)"
   ]
  },
  {
   "cell_type": "markdown",
   "id": "38e9d572-47a4-481a-a494-6f105a0a8437",
   "metadata": {},
   "source": [
    "### Infinite Loop with break"
   ]
  },
  {
   "cell_type": "code",
   "execution_count": 37,
   "id": "0475f47d-2d23-4cb2-8a40-c086482e9990",
   "metadata": {},
   "outputs": [
    {
     "name": "stdin",
     "output_type": "stream",
     "text": [
      "Type'exit'to quit: good\n"
     ]
    },
    {
     "name": "stdout",
     "output_type": "stream",
     "text": [
      "good\n"
     ]
    },
    {
     "name": "stdin",
     "output_type": "stream",
     "text": [
      "Type'exit'to quit: hallo\n"
     ]
    },
    {
     "name": "stdout",
     "output_type": "stream",
     "text": [
      "hallo\n"
     ]
    },
    {
     "name": "stdin",
     "output_type": "stream",
     "text": [
      "Type'exit'to quit: exit\n"
     ]
    }
   ],
   "source": [
    "while True:\n",
    "    response = input(\"Type'exit'to quit:\")\n",
    "    if response=='exit':\n",
    "        break\n",
    "    print(response)"
   ]
  },
  {
   "cell_type": "markdown",
   "id": "d3a5d46d-a0bb-42d2-b702-663efab5902d",
   "metadata": {},
   "source": [
    "### Using while with else"
   ]
  },
  {
   "cell_type": "code",
   "execution_count": 40,
   "id": "3a4471c1-af61-41dd-9fe9-6c4c90d351e4",
   "metadata": {},
   "outputs": [
    {
     "name": "stdout",
     "output_type": "stream",
     "text": [
      "0\n",
      "1\n",
      "2\n",
      "loop has finished executing\n"
     ]
    }
   ],
   "source": [
    "count = 0\n",
    "while count<3:\n",
    "    print(count)\n",
    "    count+=1\n",
    "else:\n",
    "    print(\"loop has finished executing\")"
   ]
  },
  {
   "cell_type": "code",
   "execution_count": 52,
   "id": "dde61571-bd92-40e3-8c25-45e6349df4c3",
   "metadata": {},
   "outputs": [
    {
     "name": "stdin",
     "output_type": "stream",
     "text": [
      "enter hours worked today 8\n"
     ]
    },
    {
     "name": "stdout",
     "output_type": "stream",
     "text": [
      "total hours so far: 8.0\n"
     ]
    },
    {
     "name": "stdin",
     "output_type": "stream",
     "text": [
      "enter hours worked today 8\n"
     ]
    },
    {
     "name": "stdout",
     "output_type": "stream",
     "text": [
      "total hours so far: 16.0\n"
     ]
    },
    {
     "name": "stdin",
     "output_type": "stream",
     "text": [
      "enter hours worked today 8\n"
     ]
    },
    {
     "name": "stdout",
     "output_type": "stream",
     "text": [
      "total hours so far: 24.0\n"
     ]
    },
    {
     "name": "stdin",
     "output_type": "stream",
     "text": [
      "enter hours worked today 8\n"
     ]
    },
    {
     "name": "stdout",
     "output_type": "stream",
     "text": [
      "total hours so far: 32.0\n"
     ]
    },
    {
     "name": "stdin",
     "output_type": "stream",
     "text": [
      "enter hours worked today 8\n"
     ]
    },
    {
     "name": "stdout",
     "output_type": "stream",
     "text": [
      "you have reached the total work hours for the week\n",
      "total hours worked this week: 40.0\n"
     ]
    }
   ],
   "source": [
    "total_hours = 0\n",
    "daily_hours = 0\n",
    "\n",
    "while total_hours<40:\n",
    "    daily_hours = float(input(\"enter hours worked today\"))\n",
    "    total_hours +=daily_hours\n",
    "    if total_hours >=40: \n",
    "        print(\"you have reached the total work hours for the week\")\n",
    "    else:\n",
    "        print(\"total hours so far:\",total_hours)\n",
    "\n",
    "print(\"total hours worked this week:\",total_hours)\n",
    "    "
   ]
  },
  {
   "cell_type": "code",
   "execution_count": null,
   "id": "cc56a990-563f-45ed-8c6a-77cbed848939",
   "metadata": {},
   "outputs": [],
   "source": []
  }
 ],
 "metadata": {
  "kernelspec": {
   "display_name": "Python 3 (ipykernel)",
   "language": "python",
   "name": "python3"
  },
  "language_info": {
   "codemirror_mode": {
    "name": "ipython",
    "version": 3
   },
   "file_extension": ".py",
   "mimetype": "text/x-python",
   "name": "python",
   "nbconvert_exporter": "python",
   "pygments_lexer": "ipython3",
   "version": "3.12.4"
  }
 },
 "nbformat": 4,
 "nbformat_minor": 5
}
