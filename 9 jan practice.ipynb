{
 "cells": [
  {
   "cell_type": "markdown",
   "id": "fbb8518e-d503-468c-bf01-fb6f566eb3ae",
   "metadata": {},
   "source": [
    "### Write a Python program to check if two strings are anagrams."
   ]
  },
  {
   "cell_type": "code",
   "execution_count": 2,
   "id": "d3544d84-9029-4f06-8103-8311cbfc16c4",
   "metadata": {},
   "outputs": [
    {
     "name": "stdout",
     "output_type": "stream",
     "text": [
      "True\n",
      "False\n"
     ]
    }
   ],
   "source": [
    "def are_anagrams(str1, str2):\n",
    "    return sorted(str1) == sorted(str2)\n",
    "\n",
    "print(are_anagrams(\"listen\", \"silent\"))  \n",
    "print(are_anagrams(\"hello\", \"world\"))   \n"
   ]
  },
  {
   "cell_type": "markdown",
   "id": "2c5341a5-bb34-40df-b7dd-d2ff64f57956",
   "metadata": {},
   "source": [
    "### . Write a Python program to find the longest word in a sentence."
   ]
  },
  {
   "cell_type": "code",
   "execution_count": 5,
   "id": "f1e0cb6a-5923-4b66-a950-137c02c7506b",
   "metadata": {},
   "outputs": [
    {
     "name": "stdout",
     "output_type": "stream",
     "text": [
      "programming\n"
     ]
    }
   ],
   "source": [
    "def longest_word(sentence):\n",
    "    words = sentence.split()\n",
    "    return max(words, key=len)\n",
    "\n",
    "print(longest_word(\"Python is a great programming language\"))  "
   ]
  },
  {
   "cell_type": "markdown",
   "id": "d5758877-0e6b-40b1-8427-3cecddfda766",
   "metadata": {},
   "source": [
    "### Write a Python program to generate all permutations of a list."
   ]
  },
  {
   "cell_type": "code",
   "execution_count": 10,
   "id": "6f58eb59-358a-4766-9fbf-40ab27863c1c",
   "metadata": {},
   "outputs": [
    {
     "name": "stdout",
     "output_type": "stream",
     "text": [
      "[(1, 2, 3), (1, 3, 2), (2, 1, 3), (2, 3, 1), (3, 1, 2), (3, 2, 1)]\n"
     ]
    }
   ],
   "source": [
    "from itertools import permutations\n",
    "\n",
    "my_list = [1, 2, 3]\n",
    "perms = list(permutations(my_list))\n",
    "print(perms)\n"
   ]
  },
  {
   "cell_type": "code",
   "execution_count": null,
   "id": "60613f11-dd30-4492-b20d-6a0be884c979",
   "metadata": {},
   "outputs": [],
   "source": []
  }
 ],
 "metadata": {
  "kernelspec": {
   "display_name": "Python 3 (ipykernel)",
   "language": "python",
   "name": "python3"
  },
  "language_info": {
   "codemirror_mode": {
    "name": "ipython",
    "version": 3
   },
   "file_extension": ".py",
   "mimetype": "text/x-python",
   "name": "python",
   "nbconvert_exporter": "python",
   "pygments_lexer": "ipython3",
   "version": "3.12.4"
  }
 },
 "nbformat": 4,
 "nbformat_minor": 5
}
