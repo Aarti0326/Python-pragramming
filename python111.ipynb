{
 "cells": [
  {
   "cell_type": "code",
   "execution_count": 1,
   "id": "234f3a1d-fe64-4815-bc00-b1e20dc481d6",
   "metadata": {},
   "outputs": [],
   "source": [
    "age=32"
   ]
  },
  {
   "cell_type": "code",
   "execution_count": 3,
   "id": "77636329-f5cb-48c7-a538-fcbe255524f9",
   "metadata": {},
   "outputs": [
    {
     "data": {
      "text/plain": [
       "int"
      ]
     },
     "execution_count": 3,
     "metadata": {},
     "output_type": "execute_result"
    }
   ],
   "source": [
    "type(age)\n"
   ]
  },
  {
   "cell_type": "code",
   "execution_count": 5,
   "id": "d81a8777-d671-46ca-8b12-7f26ab46b412",
   "metadata": {},
   "outputs": [],
   "source": [
    "weight=15.30"
   ]
  },
  {
   "cell_type": "code",
   "execution_count": 7,
   "id": "2b0856f4-4e78-44e4-8bb8-9a035cd9c488",
   "metadata": {},
   "outputs": [
    {
     "data": {
      "text/plain": [
       "float"
      ]
     },
     "execution_count": 7,
     "metadata": {},
     "output_type": "execute_result"
    }
   ],
   "source": [
    "type(weight)"
   ]
  },
  {
   "cell_type": "code",
   "execution_count": 9,
   "id": "a2b27dd8-0fbf-4181-ba6d-bf76d81749c2",
   "metadata": {},
   "outputs": [],
   "source": [
    "name='niku'"
   ]
  },
  {
   "cell_type": "code",
   "execution_count": 11,
   "id": "43a666e9-6234-477d-bafe-132eeac6568e",
   "metadata": {},
   "outputs": [
    {
     "data": {
      "text/plain": [
       "str"
      ]
     },
     "execution_count": 11,
     "metadata": {},
     "output_type": "execute_result"
    }
   ],
   "source": [
    "type(name)"
   ]
  },
  {
   "cell_type": "code",
   "execution_count": 13,
   "id": "61e77914-88f3-4538-95d4-30539074d36b",
   "metadata": {},
   "outputs": [],
   "source": [
    "is_boy=True"
   ]
  },
  {
   "cell_type": "code",
   "execution_count": 15,
   "id": "6d403bb4-829f-401e-9e9a-d1276ae22471",
   "metadata": {},
   "outputs": [
    {
     "data": {
      "text/plain": [
       "bool"
      ]
     },
     "execution_count": 15,
     "metadata": {},
     "output_type": "execute_result"
    }
   ],
   "source": [
    "type(is_boy)"
   ]
  },
  {
   "cell_type": "code",
   "execution_count": 17,
   "id": "8240bdd2-1d6c-47bb-962c-7d8a9a13652d",
   "metadata": {},
   "outputs": [],
   "source": [
    "set1={1,2,5,5,4,2}"
   ]
  },
  {
   "cell_type": "code",
   "execution_count": 19,
   "id": "c6deae4b-ebe7-4e31-8281-b9034339d507",
   "metadata": {},
   "outputs": [
    {
     "data": {
      "text/plain": [
       "set"
      ]
     },
     "execution_count": 19,
     "metadata": {},
     "output_type": "execute_result"
    }
   ],
   "source": [
    "type(set1)"
   ]
  },
  {
   "cell_type": "code",
   "execution_count": 21,
   "id": "3fc7bd71-d056-4c8a-9db9-b97d31924028",
   "metadata": {
    "scrolled": true
   },
   "outputs": [
    {
     "name": "stdout",
     "output_type": "stream",
     "text": [
      "set1\n"
     ]
    }
   ],
   "source": [
    "print('set1')"
   ]
  },
  {
   "cell_type": "code",
   "execution_count": 23,
   "id": "394d4616-6c03-4b05-b0f2-a4fdc4007aa8",
   "metadata": {},
   "outputs": [
    {
     "name": "stdout",
     "output_type": "stream",
     "text": [
      "{1, 2, 4, 5}\n"
     ]
    }
   ],
   "source": [
    "print(set1)"
   ]
  },
  {
   "cell_type": "code",
   "execution_count": 27,
   "id": "a886dfd5-53ab-4f7e-b41c-87eb406c13ba",
   "metadata": {},
   "outputs": [],
   "source": [
    "house_no=None"
   ]
  },
  {
   "cell_type": "code",
   "execution_count": 29,
   "id": "f0285d32-a6ee-4094-9979-d40a26839823",
   "metadata": {},
   "outputs": [
    {
     "data": {
      "text/plain": [
       "NoneType"
      ]
     },
     "execution_count": 29,
     "metadata": {},
     "output_type": "execute_result"
    }
   ],
   "source": [
    "type(house_no)"
   ]
  },
  {
   "cell_type": "code",
   "execution_count": 31,
   "id": "a7367b5c-4b18-4d25-a141-4a0a54269595",
   "metadata": {},
   "outputs": [],
   "source": [
    "com=1+2j"
   ]
  },
  {
   "cell_type": "code",
   "execution_count": 33,
   "id": "22f82bed-fce6-4573-801e-e75b81de59cf",
   "metadata": {},
   "outputs": [
    {
     "data": {
      "text/plain": [
       "complex"
      ]
     },
     "execution_count": 33,
     "metadata": {},
     "output_type": "execute_result"
    }
   ],
   "source": [
    "type(com)"
   ]
  },
  {
   "cell_type": "code",
   "execution_count": 35,
   "id": "72264e07-fd88-4f9b-8e96-72f2e194e752",
   "metadata": {},
   "outputs": [
    {
     "name": "stdout",
     "output_type": "stream",
     "text": [
      "(1+2j)\n"
     ]
    }
   ],
   "source": [
    "print(com)"
   ]
  },
  {
   "cell_type": "code",
   "execution_count": 37,
   "id": "978f965a-9527-4451-b6a8-34e8eed2e56d",
   "metadata": {},
   "outputs": [],
   "source": [
    "num=range(1,5)"
   ]
  },
  {
   "cell_type": "code",
   "execution_count": 39,
   "id": "cfd9a6eb-3ee3-44bc-b2b7-b6a78c0a505c",
   "metadata": {},
   "outputs": [
    {
     "data": {
      "text/plain": [
       "range"
      ]
     },
     "execution_count": 39,
     "metadata": {},
     "output_type": "execute_result"
    }
   ],
   "source": [
    "type(num)"
   ]
  },
  {
   "cell_type": "code",
   "execution_count": 41,
   "id": "6d8807da-cc43-40cd-a6d7-a8872e2e24e9",
   "metadata": {},
   "outputs": [
    {
     "name": "stdout",
     "output_type": "stream",
     "text": [
      "range(1, 5)\n"
     ]
    }
   ],
   "source": [
    "print(num)"
   ]
  },
  {
   "cell_type": "code",
   "execution_count": 49,
   "id": "763644f4-d2b7-426a-bccc-440da51ea9c4",
   "metadata": {},
   "outputs": [],
   "source": [
    "byte=bytes([65,56,24])"
   ]
  },
  {
   "cell_type": "code",
   "execution_count": 51,
   "id": "51b6d3e2-1be1-4a2e-bc33-a9e8f6aac086",
   "metadata": {},
   "outputs": [
    {
     "name": "stdout",
     "output_type": "stream",
     "text": [
      "b'A8\\x18'\n"
     ]
    }
   ],
   "source": [
    "print(byte)"
   ]
  },
  {
   "cell_type": "code",
   "execution_count": 57,
   "id": "72bfeafb-1f1c-4d12-b35f-79a06273561a",
   "metadata": {},
   "outputs": [
    {
     "name": "stdin",
     "output_type": "stream",
     "text": [
      "enter 1st number 15\n",
      "enter 2nd number 54\n"
     ]
    },
    {
     "name": "stdout",
     "output_type": "stream",
     "text": [
      "69\n"
     ]
    }
   ],
   "source": [
    "num1=int(input(\"enter 1st number\"))\n",
    "num2=int(input(\"enter 2nd number\"))\n",
    "print(num1+num2)"
   ]
  },
  {
   "cell_type": "code",
   "execution_count": 59,
   "id": "27cb6e50-a5d3-46ce-9374-0b44ccfaf2df",
   "metadata": {},
   "outputs": [
    {
     "name": "stdout",
     "output_type": "stream",
     "text": [
      "30\n"
     ]
    }
   ],
   "source": [
    "num1=5\n",
    "num2=6\n",
    "print(num1*num2)"
   ]
  },
  {
   "cell_type": "code",
   "execution_count": 61,
   "id": "2f93e52f-59e2-49ae-a6f5-3c5fa6308662",
   "metadata": {},
   "outputs": [
    {
     "name": "stdout",
     "output_type": "stream",
     "text": [
      "1.06\n"
     ]
    }
   ],
   "source": [
    "num1=5.3\n",
    "num2=5\n",
    "print(num1/num2)"
   ]
  },
  {
   "cell_type": "code",
   "execution_count": 65,
   "id": "b430747f-5771-4730-8e32-fbe29277e75a",
   "metadata": {},
   "outputs": [
    {
     "name": "stdin",
     "output_type": "stream",
     "text": [
      "enter 1st number 558\n",
      "enter 2nd number 4112\n"
     ]
    },
    {
     "name": "stdout",
     "output_type": "stream",
     "text": [
      "-3554.0\n"
     ]
    }
   ],
   "source": [
    "num1=float(input(\"enter 1st number\"))\n",
    "num2=float(input(\"enter 2nd number\"))\n",
    "print(num1-num2)"
   ]
  },
  {
   "cell_type": "code",
   "execution_count": 69,
   "id": "c9576f93-0361-457c-b1e5-ac88122e9772",
   "metadata": {},
   "outputs": [
    {
     "name": "stdin",
     "output_type": "stream",
     "text": [
      "enter 1st number 45\n",
      "enter 2nd number 4\n"
     ]
    },
    {
     "name": "stdout",
     "output_type": "stream",
     "text": [
      "1.0\n"
     ]
    }
   ],
   "source": [
    "num1=float(input(\"enter 1st number\"))\n",
    "num2=float(input(\"enter 2nd number\"))\n",
    "print(num1%num2)\n"
   ]
  },
  {
   "cell_type": "code",
   "execution_count": null,
   "id": "f70f23b8-3e1c-436c-ac13-3d71a24a823c",
   "metadata": {},
   "outputs": [],
   "source": []
  }
 ],
 "metadata": {
  "kernelspec": {
   "display_name": "Python 3 (ipykernel)",
   "language": "python",
   "name": "python3"
  },
  "language_info": {
   "codemirror_mode": {
    "name": "ipython",
    "version": 3
   },
   "file_extension": ".py",
   "mimetype": "text/x-python",
   "name": "python",
   "nbconvert_exporter": "python",
   "pygments_lexer": "ipython3",
   "version": "3.12.4"
  }
 },
 "nbformat": 4,
 "nbformat_minor": 5
}
