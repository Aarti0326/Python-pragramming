{
 "cells": [
  {
   "cell_type": "markdown",
   "id": "7fe3b035-adbd-4804-bd9a-60d35a0d745c",
   "metadata": {},
   "source": [
    "### 1. Conditional Statements (if, else, elif)"
   ]
  },
  {
   "cell_type": "markdown",
   "id": "e36b8f50-b52a-4539-897a-900c8d83cae4",
   "metadata": {},
   "source": [
    "### Problem: Write a program that checks loan eligibility based on the following conditions:"
   ]
  },
  {
   "cell_type": "code",
   "execution_count": 31,
   "id": "a376d456-3eda-46c0-a8cd-41f287b17de0",
   "metadata": {},
   "outputs": [],
   "source": [
    "#Age >= 21\n",
    "#Credit score >= 650\n",
    "#Income >= 50,000"
   ]
  },
  {
   "cell_type": "code",
   "execution_count": 35,
   "id": "8fb6c4db-87bd-435f-b443-b56617f30909",
   "metadata": {},
   "outputs": [
    {
     "name": "stdin",
     "output_type": "stream",
     "text": [
      "enter your age : 35\n",
      "enter your scredit score : 554\n",
      "enter your income : 50000\n"
     ]
    },
    {
     "name": "stdout",
     "output_type": "stream",
     "text": [
      "you are not eligible for loan\n"
     ]
    }
   ],
   "source": [
    "Age = int(input(\"enter your age :\"))\n",
    "credit_score = int(input(\"enter your scredit score :\"))\n",
    "income = float(input(\"enter your income :\"))\n",
    "\n",
    "if Age >= 21 and credit_score >= 650 and Income >= 50000:\n",
    "    print(\"you are eligible for loan\")\n",
    "else:\n",
    "    print(\"you are not eligible for loan\")\n"
   ]
  },
  {
   "cell_type": "markdown",
   "id": "ec8be493-5293-4399-9062-747a80674b9c",
   "metadata": {},
   "source": [
    "### Write a program to print the grade based on marks:"
   ]
  },
  {
   "cell_type": "code",
   "execution_count": 10,
   "id": "aed10d7b-ed5a-4af9-b752-bc81c6809da8",
   "metadata": {},
   "outputs": [],
   "source": [
    "#90 and above: A\n",
    "#80–89: B\n",
    "#70–79: C\n",
    "#Below 70: Fail"
   ]
  },
  {
   "cell_type": "code",
   "execution_count": 37,
   "id": "0ad2551e-ac5a-412d-88f7-1aaac1504d7b",
   "metadata": {},
   "outputs": [
    {
     "name": "stdin",
     "output_type": "stream",
     "text": [
      "Enter your marks:  70\n"
     ]
    },
    {
     "name": "stdout",
     "output_type": "stream",
     "text": [
      "Grade: C\n"
     ]
    }
   ],
   "source": [
    "marks = int(input(\"Enter your marks: \"))\n",
    "\n",
    "if marks >= 90:\n",
    "    print(\"Grade: A\")\n",
    "elif marks >= 80:\n",
    "    print(\"Grade: B\")\n",
    "elif marks >= 70:\n",
    "    print(\"Grade: C\")\n",
    "else:\n",
    "    print(\"Grade: Fail\")\n"
   ]
  },
  {
   "cell_type": "markdown",
   "id": "7a96f92e-4024-4e3a-affe-c2d904d7a6ad",
   "metadata": {},
   "source": [
    "### 2. Loops (for, while)"
   ]
  },
  {
   "cell_type": "markdown",
   "id": "38588bee-b6e8-48de-88ba-0a3e9b4ff8a1",
   "metadata": {},
   "source": [
    "### Find the sum of all even numbers from 1 to 100"
   ]
  },
  {
   "cell_type": "code",
   "execution_count": 39,
   "id": "4e1c10cb-743d-41d3-b597-e8006f78d4b7",
   "metadata": {},
   "outputs": [
    {
     "name": "stdout",
     "output_type": "stream",
     "text": [
      "sum of even numbers from 1 to 100 is : 2450\n"
     ]
    }
   ],
   "source": [
    "total_sum = 0\n",
    "\n",
    "for num in range(1,100):\n",
    "    if num%2==0:\n",
    "        total_sum+=num\n",
    "print(\"sum of even numbers from 1 to 100 is :\",total_sum)\n",
    "    "
   ]
  },
  {
   "cell_type": "markdown",
   "id": "7f2be92a-efea-406d-9a0a-86efa54336e2",
   "metadata": {},
   "source": [
    "###  print even numbers from 1 to 20 using Python"
   ]
  },
  {
   "cell_type": "code",
   "execution_count": 42,
   "id": "30c4cffc-ff2f-4039-b401-b2e27488828b",
   "metadata": {},
   "outputs": [
    {
     "name": "stdout",
     "output_type": "stream",
     "text": [
      "2\n",
      "4\n",
      "6\n",
      "8\n",
      "10\n",
      "12\n",
      "14\n",
      "16\n",
      "18\n",
      "20\n"
     ]
    }
   ],
   "source": [
    "for num in range(2, 22, 2):\n",
    "    print(num)"
   ]
  },
  {
   "cell_type": "markdown",
   "id": "3ad1c166-3e5b-48e8-a6fc-cf0ff005a0e1",
   "metadata": {},
   "source": [
    "### Keep asking the user for input until they type 'exit'"
   ]
  },
  {
   "cell_type": "code",
   "execution_count": 45,
   "id": "9922acba-fc9c-490e-967b-8ef7390ec8f8",
   "metadata": {},
   "outputs": [
    {
     "name": "stdin",
     "output_type": "stream",
     "text": [
      "Enter a command (type exit to quit): hii\n"
     ]
    },
    {
     "name": "stdout",
     "output_type": "stream",
     "text": [
      "you entered hii\n"
     ]
    },
    {
     "name": "stdin",
     "output_type": "stream",
     "text": [
      "Enter a command (type exit to quit): hello\n"
     ]
    },
    {
     "name": "stdout",
     "output_type": "stream",
     "text": [
      "you entered hello\n"
     ]
    },
    {
     "name": "stdin",
     "output_type": "stream",
     "text": [
      "Enter a command (type exit to quit): output\n"
     ]
    },
    {
     "name": "stdout",
     "output_type": "stream",
     "text": [
      "you entered output\n"
     ]
    },
    {
     "name": "stdin",
     "output_type": "stream",
     "text": [
      "Enter a command (type exit to quit): exit\n"
     ]
    },
    {
     "name": "stdout",
     "output_type": "stream",
     "text": [
      "exiting the program..\n"
     ]
    }
   ],
   "source": [
    "while True:\n",
    "    user_input = input(\"Enter a command (type exit to quit):\")\n",
    "    if user_input.lower() == 'exit' :  #This ensures the comparison is case-insensitive (e.g., 'Exit', 'EXIT', 'exit' will all work the same).\n",
    "        print(\"exiting the program..\")\n",
    "        break\n",
    "    else:\n",
    "        print(f\"you entered {user_input}\")"
   ]
  },
  {
   "cell_type": "markdown",
   "id": "f352b0f9-d502-401d-85e5-31b0727c92da",
   "metadata": {},
   "source": [
    "## Loop Control Statements (break, continue, pass)"
   ]
  },
  {
   "cell_type": "markdown",
   "id": "9e03b774-51b0-4a5c-a8b6-df4161ae0fa5",
   "metadata": {},
   "source": [
    "## Stop searching when the target is found"
   ]
  },
  {
   "cell_type": "code",
   "execution_count": 57,
   "id": "bbd5c8b8-5125-43e2-8ca5-256fddd7f273",
   "metadata": {},
   "outputs": [
    {
     "name": "stdin",
     "output_type": "stream",
     "text": [
      "enter a right number 10\n"
     ]
    },
    {
     "name": "stdout",
     "output_type": "stream",
     "text": [
      "Found!\n"
     ]
    }
   ],
   "source": [
    "numbers = [10, 23, 45, 67, 89, 12]\n",
    "target = int(input(\"enter a right number\"))\n",
    "\n",
    "for num in numbers:\n",
    "    if num == target:\n",
    "        print(\"Found!\")\n",
    "        break\n",
    "else:\n",
    "    print(\"Not Found!\")"
   ]
  },
  {
   "cell_type": "code",
   "execution_count": 65,
   "id": "8d187311-00ed-4456-aae2-62fa67d73b6d",
   "metadata": {},
   "outputs": [
    {
     "name": "stdin",
     "output_type": "stream",
     "text": [
      "enter a right string :  name\n"
     ]
    },
    {
     "name": "stdout",
     "output_type": "stream",
     "text": [
      "Found!\n"
     ]
    }
   ],
   "source": [
    "string = [\"name\",\"id\",\"qualification\",\"subject\",\"marks\",\"result\"]\n",
    "target = input(\"enter a right string : \")\n",
    "\n",
    "for str in string:\n",
    "    if str==target:\n",
    "        print(\"Found!\")\n",
    "        break\n",
    "else:\n",
    "    print(\"not found\")"
   ]
  },
  {
   "cell_type": "markdown",
   "id": "ecbbb5f4-e345-4816-ac27-813828ccf193",
   "metadata": {},
   "source": [
    "### Skip even numbers in a list and print only the odd ones"
   ]
  },
  {
   "cell_type": "code",
   "execution_count": 78,
   "id": "0bf605c8-ecb3-4181-a7c6-766276d9739f",
   "metadata": {},
   "outputs": [
    {
     "name": "stdout",
     "output_type": "stream",
     "text": [
      "1\n",
      "3\n",
      "5\n",
      "7\n",
      "9\n"
     ]
    }
   ],
   "source": [
    "numbers = [1, 2, 3, 4, 5, 6, 7, 8, 9, 10]\n",
    "\n",
    "for num in numbers:\n",
    "    if num % 2 == 0:\n",
    "        continue  # Skip even numbers\n",
    "    print(num)\n"
   ]
  },
  {
   "cell_type": "code",
   "execution_count": 80,
   "id": "3b02e8bd-fadc-4cf7-bc1e-24e51be1ab67",
   "metadata": {},
   "outputs": [
    {
     "name": "stdout",
     "output_type": "stream",
     "text": [
      "2\n",
      "4\n",
      "6\n",
      "8\n",
      "10\n"
     ]
    }
   ],
   "source": [
    "numbers = [1, 2, 3, 4, 5, 6, 7, 8, 9, 10]\n",
    "\n",
    "for num in numbers:\n",
    "    if num % 2 != 0:\n",
    "        continue  # Skip odd numbers\n",
    "    print(num)\n"
   ]
  },
  {
   "cell_type": "code",
   "execution_count": 97,
   "id": "a5f44a0c-c058-49e3-b86f-6b1a4cb30b7d",
   "metadata": {},
   "outputs": [],
   "source": [
    "#for i in range(5):\n",
    "#    pass  # Logic will be implemented later\n"
   ]
  },
  {
   "cell_type": "code",
   "execution_count": 99,
   "id": "4cc4cc39-8cc1-42cc-ad25-776e133f2ee8",
   "metadata": {},
   "outputs": [
    {
     "name": "stdout",
     "output_type": "stream",
     "text": [
      "0\n",
      "1\n",
      "2\n",
      "3\n",
      "4\n"
     ]
    }
   ],
   "source": [
    "for i in range(5):\n",
    "    print(i)  "
   ]
  },
  {
   "cell_type": "code",
   "execution_count": 101,
   "id": "f68b7d16-2206-46ad-a4b8-c5420004f0d6",
   "metadata": {},
   "outputs": [
    {
     "name": "stdout",
     "output_type": "stream",
     "text": [
      "Total sum: 10\n"
     ]
    }
   ],
   "source": [
    "total = 0\n",
    "for i in range(5):\n",
    "    total += i  # Add each number to total\n",
    "print(f\"Total sum: {total}\")\n"
   ]
  },
  {
   "cell_type": "markdown",
   "id": "3e9aabfb-27f7-4a50-aef9-5b1436c6d25c",
   "metadata": {},
   "source": [
    "### filtering even numbers"
   ]
  },
  {
   "cell_type": "code",
   "execution_count": 109,
   "id": "ce87f2d2-bd31-41c4-a6b9-a11f5d346333",
   "metadata": {},
   "outputs": [
    {
     "name": "stdout",
     "output_type": "stream",
     "text": [
      "[0, 2, 4, 6, 8]\n"
     ]
    }
   ],
   "source": [
    "even_numbers = []\n",
    "for i in range(10):\n",
    "    if i%2==0:\n",
    "        even_numbers.append(i)\n",
    "print(even_numbers)"
   ]
  },
  {
   "cell_type": "code",
   "execution_count": null,
   "id": "698125a8-753f-4eb8-ae4d-302eb3b0a9af",
   "metadata": {},
   "outputs": [],
   "source": []
  }
 ],
 "metadata": {
  "kernelspec": {
   "display_name": "Python 3 (ipykernel)",
   "language": "python",
   "name": "python3"
  },
  "language_info": {
   "codemirror_mode": {
    "name": "ipython",
    "version": 3
   },
   "file_extension": ".py",
   "mimetype": "text/x-python",
   "name": "python",
   "nbconvert_exporter": "python",
   "pygments_lexer": "ipython3",
   "version": "3.12.4"
  }
 },
 "nbformat": 4,
 "nbformat_minor": 5
}
