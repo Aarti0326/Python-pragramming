{
 "cells": [
  {
   "cell_type": "markdown",
   "id": "aa135693-544e-4e77-8e75-e72ccd9e0668",
   "metadata": {},
   "source": [
    "### write a program to check leap year"
   ]
  },
  {
   "cell_type": "code",
   "execution_count": 1,
   "id": "f99e9a2c-1c0e-4259-8521-a1653dcaa6cd",
   "metadata": {},
   "outputs": [
    {
     "name": "stdin",
     "output_type": "stream",
     "text": [
      "enter a year 2024\n"
     ]
    },
    {
     "name": "stdout",
     "output_type": "stream",
     "text": [
      "its a leap year 2024\n"
     ]
    }
   ],
   "source": [
    "year = int(input(\"enter a year\"))\n",
    "\n",
    "if (year%400==0)  and (year%100==0):\n",
    "    print(\"its a leap year\",year)\n",
    "elif (year%4==0)  and (year%100 !=0):\n",
    "    print(\"its a leap year\",year)\n",
    "else:\n",
    "    print(\"its not a leap yar\",year)"
   ]
  },
  {
   "cell_type": "code",
   "execution_count": 2,
   "id": "15458385-0d62-461e-a12a-e862920bc1eb",
   "metadata": {},
   "outputs": [],
   "source": [
    "#Condition Check:\n",
    "#year % 4 == 0: Checks if the year is divisible by 4.\n",
    "#year % 100 != 0: Ensures the year is not divisible by 100\n",
    "#year % 400 == 0: If it is divisible by 400, then it is a leap year"
   ]
  },
  {
   "cell_type": "markdown",
   "id": "6a0d427c-588f-480c-b25f-b7487e578dba",
   "metadata": {},
   "source": [
    "### reverse"
   ]
  },
  {
   "cell_type": "code",
   "execution_count": 73,
   "id": "7d8734c2-8333-4a68-8500-8fcc408ea3c2",
   "metadata": {},
   "outputs": [],
   "source": [
    "def reverse_string(s):\n",
    "    return s[::-1]"
   ]
  },
  {
   "cell_type": "code",
   "execution_count": 75,
   "id": "fcb7b882-1369-436f-b1f1-dea99db56b0d",
   "metadata": {},
   "outputs": [
    {
     "data": {
      "text/plain": [
       "'eman'"
      ]
     },
     "execution_count": 75,
     "metadata": {},
     "output_type": "execute_result"
    }
   ],
   "source": [
    "reverse_string('name')"
   ]
  },
  {
   "cell_type": "markdown",
   "id": "735f5909-b88a-4009-894b-6725e81ef50a",
   "metadata": {},
   "source": [
    "### Find the Largest Element in a List"
   ]
  },
  {
   "cell_type": "code",
   "execution_count": 106,
   "id": "ebb00897-8310-47c8-a0b5-421f8df45fa4",
   "metadata": {},
   "outputs": [
    {
     "name": "stdout",
     "output_type": "stream",
     "text": [
      "52\n"
     ]
    }
   ],
   "source": [
    "list = [5,6,8,52,3.6]\n",
    "largest_element=max(list)\n",
    "print(largest_element)"
   ]
  },
  {
   "cell_type": "markdown",
   "id": "37f9011e-33d1-434e-a78b-cddb5fc3b016",
   "metadata": {},
   "source": [
    "### Check if a Number is Prime"
   ]
  },
  {
   "cell_type": "code",
   "execution_count": 120,
   "id": "22ba4353-67e7-429f-8e82-941da9ba6688",
   "metadata": {},
   "outputs": [
    {
     "name": "stdin",
     "output_type": "stream",
     "text": [
      "Enter a number:  13\n"
     ]
    },
    {
     "name": "stdout",
     "output_type": "stream",
     "text": [
      "13 is a prime number\n"
     ]
    }
   ],
   "source": [
    "# This program checks if a number is prime\n",
    "number = int(input(\"Enter a number: \"))\n",
    "\n",
    "if number > 1:\n",
    "    for i in range(2, int(number**0.5) + 1):\n",
    "        if number % i == 0:\n",
    "            print(f\"{number} is not a prime number\")\n",
    "            break\n",
    "    else:\n",
    "        print(f\"{number} is a prime number\")\n",
    "else:\n",
    "    print(f\"{number} is not a prime number\")"
   ]
  },
  {
   "cell_type": "code",
   "execution_count": null,
   "id": "c1b5d219-f343-41e1-a42e-bca2dd54d4d5",
   "metadata": {},
   "outputs": [],
   "source": [
    "#Explanation: This program checks if a given number is prime by checking divisibility up to the square root of the number."
   ]
  },
  {
   "cell_type": "markdown",
   "id": "87757a82-3d20-4b22-94b7-0b0ac6038f6f",
   "metadata": {},
   "source": [
    "### factorial"
   ]
  },
  {
   "cell_type": "code",
   "execution_count": 126,
   "id": "ab6583a0-7f8b-4782-8d94-68d0f71bf0df",
   "metadata": {},
   "outputs": [
    {
     "name": "stdin",
     "output_type": "stream",
     "text": [
      "Enter a number:  5\n"
     ]
    },
    {
     "name": "stdout",
     "output_type": "stream",
     "text": [
      "The factorial of 5 is 120\n"
     ]
    }
   ],
   "source": [
    "import math\n",
    "\n",
    "number = int(input(\"Enter a number: \"))\n",
    "\n",
    "factorial = math.factorial(number)\n",
    "print(f\"The factorial of {number} is {factorial}\")"
   ]
  },
  {
   "cell_type": "code",
   "execution_count": null,
   "id": "08c62ec7-eba3-4d51-a579-d5a6bd675e4f",
   "metadata": {},
   "outputs": [],
   "source": []
  }
 ],
 "metadata": {
  "kernelspec": {
   "display_name": "Python 3 (ipykernel)",
   "language": "python",
   "name": "python3"
  },
  "language_info": {
   "codemirror_mode": {
    "name": "ipython",
    "version": 3
   },
   "file_extension": ".py",
   "mimetype": "text/x-python",
   "name": "python",
   "nbconvert_exporter": "python",
   "pygments_lexer": "ipython3",
   "version": "3.12.4"
  }
 },
 "nbformat": 4,
 "nbformat_minor": 5
}
