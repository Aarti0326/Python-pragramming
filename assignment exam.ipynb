{
 "cells": [
  {
   "cell_type": "markdown",
   "id": "b7766b23-72f1-4912-b815-63db60613cd3",
   "metadata": {},
   "source": [
    "### OOPs(Object-Oriented Programming )"
   ]
  },
  {
   "cell_type": "markdown",
   "id": "78b28acc-bf5d-4c0c-924c-5e082bf52cac",
   "metadata": {},
   "source": [
    "#### Object-Oriented Programming (OOP) is a way of writing programs by creating objects, just like real-world things. For example, think of a car, a dog, or a mobile phone. Each of these has properties (what they are) and behaviors (what they do). OOP helps us represent these things in code using classes and objects."
   ]
  },
  {
   "cell_type": "markdown",
   "id": "fd6dce1a-eedc-4a20-8ffc-54bd2fa54c30",
   "metadata": {},
   "source": [
    "### Key Concepts of OOP:"
   ]
  },
  {
   "cell_type": "markdown",
   "id": "b0361b97-b703-4f10-a582-a4f2ae0d4cb2",
   "metadata": {},
   "source": [
    "### Class: A blueprint or template for creating objects (e.g., a Car class defines what a car is).\n",
    "### Object: A specific instance of a class (e.g., your car is an object of the Car class).\n",
    "### Encapsulation: Bundling data (attributes) and methods (functions) together and restricting direct access to some of the object's components.\n",
    "### Inheritance: A way for one class to inherit properties and methods from another class.\n",
    "### Polymorphism: The ability for methods to behave differently based on the object calling them (e.g., a move() method could work differently for a car and a plane).\n",
    "### Abstraction: Hiding complex details and showing only the necessary features of an object."
   ]
  },
  {
   "cell_type": "markdown",
   "id": "e7315dfd-004c-4a4b-b780-c3cbf3e5f920",
   "metadata": {},
   "source": [
    "### Benefits of OOP:\n",
    "#### Code Reusability: Classes can be reused in other programs.\n",
    "#### Modularity: Code is easier to manage and organize.\n",
    "#### Scalability: Ideal for large and complex applications.\n",
    "#### Real-world Mapping: OOP aligns with real-world concepts like objects and their behaviors."
   ]
  },
  {
   "cell_type": "code",
   "execution_count": 7,
   "id": "acd714d7-ac87-49da-b18e-56ee2c358259",
   "metadata": {},
   "outputs": [
    {
     "name": "stdout",
     "output_type": "stream",
     "text": [
      "This animal makes a sound.\n",
      "Woof! Woof!\n"
     ]
    }
   ],
   "source": [
    "# Defining a class\n",
    "class Animal:\n",
    "    def __init__(self, name):\n",
    "        self.name = name\n",
    "\n",
    "    def sound(self):\n",
    "        return \"This animal makes a sound.\"\n",
    "\n",
    "# Inheritance: Dog is a type of Animal\n",
    "class Dog(Animal):\n",
    "    def sound(self):  \n",
    "        return \"Woof! Woof!\"\n",
    "\n",
    "# Creating objects\n",
    "animal = Animal(\"Generic Animal\")\n",
    "dog = Dog(\"Buddy\")\n",
    "\n",
    "print(animal.sound())  \n",
    "print(dog.sound())     "
   ]
  },
  {
   "cell_type": "code",
   "execution_count": 1,
   "id": "b207fc1b-113b-4d87-88ea-9e9f13bec20a",
   "metadata": {},
   "outputs": [
    {
     "name": "stdout",
     "output_type": "stream",
     "text": [
      "Welcome to the Python Calculator!\n",
      "Select operation:\n",
      "1. Addition (+)\n",
      "2. Subtraction (-)\n",
      "3. Multiplication (*)\n",
      "4. Division (/)\n"
     ]
    },
    {
     "name": "stdin",
     "output_type": "stream",
     "text": [
      "Enter choice (1/2/3/4):  1\n",
      "Enter the first number:  5\n",
      "Enter the second number:  6\n"
     ]
    },
    {
     "name": "stdout",
     "output_type": "stream",
     "text": [
      "The result is: 11.0\n"
     ]
    }
   ],
   "source": [
    "# Simple Calculator\n",
    "def calculator():\n",
    "    print(\"Welcome to the Python Calculator!\")\n",
    "    print(\"Select operation:\")\n",
    "    print(\"1. Addition (+)\")\n",
    "    print(\"2. Subtraction (-)\")\n",
    "    print(\"3. Multiplication (*)\")\n",
    "    print(\"4. Division (/)\")\n",
    "\n",
    "    # Get user input\n",
    "    choice = input(\"Enter choice (1/2/3/4): \")\n",
    "\n",
    "    if choice in ['1', '2', '3', '4']:\n",
    "        # Get numbers from the user\n",
    "        num1 = float(input(\"Enter the first number: \"))\n",
    "        num2 = float(input(\"Enter the second number: \"))\n",
    "\n",
    "        # Perform the chosen operation\n",
    "        if choice == '1':\n",
    "            print(f\"The result is: {num1 + num2}\")\n",
    "        elif choice == '2':\n",
    "            print(f\"The result is: {num1 - num2}\")\n",
    "        elif choice == '3':\n",
    "            print(f\"The result is: {num1 * num2}\")\n",
    "        elif choice == '4':\n",
    "            if num2 != 0:  # Check for division by zero\n",
    "                print(f\"The result is: {num1 / num2}\")\n",
    "            else:\n",
    "                print(\"Error: Division by zero is not allowed.\")\n",
    "    else:\n",
    "        print(\"Invalid input. Please select a valid operation.\")\n",
    "\n",
    "# Run the calculator\n",
    "calculator()\n"
   ]
  },
  {
   "cell_type": "code",
   "execution_count": null,
   "id": "dd53cca2-c9ef-4b0a-ba9a-49056b6285a8",
   "metadata": {},
   "outputs": [],
   "source": []
  }
 ],
 "metadata": {
  "kernelspec": {
   "display_name": "Python 3 (ipykernel)",
   "language": "python",
   "name": "python3"
  },
  "language_info": {
   "codemirror_mode": {
    "name": "ipython",
    "version": 3
   },
   "file_extension": ".py",
   "mimetype": "text/x-python",
   "name": "python",
   "nbconvert_exporter": "python",
   "pygments_lexer": "ipython3",
   "version": "3.12.4"
  }
 },
 "nbformat": 4,
 "nbformat_minor": 5
}
