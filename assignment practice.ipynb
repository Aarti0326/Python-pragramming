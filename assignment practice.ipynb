{
 "cells": [
  {
   "cell_type": "markdown",
   "id": "eeb3f233-6ca8-461a-9f11-cf8b24fa6625",
   "metadata": {},
   "source": [
    "### Write a program to concatenate two strings \"Good Morning!\" and \"Have a nice day!\" and print the combined string using a space in between."
   ]
  },
  {
   "cell_type": "code",
   "execution_count": 1,
   "id": "7cd18e30-16d9-4c3d-bc5c-ad3884aa428f",
   "metadata": {},
   "outputs": [
    {
     "name": "stdout",
     "output_type": "stream",
     "text": [
      "Good Morning! Have a nice day!\n"
     ]
    }
   ],
   "source": [
    "string1 = \"Good Morning!\"\n",
    "string2 = \"Have a nice day!\"\n",
    "\n",
    "combined_string = string1 + \" \" + string2\n",
    "\n",
    "# Print the combined string\n",
    "print(combined_string)\n"
   ]
  },
  {
   "cell_type": "markdown",
   "id": "a6c9d0b4-e2d9-4e14-af11-d299df458a3c",
   "metadata": {},
   "source": [
    "### Can you give multiline comment & explain what is the meaning of identifiers?"
   ]
  },
  {
   "cell_type": "code",
   "execution_count": 7,
   "id": "3fdf20e6-e208-43e0-91ab-1e78924d749e",
   "metadata": {},
   "outputs": [
    {
     "data": {
      "text/plain": [
       "\"\\nIdentifiers in Python are names used to identify a variable, function, class, module, or other objects. \\nThey are the fundamental building blocks of a Python program and are essential for code readability \\nand organization. Here are some key points about identifiers:\\n\\n1. **Naming Rules**:\\n   - Identifiers can consist of letters (both uppercase and lowercase), digits, and underscores.\\n   - They must start with a letter or an underscore, not a digit.\\n   - Identifiers are case-sensitive, meaning `Variable` and `variable` are considered different identifiers.\\n\\n2. **Naming Conventions**:\\n   - While you can use almost any name, it’s important to choose meaningful names that describe the purpose of the variable or function.\\n   - It's common to use lowercase letters for variables and functions, and CapitalizedWords for classes.\\n\\n3. **Reserved Keywords**:\\n   - Certain words in Python are reserved as keywords (like `if`, `else`, `while`, etc.) and cannot be used as identifiers.\\n\\n4. **Examples of Valid Identifiers**:\\n   - `my_variable`\\n   - `total_sum`\\n   - `calculateArea`\\n   - `_privateVariable`\\n\\n5. **Examples of Invalid Identifiers**:\\n   - `2ndValue` (starts with a digit)\\n   - `my-variable` (contains a hyphen)\\n   - `class` (reserved keyword)\\n\""
      ]
     },
     "execution_count": 7,
     "metadata": {},
     "output_type": "execute_result"
    }
   ],
   "source": [
    "\"\"\"\n",
    "Identifiers in Python are names used to identify a variable, function, class, module, or other objects. \n",
    "They are the fundamental building blocks of a Python program and are essential for code readability \n",
    "and organization. Here are some key points about identifiers:\n",
    "\n",
    "1. **Naming Rules**:\n",
    "   - Identifiers can consist of letters (both uppercase and lowercase), digits, and underscores.\n",
    "   - They must start with a letter or an underscore, not a digit.\n",
    "   - Identifiers are case-sensitive, meaning `Variable` and `variable` are considered different identifiers.\n",
    "\n",
    "2. **Naming Conventions**:\n",
    "   - While you can use almost any name, it’s important to choose meaningful names that describe the purpose of the variable or function.\n",
    "   - It's common to use lowercase letters for variables and functions, and CapitalizedWords for classes.\n",
    "\n",
    "3. **Reserved Keywords**:\n",
    "   - Certain words in Python are reserved as keywords (like `if`, `else`, `while`, etc.) and cannot be used as identifiers.\n",
    "\n",
    "4. **Examples of Valid Identifiers**:\n",
    "   - `my_variable`\n",
    "   - `total_sum`\n",
    "   - `calculateArea`\n",
    "   - `_privateVariable`\n",
    "\n",
    "5. **Examples of Invalid Identifiers**:\n",
    "   - `2ndValue` (starts with a digit)\n",
    "   - `my-variable` (contains a hyphen)\n",
    "   - `class` (reserved keyword)\n",
    "\"\"\"\n",
    "\n"
   ]
  },
  {
   "cell_type": "markdown",
   "id": "9e552ba3-e7fb-4506-aac2-db8d24fc0f62",
   "metadata": {},
   "source": [
    "### Write a program to slice a string str=\"Hello Everyone\" to get the following output:\n",
    "#'Hello'\n",
    "\n",
    "#'yone'\n",
    "\n",
    "#el vroe\n",
    "\n",
    "#'Eeyn'"
   ]
  },
  {
   "cell_type": "code",
   "execution_count": 93,
   "id": "4563f2b7-4e83-4d87-b466-3d9a8a29d795",
   "metadata": {},
   "outputs": [],
   "source": [
    "str = \"Hello Everyone\"\n",
    "slice1 = str[0:5]       \n",
    "slice2 = str[-4:]      \n",
    "slice3 = str[6::2] \n",
    "slice4 = str[1::2]        "
   ]
  },
  {
   "cell_type": "code",
   "execution_count": 95,
   "id": "4277b5ce-6dc8-46e3-b8a2-74bc05ff69e3",
   "metadata": {},
   "outputs": [
    {
     "name": "stdout",
     "output_type": "stream",
     "text": [
      "Hello\n",
      "yone\n",
      "Eeyn\n",
      "el vroe\n"
     ]
    }
   ],
   "source": [
    "print(slice1)\n",
    "print(slice2)\n",
    "print(slice3)\n",
    "print(slice4)"
   ]
  },
  {
   "cell_type": "markdown",
   "id": "2efc727e-b77c-43ff-8f9c-684c6c5264fe",
   "metadata": {},
   "source": [
    "### We have variable x=22+5j. Can you check the type of variable x?"
   ]
  },
  {
   "cell_type": "code",
   "execution_count": 53,
   "id": "b0cb8318-b49e-4681-a1ee-ee833a99fb4e",
   "metadata": {},
   "outputs": [
    {
     "name": "stdout",
     "output_type": "stream",
     "text": [
      "<class 'complex'>\n"
     ]
    }
   ],
   "source": [
    "x = 22 + 5j\n",
    "variable_type = type(x)\n",
    "print(variable_type)"
   ]
  },
  {
   "cell_type": "markdown",
   "id": "17363fba-cb3f-451a-b0cf-921e9360235a",
   "metadata": {},
   "source": [
    "### We have variable y=88.7. How do we check if y is instance of float type?"
   ]
  },
  {
   "cell_type": "code",
   "execution_count": 99,
   "id": "15eec711-4b28-43ba-81b5-df4e6659aaf5",
   "metadata": {},
   "outputs": [
    {
     "name": "stdout",
     "output_type": "stream",
     "text": [
      "True\n"
     ]
    }
   ],
   "source": [
    "y = 88.7\n",
    "is_float = isinstance(y,float)\n",
    "print(is_float)"
   ]
  },
  {
   "cell_type": "code",
   "execution_count": 111,
   "id": "c5ba16bb-a3d4-4f6b-a1cd-a0d34f28c95b",
   "metadata": {},
   "outputs": [
    {
     "name": "stdout",
     "output_type": "stream",
     "text": [
      "y is a float\n"
     ]
    }
   ],
   "source": [
    "y = 88.\n",
    "\n",
    "if type(y)==float:\n",
    "    print(\"y is a float\")\n",
    "else:\n",
    "    print(\"y is not float\")\n"
   ]
  },
  {
   "cell_type": "markdown",
   "id": "f8d1af32-6ae0-4603-b4e6-e1cadc502f77",
   "metadata": {},
   "source": [
    "### We have Raju who has scored 400 marks in his recent test. Use multiple assignment technique to store his name & score in 2 different variables & print them."
   ]
  },
  {
   "cell_type": "code",
   "execution_count": 114,
   "id": "4d367fe6-5f42-4d96-a4c7-a49696b0f1f9",
   "metadata": {},
   "outputs": [
    {
     "name": "stdout",
     "output_type": "stream",
     "text": [
      "Name: Raju\n",
      "Score: 400\n"
     ]
    }
   ],
   "source": [
    "name, score = \"Raju\", 400\n",
    "\n",
    "print(\"Name:\", name)\n",
    "print(\"Score:\", score)\n"
   ]
  },
  {
   "cell_type": "markdown",
   "id": "6b78dbf4-f2c4-4703-8e71-8a5b4b1768e1",
   "metadata": {},
   "source": [
    "### Use partition() to split the string, str3=\"Twinkle Twinkle little star\" based on argument string \"little\""
   ]
  },
  {
   "cell_type": "code",
   "execution_count": 124,
   "id": "3ffd6730-1bf2-42c9-abc3-d594f88173d7",
   "metadata": {},
   "outputs": [
    {
     "name": "stdout",
     "output_type": "stream",
     "text": [
      "Before: Twinkle Twinkle \n",
      "Separator: little\n",
      "After:  star\n"
     ]
    }
   ],
   "source": [
    "# Define the string\n",
    "str3 = \"Twinkle Twinkle little star\"\n",
    "\n",
    "before,separator,after = str3.partition(\"little\")\n",
    "\n",
    "# Print the results\n",
    "print(\"Before:\", before)\n",
    "print(\"Separator:\", separator)\n",
    "print(\"After:\", after)\n"
   ]
  },
  {
   "cell_type": "markdown",
   "id": "91216b95-6134-4bc9-a11b-03beca205e80",
   "metadata": {},
   "source": [
    "### What is the output of x=int(5.7)+float(4)+int(True)?"
   ]
  },
  {
   "cell_type": "code",
   "execution_count": 127,
   "id": "34b04d76-7fbb-4b2d-aad7-09d25b1cadd5",
   "metadata": {},
   "outputs": [],
   "source": [
    "x=int(5.7)+float(4)+int(True)"
   ]
  },
  {
   "cell_type": "code",
   "execution_count": 129,
   "id": "668755f4-5800-4df1-8520-d09636cc3cb5",
   "metadata": {},
   "outputs": [
    {
     "name": "stdout",
     "output_type": "stream",
     "text": [
      "10.0\n"
     ]
    }
   ],
   "source": [
    "print(x)"
   ]
  },
  {
   "cell_type": "markdown",
   "id": "e49c7257-d97b-469f-a63d-331a40e78c58",
   "metadata": {},
   "source": [
    "### We have string, str=\"Have a nice day!\". Can you count & print number of occurances of letter 'a'?"
   ]
  },
  {
   "cell_type": "code",
   "execution_count": 151,
   "id": "285ffd50-ea62-4b54-b878-adf657d1f756",
   "metadata": {},
   "outputs": [
    {
     "name": "stdout",
     "output_type": "stream",
     "text": [
      "number of occurances of letter 'a' 3\n"
     ]
    }
   ],
   "source": [
    "str = \"Have a nice  day!\"\n",
    "count_a = str.count('a')\n",
    "print(\"number of occurances of letter 'a'\",count_a)"
   ]
  },
  {
   "cell_type": "markdown",
   "id": "e3ed26c2-11d7-4041-893e-6d45efc729d2",
   "metadata": {},
   "source": [
    "### str1=\" Thank you \". Remove whitespaces from beginning & end of string."
   ]
  },
  {
   "cell_type": "code",
   "execution_count": 162,
   "id": "3b47a2c1-0541-4ea5-9e4a-ea683559b346",
   "metadata": {},
   "outputs": [
    {
     "name": "stdout",
     "output_type": "stream",
     "text": [
      "Thank you\n"
     ]
    }
   ],
   "source": [
    "# Original string\n",
    "str1 = \" Thank you \"\n",
    "\n",
    "# Removing whitespace from both ends\n",
    "str1_cleaned = str1.strip()\n",
    "\n",
    "# Displaying the cleaned string\n",
    "print(str1_cleaned)"
   ]
  },
  {
   "cell_type": "markdown",
   "id": "66ab5f4e-223e-4e19-9587-a75470dfe8c4",
   "metadata": {},
   "source": [
    "### Split str=\"Have a nice day!\" based on letter 'a'"
   ]
  },
  {
   "cell_type": "code",
   "execution_count": 166,
   "id": "0c872ad1-ffba-48aa-b797-cabc68159eb8",
   "metadata": {},
   "outputs": [
    {
     "name": "stdout",
     "output_type": "stream",
     "text": [
      "['H', 've ', ' nice d', 'y!']\n"
     ]
    }
   ],
   "source": [
    "str1 = \"Have a nice day!\"\n",
    "result = str1.split('a')\n",
    "print(result)"
   ]
  },
  {
   "cell_type": "markdown",
   "id": "e35cd60c-20c2-4126-afc5-80f6c902f1ae",
   "metadata": {},
   "source": [
    "### What will be output of y=(5<6 and 1==4)?"
   ]
  },
  {
   "cell_type": "code",
   "execution_count": 169,
   "id": "4149460a-59f1-4ede-856e-55ade29ae7f5",
   "metadata": {},
   "outputs": [
    {
     "name": "stdout",
     "output_type": "stream",
     "text": [
      "False\n"
     ]
    }
   ],
   "source": [
    "y=(5<6 and 1==4)\n",
    "print(y)"
   ]
  },
  {
   "cell_type": "markdown",
   "id": "d40c4588-dc04-406b-8f0b-dd7cd048bca2",
   "metadata": {},
   "source": [
    "### 13. Write a Python program to get the Python version you are using. "
   ]
  },
  {
   "cell_type": "code",
   "execution_count": 171,
   "id": "75d9b0c7-4784-46be-8d39-866596c9f873",
   "metadata": {},
   "outputs": [
    {
     "name": "stdout",
     "output_type": "stream",
     "text": [
      "3.12.4 | packaged by Anaconda, Inc. | (main, Jun 18 2024, 15:03:56) [MSC v.1929 64 bit (AMD64)]\n"
     ]
    }
   ],
   "source": [
    "import sys\n",
    "\n",
    "python_version = sys.version\n",
    "\n",
    "print(python_version)"
   ]
  },
  {
   "cell_type": "code",
   "execution_count": null,
   "id": "33400ff0-2108-4d9a-bee4-5672547c330a",
   "metadata": {},
   "outputs": [],
   "source": []
  }
 ],
 "metadata": {
  "kernelspec": {
   "display_name": "Python 3 (ipykernel)",
   "language": "python",
   "name": "python3"
  },
  "language_info": {
   "codemirror_mode": {
    "name": "ipython",
    "version": 3
   },
   "file_extension": ".py",
   "mimetype": "text/x-python",
   "name": "python",
   "nbconvert_exporter": "python",
   "pygments_lexer": "ipython3",
   "version": "3.12.4"
  }
 },
 "nbformat": 4,
 "nbformat_minor": 5
}
