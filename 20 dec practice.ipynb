{
 "cells": [
  {
   "cell_type": "markdown",
   "id": "d74808eb-b5d5-411f-a54c-26794ead6e95",
   "metadata": {},
   "source": [
    "### Celsius to Fahrenheit conversion."
   ]
  },
  {
   "cell_type": "code",
   "execution_count": 13,
   "id": "d67ef3f9-da9e-4233-a67e-98a20148bd89",
   "metadata": {},
   "outputs": [
    {
     "name": "stdin",
     "output_type": "stream",
     "text": [
      "Enter the Celsius value:  24\n"
     ]
    },
    {
     "name": "stdout",
     "output_type": "stream",
     "text": [
      "75.2\n"
     ]
    }
   ],
   "source": [
    "celsius = float(input(\"Enter the Celsius value: \"))\n",
    "fahrenheit = (celsius * 9/5)+32\n",
    "print(fahrenheit)"
   ]
  },
  {
   "cell_type": "markdown",
   "id": "2b345c7c-7c05-4da9-9b1f-1f5bedc5d69e",
   "metadata": {},
   "source": [
    "## Simple Interest."
   ]
  },
  {
   "cell_type": "code",
   "execution_count": 15,
   "id": "cff0a4de-e602-41a9-8b65-a753d7a0ed6a",
   "metadata": {},
   "outputs": [
    {
     "name": "stdin",
     "output_type": "stream",
     "text": [
      "Enter the principal amount:  500\n",
      "Enter the rate of interest:  100\n",
      "Enter the time period (in years):  3\n"
     ]
    },
    {
     "name": "stdout",
     "output_type": "stream",
     "text": [
      "the simple interest is 1500.0\n"
     ]
    }
   ],
   "source": [
    "P = float(input(\"Enter the principal amount: \"))\n",
    "R = float(input(\"Enter the rate of interest: \"))\n",
    "T = float(input(\"Enter the time period (in years): \"))\n",
    "SI = (P*R*T)/100\n",
    "print(f\"the simple interest is {SI}\")"
   ]
  },
  {
   "cell_type": "markdown",
   "id": "32b1a1f5-ff1f-4b0b-bf6d-5560d73695b0",
   "metadata": {},
   "source": [
    "### Problem 1: Write a program that will give you in hand monthly salary after deduction on CTC - HRA(10%), DA(5%), PF(3%) and taxes deduction as below:\n",
    "### Salary(Lakhs) : Tax(%)\n",
    "\n",
    "### Below 5 : 0%\n",
    "### 5-10 : 10%\n",
    "### 10-20 : 20%\n",
    "### aboove 20 : 30%"
   ]
  },
  {
   "cell_type": "code",
   "execution_count": 31,
   "id": "ff008c11-e024-4991-85a3-534ae1ca3571",
   "metadata": {},
   "outputs": [
    {
     "name": "stdin",
     "output_type": "stream",
     "text": [
      "Enter your CTC in Lakhs per annum:  10\n"
     ]
    },
    {
     "name": "stdout",
     "output_type": "stream",
     "text": [
      "Your in-hand monthly salary after all deductions is:  61500.0 RS\n"
     ]
    }
   ],
   "source": [
    "# Solution\n",
    "# Input CTC from the user\n",
    "CTC = float(input(\"Enter your CTC in Lakhs per annum: \"))\n",
    "\n",
    "# Convert CTC to annual salary in INR\n",
    "annual_salary = CTC * 100000  # Convert Lakhs to INR\n",
    "\n",
    "# Calculate deductions\n",
    "HRA = annual_salary * 0.10  # 10% of annual salary\n",
    "DA = annual_salary * 0.05   # 5% of annual salary\n",
    "PF = annual_salary * 0.03   # 3% of annual salary\n",
    "\n",
    "# Calculate taxable income after HRA, DA, and PF deductions\n",
    "taxable_income = annual_salary - (HRA + DA + PF)\n",
    "\n",
    "# Calculate tax based on the taxable income\n",
    "if taxable_income < 500000:  # Below 5 Lakhs\n",
    "    tax = 0\n",
    "elif 500000 <= taxable_income < 1000000:  # Between 5 and 10 Lakhs\n",
    "    tax = taxable_income * 0.10\n",
    "elif 1000000 <= taxable_income < 2000000:  # Between 10 and 20 Lakhs\n",
    "    tax = taxable_income * 0.20\n",
    "else:  # Above 20 Lakhs\n",
    "    tax = taxable_income * 0.30\n",
    "\n",
    "# Final annual salary after all deductions\n",
    "final_annual_salary = taxable_income - tax\n",
    "\n",
    "# Convert to monthly salary\n",
    "monthly_salary = final_annual_salary / 12\n",
    "\n",
    "# Output results\n",
    "print(f\"Your in-hand monthly salary after all deductions is:  {monthly_salary:} RS\")\n"
   ]
  },
  {
   "cell_type": "code",
   "execution_count": null,
   "id": "457b7a76-8e05-427f-84c6-ac66d0dbb65a",
   "metadata": {},
   "outputs": [],
   "source": []
  }
 ],
 "metadata": {
  "kernelspec": {
   "display_name": "Python 3 (ipykernel)",
   "language": "python",
   "name": "python3"
  },
  "language_info": {
   "codemirror_mode": {
    "name": "ipython",
    "version": 3
   },
   "file_extension": ".py",
   "mimetype": "text/x-python",
   "name": "python",
   "nbconvert_exporter": "python",
   "pygments_lexer": "ipython3",
   "version": "3.12.4"
  }
 },
 "nbformat": 4,
 "nbformat_minor": 5
}
