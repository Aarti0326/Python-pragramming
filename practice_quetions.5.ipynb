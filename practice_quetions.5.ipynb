{
 "cells": [
  {
   "cell_type": "markdown",
   "id": "1f4f987c-ad9a-4974-8588-4bcc8a75f291",
   "metadata": {},
   "source": [
    "### Find Maximum of two numbers in Python"
   ]
  },
  {
   "cell_type": "code",
   "execution_count": 2,
   "id": "3a256715-24a1-42ae-a074-efb4f7480049",
   "metadata": {},
   "outputs": [],
   "source": [
    "def maximum(a, b):\n",
    "    \n",
    "    if a >= b:\n",
    "        return a\n",
    "    else:\n",
    "        return b"
   ]
  },
  {
   "cell_type": "code",
   "execution_count": 3,
   "id": "911ef5a1-9a0b-4e4c-a9b5-2797995a8e8c",
   "metadata": {},
   "outputs": [
    {
     "data": {
      "text/plain": [
       "8"
      ]
     },
     "execution_count": 3,
     "metadata": {},
     "output_type": "execute_result"
    }
   ],
   "source": [
    "maximum(5.2,8)"
   ]
  },
  {
   "cell_type": "code",
   "execution_count": 4,
   "id": "c14ffbe0-792f-4a65-a5e9-d22eebb99f0d",
   "metadata": {},
   "outputs": [
    {
     "name": "stdout",
     "output_type": "stream",
     "text": [
      "9\n"
     ]
    }
   ],
   "source": [
    "#second method \n",
    "a = 5\n",
    "b = 9\n",
    "maximum = max(a,b)\n",
    "print(maximum)"
   ]
  },
  {
   "cell_type": "markdown",
   "id": "4f7f7593-8607-486d-87ae-63b3722b4953",
   "metadata": {},
   "source": [
    "### Python Program to Find the Factorial of a Number"
   ]
  },
  {
   "cell_type": "code",
   "execution_count": 6,
   "id": "240ee079-26af-4e0f-a9a7-49f64136e04b",
   "metadata": {},
   "outputs": [],
   "source": [
    "#ValueError: factorial() not defined for negative values"
   ]
  },
  {
   "cell_type": "code",
   "execution_count": 7,
   "id": "9e0e06b6-3806-4bc2-931f-54a905c7e2f6",
   "metadata": {},
   "outputs": [
    {
     "name": "stdin",
     "output_type": "stream",
     "text": [
      "enter a number 5\n"
     ]
    },
    {
     "name": "stdout",
     "output_type": "stream",
     "text": [
      "the factorial is  120\n"
     ]
    }
   ],
   "source": [
    "a=int(input(\"enter a number\"))\n",
    "import math\n",
    "print(\"the factorial is \",math.factorial(a))"
   ]
  },
  {
   "cell_type": "markdown",
   "id": "bf5a7a10-4f30-4f12-b043-c5d52935e37b",
   "metadata": {},
   "source": [
    "###  Write a program to input student name & marks of 3 subjects. \n",
    "###  Print name & percentage in output"
   ]
  },
  {
   "cell_type": "code",
   "execution_count": 33,
   "id": "01baa146-4e61-47ad-8062-aa5075293b80",
   "metadata": {},
   "outputs": [
    {
     "name": "stdin",
     "output_type": "stream",
     "text": [
      "Enter student name:  Nikita\n",
      "Enter marks for subject 1:  100\n",
      "Enter marks for subject 2:  100\n",
      "Enter marks for subject 3:  100\n"
     ]
    },
    {
     "name": "stdout",
     "output_type": "stream",
     "text": [
      "prcentage of student is  100.0\n"
     ]
    }
   ],
   "source": [
    "# Input student name\n",
    "name = input(\"Enter student name: \")\n",
    "\n",
    "# Input marks for 3 subjects\n",
    "marks1 = float(input(\"Enter marks for subject 1: \"))\n",
    "marks2 = float(input(\"Enter marks for subject 2: \"))\n",
    "marks3 = float(input(\"Enter marks for subject 3: \"))\n",
    "\n",
    "# Calculate total and percentage\n",
    "total_marks = (int(marks1 + marks2 + marks3))\n",
    "percentage = (total_marks / 300) * 100\n",
    "\n",
    "# Print name and percentage\n",
    "print(\"prcentage of student is \",percentage)"
   ]
  },
  {
   "cell_type": "markdown",
   "id": "ac51c15f-22c6-4f3b-8c46-64b6ec75fa85",
   "metadata": {},
   "source": [
    "###  Determine the Type of Triangle\n"
   ]
  },
  {
   "cell_type": "code",
   "execution_count": 49,
   "id": "30c64a66-ba33-4a70-8292-05a4e42ff84d",
   "metadata": {},
   "outputs": [
    {
     "name": "stdin",
     "output_type": "stream",
     "text": [
      "Enter the first side:  6\n",
      "Enter the second side:  5\n",
      "Enter the third side:  5\n"
     ]
    },
    {
     "name": "stdout",
     "output_type": "stream",
     "text": [
      "Isosceles triangle\n"
     ]
    }
   ],
   "source": [
    "a = float(input(\"Enter the first side: \"))\n",
    "b = float(input(\"Enter the second side: \"))\n",
    "c = float(input(\"Enter the third side: \"))\n",
    "\n",
    "if a==b==c:\n",
    "    print(\"Equilateral triangle\")\n",
    "elif a==b or b==c or a==c:\n",
    "    print(\"Isosceles triangle\")\n",
    "else:\n",
    "    print(\"the triangle is scalene\")"
   ]
  },
  {
   "cell_type": "code",
   "execution_count": 37,
   "id": "02912067-0f76-469a-9c1a-c9ca55e52ae7",
   "metadata": {},
   "outputs": [],
   "source": [
    "#Explanation:\n",
    "\n",
    "#Condition: if a == b == c\n",
    "#Checks if all three sides are equal.\n",
    "#If True, the triangle is equilateral.\n",
    "\n",
    "#Condition: elif a == b or b == c or a == c\n",
    "#If the previous condition is False, this checks if any two sides are equal.\n",
    "#If True, the triangle is isosceles.\n",
    "\n",
    "#Condition: else\n",
    "#If none of the sides are equal, the triangle is scalene."
   ]
  },
  {
   "cell_type": "markdown",
   "id": "21a6da5d-bd4d-45b4-a633-655d82a118e9",
   "metadata": {},
   "source": [
    "### Check if a Number Is Divisible by Another Number"
   ]
  },
  {
   "cell_type": "code",
   "execution_count": 90,
   "id": "3d167d2c-3e97-40e4-9f3c-131b23e7aeee",
   "metadata": {},
   "outputs": [
    {
     "name": "stdin",
     "output_type": "stream",
     "text": [
      "Enter a number:  10\n",
      "Enter the divisor:  5\n"
     ]
    },
    {
     "name": "stdout",
     "output_type": "stream",
     "text": [
      "10 is divisible by 5\n"
     ]
    }
   ],
   "source": [
    "num = int(input(\"Enter a number: \"))\n",
    "divisor = int(input(\"Enter the divisor: \"))\n",
    "\n",
    "if num % divisor == 0:\n",
    "    print(f\"{num} is divisible by {divisor}\")\n",
    "else:\n",
    "    print(f\"{num} is not divisible by {divisor}\")\n",
    "    "
   ]
  },
  {
   "cell_type": "markdown",
   "id": "215050ec-6ff9-4690-adb2-077ffbc240db",
   "metadata": {},
   "source": [
    "### Check If a Year Is a Century Year"
   ]
  },
  {
   "cell_type": "code",
   "execution_count": 95,
   "id": "ba549270-ce4a-4bb7-93e7-3b660e02ac5a",
   "metadata": {},
   "outputs": [
    {
     "name": "stdin",
     "output_type": "stream",
     "text": [
      "Enter a year  2000\n"
     ]
    },
    {
     "name": "stdout",
     "output_type": "stream",
     "text": [
      "2000 is a century year\n"
     ]
    }
   ],
   "source": [
    "year = int(input(\"Enter a year \"))\n",
    "\n",
    "if year % 100 == 0:\n",
    "    print(f\"{year} is a century year\")\n",
    "else:\n",
    "    print(f\"{year} is not a century year\")"
   ]
  },
  {
   "cell_type": "code",
   "execution_count": 97,
   "id": "cee2703d-6e86-4d4f-982e-22aba7327595",
   "metadata": {},
   "outputs": [],
   "source": [
    "#Explanation:\n",
    "\n",
    "#Condition: if year % 100 == 0\n",
    "#Checks if the year is divisible by 100.\n",
    "#If True, the year is a century year.\n",
    "#Condition: else\n",
    "#If the year is not divisible by 100, it is not a century year."
   ]
  },
  {
   "cell_type": "markdown",
   "id": "f5d109b6-bffe-41d4-af90-ac9d674b3dba",
   "metadata": {},
   "source": [
    "## Check If a Number Is a Multiple of 10"
   ]
  },
  {
   "cell_type": "code",
   "execution_count": 102,
   "id": "ca474611-c147-45f4-94e9-c50f9bcb37fc",
   "metadata": {},
   "outputs": [
    {
     "name": "stdin",
     "output_type": "stream",
     "text": [
      "enter a number 55\n"
     ]
    },
    {
     "name": "stdout",
     "output_type": "stream",
     "text": [
      "55 is not multiple of 10\n"
     ]
    }
   ],
   "source": [
    "num = int(input(\"enter a number\"))\n",
    "\n",
    "if num%10==0:\n",
    "    print(f\"{num} is a multiple of 10\")\n",
    "else:\n",
    "    print(f\"{num} is not multiple of 10\")\n",
    "          "
   ]
  },
  {
   "cell_type": "code",
   "execution_count": 104,
   "id": "b74fa03a-e7c0-4cd1-a64f-2a3c0297eb1f",
   "metadata": {},
   "outputs": [],
   "source": [
    "#Explanation:\n",
    "\n",
    "#Condition: if num % 10 == 0\n",
    "#Checks if the remainder when num is divided by 10 is zero.\n",
    "#If True, num is a multiple of 10.\n",
    "#Condition: else\n",
    "#If the remainder is not zero, num is not a multiple of 10."
   ]
  },
  {
   "cell_type": "markdown",
   "id": "51b37abb-f79b-4246-9b59-0b60b9f51897",
   "metadata": {},
   "source": [
    "### Determine the Type of a Quadrilateral"
   ]
  },
  {
   "cell_type": "code",
   "execution_count": 111,
   "id": "8894f437-a7df-4b27-b6da-d9fc1538495e",
   "metadata": {},
   "outputs": [
    {
     "name": "stdin",
     "output_type": "stream",
     "text": [
      "Enter the first angle:  90\n",
      "Enter the second angle:  90\n",
      "Enter the third angle:  90\n",
      "Enter the fourth angle:  90\n"
     ]
    },
    {
     "name": "stdout",
     "output_type": "stream",
     "text": [
      "the angle is quadrilateral\n"
     ]
    }
   ],
   "source": [
    "angle1 = float(input(\"Enter the first angle: \"))\n",
    "angle2 = float(input(\"Enter the second angle: \"))\n",
    "angle3 = float(input(\"Enter the third angle: \"))\n",
    "angle4 = float(input(\"Enter the fourth angle: \"))\n",
    "\n",
    "if angle1+ angle2+angle3+angle4==360:\n",
    "    print(\"the angle is quadrilateral\")\n",
    "else:\n",
    "    print(\"the angle is not quadrilateral\")\n"
   ]
  },
  {
   "cell_type": "markdown",
   "id": "73347bf8-68f3-4733-b6a4-d3f9f0377ac8",
   "metadata": {},
   "source": [
    " ### Check if a Number is Within a Range"
   ]
  },
  {
   "cell_type": "code",
   "execution_count": 114,
   "id": "ba39e84b-8a1d-4c30-bd54-77062748d536",
   "metadata": {},
   "outputs": [
    {
     "name": "stdin",
     "output_type": "stream",
     "text": [
      "Enter a number:  10\n"
     ]
    },
    {
     "name": "stdout",
     "output_type": "stream",
     "text": [
      "10.0 is within the range 10 to 20.\n"
     ]
    }
   ],
   "source": [
    "num = float(input(\"Enter a number: \"))\n",
    "\n",
    "if 10 <= num <= 20:\n",
    "    print(f\"{num} is within the range 10 to 20.\")\n",
    "else:\n",
    "    print(f\"{num} is outside the range 10 to 20.\")"
   ]
  },
  {
   "cell_type": "code",
   "execution_count": null,
   "id": "5748806d-baab-4824-918e-b5cacd32f10b",
   "metadata": {},
   "outputs": [],
   "source": [
    "#Explanation:\n",
    "\n",
    "#Condition: if 10 <= num <= 20\n",
    "#Checks if the number is between 10 and 20, inclusive.\n",
    "#If True, the number is within the range.\n",
    "#Condition: else\n",
    "#If the number is outside the range, it prints that the number is outside."
   ]
  },
  {
   "cell_type": "code",
   "execution_count": null,
   "id": "a89ad288-f6a0-4b2b-a326-003524e76186",
   "metadata": {},
   "outputs": [],
   "source": []
  },
  {
   "cell_type": "markdown",
   "id": "aeb5eb4e-d790-4bfa-829f-8148c6ae96e0",
   "metadata": {},
   "source": [
    "### Check if a Number Is a Power of Two\n"
   ]
  },
  {
   "cell_type": "code",
   "execution_count": 126,
   "id": "99e72bbc-9149-4b4c-afdd-c5c4bff0a25a",
   "metadata": {},
   "outputs": [
    {
     "name": "stdin",
     "output_type": "stream",
     "text": [
      "Enter a number:  4\n"
     ]
    },
    {
     "name": "stdout",
     "output_type": "stream",
     "text": [
      "4 is a power of two.\n"
     ]
    }
   ],
   "source": [
    "num = int(input(\"Enter a number: \"))\n",
    "\n",
    "if num > 0 and (num & (num - 1)) == 0:\n",
    "    print(f\"{num} is a power of two.\")\n",
    "else:\n",
    "    print(f\"{num} is not a power of two.\")"
   ]
  },
  {
   "cell_type": "code",
   "execution_count": 128,
   "id": "8bb4acb3-334e-471b-8598-e865c4e5df69",
   "metadata": {},
   "outputs": [],
   "source": [
    "#Explanation:\n",
    "\n",
    "#Condition: if num > 0 and (num & (num - 1)) == 0\n",
    "#Checks if num is positive and if num is a power of two using bitwise operations.\n",
    "#(num & (num - 1)) is 0 only for powers of two.\n",
    "#If True, num is a power of two.\n",
    "#Condition: else\n",
    "#If the conditions are not met, num is not a power of two."
   ]
  },
  {
   "cell_type": "code",
   "execution_count": null,
   "id": "382482c5-35a7-41e7-a188-4014ea331d81",
   "metadata": {},
   "outputs": [],
   "source": []
  }
 ],
 "metadata": {
  "kernelspec": {
   "display_name": "Python 3 (ipykernel)",
   "language": "python",
   "name": "python3"
  },
  "language_info": {
   "codemirror_mode": {
    "name": "ipython",
    "version": 3
   },
   "file_extension": ".py",
   "mimetype": "text/x-python",
   "name": "python",
   "nbconvert_exporter": "python",
   "pygments_lexer": "ipython3",
   "version": "3.12.4"
  }
 },
 "nbformat": 4,
 "nbformat_minor": 5
}
