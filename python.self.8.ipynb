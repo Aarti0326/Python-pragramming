{
 "cells": [
  {
   "cell_type": "markdown",
   "id": "42889c31-8a6f-4808-bb9d-d8b0dfe573d1",
   "metadata": {},
   "source": [
    "# while loop"
   ]
  },
  {
   "cell_type": "code",
   "execution_count": 2,
   "id": "cf6cb494-0c0e-4688-9058-b9917304ac6d",
   "metadata": {},
   "outputs": [
    {
     "name": "stdout",
     "output_type": "stream",
     "text": [
      "1\n",
      "2\n",
      "3\n",
      "4\n",
      "5\n"
     ]
    }
   ],
   "source": [
    "count=1\n",
    "while count<=5:\n",
    "    print(count)\n",
    "    count=count+1\n"
   ]
  },
  {
   "cell_type": "markdown",
   "id": "23dd9ec3-ff0b-48fd-9c9a-6fb2ec7f7e92",
   "metadata": {},
   "source": [
    "## write a python program to print all the even numbers between 1 and 50 using while loop "
   ]
  },
  {
   "cell_type": "code",
   "execution_count": 18,
   "id": "f293a584-57a1-4480-9da0-f3e14aa78d1c",
   "metadata": {},
   "outputs": [
    {
     "name": "stdout",
     "output_type": "stream",
     "text": [
      "2\n",
      "4\n",
      "6\n",
      "8\n",
      "10\n",
      "12\n",
      "14\n",
      "16\n",
      "18\n",
      "20\n",
      "22\n",
      "24\n",
      "26\n",
      "28\n",
      "30\n",
      "32\n",
      "34\n",
      "36\n",
      "38\n",
      "40\n",
      "42\n",
      "44\n",
      "46\n",
      "48\n",
      "50\n"
     ]
    }
   ],
   "source": [
    "num=1\n",
    "\n",
    "while num<=50:\n",
    "    if num%2==0:\n",
    "        print(num)\n",
    "    num=num+1\n",
    "    \n"
   ]
  },
  {
   "cell_type": "markdown",
   "id": "3d53fe00-373f-447a-87cf-340d16c2f720",
   "metadata": {},
   "source": [
    "### you are tasked with validating user input for email address.write a python program that prompts the user to enter an email address.use a while loop to iterate through the input and check if the email address contains an \"@\" sumbol and a\".\" symbol.if the email address does not meet these criteria ,print \"invalid email address format. please try again,\"otherwise, print\"enter address validation passed\n"
   ]
  },
  {
   "cell_type": "code",
   "execution_count": null,
   "id": "a431e854-c16a-4aef-9ee5-558a9ae551b9",
   "metadata": {},
   "outputs": [],
   "source": [
    "email=input(\"enter your mail id\")\n",
    "\n",
    "valid_email=False\n",
    "\n",
    "while not valid_email:\n",
    "    if \"@\" in email and \".\"in email:\n",
    "        print(\"your email id is valid\")\n",
    "\n",
    "        valid_email=True \n",
    "    else:\n",
    "        print(\"your mail is not valid,try again\")\n",
    "        email=input(\"please enter your mail id\")\n",
    "        \n",
    "        \n",
    "\n"
   ]
  },
  {
   "cell_type": "code",
   "execution_count": 8,
   "id": "776db174-d6c5-461b-8d4c-50ce3f3f5ca7",
   "metadata": {},
   "outputs": [
    {
     "name": "stdin",
     "output_type": "stream",
     "text": [
      "enter your mail id aarti.com\n"
     ]
    },
    {
     "name": "stdout",
     "output_type": "stream",
     "text": [
      "your mail is not valid,try again\n"
     ]
    },
    {
     "name": "stdin",
     "output_type": "stream",
     "text": [
      "please enter your mail id aartisalunkhe23@gmail.com\n"
     ]
    },
    {
     "name": "stdout",
     "output_type": "stream",
     "text": [
      "your email id is valid\n"
     ]
    }
   ],
   "source": [
    "email=input(\"enter your mail id\")\n",
    "\n",
    "valid_email=False\n",
    "\n",
    "while not valid_email:\n",
    "    if \"@\" in email and \".\"in email:\n",
    "        print(\"your email id is valid\")\n",
    "\n",
    "        valid_email=True \n",
    "    else:\n",
    "        print(\"your mail is not valid,try again\")\n",
    "        email=input(\"please enter your mail id\")\n",
    "        \n",
    "        "
   ]
  },
  {
   "cell_type": "code",
   "execution_count": 1,
   "id": "6c18ee6d-2878-452c-a270-d6cb556bf2d5",
   "metadata": {},
   "outputs": [
    {
     "name": "stdout",
     "output_type": "stream",
     "text": [
      "5\n",
      "4\n",
      "3\n",
      "2\n",
      "1\n"
     ]
    }
   ],
   "source": [
    "count = 5\n",
    "\n",
    "while count > 0:\n",
    "    print(count)\n",
    "    count -= 1\n"
   ]
  },
  {
   "cell_type": "code",
   "execution_count": null,
   "id": "43ca2b1a-76f2-4401-af8f-86b9bd707007",
   "metadata": {},
   "outputs": [],
   "source": []
  }
 ],
 "metadata": {
  "kernelspec": {
   "display_name": "Python 3 (ipykernel)",
   "language": "python",
   "name": "python3"
  },
  "language_info": {
   "codemirror_mode": {
    "name": "ipython",
    "version": 3
   },
   "file_extension": ".py",
   "mimetype": "text/x-python",
   "name": "python",
   "nbconvert_exporter": "python",
   "pygments_lexer": "ipython3",
   "version": "3.12.4"
  }
 },
 "nbformat": 4,
 "nbformat_minor": 5
}
