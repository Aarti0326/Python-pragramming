{
 "cells": [
  {
   "cell_type": "markdown",
   "id": "cf9ca7e9-cd98-43fc-9793-22d870373953",
   "metadata": {},
   "source": [
    "## mathematical programs"
   ]
  },
  {
   "cell_type": "code",
   "execution_count": 5,
   "id": "990cdc88-1954-43c7-b56c-60f6890091e7",
   "metadata": {},
   "outputs": [
    {
     "name": "stdout",
     "output_type": "stream",
     "text": [
      "The sum of numbers from 1 to 11 is 66\n"
     ]
    }
   ],
   "source": [
    "# Calculate the sum of numbers from 1 to n\n",
    "n = 11\n",
    "total_sum = sum(range(1, n + 1))\n",
    "\n",
    "print(f\"The sum of numbers from 1 to {n} is {total_sum}\")"
   ]
  },
  {
   "cell_type": "code",
   "execution_count": 7,
   "id": "d6b31b63-fb8a-4218-81ed-a923cd7e7fa5",
   "metadata": {},
   "outputs": [],
   "source": [
    "#Explanation:\n",
    "#This program calculates the sum of all numbers from 1 to n using the sum() function with range(). For n = 10, the sum is 55."
   ]
  },
  {
   "cell_type": "markdown",
   "id": "917a1bfe-dea4-4977-9372-e1d3c2c8cfde",
   "metadata": {},
   "source": [
    "### Calculate the Greatest Common Divisor (GCD)"
   ]
  },
  {
   "cell_type": "code",
   "execution_count": 10,
   "id": "b47f4386-156e-4fc0-92ef-a447e4fd72e9",
   "metadata": {},
   "outputs": [
    {
     "name": "stdout",
     "output_type": "stream",
     "text": [
      "The GCD of 48 and 18 is 6\n"
     ]
    }
   ],
   "source": [
    "import math\n",
    "\n",
    "# Calculate the GCD of two numbers\n",
    "num1 = 48\n",
    "num2 = 18\n",
    "gcd = math.gcd(num1, num2)\n",
    "\n",
    "print(f\"The GCD of {num1} and {num2} is {gcd}\")"
   ]
  },
  {
   "cell_type": "code",
   "execution_count": 12,
   "id": "3dae9a3d-fef4-44f4-a9c6-c18da7e85164",
   "metadata": {},
   "outputs": [],
   "source": [
    "#Explanation:\n",
    "#This program uses math.gcd() to find the greatest common divisor of num1 and num2. For num1 = 48 and num2 = 18, the GCD is 6.\n",
    "\n"
   ]
  },
  {
   "cell_type": "markdown",
   "id": "a34eccaf-3b96-4ae5-a527-2157db1cef32",
   "metadata": {},
   "source": [
    "### Find the Least Common Multiple (LCM)"
   ]
  },
  {
   "cell_type": "code",
   "execution_count": 29,
   "id": "653ac601-4589-4af2-9ca3-95ae07273628",
   "metadata": {},
   "outputs": [
    {
     "name": "stdout",
     "output_type": "stream",
     "text": [
      "The LCM of 12 and 15 is 60\n"
     ]
    }
   ],
   "source": [
    "import math\n",
    "\n",
    "# Calculate the LCM of two numbers\n",
    "def lcm(a, b):\n",
    "    return abs(a*b) // math.gcd(a, b)\n",
    "\n",
    "num1 = 12\n",
    "num2 = 15\n",
    "lcm_value = lcm(num1, num2)\n",
    "\n",
    "print(f\"The LCM of {num1} and {num2} is {lcm_value}\")"
   ]
  },
  {
   "cell_type": "markdown",
   "id": "718448e6-065c-442c-a9eb-1bde06f10b2d",
   "metadata": {},
   "source": [
    "### Calculate the Mean, Median, and Mode"
   ]
  },
  {
   "cell_type": "code",
   "execution_count": 32,
   "id": "ae2f4eaf-6fd5-40a4-ba70-9a21f7256ba9",
   "metadata": {},
   "outputs": [
    {
     "name": "stdout",
     "output_type": "stream",
     "text": [
      "Mean: 3.4444444444444446\n",
      "Median: 4\n",
      "Mode: 4\n"
     ]
    }
   ],
   "source": [
    "from statistics import mean, median, mode\n",
    "\n",
    "# List of numbers\n",
    "data = [1, 2, 2, 3, 4, 4, 4, 5, 6]\n",
    "\n",
    "# Calculate mean, median, and mode\n",
    "mean_value = mean(data)\n",
    "median_value = median(data)\n",
    "mode_value = mode(data)\n",
    "\n",
    "print(f\"Mean: {mean_value}\")\n",
    "print(f\"Median: {median_value}\")\n",
    "print(f\"Mode: {mode_value}\")\n"
   ]
  },
  {
   "cell_type": "code",
   "execution_count": null,
   "id": "8313bbc9-e546-4ef6-8a01-f9ff585abdaf",
   "metadata": {},
   "outputs": [],
   "source": [
    "#Explanation:\n",
    "#This program calculates the mean, median, and mode of a list of numbers using Python's statistics module.\n",
    "#For data, the mean is 3.0, the median is 4.0, and the mode is 4."
   ]
  },
  {
   "cell_type": "code",
   "execution_count": 44,
   "id": "66cbaea1-9d21-45e9-a9a1-81fb64b14098",
   "metadata": {},
   "outputs": [
    {
     "name": "stdout",
     "output_type": "stream",
     "text": [
      "the square root of 49 is  7.0\n"
     ]
    }
   ],
   "source": [
    "import math\n",
    "\n",
    "number = 49\n",
    "square_root = math.sqrt(number)\n",
    "\n",
    "print(f\"the square root of {number} is \",square_root)"
   ]
  },
  {
   "cell_type": "markdown",
   "id": "225c1e18-d974-4fb8-81b6-0c150f9594fa",
   "metadata": {},
   "source": [
    "### Find the Hypotenuse of a Right Triangle"
   ]
  },
  {
   "cell_type": "code",
   "execution_count": 46,
   "id": "02e57d02-2ac1-46b8-9e9a-29636c37a5f6",
   "metadata": {},
   "outputs": [
    {
     "name": "stdout",
     "output_type": "stream",
     "text": [
      "The hypotenuse of the right triangle with sides 3 and 4 is 5.0\n"
     ]
    }
   ],
   "source": [
    "import math\n",
    "\n",
    "# Calculate the hypotenuse of a right triangle given the other two sides\n",
    "a = 3\n",
    "b = 4\n",
    "hypotenuse = math.sqrt(a**2 + b**2)\n",
    "\n",
    "print(f\"The hypotenuse of the right triangle with sides {a} and {b} is {hypotenuse}\")"
   ]
  },
  {
   "cell_type": "markdown",
   "id": "bea13273-8b42-4918-9f54-fb96ebca60fc",
   "metadata": {},
   "source": [
    "### volume of cylinder"
   ]
  },
  {
   "cell_type": "code",
   "execution_count": 51,
   "id": "7aed306d-4770-4c09-ba1b-9ef89d381d09",
   "metadata": {},
   "outputs": [
    {
     "name": "stdout",
     "output_type": "stream",
     "text": [
      "The volume of the cylinder with radius 7 and height 10 is 1539.38\n"
     ]
    }
   ],
   "source": [
    "import math\n",
    "\n",
    "# Calculate the volume of a cylinder\n",
    "radius = 7\n",
    "height = 10\n",
    "volume = math.pi * (radius ** 2) * height\n",
    "\n",
    "print(f\"The volume of the cylinder with radius {radius} and height {height} is {volume:.2f}\")"
   ]
  },
  {
   "cell_type": "code",
   "execution_count": null,
   "id": "202e973c-c7da-4623-ab0a-f62305f68df2",
   "metadata": {},
   "outputs": [],
   "source": [
    "#Explanation:\n",
    "#The volume of a cylinder is calculated using the formula:\n",
    "#volume=π×radius^×height\n",
    "#For radius = 7 and height = 10, the volume is approximately 1539.38."
   ]
  }
 ],
 "metadata": {
  "kernelspec": {
   "display_name": "Python 3 (ipykernel)",
   "language": "python",
   "name": "python3"
  },
  "language_info": {
   "codemirror_mode": {
    "name": "ipython",
    "version": 3
   },
   "file_extension": ".py",
   "mimetype": "text/x-python",
   "name": "python",
   "nbconvert_exporter": "python",
   "pygments_lexer": "ipython3",
   "version": "3.12.4"
  }
 },
 "nbformat": 4,
 "nbformat_minor": 5
}
