{
 "cells": [
  {
   "cell_type": "markdown",
   "id": "dfefa250-3929-4f23-91af-7122143d2e54",
   "metadata": {},
   "source": [
    "### 1) sum of numbers 1 to 10"
   ]
  },
  {
   "cell_type": "code",
   "execution_count": 2,
   "id": "293d506f-6159-429d-99a5-5c0d4288e467",
   "metadata": {},
   "outputs": [
    {
     "name": "stdout",
     "output_type": "stream",
     "text": [
      "sum of numbers from 1 to 10 : 55\n"
     ]
    }
   ],
   "source": [
    "total_sum = 0\n",
    "for i in range(1,11):\n",
    "    total_sum+=i\n",
    "print(\"sum of numbers from 1 to 10 :\",total_sum)"
   ]
  },
  {
   "cell_type": "markdown",
   "id": "f03e5a42-b789-4c83-846d-d47fd3fdcb19",
   "metadata": {},
   "source": [
    "### 2. Calculating the Sum of Numbers in a List\n"
   ]
  },
  {
   "cell_type": "code",
   "execution_count": 4,
   "id": "f9a4f4a5-7fc5-4ecd-9adb-85021676b3a2",
   "metadata": {},
   "outputs": [
    {
     "name": "stdout",
     "output_type": "stream",
     "text": [
      "30\n"
     ]
    }
   ],
   "source": [
    "numbers = [2,4,6,8,10]\n",
    "total_sum = 0\n",
    "for number in numbers:\n",
    "    total_sum+=number\n",
    "print(total_sum)"
   ]
  },
  {
   "cell_type": "markdown",
   "id": "55eeb08d-8c29-4b5b-b997-28cdaed5eb58",
   "metadata": {},
   "source": [
    "### 3. Finding the Factorial of a Number"
   ]
  },
  {
   "cell_type": "code",
   "execution_count": 6,
   "id": "b23a2076-ac79-42f5-9cc1-9ac16ce89f5e",
   "metadata": {},
   "outputs": [],
   "source": [
    "import math"
   ]
  },
  {
   "cell_type": "code",
   "execution_count": 7,
   "id": "bbeffbc4-fae5-4006-8d26-b9c10fd05077",
   "metadata": {},
   "outputs": [
    {
     "name": "stdout",
     "output_type": "stream",
     "text": [
      "720\n"
     ]
    }
   ],
   "source": [
    "number = 6\n",
    "print(math.factorial(number))"
   ]
  },
  {
   "cell_type": "code",
   "execution_count": 8,
   "id": "90ea3cf3-4fb0-4eb1-9953-5622e96ff7d0",
   "metadata": {},
   "outputs": [
    {
     "name": "stdout",
     "output_type": "stream",
     "text": [
      "120\n"
     ]
    }
   ],
   "source": [
    "number = 5\n",
    "factorial = 1\n",
    "\n",
    "for i in range(1,6):\n",
    "    factorial *=i\n",
    "print(factorial)"
   ]
  },
  {
   "cell_type": "markdown",
   "id": "6e06a906-0f18-4a46-8d3e-177111a2eb28",
   "metadata": {},
   "source": [
    "### 4. Creating a Multiplication Table"
   ]
  },
  {
   "cell_type": "code",
   "execution_count": 10,
   "id": "79835df6-939c-46f3-a173-800738f0fb34",
   "metadata": {},
   "outputs": [
    {
     "name": "stdin",
     "output_type": "stream",
     "text": [
      "enter a number  2\n"
     ]
    },
    {
     "name": "stdout",
     "output_type": "stream",
     "text": [
      "2\n",
      "4\n",
      "6\n",
      "8\n",
      "10\n",
      "12\n",
      "14\n",
      "16\n",
      "18\n",
      "20\n"
     ]
    }
   ],
   "source": [
    "table = int(input(\"enter a number \"))\n",
    "for i in range(1,11):\n",
    "    print(table*i)"
   ]
  },
  {
   "cell_type": "markdown",
   "id": "12a6adbf-c81e-4093-bde1-5d803b8af78c",
   "metadata": {},
   "source": [
    "### 5) Creating a List of Squares"
   ]
  },
  {
   "cell_type": "code",
   "execution_count": 12,
   "id": "b87f3179-81bb-4313-90e8-906932d4c050",
   "metadata": {},
   "outputs": [
    {
     "name": "stdout",
     "output_type": "stream",
     "text": [
      "[1, 4, 9, 16, 25]\n"
     ]
    }
   ],
   "source": [
    "squares = []\n",
    "for i in range(1,6):\n",
    "    squares.append(i**2)\n",
    "print(squares)"
   ]
  },
  {
   "cell_type": "markdown",
   "id": "3cd646c8-4e41-4458-8101-2fc8a33bd8bc",
   "metadata": {},
   "source": [
    "### Using map and a Lambda Function"
   ]
  },
  {
   "cell_type": "code",
   "execution_count": 15,
   "id": "b061701e-afb0-4bb1-a71d-d4296b54701b",
   "metadata": {},
   "outputs": [
    {
     "name": "stdout",
     "output_type": "stream",
     "text": [
      "list of squares: [1, 4, 9, 16, 25, 36, 49, 64, 81]\n"
     ]
    }
   ],
   "source": [
    "numbers = range(1,10)\n",
    "squares = list(map(lambda x:x**2,numbers))\n",
    "print(\"list of squares:\",squares)"
   ]
  },
  {
   "cell_type": "markdown",
   "id": "401dd58b-a642-43e9-9398-01adc4867522",
   "metadata": {},
   "source": [
    "### Using NumPy (if working with large arrays)"
   ]
  },
  {
   "cell_type": "code",
   "execution_count": 18,
   "id": "e938e700-db74-48e5-af93-a2f5eea99b85",
   "metadata": {},
   "outputs": [],
   "source": [
    "import numpy as np"
   ]
  },
  {
   "cell_type": "code",
   "execution_count": 20,
   "id": "cf0da61d-9e30-430b-888b-014d74d017a9",
   "metadata": {},
   "outputs": [
    {
     "name": "stdout",
     "output_type": "stream",
     "text": [
      "list of squares [ 1  4  9 16 25]\n"
     ]
    }
   ],
   "source": [
    "numbers = np.arange(1,6)\n",
    "squares = np.square(numbers)\n",
    "print(\"list of squares\",squares)"
   ]
  },
  {
   "cell_type": "markdown",
   "id": "e015884a-5378-4806-9c1c-323eadf58429",
   "metadata": {},
   "source": [
    "### check odd and even"
   ]
  },
  {
   "cell_type": "code",
   "execution_count": 32,
   "id": "57472419-7479-476f-9d9f-faf235a9e4d3",
   "metadata": {},
   "outputs": [
    {
     "name": "stdout",
     "output_type": "stream",
     "text": [
      "the number is even\n"
     ]
    }
   ],
   "source": [
    "num = 2\n",
    "if (num%2)==0:\n",
    "    print(\"the number is even\")\n",
    "else:\n",
    "    print(\"the number is odd\")\n",
    "    "
   ]
  },
  {
   "cell_type": "markdown",
   "id": "08518184-1e25-475d-88fd-1c0950388271",
   "metadata": {},
   "source": [
    "### print odd numbers"
   ]
  },
  {
   "cell_type": "code",
   "execution_count": 40,
   "id": "851a1ede-223d-4273-8d72-d2fba7555f29",
   "metadata": {},
   "outputs": [
    {
     "name": "stdout",
     "output_type": "stream",
     "text": [
      "15\n",
      "23\n",
      "55\n"
     ]
    }
   ],
   "source": [
    "number_list = [10, 15, 23, 42, 55, 60]\n",
    "for number in number_list:\n",
    "    if number%2!=0:\n",
    "        print(number)"
   ]
  },
  {
   "cell_type": "code",
   "execution_count": null,
   "id": "9be1d327-1fe7-45ae-978a-bdf86f92acff",
   "metadata": {},
   "outputs": [],
   "source": []
  }
 ],
 "metadata": {
  "kernelspec": {
   "display_name": "Python 3 (ipykernel)",
   "language": "python",
   "name": "python3"
  },
  "language_info": {
   "codemirror_mode": {
    "name": "ipython",
    "version": 3
   },
   "file_extension": ".py",
   "mimetype": "text/x-python",
   "name": "python",
   "nbconvert_exporter": "python",
   "pygments_lexer": "ipython3",
   "version": "3.12.4"
  }
 },
 "nbformat": 4,
 "nbformat_minor": 5
}
