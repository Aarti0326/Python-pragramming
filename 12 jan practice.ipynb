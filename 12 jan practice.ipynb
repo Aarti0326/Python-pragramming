{
 "cells": [
  {
   "cell_type": "markdown",
   "id": "67a8da8b-d893-484e-911d-ead6460d547a",
   "metadata": {},
   "source": [
    "### Write a program to calculate the area of different shapes based on user input."
   ]
  },
  {
   "cell_type": "code",
   "execution_count": 2,
   "id": "9ba9cc5b-d0d4-42c8-a552-eaa51024d7ac",
   "metadata": {},
   "outputs": [
    {
     "name": "stdout",
     "output_type": "stream",
     "text": [
      "Choose a shape: rectangle, triangle, circle\n"
     ]
    },
    {
     "name": "stdin",
     "output_type": "stream",
     "text": [
      "Enter the shape:  rectangle\n",
      "Enter length:  20\n",
      "Enter width:  8\n"
     ]
    },
    {
     "name": "stdout",
     "output_type": "stream",
     "text": [
      "Area of rectangle: 160.0\n"
     ]
    }
   ],
   "source": [
    "# Area calculation\n",
    "print(\"Choose a shape: rectangle, triangle, circle\")\n",
    "shape = input(\"Enter the shape: \").lower()\n",
    "\n",
    "if shape == \"rectangle\":\n",
    "    length = float(input(\"Enter length: \"))\n",
    "    width = float(input(\"Enter width: \"))\n",
    "    area = length * width\n",
    "    print(f\"Area of rectangle: {area}\")\n",
    "elif shape == \"triangle\":\n",
    "    base = float(input(\"Enter base: \"))\n",
    "    height = float(input(\"Enter height: \"))\n",
    "    area = 0.5 * base * height\n",
    "    print(f\"Area of triangle: {area}\")\n",
    "elif shape == \"circle\":\n",
    "    radius = float(input(\"Enter radius: \"))\n",
    "    area = 3.14 * radius**2\n",
    "    print(f\"Area of circle: {area}\")\n",
    "else:\n",
    "    print(\"Invalid shape!\")\n"
   ]
  },
  {
   "cell_type": "code",
   "execution_count": null,
   "id": "61261289-d6c8-45e0-abe4-953c27e637d4",
   "metadata": {},
   "outputs": [],
   "source": []
  }
 ],
 "metadata": {
  "kernelspec": {
   "display_name": "Python 3 (ipykernel)",
   "language": "python",
   "name": "python3"
  },
  "language_info": {
   "codemirror_mode": {
    "name": "ipython",
    "version": 3
   },
   "file_extension": ".py",
   "mimetype": "text/x-python",
   "name": "python",
   "nbconvert_exporter": "python",
   "pygments_lexer": "ipython3",
   "version": "3.12.4"
  }
 },
 "nbformat": 4,
 "nbformat_minor": 5
}
