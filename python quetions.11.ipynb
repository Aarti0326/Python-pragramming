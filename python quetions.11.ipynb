{
 "cells": [
  {
   "cell_type": "markdown",
   "id": "1816c24f-7c78-4eca-bf6f-8204ebabc512",
   "metadata": {},
   "source": [
    "### write a program to find the middle number in a group of three numbers"
   ]
  },
  {
   "cell_type": "code",
   "execution_count": 2,
   "id": "26e22253-2268-4615-8b74-bd1b5581cae1",
   "metadata": {},
   "outputs": [
    {
     "name": "stdin",
     "output_type": "stream",
     "text": [
      "enter the 1st number 5\n",
      "enter the 2nd number 1\n",
      "enter the 3rd number 3\n"
     ]
    },
    {
     "name": "stdout",
     "output_type": "stream",
     "text": [
      "middle number: 3\n"
     ]
    }
   ],
   "source": [
    "a = int(input(\"enter the 1st number\"))\n",
    "b = int(input(\"enter the 2nd number\"))\n",
    "c = int(input(\"enter the 3rd number\"))\n",
    "if (a>b and a<c) or (a<b and a>c):\n",
    "    print(\"middle number:\",a)\n",
    "elif (b>a and b<c) or (b<a and b>c):\n",
    "    print(\"middle number:\",b)\n",
    "else:\n",
    "    print(\"middle number:\",c)\n"
   ]
  },
  {
   "cell_type": "code",
   "execution_count": 7,
   "id": "743d006b-468b-499a-9212-8c3524afec62",
   "metadata": {},
   "outputs": [
    {
     "name": "stdout",
     "output_type": "stream",
     "text": [
      "1\n",
      "10\n"
     ]
    }
   ],
   "source": [
    "for i in (1,10):\n",
    "    print(i)"
   ]
  },
  {
   "cell_type": "code",
   "execution_count": 9,
   "id": "dc3ddd75-fe4e-4ed4-a2b4-d62dde224461",
   "metadata": {},
   "outputs": [
    {
     "name": "stdout",
     "output_type": "stream",
     "text": [
      "1\n",
      "2\n",
      "3\n",
      "4\n",
      "5\n",
      "6\n",
      "7\n",
      "8\n",
      "9\n"
     ]
    }
   ],
   "source": [
    "for i in range(1,10):\n",
    "    print(i)"
   ]
  },
  {
   "cell_type": "code",
   "execution_count": 11,
   "id": "36da41d2-b2f8-48c0-8d98-33cf462e285c",
   "metadata": {},
   "outputs": [
    {
     "name": "stdout",
     "output_type": "stream",
     "text": [
      "python"
     ]
    }
   ],
   "source": [
    "for i in \"python\":\n",
    "    print(i,end='')"
   ]
  },
  {
   "cell_type": "code",
   "execution_count": 16,
   "id": "0688e245-51c8-4b1c-afb1-276657c3d12c",
   "metadata": {},
   "outputs": [
    {
     "name": "stdout",
     "output_type": "stream",
     "text": [
      "1\n",
      "2\n",
      "3\n",
      "4\n"
     ]
    }
   ],
   "source": [
    "for i in (1,2,3,4):\n",
    "    print(i)"
   ]
  },
  {
   "cell_type": "code",
   "execution_count": 54,
   "id": "674bea9b-c27c-4ad3-8acf-2296cb1e23b0",
   "metadata": {},
   "outputs": [
    {
     "name": "stdout",
     "output_type": "stream",
     "text": [
      "25\n",
      "64\n",
      "121\n",
      "196\n"
     ]
    }
   ],
   "source": [
    "x = 5\n",
    "while(x<15):\n",
    "    print(x**2)\n",
    "    x+=3"
   ]
  },
  {
   "cell_type": "code",
   "execution_count": 56,
   "id": "79fef916-db1d-423d-a099-a3b320f8d69f",
   "metadata": {},
   "outputs": [
    {
     "name": "stdout",
     "output_type": "stream",
     "text": [
      "12\n",
      "13\n"
     ]
    }
   ],
   "source": [
    "a = 7\n",
    "b = 5\n",
    "while(a<9):\n",
    "    print(a+b)\n",
    "    a+=1\n"
   ]
  },
  {
   "cell_type": "code",
   "execution_count": 58,
   "id": "4d5ce297-2e35-491b-b78a-9a5322551b24",
   "metadata": {},
   "outputs": [
    {
     "name": "stdout",
     "output_type": "stream",
     "text": [
      "H\n",
      "H\n",
      "H\n",
      "H\n"
     ]
    }
   ],
   "source": [
    "b = 5\n",
    "while(b<9):\n",
    "    print(\"H\")\n",
    "    b+=1"
   ]
  },
  {
   "cell_type": "code",
   "execution_count": 60,
   "id": "5d7929f5-286b-4a88-9077-f49b35c200dc",
   "metadata": {},
   "outputs": [
    {
     "name": "stdout",
     "output_type": "stream",
     "text": [
      "hello\n",
      "hello\n",
      "hello\n"
     ]
    }
   ],
   "source": [
    "b = 15\n",
    "while(b>9):\n",
    "    print('hello')\n",
    "    b = b-2"
   ]
  },
  {
   "cell_type": "code",
   "execution_count": 68,
   "id": "5b913fc7-aa16-4138-ac1a-d9f4114a27f2",
   "metadata": {},
   "outputs": [
    {
     "name": "stdout",
     "output_type": "stream",
     "text": [
      "hello\n"
     ]
    }
   ],
   "source": [
    "x = 15\n",
    "while(x==15):\n",
    "    print(\"hello\")\n",
    "    x=x-3"
   ]
  },
  {
   "cell_type": "code",
   "execution_count": 70,
   "id": "57a6d7f2-608f-49d9-9035-005e6d4cc9ec",
   "metadata": {},
   "outputs": [
    {
     "name": "stdout",
     "output_type": "stream",
     "text": [
      "a\n",
      "a\n",
      "a\n"
     ]
    }
   ],
   "source": [
    "x = \"123\"\n",
    "for i in x:\n",
    "    print(\"a\")"
   ]
  },
  {
   "cell_type": "code",
   "execution_count": 76,
   "id": "69d1e984-5c52-4ca4-876f-b05f8b6b5532",
   "metadata": {},
   "outputs": [],
   "source": [
    "i = 9\n",
    "while True:\n",
    "    if i%3==0:\n",
    "        break\n",
    "        print(\"A\")"
   ]
  },
  {
   "cell_type": "code",
   "execution_count": 78,
   "id": "870e522b-3af1-4394-a422-df91b57cf03c",
   "metadata": {},
   "outputs": [
    {
     "name": "stdout",
     "output_type": "stream",
     "text": [
      "a\n",
      "a\n",
      "a\n",
      "a\n",
      "a\n"
     ]
    }
   ],
   "source": [
    "a = 6\n",
    "while(a<=10):\n",
    "    print(\"a\")\n",
    "    a+=1"
   ]
  },
  {
   "cell_type": "code",
   "execution_count": 80,
   "id": "7078518d-ff2f-4e8f-b4e6-2e3a909d74d7",
   "metadata": {},
   "outputs": [
    {
     "name": "stdout",
     "output_type": "stream",
     "text": [
      "0\n",
      "1\n",
      "2\n",
      "7\n"
     ]
    }
   ],
   "source": [
    "i = 0\n",
    "while i<3:\n",
    "    print(i)\n",
    "    i = i+1\n",
    "else:\n",
    "    print(7)"
   ]
  },
  {
   "cell_type": "code",
   "execution_count": null,
   "id": "ec74a77a-758a-4b50-9bef-fb1f8c68236e",
   "metadata": {},
   "outputs": [],
   "source": []
  }
 ],
 "metadata": {
  "kernelspec": {
   "display_name": "Python 3 (ipykernel)",
   "language": "python",
   "name": "python3"
  },
  "language_info": {
   "codemirror_mode": {
    "name": "ipython",
    "version": 3
   },
   "file_extension": ".py",
   "mimetype": "text/x-python",
   "name": "python",
   "nbconvert_exporter": "python",
   "pygments_lexer": "ipython3",
   "version": "3.12.4"
  }
 },
 "nbformat": 4,
 "nbformat_minor": 5
}
