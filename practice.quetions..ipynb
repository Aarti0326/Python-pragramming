{
 "cells": [
  {
   "cell_type": "code",
   "execution_count": 5,
   "id": "1e17b6fe-2925-4279-a62e-cee5628b22ed",
   "metadata": {},
   "outputs": [
    {
     "name": "stdout",
     "output_type": "stream",
     "text": [
      "[1, 2, 3, 5, 8]\n"
     ]
    }
   ],
   "source": [
    "def sort_list(numbers):\n",
    "    return sorted(numbers)\n",
    "\n",
    "print(sort_list([5, 3, 8, 1, 2])) "
   ]
  },
  {
   "cell_type": "code",
   "execution_count": 7,
   "id": "a6a6b6b6-635a-415c-9c2c-432411df3f5c",
   "metadata": {},
   "outputs": [
    {
     "name": "stdout",
     "output_type": "stream",
     "text": [
      "77.0\n"
     ]
    }
   ],
   "source": [
    "def celsius_to_fahrenheit(celsius):\n",
    "    return (celsius * 9/5) + 32\n",
    "\n",
    "# Example usage\n",
    "print(celsius_to_fahrenheit(25))"
   ]
  },
  {
   "cell_type": "markdown",
   "id": "3cceb0d3-669b-435d-91af-5d0bdb7e0c8c",
   "metadata": {},
   "source": [
    "### Function to Find the GCD (Greatest Common Divisor)"
   ]
  },
  {
   "cell_type": "code",
   "execution_count": 12,
   "id": "6ba05aca-f9e6-4cda-84b4-1a9ec0acad05",
   "metadata": {},
   "outputs": [
    {
     "name": "stdout",
     "output_type": "stream",
     "text": [
      "6\n"
     ]
    }
   ],
   "source": [
    "def gcd(a, b):\n",
    "    while b:\n",
    "        a, b = b, a % b\n",
    "    return a\n",
    "\n",
    "\n",
    "print(gcd(48, 18)) "
   ]
  },
  {
   "cell_type": "markdown",
   "id": "849d6432-833b-4603-80ff-bb9feddbbf74",
   "metadata": {},
   "source": [
    "### Fibonacci Sequence"
   ]
  },
  {
   "cell_type": "code",
   "execution_count": 22,
   "id": "8bca85d8-8794-4b21-ab71-98eea3fc868d",
   "metadata": {},
   "outputs": [
    {
     "name": "stdin",
     "output_type": "stream",
     "text": [
      "Enter the number of terms:  5\n"
     ]
    },
    {
     "name": "stdout",
     "output_type": "stream",
     "text": [
      "0 1 1 2 3 "
     ]
    }
   ],
   "source": [
    "def fibonacci(n):\n",
    "    a, b = 0, 1\n",
    "    for _ in range(n):\n",
    "        print(a, end=\" \")\n",
    "        a, b = b, a + b\n",
    "\n",
    "terms = int(input(\"Enter the number of terms: \"))\n",
    "fibonacci(terms)"
   ]
  },
  {
   "cell_type": "code",
   "execution_count": 24,
   "id": "bcce432c-3424-43cf-9b3f-4eb530b7eaee",
   "metadata": {},
   "outputs": [
    {
     "name": "stdin",
     "output_type": "stream",
     "text": [
      "Enter a number:  6\n"
     ]
    },
    {
     "name": "stdout",
     "output_type": "stream",
     "text": [
      "6 is not a prime number.\n"
     ]
    }
   ],
   "source": [
    "def is_prime(n):\n",
    "    if n <= 1:\n",
    "        return False\n",
    "    for i in range(2, int(n ** 0.5) + 1):\n",
    "        if n % i == 0:\n",
    "            return False\n",
    "    return True\n",
    "\n",
    "number = int(input(\"Enter a number: \"))\n",
    "if is_prime(number):\n",
    "    print(f\"{number} is a prime number.\")\n",
    "else:\n",
    "    print(f\"{number} is not a prime number.\")"
   ]
  },
  {
   "cell_type": "code",
   "execution_count": null,
   "id": "8cb82091-4c6e-4073-b073-0cd9021113cc",
   "metadata": {},
   "outputs": [],
   "source": []
  }
 ],
 "metadata": {
  "kernelspec": {
   "display_name": "Python 3 (ipykernel)",
   "language": "python",
   "name": "python3"
  },
  "language_info": {
   "codemirror_mode": {
    "name": "ipython",
    "version": 3
   },
   "file_extension": ".py",
   "mimetype": "text/x-python",
   "name": "python",
   "nbconvert_exporter": "python",
   "pygments_lexer": "ipython3",
   "version": "3.12.4"
  }
 },
 "nbformat": 4,
 "nbformat_minor": 5
}
