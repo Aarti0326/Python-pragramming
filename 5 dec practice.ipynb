{
 "cells": [
  {
   "cell_type": "code",
   "execution_count": 1,
   "id": "81dcde35-ff97-46d3-8423-993100296d5d",
   "metadata": {},
   "outputs": [
    {
     "name": "stdout",
     "output_type": "stream",
     "text": [
      "True\n"
     ]
    }
   ],
   "source": [
    "x = 10\n",
    "y = 5\n",
    "print(x > y)\n"
   ]
  },
  {
   "cell_type": "markdown",
   "id": "074d59e6-d879-41a2-b099-6ad672327a8a",
   "metadata": {},
   "source": [
    "## What is exception handling in Python?"
   ]
  },
  {
   "cell_type": "markdown",
   "id": "a65e0aec-b841-4811-adba-c1728085cd5d",
   "metadata": {},
   "source": [
    "### Exception handling is a way to deal with errors (or exceptions) that may occur in your program. Instead of letting the program crash, you can handle these errors using try, except, and optionally finally blocks.\n",
    "\n",
    "### Here’s how it works:\n",
    "\n",
    "### try block: This is where you put the code that might cause an error. You try to run it.\n",
    "### except block: If an error occurs in the try block, the program jumps to the except block, where you can handle the error.\n",
    "### finally block (optional): This block is always executed, whether an error occurs or not. It’s useful for cleanup actions, like closing files or releasing resources."
   ]
  },
  {
   "cell_type": "code",
   "execution_count": 7,
   "id": "a3995557-2c3f-4ccb-bed6-e7ef7e888ae2",
   "metadata": {},
   "outputs": [
    {
     "name": "stdout",
     "output_type": "stream",
     "text": [
      "Cannot divide by zero!\n",
      "This will always run,regardless of error.\n"
     ]
    }
   ],
   "source": [
    "try:\n",
    "    x = 10/0   ## This will cause a division by zero error\n",
    "except ZeroDivisionError:\n",
    "    print(\"Cannot divide by zero!\") #this will be executed\n",
    "finally:\n",
    "    print(\"This will always run,regardless of error.\")"
   ]
  },
  {
   "cell_type": "markdown",
   "id": "285d1d42-4a2b-4067-a211-bafda5d3d87a",
   "metadata": {},
   "source": [
    "### What does the assert statement do in Python?"
   ]
  },
  {
   "cell_type": "code",
   "execution_count": 13,
   "id": "bc2612d1-8f18-44f0-b753-c77257d1d622",
   "metadata": {},
   "outputs": [
    {
     "ename": "AssertionError",
     "evalue": "",
     "output_type": "error",
     "traceback": [
      "\u001b[1;31m---------------------------------------------------------------------------\u001b[0m",
      "\u001b[1;31mAssertionError\u001b[0m                            Traceback (most recent call last)",
      "Cell \u001b[1;32mIn[13], line 3\u001b[0m\n\u001b[0;32m      1\u001b[0m x \u001b[38;5;241m=\u001b[39m \u001b[38;5;241m10\u001b[39m\n\u001b[0;32m      2\u001b[0m \u001b[38;5;28;01massert\u001b[39;00m x \u001b[38;5;241m>\u001b[39m \u001b[38;5;241m5\u001b[39m  \u001b[38;5;66;03m# This will pass because the condition is True\u001b[39;00m\n\u001b[1;32m----> 3\u001b[0m \u001b[38;5;28;01massert\u001b[39;00m x \u001b[38;5;241m<\u001b[39m \u001b[38;5;241m5\u001b[39m\n",
      "\u001b[1;31mAssertionError\u001b[0m: "
     ]
    }
   ],
   "source": [
    "x = 10\n",
    "assert x > 5  # This will pass because the condition is True\n",
    "assert x < 5  # This will raise an AssertionError because the condition is False\n"
   ]
  },
  {
   "cell_type": "markdown",
   "id": "3b841e9b-830f-4b12-bba3-da6eb2704fd5",
   "metadata": {},
   "source": [
    "## What is a list comprehension in Python?"
   ]
  },
  {
   "cell_type": "markdown",
   "id": "d22466a3-cd87-4781-9022-ad374b1be03b",
   "metadata": {},
   "source": [
    "### List comprehension is a way to create a new list from an existing list or iterable in a single line of code. It's a more concise and readable way to create lists compared to using loops."
   ]
  },
  {
   "cell_type": "code",
   "execution_count": 18,
   "id": "f5dfc52e-1cd2-4a6f-a72f-f647e776823c",
   "metadata": {},
   "outputs": [
    {
     "name": "stdout",
     "output_type": "stream",
     "text": [
      "[0, 1, 4, 9, 16]\n"
     ]
    }
   ],
   "source": [
    "# Creating a list of squares using list comprehension\n",
    "squares = [x**2 for x in range(5)]\n",
    "print(squares)  \n"
   ]
  },
  {
   "cell_type": "markdown",
   "id": "e56ab8e5-4900-4dee-afd4-3869930c3c0e",
   "metadata": {},
   "source": [
    "## What is the difference between del and remove() in Python?"
   ]
  },
  {
   "cell_type": "markdown",
   "id": "178a7a54-ff91-48d6-9b69-92787b70140d",
   "metadata": {},
   "source": [
    "### del is used to delete an item or variable entirely.\n",
    "### remove() is used to remove an element by value from a list, but it only removes the first occurrence."
   ]
  },
  {
   "cell_type": "markdown",
   "id": "0efce99b-5517-42cf-8244-0bf7a0b4be37",
   "metadata": {},
   "source": [
    "### Example of remove():"
   ]
  },
  {
   "cell_type": "code",
   "execution_count": 27,
   "id": "cb30177d-bce8-4bdf-971c-76bff84f92c0",
   "metadata": {},
   "outputs": [
    {
     "name": "stdout",
     "output_type": "stream",
     "text": [
      "[1, 3, 2]\n"
     ]
    }
   ],
   "source": [
    "my_list = [1,2,3,2]\n",
    "my_list.remove(2)  #removes the first occurence of value 2\n",
    "print(my_list)"
   ]
  },
  {
   "cell_type": "markdown",
   "id": "78597bb9-50ea-43b3-9a96-36605e80906a",
   "metadata": {},
   "source": [
    "## Example of del:"
   ]
  },
  {
   "cell_type": "code",
   "execution_count": 30,
   "id": "7e839383-a052-4d13-b09b-6f78580b3579",
   "metadata": {},
   "outputs": [
    {
     "name": "stdout",
     "output_type": "stream",
     "text": [
      "[1, 3]\n"
     ]
    }
   ],
   "source": [
    "my_list = [1, 2, 3]\n",
    "del my_list[1]  # Removes the item at index 1 (value 2)\n",
    "print(my_list)  \n"
   ]
  },
  {
   "cell_type": "code",
   "execution_count": 46,
   "id": "9b74ede4-8f4f-43be-8b2b-8fc6b0a0279b",
   "metadata": {},
   "outputs": [
    {
     "name": "stdout",
     "output_type": "stream",
     "text": [
      "Function defined successfully!\n"
     ]
    }
   ],
   "source": [
    "def process_data():\n",
    "    # Placeholder function for data processing\n",
    "    pass\n",
    "\n",
    "print(\"Function defined successfully!\")\n"
   ]
  },
  {
   "cell_type": "markdown",
   "id": "ecf005dd-2c4e-4d2f-8880-8e13a1ca32ad",
   "metadata": {},
   "source": [
    "### What is the purpose of the pass statement in Python?"
   ]
  },
  {
   "cell_type": "markdown",
   "id": "2aebb797-ebb9-44ae-8bfc-3ae976766653",
   "metadata": {},
   "source": [
    "### The pass statement is a placeholder that does nothing. It's used when you need a syntactically valid block but don't want to execute any code in that block."
   ]
  },
  {
   "cell_type": "code",
   "execution_count": 3,
   "id": "c6a02f25-d52e-4252-a828-ff99da15169a",
   "metadata": {},
   "outputs": [
    {
     "name": "stdout",
     "output_type": "stream",
     "text": [
      "Class Animal defined successfully!\n"
     ]
    }
   ],
   "source": [
    "class Animal:\n",
    "    pass  # Class not implemented yet\n",
    "\n",
    "print(\"Class Animal defined successfully!\")\n"
   ]
  },
  {
   "cell_type": "code",
   "execution_count": 5,
   "id": "6f06d67d-2fe5-4833-aacc-56746249dd47",
   "metadata": {},
   "outputs": [
    {
     "name": "stdout",
     "output_type": "stream",
     "text": [
      "Processing 0\n",
      "Processing 1\n",
      "Processing 3\n",
      "Processing 4\n"
     ]
    }
   ],
   "source": [
    "for i in range(5):\n",
    "    if i == 2:\n",
    "        pass  # Do nothing when i is 2\n",
    "    else:\n",
    "        print(f\"Processing {i}\")\n"
   ]
  },
  {
   "cell_type": "code",
   "execution_count": 19,
   "id": "8a6532ab-2d00-4e3b-a982-732fac71e0b5",
   "metadata": {},
   "outputs": [
    {
     "name": "stdin",
     "output_type": "stream",
     "text": [
      "enter a number 18\n"
     ]
    }
   ],
   "source": [
    "age = int(input(\"enter a number\"))\n",
    "\n",
    "if age < 18:\n",
    "    print(\"Minor\")\n",
    "elif age == 18:\n",
    "    pass  # Decision pending for age 18\n",
    "else:\n",
    "    print(\"Adult\")\n"
   ]
  },
  {
   "cell_type": "code",
   "execution_count": 21,
   "id": "18da9ffc-de37-4e9f-99cc-571ff924a5c6",
   "metadata": {},
   "outputs": [
    {
     "name": "stdout",
     "output_type": "stream",
     "text": [
      "Program continues...\n"
     ]
    }
   ],
   "source": [
    "try:\n",
    "    x = int(\"abc\")  # This will raise a ValueError\n",
    "except ValueError:\n",
    "    pass  # Ignore the error\n",
    "\n",
    "print(\"Program continues...\")\n"
   ]
  },
  {
   "cell_type": "code",
   "execution_count": null,
   "id": "b4c2c13a-69c5-454d-9d5c-9aacc57200ef",
   "metadata": {},
   "outputs": [],
   "source": []
  }
 ],
 "metadata": {
  "kernelspec": {
   "display_name": "Python 3 (ipykernel)",
   "language": "python",
   "name": "python3"
  },
  "language_info": {
   "codemirror_mode": {
    "name": "ipython",
    "version": 3
   },
   "file_extension": ".py",
   "mimetype": "text/x-python",
   "name": "python",
   "nbconvert_exporter": "python",
   "pygments_lexer": "ipython3",
   "version": "3.12.4"
  }
 },
 "nbformat": 4,
 "nbformat_minor": 5
}
