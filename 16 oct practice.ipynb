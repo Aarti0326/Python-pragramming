{
 "cells": [
  {
   "cell_type": "markdown",
   "id": "4e288962-01f1-472d-9e8f-e7a391f64e96",
   "metadata": {},
   "source": [
    "### Question: Write a program where the user gets 3 attempts to enter the correct password."
   ]
  },
  {
   "cell_type": "code",
   "execution_count": 2,
   "id": "8343497e-ad3f-4812-b7fd-82280c729d1a",
   "metadata": {},
   "outputs": [
    {
     "name": "stdin",
     "output_type": "stream",
     "text": [
      "attempt 1: enter password: hello\n"
     ]
    },
    {
     "name": "stdout",
     "output_type": "stream",
     "text": [
      "Incorrect passsword.\n"
     ]
    },
    {
     "name": "stdin",
     "output_type": "stream",
     "text": [
      "attempt 2: enter password: python\n"
     ]
    },
    {
     "name": "stdout",
     "output_type": "stream",
     "text": [
      "Incorrect passsword.\n"
     ]
    },
    {
     "name": "stdin",
     "output_type": "stream",
     "text": [
      "attempt 3: enter password: python123\n"
     ]
    },
    {
     "name": "stdout",
     "output_type": "stream",
     "text": [
      "access granted\n"
     ]
    }
   ],
   "source": [
    "correct_password = \"python123\"\n",
    "attempt = 1\n",
    "\n",
    "while attempt <=3:\n",
    "    password = input(f'attempt {attempt}: enter password:')\n",
    "    if password == correct_password:\n",
    "        print(\"access granted\")\n",
    "        break\n",
    "    else:\n",
    "        print(\"Incorrect passsword.\")\n",
    "    attempt +=1\n",
    "    if attempt >3:\n",
    "        print(\"too many failed attempts.access denied\")    "
   ]
  },
  {
   "cell_type": "markdown",
   "id": "846f5f5f-7bc4-416d-8493-5484e2b4579f",
   "metadata": {},
   "source": [
    "### Count down from a number to zero."
   ]
  },
  {
   "cell_type": "code",
   "execution_count": 4,
   "id": "4851268d-3d5c-441c-91da-d46cee45a618",
   "metadata": {},
   "outputs": [
    {
     "name": "stdout",
     "output_type": "stream",
     "text": [
      "5\n",
      "4\n",
      "3\n",
      "2\n",
      "1\n",
      "blast off\n"
     ]
    }
   ],
   "source": [
    "def countdown(n):\n",
    "    while n>0:\n",
    "        print(n)\n",
    "        n-=1\n",
    "    print(\"blast off\")\n",
    "\n",
    "countdown(5)"
   ]
  },
  {
   "cell_type": "markdown",
   "id": "0f79ef2e-87ec-4975-aea2-95aac45db256",
   "metadata": {},
   "source": [
    "### Find the first even number in a list."
   ]
  },
  {
   "cell_type": "code",
   "execution_count": 6,
   "id": "844a7943-360a-4672-8aa2-c209b8b15b77",
   "metadata": {},
   "outputs": [
    {
     "name": "stdout",
     "output_type": "stream",
     "text": [
      "10\n"
     ]
    }
   ],
   "source": [
    "def first_even(numbers):\n",
    "    for num in numbers:\n",
    "        if num % 2 == 0:\n",
    "            return num\n",
    "    return None\n",
    "\n",
    "# Example usage\n",
    "print(first_even([1, 3, 5, 10,6, 11]))  # Output: 8\n"
   ]
  },
  {
   "cell_type": "markdown",
   "id": "0beca320-a958-4569-9633-07139bacee91",
   "metadata": {},
   "source": [
    "### Iterate through a list of names and print a greeting for each."
   ]
  },
  {
   "cell_type": "code",
   "execution_count": 8,
   "id": "b83894b9-2cde-4de0-a74d-d423800a822a",
   "metadata": {},
   "outputs": [
    {
     "name": "stdout",
     "output_type": "stream",
     "text": [
      "hello Alice\n",
      "hello Bob\n",
      "hello Charlie\n"
     ]
    }
   ],
   "source": [
    "names = [\"Alice\", \"Bob\", \"Charlie\"]\n",
    "for name in names:\n",
    "    print(\"hello\",name)"
   ]
  },
  {
   "cell_type": "markdown",
   "id": "bce2462c-4f0f-41ea-9f0a-b9b324a4e15e",
   "metadata": {},
   "source": [
    "### Keep asking a user for a password until they enter the correct one."
   ]
  },
  {
   "cell_type": "code",
   "execution_count": 10,
   "id": "2bf3b274-b723-4c99-9912-6f13e6380e71",
   "metadata": {},
   "outputs": [
    {
     "name": "stdin",
     "output_type": "stream",
     "text": [
      "enter the password : 123\n"
     ]
    },
    {
     "name": "stdout",
     "output_type": "stream",
     "text": [
      "incorrect password,try again...\n"
     ]
    },
    {
     "name": "stdin",
     "output_type": "stream",
     "text": [
      "enter the password : python123\n"
     ]
    },
    {
     "name": "stdout",
     "output_type": "stream",
     "text": [
      "incorrect password,try again...\n"
     ]
    },
    {
     "name": "stdin",
     "output_type": "stream",
     "text": [
      "enter the password : aarti123\n"
     ]
    }
   ],
   "source": [
    "correct_password = \"aarti123\"\n",
    "user_input = \"\"\n",
    "\n",
    "while user_input != correct_password:\n",
    "  user_input = input(\"enter the password :\")\n",
    "  if user_input != correct_password:\n",
    "      print(\"incorrect password,try again...\")"
   ]
  },
  {
   "cell_type": "markdown",
   "id": "8a436dde-39e4-4691-9b80-9a524d603425",
   "metadata": {},
   "source": [
    "###  program that checks if the item is in the list without using a loop:"
   ]
  },
  {
   "cell_type": "code",
   "execution_count": 12,
   "id": "9e0466ce-9b14-4234-8fa6-717b62037aa4",
   "metadata": {},
   "outputs": [
    {
     "name": "stdin",
     "output_type": "stream",
     "text": [
      "enter a intem name : banana\n"
     ]
    },
    {
     "name": "stdout",
     "output_type": "stream",
     "text": [
      "found.....\n"
     ]
    }
   ],
   "source": [
    "items = [\"apple\", \"banana\", \"cherry\", \"date\"]\n",
    "search_item = input(\"enter a intem name :\")\n",
    "\n",
    "if search_item in items:\n",
    "    print(\"found.....\")\n",
    "else:\n",
    "    print(\"you entered wrong item..!\")"
   ]
  },
  {
   "cell_type": "markdown",
   "id": "12899d9a-3b1e-4ce9-8211-62087ff3356b",
   "metadata": {},
   "source": [
    "### Print all even numbers from 1 to 10, skipping the odd ones."
   ]
  },
  {
   "cell_type": "code",
   "execution_count": 14,
   "id": "43e3bbd8-377d-444c-b18c-ce9010dc03b3",
   "metadata": {},
   "outputs": [
    {
     "name": "stdout",
     "output_type": "stream",
     "text": [
      "2\n",
      "4\n",
      "6\n",
      "8\n",
      "10\n"
     ]
    }
   ],
   "source": [
    "for number in range(1,11):\n",
    "    if number%2!=0:\n",
    "        continue\n",
    "    print(number)"
   ]
  },
  {
   "cell_type": "markdown",
   "id": "26021b45-9222-456e-a63c-244c52461ea9",
   "metadata": {},
   "source": [
    "### Classify a person's age group."
   ]
  },
  {
   "cell_type": "code",
   "execution_count": 16,
   "id": "0bfcf2e0-25c7-4246-83cc-16274e332c9a",
   "metadata": {},
   "outputs": [
    {
     "name": "stdin",
     "output_type": "stream",
     "text": [
      "enter your age : 56\n"
     ]
    },
    {
     "name": "stdout",
     "output_type": "stream",
     "text": [
      "Adult\n"
     ]
    }
   ],
   "source": [
    "age =int(input(\"enter your age :\"))\n",
    "\n",
    "if age <13:\n",
    "    print(\"child\")\n",
    "elif 13<=age<=20:\n",
    "    print(\"Teenaher\")\n",
    "elif 20<=age<=65:\n",
    "    print(\"Adult\")\n",
    "else:\n",
    "    print(\"senior\")"
   ]
  },
  {
   "cell_type": "code",
   "execution_count": 17,
   "id": "3f118e5b-351e-4bbc-a41a-7556f228fb9d",
   "metadata": {},
   "outputs": [
    {
     "name": "stdout",
     "output_type": "stream",
     "text": [
      "The square of i is 1\n",
      "The square of i is 4\n",
      "The square of i is 9\n",
      "The square of i is 16\n",
      "The square of i is 25\n"
     ]
    }
   ],
   "source": [
    "for i in range(1, 6):\n",
    "    print(\"The square of i is\", i**2)\n"
   ]
  },
  {
   "cell_type": "code",
   "execution_count": 18,
   "id": "53eb024c-fe08-479e-83d6-0a91b3ce8a0e",
   "metadata": {},
   "outputs": [
    {
     "name": "stdout",
     "output_type": "stream",
     "text": [
      "1\n",
      "2\n",
      "3\n",
      "4\n",
      "5\n"
     ]
    }
   ],
   "source": [
    "count = 1\n",
    "\n",
    "while count <= 5:\n",
    "    print(count)\n",
    "    count += 1\n"
   ]
  },
  {
   "cell_type": "markdown",
   "id": "ee94ece8-4332-4bd5-aedb-c1f2e6c25ead",
   "metadata": {},
   "source": [
    "### Skip all numbers that are multiples of 3 while counting to 10."
   ]
  },
  {
   "cell_type": "code",
   "execution_count": 31,
   "id": "5faf5fa1-0266-4291-8ac4-2f2ccbc0676b",
   "metadata": {},
   "outputs": [
    {
     "name": "stdout",
     "output_type": "stream",
     "text": [
      "2\n",
      "4\n",
      "5\n",
      "7\n",
      "8\n",
      "10\n",
      "11\n"
     ]
    }
   ],
   "source": [
    "count = 1\n",
    "\n",
    "while count<=10:\n",
    "    count+=1\n",
    "    if count %3==0:\n",
    "        continue\n",
    "    print(count)"
   ]
  },
  {
   "cell_type": "code",
   "execution_count": null,
   "id": "31813314-b7d0-4290-86a8-e210ccf0c745",
   "metadata": {},
   "outputs": [],
   "source": []
  }
 ],
 "metadata": {
  "kernelspec": {
   "display_name": "Python 3 (ipykernel)",
   "language": "python",
   "name": "python3"
  },
  "language_info": {
   "codemirror_mode": {
    "name": "ipython",
    "version": 3
   },
   "file_extension": ".py",
   "mimetype": "text/x-python",
   "name": "python",
   "nbconvert_exporter": "python",
   "pygments_lexer": "ipython3",
   "version": "3.12.4"
  }
 },
 "nbformat": 4,
 "nbformat_minor": 5
}
