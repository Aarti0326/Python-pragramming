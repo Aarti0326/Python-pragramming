{
 "cells": [
  {
   "cell_type": "markdown",
   "id": "1c6d15f0-ebcd-4665-9837-ea512ff60e1c",
   "metadata": {},
   "source": [
    "## control flow statement        \n",
    "## if statement"
   ]
  },
  {
   "cell_type": "code",
   "execution_count": 13,
   "id": "e7783017-924e-44ff-9874-e473cf808ae8",
   "metadata": {},
   "outputs": [
    {
     "name": "stdout",
     "output_type": "stream",
     "text": [
      "20 is greater than 10\n",
      "condition is false\n"
     ]
    }
   ],
   "source": [
    "n=20\n",
    "if n>10:\n",
    "    print(\"20 is greater than 10\")\n",
    "print(\"condition is false\")"
   ]
  },
  {
   "cell_type": "markdown",
   "id": "7e3f97c3-3ae6-4172-9c2f-7da8eba1b7f9",
   "metadata": {},
   "source": [
    "### develop a temperature converter in a python for a cold storage that converts temperatures between celsius and fahrenheit scales.the program should take a temp value and unit (c or f) as input. if the temp is less than 15 degrees celcius, inform the user that the temp is between 24 to 28 degrees celcius, inform the user that the temp is convenient ."
   ]
  },
  {
   "cell_type": "code",
   "execution_count": 20,
   "id": "fd91deec-1989-4047-b00b-dcca8009fa2f",
   "metadata": {},
   "outputs": [
    {
     "name": "stdin",
     "output_type": "stream",
     "text": [
      "enter the temperature 26\n"
     ]
    },
    {
     "name": "stdout",
     "output_type": "stream",
     "text": [
      "temperature is convinient\n"
     ]
    }
   ],
   "source": [
    "temp= float(input(\"enter the temperature\"))\n",
    "\n",
    "if temp<15:\n",
    "    print(\"temperature is not convinient\")\n",
    "\n",
    "if 24<temp<28:\n",
    "          print(\"temperature is convinient\")\n",
    "    "
   ]
  },
  {
   "cell_type": "markdown",
   "id": "78283752-0d95-4475-b35c-3e5846c5b219",
   "metadata": {},
   "source": [
    "# if else statement"
   ]
  },
  {
   "cell_type": "markdown",
   "id": "1c3f300d-a7ec-4bde-80bd-e4a63ab25f2c",
   "metadata": {},
   "source": [
    "# write a program to check whether a person is eligible for voting or not "
   ]
  },
  {
   "cell_type": "code",
   "execution_count": 25,
   "id": "496869f2-ab19-43b2-a8ff-2a49b542430d",
   "metadata": {},
   "outputs": [
    {
     "name": "stdin",
     "output_type": "stream",
     "text": [
      "enter your age 17\n"
     ]
    },
    {
     "name": "stdout",
     "output_type": "stream",
     "text": [
      "you are not eligible for vote\n"
     ]
    }
   ],
   "source": [
    "age = int(input(\"enter your age\"))\n",
    "\n",
    "if age>18:\n",
    "    print(\"you are eligible for vote\")\n",
    "else:\n",
    "    print(\"you are not eligible for vote\")\n",
    "    "
   ]
  },
  {
   "cell_type": "markdown",
   "id": "24c9788a-e1ec-4d48-98ec-01862fa6cea4",
   "metadata": {},
   "source": [
    "## you are tasked with a developing a python to manage employe salaries for a company. your program should calculate the net salary of each employe based on their base salary,deductions,and bonuses. \n",
    "## additionally, employees who have been with the company for more than 5 years are eligible for an additionally loyality bonus, 8% of salary. deductions of tax will be 12%\n",
    "  # write a python script that prompts the user to input the following information for each employeee: base salary years of services\n",
    "## after calculating the net salary,\n",
    "## the program should print a summary for each employee\n",
    "## including their base salary,deductions,bonuses,\n",
    "## loyality bonus (if applicable), and net salary.\n",
    "                                                                                                                                                                                                                                                                                             \n",
    "                                                                                                                                                                                                                                                                                           \n",
    "                                                                                                                                                                                                                                                                                           "
   ]
  },
  {
   "cell_type": "code",
   "execution_count": 36,
   "id": "67558d21-be25-4706-b266-f746ea0f35a8",
   "metadata": {},
   "outputs": [
    {
     "name": "stdin",
     "output_type": "stream",
     "text": [
      " enter your base salary 50000\n",
      " enetr your years of service 6\n"
     ]
    },
    {
     "name": "stdout",
     "output_type": "stream",
     "text": [
      "you will get net salary 48000.0\n"
     ]
    }
   ],
   "source": [
    "base_salary = float(input(\" enter your base salary\"))\n",
    "years_of_service =int(input(\" enetr your years of service\"))\n",
    "\n",
    "if years_of_service>5:\n",
    "    total_salary = base_salary+(0.08*base_salary) - (0.12*base_salary)\n",
    "    print(\"you will get net salary\",total_salary)\n",
    "          \n",
    "else:\n",
    "    net_salary = base_salary - (0.12*base_salary)\n",
    "    print(\"your net salary is\", net_salary)\n"
   ]
  },
  {
   "cell_type": "markdown",
   "id": "074018e2-187d-47d0-a0a6-329c357726ef",
   "metadata": {},
   "source": [
    "## if elif else"
   ]
  },
  {
   "cell_type": "markdown",
   "id": "968c96be-5be5-429a-9afd-60a8075a2475",
   "metadata": {},
   "source": [
    "## write a python program that prompts the user to input a city and displays the famous monument if that city .\n",
    "### mumbai: getway of india \n",
    "### kolkatta: victoria memorial\n",
    "### chennai: marina beach\n",
    "### banglore: botanical garden \n",
    "### pune : shaniwarvada \n",
    "### write a python script to implement this functionality."
   ]
  },
  {
   "cell_type": "code",
   "execution_count": 61,
   "id": "7a656bea-a908-4570-afb1-6d3e76c425fc",
   "metadata": {},
   "outputs": [
    {
     "name": "stdin",
     "output_type": "stream",
     "text": [
      "enter the city delhi\n"
     ]
    },
    {
     "name": "stdout",
     "output_type": "stream",
     "text": [
      "no record found\n"
     ]
    }
   ],
   "source": [
    "a= input(\"enter the city\")\n",
    "\n",
    "if a ==\"mumbai\":\n",
    "    print(\"the famous monument is get way of india \")\n",
    "elif a ==\"kolkatta\":\n",
    "    print(\" the famous monument is kolkatta is victoria memorial \")\n",
    "\n",
    "elif a ==\"channai\":\n",
    "    print(\" the famous monument is channai is marina beach \")\n",
    "\n",
    "elif a ==\"banglore\":\n",
    "    print(\" the famous monument is banglore is botnical garden \")\n",
    "\n",
    "elif a ==\"pune\":\n",
    "    print(\" the famous monument is pune is shaniwarvada \")\n",
    "else:\n",
    "    print(\"no record found\")\n"
   ]
  },
  {
   "cell_type": "code",
   "execution_count": null,
   "id": "33e33df5-8e3b-460c-a3fb-ea1be07296b6",
   "metadata": {},
   "outputs": [],
   "source": []
  }
 ],
 "metadata": {
  "kernelspec": {
   "display_name": "Python 3 (ipykernel)",
   "language": "python",
   "name": "python3"
  },
  "language_info": {
   "codemirror_mode": {
    "name": "ipython",
    "version": 3
   },
   "file_extension": ".py",
   "mimetype": "text/x-python",
   "name": "python",
   "nbconvert_exporter": "python",
   "pygments_lexer": "ipython3",
   "version": "3.12.4"
  }
 },
 "nbformat": 4,
 "nbformat_minor": 5
}
