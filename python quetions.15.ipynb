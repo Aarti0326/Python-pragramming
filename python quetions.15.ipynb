{
 "cells": [
  {
   "cell_type": "markdown",
   "id": "7a69a849-d3fc-4642-ab98-31e28a88caff",
   "metadata": {},
   "source": [
    "### Incrementing a Variable"
   ]
  },
  {
   "cell_type": "code",
   "execution_count": 2,
   "id": "2fb680a5-cf2d-4420-82e7-27d479565318",
   "metadata": {},
   "outputs": [
    {
     "name": "stdout",
     "output_type": "stream",
     "text": [
      "count 5\n"
     ]
    }
   ],
   "source": [
    "count = 0 # initialize the variable count to 0\n",
    "for i in range (5):\n",
    "    count += 1 # incerament the variable count by 1 each iteration\n",
    "print(\"count\",count)"
   ]
  },
  {
   "cell_type": "code",
   "execution_count": 112,
   "id": "780a2742-8bef-4752-8974-73901428d561",
   "metadata": {},
   "outputs": [
    {
     "name": "stdout",
     "output_type": "stream",
     "text": [
      "8\n"
     ]
    }
   ],
   "source": [
    "x = 5\n",
    "x += 3   #x =x + 3\n",
    "print(x)"
   ]
  },
  {
   "cell_type": "markdown",
   "id": "7138b51d-b74f-4224-a8bc-6490d49e0be2",
   "metadata": {},
   "source": [
    "### Calculating a Sum"
   ]
  },
  {
   "cell_type": "code",
   "execution_count": 5,
   "id": "d9b8f008-8a5b-471a-b103-9c2e09fbc453",
   "metadata": {},
   "outputs": [
    {
     "name": "stdout",
     "output_type": "stream",
     "text": [
      "30\n"
     ]
    }
   ],
   "source": [
    "total = 0\n",
    "for number in [2,4,6,8,10]:\n",
    "    total+=number\n",
    "print(total)\n",
    "   "
   ]
  },
  {
   "cell_type": "code",
   "execution_count": 6,
   "id": "6a6c6d6e-e13f-4b45-b1e4-704ceb046baa",
   "metadata": {},
   "outputs": [
    {
     "name": "stdout",
     "output_type": "stream",
     "text": [
      "122\n"
     ]
    }
   ],
   "source": [
    "total = 0\n",
    "for number in  [1,2,6,5,8,100]:\n",
    "    total+=number\n",
    "print(total)"
   ]
  },
  {
   "cell_type": "markdown",
   "id": "1a8d7b41-b727-4c85-8668-b734534594d1",
   "metadata": {},
   "source": [
    "### Calculating the Average"
   ]
  },
  {
   "cell_type": "code",
   "execution_count": 8,
   "id": "21bd7240-2fbc-4342-adaf-a5ace14f49f7",
   "metadata": {},
   "outputs": [
    {
     "name": "stdout",
     "output_type": "stream",
     "text": [
      "average 30\n"
     ]
    }
   ],
   "source": [
    "numbers = [10,20,30,40,50]\n",
    "sum_numbers = 0 # initialize sum_numbers 0\n",
    "\n",
    "for num in numbers:\n",
    "    sum_numbers += num # add each number to sum_numbers\n",
    "average = int(sum_numbers/len(numbers))\n",
    "\n",
    "print(\"average\",average)\n",
    "    "
   ]
  },
  {
   "cell_type": "code",
   "execution_count": 9,
   "id": "ab6b495e-5b85-4d40-9840-cd4e95933ebd",
   "metadata": {},
   "outputs": [],
   "source": [
    "#another way"
   ]
  },
  {
   "cell_type": "code",
   "execution_count": 10,
   "id": "4a396df4-0053-4133-b68e-470a32845c61",
   "metadata": {},
   "outputs": [
    {
     "name": "stdout",
     "output_type": "stream",
     "text": [
      "Average: 30\n"
     ]
    }
   ],
   "source": [
    "numbers = [10, 20, 30, 40, 50]  # List of numbers\n",
    "\n",
    "# Calculate the sum of the numbers\n",
    "total_sum = sum(numbers)\n",
    "\n",
    "# Calculate the average\n",
    "average = int(total_sum / len(numbers))\n",
    "\n",
    "# Print the average\n",
    "print(\"Average:\", average)"
   ]
  },
  {
   "cell_type": "markdown",
   "id": "c68d0751-1618-443c-abd1-e3860ea8623d",
   "metadata": {},
   "source": [
    "### Swapping Values"
   ]
  },
  {
   "cell_type": "code",
   "execution_count": 12,
   "id": "5867069a-079d-43ba-aab1-95463f81faf3",
   "metadata": {},
   "outputs": [
    {
     "name": "stdout",
     "output_type": "stream",
     "text": [
      "10\n",
      "5\n"
     ]
    }
   ],
   "source": [
    "a  = 5\n",
    "b = 10\n",
    "# Swap the values of a and b\n",
    "a,b = b,a\n",
    "\n",
    "print(a)\n",
    "print(b)"
   ]
  },
  {
   "cell_type": "markdown",
   "id": "43da00bc-9241-4f71-8e09-282dbfe8d379",
   "metadata": {},
   "source": [
    "### Accumulating Product### "
   ]
  },
  {
   "cell_type": "code",
   "execution_count": 14,
   "id": "bf35f827-d672-4935-9f25-ae0bc130e2d2",
   "metadata": {},
   "outputs": [
    {
     "name": "stdout",
     "output_type": "stream",
     "text": [
      "Product: 120\n"
     ]
    }
   ],
   "source": [
    "product = 1  # Initialize the variable product to 1\n",
    "\n",
    "for i in range(1, 6):\n",
    "    product *= i  # Multiply product by the current value of i\n",
    "\n",
    "print(\"Product:\", product)  # Output the final value of product"
   ]
  },
  {
   "cell_type": "code",
   "execution_count": 15,
   "id": "2782b437-7325-44f7-8b59-eed47c591c27",
   "metadata": {},
   "outputs": [],
   "source": [
    "#Iteration 1:   i = 1\n",
    "\n",
    "#product = 1 * 1 = 1\n",
    "#Iteration 2: i = 2\n",
    "\n",
    "#product = 1 * 2 = 2\n",
    "#Iteration 3: i = 3\n",
    "\n",
    "#product = 2 * 3 = 6\n",
    "#Iteration 4: i = 4\n",
    "\n",
    "#product = 6 * 4 = 24\n",
    "#Iteration 5: i = 5\n",
    "\n",
    "#product = 24 * 5 = 120"
   ]
  },
  {
   "cell_type": "code",
   "execution_count": 16,
   "id": "0df9e5c5-43d3-497c-a9c2-06853fc7d3e1",
   "metadata": {},
   "outputs": [],
   "source": [
    "## another way"
   ]
  },
  {
   "cell_type": "code",
   "execution_count": 17,
   "id": "97ca9736-8bd1-4f76-9b91-450ba0d75fcd",
   "metadata": {},
   "outputs": [],
   "source": [
    "import math"
   ]
  },
  {
   "cell_type": "code",
   "execution_count": 18,
   "id": "17bb639f-995a-49a6-a07a-0c2702a3bd22",
   "metadata": {},
   "outputs": [
    {
     "name": "stdout",
     "output_type": "stream",
     "text": [
      "120\n"
     ]
    }
   ],
   "source": [
    "numbers = range(1,6)\n",
    "\n",
    "product = math.prod(numbers)\n",
    "\n",
    "print(product)"
   ]
  },
  {
   "cell_type": "code",
   "execution_count": 19,
   "id": "522f18ff-e47e-4dd2-8d70-b371f67ef86a",
   "metadata": {},
   "outputs": [],
   "source": [
    "import math"
   ]
  },
  {
   "cell_type": "code",
   "execution_count": 20,
   "id": "03b697d1-5de4-43c5-9321-bbdafdd410db",
   "metadata": {},
   "outputs": [
    {
     "name": "stdout",
     "output_type": "stream",
     "text": [
      "24\n"
     ]
    }
   ],
   "source": [
    "range_num = range(1,5)\n",
    "numbers=math.prod(range_num)\n",
    "print(numbers)"
   ]
  },
  {
   "cell_type": "code",
   "execution_count": 21,
   "id": "62e35266-4655-4880-a503-5323e6872132",
   "metadata": {},
   "outputs": [
    {
     "name": "stdout",
     "output_type": "stream",
     "text": [
      "24\n"
     ]
    }
   ],
   "source": [
    "numbers = 1*2*3*4\n",
    "print(numbers)"
   ]
  },
  {
   "cell_type": "code",
   "execution_count": 22,
   "id": "c1bfb036-3d69-49b3-8bd2-f8e0ecfb500a",
   "metadata": {},
   "outputs": [
    {
     "name": "stdout",
     "output_type": "stream",
     "text": [
      "1\n",
      "3\n",
      "6\n",
      "10\n",
      "15\n",
      "21\n",
      "28\n",
      "36\n",
      "45\n",
      "55\n"
     ]
    }
   ],
   "source": [
    "sum = 0\n",
    "i = 1\n",
    "while i <= 10:\n",
    "    sum = sum+i\n",
    "    i  = i + 1\n",
    "    print(sum)"
   ]
  },
  {
   "cell_type": "code",
   "execution_count": 23,
   "id": "648a5d0a-6076-4da4-b432-a8a48775883a",
   "metadata": {},
   "outputs": [
    {
     "name": "stdout",
     "output_type": "stream",
     "text": [
      "2\n",
      "3\n",
      "4\n",
      "5\n",
      "6\n",
      "7\n",
      "8\n",
      "9\n",
      "10\n",
      "11\n"
     ]
    }
   ],
   "source": [
    "count = 1\n",
    "for i in range(1,11):\n",
    "    count+=1\n",
    "    print(count)\n",
    "    \n",
    "    "
   ]
  },
  {
   "cell_type": "code",
   "execution_count": 24,
   "id": "01eeb53b-7328-4454-811c-bcd620578bac",
   "metadata": {},
   "outputs": [
    {
     "name": "stdout",
     "output_type": "stream",
     "text": [
      "count: 16\n"
     ]
    }
   ],
   "source": [
    " count = 1  #This line initializes the variable count to 1.\n",
    "\n",
    "for i in range(1, 6):  #i will take on the values 1, 2, 3, 4, and 5 in successive iterations.\n",
    "    count += i #count = count + i.\n",
    "\n",
    "print(\"count:\", count) \n",
    "\n",
    "#explaination : First Iteration (i = 1):\n",
    "\n",
    "#count += 1 →aswfrguki count = 1 + 1 → count becomes 2.\n",
    "#Second Iteration (i = 2):\n",
    "\n",
    "#count += 2 → count = 2 + 2 → count becomes 4.\n",
    "#Third Iteration (i = 3):\n",
    "\n",
    "#count += 3 → count = 4 + 3 → count becomes 7.\n",
    "#Fourth Iteration (i = 4):\n",
    "\n",
    "#count += 4 → count = 7 + 4 → count becomes 11.\n",
    "#Fifth Iteration (i = 5):\n",
    "\n",
    "#count += 5 → count = 11 + 5 → count becomes 16."
   ]
  },
  {
   "cell_type": "code",
   "execution_count": 25,
   "id": "f2c293b6-cf01-4b36-beff-37a2f9d98209",
   "metadata": {},
   "outputs": [
    {
     "name": "stdout",
     "output_type": "stream",
     "text": [
      "12\n"
     ]
    }
   ],
   "source": [
    "sum = 0\n",
    "for i in range(1,6):\n",
    "    if i == 3:\n",
    "        continue\n",
    "    sum+=i\n",
    "print(sum)"
   ]
  },
  {
   "cell_type": "code",
   "execution_count": 26,
   "id": "8109f6a3-d83f-4819-a7d6-6d1fffa3245f",
   "metadata": {},
   "outputs": [
    {
     "name": "stdout",
     "output_type": "stream",
     "text": [
      "1\n",
      "3\n"
     ]
    }
   ],
   "source": [
    "sum = 0\n",
    "for i in range (1,6):\n",
    "    if i == 3:\n",
    "        break\n",
    "    sum = sum+i\n",
    "    print(sum)"
   ]
  },
  {
   "cell_type": "code",
   "execution_count": 80,
   "id": "e8576bc6-2dcb-4665-8f27-6d1bc560d900",
   "metadata": {},
   "outputs": [
    {
     "name": "stdout",
     "output_type": "stream",
     "text": [
      "1\n",
      "2\n",
      "3\n",
      "4\n",
      "5\n",
      "6\n",
      "7\n",
      "hello\n"
     ]
    }
   ],
   "source": [
    "for i in range(1,91):\n",
    "    print(i)\n",
    "    if i==7:\n",
    "        break\n",
    "print(\"hello\")\n",
    "        "
   ]
  },
  {
   "cell_type": "code",
   "execution_count": 82,
   "id": "0b703497-4758-4f5f-8a18-d239ec7b6792",
   "metadata": {},
   "outputs": [
    {
     "name": "stdout",
     "output_type": "stream",
     "text": [
      "1\n",
      "3\n",
      "5\n"
     ]
    }
   ],
   "source": [
    "for i in range(1,11,2):\n",
    "    print(i)\n",
    "    if i==5:\n",
    "        break"
   ]
  },
  {
   "cell_type": "code",
   "execution_count": 90,
   "id": "602ca898-2685-440a-83ee-61faa321073a",
   "metadata": {},
   "outputs": [
    {
     "name": "stdout",
     "output_type": "stream",
     "text": [
      "10\n",
      "9\n",
      "8\n",
      "7\n",
      "6\n",
      "5\n",
      "4\n",
      "3\n",
      "2\n",
      "1\n"
     ]
    }
   ],
   "source": [
    "for i in range(10,0,-1):\n",
    "    print(i)"
   ]
  },
  {
   "cell_type": "code",
   "execution_count": 92,
   "id": "5a569931-ebe2-4e69-8430-986e1a0e4403",
   "metadata": {},
   "outputs": [
    {
     "name": "stdout",
     "output_type": "stream",
     "text": [
      "-11\n",
      "-10\n",
      "-9\n",
      "-8\n",
      "-7\n",
      "-6\n",
      "-5\n",
      "-4\n",
      "-3\n",
      "-2\n",
      "-1\n"
     ]
    }
   ],
   "source": [
    "for i in range(-11,0,1):\n",
    "    print(i)"
   ]
  },
  {
   "cell_type": "code",
   "execution_count": 96,
   "id": "3710f395-4eef-41bc-a550-e9b42bf7b5a6",
   "metadata": {},
   "outputs": [
    {
     "name": "stdout",
     "output_type": "stream",
     "text": [
      "-1\n",
      "-2\n",
      "-3\n",
      "-4\n",
      "-5\n",
      "-6\n",
      "-7\n",
      "-8\n",
      "-9\n",
      "-10\n"
     ]
    }
   ],
   "source": [
    "for i in range(-1,-11,-1):\n",
    "    print(i)\n",
    "\n"
   ]
  },
  {
   "cell_type": "code",
   "execution_count": 108,
   "id": "fceab4ce-35bf-41dd-82c1-f0be72cce42a",
   "metadata": {},
   "outputs": [
    {
     "name": "stdout",
     "output_type": "stream",
     "text": [
      "Aarti salunkhe\n",
      "\n",
      "Aarti salunkhe\n",
      "\n",
      "Aarti salunkhe\n",
      "\n",
      "Aarti salunkhe\n",
      "\n",
      "Aarti salunkhe\n",
      "\n",
      "Aarti salunkhe\n",
      "\n",
      "Aarti salunkhe\n",
      "\n",
      "Aarti salunkhe\n",
      "\n",
      "Aarti salunkhe\n",
      "\n"
     ]
    }
   ],
   "source": [
    "for i in range(1,10):\n",
    "    print(\"Aarti\",\"salunkhe\\n\")"
   ]
  },
  {
   "cell_type": "code",
   "execution_count": 110,
   "id": "43aac6c3-b070-4ab7-b2fc-2dddb9a24594",
   "metadata": {},
   "outputs": [
    {
     "name": "stdout",
     "output_type": "stream",
     "text": [
      "*\n",
      "*\n",
      "*\n",
      "*\n"
     ]
    }
   ],
   "source": [
    "for i in range(1,5):\n",
    "    print(\"*\")"
   ]
  },
  {
   "cell_type": "code",
   "execution_count": null,
   "id": "2db997f0-8be1-403c-aa12-3d834d236993",
   "metadata": {},
   "outputs": [],
   "source": []
  }
 ],
 "metadata": {
  "kernelspec": {
   "display_name": "Python 3 (ipykernel)",
   "language": "python",
   "name": "python3"
  },
  "language_info": {
   "codemirror_mode": {
    "name": "ipython",
    "version": 3
   },
   "file_extension": ".py",
   "mimetype": "text/x-python",
   "name": "python",
   "nbconvert_exporter": "python",
   "pygments_lexer": "ipython3",
   "version": "3.12.4"
  }
 },
 "nbformat": 4,
 "nbformat_minor": 5
}
