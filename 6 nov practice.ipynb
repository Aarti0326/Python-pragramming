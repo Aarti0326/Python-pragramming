{
 "cells": [
  {
   "cell_type": "markdown",
   "id": "c248becf-1b8f-4a27-9150-fca8f819c0cb",
   "metadata": {},
   "source": [
    "## Write a program that checks if a given number is divisible by both 5 and 10. If yes, print \"Divisible by 5 and 10\", otherwise print \"Not divisible by both\"."
   ]
  },
  {
   "cell_type": "code",
   "execution_count": 10,
   "id": "4043f5f0-0772-46c1-8502-0f4e0e535191",
   "metadata": {},
   "outputs": [
    {
     "name": "stdin",
     "output_type": "stream",
     "text": [
      "Enter a number:  5\n"
     ]
    },
    {
     "name": "stdout",
     "output_type": "stream",
     "text": [
      "Divisible by 5 but not by 10\n"
     ]
    }
   ],
   "source": [
    "number = int(input(\"Enter a number: \"))\n",
    "\n",
    "if number % 5 == 0:\n",
    "    if number % 10 == 0:\n",
    "        print(\"Divisible by 5 and 10\")\n",
    "    else:\n",
    "        print(\"Divisible by 5 but not by 10\")\n",
    "else:\n",
    "    print(\"Not divisible by both\")\n"
   ]
  },
  {
   "cell_type": "markdown",
   "id": "78362917-5eac-4073-bc13-3b38df9e10fc",
   "metadata": {},
   "source": [
    "## Write a Python program that prints all numbers from 1 to 10, but skips printing the number 5 using the continue statement."
   ]
  },
  {
   "cell_type": "code",
   "execution_count": 13,
   "id": "8ba51a0b-91c6-4663-887f-fb6cb925eaef",
   "metadata": {},
   "outputs": [
    {
     "name": "stdout",
     "output_type": "stream",
     "text": [
      "1\n",
      "2\n",
      "3\n",
      "4\n",
      "6\n",
      "7\n",
      "8\n",
      "9\n",
      "10\n"
     ]
    }
   ],
   "source": [
    "for i in range(1, 11):\n",
    "    if i == 5:\n",
    "        continue\n",
    "    print(i)\n"
   ]
  },
  {
   "cell_type": "markdown",
   "id": "be61216d-33a5-49d0-a80d-c467e8735aaa",
   "metadata": {},
   "source": [
    "## Write a program that prints the square of numbers from 1 to 5 using a for loop and the range function."
   ]
  },
  {
   "cell_type": "code",
   "execution_count": 32,
   "id": "46cd57c3-eea7-46f8-87da-5ea40ea10df5",
   "metadata": {},
   "outputs": [
    {
     "name": "stdout",
     "output_type": "stream",
     "text": [
      "1\n",
      "4\n",
      "9\n",
      "16\n",
      "25\n"
     ]
    }
   ],
   "source": [
    "for i in range(1, 6):\n",
    "    print(i**2)\n"
   ]
  },
  {
   "cell_type": "code",
   "execution_count": null,
   "id": "3296ecce-71e2-446a-85ec-c8d4635d051f",
   "metadata": {},
   "outputs": [],
   "source": []
  }
 ],
 "metadata": {
  "kernelspec": {
   "display_name": "Python 3 (ipykernel)",
   "language": "python",
   "name": "python3"
  },
  "language_info": {
   "codemirror_mode": {
    "name": "ipython",
    "version": 3
   },
   "file_extension": ".py",
   "mimetype": "text/x-python",
   "name": "python",
   "nbconvert_exporter": "python",
   "pygments_lexer": "ipython3",
   "version": "3.12.4"
  }
 },
 "nbformat": 4,
 "nbformat_minor": 5
}
