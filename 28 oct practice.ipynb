{
 "cells": [
  {
   "cell_type": "markdown",
   "id": "ac457925-2596-4095-8760-d6162faa0d23",
   "metadata": {},
   "source": [
    "## A food delivery app gives a 15% discount if the total order is more than ₹500. Calculate the total amount to be paid after the discount if the bill is ₹650."
   ]
  },
  {
   "cell_type": "code",
   "execution_count": 3,
   "id": "19eec1c1-ef7d-4ede-9b53-651c39b013c2",
   "metadata": {},
   "outputs": [
    {
     "name": "stdout",
     "output_type": "stream",
     "text": [
      "552.5\n"
     ]
    }
   ],
   "source": [
    "bill_amount = 650\n",
    "discount = 15/100  #15 discount\n",
    "\n",
    "if bill_amount >500:\n",
    "    final_amount = bill_amount - (bill_amount *discount)\n",
    "else:\n",
    "    final_amount = bill_amount\n",
    "print(final_amount)"
   ]
  },
  {
   "cell_type": "markdown",
   "id": "f2d6e0c2-db1b-40f0-b9e7-905f11107354",
   "metadata": {},
   "source": [
    "## Write a Python program that acts as a simple calculator to add, subtract, multiply, and divide two numbers based on user choice."
   ]
  },
  {
   "cell_type": "code",
   "execution_count": 19,
   "id": "1f642729-6dc0-4f00-bfbc-9887a4769f42",
   "metadata": {},
   "outputs": [
    {
     "name": "stdin",
     "output_type": "stream",
     "text": [
      "Enter the first number:  0\n",
      "Enter the second number:  3\n"
     ]
    },
    {
     "name": "stdout",
     "output_type": "stream",
     "text": [
      "Choose operation:\n",
      "1. Addition\n",
      "2. Subtraction\n",
      "3. Multiplication\n",
      "4. Division\n"
     ]
    },
    {
     "name": "stdin",
     "output_type": "stream",
     "text": [
      "Enter your choice (1/2/3/4):  0\n"
     ]
    },
    {
     "name": "stdout",
     "output_type": "stream",
     "text": [
      "Invalid choice.\n"
     ]
    }
   ],
   "source": [
    "num1 = float(input(\"Enter the first number: \"))\n",
    "num2 = float(input(\"Enter the second number: \"))\n",
    "\n",
    "# Displaying operation choices\n",
    "print(\"Choose operation:\")\n",
    "print(\"1. Addition\")\n",
    "print(\"2. Subtraction\")\n",
    "print(\"3. Multiplication\")\n",
    "print(\"4. Division\")\n",
    "\n",
    "# Taking the user's choice\n",
    "choice = input(\"Enter your choice (1/2/3/4): \")\n",
    "\n",
    "# Performing the chosen operation\n",
    "if choice == '1':\n",
    "    print(f\"The result is: {num1 + num2}\")\n",
    "elif choice == '2':\n",
    "    print(f\"The result is: {num1 - num2}\")\n",
    "elif choice == '3':\n",
    "    print(f\"The result is: {num1 * num2}\")\n",
    "elif choice == '4':\n",
    "    if num2 != 0:\n",
    "        print(f\"The result is: {num1 / num2}\")\n",
    "    else:\n",
    "        print(\"Error! Division by zero.\")\n",
    "else:\n",
    "    print(\"Invalid choice.\")"
   ]
  },
  {
   "cell_type": "code",
   "execution_count": null,
   "id": "609a93d9-69cc-4aa8-8452-f0b29f64bbd9",
   "metadata": {},
   "outputs": [],
   "source": []
  }
 ],
 "metadata": {
  "kernelspec": {
   "display_name": "Python 3 (ipykernel)",
   "language": "python",
   "name": "python3"
  },
  "language_info": {
   "codemirror_mode": {
    "name": "ipython",
    "version": 3
   },
   "file_extension": ".py",
   "mimetype": "text/x-python",
   "name": "python",
   "nbconvert_exporter": "python",
   "pygments_lexer": "ipython3",
   "version": "3.12.4"
  }
 },
 "nbformat": 4,
 "nbformat_minor": 5
}
