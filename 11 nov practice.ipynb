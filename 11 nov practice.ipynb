{
 "cells": [
  {
   "cell_type": "markdown",
   "id": "4faf13fa-06ca-412c-80c0-1144218e9123",
   "metadata": {},
   "source": [
    "## What is a while loop in Python?"
   ]
  },
  {
   "cell_type": "markdown",
   "id": "4e9bd3bc-89bf-488a-820e-3e323ed948b3",
   "metadata": {},
   "source": [
    "### A while loop is a control flow statement that repeatedly executes a block of code as long as a specified condition is True."
   ]
  },
  {
   "cell_type": "markdown",
   "id": "1610cd1b-90b7-4dad-bc8d-73207511ca13",
   "metadata": {},
   "source": [
    "## Write a while loop that prints numbers from 1 to 5."
   ]
  },
  {
   "cell_type": "code",
   "execution_count": 4,
   "id": "5cc6b677-3b9c-4d47-9f25-ba76289ac237",
   "metadata": {},
   "outputs": [
    {
     "name": "stdout",
     "output_type": "stream",
     "text": [
      "1\n",
      "2\n",
      "3\n",
      "4\n",
      "5\n"
     ]
    }
   ],
   "source": [
    "count = 1\n",
    "while count<=5:\n",
    "    print(count)\n",
    "    count+=1"
   ]
  },
  {
   "cell_type": "markdown",
   "id": "cd35fe4d-9882-4d3c-93ca-34f5ad45f1ef",
   "metadata": {},
   "source": [
    "## How can you stop a while loop that runs indefinitely based on user input?"
   ]
  },
  {
   "cell_type": "code",
   "execution_count": 7,
   "id": "55a38c34-7f8c-4ba8-916b-ca48cd877a72",
   "metadata": {},
   "outputs": [
    {
     "name": "stdin",
     "output_type": "stream",
     "text": [
      "Enter 'stop' to end the loop:  hello\n",
      "Enter 'stop' to end the loop:  Stop\n"
     ]
    }
   ],
   "source": [
    "while True:\n",
    "    user_input = input(\"Enter 'stop' to end the loop: \")\n",
    "    if user_input.lower() == 'stop':\n",
    "        break\n"
   ]
  },
  {
   "cell_type": "markdown",
   "id": "cf6b0e49-3c7c-4aab-ae02-6f5ec11cf89c",
   "metadata": {},
   "source": [
    "## What is the output of the following code?"
   ]
  },
  {
   "cell_type": "code",
   "execution_count": 12,
   "id": "65e937a8-2a71-4bdd-8887-bccd2708a9b4",
   "metadata": {},
   "outputs": [
    {
     "name": "stdout",
     "output_type": "stream",
     "text": [
      "count 3\n",
      "count 2\n",
      "count 1\n",
      "Done!\n"
     ]
    }
   ],
   "source": [
    "count = 3\n",
    "while count > 0:\n",
    "    print(\"count\",count)\n",
    "    count-=1\n",
    "print(\"Done!\")"
   ]
  },
  {
   "cell_type": "markdown",
   "id": "d3ca0b4e-a41a-45b0-8393-147f30866af0",
   "metadata": {},
   "source": [
    "## Write a while loop that asks the user to input a positive number. The loop should stop if the user inputs a negative number."
   ]
  },
  {
   "cell_type": "code",
   "execution_count": 15,
   "id": "e0b5f33d-b737-4704-b108-8dfb093de4b0",
   "metadata": {},
   "outputs": [
    {
     "name": "stdin",
     "output_type": "stream",
     "text": [
      "Enter a positive number:  -9\n"
     ]
    },
    {
     "name": "stdout",
     "output_type": "stream",
     "text": [
      "Negative number entered. Loop stopped.\n"
     ]
    }
   ],
   "source": [
    "while True:\n",
    "    num = int(input(\"Enter a positive number: \"))\n",
    "    if num < 0:\n",
    "        print(\"Negative number entered. Loop stopped.\")\n",
    "        break\n"
   ]
  },
  {
   "cell_type": "code",
   "execution_count": null,
   "id": "0f0cd25a-d1c5-4762-b2ea-41616a991ba5",
   "metadata": {},
   "outputs": [],
   "source": []
  }
 ],
 "metadata": {
  "kernelspec": {
   "display_name": "Python 3 (ipykernel)",
   "language": "python",
   "name": "python3"
  },
  "language_info": {
   "codemirror_mode": {
    "name": "ipython",
    "version": 3
   },
   "file_extension": ".py",
   "mimetype": "text/x-python",
   "name": "python",
   "nbconvert_exporter": "python",
   "pygments_lexer": "ipython3",
   "version": "3.12.4"
  }
 },
 "nbformat": 4,
 "nbformat_minor": 5
}
