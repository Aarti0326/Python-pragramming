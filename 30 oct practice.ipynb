{
 "cells": [
  {
   "cell_type": "markdown",
   "id": "efd9d73b-a7f7-4f45-a7cf-dd8145c2fb39",
   "metadata": {},
   "source": [
    "## You have a dictionary containing employee details. Your task is to find the department of a specific employee by their name. "
   ]
  },
  {
   "cell_type": "code",
   "execution_count": 12,
   "id": "2192b91e-cba3-4828-bb8e-2a7728068db6",
   "metadata": {},
   "outputs": [],
   "source": [
    "employees = {\n",
    "    'Aarti salunkhe': {'age': 30, 'department': 'Finance', 'role': 'Analyst'},\n",
    "    'nikita salunkhe': {'age': 25, 'department': 'HR', 'role': 'Recruiter'},\n",
    "    'sushant salunkhe': {'age': 35, 'department': 'IT', 'role': 'Manager'}\n",
    "}"
   ]
  },
  {
   "cell_type": "markdown",
   "id": "dc009eed-8f12-442a-8292-4c8c1d2f352f",
   "metadata": {},
   "source": [
    "## Task:\n",
    "## Write a function that takes an employee's name as input and returns their department."
   ]
  },
  {
   "cell_type": "code",
   "execution_count": 15,
   "id": "11ddb07d-bb1a-4891-8728-16cc7534248e",
   "metadata": {},
   "outputs": [
    {
     "name": "stdout",
     "output_type": "stream",
     "text": [
      "Finance\n",
      "HR\n",
      "IT\n"
     ]
    }
   ],
   "source": [
    "def get_department(name, employee_data):\n",
    "    if name in employee_data:\n",
    "        return employee_data[name]['department']\n",
    "    else:\n",
    "        return \"Employee not found\"\n",
    "\n",
    "# Example usage\n",
    "print(get_department('Aarti salunkhe', employees)) \n",
    "print(get_department('nikita salunkhe', employees))  \n",
    "print(get_department('sushant salunkhe', employees)) \n"
   ]
  },
  {
   "cell_type": "code",
   "execution_count": null,
   "id": "8378cdc4-fddc-47e7-a9c8-dac8b277c15d",
   "metadata": {},
   "outputs": [],
   "source": []
  }
 ],
 "metadata": {
  "kernelspec": {
   "display_name": "Python 3 (ipykernel)",
   "language": "python",
   "name": "python3"
  },
  "language_info": {
   "codemirror_mode": {
    "name": "ipython",
    "version": 3
   },
   "file_extension": ".py",
   "mimetype": "text/x-python",
   "name": "python",
   "nbconvert_exporter": "python",
   "pygments_lexer": "ipython3",
   "version": "3.12.4"
  }
 },
 "nbformat": 4,
 "nbformat_minor": 5
}
