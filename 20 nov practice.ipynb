{
 "cells": [
  {
   "cell_type": "markdown",
   "id": "bb2a135d-f3a8-4c57-8322-53e575f7ba08",
   "metadata": {},
   "source": [
    "### Find the first number divisible by both 7 and 13:"
   ]
  },
  {
   "cell_type": "code",
   "execution_count": 2,
   "id": "f1f1d832-2e65-4d59-8273-d7c56805b039",
   "metadata": {},
   "outputs": [],
   "source": [
    "#we want to find the smallest positive number that is divisible by both 7 and 13. A number is divisible by both if the remainder when divided by 7 and 13 is 0."
   ]
  },
  {
   "cell_type": "code",
   "execution_count": 6,
   "id": "730db255-a85e-47e1-b11a-e8e131324553",
   "metadata": {},
   "outputs": [
    {
     "name": "stdout",
     "output_type": "stream",
     "text": [
      "the first number divisible by botj 7 and 13 is 91\n"
     ]
    }
   ],
   "source": [
    "num = 1\n",
    "while True:\n",
    "    if num%7==0 and num%13==0:\n",
    "        print(f\"the first number divisible by botj 7 and 13 is {num}\")\n",
    "        break\n",
    "    num+=1"
   ]
  },
  {
   "cell_type": "markdown",
   "id": "7f787792-6f72-4352-9265-bdd6de89950d",
   "metadata": {},
   "source": [
    "### Skip printing negative numbers in a list using continue."
   ]
  },
  {
   "cell_type": "code",
   "execution_count": 13,
   "id": "aef21a0b-3573-4a93-8321-11571b4346cd",
   "metadata": {},
   "outputs": [
    {
     "name": "stdout",
     "output_type": "stream",
     "text": [
      "3 7 0 4 "
     ]
    }
   ],
   "source": [
    "numbers = [-5, 3, -2, 7, 0, -1, 4]\n",
    "for num in numbers:\n",
    "    if num<0:\n",
    "        continue\n",
    "    print(num,end=\" \")"
   ]
  },
  {
   "cell_type": "markdown",
   "id": "233980a2-eb03-49e7-9ee2-41e89aeb1789",
   "metadata": {},
   "source": [
    "### Print numbers divisible by 3 between 10 and 30 using range()."
   ]
  },
  {
   "cell_type": "code",
   "execution_count": 28,
   "id": "0ddfcd30-925c-43a5-86c8-06ce4aa7d8e3",
   "metadata": {},
   "outputs": [
    {
     "name": "stdout",
     "output_type": "stream",
     "text": [
      "12 15 18 21 24 27 "
     ]
    }
   ],
   "source": [
    "for i in range (10,30):\n",
    "    if i%3==0:\n",
    "        print(i,end=\" \")"
   ]
  },
  {
   "cell_type": "markdown",
   "id": "254c78b9-548a-4492-a97f-66612ac0bcff",
   "metadata": {},
   "source": [
    "### Print the factorial of a number using a for loop."
   ]
  },
  {
   "cell_type": "code",
   "execution_count": 31,
   "id": "d81e95ec-9abd-41f8-affc-e34f8291d4d6",
   "metadata": {},
   "outputs": [
    {
     "name": "stdin",
     "output_type": "stream",
     "text": [
      "Enter a number:  5\n"
     ]
    },
    {
     "name": "stdout",
     "output_type": "stream",
     "text": [
      "Factorial of 5 is 120\n"
     ]
    }
   ],
   "source": [
    "num = int(input(\"Enter a number: \"))  # Input number\n",
    "factorial = 1                        # Initialize factorial\n",
    "for i in range(1, num + 1):          # Loop from 1 to num\n",
    "    factorial *= i                   # Multiply current number\n",
    "print(f\"Factorial of {num} is {factorial}\")\n"
   ]
  },
  {
   "cell_type": "markdown",
   "id": "de17137b-7bea-4640-813b-8ad0a264fb06",
   "metadata": {},
   "source": [
    "### Generate squares of numbers from 1 to 10 using a list comprehension."
   ]
  },
  {
   "cell_type": "code",
   "execution_count": 34,
   "id": "891349c3-9d96-4203-87da-85b4e922a3fb",
   "metadata": {},
   "outputs": [
    {
     "name": "stdout",
     "output_type": "stream",
     "text": [
      "Squares: [1, 4, 9, 16, 25, 36, 49, 64, 81, 100]\n"
     ]
    }
   ],
   "source": [
    "squares = [i ** 2 for i in range(1, 11)]  # Square each number\n",
    "print(\"Squares:\", squares)"
   ]
  },
  {
   "cell_type": "code",
   "execution_count": null,
   "id": "265b4919-c3f1-4420-8784-ef072180b24d",
   "metadata": {},
   "outputs": [],
   "source": []
  }
 ],
 "metadata": {
  "kernelspec": {
   "display_name": "Python 3 (ipykernel)",
   "language": "python",
   "name": "python3"
  },
  "language_info": {
   "codemirror_mode": {
    "name": "ipython",
    "version": 3
   },
   "file_extension": ".py",
   "mimetype": "text/x-python",
   "name": "python",
   "nbconvert_exporter": "python",
   "pygments_lexer": "ipython3",
   "version": "3.12.4"
  }
 },
 "nbformat": 4,
 "nbformat_minor": 5
}
