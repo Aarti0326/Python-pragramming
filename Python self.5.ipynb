{
 "cells": [
  {
   "cell_type": "markdown",
   "id": "467974c9-29ae-44b2-b5dd-9d68aa4e94b7",
   "metadata": {},
   "source": [
    "# as part of your role in a data driven project,you need to take input from the user for their age,weight,and height.however ,there's an issue:the user has eneterd their age as negetive number.you need to correct age of the user, and after correcting the age calculate their basal metabolic rate(BMR)using the Harris-Benedict equation for men.Ensure that the final answer of BMR is an integer.\n",
    "# Basal36 Metabolic Rate(BMR):\n",
    "# Formula (Harris-Benedict equation for men).\n",
    "# BMR = 88.362+(12.365 * weight in kg)+(4.155*height in cm )-(5.36 * age in years)\n"
   ]
  },
  {
   "cell_type": "code",
   "execution_count": 10,
   "id": "688bee6d-1a20-4238-9985-72edcab9a9c5",
   "metadata": {},
   "outputs": [
    {
     "name": "stdin",
     "output_type": "stream",
     "text": [
      "enter your age -98\n",
      "enter your weight 100\n",
      "enter your height 5\n"
     ]
    },
    {
     "name": "stdout",
     "output_type": "stream",
     "text": [
      "the correct age is 98\n"
     ]
    }
   ],
   "source": [
    "age=int(input(\"enter your age\"))\n",
    "weight=int(input(\"enter your weight\"))\n",
    "height=int(input(\"enter your height\"))\n",
    "correct_age=abs(age)\n",
    "print(\"the correct age is\",correct_age)"
   ]
  },
  {
   "cell_type": "code",
   "execution_count": 25,
   "id": "d52b3697-53c9-4e9d-9daa-679d265bcae0",
   "metadata": {},
   "outputs": [
    {
     "name": "stdout",
     "output_type": "stream",
     "text": [
      "print bmp of patient is 1870\n"
     ]
    }
   ],
   "source": [
    "BMR = 88.362+(12.365 * weight)+(4.155*height)-(5.36 * age)\n",
    "patient_bmr=\"88.362+(12.365 * weight) +(4.155*height) -(5.36 * age)\"\n",
    "patient_bmr=eval(patient_bmr)\n",
    "print(\"print bmp of patient is\",int(patient_bmr))"
   ]
  },
  {
   "cell_type": "code",
   "execution_count": null,
   "id": "7e8dac49-e090-4c45-866b-be489ffbbb55",
   "metadata": {},
   "outputs": [],
   "source": []
  }
 ],
 "metadata": {
  "kernelspec": {
   "display_name": "Python 3 (ipykernel)",
   "language": "python",
   "name": "python3"
  },
  "language_info": {
   "codemirror_mode": {
    "name": "ipython",
    "version": 3
   },
   "file_extension": ".py",
   "mimetype": "text/x-python",
   "name": "python",
   "nbconvert_exporter": "python",
   "pygments_lexer": "ipython3",
   "version": "3.12.4"
  }
 },
 "nbformat": 4,
 "nbformat_minor": 5
}
