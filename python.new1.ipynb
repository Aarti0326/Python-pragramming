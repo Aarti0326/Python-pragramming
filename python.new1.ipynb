{
 "cells": [
  {
   "cell_type": "code",
   "execution_count": 188,
   "id": "80e808e9-746b-4135-8b66-39cdcf671048",
   "metadata": {},
   "outputs": [],
   "source": [
    "def  great():\n",
    "    print(\"good morning!\")"
   ]
  },
  {
   "cell_type": "code",
   "execution_count": 190,
   "id": "a60c1597-8458-40cb-aa97-566913215623",
   "metadata": {},
   "outputs": [
    {
     "name": "stdout",
     "output_type": "stream",
     "text": [
      "good morning!\n",
      "good morning!\n"
     ]
    }
   ],
   "source": [
    "great()\n",
    "great()"
   ]
  },
  {
   "cell_type": "code",
   "execution_count": 196,
   "id": "13f533ad-982d-42e4-a949-db4dee99e785",
   "metadata": {},
   "outputs": [],
   "source": [
    "def great():\n",
    "    print(\"good day!\")"
   ]
  },
  {
   "cell_type": "code",
   "execution_count": 198,
   "id": "0a5e7485-06e0-4806-bb8b-09f046c91007",
   "metadata": {},
   "outputs": [
    {
     "name": "stdout",
     "output_type": "stream",
     "text": [
      "good day!\n"
     ]
    }
   ],
   "source": [
    "great()"
   ]
  },
  {
   "cell_type": "code",
   "execution_count": 1,
   "id": "1217848c-3699-4f4e-824d-5c9a1d3b0c31",
   "metadata": {},
   "outputs": [
    {
     "name": "stdout",
     "output_type": "stream",
     "text": [
      "6\n"
     ]
    }
   ],
   "source": [
    "def add(x,y=1):\n",
    "    print(x+y)\n",
    "add(5)\n"
   ]
  },
  {
   "cell_type": "code",
   "execution_count": 3,
   "id": "aa69fe53-7de9-4750-a0af-e92ea6563276",
   "metadata": {},
   "outputs": [],
   "source": [
    "def add(x,y):\n",
    "    print(x+y)"
   ]
  },
  {
   "cell_type": "code",
   "execution_count": 5,
   "id": "16e84b72-c8a8-49ba-bf43-0b7cf4ab25a1",
   "metadata": {},
   "outputs": [
    {
     "name": "stdout",
     "output_type": "stream",
     "text": [
      "6\n"
     ]
    }
   ],
   "source": [
    "add(1,5)"
   ]
  },
  {
   "cell_type": "code",
   "execution_count": 7,
   "id": "334dc5d1-f160-433d-a544-6704cc864d19",
   "metadata": {},
   "outputs": [],
   "source": [
    "def greet(name):\n",
    "    print(\"how are you?\",name)\n",
    "    print(\"how do you do\",name)"
   ]
  },
  {
   "cell_type": "code",
   "execution_count": 9,
   "id": "0ebf31f2-eb65-4d3c-b2a9-7907691916c5",
   "metadata": {},
   "outputs": [
    {
     "name": "stdout",
     "output_type": "stream",
     "text": [
      "how are you? sushant\n",
      "how do you do sushant\n",
      "how are you? nikita\n",
      "how do you do nikita\n"
     ]
    }
   ],
   "source": [
    "greet('sushant')\n",
    "greet('nikita')"
   ]
  },
  {
   "cell_type": "code",
   "execution_count": 11,
   "id": "1ead0089-eed0-476f-8e28-98628a72d56a",
   "metadata": {},
   "outputs": [],
   "source": [
    "# function with two arguments\n",
    "def add_numbers(num1, num2):\n",
    "    sum = num1 + num2\n",
    "    print(\"Sum of two number is \", sum)\n"
   ]
  },
  {
   "cell_type": "code",
   "execution_count": 13,
   "id": "6910af2a-86fb-4429-bc7e-2a5839d335f4",
   "metadata": {},
   "outputs": [
    {
     "name": "stdout",
     "output_type": "stream",
     "text": [
      "Sum of two number is  16.3\n"
     ]
    }
   ],
   "source": [
    "add_numbers(7.3,9)"
   ]
  },
  {
   "cell_type": "code",
   "execution_count": 15,
   "id": "ef229260-6b77-45f0-be90-0a0eb9fdd84d",
   "metadata": {},
   "outputs": [],
   "source": [
    "def sub_numbers(num1,num2):\n",
    "    sub = num1-num2\n",
    "    print(\"subtraction of to numbers is\",sub)\n",
    "    "
   ]
  },
  {
   "cell_type": "code",
   "execution_count": 17,
   "id": "929e618c-6dee-4753-a46d-6f4fd9be5486",
   "metadata": {},
   "outputs": [
    {
     "name": "stdout",
     "output_type": "stream",
     "text": [
      "subtraction of to numbers is 6845784\n"
     ]
    }
   ],
   "source": [
    "sub_numbers(6845785,1)"
   ]
  },
  {
   "cell_type": "code",
   "execution_count": 19,
   "id": "57c5683f-20c4-47e3-924a-67215b2d6d48",
   "metadata": {},
   "outputs": [],
   "source": [
    "def find_square(num):\n",
    "    result = num * num\n",
    "    print(\"the number square of is\",result)"
   ]
  },
  {
   "cell_type": "code",
   "execution_count": 21,
   "id": "514e59b5-1c7d-40c1-851a-eb317022afb8",
   "metadata": {},
   "outputs": [
    {
     "name": "stdout",
     "output_type": "stream",
     "text": [
      "the number square of is 25\n"
     ]
    }
   ],
   "source": [
    "find_square(5)"
   ]
  },
  {
   "cell_type": "code",
   "execution_count": 23,
   "id": "2592f611-a8b8-466d-8f26-ef570e2f6881",
   "metadata": {},
   "outputs": [],
   "source": [
    "def find_square_root(num):\n",
    "    result = num**0.5\n",
    "    print(\"the square root is\",result)"
   ]
  },
  {
   "cell_type": "code",
   "execution_count": 25,
   "id": "2d5f0c09-8cc3-4f97-8dc1-3d290136537c",
   "metadata": {},
   "outputs": [
    {
     "name": "stdout",
     "output_type": "stream",
     "text": [
      "the square root is 2.8284271247461903\n"
     ]
    }
   ],
   "source": [
    "find_square_root(8)"
   ]
  },
  {
   "cell_type": "code",
   "execution_count": 38,
   "id": "13da613d-2f62-4ba3-b0a1-bfb656355db6",
   "metadata": {},
   "outputs": [],
   "source": [
    "# return keyword returns the result to the caller\n",
    "def are_of_rectacngle(l,b):\n",
    "    area=l*b\n",
    "    return area          "
   ]
  },
  {
   "cell_type": "code",
   "execution_count": 40,
   "id": "033426f0-61c3-44a4-98f4-9b94a3b1d0b3",
   "metadata": {},
   "outputs": [
    {
     "data": {
      "text/plain": [
       "10"
      ]
     },
     "execution_count": 40,
     "metadata": {},
     "output_type": "execute_result"
    }
   ],
   "source": [
    "are_of_rectacngle(5,2)"
   ]
  },
  {
   "cell_type": "code",
   "execution_count": 42,
   "id": "a3ab4508-2b76-435b-80a4-4c8a392f05ec",
   "metadata": {},
   "outputs": [],
   "source": [
    "# write a function to check if inputed number is even or odd"
   ]
  },
  {
   "cell_type": "code",
   "execution_count": 52,
   "id": "cb09c356-0fac-4034-825f-319a1b919bd7",
   "metadata": {},
   "outputs": [],
   "source": [
    "def even_or_odd(num):\n",
    "    if num%2==0:\n",
    "        print(\"the number is even\")\n",
    "    else:\n",
    "        print(\"the number is odd\")\n",
    "        "
   ]
  },
  {
   "cell_type": "code",
   "execution_count": 65,
   "id": "97dbddfe-73d1-472b-9545-384b305f6ed9",
   "metadata": {},
   "outputs": [
    {
     "name": "stdin",
     "output_type": "stream",
     "text": [
      "number of count is 3\n",
      "enter a number 45\n"
     ]
    },
    {
     "name": "stdout",
     "output_type": "stream",
     "text": [
      "the number is odd\n"
     ]
    },
    {
     "name": "stdin",
     "output_type": "stream",
     "text": [
      "enter a number 41\n"
     ]
    },
    {
     "name": "stdout",
     "output_type": "stream",
     "text": [
      "the number is odd\n"
     ]
    },
    {
     "name": "stdin",
     "output_type": "stream",
     "text": [
      "enter a number 88\n"
     ]
    },
    {
     "name": "stdout",
     "output_type": "stream",
     "text": [
      "the number is even\n"
     ]
    }
   ],
   "source": [
    "num_count=int(input(\"number of count is\"))\n",
    "for i in range(num_count):\n",
    "    x=int(input(\"enter a number\"))\n",
    "    even_or_odd(x)"
   ]
  },
  {
   "cell_type": "code",
   "execution_count": null,
   "id": "ab53be2f-cc4f-43f3-af55-9c0389a94647",
   "metadata": {},
   "outputs": [],
   "source": []
  }
 ],
 "metadata": {
  "kernelspec": {
   "display_name": "Python 3 (ipykernel)",
   "language": "python",
   "name": "python3"
  },
  "language_info": {
   "codemirror_mode": {
    "name": "ipython",
    "version": 3
   },
   "file_extension": ".py",
   "mimetype": "text/x-python",
   "name": "python",
   "nbconvert_exporter": "python",
   "pygments_lexer": "ipython3",
   "version": "3.12.4"
  }
 },
 "nbformat": 4,
 "nbformat_minor": 5
}
