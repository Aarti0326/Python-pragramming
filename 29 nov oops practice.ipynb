{
 "cells": [
  {
   "cell_type": "markdown",
   "id": "74e2417e-1047-4327-ba5d-6e9ee45a9703",
   "metadata": {},
   "source": [
    "## oops"
   ]
  },
  {
   "cell_type": "markdown",
   "id": "d4a3ec85-1145-4b92-b4f1-f7818e2153f6",
   "metadata": {},
   "source": [
    "## Encapsulation is the concept of hiding the internal details of an object and only exposing necessary parts. This helps to protect data and maintain control over how it is accessed or modified."
   ]
  },
  {
   "cell_type": "markdown",
   "id": "a1d4b18c-873a-4331-9c51-2af7f7506617",
   "metadata": {},
   "source": [
    "## Real-Life Example:\n",
    "'''Think of a car. You use the steering wheel and accelerator to drive, but you don’t directly control how the engine works. The internal working (engine) is encapsulated, and you only interact with the exposed parts (controls).'''"
   ]
  },
  {
   "cell_type": "code",
   "execution_count": 10,
   "id": "8555f955-11b7-4739-9af8-7fd39e295d7d",
   "metadata": {},
   "outputs": [
    {
     "name": "stdout",
     "output_type": "stream",
     "text": [
      "Car started. Engine is running.\n",
      "Engine is currently: On\n",
      "Car stopped. Engine is off.\n",
      "Engine is currently: Off\n"
     ]
    }
   ],
   "source": [
    "# Step 1: Define the Car class\n",
    "class Car:\n",
    "    def __init__(self):  # Step 2: Create the constructor with private attribute __engine_status\n",
    "        self.__engine_status = \"Off\"  # Private attribute, hidden from direct access\n",
    "\n",
    "    # Step 3: Public method to start the car (user interacts with this)\n",
    "    def start_car(self):\n",
    "        self.__start_engine()  # Call the private method\n",
    "        return \"Car started. Engine is running.\"\n",
    "\n",
    "    # Step 4: Public method to stop the car\n",
    "    def stop_car(self):\n",
    "        self.__stop_engine()  # Call the private method\n",
    "        return \"Car stopped. Engine is off.\"\n",
    "\n",
    "    # Step 5: Private method for starting the engine\n",
    "    def __start_engine(self):\n",
    "        self.__engine_status = \"On\"  # Change engine status to \"On\"\n",
    "\n",
    "    # Step 6: Private method for stopping the engine\n",
    "    def __stop_engine(self):\n",
    "        self.__engine_status = \"Off\"  # Change engine status to \"Off\"\n",
    "\n",
    "    # Step 7: Public method to check the engine status\n",
    "    def get_engine_status(self):\n",
    "        return f\"Engine is currently: {self.__engine_status}\"\n",
    "\n",
    "# Step 8: Create an object of the Car class\n",
    "my_car = Car()\n",
    "\n",
    "# Step 9: Interact with the car using public methods\n",
    "print(my_car.start_car())          \n",
    "print(my_car.get_engine_status()) \n",
    "print(my_car.stop_car())          \n",
    "print(my_car.get_engine_status()) \n",
    "# Step 10: Attempt to access the private engine status directly (will fail)\n",
    "# print(my_car.__engine_status)   # Uncommenting this will raise an AttributeError\n"
   ]
  },
  {
   "cell_type": "markdown",
   "id": "99457c06-7776-4326-ac2a-56f0cc6c0d9f",
   "metadata": {},
   "source": [
    "### Inheritance "
   ]
  },
  {
   "cell_type": "markdown",
   "id": "377f7735-c7dd-4eb6-913f-3af52539661b",
   "metadata": {},
   "source": [
    "## Inheritance is a feature in object-oriented programming where a child class can inherit properties and methods from a parent class. This allows code reuse and creates a hierarchical relationship between classes.\n",
    "\n"
   ]
  },
  {
   "cell_type": "markdown",
   "id": "1d02de98-8bc0-4e1c-b390-bb98cba7cc89",
   "metadata": {},
   "source": [
    "## Real-Life Example:\n",
    "'''Imagine a Parent class as a basic car model. A Child class can be a sports car that inherits all the basic features (like wheels, engine) from the parent, but it can also have additional features (like turbo, advanced suspension).'''"
   ]
  },
  {
   "cell_type": "code",
   "execution_count": 20,
   "id": "9677a8e4-a895-446b-90e5-5757a6fa3fc7",
   "metadata": {},
   "outputs": [
    {
     "name": "stdout",
     "output_type": "stream",
     "text": [
      "Wheels, Engine\n",
      "Turbo, Advanced Suspension\n"
     ]
    }
   ],
   "source": [
    "class BasicCar:\n",
    "    def features(self):\n",
    "        return \"Wheels, Engine\"\n",
    "\n",
    "class SportsCar(BasicCar):\n",
    "    def extra_features(self):\n",
    "        return \"Turbo, Advanced Suspension\"\n",
    "\n",
    "car = SportsCar()\n",
    "print(car.features())        # Inherited from BasicCar\n",
    "print(car.extra_features())  # Unique to SportsCar\n",
    "\n"
   ]
  },
  {
   "cell_type": "markdown",
   "id": "cfa76bfb-d37e-473e-a4b0-d3097ece883c",
   "metadata": {},
   "source": [
    "## Iterator and Generator in Python"
   ]
  },
  {
   "cell_type": "markdown",
   "id": "f08a9003-34af-4bed-82c4-b92ace1b832e",
   "metadata": {},
   "source": [
    "### Both iterators and generators are used to iterate over sequences, but they differ in how they work and how they are created."
   ]
  },
  {
   "cell_type": "markdown",
   "id": "eeec3d17-dcb4-43be-bc62-b9bf70f9272b",
   "metadata": {},
   "source": [
    "### Definition:\n",
    "## An iterator is an object in Python that allows you to  iterate through all the elements of a collection (like a list or tuple) one at a time."
   ]
  },
  {
   "cell_type": "code",
   "execution_count": 26,
   "id": "a1460fe6-457a-4ed0-97b0-2109427987f6",
   "metadata": {},
   "outputs": [
    {
     "data": {
      "text/plain": [
       "6"
      ]
     },
     "execution_count": 26,
     "metadata": {},
     "output_type": "execute_result"
    }
   ],
   "source": [
    "numbers = [1,2,6,4]\n",
    "iterator = iter(numbers)\n",
    "\n",
    "#use next() to get element one by one \n",
    "next(iterator)\n",
    "next(iterator)\n",
    "next(iterator)\n",
    "\n"
   ]
  },
  {
   "cell_type": "markdown",
   "id": "55ec36a1-d45e-4f1a-97a1-231a112a19ce",
   "metadata": {},
   "source": [
    "## Generator"
   ]
  },
  {
   "cell_type": "markdown",
   "id": "fe4b0577-9c32-4929-883c-24afab1d69d4",
   "metadata": {},
   "source": [
    "## A generator is a simpler way to create an iterator using a function.Instead of storing all values in memory, it generates the values on the fly using the yield keyword."
   ]
  },
  {
   "cell_type": "code",
   "execution_count": 31,
   "id": "4122f806-5516-447a-b416-f9364cb558f6",
   "metadata": {},
   "outputs": [
    {
     "name": "stdout",
     "output_type": "stream",
     "text": [
      "1\n",
      "2\n",
      "3\n",
      "4\n"
     ]
    }
   ],
   "source": [
    "# Define a generator function\n",
    "def generate_numbers():\n",
    "    for i in range(1, 5):\n",
    "        yield i  # Generates values one by one\n",
    "\n",
    "# Use the generator\n",
    "gen = generate_numbers()\n",
    "\n",
    "# Get values using next()\n",
    "print(next(gen))  # Output: 1\n",
    "print(next(gen))  # Output: 2\n",
    "print(next(gen))  # Output: 3\n",
    "print(next(gen))  # Output: 4\n"
   ]
  },
  {
   "cell_type": "code",
   "execution_count": 33,
   "id": "64fbde0d-c8e1-4d9d-bce4-9d28ce653f62",
   "metadata": {},
   "outputs": [
    {
     "name": "stdout",
     "output_type": "stream",
     "text": [
      "0\n",
      "1\n",
      "2\n"
     ]
    }
   ],
   "source": [
    "def generate_numbers():\n",
    "    for i in range(3):\n",
    "        yield i  # Produces one value at a time\n",
    "\n",
    "for num in generate_numbers():\n",
    "    print(num)\n"
   ]
  },
  {
   "cell_type": "code",
   "execution_count": null,
   "id": "0c537bf2-c0d8-40bf-9f67-d03b943442b2",
   "metadata": {},
   "outputs": [],
   "source": []
  }
 ],
 "metadata": {
  "kernelspec": {
   "display_name": "Python 3 (ipykernel)",
   "language": "python",
   "name": "python3"
  },
  "language_info": {
   "codemirror_mode": {
    "name": "ipython",
    "version": 3
   },
   "file_extension": ".py",
   "mimetype": "text/x-python",
   "name": "python",
   "nbconvert_exporter": "python",
   "pygments_lexer": "ipython3",
   "version": "3.12.4"
  }
 },
 "nbformat": 4,
 "nbformat_minor": 5
}
