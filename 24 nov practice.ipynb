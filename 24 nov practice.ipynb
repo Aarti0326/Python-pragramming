{
 "cells": [
  {
   "cell_type": "markdown",
   "id": "13e36beb-979a-4c16-909e-2db61b7860a2",
   "metadata": {},
   "source": [
    "## How do you check if a string contains only alphabetic characters?"
   ]
  },
  {
   "cell_type": "code",
   "execution_count": 11,
   "id": "7ce520c6-6454-456d-afd1-da4b07a35684",
   "metadata": {},
   "outputs": [
    {
     "name": "stdout",
     "output_type": "stream",
     "text": [
      "True\n",
      "False\n"
     ]
    }
   ],
   "source": [
    "text = \"hello\"\n",
    "print(text.isalpha())\n",
    "\n",
    "text = \"Hello123\"\n",
    "print(text.isalpha())"
   ]
  },
  {
   "cell_type": "markdown",
   "id": "d993760b-1a83-4939-86e9-a397bbdfc19c",
   "metadata": {},
   "source": [
    "## How can you swap the case of all letters in a string?\n",
    "#The swapcase() method converts uppercase letters to lowercase and vice versa."
   ]
  },
  {
   "cell_type": "code",
   "execution_count": 17,
   "id": "d84dfe81-043d-4a1d-b518-2605851aa30a",
   "metadata": {},
   "outputs": [
    {
     "name": "stdout",
     "output_type": "stream",
     "text": [
      "hELLO wORLD\n"
     ]
    }
   ],
   "source": [
    "text = \"Hello World\"\n",
    "print(text.swapcase())"
   ]
  },
  {
   "cell_type": "markdown",
   "id": "010edfb4-3f0e-4b2a-8866-8aabc1c965b5",
   "metadata": {},
   "source": [
    "## How do you count the occurrences of a specific character or substring in a string?\n",
    "#Use the count() method to find how many times a character or substring appears in a string."
   ]
  },
  {
   "cell_type": "code",
   "execution_count": 23,
   "id": "f07b4de7-2f23-4fb3-8c6f-36cc26f0228a",
   "metadata": {},
   "outputs": [
    {
     "name": "stdout",
     "output_type": "stream",
     "text": [
      "3\n"
     ]
    }
   ],
   "source": [
    "text = \"banana\"\n",
    "print(text.count(\"a\")) "
   ]
  },
  {
   "cell_type": "markdown",
   "id": "7871c139-e452-4919-bca7-e102219071fa",
   "metadata": {},
   "source": [
    "## use f-strings  method"
   ]
  },
  {
   "cell_type": "code",
   "execution_count": 28,
   "id": "465d9db2-56d6-4672-bfd6-8059961883e2",
   "metadata": {},
   "outputs": [
    {
     "name": "stdout",
     "output_type": "stream",
     "text": [
      "my name is Aarti and i am 23 years old.\n"
     ]
    }
   ],
   "source": [
    "name = \"Aarti\"\n",
    "age = 23\n",
    "print(f\"my name is {name} and i am {age} years old.\")"
   ]
  },
  {
   "cell_type": "markdown",
   "id": "dfa06ebe-f7d4-4f19-83ee-24b5bdd2b2c1",
   "metadata": {},
   "source": [
    "## Use the split() method and pass the delimiter as an argument"
   ]
  },
  {
   "cell_type": "code",
   "execution_count": 34,
   "id": "e0fde94e-8c57-4211-b18e-0baaadd4272d",
   "metadata": {},
   "outputs": [
    {
     "name": "stdout",
     "output_type": "stream",
     "text": [
      "['apple', 'banana', 'cherry']\n"
     ]
    }
   ],
   "source": [
    "text = \"apple,banana,cherry\"\n",
    "fruits = text.split(\",\")\n",
    "print(fruits)"
   ]
  },
  {
   "cell_type": "markdown",
   "id": "386dde69-a664-4e1f-a952-9d927748216c",
   "metadata": {},
   "source": [
    "## Use the find() method. "
   ]
  },
  {
   "cell_type": "code",
   "execution_count": 37,
   "id": "264a787c-92a4-4bba-a7ca-7d2b2ea40347",
   "metadata": {},
   "outputs": [
    {
     "name": "stdout",
     "output_type": "stream",
     "text": [
      "7\n"
     ]
    }
   ],
   "source": [
    "text = \"Hello, world!\"\n",
    "position = text.find(\"world\")\n",
    "print(position)"
   ]
  },
  {
   "cell_type": "code",
   "execution_count": null,
   "id": "e413ded2-2061-4d33-a069-0714a6732734",
   "metadata": {},
   "outputs": [],
   "source": []
  }
 ],
 "metadata": {
  "kernelspec": {
   "display_name": "Python 3 (ipykernel)",
   "language": "python",
   "name": "python3"
  },
  "language_info": {
   "codemirror_mode": {
    "name": "ipython",
    "version": 3
   },
   "file_extension": ".py",
   "mimetype": "text/x-python",
   "name": "python",
   "nbconvert_exporter": "python",
   "pygments_lexer": "ipython3",
   "version": "3.12.4"
  }
 },
 "nbformat": 4,
 "nbformat_minor": 5
}
