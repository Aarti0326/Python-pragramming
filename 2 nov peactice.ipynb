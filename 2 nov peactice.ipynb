{
 "cells": [
  {
   "cell_type": "markdown",
   "id": "91aace7d-eacd-4e13-9729-abe6c44c1d4f",
   "metadata": {},
   "source": [
    "## You have a dictionary with conversion rates for various currencies. Write a function to convert an amount from USD to another currency."
   ]
  },
  {
   "cell_type": "code",
   "execution_count": 8,
   "id": "4c15636c-caf9-4b89-882b-3654bdb68a87",
   "metadata": {},
   "outputs": [],
   "source": [
    "conversion_rates = {\n",
    "    'EUR': 0.85,\n",
    "    'JPY': 110.53,\n",
    "    'GBP': 0.75,\n",
    "    'INR': 74.15\n",
    "}\n"
   ]
  },
  {
   "cell_type": "markdown",
   "id": "541079cf-6c07-4396-a3fa-72266767570b",
   "metadata": {},
   "source": [
    "## Convert a given USD amount to a specified currency."
   ]
  },
  {
   "cell_type": "code",
   "execution_count": 13,
   "id": "f7edfef8-0b54-493b-ad63-baa56f41026d",
   "metadata": {},
   "outputs": [
    {
     "name": "stdout",
     "output_type": "stream",
     "text": [
      "85.0\n",
      "7415.000000000001\n",
      "Currency not found\n"
     ]
    }
   ],
   "source": [
    "def convert_currency(amount_usd, target_currency, rates):\n",
    "    if target_currency in rates:\n",
    "        return amount_usd * rates[target_currency]\n",
    "    else:\n",
    "        return \"Currency not found\"\n",
    "\n",
    "# Example usage\n",
    "print(convert_currency(100, 'EUR', conversion_rates))  \n",
    "print(convert_currency(100, 'INR', conversion_rates))  \n",
    "print(convert_currency(100, 'AUD', conversion_rates))  "
   ]
  },
  {
   "cell_type": "code",
   "execution_count": null,
   "id": "f5b28afa-1b10-411d-8464-1632feef2ddd",
   "metadata": {},
   "outputs": [],
   "source": []
  }
 ],
 "metadata": {
  "kernelspec": {
   "display_name": "Python 3 (ipykernel)",
   "language": "python",
   "name": "python3"
  },
  "language_info": {
   "codemirror_mode": {
    "name": "ipython",
    "version": 3
   },
   "file_extension": ".py",
   "mimetype": "text/x-python",
   "name": "python",
   "nbconvert_exporter": "python",
   "pygments_lexer": "ipython3",
   "version": "3.12.4"
  }
 },
 "nbformat": 4,
 "nbformat_minor": 5
}
