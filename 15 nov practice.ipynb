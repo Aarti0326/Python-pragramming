{
 "cells": [
  {
   "cell_type": "markdown",
   "id": "3e9e5062-44c2-403d-9017-76ec00082461",
   "metadata": {},
   "source": [
    "## Calculate the factorial of a number using a while loop."
   ]
  },
  {
   "cell_type": "code",
   "execution_count": 3,
   "id": "1c6e73b2-4e6e-4bd8-ae24-7295b5596e6e",
   "metadata": {},
   "outputs": [
    {
     "name": "stdin",
     "output_type": "stream",
     "text": [
      "Enter a number:  5\n"
     ]
    },
    {
     "name": "stdout",
     "output_type": "stream",
     "text": [
      "Factorial is: 120\n"
     ]
    }
   ],
   "source": [
    "num = int(input(\"Enter a number: \"))  # Input number from the user\n",
    "factorial = 1                        # Initialize factorial to 1\n",
    "while num > 0:                       # Loop until the number becomes 0\n",
    "    factorial *= num                 # Multiply factorial by the current number\n",
    "    num -= 1                         # Decrease the number by 1\n",
    "print(\"Factorial is:\", factorial)    # Output the result\n"
   ]
  },
  {
   "cell_type": "markdown",
   "id": "5ffc8d18-057c-4876-9427-fa2ac8d9dc21",
   "metadata": {},
   "source": [
    "## Q2: Reverse a number using a while loop."
   ]
  },
  {
   "cell_type": "code",
   "execution_count": 5,
   "id": "723ffb4d-be37-4db5-a2f0-2bfd3b3d6fb8",
   "metadata": {},
   "outputs": [
    {
     "name": "stdin",
     "output_type": "stream",
     "text": [
      "Enter a number:  20\n"
     ]
    },
    {
     "name": "stdout",
     "output_type": "stream",
     "text": [
      "Reversed number is: 2\n"
     ]
    }
   ],
   "source": [
    "num = int(input(\"Enter a number: \"))  # Input number from the user\n",
    "reversed_num = 0                      # Initialize reversed number\n",
    "while num > 0:                        # Loop until the number becomes 0\n",
    "    digit = num % 10                  # Extract the last digit\n",
    "    reversed_num = reversed_num * 10 + digit  # Add the digit to the reversed number\n",
    "    num //= 10                        # Remove the last digit from the number\n",
    "print(\"Reversed number is:\", reversed_num)\n"
   ]
  },
  {
   "cell_type": "markdown",
   "id": "992a485e-8ed2-4f0d-b4e7-e446ecaafee6",
   "metadata": {},
   "source": [
    "## Q3: Find the first prime number greater than a given number using break."
   ]
  },
  {
   "cell_type": "code",
   "execution_count": 10,
   "id": "0056ce41-2cd2-448c-b0f4-817ec1387220",
   "metadata": {},
   "outputs": [
    {
     "name": "stdin",
     "output_type": "stream",
     "text": [
      "Enter a number:  2\n"
     ]
    },
    {
     "name": "stdout",
     "output_type": "stream",
     "text": [
      "Next prime is: 3\n"
     ]
    }
   ],
   "source": [
    "num = int(input(\"Enter a number: \"))  # Input number from the user\n",
    "while True:                           # Infinite loop\n",
    "    num += 1                          # Check the next number\n",
    "    for i in range(2, num):           # Check divisors from 2 to num-1\n",
    "        if num % i == 0:              # If divisible, it's not prime\n",
    "            break\n",
    "    else:                             # Executes if no divisor is found\n",
    "        print(\"Next prime is:\", num)  # Output the first prime number\n",
    "        break                         # Exit the infinite loop\n"
   ]
  },
  {
   "cell_type": "code",
   "execution_count": null,
   "id": "355239ec-0094-4104-bf44-c8b653772c56",
   "metadata": {},
   "outputs": [],
   "source": []
  }
 ],
 "metadata": {
  "kernelspec": {
   "display_name": "Python 3 (ipykernel)",
   "language": "python",
   "name": "python3"
  },
  "language_info": {
   "codemirror_mode": {
    "name": "ipython",
    "version": 3
   },
   "file_extension": ".py",
   "mimetype": "text/x-python",
   "name": "python",
   "nbconvert_exporter": "python",
   "pygments_lexer": "ipython3",
   "version": "3.12.4"
  }
 },
 "nbformat": 4,
 "nbformat_minor": 5
}
