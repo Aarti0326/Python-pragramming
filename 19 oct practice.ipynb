{
 "cells": [
  {
   "cell_type": "markdown",
   "id": "bc6f39f5-158f-4a7b-a584-031deb4b7368",
   "metadata": {},
   "source": [
    "### This program sets an alarm for a specified time."
   ]
  },
  {
   "cell_type": "code",
   "execution_count": null,
   "id": "44f1cee8-a606-4d44-8950-c9c210aa9ed5",
   "metadata": {},
   "outputs": [
    {
     "name": "stdin",
     "output_type": "stream",
     "text": [
      "Set alarm time (HH:MM:SS):  05:15:65\n"
     ]
    },
    {
     "name": "stdout",
     "output_type": "stream",
     "text": [
      "Current Time: 23:56:37\r"
     ]
    }
   ],
   "source": [
    "import time\n",
    "\n",
    "def alarm_clock():\n",
    "    alarm_time = input(\"Set alarm time (HH:MM:SS): \")\n",
    "    \n",
    "    while True:\n",
    "        current_time = time.strftime(\"%H:%M:%S\")\n",
    "        print(f\"Current Time: {current_time}\", end=\"\\r\")\n",
    "        if current_time == alarm_time:\n",
    "            print(\"\\nAlarm! Time to wake up!\")\n",
    "            break\n",
    "        time.sleep(1)\n",
    "\n",
    "if __name__ == \"__main__\":\n",
    "    alarm_clock()\n",
    "\n"
   ]
  },
  {
   "cell_type": "code",
   "execution_count": null,
   "id": "22fedb4f-6ceb-4b6a-9238-5a6363f26a51",
   "metadata": {},
   "outputs": [],
   "source": []
  }
 ],
 "metadata": {
  "kernelspec": {
   "display_name": "Python 3 (ipykernel)",
   "language": "python",
   "name": "python3"
  },
  "language_info": {
   "codemirror_mode": {
    "name": "ipython",
    "version": 3
   },
   "file_extension": ".py",
   "mimetype": "text/x-python",
   "name": "python",
   "nbconvert_exporter": "python",
   "pygments_lexer": "ipython3",
   "version": "3.12.4"
  }
 },
 "nbformat": 4,
 "nbformat_minor": 5
}
