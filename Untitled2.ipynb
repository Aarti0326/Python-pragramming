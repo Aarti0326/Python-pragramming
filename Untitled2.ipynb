{
 "cells": [
  {
   "cell_type": "markdown",
   "id": "ae631919-f60a-4334-8457-bd3f6e597f95",
   "metadata": {},
   "source": [
    "### Write a program to find the common elements between two lists."
   ]
  },
  {
   "cell_type": "code",
   "execution_count": 19,
   "id": "8bd1053e-4e37-44fb-8309-0def595af585",
   "metadata": {},
   "outputs": [
    {
     "name": "stdout",
     "output_type": "stream",
     "text": [
      "Common elements: [4, 5]\n"
     ]
    }
   ],
   "source": [
    "list1 = [1, 2, 3, 4, 5]\n",
    "list2 = [4, 5, 6, 7, 8]\n",
    "\n",
    "# Using filter to find common elements\n",
    "intersection = list(filter(lambda x: x in list2, list1))\n",
    "\n",
    "print(\"Common elements:\", intersection)\n"
   ]
  },
  {
   "cell_type": "markdown",
   "id": "5bb0f874-a6f2-412c-8833-f461ca246d58",
   "metadata": {},
   "source": [
    "### Write a program to find the square root of a number."
   ]
  },
  {
   "cell_type": "code",
   "execution_count": 24,
   "id": "b89bda42-eaad-4d01-9c9b-87126e5d33ee",
   "metadata": {},
   "outputs": [
    {
     "name": "stdin",
     "output_type": "stream",
     "text": [
      "Enter a number:  64\n"
     ]
    },
    {
     "name": "stdout",
     "output_type": "stream",
     "text": [
      "Square root of 64.0 is 8.0\n"
     ]
    }
   ],
   "source": [
    "import math\n",
    "\n",
    "num = float(input(\"Enter a number: \"))\n",
    "sqrt = math.sqrt(num)\n",
    "print(f\"Square root of {num} is {sqrt}\")\n"
   ]
  },
  {
   "cell_type": "markdown",
   "id": "4b60cf9f-62d7-4ca0-95d7-fabf910408d2",
   "metadata": {},
   "source": [
    "### Calculate the Mean, Median, and Mode"
   ]
  },
  {
   "cell_type": "code",
   "execution_count": 35,
   "id": "9fb5fe72-6142-45f8-a74b-c775fccdad30",
   "metadata": {},
   "outputs": [
    {
     "name": "stdout",
     "output_type": "stream",
     "text": [
      "3.2857142857142856\n",
      "3\n",
      "2\n"
     ]
    }
   ],
   "source": [
    "from statistics import mean, median, mode\n",
    "\n",
    "numbers = [1, 2, 2, 3, 4, 5, 6]\n",
    "print(mean(numbers))\n",
    "print(median(numbers))\n",
    "print(mode(numbers))"
   ]
  },
  {
   "cell_type": "code",
   "execution_count": null,
   "id": "a53ccf3b-aab9-4fb5-ab56-aaaa7b218fac",
   "metadata": {},
   "outputs": [],
   "source": []
  }
 ],
 "metadata": {
  "kernelspec": {
   "display_name": "Python 3 (ipykernel)",
   "language": "python",
   "name": "python3"
  },
  "language_info": {
   "codemirror_mode": {
    "name": "ipython",
    "version": 3
   },
   "file_extension": ".py",
   "mimetype": "text/x-python",
   "name": "python",
   "nbconvert_exporter": "python",
   "pygments_lexer": "ipython3",
   "version": "3.12.4"
  }
 },
 "nbformat": 4,
 "nbformat_minor": 5
}
