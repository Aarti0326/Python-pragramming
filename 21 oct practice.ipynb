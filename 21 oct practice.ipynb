{
 "cells": [
  {
   "cell_type": "markdown",
   "id": "d8c6e632-3cfe-4dbd-a04d-da8b8ae27937",
   "metadata": {},
   "source": [
    "## Write a Python program that takes a user’s name and age, and prints how many years it will take for them to turn 100."
   ]
  },
  {
   "cell_type": "code",
   "execution_count": 14,
   "id": "c0a23d9d-8cca-465f-bda7-177e57593087",
   "metadata": {},
   "outputs": [
    {
     "name": "stdin",
     "output_type": "stream",
     "text": [
      "Enter your name:  nikita\n",
      "Enter your age:  22\n"
     ]
    },
    {
     "name": "stdout",
     "output_type": "stream",
     "text": [
      "you will turn 100 years old in 78 years.\n"
     ]
    }
   ],
   "source": [
    "name = input(\"Enter your name: \")\n",
    "age = int(input(\"Enter your age: \"))\n",
    "\n",
    "years_to_100 = 100-age\n",
    "print(f\"you will turn 100 years old in {years_to_100} years.\")"
   ]
  },
  {
   "cell_type": "markdown",
   "id": "ce41cbc6-f3d6-4087-a8a1-e7f3562345ca",
   "metadata": {},
   "source": [
    "## Why Python?"
   ]
  },
  {
   "cell_type": "code",
   "execution_count": 17,
   "id": "a1cea512-eab5-4615-97c8-a948c8f84174",
   "metadata": {},
   "outputs": [],
   "source": [
    "#Easy to learn with simple syntax.\n",
    "#Used in Data Science, AI, Web Development, and more.\n",
    "#Large community and libraries (e.g., NumPy, Pandas, TensorFlow).\n",
    "#Highly readable code that is close to plain English."
   ]
  },
  {
   "cell_type": "markdown",
   "id": "d7cbb53d-5c52-4be2-bd7b-15f73c62ddd4",
   "metadata": {},
   "source": [
    "### 3. What is an IDE (Integrated Development Environment)?\n",
    "##### An IDE provides a workspace with:\n",
    "##### Code editor\n",
    "##### Debugging tools\n",
    "##### Terminal for running programs\n",
    "##### Popular IDEs:\n",
    "\n",
    "##### Jupyter Notebook (for Data Science)\n",
    "##### PyCharm (for software development)\n",
    "##### VS Code (lightweight & flexible)"
   ]
  },
  {
   "cell_type": "markdown",
   "id": "de563606-1759-4818-8e6e-37a9280ed06d",
   "metadata": {},
   "source": [
    "### 4. Question: Write a Python program that:\n",
    "\n",
    "#### Asks for the user's name and role in the organization.\n",
    "#### Prints a customized welcome message."
   ]
  },
  {
   "cell_type": "code",
   "execution_count": 28,
   "id": "656f55d1-208c-4a85-9579-ed5e268e71a3",
   "metadata": {},
   "outputs": [
    {
     "name": "stdin",
     "output_type": "stream",
     "text": [
      "Enter your name:  Nikita\n",
      "Enter your role:  data analyst\n"
     ]
    },
    {
     "name": "stdout",
     "output_type": "stream",
     "text": [
      "welcome,Nikita! we are excited to have you as new role as data analyst.\n"
     ]
    }
   ],
   "source": [
    "name = input(\"Enter your name: \")\n",
    "role = input(\"Enter your role: \")\n",
    "\n",
    "print(f\"welcome,{name}! we are excited to have you as new role as {role}.\")"
   ]
  },
  {
   "cell_type": "code",
   "execution_count": null,
   "id": "e469f4ed-f1bd-4484-81ed-b7333bf1d3b8",
   "metadata": {},
   "outputs": [],
   "source": []
  }
 ],
 "metadata": {
  "kernelspec": {
   "display_name": "Python 3 (ipykernel)",
   "language": "python",
   "name": "python3"
  },
  "language_info": {
   "codemirror_mode": {
    "name": "ipython",
    "version": 3
   },
   "file_extension": ".py",
   "mimetype": "text/x-python",
   "name": "python",
   "nbconvert_exporter": "python",
   "pygments_lexer": "ipython3",
   "version": "3.12.4"
  }
 },
 "nbformat": 4,
 "nbformat_minor": 5
}
