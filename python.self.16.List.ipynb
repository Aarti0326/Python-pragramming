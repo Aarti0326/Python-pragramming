{
 "cells": [
  {
   "cell_type": "markdown",
   "id": "d0b4c5a0-8624-40bf-947e-0067343d6f39",
   "metadata": {},
   "source": [
    "## list"
   ]
  },
  {
   "cell_type": "markdown",
   "id": "04635400-0a47-4282-89e9-9c5306aa27f7",
   "metadata": {},
   "source": [
    "### changing elements"
   ]
  },
  {
   "cell_type": "code",
   "execution_count": 13,
   "id": "53288345-1e6a-4c62-afd2-8e05df4571e8",
   "metadata": {},
   "outputs": [
    {
     "name": "stdout",
     "output_type": "stream",
     "text": [
      "[1, 2, 'hello', 4, 5]\n"
     ]
    }
   ],
   "source": [
    "my_list = [1,2,3,4,5]\n",
    "my_list[2]=\"hello\"\n",
    "print(my_list)"
   ]
  },
  {
   "cell_type": "markdown",
   "id": "2306fef3-c242-4979-b462-22065be65cc4",
   "metadata": {},
   "source": [
    "### change a range of item values"
   ]
  },
  {
   "cell_type": "code",
   "execution_count": 70,
   "id": "b188a254-7d10-47ca-9266-a95cc3b799ce",
   "metadata": {},
   "outputs": [],
   "source": [
    "a = [4,5,2,8,7,9,6,3,58,8,652]\n",
    "a[2:4] = \"books\",\"pen\",\"peper\""
   ]
  },
  {
   "cell_type": "code",
   "execution_count": 72,
   "id": "baaf670b-50c7-4b49-8ae8-46018328c3ba",
   "metadata": {},
   "outputs": [
    {
     "name": "stdout",
     "output_type": "stream",
     "text": [
      "[4, 5, 'books', 'pen', 'peper', 7, 9, 6, 3, 58, 8, 652]\n"
     ]
    }
   ],
   "source": [
    "print(a)"
   ]
  },
  {
   "cell_type": "markdown",
   "id": "060b923c-ddf0-4ce1-8f71-d0a2dad7bac0",
   "metadata": {},
   "source": [
    "### add list items"
   ]
  },
  {
   "cell_type": "code",
   "execution_count": 79,
   "id": "70751ce2-688f-444e-b035-3be46d43d306",
   "metadata": {},
   "outputs": [
    {
     "name": "stdout",
     "output_type": "stream",
     "text": [
      "['apple', 'banana', 'cherry', 'orange']\n"
     ]
    }
   ],
   "source": [
    "thislist = [\"apple\",\"banana\",\"cherry\"]\n",
    "thislist.append(\"orange\")\n",
    "print(thislist)"
   ]
  },
  {
   "cell_type": "markdown",
   "id": "8be5666d-1c63-4ce0-99ff-01cb4bc701ca",
   "metadata": {},
   "source": [
    "### remove the items"
   ]
  },
  {
   "cell_type": "code",
   "execution_count": 83,
   "id": "bc47b391-c0ab-4aed-8be3-b56e78717e4c",
   "metadata": {},
   "outputs": [
    {
     "name": "stdout",
     "output_type": "stream",
     "text": [
      "[4, 5, 8, 7, 6, 5, 69853, 653, 5, 52, 53]\n"
     ]
    }
   ],
   "source": [
    "b = [4,5,8,7,5.5,6,5,69853,653,5,52,53]\n",
    "b.remove(5.5)\n",
    "print(b)"
   ]
  },
  {
   "cell_type": "markdown",
   "id": "716d2bcc-8c47-42e3-a560-f0ee4315db0e",
   "metadata": {},
   "source": [
    "### join the list"
   ]
  },
  {
   "cell_type": "code",
   "execution_count": 88,
   "id": "8f7104e5-5f5d-400c-8d07-bbd8db9b0dab",
   "metadata": {},
   "outputs": [
    {
     "name": "stdout",
     "output_type": "stream",
     "text": [
      "[1, 5, 6, 5, 8, 6]\n"
     ]
    }
   ],
   "source": [
    "list1 = [1,5,6]\n",
    "list2 = [5,8,6]\n",
    "print(list1+list2)\n"
   ]
  },
  {
   "cell_type": "markdown",
   "id": "08fb15f9-c3b1-4a04-89b2-bc1f4f955af8",
   "metadata": {},
   "source": [
    "### check is a list contains an element"
   ]
  },
  {
   "cell_type": "code",
   "execution_count": 93,
   "id": "e606f635-cd74-4042-bf92-5fab69fde692",
   "metadata": {},
   "outputs": [
    {
     "data": {
      "text/plain": [
       "True"
      ]
     },
     "execution_count": 93,
     "metadata": {},
     "output_type": "execute_result"
    }
   ],
   "source": [
    "a = [4.5,44,5,7,72,41,\"hello\"]\n",
    "41 in a"
   ]
  },
  {
   "cell_type": "code",
   "execution_count": 96,
   "id": "db6f450a-2fe9-4f17-b7ab-515c618548e6",
   "metadata": {},
   "outputs": [
    {
     "data": {
      "text/plain": [
       "False"
      ]
     },
     "execution_count": 96,
     "metadata": {},
     "output_type": "execute_result"
    }
   ],
   "source": [
    "2.5 in a"
   ]
  },
  {
   "cell_type": "markdown",
   "id": "24326aea-ddde-43a6-ac84-44fd7a0e9658",
   "metadata": {},
   "source": [
    "### reversing a list"
   ]
  },
  {
   "cell_type": "code",
   "execution_count": 107,
   "id": "ddf8720b-e6c1-40e1-b1dc-3c3959de7b79",
   "metadata": {},
   "outputs": [
    {
     "name": "stdout",
     "output_type": "stream",
     "text": [
      "[63, 852, 41.5, 72, 7, 5, 44, 4.5]\n"
     ]
    }
   ],
   "source": [
    "a = [4.5,44,5,7,72,41.5,852,63]\n",
    "a.reverse()\n",
    "print(a)"
   ]
  },
  {
   "cell_type": "markdown",
   "id": "48c62506-d8c6-41a4-8299-6536436e3a24",
   "metadata": {},
   "source": [
    "#### Task: data cleaning \n",
    "#### you have a list responses containing responses from a survay.\n",
    "#### however,some responses are recorded as empty strings due to data entry errors. \n",
    "\n",
    "#### your task is to remove these empty responses from list.\n",
    "#### write python code to remove all empty responses from the responses list\n"
   ]
  },
  {
   "cell_type": "code",
   "execution_count": 132,
   "id": "a2a2d00e-b74c-4a23-969e-193acbb7cc1e",
   "metadata": {},
   "outputs": [],
   "source": [
    "#responses = [\"yes\",\"\",\"no\",\"\",\"Maybe\",\"\",\"\",\"yes\",\"no\",\"\"]         # survay form responses list"
   ]
  },
  {
   "cell_type": "code",
   "execution_count": 148,
   "id": "2dcc8a56-d740-4605-9fb4-2a3b73112404",
   "metadata": {},
   "outputs": [
    {
     "name": "stdout",
     "output_type": "stream",
     "text": [
      "['yes', 'no', 'Maybe', 'yes', 'no']\n"
     ]
    }
   ],
   "source": [
    "responses = [\"yes\",\"\",\"no\",\"\",\"Maybe\",\"\",\"\",\"yes\",\"no\",\"\"] \n",
    "clean = []\n",
    "\n",
    "for response in responses:\n",
    "    if response!=\"\":\n",
    "        clean.append(response)\n",
    "    else:\n",
    "        pass    \n",
    "        \n",
    "print(clean)"
   ]
  },
  {
   "cell_type": "markdown",
   "id": "9292e132-0796-4735-b8db-f066b05b35e4",
   "metadata": {},
   "source": [
    "#### Data analysis scenario:\n"
   ]
  },
  {
   "cell_type": "code",
   "execution_count": 154,
   "id": "755b9bbe-8d6e-4046-9e2b-8a4554e529ae",
   "metadata": {},
   "outputs": [],
   "source": [
    "#you have two lists containing exam scores of students from two different classes.\n",
    "#the lists are class1_scores and class2_scores.\n",
    "#you need to analyze the performance of the classes by calculating the average score for each class.\n",
    "#write python code to calculate the average score for each class.\n",
    "\n",
    "#class1_scores = [85,90,88,92,78]\n",
    "#class2_scores = [75,82,80,85,79]                                                                                           "
   ]
  },
  {
   "cell_type": "code",
   "execution_count": 167,
   "id": "154366bb-ad7d-4d87-9a20-6fcce13f0000",
   "metadata": {},
   "outputs": [
    {
     "name": "stdout",
     "output_type": "stream",
     "text": [
      "the average score of class 1 is 86.6\n",
      "the average score of class 1 is 80.2\n"
     ]
    }
   ],
   "source": [
    "class1_scores = [85,90,88,92,78]\n",
    "class2_scores = [75,82,80,85,79]     \n",
    "class1_avg = sum(class1_scores)/len(class1_scores)\n",
    "class2_avg = sum(class2_scores)/len(class1_scores)\n",
    "print(\"the average score of class 1 is\",class1_avg)\n",
    "print(\"the average score of class 1 is\",class2_avg)"
   ]
  },
  {
   "cell_type": "markdown",
   "id": "2511984b-5d3e-4ce3-a568-650b0684f1fd",
   "metadata": {},
   "source": [
    "#### given two lists"
   ]
  },
  {
   "cell_type": "markdown",
   "id": "ddefeb46-d883-41d0-a527-5ad491575fee",
   "metadata": {},
   "source": [
    "#### list1 = [[1,2], [3,4], [5,6]] and list2 = [[7,8], [9,10]]\n",
    "#### concatenate them into a single list of lists."
   ]
  },
  {
   "cell_type": "code",
   "execution_count": 178,
   "id": "2306d013-a6c5-41cc-b2dd-e39174744952",
   "metadata": {},
   "outputs": [
    {
     "name": "stdout",
     "output_type": "stream",
     "text": [
      "[[1, 2], [3, 4], [5, 6], [7, 8], [9, 10]]\n"
     ]
    }
   ],
   "source": [
    "list1 = [[1,2], [3,4], [5,6]]\n",
    "list2 = [[7,8], [9,10]]\n",
    "#concatinate two list\n",
    "print(list1+list2)\n"
   ]
  },
  {
   "cell_type": "code",
   "execution_count": null,
   "id": "66a65c0c-0756-4537-aa80-b8b50e7a2f59",
   "metadata": {},
   "outputs": [],
   "source": []
  }
 ],
 "metadata": {
  "kernelspec": {
   "display_name": "Python 3 (ipykernel)",
   "language": "python",
   "name": "python3"
  },
  "language_info": {
   "codemirror_mode": {
    "name": "ipython",
    "version": 3
   },
   "file_extension": ".py",
   "mimetype": "text/x-python",
   "name": "python",
   "nbconvert_exporter": "python",
   "pygments_lexer": "ipython3",
   "version": "3.12.4"
  }
 },
 "nbformat": 4,
 "nbformat_minor": 5
}
