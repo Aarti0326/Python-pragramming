{
 "cells": [
  {
   "cell_type": "markdown",
   "id": "71eb60c3-fc0e-43a4-b366-177c7d4382bc",
   "metadata": {},
   "source": [
    "# string in python\n"
   ]
  },
  {
   "cell_type": "code",
   "execution_count": 10,
   "id": "86836955-e591-4953-8d12-8433352669eb",
   "metadata": {},
   "outputs": [
    {
     "name": "stdout",
     "output_type": "stream",
     "text": [
      "Hello World\n"
     ]
    }
   ],
   "source": [
    "string1 = \"Hello World\"\n",
    "print(string1)"
   ]
  },
  {
   "cell_type": "code",
   "execution_count": 14,
   "id": "62bea73b-3fd8-4953-bad4-d849617d01f3",
   "metadata": {},
   "outputs": [
    {
     "name": "stdout",
     "output_type": "stream",
     "text": [
      "i am aarti\n",
      "this is my first class\n"
     ]
    }
   ],
   "source": [
    "str2=\"i am aarti\\nthis is my first class\"\n",
    "print(str2)"
   ]
  },
  {
   "cell_type": "code",
   "execution_count": 26,
   "id": "bc23507e-1f01-4d0d-9e20-7001744b473f",
   "metadata": {},
   "outputs": [
    {
     "name": "stdout",
     "output_type": "stream",
     "text": [
      "Data science is an interdisciplinary field \n",
      "that uses scientific methods, processes, algorithms, and systems\n",
      "to extract knowledge and insights from structured and unstructured data.\n",
      "Data science is an interdisciplinary field that uses scientific methods, processes, algorithms, and systems to extract knowledge\n",
      "and insights from structured and unstructured data.\n",
      "In simpler terms, data science is about obtaining, processing, and analyzing data to gain insights for many purposes.\n"
     ]
    }
   ],
   "source": [
    "a= \"\"\"Data science is an interdisciplinary field \n",
    "that uses scientific methods, processes, algorithms, and systems\n",
    "to extract knowledge and insights from structured and unstructured data.\n",
    "Data science is an interdisciplinary field that uses scientific methods, processes, algorithms, and systems to extract knowledge\n",
    "and insights from structured and unstructured data.\n",
    "In simpler terms, data science is about obtaining, processing, and analyzing data to gain insights for many purposes.\"\"\"\n",
    "print(a)                    # for multuple line use \"\"\""
   ]
  },
  {
   "cell_type": "markdown",
   "id": "db384235-22ad-4cb6-a842-d9c7f33ab60f",
   "metadata": {},
   "source": [
    "### Indexing as string"
   ]
  },
  {
   "cell_type": "code",
   "execution_count": 30,
   "id": "05c41e76-56e6-42b8-86ec-779c6b1862f0",
   "metadata": {},
   "outputs": [
    {
     "name": "stdout",
     "output_type": "stream",
     "text": [
      "m\n",
      "i\n",
      "y\n"
     ]
    }
   ],
   "source": [
    "a=\"my self aarti\"\n",
    "print(a[0])\n",
    "print(a[-1])\n",
    "print(a[1])"
   ]
  },
  {
   "cell_type": "code",
   "execution_count": 32,
   "id": "913c1462-a5f4-48e9-8445-ca604a740dfa",
   "metadata": {},
   "outputs": [
    {
     "name": "stdout",
     "output_type": "stream",
     "text": [
      "m\n",
      "y\n",
      " \n",
      "s\n"
     ]
    }
   ],
   "source": [
    "print(a[0])\n",
    "print(a[1])\n",
    "print(a[2])\n",
    "print(a[3])"
   ]
  },
  {
   "cell_type": "code",
   "execution_count": 51,
   "id": "f1a697a2-447e-48ca-92f6-757ae1f44171",
   "metadata": {},
   "outputs": [
    {
     "name": "stdout",
     "output_type": "stream",
     "text": [
      "d a t a\n"
     ]
    }
   ],
   "source": [
    "b=\"data is the growing field\"\n",
    "print(b[0],b[1],b[2],b[3])"
   ]
  },
  {
   "cell_type": "markdown",
   "id": "88f44f94-ee70-408e-92bd-f625b1bfc52e",
   "metadata": {},
   "source": [
    "## Slicing"
   ]
  },
  {
   "cell_type": "code",
   "execution_count": 64,
   "id": "cfacd296-bc06-4585-9f78-a46c344d968a",
   "metadata": {},
   "outputs": [
    {
     "name": "stdout",
     "output_type": "stream",
     "text": [
      "i am\n"
     ]
    }
   ],
   "source": [
    "a=\"i am data science learning\"\n",
    "print(a[0:4])"
   ]
  },
  {
   "cell_type": "code",
   "execution_count": 66,
   "id": "6ef289b2-0945-4b41-803a-b973f3122dad",
   "metadata": {},
   "outputs": [
    {
     "name": "stdout",
     "output_type": "stream",
     "text": [
      "i am data\n"
     ]
    }
   ],
   "source": [
    "b=\"i am data science learning\"\n",
    "print(b[0:9])"
   ]
  },
  {
   "cell_type": "code",
   "execution_count": 68,
   "id": "4b7665e7-8330-43d2-805d-96902e4c4884",
   "metadata": {},
   "outputs": [
    {
     "name": "stdout",
     "output_type": "stream",
     "text": [
      "i am data science learning\n"
     ]
    }
   ],
   "source": [
    "c=\"i am data science learning\"\n",
    "print(c[:])"
   ]
  },
  {
   "cell_type": "markdown",
   "id": "0d43bfeb-c121-4c00-b92d-0f583386f0cb",
   "metadata": {},
   "source": [
    "### slicing with jump"
   ]
  },
  {
   "cell_type": "code",
   "execution_count": 3,
   "id": "a142ffe9-fc51-4bd4-9090-8a0095458404",
   "metadata": {},
   "outputs": [
    {
     "name": "stdout",
     "output_type": "stream",
     "text": [
      "i am data science le\n"
     ]
    }
   ],
   "source": [
    "D=\"i am data science learning\"\n",
    "print(D[0:20:1])"
   ]
  },
  {
   "cell_type": "code",
   "execution_count": 11,
   "id": "f183e4a1-3dbf-4f8b-ad99-bc6e485c578d",
   "metadata": {},
   "outputs": [
    {
     "name": "stdout",
     "output_type": "stream",
     "text": [
      "ia aas\n"
     ]
    }
   ],
   "source": [
    "f=\"i am data science learning\"\n",
    "print(f[0:11:2])"
   ]
  },
  {
   "cell_type": "code",
   "execution_count": 9,
   "id": "c0478d76-c0a1-4966-a3dd-88b24e7d9f26",
   "metadata": {},
   "outputs": [
    {
     "name": "stdout",
     "output_type": "stream",
     "text": [
      "ima \n"
     ]
    }
   ],
   "source": [
    "e=\"i am data science learning\"\n",
    "print(e[0:10:3])"
   ]
  },
  {
   "cell_type": "code",
   "execution_count": 13,
   "id": "de8ba9ce-ce66-4885-9ce0-fb8d84f892e3",
   "metadata": {},
   "outputs": [
    {
     "name": "stdout",
     "output_type": "stream",
     "text": [
      "idscag\n"
     ]
    }
   ],
   "source": [
    "e=\"i am data science learning\"\n",
    "print(e[::5])"
   ]
  },
  {
   "cell_type": "code",
   "execution_count": 21,
   "id": "cda8319b-35db-4c9d-b079-4394cce93fa3",
   "metadata": {},
   "outputs": [
    {
     "name": "stdout",
     "output_type": "stream",
     "text": [
      "science learnin\n"
     ]
    }
   ],
   "source": [
    "N=\"i am data science learning\"\n",
    "print(N[-16:-1])"
   ]
  },
  {
   "cell_type": "code",
   "execution_count": 25,
   "id": "51d9b796-1aae-4b9f-aa48-eb6b809f2542",
   "metadata": {},
   "outputs": [
    {
     "name": "stdout",
     "output_type": "stream",
     "text": [
      "asinelann\n"
     ]
    }
   ],
   "source": [
    "a=\"i am data science learning\"\n",
    "print(a[-18:-1:2])"
   ]
  },
  {
   "cell_type": "code",
   "execution_count": null,
   "id": "ae4a9e0c-e193-4d13-8aef-4833c55f008f",
   "metadata": {},
   "outputs": [],
   "source": []
  }
 ],
 "metadata": {
  "kernelspec": {
   "display_name": "Python 3 (ipykernel)",
   "language": "python",
   "name": "python3"
  },
  "language_info": {
   "codemirror_mode": {
    "name": "ipython",
    "version": 3
   },
   "file_extension": ".py",
   "mimetype": "text/x-python",
   "name": "python",
   "nbconvert_exporter": "python",
   "pygments_lexer": "ipython3",
   "version": "3.12.4"
  }
 },
 "nbformat": 4,
 "nbformat_minor": 5
}
