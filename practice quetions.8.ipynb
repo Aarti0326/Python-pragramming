{
 "cells": [
  {
   "cell_type": "markdown",
   "id": "cb8e8620-36bc-49dd-b21d-0b3b04792d5f",
   "metadata": {},
   "source": [
    "### Find the Union of Two Sets"
   ]
  },
  {
   "cell_type": "code",
   "execution_count": 2,
   "id": "392f85da-7139-4c51-82a5-9b53b413d3cc",
   "metadata": {},
   "outputs": [
    {
     "name": "stdout",
     "output_type": "stream",
     "text": [
      "{1, 2, 3, 4, 5}\n"
     ]
    }
   ],
   "source": [
    "def union_sets(set1, set2):\n",
    "    return set1 | set2\n",
    "\n",
    "print(union_sets({1, 2, 3}, {3, 4, 5}))  "
   ]
  },
  {
   "cell_type": "code",
   "execution_count": 4,
   "id": "4866db10-f85c-4365-b02b-b3365539e345",
   "metadata": {},
   "outputs": [],
   "source": [
    "#Explanation:\n",
    "#This function returns the union of two sets using the | operator, which combines all elements from both sets."
   ]
  },
  {
   "cell_type": "markdown",
   "id": "929aad91-8cff-4725-bfdc-cfa7df2ba35f",
   "metadata": {},
   "source": [
    "### Find the Intersection of Two Sets"
   ]
  },
  {
   "cell_type": "code",
   "execution_count": 7,
   "id": "aa4a7660-c5aa-43e7-a7fa-c1d3fdea34bf",
   "metadata": {},
   "outputs": [
    {
     "name": "stdout",
     "output_type": "stream",
     "text": [
      "{2, 3}\n"
     ]
    }
   ],
   "source": [
    "def intersection_sets(set1, set2):\n",
    "    return set1 & set2\n",
    "\n",
    "print(intersection_sets({1, 2, 3}, {2, 3, 4})) "
   ]
  },
  {
   "cell_type": "markdown",
   "id": "d443e258-8087-462c-a576-8c0867bed88c",
   "metadata": {},
   "source": [
    "### Find the Difference Between Two Sets"
   ]
  },
  {
   "cell_type": "code",
   "execution_count": 10,
   "id": "82317477-8100-4975-b440-8cf2f8d6e98b",
   "metadata": {},
   "outputs": [
    {
     "name": "stdout",
     "output_type": "stream",
     "text": [
      "{1, 2}\n"
     ]
    }
   ],
   "source": [
    "def difference_sets(set1, set2):\n",
    "    return set1 - set2\n",
    "\n",
    "print(difference_sets({1, 2, 3, 4}, {3, 4, 5}))"
   ]
  },
  {
   "cell_type": "markdown",
   "id": "568fca2b-4c36-442a-a570-4371809a0ad5",
   "metadata": {},
   "source": [
    "### Remove Duplicates from a List Using Sets"
   ]
  },
  {
   "cell_type": "code",
   "execution_count": 18,
   "id": "715b1e57-53eb-4874-acb8-27d45e4f7f96",
   "metadata": {},
   "outputs": [
    {
     "name": "stdout",
     "output_type": "stream",
     "text": [
      "[1, 2, 3, 4, 5]\n"
     ]
    }
   ],
   "source": [
    "def remove_duplicates(lst):\n",
    "    return list(set(lst))\n",
    "\n",
    "print(remove_duplicates([1, 2, 2, 3, 4, 4, 5])) "
   ]
  },
  {
   "cell_type": "markdown",
   "id": "0f179702-40c8-4b5f-8d6a-6cd3c2021749",
   "metadata": {},
   "source": [
    "### Find the Union of Three Sets"
   ]
  },
  {
   "cell_type": "code",
   "execution_count": 21,
   "id": "11ee7f19-7509-4bfb-ba00-7ac274c4f3c5",
   "metadata": {},
   "outputs": [
    {
     "name": "stdout",
     "output_type": "stream",
     "text": [
      "{1, 2, 3, 4}\n"
     ]
    }
   ],
   "source": [
    "def union_three_sets(set1, set2, set3):\n",
    "    return set1 | set2 | set3\n",
    "\n",
    "print(union_three_sets({1, 2}, {2, 3}, {3, 4}))"
   ]
  },
  {
   "cell_type": "markdown",
   "id": "90b4e922-7064-4146-8aad-e8bccfc46c78",
   "metadata": {},
   "source": [
    "### Display numbers divisible by 5"
   ]
  },
  {
   "cell_type": "code",
   "execution_count": 31,
   "id": "9765dc1e-0259-4f4d-93b8-aa22e6846a7a",
   "metadata": {},
   "outputs": [
    {
     "name": "stdout",
     "output_type": "stream",
     "text": [
      "10\n",
      "20\n",
      "55\n"
     ]
    }
   ],
   "source": [
    "num_list = [10, 20, 33, 46, 55]\n",
    "for num in num_list:\n",
    "    if num%5==0:\n",
    "        print(num)"
   ]
  },
  {
   "cell_type": "code",
   "execution_count": null,
   "id": "c607d254-c350-40c9-a098-b8eddf90800a",
   "metadata": {},
   "outputs": [],
   "source": []
  }
 ],
 "metadata": {
  "kernelspec": {
   "display_name": "Python 3 (ipykernel)",
   "language": "python",
   "name": "python3"
  },
  "language_info": {
   "codemirror_mode": {
    "name": "ipython",
    "version": 3
   },
   "file_extension": ".py",
   "mimetype": "text/x-python",
   "name": "python",
   "nbconvert_exporter": "python",
   "pygments_lexer": "ipython3",
   "version": "3.12.4"
  }
 },
 "nbformat": 4,
 "nbformat_minor": 5
}
