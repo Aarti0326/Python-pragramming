{
 "cells": [
  {
   "cell_type": "code",
   "execution_count": 1,
   "id": "c9066e61-a66d-4f43-a4d5-23c0a3b1c00e",
   "metadata": {},
   "outputs": [],
   "source": [
    "import numpy as np"
   ]
  },
  {
   "cell_type": "code",
   "execution_count": 3,
   "id": "ea40e91e-0133-4ecd-97f4-669163fbed97",
   "metadata": {},
   "outputs": [],
   "source": [
    "arr1 =np.array([])  # create an empty array"
   ]
  },
  {
   "cell_type": "code",
   "execution_count": 4,
   "id": "0ac52669-c546-4abc-b926-5c8b4ebb43c0",
   "metadata": {},
   "outputs": [
    {
     "data": {
      "text/plain": [
       "array([], dtype=float64)"
      ]
     },
     "execution_count": 4,
     "metadata": {},
     "output_type": "execute_result"
    }
   ],
   "source": [
    "arr1"
   ]
  },
  {
   "cell_type": "code",
   "execution_count": 5,
   "id": "34aa4659-3dbe-4bef-a20c-164bbec008c6",
   "metadata": {},
   "outputs": [
    {
     "name": "stdout",
     "output_type": "stream",
     "text": [
      "[1, 2, 3, 4, 5]\n",
      "<class 'list'>\n"
     ]
    }
   ],
   "source": [
    "my_list=[1,2,3,4,5]\n",
    "print(my_list)\n",
    "print(type(my_list))"
   ]
  },
  {
   "cell_type": "code",
   "execution_count": 9,
   "id": "98b52a67-6f71-4609-82b8-9f1915bd3742",
   "metadata": {},
   "outputs": [
    {
     "data": {
      "text/plain": [
       "array([1, 2, 3, 4, 5])"
      ]
     },
     "execution_count": 9,
     "metadata": {},
     "output_type": "execute_result"
    }
   ],
   "source": [
    "a=np.array(my_list)\n",
    "a"
   ]
  },
  {
   "cell_type": "code",
   "execution_count": 11,
   "id": "01f707f5-b432-4012-abdb-cac03ead5b51",
   "metadata": {},
   "outputs": [
    {
     "data": {
      "text/plain": [
       "1"
      ]
     },
     "execution_count": 11,
     "metadata": {},
     "output_type": "execute_result"
    }
   ],
   "source": [
    "a.ndim"
   ]
  },
  {
   "cell_type": "code",
   "execution_count": 13,
   "id": "c386c6a1-2308-4d7b-9ee6-10f93f663195",
   "metadata": {},
   "outputs": [
    {
     "data": {
      "text/plain": [
       "5"
      ]
     },
     "execution_count": 13,
     "metadata": {},
     "output_type": "execute_result"
    }
   ],
   "source": [
    "a.size"
   ]
  },
  {
   "cell_type": "code",
   "execution_count": 15,
   "id": "ecd2f31a-77a5-482a-ab64-0ead6a165421",
   "metadata": {},
   "outputs": [
    {
     "data": {
      "text/plain": [
       "(5,)"
      ]
     },
     "execution_count": 15,
     "metadata": {},
     "output_type": "execute_result"
    }
   ],
   "source": [
    "a.shape"
   ]
  },
  {
   "cell_type": "code",
   "execution_count": 17,
   "id": "49433d1c-29c3-444e-8cfd-9f1e47443454",
   "metadata": {},
   "outputs": [],
   "source": [
    "my_matrix = [[1,2,3,4],[5,6,7,8],[5,78,98,78]]"
   ]
  },
  {
   "cell_type": "code",
   "execution_count": 19,
   "id": "c522ab63-4dda-4418-b104-f2e375c1fb9d",
   "metadata": {},
   "outputs": [
    {
     "data": {
      "text/plain": [
       "[[1, 2, 3, 4], [5, 6, 7, 8], [5, 78, 98, 78]]"
      ]
     },
     "execution_count": 19,
     "metadata": {},
     "output_type": "execute_result"
    }
   ],
   "source": [
    "my_matrix"
   ]
  },
  {
   "cell_type": "code",
   "execution_count": 21,
   "id": "7fc600a7-120b-434f-9a34-94715efe31d0",
   "metadata": {},
   "outputs": [
    {
     "data": {
      "text/plain": [
       "array([[ 1,  2,  3,  4],\n",
       "       [ 5,  6,  7,  8],\n",
       "       [ 5, 78, 98, 78]])"
      ]
     },
     "execution_count": 21,
     "metadata": {},
     "output_type": "execute_result"
    }
   ],
   "source": [
    "b=np.array(my_matrix)      #gernerate a 2-d array\n",
    "b"
   ]
  },
  {
   "cell_type": "code",
   "execution_count": 23,
   "id": "9e125570-9a98-41be-8f82-7609ea532c68",
   "metadata": {},
   "outputs": [
    {
     "data": {
      "text/plain": [
       "2"
      ]
     },
     "execution_count": 23,
     "metadata": {},
     "output_type": "execute_result"
    }
   ],
   "source": [
    "b.ndim"
   ]
  },
  {
   "cell_type": "code",
   "execution_count": 25,
   "id": "673b990a-fd8f-4ce3-8252-a3a874853634",
   "metadata": {},
   "outputs": [
    {
     "data": {
      "text/plain": [
       "12"
      ]
     },
     "execution_count": 25,
     "metadata": {},
     "output_type": "execute_result"
    }
   ],
   "source": [
    "b.size"
   ]
  },
  {
   "cell_type": "code",
   "execution_count": 27,
   "id": "480bfb99-1670-49fd-97c7-2f53c9272737",
   "metadata": {},
   "outputs": [
    {
     "data": {
      "text/plain": [
       "(3, 4)"
      ]
     },
     "execution_count": 27,
     "metadata": {},
     "output_type": "execute_result"
    }
   ],
   "source": [
    "b.shape"
   ]
  },
  {
   "cell_type": "code",
   "execution_count": 29,
   "id": "bc1c7a42-b0b2-4860-9c94-13dce2ff61a5",
   "metadata": {},
   "outputs": [
    {
     "data": {
      "text/plain": [
       "numpy.ndarray"
      ]
     },
     "execution_count": 29,
     "metadata": {},
     "output_type": "execute_result"
    }
   ],
   "source": [
    "type(b)"
   ]
  },
  {
   "cell_type": "code",
   "execution_count": 31,
   "id": "dd4e7d4a-6f6e-4bdf-9760-6da0a03c4dc7",
   "metadata": {},
   "outputs": [
    {
     "data": {
      "text/plain": [
       "dtype('int32')"
      ]
     },
     "execution_count": 31,
     "metadata": {},
     "output_type": "execute_result"
    }
   ],
   "source": [
    "b.dtype"
   ]
  },
  {
   "cell_type": "code",
   "execution_count": 33,
   "id": "dad79cfd-c75a-4889-ae32-814f5b81c658",
   "metadata": {},
   "outputs": [
    {
     "data": {
      "text/plain": [
       "array([[[ 1,  2,  5],\n",
       "        [ 5,  6,  8]],\n",
       "\n",
       "       [[ 6,  8, 78],\n",
       "        [ 5, 89, 58]]])"
      ]
     },
     "execution_count": 33,
     "metadata": {},
     "output_type": "execute_result"
    }
   ],
   "source": [
    "arr2=np.array([[[1,2,5],[5,6,8]],[[6,8,78],[5,89,58]]])\n",
    "arr2"
   ]
  },
  {
   "cell_type": "code",
   "execution_count": 35,
   "id": "e7608dfa-7419-4406-807e-869c5fba0a1a",
   "metadata": {},
   "outputs": [
    {
     "data": {
      "text/plain": [
       "(2, 2, 3)"
      ]
     },
     "execution_count": 35,
     "metadata": {},
     "output_type": "execute_result"
    }
   ],
   "source": [
    "arr2.shape"
   ]
  },
  {
   "cell_type": "code",
   "execution_count": 37,
   "id": "8fea3ffa-1b40-47b4-b108-3fed6e5e1876",
   "metadata": {},
   "outputs": [
    {
     "data": {
      "text/plain": [
       "12"
      ]
     },
     "execution_count": 37,
     "metadata": {},
     "output_type": "execute_result"
    }
   ],
   "source": [
    "arr2.size"
   ]
  },
  {
   "cell_type": "code",
   "execution_count": 39,
   "id": "faf1e6c0-87a8-4ba1-b762-13783daf52df",
   "metadata": {},
   "outputs": [
    {
     "data": {
      "text/plain": [
       "3"
      ]
     },
     "execution_count": 39,
     "metadata": {},
     "output_type": "execute_result"
    }
   ],
   "source": [
    "arr2.ndim"
   ]
  },
  {
   "cell_type": "code",
   "execution_count": 41,
   "id": "697d4052-2ef4-4cf6-9fbe-b02c8b160682",
   "metadata": {},
   "outputs": [
    {
     "data": {
      "text/plain": [
       "numpy.ndarray"
      ]
     },
     "execution_count": 41,
     "metadata": {},
     "output_type": "execute_result"
    }
   ],
   "source": [
    "type(arr2)"
   ]
  },
  {
   "cell_type": "code",
   "execution_count": 43,
   "id": "0c0533eb-1306-412c-a750-d624bfa7e478",
   "metadata": {},
   "outputs": [
    {
     "data": {
      "text/plain": [
       "dtype('int32')"
      ]
     },
     "execution_count": 43,
     "metadata": {},
     "output_type": "execute_result"
    }
   ],
   "source": [
    "arr2.dtype\n"
   ]
  },
  {
   "cell_type": "code",
   "execution_count": 45,
   "id": "e06c9895-5ede-477b-b928-f33d6c2869af",
   "metadata": {},
   "outputs": [
    {
     "data": {
      "text/plain": [
       "array([[[ 1,  2,  5],\n",
       "        [ 5,  6,  8]],\n",
       "\n",
       "       [[ 6,  8, 78],\n",
       "        [ 5, 89, 58]]])"
      ]
     },
     "execution_count": 45,
     "metadata": {},
     "output_type": "execute_result"
    }
   ],
   "source": [
    "arr3=np.array([[[1,2,5],[5,6,8]],[[6,8,78],[5,89,58]]])\n",
    "arr2"
   ]
  },
  {
   "cell_type": "code",
   "execution_count": 47,
   "id": "942ddde5-916d-44fe-9075-ffe55cbc4aaf",
   "metadata": {},
   "outputs": [
    {
     "data": {
      "text/plain": [
       "array([[[ 1,  2,  5,  5],\n",
       "        [ 6,  8,  6,  8],\n",
       "        [78,  5, 89, 58]]])"
      ]
     },
     "execution_count": 47,
     "metadata": {},
     "output_type": "execute_result"
    }
   ],
   "source": [
    "arr3=arr2.reshape((1,3,4))\n",
    "arr3"
   ]
  },
  {
   "cell_type": "code",
   "execution_count": 49,
   "id": "33110a54-bd73-4fbb-b937-39d123688e34",
   "metadata": {},
   "outputs": [
    {
     "data": {
      "text/plain": [
       "(1, 3, 4)"
      ]
     },
     "execution_count": 49,
     "metadata": {},
     "output_type": "execute_result"
    }
   ],
   "source": [
    "arr3.shape"
   ]
  },
  {
   "cell_type": "code",
   "execution_count": 51,
   "id": "3d493e3b-17dd-4a28-b435-290b5d3c64fe",
   "metadata": {},
   "outputs": [
    {
     "data": {
      "text/plain": [
       "array([[[ 1,  2,  5,  5],\n",
       "        [ 6,  8,  6,  8],\n",
       "        [78,  5, 89, 58]]])"
      ]
     },
     "execution_count": 51,
     "metadata": {},
     "output_type": "execute_result"
    }
   ],
   "source": [
    "arr3"
   ]
  },
  {
   "cell_type": "code",
   "execution_count": 53,
   "id": "018a1e9b-7e0a-468b-b956-b7bad65e12b5",
   "metadata": {},
   "outputs": [],
   "source": [
    "# arange\n",
    "\n",
    "#return evenly spaced values within a given interval"
   ]
  },
  {
   "cell_type": "code",
   "execution_count": 55,
   "id": "f22cc359-46ad-416c-88d7-8a378069e1e0",
   "metadata": {},
   "outputs": [
    {
     "data": {
      "text/plain": [
       "array([ 0,  1,  2,  3,  4,  5,  6,  7,  8,  9, 10, 11, 12, 13, 14])"
      ]
     },
     "execution_count": 55,
     "metadata": {},
     "output_type": "execute_result"
    }
   ],
   "source": [
    "np.arange(15)  #start ,end ,step"
   ]
  },
  {
   "cell_type": "code",
   "execution_count": 57,
   "id": "0733ab1f-d210-4d32-ae53-216e08f4ae97",
   "metadata": {},
   "outputs": [
    {
     "data": {
      "text/plain": [
       "array([100,  96,  92,  88,  84,  80,  76,  72,  68,  64,  60,  56,  52,\n",
       "        48,  44,  40,  36,  32,  28,  24,  20,  16,  12,   8,   4])"
      ]
     },
     "execution_count": 57,
     "metadata": {},
     "output_type": "execute_result"
    }
   ],
   "source": [
    "np.arange(100,2,-4)"
   ]
  },
  {
   "cell_type": "code",
   "execution_count": 59,
   "id": "2ce4cda4-1647-4c9c-8c5d-37aca7a3ef0a",
   "metadata": {},
   "outputs": [
    {
     "data": {
      "text/plain": [
       "array([ 0,  2,  4,  6,  8, 10])"
      ]
     },
     "execution_count": 59,
     "metadata": {},
     "output_type": "execute_result"
    }
   ],
   "source": [
    "np.arange(0,11,2)"
   ]
  },
  {
   "cell_type": "code",
   "execution_count": 61,
   "id": "5d4708f4-9588-47fe-948e-0f5ac42969ed",
   "metadata": {},
   "outputs": [],
   "source": [
    "# zeros and ones\n",
    "# generate arrays of zeros or ones "
   ]
  },
  {
   "cell_type": "code",
   "execution_count": 63,
   "id": "2f67ab0a-f8e6-4913-8911-68ae3cb492e0",
   "metadata": {},
   "outputs": [
    {
     "data": {
      "text/plain": [
       "array([0., 0., 0.])"
      ]
     },
     "execution_count": 63,
     "metadata": {},
     "output_type": "execute_result"
    }
   ],
   "source": [
    "np.zeros(3)"
   ]
  },
  {
   "cell_type": "code",
   "execution_count": 65,
   "id": "f6e91d34-a781-468d-ab2d-75e0604e98da",
   "metadata": {},
   "outputs": [
    {
     "data": {
      "text/plain": [
       "array([[0., 0., 0., 0.],\n",
       "       [0., 0., 0., 0.],\n",
       "       [0., 0., 0., 0.],\n",
       "       [0., 0., 0., 0.],\n",
       "       [0., 0., 0., 0.]])"
      ]
     },
     "execution_count": 65,
     "metadata": {},
     "output_type": "execute_result"
    }
   ],
   "source": [
    "np.zeros((5,4))"
   ]
  },
  {
   "cell_type": "code",
   "execution_count": 67,
   "id": "1ce006bc-412c-4bd3-8ff3-e64473e1fb41",
   "metadata": {},
   "outputs": [
    {
     "data": {
      "text/plain": [
       "array([1., 1., 1.])"
      ]
     },
     "execution_count": 67,
     "metadata": {},
     "output_type": "execute_result"
    }
   ],
   "source": [
    "np.ones(3)"
   ]
  },
  {
   "cell_type": "code",
   "execution_count": 69,
   "id": "545c1e62-7484-44ad-8ded-e0faa11bdb3e",
   "metadata": {},
   "outputs": [
    {
     "data": {
      "text/plain": [
       "array([[1., 1., 1., 1., 1.],\n",
       "       [1., 1., 1., 1., 1.],\n",
       "       [1., 1., 1., 1., 1.],\n",
       "       [1., 1., 1., 1., 1.]])"
      ]
     },
     "execution_count": 69,
     "metadata": {},
     "output_type": "execute_result"
    }
   ],
   "source": [
    "np.ones((4,5))"
   ]
  },
  {
   "cell_type": "code",
   "execution_count": 71,
   "id": "3298015c-ab53-4111-ae6d-fe70376a2482",
   "metadata": {},
   "outputs": [
    {
     "data": {
      "text/plain": [
       "array([[[1., 1.],\n",
       "        [1., 1.],\n",
       "        [1., 1.],\n",
       "        [1., 1.],\n",
       "        [1., 1.]],\n",
       "\n",
       "       [[1., 1.],\n",
       "        [1., 1.],\n",
       "        [1., 1.],\n",
       "        [1., 1.],\n",
       "        [1., 1.]],\n",
       "\n",
       "       [[1., 1.],\n",
       "        [1., 1.],\n",
       "        [1., 1.],\n",
       "        [1., 1.],\n",
       "        [1., 1.]],\n",
       "\n",
       "       [[1., 1.],\n",
       "        [1., 1.],\n",
       "        [1., 1.],\n",
       "        [1., 1.],\n",
       "        [1., 1.]]])"
      ]
     },
     "execution_count": 71,
     "metadata": {},
     "output_type": "execute_result"
    }
   ],
   "source": [
    "np.ones((4,5,2))"
   ]
  },
  {
   "cell_type": "markdown",
   "id": "c38c8f33-adbf-4d7d-9e54-c11169c6b60f",
   "metadata": {},
   "source": [
    "### linspace\n"
   ]
  },
  {
   "cell_type": "code",
   "execution_count": 74,
   "id": "c370060c-1807-460c-8f5f-5f8b96de7dd0",
   "metadata": {},
   "outputs": [
    {
     "data": {
      "text/plain": [
       "array([ 1.,  2.,  3.,  4.,  5.,  6.,  7.,  8.,  9., 10., 11., 12., 13.,\n",
       "       14., 15., 16., 17., 18., 19., 20., 21., 22., 23., 24., 25., 26.,\n",
       "       27., 28., 29., 30., 31., 32., 33., 34., 35., 36., 37., 38., 39.,\n",
       "       40., 41., 42., 43., 44., 45., 46., 47., 48., 49., 50.])"
      ]
     },
     "execution_count": 74,
     "metadata": {},
     "output_type": "execute_result"
    }
   ],
   "source": [
    "np.linspace(1,50,50)   #default 50 observations\n",
    "                    #both the start and end are included in the array"
   ]
  },
  {
   "cell_type": "code",
   "execution_count": 76,
   "id": "55f9ca70-495d-435f-8abd-e5af798dcf1c",
   "metadata": {},
   "outputs": [
    {
     "data": {
      "text/plain": [
       "array([ 1.        ,  1.24242424,  1.48484848,  1.72727273,  1.96969697,\n",
       "        2.21212121,  2.45454545,  2.6969697 ,  2.93939394,  3.18181818,\n",
       "        3.42424242,  3.66666667,  3.90909091,  4.15151515,  4.39393939,\n",
       "        4.63636364,  4.87878788,  5.12121212,  5.36363636,  5.60606061,\n",
       "        5.84848485,  6.09090909,  6.33333333,  6.57575758,  6.81818182,\n",
       "        7.06060606,  7.3030303 ,  7.54545455,  7.78787879,  8.03030303,\n",
       "        8.27272727,  8.51515152,  8.75757576,  9.        ,  9.24242424,\n",
       "        9.48484848,  9.72727273,  9.96969697, 10.21212121, 10.45454545,\n",
       "       10.6969697 , 10.93939394, 11.18181818, 11.42424242, 11.66666667,\n",
       "       11.90909091, 12.15151515, 12.39393939, 12.63636364, 12.87878788,\n",
       "       13.12121212, 13.36363636, 13.60606061, 13.84848485, 14.09090909,\n",
       "       14.33333333, 14.57575758, 14.81818182, 15.06060606, 15.3030303 ,\n",
       "       15.54545455, 15.78787879, 16.03030303, 16.27272727, 16.51515152,\n",
       "       16.75757576, 17.        , 17.24242424, 17.48484848, 17.72727273,\n",
       "       17.96969697, 18.21212121, 18.45454545, 18.6969697 , 18.93939394,\n",
       "       19.18181818, 19.42424242, 19.66666667, 19.90909091, 20.15151515,\n",
       "       20.39393939, 20.63636364, 20.87878788, 21.12121212, 21.36363636,\n",
       "       21.60606061, 21.84848485, 22.09090909, 22.33333333, 22.57575758,\n",
       "       22.81818182, 23.06060606, 23.3030303 , 23.54545455, 23.78787879,\n",
       "       24.03030303, 24.27272727, 24.51515152, 24.75757576, 25.        ])"
      ]
     },
     "execution_count": 76,
     "metadata": {},
     "output_type": "execute_result"
    }
   ],
   "source": [
    "np.linspace(1,25,100)  "
   ]
  },
  {
   "cell_type": "code",
   "execution_count": 78,
   "id": "7242225a-783a-4f90-82cd-6a45a3d8a6aa",
   "metadata": {},
   "outputs": [
    {
     "data": {
      "text/plain": [
       "(array([ 0.        ,  0.51020408,  1.02040816,  1.53061224,  2.04081633,\n",
       "         2.55102041,  3.06122449,  3.57142857,  4.08163265,  4.59183673,\n",
       "         5.10204082,  5.6122449 ,  6.12244898,  6.63265306,  7.14285714,\n",
       "         7.65306122,  8.16326531,  8.67346939,  9.18367347,  9.69387755,\n",
       "        10.20408163, 10.71428571, 11.2244898 , 11.73469388, 12.24489796,\n",
       "        12.75510204, 13.26530612, 13.7755102 , 14.28571429, 14.79591837,\n",
       "        15.30612245, 15.81632653, 16.32653061, 16.83673469, 17.34693878,\n",
       "        17.85714286, 18.36734694, 18.87755102, 19.3877551 , 19.89795918,\n",
       "        20.40816327, 20.91836735, 21.42857143, 21.93877551, 22.44897959,\n",
       "        22.95918367, 23.46938776, 23.97959184, 24.48979592, 25.        ]),\n",
       " 0.5102040816326531)"
      ]
     },
     "execution_count": 78,
     "metadata": {},
     "output_type": "execute_result"
    }
   ],
   "source": [
    "np.linspace(0,25,retstep=True)"
   ]
  },
  {
   "cell_type": "code",
   "execution_count": 80,
   "id": "8217fd10-d2c5-42af-bf39-02a2d6c25241",
   "metadata": {},
   "outputs": [
    {
     "data": {
      "text/plain": [
       "array([  0.        ,  22.22222222,  44.44444444,  66.66666667,\n",
       "        88.88888889, 111.11111111, 133.33333333, 155.55555556,\n",
       "       177.77777778, 200.        ])"
      ]
     },
     "execution_count": 80,
     "metadata": {},
     "output_type": "execute_result"
    }
   ],
   "source": [
    "np.linspace(0,200,10)  #defalut retstep = false"
   ]
  },
  {
   "cell_type": "markdown",
   "id": "211ed1c2-0d46-4ebf-a40d-a41a2eb33760",
   "metadata": {},
   "source": [
    "### eye"
   ]
  },
  {
   "cell_type": "code",
   "execution_count": 83,
   "id": "440b4323-01f8-4384-ab2b-c5a04d3dfb93",
   "metadata": {},
   "outputs": [],
   "source": [
    "# creates an identity matrix"
   ]
  },
  {
   "cell_type": "code",
   "execution_count": 85,
   "id": "8e884c19-c5aa-4763-bf50-d002f6b2d5a0",
   "metadata": {},
   "outputs": [
    {
     "data": {
      "text/plain": [
       "array([[1., 0., 0., 0., 0.],\n",
       "       [0., 1., 0., 0., 0.],\n",
       "       [0., 0., 1., 0., 0.],\n",
       "       [0., 0., 0., 1., 0.],\n",
       "       [0., 0., 0., 0., 1.]])"
      ]
     },
     "execution_count": 85,
     "metadata": {},
     "output_type": "execute_result"
    }
   ],
   "source": [
    "np.eye(5)      #generate 2nd array of (5,5)"
   ]
  },
  {
   "cell_type": "code",
   "execution_count": 87,
   "id": "4134895b-1396-4998-b3ae-547f2f0df37f",
   "metadata": {},
   "outputs": [],
   "source": [
    "# create am eye from zeros array"
   ]
  },
  {
   "cell_type": "markdown",
   "id": "79c8c09a-e01e-48cf-9cbd-8f6e2a298429",
   "metadata": {},
   "source": [
    "### use of copy function"
   ]
  },
  {
   "cell_type": "code",
   "execution_count": 90,
   "id": "639c3bdc-38fd-4fa7-869c-70de37c1c16a",
   "metadata": {},
   "outputs": [],
   "source": [
    "my_list=[5,4,7,2,0,4,7,8.45,45,75,20,10]"
   ]
  },
  {
   "cell_type": "code",
   "execution_count": 92,
   "id": "72a48d3c-4378-4e87-8063-906d129976ae",
   "metadata": {},
   "outputs": [
    {
     "data": {
      "text/plain": [
       "array([ 5.  ,  4.  ,  7.  ,  2.  ,  0.  ,  4.  ,  7.  ,  8.45, 45.  ,\n",
       "       75.  , 20.  , 10.  ])"
      ]
     },
     "execution_count": 92,
     "metadata": {},
     "output_type": "execute_result"
    }
   ],
   "source": [
    "arr3=np.array(my_list)\n",
    "arr3"
   ]
  },
  {
   "cell_type": "code",
   "execution_count": 94,
   "id": "8218e3d8-7c80-4741-987e-e88df30dcacc",
   "metadata": {},
   "outputs": [
    {
     "data": {
      "text/plain": [
       "array([30., 30., 30., 30., 30., 30., 30., 30., 30., 30., 20., 10.])"
      ]
     },
     "execution_count": 94,
     "metadata": {},
     "output_type": "execute_result"
    }
   ],
   "source": [
    "arr3[:10]=30\n",
    "arr3"
   ]
  },
  {
   "cell_type": "code",
   "execution_count": 96,
   "id": "a3e973c0-0b7d-4610-bda7-80c09931adad",
   "metadata": {},
   "outputs": [],
   "source": [
    "arr4=arr3.copy()"
   ]
  },
  {
   "cell_type": "code",
   "execution_count": 98,
   "id": "7453ff0f-6749-4c9a-99f8-b2635f8aa358",
   "metadata": {},
   "outputs": [
    {
     "data": {
      "text/plain": [
       "array([ 30.,  30.,  30.,  30.,  30.,  30.,  30.,  30.,  30.,  30., 150.,\n",
       "       150.])"
      ]
     },
     "execution_count": 98,
     "metadata": {},
     "output_type": "execute_result"
    }
   ],
   "source": [
    "arr4[10:]=150\n",
    "arr4"
   ]
  },
  {
   "cell_type": "markdown",
   "id": "44a5a069-6f86-4758-85d5-98043f15fc8d",
   "metadata": {},
   "source": [
    "### rand"
   ]
  },
  {
   "cell_type": "code",
   "execution_count": 101,
   "id": "1e741dc9-4aba-4398-be82-08a57a3d84a3",
   "metadata": {},
   "outputs": [],
   "source": [
    "# create an array of the given shape and populate it with random samples from a uniform distribution"
   ]
  },
  {
   "cell_type": "code",
   "execution_count": 103,
   "id": "8e27918b-c590-4c85-beb8-0f85ba0cf377",
   "metadata": {},
   "outputs": [
    {
     "data": {
      "text/plain": [
       "0.4586512651817063"
      ]
     },
     "execution_count": 103,
     "metadata": {},
     "output_type": "execute_result"
    }
   ],
   "source": [
    "np.random.rand()"
   ]
  },
  {
   "cell_type": "code",
   "execution_count": 105,
   "id": "d67450c2-fe07-4c34-b27a-a68947c35f5a",
   "metadata": {},
   "outputs": [
    {
     "data": {
      "text/plain": [
       "array([0.72058328, 0.49865262, 0.99570273, 0.28173819, 0.35235887,\n",
       "       0.12339504, 0.41568576, 0.19119109, 0.43397824, 0.62873196])"
      ]
     },
     "execution_count": 105,
     "metadata": {},
     "output_type": "execute_result"
    }
   ],
   "source": [
    "np.random.rand(10)"
   ]
  },
  {
   "cell_type": "code",
   "execution_count": 107,
   "id": "a96aa50d-e456-4b84-8c2e-e6c706eb371a",
   "metadata": {},
   "outputs": [
    {
     "data": {
      "text/plain": [
       "array([[0.59399634, 0.64177689, 0.32403192, 0.27592176],\n",
       "       [0.41626965, 0.27523678, 0.48411453, 0.93324611],\n",
       "       [0.4000651 , 0.07995861, 0.7273888 , 0.26245912],\n",
       "       [0.58348317, 0.27010964, 0.19515215, 0.31669159],\n",
       "       [0.64518749, 0.88556932, 0.51403767, 0.75961204]])"
      ]
     },
     "execution_count": 107,
     "metadata": {},
     "output_type": "execute_result"
    }
   ],
   "source": [
    "np.random.rand(20).reshape((5,4))"
   ]
  },
  {
   "cell_type": "code",
   "execution_count": 109,
   "id": "07cf10c5-8d76-43c8-9caa-7d16430e7c6b",
   "metadata": {},
   "outputs": [
    {
     "data": {
      "text/plain": [
       "-1.914916020951998"
      ]
     },
     "execution_count": 109,
     "metadata": {},
     "output_type": "execute_result"
    }
   ],
   "source": [
    "arr1=np.random.randn()\n",
    "arr1"
   ]
  },
  {
   "cell_type": "code",
   "execution_count": 111,
   "id": "4d28f29f-7e83-4824-89d5-d492cf000ed7",
   "metadata": {},
   "outputs": [
    {
     "data": {
      "text/plain": [
       "array([-1.34985861, -0.2701556 , -0.80290805, -2.42935266,  0.5513744 ,\n",
       "        0.15083898,  0.04627157,  0.255559  ,  1.31759405, -2.7823448 ,\n",
       "       -1.21862707, -2.50598673,  0.77464512,  0.51328437,  0.25303533,\n",
       "       -0.5201988 ,  1.26650533,  0.02743006, -1.20950885,  1.33738794,\n",
       "        0.52920543, -0.9846332 ,  0.86413388,  0.55894535, -0.55469254,\n",
       "       -1.00682251,  0.07648392,  0.48870486, -0.93130508, -0.90094956,\n",
       "       -2.67953465,  1.14478585, -0.85000341, -0.5033171 , -1.10076158,\n",
       "        1.18405014,  1.3646811 ,  1.40984437,  1.17490976, -1.42762977])"
      ]
     },
     "execution_count": 111,
     "metadata": {},
     "output_type": "execute_result"
    }
   ],
   "source": [
    "arr1=np.random.randn(40)\n",
    "arr1"
   ]
  },
  {
   "cell_type": "markdown",
   "id": "0c040fdf-81d8-4ae4-b27c-8c73d0b43b23",
   "metadata": {},
   "source": [
    "### rabdint"
   ]
  },
  {
   "cell_type": "code",
   "execution_count": 114,
   "id": "4a0cd850-48a9-474e-8126-a513c6fca90f",
   "metadata": {},
   "outputs": [
    {
     "data": {
      "text/plain": [
       "49"
      ]
     },
     "execution_count": 114,
     "metadata": {},
     "output_type": "execute_result"
    }
   ],
   "source": [
    "np.random.randint(1,50)"
   ]
  },
  {
   "cell_type": "code",
   "execution_count": 116,
   "id": "1704517b-831b-41e7-bd1a-50d2864f9f53",
   "metadata": {},
   "outputs": [
    {
     "data": {
      "text/plain": [
       "array([11, 23, 24, 16, 44, 82, 15,  6,  2, 82])"
      ]
     },
     "execution_count": 116,
     "metadata": {},
     "output_type": "execute_result"
    }
   ],
   "source": [
    "np.random.randint(1,100,10)"
   ]
  },
  {
   "cell_type": "code",
   "execution_count": 118,
   "id": "fb60c31c-f8d4-42a1-9579-65a9d6213d2a",
   "metadata": {},
   "outputs": [
    {
     "data": {
      "text/plain": [
       "array([ 5, 29,  4, 12, 40, 56, 21, 11,  1,  6, 20,  2, 58, 21,  6, 15, 54,\n",
       "       28, 41, 48, 27, 22,  3, 11, 57, 58, 58,  8, 57,  2,  1, 43, 15, 36,\n",
       "        3, 36, 59, 57, 44, 43, 43,  8, 28, 27,  8, 14, 49, 54, 30, 19])"
      ]
     },
     "execution_count": 118,
     "metadata": {},
     "output_type": "execute_result"
    }
   ],
   "source": [
    "np.random.randint(1,60,50)"
   ]
  },
  {
   "cell_type": "code",
   "execution_count": 120,
   "id": "7c7e838c-0ef8-41bf-8a1c-1e3768453e1f",
   "metadata": {},
   "outputs": [
    {
     "data": {
      "text/plain": [
       "array([1, 2, 1, 1, 1, 1, 2, 1, 1, 2])"
      ]
     },
     "execution_count": 120,
     "metadata": {},
     "output_type": "execute_result"
    }
   ],
   "source": [
    "np.random.randint(1,3,10)"
   ]
  },
  {
   "cell_type": "code",
   "execution_count": 12,
   "id": "05adf171-fb9d-49b2-9a1b-a152a8d1667c",
   "metadata": {},
   "outputs": [],
   "source": [
    "import numpy as np"
   ]
  },
  {
   "cell_type": "code",
   "execution_count": 14,
   "id": "8eef1d04-265b-4c5f-848f-becb01c69ba5",
   "metadata": {},
   "outputs": [
    {
     "data": {
      "text/plain": [
       "array([ 5,  4,  5,  2,  0,  4,  7,  8,  4, 75, 20, 10])"
      ]
     },
     "execution_count": 14,
     "metadata": {},
     "output_type": "execute_result"
    }
   ],
   "source": [
    "c = np.array([5,4,5,2,0,4,7,8,4,75,20,10])\n",
    "c\n"
   ]
  },
  {
   "cell_type": "code",
   "execution_count": null,
   "id": "e1ccf1ad-c195-4014-ac46-b53335d92132",
   "metadata": {},
   "outputs": [],
   "source": []
  }
 ],
 "metadata": {
  "kernelspec": {
   "display_name": "Python 3 (ipykernel)",
   "language": "python",
   "name": "python3"
  },
  "language_info": {
   "codemirror_mode": {
    "name": "ipython",
    "version": 3
   },
   "file_extension": ".py",
   "mimetype": "text/x-python",
   "name": "python",
   "nbconvert_exporter": "python",
   "pygments_lexer": "ipython3",
   "version": "3.12.4"
  }
 },
 "nbformat": 4,
 "nbformat_minor": 5
}
