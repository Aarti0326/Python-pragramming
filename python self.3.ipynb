{
 "cells": [
  {
   "cell_type": "markdown",
   "id": "39c2695e-4a78-4144-880b-eed4c652cf7e",
   "metadata": {},
   "source": [
    "# logical operator"
   ]
  },
  {
   "cell_type": "code",
   "execution_count": 3,
   "id": "f8a78bdb-726c-4c24-a711-549cc8957614",
   "metadata": {},
   "outputs": [
    {
     "name": "stdout",
     "output_type": "stream",
     "text": [
      "False\n"
     ]
    }
   ],
   "source": [
    "x=True \n",
    "y=False\n",
    "print(x and y)"
   ]
  },
  {
   "cell_type": "code",
   "execution_count": 3,
   "id": "390e798a-fc4b-4e5c-934d-223f85592383",
   "metadata": {},
   "outputs": [
    {
     "name": "stdout",
     "output_type": "stream",
     "text": [
      "True\n"
     ]
    }
   ],
   "source": [
    "x=True\n",
    "y=False\n",
    "print(x or y)"
   ]
  },
  {
   "cell_type": "code",
   "execution_count": 5,
   "id": "9c4f8070-4aa3-4066-8874-b840c4491525",
   "metadata": {},
   "outputs": [
    {
     "name": "stdout",
     "output_type": "stream",
     "text": [
      "False\n"
     ]
    }
   ],
   "source": [
    "x=True\n",
    "print(not x)"
   ]
  },
  {
   "cell_type": "code",
   "execution_count": 7,
   "id": "24474b95-f83e-4511-b39e-9c74da01f941",
   "metadata": {},
   "outputs": [
    {
     "name": "stdout",
     "output_type": "stream",
     "text": [
      "True\n"
     ]
    }
   ],
   "source": [
    "y=False\n",
    "print(not y)"
   ]
  },
  {
   "cell_type": "markdown",
   "id": "ea521d31-d73e-4980-94c2-535a4bcad11c",
   "metadata": {},
   "source": [
    "## You have a data containing two records: \"Quantity and \"price per unit\". how would you use arithmetic operators to calculate the total cost for each item, also calculate the total cost? product 1,quantity 5 ,price per unit rs 250 product 2,quantity 25, price per unit 256 product 3 ,quantity 34, price per unit 274"
   ]
  },
  {
   "cell_type": "code",
   "execution_count": 34,
   "id": "5817ce4c-694e-4db1-8802-9644bd150db6",
   "metadata": {},
   "outputs": [
    {
     "name": "stdout",
     "output_type": "stream",
     "text": [
      "1250\n",
      "6400\n",
      "9316\n",
      "the total cost of customer need to pay is 16966\n"
     ]
    }
   ],
   "source": [
    "product_1=5*250\n",
    "product_2=25*256\n",
    "product_3=34*274\n",
    "print(product_1)\n",
    "print(product_2)\n",
    "print(product_3)\n",
    "print(\"the total cost of customer need to pay is\", product_1+product_2+product_3)\n"
   ]
  },
  {
   "cell_type": "markdown",
   "id": "52a17cc0-895d-4d41-91f2-93d89459fb2e",
   "metadata": {},
   "source": [
    "### simple interest(S.I)=P*R*T/100.......formula\n",
    "\n",
    "p=1500000\n",
    "r=8\n",
    "t=3\n",
    "Threshold_amount=120000\n",
    "SI=(p*r*t)/100\n",
    "print(\"the simple interest is\",SI)\n"
   ]
  },
  {
   "cell_type": "code",
   "execution_count": 31,
   "id": "d43e062e-0f90-463d-b8ae-3e9b1b72b09a",
   "metadata": {},
   "outputs": [
    {
     "name": "stdout",
     "output_type": "stream",
     "text": [
      "True\n",
      "the value of simple interest is greater than threshold value\n"
     ]
    }
   ],
   "source": [
    "comp = SI>Threshold_amount\n",
    "print(comp)\n",
    "print (\"the value of simple interest is greater than threshold value\")"
   ]
  },
  {
   "cell_type": "markdown",
   "id": "eb282bf5-ff75-43f4-8649-e5e105680cd8",
   "metadata": {},
   "source": [
    "# write a python program to calculate the area of a circle with a radius of 12 cm"
   ]
  },
  {
   "cell_type": "markdown",
   "id": "2d429396-7f9a-44d7-872f-cdd0ece87e0e",
   "metadata": {},
   "source": [
    "# area of cirle=pi*r**2"
   ]
  },
  {
   "cell_type": "code",
   "execution_count": 43,
   "id": "503ba76c-cd14-4070-9e1f-7cefea538415",
   "metadata": {},
   "outputs": [
    {
     "name": "stdout",
     "output_type": "stream",
     "text": [
      "Area of circle is 452.16\n"
     ]
    }
   ],
   "source": [
    "r=12\n",
    "pi=3.14\n",
    "A=pi*r**2\n",
    "print(\"Area of circle is\",A)"
   ]
  },
  {
   "cell_type": "markdown",
   "id": "6db21be6-d428-43fb-91c1-25817d0dded4",
   "metadata": {},
   "source": [
    "# built in function in python"
   ]
  },
  {
   "cell_type": "markdown",
   "id": "20689a1d-49f1-485c-9b9c-0b07515f0c4b",
   "metadata": {},
   "source": [
    "# Float function"
   ]
  },
  {
   "cell_type": "code",
   "execution_count": 3,
   "id": "b42c1b70-1ef4-414d-90c6-5ff92fa1288a",
   "metadata": {},
   "outputs": [
    {
     "data": {
      "text/plain": [
       "int"
      ]
     },
     "execution_count": 3,
     "metadata": {},
     "output_type": "execute_result"
    }
   ],
   "source": [
    "a=12\n",
    "type(a)"
   ]
  },
  {
   "cell_type": "code",
   "execution_count": 5,
   "id": "d01e3ed7-bf57-4993-bc4c-061ffdf82610",
   "metadata": {},
   "outputs": [
    {
     "name": "stdout",
     "output_type": "stream",
     "text": [
      "12.0\n"
     ]
    }
   ],
   "source": [
    "b=float(a)\n",
    "print(b)\n"
   ]
  },
  {
   "cell_type": "code",
   "execution_count": 7,
   "id": "c9010cee-cb07-49e9-b924-c406384836a7",
   "metadata": {},
   "outputs": [
    {
     "data": {
      "text/plain": [
       "str"
      ]
     },
     "execution_count": 7,
     "metadata": {},
     "output_type": "execute_result"
    }
   ],
   "source": [
    "a=\"3.15\"\n",
    "type(a)"
   ]
  },
  {
   "cell_type": "code",
   "execution_count": 9,
   "id": "c64b0c2e-0ef3-49ac-8fc2-90ada5ed8c09",
   "metadata": {},
   "outputs": [
    {
     "name": "stdout",
     "output_type": "stream",
     "text": [
      "3.15\n"
     ]
    }
   ],
   "source": [
    "b=float(a)\n",
    "print(b)"
   ]
  },
  {
   "cell_type": "markdown",
   "id": "ed9b8df4-6965-46c6-8a02-c7b3a0bac3b7",
   "metadata": {},
   "source": [
    "# int function"
   ]
  },
  {
   "cell_type": "code",
   "execution_count": 2,
   "id": "f7a27150-d789-4994-ab46-d8cd6eb9817f",
   "metadata": {},
   "outputs": [
    {
     "data": {
      "text/plain": [
       "float"
      ]
     },
     "execution_count": 2,
     "metadata": {},
     "output_type": "execute_result"
    }
   ],
   "source": [
    "a=2.326\n",
    "type(a)"
   ]
  },
  {
   "cell_type": "code",
   "execution_count": 8,
   "id": "9370c513-6d8d-4323-901b-faebd48027d3",
   "metadata": {},
   "outputs": [
    {
     "name": "stdout",
     "output_type": "stream",
     "text": [
      "2\n"
     ]
    }
   ],
   "source": [
    "b=int(a)\n",
    "print(b)"
   ]
  },
  {
   "cell_type": "markdown",
   "id": "2b42c04a-5c3f-4369-a366-2d8cbc95e864",
   "metadata": {},
   "source": [
    "# str function\n"
   ]
  },
  {
   "cell_type": "code",
   "execution_count": 27,
   "id": "a233e0b1-0c58-4581-b938-c7f927ef627a",
   "metadata": {},
   "outputs": [
    {
     "data": {
      "text/plain": [
       "int"
      ]
     },
     "execution_count": 27,
     "metadata": {},
     "output_type": "execute_result"
    }
   ],
   "source": [
    "a=5\n",
    "type(a)\n"
   ]
  },
  {
   "cell_type": "code",
   "execution_count": 29,
   "id": "5ffa1c16-f727-4ad0-903b-e95a48c5cb9a",
   "metadata": {},
   "outputs": [],
   "source": [
    "b=str(a)"
   ]
  },
  {
   "cell_type": "code",
   "execution_count": 15,
   "id": "3523357b-da9d-4896-a1b4-7edd73b626d7",
   "metadata": {},
   "outputs": [
    {
     "name": "stdout",
     "output_type": "stream",
     "text": [
      "5\n"
     ]
    }
   ],
   "source": [
    "print(b)"
   ]
  },
  {
   "cell_type": "code",
   "execution_count": 17,
   "id": "fc228c64-5bca-4737-b078-7ac260b80f77",
   "metadata": {},
   "outputs": [
    {
     "name": "stdout",
     "output_type": "stream",
     "text": [
      "<class 'str'>\n"
     ]
    }
   ],
   "source": [
    "c=\"2\"\n",
    "print(type(c))"
   ]
  },
  {
   "cell_type": "code",
   "execution_count": 19,
   "id": "218f6bb1-37fe-44dd-badf-de8af04fdcc9",
   "metadata": {},
   "outputs": [
    {
     "name": "stdout",
     "output_type": "stream",
     "text": [
      "52\n"
     ]
    }
   ],
   "source": [
    "print(b+c)"
   ]
  },
  {
   "cell_type": "code",
   "execution_count": 25,
   "id": "87ba1200-fbe3-471e-ad41-f5e158133fdb",
   "metadata": {},
   "outputs": [
    {
     "name": "stdout",
     "output_type": "stream",
     "text": [
      "62\n"
     ]
    }
   ],
   "source": [
    "a=\"5\"\n",
    "b=\"6\"\n",
    "print(b+c)        # str is perform concatenation\n"
   ]
  },
  {
   "cell_type": "code",
   "execution_count": 31,
   "id": "cbb3d2f1-15d0-4904-9323-0cb0730df64a",
   "metadata": {},
   "outputs": [],
   "source": [
    "a=5\n",
    "b=str(a)"
   ]
  },
  {
   "cell_type": "code",
   "execution_count": 33,
   "id": "402e7548-09dc-4622-b4ae-cd1745c9052d",
   "metadata": {},
   "outputs": [
    {
     "name": "stdout",
     "output_type": "stream",
     "text": [
      "5\n"
     ]
    }
   ],
   "source": [
    "print(b)"
   ]
  },
  {
   "cell_type": "code",
   "execution_count": 43,
   "id": "f811280e-da92-41d7-8f8c-4e4d0109aae4",
   "metadata": {},
   "outputs": [
    {
     "name": "stdout",
     "output_type": "stream",
     "text": [
      "25.32356861454\n"
     ]
    }
   ],
   "source": [
    "x=\"25.3235686\" \"1454\"\n",
    "y=str(x)\n",
    "print(y)            \n"
   ]
  },
  {
   "cell_type": "markdown",
   "id": "b84aceda-6803-444d-8faa-40028ec26c02",
   "metadata": {},
   "source": [
    "# complex function"
   ]
  },
  {
   "cell_type": "code",
   "execution_count": 54,
   "id": "8179111b-316f-4424-afa6-0fbdfd1c716a",
   "metadata": {},
   "outputs": [
    {
     "name": "stdout",
     "output_type": "stream",
     "text": [
      "(1-56j)\n"
     ]
    }
   ],
   "source": [
    "comp=complex(1,-56)\n",
    "print(comp)"
   ]
  },
  {
   "cell_type": "markdown",
   "id": "777547a4-cfcf-458f-95bb-bd1d157ee82b",
   "metadata": {},
   "source": [
    "# abs function(absolute function)"
   ]
  },
  {
   "cell_type": "code",
   "execution_count": 62,
   "id": "2fdd1713-2a98-4202-9eb6-7c20e3cf6d77",
   "metadata": {},
   "outputs": [
    {
     "name": "stdout",
     "output_type": "stream",
     "text": [
      "56\n"
     ]
    }
   ],
   "source": [
    "x=-56\n",
    "print(abs(x))"
   ]
  },
  {
   "cell_type": "code",
   "execution_count": 64,
   "id": "2431ab7c-7927-495f-8ace-1d8575b83e18",
   "metadata": {},
   "outputs": [
    {
     "ename": "SyntaxError",
     "evalue": "invalid syntax (3866151727.py, line 1)",
     "output_type": "error",
     "traceback": [
      "\u001b[1;36m  Cell \u001b[1;32mIn[64], line 1\u001b[1;36m\u001b[0m\n\u001b[1;33m    x=1'-neha'\u001b[0m\n\u001b[1;37m       ^\u001b[0m\n\u001b[1;31mSyntaxError\u001b[0m\u001b[1;31m:\u001b[0m invalid syntax\n"
     ]
    }
   ],
   "source": [
    "x=1'-neha'\n",
    "print(abs(x))"
   ]
  },
  {
   "cell_type": "code",
   "execution_count": 66,
   "id": "3752bef4-ea11-4f71-9ffb-0fb2125c1242",
   "metadata": {},
   "outputs": [
    {
     "name": "stdout",
     "output_type": "stream",
     "text": [
      "6.4031242374328485\n"
     ]
    }
   ],
   "source": [
    "z=4+5j\n",
    "print(abs(z))"
   ]
  },
  {
   "cell_type": "markdown",
   "id": "851f19f9-96dc-4ff8-8d74-aae90a27cf0f",
   "metadata": {},
   "source": [
    "# len function"
   ]
  },
  {
   "cell_type": "code",
   "execution_count": 4,
   "id": "ea3f7903-154f-4868-8da7-50f10f1a21ed",
   "metadata": {},
   "outputs": [
    {
     "name": "stdout",
     "output_type": "stream",
     "text": [
      "16\n"
     ]
    }
   ],
   "source": [
    "a=\"my name is aarti\"\n",
    "print(len(a))\n"
   ]
  },
  {
   "cell_type": "code",
   "execution_count": 6,
   "id": "b6ea5150-1966-4c41-a333-bb514ac74b37",
   "metadata": {},
   "outputs": [
    {
     "name": "stdout",
     "output_type": "stream",
     "text": [
      "6\n"
     ]
    }
   ],
   "source": [
    "a=(2,5,4,4,5,2)\n",
    "print(len(a))"
   ]
  },
  {
   "cell_type": "markdown",
   "id": "ad36eff1-0c4d-4b39-b3a2-d81df4a9281a",
   "metadata": {},
   "source": [
    "## in a game aaplications, the playre's score is strored as a floating-point number,however, for leaderboard display,you need to convert the score to an integer,how would you use the int() function to convert the players score from floating point to integer format solve this with code, splayer score =1234.20"
   ]
  },
  {
   "cell_type": "code",
   "execution_count": 10,
   "id": "a2b0f565-1ccd-4768-90f7-405d8b79f1ce",
   "metadata": {},
   "outputs": [
    {
     "name": "stdout",
     "output_type": "stream",
     "text": [
      "The player score is  1234\n"
     ]
    }
   ],
   "source": [
    "player_score=1234.20\n",
    "print(\"The player score is \",int(player_score))"
   ]
  },
  {
   "cell_type": "markdown",
   "id": "30a2d1ab-e8a5-4674-b7d0-c79ca5d6be74",
   "metadata": {},
   "source": [
    "# in costomer relationship management(CRM) systems for a retail company,you have a database containing customer records.how would you use len() function to find the total number of costomers in the database,allowing the company to track its costomer base?"
   ]
  },
  {
   "cell_type": "code",
   "execution_count": 22,
   "id": "abac967b-31d6-4174-87bd-ce0a3b43b027",
   "metadata": {},
   "outputs": [
    {
     "name": "stdout",
     "output_type": "stream",
     "text": [
      "total number of costomers in the database 3\n"
     ]
    }
   ],
   "source": [
    "costomer_database=[(1,'nikita salunkhe', 'sushant salunkhe'),\n",
    "(2,'aarti salunkhe', 'niku salunkhe'),\n",
    "(3,'salunkhe','nikita')]\n",
    "print(\"total number of costomers in the database\",len(costomer_database))\n"
   ]
  },
  {
   "cell_type": "markdown",
   "id": "3175d6a6-1caa-4542-b0f5-84e81011839f",
   "metadata": {},
   "source": [
    "# You are developing a finantial application that calculates simple interest.\n",
    "# the principal abount is 250000 rs, the interest rate is 9.34465%,and the time period is 3 years.calculate the simple interest (SI),and the final value should be an integer."
   ]
  },
  {
   "cell_type": "code",
   "execution_count": 26,
   "id": "6ea9707c-23e1-4df3-a56b-931f007604b7",
   "metadata": {},
   "outputs": [
    {
     "name": "stdout",
     "output_type": "stream",
     "text": [
      "simple ineterst is 70084\n"
     ]
    }
   ],
   "source": [
    "p=250000\n",
    "r=9.34465\n",
    "t=3\n",
    "SI=p*r*t/100\n",
    "print(\"simple ineterst is\",int(SI))\n"
   ]
  },
  {
   "cell_type": "markdown",
   "id": "e67145f9-574f-4dd9-8000-5a588d4b900c",
   "metadata": {},
   "source": [
    "# You are working at a travel company,responsible for managing passenger information.due to a technical glitch in the booking system,some passengers'ages were mistakenly recorded as negetive values.however,age cannot be negetive,and its essential to correct this data inconsistency before further analysis or reporting.\n",
    "# which function you will use to correct the ages of all passengers in the dataset where negetive ages were recorded due to a technical glitch?"
   ]
  },
  {
   "cell_type": "code",
   "execution_count": 40,
   "id": "b049f4f8-5d41-4f88-ae22-d0af10de972f",
   "metadata": {},
   "outputs": [
    {
     "name": "stdout",
     "output_type": "stream",
     "text": [
      "the passangers total record  2594\n"
     ]
    }
   ],
   "source": [
    "total_passengers=-2594\n",
    "print(\"the passangers total record \",abs(total_passengers))\n",
    "      \n"
   ]
  },
  {
   "cell_type": "code",
   "execution_count": null,
   "id": "61bb3ed9-5db5-4d69-8ddb-fdb1d0cb4e6f",
   "metadata": {},
   "outputs": [],
   "source": []
  }
 ],
 "metadata": {
  "kernelspec": {
   "display_name": "Python 3 (ipykernel)",
   "language": "python",
   "name": "python3"
  },
  "language_info": {
   "codemirror_mode": {
    "name": "ipython",
    "version": 3
   },
   "file_extension": ".py",
   "mimetype": "text/x-python",
   "name": "python",
   "nbconvert_exporter": "python",
   "pygments_lexer": "ipython3",
   "version": "3.12.4"
  }
 },
 "nbformat": 4,
 "nbformat_minor": 5
}
