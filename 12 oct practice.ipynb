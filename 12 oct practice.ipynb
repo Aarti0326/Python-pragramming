{
 "cells": [
  {
   "cell_type": "markdown",
   "id": "9f6581a7-ee67-4f12-9dee-3dd936584a6d",
   "metadata": {},
   "source": [
    "### 1) Union of Two Sets"
   ]
  },
  {
   "cell_type": "code",
   "execution_count": 1,
   "id": "fe83635c-95f9-433e-8c2e-a395d2619390",
   "metadata": {},
   "outputs": [
    {
     "name": "stdout",
     "output_type": "stream",
     "text": [
      "Union: {1, 2, 3, 4, 5}\n"
     ]
    }
   ],
   "source": [
    "A = {1, 2, 3}\n",
    "B = {3, 4, 5}\n",
    "\n",
    "# Union of A and B\n",
    "print(\"Union:\", A | B)  \n"
   ]
  },
  {
   "cell_type": "markdown",
   "id": "e0a2a5c8-16f1-4ece-978e-b613ccf565da",
   "metadata": {},
   "source": [
    "### 2. Intersection of Two Sets"
   ]
  },
  {
   "cell_type": "code",
   "execution_count": 4,
   "id": "b26975eb-2257-4d1b-9529-ebfcdf52bd44",
   "metadata": {},
   "outputs": [
    {
     "name": "stdout",
     "output_type": "stream",
     "text": [
      "Intersection: {2, 3}\n"
     ]
    }
   ],
   "source": [
    "A = {1, 2, 3}\n",
    "B = {2, 3, 4}\n",
    "\n",
    "# Intersection of A and B\n",
    "print(\"Intersection:\", A & B)  "
   ]
  },
  {
   "cell_type": "markdown",
   "id": "a55ee2b4-be26-4354-b5f9-3e7ceb245b7e",
   "metadata": {},
   "source": [
    "### 3. Difference of Two Sets"
   ]
  },
  {
   "cell_type": "code",
   "execution_count": 7,
   "id": "6b1f9e86-0b8d-45d0-bda9-26459b43dec7",
   "metadata": {},
   "outputs": [
    {
     "name": "stdout",
     "output_type": "stream",
     "text": [
      "Difference (A - B): {1, 4}\n"
     ]
    }
   ],
   "source": [
    "A = {1, 2, 3, 4}\n",
    "B = {2, 3}\n",
    "\n",
    "# Difference: Elements in A but not in B\n",
    "print(\"Difference (A - B):\", A - B)  "
   ]
  },
  {
   "cell_type": "markdown",
   "id": "fd8de09f-c447-46dd-ab4b-869b51dedd3b",
   "metadata": {},
   "source": [
    "### 4. Symmetric Difference of Two Sets"
   ]
  },
  {
   "cell_type": "code",
   "execution_count": 10,
   "id": "e41b9104-5533-4d5a-bfa5-2f3f1147d7db",
   "metadata": {},
   "outputs": [
    {
     "name": "stdout",
     "output_type": "stream",
     "text": [
      "Symmetric Difference: {1, 3, 4, 5}\n"
     ]
    }
   ],
   "source": [
    "A = {1, 2, 3}\n",
    "B = {2, 4, 5}\n",
    "\n",
    "# Symmetric Difference: Elements in either A or B, but not both\n",
    "print(\"Symmetric Difference:\", A ^ B) "
   ]
  },
  {
   "cell_type": "markdown",
   "id": "db2a05f1-cd45-4814-ab9b-80b3297a29bb",
   "metadata": {},
   "source": [
    "### 5. Check if a Set is a Subset of Another"
   ]
  },
  {
   "cell_type": "code",
   "execution_count": 13,
   "id": "097dbab0-f364-4a3e-8ff1-cbe92c46725a",
   "metadata": {},
   "outputs": [
    {
     "name": "stdout",
     "output_type": "stream",
     "text": [
      "A is subset of B: True\n"
     ]
    }
   ],
   "source": [
    "A = {1, 2}\n",
    "B = {1, 2, 3, 4}\n",
    "\n",
    "# Check if A is a subset of B\n",
    "print(\"A is subset of B:\", A <= B)  "
   ]
  },
  {
   "cell_type": "code",
   "execution_count": null,
   "id": "652c03f3-212a-4759-8590-c16398e669be",
   "metadata": {},
   "outputs": [],
   "source": []
  }
 ],
 "metadata": {
  "kernelspec": {
   "display_name": "Python 3 (ipykernel)",
   "language": "python",
   "name": "python3"
  },
  "language_info": {
   "codemirror_mode": {
    "name": "ipython",
    "version": 3
   },
   "file_extension": ".py",
   "mimetype": "text/x-python",
   "name": "python",
   "nbconvert_exporter": "python",
   "pygments_lexer": "ipython3",
   "version": "3.12.4"
  }
 },
 "nbformat": 4,
 "nbformat_minor": 5
}
