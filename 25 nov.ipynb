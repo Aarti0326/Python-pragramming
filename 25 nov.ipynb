{
 "cells": [
  {
   "cell_type": "markdown",
   "id": "30f89d9a-5f68-4f61-9912-acad35e0ab45",
   "metadata": {},
   "source": [
    "## What is Object-Oriented Programming (OOP)?"
   ]
  },
  {
   "cell_type": "markdown",
   "id": "5128ea69-b553-4791-bccf-d8bb9e274d33",
   "metadata": {},
   "source": [
    "### OOP is a programming paradigm that uses objects to represent real-world entities. It helps to organize code using concepts like classes, objects, inheritance, encapsulation, polymorphism, and abstraction."
   ]
  },
  {
   "cell_type": "markdown",
   "id": "e9557fee-a5da-4a52-b213-b8f36672e8f2",
   "metadata": {},
   "source": [
    "## What are classes and objects?"
   ]
  },
  {
   "cell_type": "markdown",
   "id": "c29bbb16-fb46-4c6f-8353-4fa3033bb74b",
   "metadata": {},
   "source": [
    "### A class is a blueprint for creating objects. It defines properties (attributes) and behaviors (methods).\n",
    "### An object is an instance of a class."
   ]
  },
  {
   "cell_type": "code",
   "execution_count": 10,
   "id": "26f29ec1-8e99-446f-8637-fb2eca6686ba",
   "metadata": {},
   "outputs": [
    {
     "name": "stdout",
     "output_type": "stream",
     "text": [
      "Red Toyota is starting.\n"
     ]
    }
   ],
   "source": [
    "class Car:  # Class\n",
    "    def __init__(self, brand, color):\n",
    "        self.brand = brand  # Attribute\n",
    "        self.color = color\n",
    "\n",
    "    def start(self):  # Method\n",
    "        print(f\"{self.color} {self.brand} is starting.\")\n",
    "\n",
    "my_car = Car(\"Toyota\", \"Red\")  # Object\n",
    "my_car.start()  # Output: Red Toyota is starting.\n"
   ]
  },
  {
   "cell_type": "code",
   "execution_count": null,
   "id": "a0281cdc-41d9-4b7f-b6db-f7c06021cc06",
   "metadata": {},
   "outputs": [],
   "source": []
  }
 ],
 "metadata": {
  "kernelspec": {
   "display_name": "Python 3 (ipykernel)",
   "language": "python",
   "name": "python3"
  },
  "language_info": {
   "codemirror_mode": {
    "name": "ipython",
    "version": 3
   },
   "file_extension": ".py",
   "mimetype": "text/x-python",
   "name": "python",
   "nbconvert_exporter": "python",
   "pygments_lexer": "ipython3",
   "version": "3.12.4"
  }
 },
 "nbformat": 4,
 "nbformat_minor": 5
}
