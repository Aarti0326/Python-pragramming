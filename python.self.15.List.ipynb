{
 "cells": [
  {
   "cell_type": "markdown",
   "id": "9cb1aa15-ee85-40ca-8179-fda3697b42df",
   "metadata": {},
   "source": [
    "## List"
   ]
  },
  {
   "cell_type": "markdown",
   "id": "9241936e-6515-4dda-8d93-0a0ee300c3ee",
   "metadata": {},
   "source": [
    "#### creating a list"
   ]
  },
  {
   "cell_type": "code",
   "execution_count": 4,
   "id": "e10907b0-6a69-483f-bd96-ecf2016bcae1",
   "metadata": {},
   "outputs": [],
   "source": [
    "my_list = [\"a\",\"b\",\"c\"]"
   ]
  },
  {
   "cell_type": "code",
   "execution_count": 6,
   "id": "570b57e3-48a7-42c1-8949-d02a0a6ec556",
   "metadata": {},
   "outputs": [
    {
     "name": "stdout",
     "output_type": "stream",
     "text": [
      "<class 'list'>\n"
     ]
    }
   ],
   "source": [
    "print(type(my_list))"
   ]
  },
  {
   "cell_type": "code",
   "execution_count": 8,
   "id": "ea4d1090-ed63-498b-954e-db93699df37e",
   "metadata": {},
   "outputs": [
    {
     "name": "stdout",
     "output_type": "stream",
     "text": [
      "['a', 'b', 'c']\n"
     ]
    }
   ],
   "source": [
    "print(my_list)"
   ]
  },
  {
   "cell_type": "code",
   "execution_count": 14,
   "id": "c929c3a0-e9de-4cd2-8613-6589b120630a",
   "metadata": {},
   "outputs": [
    {
     "name": "stdout",
     "output_type": "stream",
     "text": [
      "cherry\n"
     ]
    }
   ],
   "source": [
    "fruits=['mango','orange','cherry']\n",
    "print(fruits[-1])"
   ]
  },
  {
   "cell_type": "code",
   "execution_count": 18,
   "id": "361044ec-f8b8-47eb-950c-97e4d5a8d06e",
   "metadata": {},
   "outputs": [
    {
     "name": "stdout",
     "output_type": "stream",
     "text": [
      "2.3\n"
     ]
    }
   ],
   "source": [
    "mixed_list = [1,'hello',2.3,[1,2,3]]\n",
    "print(mixed_list[2])"
   ]
  },
  {
   "cell_type": "markdown",
   "id": "801bcfa7-b582-4f1a-a1d8-0a33f4bf7385",
   "metadata": {},
   "source": [
    "#### data types"
   ]
  },
  {
   "cell_type": "code",
   "execution_count": 21,
   "id": "8a3b8c62-5f8a-4e70-8acf-284266befb6d",
   "metadata": {},
   "outputs": [],
   "source": [
    "list1 = ['apple','banana']\n",
    "list2 = [2.5,6.4]\n",
    "list3 = [True,False]"
   ]
  },
  {
   "cell_type": "code",
   "execution_count": 23,
   "id": "f75ccc99-8f5a-420a-b355-a3078106be5d",
   "metadata": {},
   "outputs": [
    {
     "name": "stdout",
     "output_type": "stream",
     "text": [
      "[True, False]\n"
     ]
    }
   ],
   "source": [
    "print(list3)"
   ]
  },
  {
   "cell_type": "markdown",
   "id": "c44abc89-657e-49f9-b8ca-4e0184cda9cb",
   "metadata": {},
   "source": [
    "### indexed"
   ]
  },
  {
   "cell_type": "code",
   "execution_count": 26,
   "id": "63291bf6-b5f2-4796-ba30-efa82f16f247",
   "metadata": {},
   "outputs": [
    {
     "name": "stdout",
     "output_type": "stream",
     "text": [
      "fish\n"
     ]
    }
   ],
   "source": [
    "animals = ['cat','dog','cow','fish']\n",
    "print(animals[-1])"
   ]
  },
  {
   "cell_type": "code",
   "execution_count": 28,
   "id": "6d7a458b-398c-4493-8859-5d35d3a1cb89",
   "metadata": {},
   "outputs": [
    {
     "name": "stdout",
     "output_type": "stream",
     "text": [
      "cat\n"
     ]
    }
   ],
   "source": [
    "print(animals[0])"
   ]
  },
  {
   "cell_type": "markdown",
   "id": "2814ab35-3793-449e-a7d4-d76a76ca7d94",
   "metadata": {},
   "source": [
    "### slicing"
   ]
  },
  {
   "cell_type": "code",
   "execution_count": 35,
   "id": "61c449cf-3d18-4e33-8c83-610274e268b3",
   "metadata": {},
   "outputs": [
    {
     "name": "stdout",
     "output_type": "stream",
     "text": [
      "[12, 45]\n"
     ]
    }
   ],
   "source": [
    "numbers = [12,45,86,78,89,147,36,]\n",
    "print(numbers[0:2])"
   ]
  },
  {
   "cell_type": "code",
   "execution_count": 47,
   "id": "269b6aea-a44a-4996-90a0-9c9ea440ae56",
   "metadata": {},
   "outputs": [
    {
     "name": "stdout",
     "output_type": "stream",
     "text": [
      "[12, 45, 86, 78, 89, 147, 36]\n"
     ]
    }
   ],
   "source": [
    "print(numbers[:])"
   ]
  },
  {
   "cell_type": "code",
   "execution_count": 56,
   "id": "6581ec22-d8b4-492b-8d1b-ba0bd2eb992a",
   "metadata": {},
   "outputs": [
    {
     "name": "stdout",
     "output_type": "stream",
     "text": [
      "[12, 45, 86, 78]\n"
     ]
    }
   ],
   "source": [
    "print(numbers[0:4])"
   ]
  },
  {
   "cell_type": "markdown",
   "id": "706f91a0-089a-4f82-9e07-3e07f99fd075",
   "metadata": {},
   "source": [
    "num"
   ]
  },
  {
   "cell_type": "markdown",
   "id": "32628b1e-41a0-48f9-9c41-a69284d8fd2b",
   "metadata": {},
   "source": [
    "### indexing with step"
   ]
  },
  {
   "cell_type": "code",
   "execution_count": 58,
   "id": "3c0f9f15-3161-4b48-b1b8-d0ac6dafeca5",
   "metadata": {},
   "outputs": [
    {
     "name": "stdout",
     "output_type": "stream",
     "text": [
      "[2, 5, 8, 5.3, 4, 6, 8, 7]\n"
     ]
    }
   ],
   "source": [
    "numbers2 = [2,5,8,5.3,4,6,8,7]\n",
    "print(numbers2[::1])"
   ]
  },
  {
   "cell_type": "code",
   "execution_count": 60,
   "id": "b7c03150-cd48-4217-9af3-dbd2055ba9ef",
   "metadata": {},
   "outputs": [
    {
     "name": "stdout",
     "output_type": "stream",
     "text": [
      "[2, 8, 4, 8]\n"
     ]
    }
   ],
   "source": [
    "numbers2 = [2,5,8,5.3,4,6,8,7]\n",
    "print(numbers2[::2])"
   ]
  },
  {
   "cell_type": "code",
   "execution_count": 64,
   "id": "cbf8c4ad-278c-4d70-8a06-ac69b299ea65",
   "metadata": {},
   "outputs": [
    {
     "name": "stdout",
     "output_type": "stream",
     "text": [
      "[7, 6, 5.3, 5]\n"
     ]
    }
   ],
   "source": [
    "numbers2 = [2,5,8,5.3,4,6,8,7]\n",
    "print(numbers2[::-2])"
   ]
  },
  {
   "cell_type": "code",
   "execution_count": 74,
   "id": "275cca52-cb82-40cd-9609-6cf349bddd2b",
   "metadata": {},
   "outputs": [
    {
     "name": "stdout",
     "output_type": "stream",
     "text": [
      "[5.3, 8]\n"
     ]
    }
   ],
   "source": [
    "numbers2 = [2,5,8,5.3,4,6,8,7]\n",
    "print(numbers2[3::3])"
   ]
  },
  {
   "cell_type": "markdown",
   "id": "82d41223-1b6d-485b-9d99-8d1abf3e3768",
   "metadata": {},
   "source": [
    "### given the list scores = [ 55, 6, 88, 9, 77, 1, 3, 5,4 ,76],write a python expressions to create a new list that contains only the scores that are above 70"
   ]
  },
  {
   "cell_type": "code",
   "execution_count": 7,
   "id": "3d7dcdf9-2975-4092-aba8-ec588c2f606a",
   "metadata": {},
   "outputs": [
    {
     "name": "stdout",
     "output_type": "stream",
     "text": [
      "[88, 77, 74]\n"
     ]
    }
   ],
   "source": [
    "scores = [ 55, 6, 88, 9, 77, 1, 3, 5,4 ,74]\n",
    "\n",
    "high_score = []\n",
    "for score in scores:\n",
    "    if score>70:\n",
    "        high_score.append(score)\n",
    "    else:\n",
    "        pass\n",
    "print(high_score)"
   ]
  },
  {
   "cell_type": "markdown",
   "id": "7fd22cdc-e207-4b7c-b4fb-3ee09f1d4c86",
   "metadata": {},
   "source": [
    "### given the list data = [ 5, 5, 8, 7, 9, 3, 1, 2, 41, 75 ] write python expresions to get the sum of first five elements and another expression to reverse the entire list.\n",
    "\n"
   ]
  },
  {
   "cell_type": "code",
   "execution_count": 1,
   "id": "ff6a3ca8-2e0e-4f8d-a368-342d8502f117",
   "metadata": {},
   "outputs": [
    {
     "name": "stdout",
     "output_type": "stream",
     "text": [
      "the sum of first five item is 34\n"
     ]
    }
   ],
   "source": [
    "data = [ 5, 5, 8, 7, 9, 3, 1, 2, 41, 75 ]  \n",
    "\n",
    "sum_first_five = sum(data[:5])\n",
    "print(\"the sum of first five item is\",sum_first_five)"
   ]
  },
  {
   "cell_type": "code",
   "execution_count": 11,
   "id": "38896c3a-a10e-4113-a1e6-b28f4b7599d8",
   "metadata": {},
   "outputs": [
    {
     "name": "stdout",
     "output_type": "stream",
     "text": [
      "the reverse string is [75, 41, 2, 1, 3, 9, 7, 8, 5, 5]\n"
     ]
    }
   ],
   "source": [
    "reverse = data[::-1]\n",
    "print(\"the reverse string is\",reverse)"
   ]
  },
  {
   "cell_type": "markdown",
   "id": "34159f27-09ce-4871-9ab5-f3d731f1b610",
   "metadata": {},
   "source": [
    "### given the list numbers = [1, 2 ,3 ,4 ,5 ,6 ,7 ,8 ,9 ,10] write python expressions to:\n",
    "### create a new list with the first half and the second half swapped . print the sum of the last three elements.\n",
    "\n",
    "input - numbers = [1, 2 ,3 ,4 ,5 ,6 ,7 ,8 ,9 ,10]\n",
    "\n",
    "output - \n",
    "\n",
    "#### [6,7,8,9,10,1,2,3,4,5]\n",
    "#### 27"
   ]
  },
  {
   "cell_type": "code",
   "execution_count": 16,
   "id": "d7b0c1d4-139c-47f2-87dd-06ecc6fa91ad",
   "metadata": {},
   "outputs": [
    {
     "name": "stdout",
     "output_type": "stream",
     "text": [
      "[6, 7, 8, 9, 10, 1, 2, 3, 4, 5]\n"
     ]
    }
   ],
   "source": [
    "#the first half and the second half swapped \n",
    "numbers = [1, 2 ,3 ,4 ,5 ,6 ,7 ,8 ,9 ,10]\n",
    "a = numbers[5:]\n",
    "b = numbers[:5]\n",
    "print(a+b)"
   ]
  },
  {
   "cell_type": "code",
   "execution_count": 29,
   "id": "1597e887-e140-4e19-9ba6-93bcec421f60",
   "metadata": {},
   "outputs": [
    {
     "name": "stdout",
     "output_type": "stream",
     "text": [
      "sum of last three is 27\n"
     ]
    }
   ],
   "source": [
    "#sum of the last three elements\n",
    "sum_last_three = sum(numbers[-3:])\n",
    "print(\"sum of last three is\",sum_last_three)"
   ]
  },
  {
   "cell_type": "code",
   "execution_count": 37,
   "id": "14eb94b0-d4d9-4672-ba9f-bbe9e8eb4175",
   "metadata": {},
   "outputs": [
    {
     "name": "stdout",
     "output_type": "stream",
     "text": [
      "[3, 4]\n"
     ]
    }
   ],
   "source": [
    "numbers = [1,2,3,4,5]\n",
    "new_numbers = numbers[2:4]\n",
    "print(new_numbers)"
   ]
  },
  {
   "cell_type": "code",
   "execution_count": null,
   "id": "0627951b-c55e-4d2d-8ecd-9bf315bf2049",
   "metadata": {},
   "outputs": [],
   "source": []
  }
 ],
 "metadata": {
  "kernelspec": {
   "display_name": "Python 3 (ipykernel)",
   "language": "python",
   "name": "python3"
  },
  "language_info": {
   "codemirror_mode": {
    "name": "ipython",
    "version": 3
   },
   "file_extension": ".py",
   "mimetype": "text/x-python",
   "name": "python",
   "nbconvert_exporter": "python",
   "pygments_lexer": "ipython3",
   "version": "3.12.4"
  }
 },
 "nbformat": 4,
 "nbformat_minor": 5
}
