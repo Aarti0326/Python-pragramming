{
 "cells": [
  {
   "cell_type": "markdown",
   "id": "439e37e0-2396-4056-8e4c-0c5844a93e46",
   "metadata": {},
   "source": [
    "### How do you count how many times a specific character appears in a string?"
   ]
  },
  {
   "cell_type": "code",
   "execution_count": 19,
   "id": "8302de0c-88c8-4756-9c8d-a2ce16490611",
   "metadata": {},
   "outputs": [
    {
     "name": "stdout",
     "output_type": "stream",
     "text": [
      "2\n"
     ]
    }
   ],
   "source": [
    "def count_character(s,char):\n",
    "    return s.count(char)\n",
    "print(count_character(\"hello world\",\"o\"))"
   ]
  },
  {
   "cell_type": "markdown",
   "id": "bba97ec2-3ef5-4bf2-8119-8b129fe88cbf",
   "metadata": {},
   "source": [
    "### How can you find the index of the first occurrence of a substring?"
   ]
  },
  {
   "cell_type": "code",
   "execution_count": 26,
   "id": "22defc03-cb5a-4938-a34c-65b1bd1fe3ff",
   "metadata": {},
   "outputs": [
    {
     "name": "stdout",
     "output_type": "stream",
     "text": [
      "5\n"
     ]
    }
   ],
   "source": [
    "def find_first_occurence(s,substring):\n",
    "    return s.find(substring)\n",
    "print(find_first_occurence(\"name operator\",\"o\"))"
   ]
  },
  {
   "cell_type": "markdown",
   "id": "804079bc-16a4-40bd-87f4-6993e17276ce",
   "metadata": {},
   "source": [
    "### How do you remove leading and trailing whitespace from a string?"
   ]
  },
  {
   "cell_type": "code",
   "execution_count": 57,
   "id": "ce036c4f-b194-44aa-a6dd-5ff76b531140",
   "metadata": {},
   "outputs": [],
   "source": [
    "def trim_string(s):\n",
    "    return s.strip()\n",
    "    "
   ]
  },
  {
   "cell_type": "code",
   "execution_count": 59,
   "id": "c14248e2-d9ff-4cfe-b82f-3bf498688bed",
   "metadata": {},
   "outputs": [
    {
     "data": {
      "text/plain": [
       "'hello'"
      ]
     },
     "execution_count": 59,
     "metadata": {},
     "output_type": "execute_result"
    }
   ],
   "source": [
    "trim_string(\"  hello  \")"
   ]
  },
  {
   "cell_type": "markdown",
   "id": "38150645-5237-4a18-869d-d7e32c12de93",
   "metadata": {},
   "source": [
    "### How can you convert a string into a list of its characters?"
   ]
  },
  {
   "cell_type": "code",
   "execution_count": 65,
   "id": "66eddbf3-3053-4fdb-8091-036cbf121a1f",
   "metadata": {},
   "outputs": [
    {
     "name": "stdout",
     "output_type": "stream",
     "text": [
      "['n', 'a', 'm', 'e']\n"
     ]
    }
   ],
   "source": [
    "def string_to_list(s):\n",
    "    return list(s)\n",
    "\n",
    "print(string_to_list(\"name\"))"
   ]
  },
  {
   "cell_type": "markdown",
   "id": "3f1274b3-5767-49fe-9ff1-dad453e438b7",
   "metadata": {},
   "source": [
    "### How do you capitalize the first letter of each word in a string?"
   ]
  },
  {
   "cell_type": "code",
   "execution_count": 69,
   "id": "eb67dafa-b8f6-403f-99ce-18f0d96daf17",
   "metadata": {},
   "outputs": [
    {
     "name": "stdout",
     "output_type": "stream",
     "text": [
      "Hello World\n"
     ]
    }
   ],
   "source": [
    "def capitalize_words(s):\n",
    "    return s.title()\n",
    "\n",
    "print(capitalize_words(\"hello world\"))"
   ]
  },
  {
   "cell_type": "markdown",
   "id": "0d54dc59-8234-49e6-a770-722b9f49932c",
   "metadata": {},
   "source": [
    "### How can you check if a string ends with a specific substring?"
   ]
  },
  {
   "cell_type": "code",
   "execution_count": 92,
   "id": "1870ce0c-c09e-4d43-8b1d-302501e386f1",
   "metadata": {},
   "outputs": [
    {
     "name": "stdout",
     "output_type": "stream",
     "text": [
      "False\n"
     ]
    }
   ],
   "source": [
    "def ends_with(s,suffix):\n",
    "    return s.endswith(suffix)\n",
    "\n",
    "print(ends_with(\"hello world \",\"hello\"))"
   ]
  },
  {
   "cell_type": "code",
   "execution_count": null,
   "id": "72cec57f-b82e-4050-afdc-59b4cae0cb20",
   "metadata": {},
   "outputs": [],
   "source": []
  }
 ],
 "metadata": {
  "kernelspec": {
   "display_name": "Python 3 (ipykernel)",
   "language": "python",
   "name": "python3"
  },
  "language_info": {
   "codemirror_mode": {
    "name": "ipython",
    "version": 3
   },
   "file_extension": ".py",
   "mimetype": "text/x-python",
   "name": "python",
   "nbconvert_exporter": "python",
   "pygments_lexer": "ipython3",
   "version": "3.12.4"
  }
 },
 "nbformat": 4,
 "nbformat_minor": 5
}
