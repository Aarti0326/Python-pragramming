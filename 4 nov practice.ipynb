{
 "cells": [
  {
   "cell_type": "markdown",
   "id": "78b166b2-b23b-4555-86b3-964a669389d5",
   "metadata": {},
   "source": [
    "## `Print numbers from 1 to 10 using a while loop."
   ]
  },
  {
   "cell_type": "code",
   "execution_count": 2,
   "id": "2c55e4b0-ee00-4d84-bef6-87ce15e8ee81",
   "metadata": {},
   "outputs": [
    {
     "name": "stdout",
     "output_type": "stream",
     "text": [
      "1\n",
      "2\n",
      "3\n",
      "4\n",
      "5\n",
      "6\n",
      "7\n",
      "8\n",
      "9\n",
      "10\n"
     ]
    }
   ],
   "source": [
    "i = 1\n",
    "while i <= 10:\n",
    "    print(i)\n",
    "    i += 1\n"
   ]
  },
  {
   "cell_type": "markdown",
   "id": "0e2de4d2-fe40-4812-9711-f0f325ae7d0c",
   "metadata": {},
   "source": [
    "## Calculate the sum of numbers from 1 to 100 using a while loop."
   ]
  },
  {
   "cell_type": "code",
   "execution_count": 5,
   "id": "67045ffd-38ae-4f57-8b35-5bc13a51e69f",
   "metadata": {},
   "outputs": [
    {
     "name": "stdout",
     "output_type": "stream",
     "text": [
      "5050\n"
     ]
    }
   ],
   "source": [
    "i = 1\n",
    "total_sum = 0\n",
    "while i<=100:\n",
    "    total_sum+=i\n",
    "    i+=1\n",
    "print(total_sum)"
   ]
  },
  {
   "cell_type": "markdown",
   "id": "e5833f48-acfd-437e-89e4-672d9f738b4d",
   "metadata": {},
   "source": [
    "## Find the factorial of a given number using a while loop."
   ]
  },
  {
   "cell_type": "code",
   "execution_count": 8,
   "id": "9681b1bf-4270-427a-9d57-002a879be11e",
   "metadata": {},
   "outputs": [
    {
     "name": "stdout",
     "output_type": "stream",
     "text": [
      "120\n"
     ]
    }
   ],
   "source": [
    "num = 5\n",
    "factorial = 1\n",
    "while num>0:\n",
    "    factorial *=num\n",
    "    num-=1\n",
    "print(factorial)"
   ]
  },
  {
   "cell_type": "markdown",
   "id": "3631bb2c-58a8-4c97-8aca-5579f7a62747",
   "metadata": {},
   "source": [
    "## Print all even numbers between 1 and 20 using a while loop."
   ]
  },
  {
   "cell_type": "code",
   "execution_count": 11,
   "id": "9c9dc24d-93f0-4bd7-8cdf-033fdd7881ea",
   "metadata": {},
   "outputs": [
    {
     "name": "stdout",
     "output_type": "stream",
     "text": [
      "2\n",
      "4\n",
      "6\n",
      "8\n",
      "10\n",
      "12\n",
      "14\n",
      "16\n",
      "18\n",
      "20\n"
     ]
    }
   ],
   "source": [
    "i = 1\n",
    "while i<=20:\n",
    "    if i%2==0:\n",
    "        print(i)\n",
    "    i+=1"
   ]
  }
 ],
 "metadata": {
  "kernelspec": {
   "display_name": "Python 3 (ipykernel)",
   "language": "python",
   "name": "python3"
  },
  "language_info": {
   "codemirror_mode": {
    "name": "ipython",
    "version": 3
   },
   "file_extension": ".py",
   "mimetype": "text/x-python",
   "name": "python",
   "nbconvert_exporter": "python",
   "pygments_lexer": "ipython3",
   "version": "3.12.4"
  }
 },
 "nbformat": 4,
 "nbformat_minor": 5
}
