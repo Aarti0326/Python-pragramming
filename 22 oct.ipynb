{
 "cells": [
  {
   "cell_type": "markdown",
   "id": "8a34c777-ec8e-461c-ba60-bdf53536ca1f",
   "metadata": {},
   "source": [
    "## Identify duplicates in a list."
   ]
  },
  {
   "cell_type": "code",
   "execution_count": 6,
   "id": "541952e1-cb36-4427-96d7-15e6bb559f98",
   "metadata": {},
   "outputs": [
    {
     "name": "stdout",
     "output_type": "stream",
     "text": [
      "[2, 4]\n"
     ]
    }
   ],
   "source": [
    "def find_duplicates(lst):\n",
    "    return [x for x in set(lst) if lst.count(x) > 1]\n",
    "\n",
    "print(find_duplicates([1, 2, 2, 3, 4, 4, 5]))  \n"
   ]
  },
  {
   "cell_type": "markdown",
   "id": "db64dcd7-1fb1-4acf-9492-929cae627fb9",
   "metadata": {},
   "source": [
    "## Convert a binary number to decimal."
   ]
  },
  {
   "cell_type": "code",
   "execution_count": 9,
   "id": "3b77fef8-78db-46fd-bd39-6126c5cdaebb",
   "metadata": {},
   "outputs": [
    {
     "name": "stdout",
     "output_type": "stream",
     "text": [
      "13\n"
     ]
    }
   ],
   "source": [
    "binary = \"1101\"\n",
    "decimal = int(binary, 2)\n",
    "print(decimal) \n"
   ]
  }
 ],
 "metadata": {
  "kernelspec": {
   "display_name": "Python 3 (ipykernel)",
   "language": "python",
   "name": "python3"
  },
  "language_info": {
   "codemirror_mode": {
    "name": "ipython",
    "version": 3
   },
   "file_extension": ".py",
   "mimetype": "text/x-python",
   "name": "python",
   "nbconvert_exporter": "python",
   "pygments_lexer": "ipython3",
   "version": "3.12.4"
  }
 },
 "nbformat": 4,
 "nbformat_minor": 5
}
