{
 "cells": [
  {
   "cell_type": "markdown",
   "id": "bee47241-479b-48f7-92ea-ed5ceff836f6",
   "metadata": {},
   "source": [
    "### 1) Question: Ask the user for their name and greet them."
   ]
  },
  {
   "cell_type": "code",
   "execution_count": 2,
   "id": "1a8b4b9d-1309-417c-809c-3f8da061ba8a",
   "metadata": {},
   "outputs": [
    {
     "name": "stdin",
     "output_type": "stream",
     "text": [
      "Enter your name : nikita\n"
     ]
    },
    {
     "name": "stdout",
     "output_type": "stream",
     "text": [
      "hello, nikita !\n"
     ]
    }
   ],
   "source": [
    "name = input(\"Enter your name :\")\n",
    "print(\"hello,\", name, \"!\")"
   ]
  },
  {
   "cell_type": "markdown",
   "id": "51e0de52-a24e-494f-a89e-816875032a4d",
   "metadata": {},
   "source": [
    "### 2) Take the user's age as input and print it."
   ]
  },
  {
   "cell_type": "code",
   "execution_count": 4,
   "id": "0c579cc7-b76e-4c52-9719-4f2d5df69358",
   "metadata": {},
   "outputs": [
    {
     "name": "stdin",
     "output_type": "stream",
     "text": [
      "Enter your age:  18\n"
     ]
    },
    {
     "name": "stdout",
     "output_type": "stream",
     "text": [
      "you are 18 years old\n"
     ]
    }
   ],
   "source": [
    "age = input(\"Enter your age: \")\n",
    "print(\"you are\",age,\"years old\")"
   ]
  },
  {
   "cell_type": "markdown",
   "id": "e44ae721-2791-43ec-b07d-02ebf2213aca",
   "metadata": {},
   "source": [
    "### 3) Calculate the area of a rectangle given its length and width."
   ]
  },
  {
   "cell_type": "code",
   "execution_count": 6,
   "id": "80879621-9c26-4e2c-8ff8-d7458ea12e64",
   "metadata": {},
   "outputs": [
    {
     "name": "stdin",
     "output_type": "stream",
     "text": [
      "Enter length:  6\n",
      "Enter width:  3\n"
     ]
    },
    {
     "name": "stdout",
     "output_type": "stream",
     "text": [
      "Area of rectangle: 18.0\n"
     ]
    }
   ],
   "source": [
    "length = float(input(\"Enter length: \"))\n",
    "width = float(input(\"Enter width: \"))\n",
    "area = length * width\n",
    "print(\"Area of rectangle:\", area)"
   ]
  },
  {
   "cell_type": "markdown",
   "id": "8196eca9-847d-4459-9568-01ef4e2367fc",
   "metadata": {},
   "source": [
    "### 4) Temperature Conversion"
   ]
  },
  {
   "cell_type": "code",
   "execution_count": 8,
   "id": "b6ba6a83-a712-47ee-b382-d4bac1487fb5",
   "metadata": {},
   "outputs": [
    {
     "name": "stdin",
     "output_type": "stream",
     "text": [
      "enter temperature in celsius : 30\n"
     ]
    },
    {
     "name": "stdout",
     "output_type": "stream",
     "text": [
      "Temperature in Fahrenheit: 86.0\n"
     ]
    }
   ],
   "source": [
    "celsius = float(input(\"enter temperature in celsius :\"))\n",
    "fahrenheit = (celsius * 9/5)+32\n",
    "print(\"Temperature in Fahrenheit:\", fahrenheit)"
   ]
  },
  {
   "cell_type": "markdown",
   "id": "bfc58737-dc4c-4728-aff1-f371cebe2587",
   "metadata": {},
   "source": [
    "### 5) Determine if a number entered by the user is odd or even."
   ]
  },
  {
   "cell_type": "code",
   "execution_count": 10,
   "id": "ca6b2a7f-b374-4b2f-8571-8a3838b6cac1",
   "metadata": {},
   "outputs": [
    {
     "name": "stdin",
     "output_type": "stream",
     "text": [
      "Enter a number:  -9\n"
     ]
    },
    {
     "name": "stdout",
     "output_type": "stream",
     "text": [
      "-9 is odd.\n"
     ]
    }
   ],
   "source": [
    "number = int(input(\"Enter a number: \"))\n",
    "if number % 2 == 0:\n",
    "    print(number, \"is even.\")\n",
    "else:\n",
    "    print(number, \"is odd.\")\n"
   ]
  },
  {
   "cell_type": "markdown",
   "id": "13cacde7-4722-46be-967f-803401b49014",
   "metadata": {},
   "source": [
    "### 6) Calculate the simple interest given principal, rate, and time."
   ]
  },
  {
   "cell_type": "code",
   "execution_count": 12,
   "id": "d81cf09a-30ba-438c-b987-92ee557dadab",
   "metadata": {},
   "outputs": [
    {
     "name": "stdin",
     "output_type": "stream",
     "text": [
      "Enter principal amount:  1000\n",
      "Entr rate of interest:  15\n",
      "Enter time in years:  3\n"
     ]
    },
    {
     "name": "stdout",
     "output_type": "stream",
     "text": [
      "Simple Interest: 450.0\n"
     ]
    }
   ],
   "source": [
    "principal = float(input(\"Enter principal amount: \"))\n",
    "rate = float(input(\"Entr rate of interest: \"))\n",
    "time = float(input(\"Enter time in years: \"))\n",
    "SI = (principal * rate * time) / 100\n",
    "print(\"Simple Interest:\", SI)"
   ]
  },
  {
   "cell_type": "markdown",
   "id": "cf4a76a9-6810-417f-a397-e959b6a8be13",
   "metadata": {},
   "source": [
    "### 7) Write a program to reverse a string provided by the user."
   ]
  },
  {
   "cell_type": "code",
   "execution_count": 14,
   "id": "a0391f45-40f1-4f09-b118-eefdd8bf11ce",
   "metadata": {},
   "outputs": [
    {
     "name": "stdin",
     "output_type": "stream",
     "text": [
      "Enter a string:  nayan\n"
     ]
    },
    {
     "name": "stdout",
     "output_type": "stream",
     "text": [
      "Reversed string: nayan\n"
     ]
    }
   ],
   "source": [
    "string = input(\"Enter a string: \")\n",
    "print(\"Reversed string:\", string[::-1])"
   ]
  },
  {
   "cell_type": "markdown",
   "id": "1f67ddfe-e2f6-408d-84ab-18e0866435f4",
   "metadata": {},
   "source": [
    "##### 8) Calculate the factorial of a number input by the user."
   ]
  },
  {
   "cell_type": "code",
   "execution_count": 16,
   "id": "0564705b-1fde-49f8-a2e8-bf5d24e2034d",
   "metadata": {},
   "outputs": [
    {
     "name": "stdin",
     "output_type": "stream",
     "text": [
      "enter a number : 5\n"
     ]
    },
    {
     "name": "stdout",
     "output_type": "stream",
     "text": [
      "120\n"
     ]
    }
   ],
   "source": [
    "num = int(input(\"enter a number :\"))\n",
    "factorial = 1\n",
    "for i in range(1,num+1):\n",
    "    factorial *=i\n",
    "print(factorial)"
   ]
  },
  {
   "cell_type": "markdown",
   "id": "1b343599-7d5e-4a19-a7f5-d4ea131ca11c",
   "metadata": {},
   "source": [
    "### 9) prime or not"
   ]
  },
  {
   "cell_type": "code",
   "execution_count": 18,
   "id": "39da04c6-81fe-4f14-aa6d-ccdba12b68be",
   "metadata": {},
   "outputs": [
    {
     "name": "stdin",
     "output_type": "stream",
     "text": [
      "Enter a number:  3\n"
     ]
    },
    {
     "name": "stdout",
     "output_type": "stream",
     "text": [
      "Number is prime.\n"
     ]
    }
   ],
   "source": [
    "num = int(input(\"Enter a number: \"))  # Step 1: Get input from the user\n",
    "\n",
    "if num < 2:  # Step 2: Check if the number is less than 2\n",
    "    print(\"Not a prime number\")  # Numbers less than 2 are not prime\n",
    "else:\n",
    "    for i in range(2, num):  # Step 3: Loop through numbers from 2 to num-1\n",
    "        if num % i == 0:  # Step 4: Check if num is divisible by i\n",
    "            print(\"Not a prime number\")  # If divisible, it's not prime\n",
    "            break  # Exit the loop since we found a divisor  #If a divisor is found, it prints that the number is not prime and exits the loop early using break.\n",
    "    else:\n",
    "        print(\"Number is prime.\")  # If no divisors were found, it's prime  #This else block is associated with the for loop. It runs only if the loop completes without hitting a break, indicating that no divisors were found, and therefore num is prime.\n"
   ]
  },
  {
   "cell_type": "markdown",
   "id": "21759329-267e-4db0-9f8e-21718e6b43d2",
   "metadata": {},
   "source": [
    "### 11. Count Vowels"
   ]
  },
  {
   "cell_type": "code",
   "execution_count": 20,
   "id": "34c0b1ff-d45f-4d83-9200-832ce66a7d2c",
   "metadata": {},
   "outputs": [
    {
     "name": "stdin",
     "output_type": "stream",
     "text": [
      "Enter a string:  aarti\n"
     ]
    },
    {
     "name": "stdout",
     "output_type": "stream",
     "text": [
      "Number of vowels: 3\n"
     ]
    }
   ],
   "source": [
    "string = input(\"Enter a string: \")  # Step 1: Get input from the user\n",
    "vowels = \"aeiouAEIOU\"  # Step 2: Define a string containing all vowels (both lowercase and uppercase)\n",
    "count = sum(1 for char in string if char in vowels)  # Step 3: Count the vowels in the input string\n",
    "print(\"Number of vowels:\", count)  # Step 4: Print the count of vowels\n",
    "#The code counts how many vowels (a, e, i, o, u) are present in a user-inputted string"
   ]
  },
  {
   "cell_type": "markdown",
   "id": "f84d6727-760a-4d30-8442-75fbbddbe2cd",
   "metadata": {},
   "source": [
    "### 12. Palindrome Check"
   ]
  },
  {
   "cell_type": "code",
   "execution_count": 22,
   "id": "3efd3c1b-b394-4e8d-b69f-075f436b8be0",
   "metadata": {},
   "outputs": [
    {
     "name": "stdin",
     "output_type": "stream",
     "text": [
      "Enter a string:  nayan\n"
     ]
    },
    {
     "name": "stdout",
     "output_type": "stream",
     "text": [
      "nayan is a palindrome.\n"
     ]
    }
   ],
   "source": [
    "string = input(\"Enter a string: \")\n",
    "if string == string[::-1]:\n",
    "    print(string, \"is a palindrome.\")\n",
    "else:\n",
    "    print(string, \"is not a palindrome.\")\n"
   ]
  },
  {
   "cell_type": "markdown",
   "id": "5f65665f-c7b1-4067-96ea-3ebfd26c529f",
   "metadata": {},
   "source": [
    "### 13 Maximum of Three Numbers"
   ]
  },
  {
   "cell_type": "code",
   "execution_count": 24,
   "id": "13acce91-4b8e-4708-958f-bf569fd1ff3d",
   "metadata": {},
   "outputs": [
    {
     "name": "stdin",
     "output_type": "stream",
     "text": [
      "Enter first number:  50\n",
      "Enter second number:  2\n",
      "Enter third number:  2\n"
     ]
    },
    {
     "name": "stdout",
     "output_type": "stream",
     "text": [
      "Maximum number: 50\n"
     ]
    }
   ],
   "source": [
    "num1 = int(input(\"Enter first number: \"))\n",
    "num2 = int(input(\"Enter second number: \"))\n",
    "num3 = int(input(\"Enter third number: \"))\n",
    "maximum = max(num1, num2, num3)\n",
    "print(\"Maximum number:\", maximum)\n"
   ]
  },
  {
   "cell_type": "markdown",
   "id": "bd78d403-1847-463d-87a2-e93fe0d203b7",
   "metadata": {},
   "source": [
    "### 14. FizzBuzz"
   ]
  },
  {
   "cell_type": "markdown",
   "id": "96f96977-7712-459d-88db-a3af228d7afa",
   "metadata": {},
   "source": [
    "### Print numbers from 1 to 100, replacing multiples of 3 with \"Fizz\", 5 with \"Buzz\", and 15 with \"FizzBuzz\"."
   ]
  },
  {
   "cell_type": "code",
   "execution_count": 27,
   "id": "f27b0402-86d8-4e46-a1a7-970c1b16ff69",
   "metadata": {},
   "outputs": [
    {
     "name": "stdout",
     "output_type": "stream",
     "text": [
      "1\n",
      "2\n",
      "Fizz\n",
      "4\n",
      "Buzz\n",
      "Fizz\n",
      "7\n",
      "8\n",
      "Fizz\n",
      "Buzz\n",
      "11\n",
      "Fizz\n",
      "13\n",
      "14\n",
      "FizzBuzz\n",
      "16\n",
      "17\n",
      "Fizz\n",
      "19\n",
      "Buzz\n",
      "Fizz\n",
      "22\n",
      "23\n",
      "Fizz\n",
      "Buzz\n",
      "26\n",
      "Fizz\n",
      "28\n",
      "29\n",
      "FizzBuzz\n",
      "31\n",
      "32\n",
      "Fizz\n",
      "34\n",
      "Buzz\n",
      "Fizz\n",
      "37\n",
      "38\n",
      "Fizz\n",
      "Buzz\n",
      "41\n",
      "Fizz\n",
      "43\n",
      "44\n",
      "FizzBuzz\n",
      "46\n",
      "47\n",
      "Fizz\n",
      "49\n",
      "Buzz\n",
      "Fizz\n",
      "52\n",
      "53\n",
      "Fizz\n",
      "Buzz\n",
      "56\n",
      "Fizz\n",
      "58\n",
      "59\n",
      "FizzBuzz\n",
      "61\n",
      "62\n",
      "Fizz\n",
      "64\n",
      "Buzz\n",
      "Fizz\n",
      "67\n",
      "68\n",
      "Fizz\n",
      "Buzz\n",
      "71\n",
      "Fizz\n",
      "73\n",
      "74\n",
      "FizzBuzz\n",
      "76\n",
      "77\n",
      "Fizz\n",
      "79\n",
      "Buzz\n",
      "Fizz\n",
      "82\n",
      "83\n",
      "Fizz\n",
      "Buzz\n",
      "86\n",
      "Fizz\n",
      "88\n",
      "89\n",
      "FizzBuzz\n",
      "91\n",
      "92\n",
      "Fizz\n",
      "94\n",
      "Buzz\n",
      "Fizz\n",
      "97\n",
      "98\n",
      "Fizz\n",
      "Buzz\n"
     ]
    }
   ],
   "source": [
    "for i in range(1, 101):\n",
    "    if i % 15 == 0:\n",
    "        print(\"FizzBuzz\")\n",
    "    elif i % 3 == 0:\n",
    "        print(\"Fizz\")\n",
    "    elif i % 5 == 0:\n",
    "        print(\"Buzz\")\n",
    "    else:\n",
    "        print(i)"
   ]
  },
  {
   "cell_type": "markdown",
   "id": "67c73634-4711-4e4c-8221-8f8c7aaa3523",
   "metadata": {},
   "source": [
    "### 15)Create a simple calculator that performs basic operations."
   ]
  },
  {
   "cell_type": "code",
   "execution_count": 29,
   "id": "bf1f8443-4c8e-4e1f-9c29-51255f3036ad",
   "metadata": {},
   "outputs": [
    {
     "name": "stdin",
     "output_type": "stream",
     "text": [
      "Enter first number:  5\n",
      "Enter operator (+, -, *, /):  /\n",
      "Enter second number:  62\n"
     ]
    },
    {
     "name": "stdout",
     "output_type": "stream",
     "text": [
      "Result: 0.08064516129032258\n"
     ]
    }
   ],
   "source": [
    "num1 = float(input(\"Enter first number: \"))\n",
    "operator = input(\"Enter operator (+, -, *, /): \")\n",
    "num2 = float(input(\"Enter second number: \"))\n",
    "if operator == '+':\n",
    "    result = num1 + num2\n",
    "elif operator == '-':\n",
    "    result = num1 - num2\n",
    "elif operator == '*':\n",
    "    result = num1 * num2\n",
    "elif operator == '/':\n",
    "    result = num1 / num2\n",
    "else:\n",
    "    result = \"Invalid operator\"\n",
    "print(\"Result:\", result)\n"
   ]
  },
  {
   "cell_type": "markdown",
   "id": "6b17bed6-9ef6-4b20-9347-2587cf33c41d",
   "metadata": {},
   "source": [
    "### 16) Create a list of squares of numbers from 1 to n."
   ]
  },
  {
   "cell_type": "code",
   "execution_count": 48,
   "id": "4ffcbfd2-4788-4d6c-bd72-d16ee0bd323b",
   "metadata": {},
   "outputs": [
    {
     "name": "stdin",
     "output_type": "stream",
     "text": [
      "Enter a number:  5\n"
     ]
    },
    {
     "name": "stdout",
     "output_type": "stream",
     "text": [
      "[1, 4, 9, 16, 25]\n"
     ]
    }
   ],
   "source": [
    "n = int(input(\"Enter a number: \"))\n",
    "squares = [i**2 for i in range (1,n+1)]\n",
    "print(squares)"
   ]
  },
  {
   "cell_type": "markdown",
   "id": "9b8e4672-255b-4469-bf3b-e22693304b3d",
   "metadata": {},
   "source": [
    "### 17) Calculate the area of a circle based on the radius provided by the user."
   ]
  },
  {
   "cell_type": "code",
   "execution_count": 51,
   "id": "ff37d624-4d50-4ceb-aabb-9dd3eb4c89af",
   "metadata": {},
   "outputs": [
    {
     "name": "stdin",
     "output_type": "stream",
     "text": [
      "Enter the radius of the circle:  2\n"
     ]
    },
    {
     "name": "stdout",
     "output_type": "stream",
     "text": [
      "12.56\n"
     ]
    }
   ],
   "source": [
    "radius = float(input(\"Enter the radius of the circle: \"))\n",
    "area = 3.14*radius**2\n",
    "print(area)"
   ]
  },
  {
   "cell_type": "markdown",
   "id": "463b0dd3-56ab-4d96-98c9-d9d6c4c08b9e",
   "metadata": {},
   "source": [
    "### 18) Find the maximum value in a list provided by the user."
   ]
  },
  {
   "cell_type": "code",
   "execution_count": 68,
   "id": "9b85890a-6cf2-466f-8123-2eb05d3f003b",
   "metadata": {},
   "outputs": [
    {
     "name": "stdin",
     "output_type": "stream",
     "text": [
      "enter a number seperated by space : 8 6 2 35 3569 244 21 0 \n"
     ]
    },
    {
     "name": "stdout",
     "output_type": "stream",
     "text": [
      "The maximum value is: 3569\n"
     ]
    }
   ],
   "source": [
    "numbers = list(map(int,input(\"enter a number seperated by space :\").split()))\n",
    "max_value = max(numbers)\n",
    "print(\"The maximum value is:\",max_value)"
   ]
  },
  {
   "cell_type": "markdown",
   "id": "91f268aa-78bc-45ac-a602-85eaa5694453",
   "metadata": {},
   "source": [
    "### 19)  Calculate the power of a number."
   ]
  },
  {
   "cell_type": "code",
   "execution_count": 79,
   "id": "446f7022-986d-4171-99bc-2441737d10d7",
   "metadata": {},
   "outputs": [
    {
     "name": "stdin",
     "output_type": "stream",
     "text": [
      "Enter base:  5\n",
      "Enter exponent:  2\n"
     ]
    },
    {
     "name": "stdout",
     "output_type": "stream",
     "text": [
      "5 raised to the power of 2 is 25\n"
     ]
    }
   ],
   "source": [
    "base = int(input(\"Enter base: \"))\n",
    "exponent = int(input(\"Enter exponent: \"))\n",
    "result = base ** exponent\n",
    "print(f\"{base} raised to the power of {exponent} is {result}\")"
   ]
  },
  {
   "cell_type": "markdown",
   "id": "111c33dd-d06b-4ef3-899a-76147f3427df",
   "metadata": {},
   "source": [
    "### 20) Swap two variables without using a temporary variable."
   ]
  },
  {
   "cell_type": "code",
   "execution_count": 86,
   "id": "13fe2f3a-5959-4410-96df-bcb30dece2f7",
   "metadata": {},
   "outputs": [
    {
     "name": "stdin",
     "output_type": "stream",
     "text": [
      "Enter first variable:  nikita\n",
      "Enter second variable:  aarti\n"
     ]
    },
    {
     "name": "stdout",
     "output_type": "stream",
     "text": [
      "after swaping :  aarti nikita\n"
     ]
    }
   ],
   "source": [
    "a = input(\"Enter first variable: \")\n",
    "b = input(\"Enter second variable: \")\n",
    "a,b = b,a\n",
    "print(\"after swaping : \",a,b)"
   ]
  },
  {
   "cell_type": "markdown",
   "id": "798b52ff-26b4-4399-87c9-1d34dd7cb9f9",
   "metadata": {},
   "source": [
    "### 21) Print a multiplication table for a number entered by the user."
   ]
  },
  {
   "cell_type": "code",
   "execution_count": 96,
   "id": "30a20d1f-9f2c-4a6d-a92e-5ae6fcbc8c32",
   "metadata": {},
   "outputs": [
    {
     "name": "stdin",
     "output_type": "stream",
     "text": [
      "Enter a number:  2\n"
     ]
    },
    {
     "name": "stdout",
     "output_type": "stream",
     "text": [
      "2\n",
      "4\n",
      "6\n",
      "8\n",
      "10\n",
      "12\n",
      "14\n",
      "16\n",
      "18\n",
      "20\n"
     ]
    }
   ],
   "source": [
    "num = int(input(\"Enter a number: \"))\n",
    "for i in range(1, 11):\n",
    "    print(num*i)"
   ]
  },
  {
   "cell_type": "markdown",
   "id": "7ff21527-4da2-4adc-a4e2-d8eee652eab0",
   "metadata": {},
   "source": [
    "### 22 )Sort a list of numbers provided by the user."
   ]
  },
  {
   "cell_type": "code",
   "execution_count": 103,
   "id": "c8cd2875-f97b-4bd8-aaa8-42a56ac03b8f",
   "metadata": {},
   "outputs": [
    {
     "name": "stdin",
     "output_type": "stream",
     "text": [
      "Enter numbers separated by space:  5 3 63 53 52\n"
     ]
    },
    {
     "name": "stdout",
     "output_type": "stream",
     "text": [
      "Sorted list: [3, 5, 52, 53, 63]\n"
     ]
    }
   ],
   "source": [
    "numbers = list(map(int, input(\"Enter numbers separated by space: \").split()))\n",
    "numbers.sort()\n",
    "print(\"Sorted list:\", numbers)\n"
   ]
  },
  {
   "cell_type": "code",
   "execution_count": null,
   "id": "9dacc125-d7b8-4fda-94a0-90b4632e038b",
   "metadata": {},
   "outputs": [],
   "source": []
  }
 ],
 "metadata": {
  "kernelspec": {
   "display_name": "Python 3 (ipykernel)",
   "language": "python",
   "name": "python3"
  },
  "language_info": {
   "codemirror_mode": {
    "name": "ipython",
    "version": 3
   },
   "file_extension": ".py",
   "mimetype": "text/x-python",
   "name": "python",
   "nbconvert_exporter": "python",
   "pygments_lexer": "ipython3",
   "version": "3.12.4"
  }
 },
 "nbformat": 4,
 "nbformat_minor": 5
}
