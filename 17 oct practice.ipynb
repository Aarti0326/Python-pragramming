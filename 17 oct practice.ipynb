{
 "cells": [
  {
   "cell_type": "markdown",
   "id": "2d6b0365-a252-43ee-bb72-8dd26b636980",
   "metadata": {},
   "source": [
    "### Question: Write a program to determine eligibility to apply for a loan based on credit score and income.\n",
    "\n",
    "#### If the credit score is 750+ and income >= 50,000, loan approval is \"Approved\".\n",
    "#### If the credit score is between 600-749, loan status is \"Further Review Needed\".\n",
    "#### Otherwise, the loan is \"Rejected\"."
   ]
  },
  {
   "cell_type": "code",
   "execution_count": 2,
   "id": "d5d5198d-6c54-45ca-b020-028762c566a5",
   "metadata": {},
   "outputs": [
    {
     "name": "stdin",
     "output_type": "stream",
     "text": [
      "Enter your credit score:  720\n",
      "Enter your annual income:  55000\n"
     ]
    },
    {
     "name": "stdout",
     "output_type": "stream",
     "text": [
      "Further Review Needed\n"
     ]
    }
   ],
   "source": [
    "# Loan eligibility program\n",
    "credit_score = int(input(\"Enter your credit score: \"))  \n",
    "income = int(input(\"Enter your annual income: \"))  \n",
    "\n",
    "if credit_score >= 750 and income >= 50000:\n",
    "    print(\"Loan Approved\")\n",
    "elif 600 <= credit_score < 750:\n",
    "    print(\"Further Review Needed\")\n",
    "else:\n",
    "    print(\"Loan Rejected\")\n"
   ]
  },
  {
   "cell_type": "markdown",
   "id": "a1d7effc-6be4-4bd6-b42c-c44de0db8fb1",
   "metadata": {},
   "source": [
    "### Question: Write a program to print the sum of all even numbers between 1 and 100. Use a for loop."
   ]
  },
  {
   "cell_type": "code",
   "execution_count": 5,
   "id": "77ec48b3-c67c-4bd1-a21a-7a725c6a7b6b",
   "metadata": {},
   "outputs": [
    {
     "name": "stdout",
     "output_type": "stream",
     "text": [
      "The sum of even numbers from 1 to 100 is: 2550\n"
     ]
    }
   ],
   "source": [
    "# Sum of even numbers from 1 to 100\n",
    "sum_even = 0\n",
    "for num in range(1, 101):\n",
    "    if num % 2 == 0:\n",
    "        sum_even += num\n",
    "\n",
    "print(f\"The sum of even numbers from 1 to 100 is: {sum_even}\")"
   ]
  },
  {
   "cell_type": "markdown",
   "id": "2f487da9-c7be-4288-9345-8f7183845cc4",
   "metadata": {},
   "source": [
    "### Write a program to search for a specific product in a list. If the product is found, print \"Product Found\" and stop the search using break."
   ]
  },
  {
   "cell_type": "code",
   "execution_count": 12,
   "id": "cd96aa39-c1df-4265-89e0-f3af7525bb25",
   "metadata": {},
   "outputs": [
    {
     "name": "stdin",
     "output_type": "stream",
     "text": [
      "Enter the product to search:  CHARGER\n"
     ]
    },
    {
     "name": "stdout",
     "output_type": "stream",
     "text": [
      "Product Found\n"
     ]
    }
   ],
   "source": [
    "# Searching for a product using break\n",
    "products = [\"Laptop\", \"Phone\", \"Tablet\", \"Charger\", \"Headphones\"]\n",
    "search_item = input(\"Enter the product to search: \")\n",
    "\n",
    "for product in products:\n",
    "    if product.lower() == search_item.lower():\n",
    "        print(\"Product Found\")\n",
    "        break\n",
    "else:\n",
    "    print(\"Product Not Found\")\n"
   ]
  },
  {
   "cell_type": "code",
   "execution_count": null,
   "id": "819f1383-f909-4e4b-aca6-b13bf68eb6bb",
   "metadata": {},
   "outputs": [],
   "source": []
  }
 ],
 "metadata": {
  "kernelspec": {
   "display_name": "Python 3 (ipykernel)",
   "language": "python",
   "name": "python3"
  },
  "language_info": {
   "codemirror_mode": {
    "name": "ipython",
    "version": 3
   },
   "file_extension": ".py",
   "mimetype": "text/x-python",
   "name": "python",
   "nbconvert_exporter": "python",
   "pygments_lexer": "ipython3",
   "version": "3.12.4"
  }
 },
 "nbformat": 4,
 "nbformat_minor": 5
}
