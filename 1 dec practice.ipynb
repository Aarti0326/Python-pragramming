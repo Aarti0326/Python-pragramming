{
 "cells": [
  {
   "cell_type": "markdown",
   "id": "cd1dfe34-06f1-4b49-8993-f8cf91b6247d",
   "metadata": {},
   "source": [
    "## Swap Two Numbers"
   ]
  },
  {
   "cell_type": "code",
   "execution_count": 27,
   "id": "397e3edc-cce5-419c-b6a8-1a72c454a4f0",
   "metadata": {},
   "outputs": [
    {
     "name": "stdout",
     "output_type": "stream",
     "text": [
      "after swapping 10\n",
      "after swapping 5\n"
     ]
    }
   ],
   "source": [
    "a = 5\n",
    "b = 10\n",
    "\n",
    "#swap the numbers\n",
    "a,b = b,a\n",
    "print(\"after swapping\",a)\n",
    "print(\"after swapping\",b)"
   ]
  },
  {
   "cell_type": "markdown",
   "id": "c2fd4ad1-f222-48bb-b00a-d6e44f72bd22",
   "metadata": {},
   "source": [
    "## python program check prime or not "
   ]
  },
  {
   "cell_type": "code",
   "execution_count": 57,
   "id": "b633880a-6d2a-4f17-a1be-8f533fa796ca",
   "metadata": {},
   "outputs": [
    {
     "name": "stdin",
     "output_type": "stream",
     "text": [
      "Enter a number:  40\n"
     ]
    },
    {
     "name": "stdout",
     "output_type": "stream",
     "text": [
      "40 is not a prime number.\n"
     ]
    }
   ],
   "source": [
    "# Input a number\n",
    "num = int(input(\"Enter a number: \"))\n",
    "\n",
    "# Check if the number is prime\n",
    "if num > 1:\n",
    "    for i in range(2, int(num**0.5) + 1):\n",
    "        if num % i == 0:\n",
    "            print(f\"{num} is not a prime number.\")\n",
    "            break\n",
    "    else:\n",
    "        print(f\"{num} is a prime number.\")\n",
    "else:\n",
    "    print(f\"{num} is not a prime number.\")\n"
   ]
  },
  {
   "cell_type": "code",
   "execution_count": null,
   "id": "bfea86d6-f97c-45cf-a295-e28e15788dcf",
   "metadata": {},
   "outputs": [],
   "source": []
  }
 ],
 "metadata": {
  "kernelspec": {
   "display_name": "Python 3 (ipykernel)",
   "language": "python",
   "name": "python3"
  },
  "language_info": {
   "codemirror_mode": {
    "name": "ipython",
    "version": 3
   },
   "file_extension": ".py",
   "mimetype": "text/x-python",
   "name": "python",
   "nbconvert_exporter": "python",
   "pygments_lexer": "ipython3",
   "version": "3.12.4"
  }
 },
 "nbformat": 4,
 "nbformat_minor": 5
}
