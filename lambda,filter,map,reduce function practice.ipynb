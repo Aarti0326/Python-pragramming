{
 "cells": [
  {
   "cell_type": "markdown",
   "id": "fdc7346a-6c01-4b71-afd5-f912cd03d278",
   "metadata": {},
   "source": [
    "### adds two numbers."
   ]
  },
  {
   "cell_type": "code",
   "execution_count": 2,
   "id": "261f2c5e-1b06-4bb2-b9ff-d91cdb90ce21",
   "metadata": {},
   "outputs": [
    {
     "name": "stdout",
     "output_type": "stream",
     "text": [
      "11\n"
     ]
    }
   ],
   "source": [
    "add = lambda x,y:x+y\n",
    "result = add(5,6)\n",
    "print(result)"
   ]
  },
  {
   "cell_type": "markdown",
   "id": "e3abcd2b-c6a8-4006-a2ec-127cd0af2c1a",
   "metadata": {},
   "source": [
    "### Using with map(): "
   ]
  },
  {
   "cell_type": "code",
   "execution_count": 4,
   "id": "440bae73-63e6-436e-af76-097f2d49fabf",
   "metadata": {},
   "outputs": [
    {
     "name": "stdout",
     "output_type": "stream",
     "text": [
      "[1, 4, 9, 16, 25]\n"
     ]
    }
   ],
   "source": [
    "numbers = [1,2,3,4,5]\n",
    "squared = list(map(lambda x:x**2,numbers))\n",
    "print(squared)"
   ]
  },
  {
   "cell_type": "markdown",
   "id": "1e2af110-fc55-48bc-8c73-69d8552a7fbb",
   "metadata": {},
   "source": [
    "### Using with filter(): "
   ]
  },
  {
   "cell_type": "code",
   "execution_count": 13,
   "id": "9780a374-cb21-499d-b6d7-cee6fd54053d",
   "metadata": {},
   "outputs": [
    {
     "name": "stdout",
     "output_type": "stream",
     "text": [
      "[2, 4]\n"
     ]
    }
   ],
   "source": [
    "numbers = [1,2,3,4,5]\n",
    "even_numbers = list(filter(lambda x:x%2==0,numbers))\n",
    "print(even_numbers)"
   ]
  },
  {
   "cell_type": "code",
   "execution_count": 17,
   "id": "ecfa20fb-ab84-449a-bcee-649b5daed944",
   "metadata": {},
   "outputs": [
    {
     "name": "stdout",
     "output_type": "stream",
     "text": [
      "[1, 3, 5]\n"
     ]
    }
   ],
   "source": [
    "numbers = [1,2,3,4,5]\n",
    "odd = list(filter(lambda x:x%2!=0,numbers))\n",
    "print(odd)\n"
   ]
  },
  {
   "cell_type": "markdown",
   "id": "43f9dc36-28b0-4494-b823-63f080d2a63f",
   "metadata": {},
   "source": [
    "### Using with sorted():"
   ]
  },
  {
   "cell_type": "code",
   "execution_count": 22,
   "id": "bd9affa1-d2a5-4413-8f06-5568fadb11a9",
   "metadata": {},
   "outputs": [
    {
     "name": "stdout",
     "output_type": "stream",
     "text": [
      "[{'name': 'sushant', 'age': 18}, {'name': 'nikita', 'age': 26}, {'name': 'aarti', 'age': 30}]\n"
     ]
    }
   ],
   "source": [
    "people = [{\"name\":\"aarti\",\"age\":30},\n",
    "          {\"name\":\"nikita\",\"age\":26},\n",
    "           {\"name\":\"sushant\",\"age\":18}]\n",
    "sorted_people = sorted(people,key=lambda person : person['age'])\n",
    "print(sorted_people)"
   ]
  },
  {
   "cell_type": "code",
   "execution_count": 24,
   "id": "58108941-2dd5-485d-8883-3e418c34b77a",
   "metadata": {},
   "outputs": [
    {
     "name": "stdout",
     "output_type": "stream",
     "text": [
      "240\n"
     ]
    }
   ],
   "source": [
    "from functools import reduce\n",
    "\n",
    "numbers = [4,5,6,2,1]\n",
    "reduce_num = reduce(lambda x,y:x*y,numbers)\n",
    "print(reduce_num )"
   ]
  },
  {
   "cell_type": "code",
   "execution_count": 26,
   "id": "f725f6cb-096e-4682-9647-84b87a1816c3",
   "metadata": {},
   "outputs": [
    {
     "name": "stdout",
     "output_type": "stream",
     "text": [
      "18\n"
     ]
    }
   ],
   "source": [
    "from functools import reduce\n",
    "\n",
    "numbers = [4,5,6,2,1]\n",
    "reduce_num = reduce(lambda x,y:x+y,numbers)\n",
    "print(reduce_num )"
   ]
  },
  {
   "cell_type": "markdown",
   "id": "315d2b6c-94d6-4707-8149-3ef4bb661c9e",
   "metadata": {},
   "source": [
    "### Sorting a List of Integers"
   ]
  },
  {
   "cell_type": "code",
   "execution_count": 28,
   "id": "6b7e36e4-9565-4fdb-a9d4-698ab6a5a4d4",
   "metadata": {},
   "outputs": [
    {
     "name": "stdout",
     "output_type": "stream",
     "text": [
      "[1, 2, 5, 5, 6, 9]\n"
     ]
    }
   ],
   "source": [
    "numbers = [5, 2, 9, 1, 5, 6]\n",
    "sorted_numbers = sorted(numbers)\n",
    "print(sorted_numbers) \n"
   ]
  },
  {
   "cell_type": "markdown",
   "id": "ebc72d15-8903-48fb-9ffe-b2bc2eac7948",
   "metadata": {},
   "source": [
    "### Sorting a List of Strings"
   ]
  },
  {
   "cell_type": "code",
   "execution_count": 32,
   "id": "09107990-8f10-49e8-b7fe-19e3a1f5a05c",
   "metadata": {},
   "outputs": [
    {
     "name": "stdout",
     "output_type": "stream",
     "text": [
      "['apple', 'banana', 'cherry']\n"
     ]
    }
   ],
   "source": [
    "words = [\"banana\", \"apple\", \"cherry\"]\n",
    "sorted_words = sorted(words)\n",
    "print(sorted_words) \n"
   ]
  },
  {
   "cell_type": "markdown",
   "id": "5a5663db-0e53-4447-87f8-c2086161ecd1",
   "metadata": {},
   "source": [
    "### decending order"
   ]
  },
  {
   "cell_type": "code",
   "execution_count": 44,
   "id": "f49a37b1-c913-4416-92d6-441e12811bdb",
   "metadata": {},
   "outputs": [
    {
     "name": "stdout",
     "output_type": "stream",
     "text": [
      "[9, 6, 5, 5, 2, 1, 0]\n"
     ]
    }
   ],
   "source": [
    "numbers = [5, 2, 9, 1,0, 5, 6]\n",
    "sorted_num = sorted(numbers,reverse=True)\n",
    "print(sorted_num)"
   ]
  },
  {
   "cell_type": "markdown",
   "id": "ab5e7247-d984-4694-bd20-225572774ba2",
   "metadata": {},
   "source": [
    "### Sorting a List of Tuples"
   ]
  },
  {
   "cell_type": "code",
   "execution_count": 40,
   "id": "cccee314-54a2-418c-ba42-31072b445c0e",
   "metadata": {},
   "outputs": [
    {
     "name": "stdout",
     "output_type": "stream",
     "text": [
      "[(1, 'apple'), (2, 'cherry'), (3, 'banana')]\n"
     ]
    }
   ],
   "source": [
    "data = [(1, 'apple'), (3, 'banana'), (2, 'cherry')]\n",
    "sorted_data = sorted(data)\n",
    "print(sorted_data) \n"
   ]
  },
  {
   "cell_type": "markdown",
   "id": "646a7d6e-61c9-4e6e-8b2a-86bb9d283bfb",
   "metadata": {},
   "source": [
    "### Sorting a List of Strings by Length"
   ]
  },
  {
   "cell_type": "code",
   "execution_count": 47,
   "id": "21c073b1-fdd1-42eb-ae99-4525f1a88a49",
   "metadata": {},
   "outputs": [
    {
     "name": "stdout",
     "output_type": "stream",
     "text": [
      "['fig', 'apple', 'banana', 'cherry']\n"
     ]
    }
   ],
   "source": [
    "words = [\"banana\", \"apple\", \"cherry\", \"fig\"]\n",
    "# Sort by length of the string\n",
    "sortd_by_length = sorted(words,key = len)\n",
    "print(sortd_by_length)"
   ]
  },
  {
   "cell_type": "code",
   "execution_count": null,
   "id": "2d31040b-5c65-4fd7-aa97-84fec1c86ddd",
   "metadata": {},
   "outputs": [],
   "source": []
  }
 ],
 "metadata": {
  "kernelspec": {
   "display_name": "Python 3 (ipykernel)",
   "language": "python",
   "name": "python3"
  },
  "language_info": {
   "codemirror_mode": {
    "name": "ipython",
    "version": 3
   },
   "file_extension": ".py",
   "mimetype": "text/x-python",
   "name": "python",
   "nbconvert_exporter": "python",
   "pygments_lexer": "ipython3",
   "version": "3.12.4"
  }
 },
 "nbformat": 4,
 "nbformat_minor": 5
}
