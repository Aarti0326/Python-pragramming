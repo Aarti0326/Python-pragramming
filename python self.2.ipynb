{
 "cells": [
  {
   "cell_type": "markdown",
   "id": "fa87e1e2-a898-4c3b-be99-c903bd7e12c1",
   "metadata": {},
   "source": [
    "# Arithmetic operators\n"
   ]
  },
  {
   "cell_type": "markdown",
   "id": "f4c9d4ad-364e-477a-a0e5-8abe45e4311d",
   "metadata": {},
   "source": [
    "# Addition"
   ]
  },
  {
   "cell_type": "code",
   "execution_count": 3,
   "id": "70ceafb3-fe4f-44cb-b139-7c3945db479d",
   "metadata": {},
   "outputs": [
    {
     "name": "stdout",
     "output_type": "stream",
     "text": [
      "12\n"
     ]
    }
   ],
   "source": [
    "a=6\n",
    "b=6\n",
    "print(a+b)"
   ]
  },
  {
   "cell_type": "code",
   "execution_count": 11,
   "id": "458654b8-1342-4c87-96c6-518e041302fa",
   "metadata": {},
   "outputs": [
    {
     "name": "stdout",
     "output_type": "stream",
     "text": [
      "1\n"
     ]
    }
   ],
   "source": [
    "a=13\n",
    "b=6\n",
    "print(a%b)\n",
    "      "
   ]
  },
  {
   "cell_type": "code",
   "execution_count": 13,
   "id": "6b749171-6aac-47f9-9187-4f7f538c529d",
   "metadata": {},
   "outputs": [
    {
     "name": "stdout",
     "output_type": "stream",
     "text": [
      "1.0\n"
     ]
    }
   ],
   "source": [
    "a=3.2\n",
    "b=2.3\n",
    "print(a//b)"
   ]
  },
  {
   "cell_type": "code",
   "execution_count": 29,
   "id": "86386aff-5bc0-4848-a1df-5a1c5ecc93f3",
   "metadata": {},
   "outputs": [
    {
     "name": "stdout",
     "output_type": "stream",
     "text": [
      "hello world\n"
     ]
    }
   ],
   "source": [
    "a1=\"hello\"\n",
    "b1=\"world\"\n",
    "print(a1+\" \"+b1)"
   ]
  },
  {
   "cell_type": "code",
   "execution_count": 31,
   "id": "dfe464c3-c7d5-4045-8e8b-499f4eeb35a3",
   "metadata": {},
   "outputs": [
    {
     "name": "stdout",
     "output_type": "stream",
     "text": [
      "(7-4j)\n"
     ]
    }
   ],
   "source": [
    "x1=2+2j\n",
    "y1=5-6j\n",
    "print(x1+y1)"
   ]
  },
  {
   "cell_type": "markdown",
   "id": "f1ed497f-cbae-48f8-995d-897d88c51aea",
   "metadata": {},
   "source": [
    "# subtraction"
   ]
  },
  {
   "cell_type": "code",
   "execution_count": 34,
   "id": "1cf6886c-2afe-469f-b3a0-53247caed49e",
   "metadata": {},
   "outputs": [
    {
     "name": "stdout",
     "output_type": "stream",
     "text": [
      "-0.19999999999999973\n"
     ]
    }
   ],
   "source": [
    "num1=3.2\n",
    "num2=3.4\n",
    "print(num1-num2)"
   ]
  },
  {
   "cell_type": "code",
   "execution_count": 36,
   "id": "dcd5bcbe-d4fa-4c7c-aef3-5ab803c91730",
   "metadata": {},
   "outputs": [
    {
     "name": "stdout",
     "output_type": "stream",
     "text": [
      "(3-2j)\n"
     ]
    }
   ],
   "source": [
    "num1=5+3j\n",
    "num2=2+5j\n",
    "print(num1-num2)"
   ]
  },
  {
   "cell_type": "markdown",
   "id": "5cc75073-2f43-40f9-9258-ce9c11406313",
   "metadata": {},
   "source": [
    "# multiplication"
   ]
  },
  {
   "cell_type": "code",
   "execution_count": 39,
   "id": "7df4e2b8-87a9-46f7-80e2-3bf3842a4331",
   "metadata": {},
   "outputs": [
    {
     "name": "stdout",
     "output_type": "stream",
     "text": [
      "12.16\n"
     ]
    }
   ],
   "source": [
    "num1=3.2\n",
    "num2=3.8\n",
    "print(num1*num2)\n"
   ]
  },
  {
   "cell_type": "code",
   "execution_count": 67,
   "id": "c3f47b11-3b83-40d3-9876-b9b7f1e0a2c1",
   "metadata": {},
   "outputs": [
    {
     "name": "stdout",
     "output_type": "stream",
     "text": [
      "nikitasalunkhenikitasalunkhenikitasalunkhenikitasalunkhenikitasalunkhe\n"
     ]
    }
   ],
   "source": [
    "str='nikita''salunkhe'\n",
    "print(str*5)"
   ]
  },
  {
   "cell_type": "code",
   "execution_count": 69,
   "id": "22199a05-2cc1-43be-a932-4b2ed8bd8a3a",
   "metadata": {},
   "outputs": [
    {
     "name": "stdout",
     "output_type": "stream",
     "text": [
      "(-25+31j)\n"
     ]
    }
   ],
   "source": [
    "a=1+5j\n",
    "b=5+6j\n",
    "print(a*b)"
   ]
  },
  {
   "cell_type": "markdown",
   "id": "ea34da51-ad3b-4436-9802-92708449fbed",
   "metadata": {},
   "source": [
    "# division"
   ]
  },
  {
   "cell_type": "code",
   "execution_count": 76,
   "id": "bd41a06c-2247-48bf-bf29-c9631adc3dce",
   "metadata": {},
   "outputs": [
    {
     "name": "stdout",
     "output_type": "stream",
     "text": [
      "1.0\n"
     ]
    }
   ],
   "source": [
    "num1=3.8\n",
    "num2=3.8\n",
    "print(num1/num2)"
   ]
  },
  {
   "cell_type": "code",
   "execution_count": 82,
   "id": "dc5b5e72-5009-46d7-aae1-13f3a896a189",
   "metadata": {},
   "outputs": [
    {
     "name": "stdout",
     "output_type": "stream",
     "text": [
      "(0.9016393442622951-0.08196721311475406j)\n"
     ]
    }
   ],
   "source": [
    "a=5+5j\n",
    "b=5+6j\n",
    "print(a/b)"
   ]
  },
  {
   "cell_type": "code",
   "execution_count": 84,
   "id": "6ac0555a-4139-44b6-9ea7-cb91ee97d8f9",
   "metadata": {},
   "outputs": [
    {
     "ename": "TypeError",
     "evalue": "unsupported operand type(s) for /: 'str' and 'str'",
     "output_type": "error",
     "traceback": [
      "\u001b[1;31m---------------------------------------------------------------------------\u001b[0m",
      "\u001b[1;31mTypeError\u001b[0m                                 Traceback (most recent call last)",
      "Cell \u001b[1;32mIn[84], line 3\u001b[0m\n\u001b[0;32m      1\u001b[0m a1\u001b[38;5;241m=\u001b[39m\u001b[38;5;124m\"\u001b[39m\u001b[38;5;124mhello\u001b[39m\u001b[38;5;124m\"\u001b[39m\n\u001b[0;32m      2\u001b[0m b1\u001b[38;5;241m=\u001b[39m\u001b[38;5;124m\"\u001b[39m\u001b[38;5;124mworld\u001b[39m\u001b[38;5;124m\"\u001b[39m\n\u001b[1;32m----> 3\u001b[0m \u001b[38;5;28mprint\u001b[39m(a1\u001b[38;5;241m/\u001b[39mb1)\n",
      "\u001b[1;31mTypeError\u001b[0m: unsupported operand type(s) for /: 'str' and 'str'"
     ]
    }
   ],
   "source": [
    "a1=\"hello\"\n",
    "b1=\"world\"\n",
    "print(a1/b1)"
   ]
  },
  {
   "cell_type": "markdown",
   "id": "f2f3166f-2175-4b88-8f71-e58c7fbb9f37",
   "metadata": {},
   "source": [
    "# modulus"
   ]
  },
  {
   "cell_type": "code",
   "execution_count": 87,
   "id": "f688ba3c-8f1e-4b62-88e7-0d4b76abea71",
   "metadata": {},
   "outputs": [
    {
     "name": "stdout",
     "output_type": "stream",
     "text": [
      "0\n"
     ]
    }
   ],
   "source": [
    "print(12%3)\n"
   ]
  },
  {
   "cell_type": "code",
   "execution_count": 91,
   "id": "24001063-d8f1-4905-8ade-3e9cc901d004",
   "metadata": {},
   "outputs": [
    {
     "name": "stdout",
     "output_type": "stream",
     "text": [
      "3.0\n"
     ]
    }
   ],
   "source": [
    "print(12%4.5)"
   ]
  },
  {
   "cell_type": "code",
   "execution_count": 93,
   "id": "dada3c0c-0fae-4c6b-87f5-91d71b23bfeb",
   "metadata": {},
   "outputs": [
    {
     "ename": "TypeError",
     "evalue": "unsupported operand type(s) for %: 'complex' and 'complex'",
     "output_type": "error",
     "traceback": [
      "\u001b[1;31m---------------------------------------------------------------------------\u001b[0m",
      "\u001b[1;31mTypeError\u001b[0m                                 Traceback (most recent call last)",
      "Cell \u001b[1;32mIn[93], line 3\u001b[0m\n\u001b[0;32m      1\u001b[0m a\u001b[38;5;241m=\u001b[39m\u001b[38;5;241m5\u001b[39m\u001b[38;5;241m+\u001b[39m\u001b[38;5;241m5\u001b[39mj\n\u001b[0;32m      2\u001b[0m b\u001b[38;5;241m=\u001b[39m\u001b[38;5;241m5\u001b[39m\u001b[38;5;241m+\u001b[39m\u001b[38;5;241m6\u001b[39mj\n\u001b[1;32m----> 3\u001b[0m \u001b[38;5;28mprint\u001b[39m(a\u001b[38;5;241m%\u001b[39mb)\n",
      "\u001b[1;31mTypeError\u001b[0m: unsupported operand type(s) for %: 'complex' and 'complex'"
     ]
    }
   ],
   "source": [
    "a=5+5j\n",
    "b=5+6j\n",
    "print(a%b)"
   ]
  },
  {
   "cell_type": "code",
   "execution_count": 95,
   "id": "924118c9-032a-4af6-8a68-a92719b797f1",
   "metadata": {},
   "outputs": [
    {
     "name": "stdout",
     "output_type": "stream",
     "text": [
      "725\n"
     ]
    }
   ],
   "source": [
    "print(4353//6)"
   ]
  },
  {
   "cell_type": "markdown",
   "id": "c3d50ff9-0b3c-4dc1-860b-96aa80b59589",
   "metadata": {},
   "source": [
    "# Exponent"
   ]
  },
  {
   "cell_type": "code",
   "execution_count": 100,
   "id": "321a5cf0-a0a3-49fe-ae1f-e123861894e5",
   "metadata": {},
   "outputs": [
    {
     "name": "stdout",
     "output_type": "stream",
     "text": [
      "175616\n"
     ]
    }
   ],
   "source": [
    "print(56**3)"
   ]
  },
  {
   "cell_type": "code",
   "execution_count": 102,
   "id": "cb6b5c6b-e44c-4d57-8fe1-03aba7b4aacf",
   "metadata": {},
   "outputs": [
    {
     "name": "stdout",
     "output_type": "stream",
     "text": [
      "8\n"
     ]
    }
   ],
   "source": [
    "print(2**3)"
   ]
  },
  {
   "cell_type": "code",
   "execution_count": 104,
   "id": "738053a0-efa0-4190-94ea-58b5c7233555",
   "metadata": {},
   "outputs": [
    {
     "name": "stdout",
     "output_type": "stream",
     "text": [
      "46.3270344122408\n"
     ]
    }
   ],
   "source": [
    "print(5.3**2.3)"
   ]
  },
  {
   "cell_type": "code",
   "execution_count": 106,
   "id": "b8e6b7cb-2415-48d1-b153-85c27d45be56",
   "metadata": {},
   "outputs": [
    {
     "name": "stdout",
     "output_type": "stream",
     "text": [
      "2.4\n"
     ]
    }
   ],
   "source": [
    "w=60\n",
    "h=5\n",
    "v=h**2\n",
    "print(w/v)"
   ]
  },
  {
   "cell_type": "markdown",
   "id": "dca1f683-e407-49f5-bc1f-934a05dcc3c6",
   "metadata": {},
   "source": [
    "##/ = division\n",
    "   % = modulus(remainder)\n",
    "   //=quotient\n",
    "   "
   ]
  },
  {
   "cell_type": "markdown",
   "id": "c11ebe4c-4b9b-4ec8-b81e-c250016d2905",
   "metadata": {},
   "source": [
    "# Boolean operator"
   ]
  },
  {
   "cell_type": "raw",
   "id": "e76f1f0c-a64e-4f1b-85c1-1f785af1709f",
   "metadata": {},
   "source": [
    "a=True"
   ]
  },
  {
   "cell_type": "code",
   "execution_count": 113,
   "id": "bbd8fa79-7b5a-40b3-9a40-0e13702d4c6f",
   "metadata": {},
   "outputs": [
    {
     "data": {
      "text/plain": [
       "bool"
      ]
     },
     "execution_count": 113,
     "metadata": {},
     "output_type": "execute_result"
    }
   ],
   "source": [
    "type(a)"
   ]
  },
  {
   "cell_type": "code",
   "execution_count": 115,
   "id": "5fed8a49-612c-4d29-89dd-2d2e169995d1",
   "metadata": {},
   "outputs": [],
   "source": [
    "a=2<18"
   ]
  },
  {
   "cell_type": "code",
   "execution_count": 117,
   "id": "1b6f05af-94a5-49e6-9aab-d2e6cc11cd08",
   "metadata": {},
   "outputs": [
    {
     "data": {
      "text/plain": [
       "bool"
      ]
     },
     "execution_count": 117,
     "metadata": {},
     "output_type": "execute_result"
    }
   ],
   "source": [
    "type(a)"
   ]
  },
  {
   "cell_type": "code",
   "execution_count": 119,
   "id": "a69f11ff-90c6-4c02-8d9b-8b260284b64f",
   "metadata": {},
   "outputs": [
    {
     "data": {
      "text/plain": [
       "True"
      ]
     },
     "execution_count": 119,
     "metadata": {},
     "output_type": "execute_result"
    }
   ],
   "source": [
    "a==a"
   ]
  },
  {
   "cell_type": "markdown",
   "id": "edd47327-1f90-4bed-8e7c-f16e4db321de",
   "metadata": {},
   "source": [
    "# comparison Operator"
   ]
  },
  {
   "cell_type": "markdown",
   "id": "493c9be9-7024-4283-8104-1a742bf234b0",
   "metadata": {},
   "source": [
    "## in python comparison operators are used to compare values. these operators return true or false based on whether the camparison in true or false"
   ]
  },
  {
   "cell_type": "code",
   "execution_count": 125,
   "id": "4d658804-550a-4241-a820-911399b2a68e",
   "metadata": {},
   "outputs": [
    {
     "name": "stdout",
     "output_type": "stream",
     "text": [
      "True\n"
     ]
    }
   ],
   "source": [
    "x=6\n",
    "y=6\n",
    "print(x==y)"
   ]
  },
  {
   "cell_type": "code",
   "execution_count": 127,
   "id": "25f10f27-932d-4dee-ac17-881181383b7e",
   "metadata": {},
   "outputs": [
    {
     "name": "stdout",
     "output_type": "stream",
     "text": [
      "False\n"
     ]
    }
   ],
   "source": [
    "x=6.2\n",
    "y=6.5\n",
    "print(x==y)"
   ]
  },
  {
   "cell_type": "markdown",
   "id": "aa0de8ea-6108-4ea3-800c-b1c445fe3d7e",
   "metadata": {},
   "source": [
    "# not equal to  !="
   ]
  },
  {
   "cell_type": "code",
   "execution_count": 134,
   "id": "ec84e8b4-ae9b-45ba-bff5-4ed6e8841a98",
   "metadata": {},
   "outputs": [
    {
     "name": "stdout",
     "output_type": "stream",
     "text": [
      "False\n"
     ]
    }
   ],
   "source": [
    "x=6\n",
    "y=6\n",
    "print(x!=y)"
   ]
  },
  {
   "cell_type": "code",
   "execution_count": 137,
   "id": "483eef2a-8182-49aa-92b5-ec43a24d312b",
   "metadata": {},
   "outputs": [
    {
     "name": "stdout",
     "output_type": "stream",
     "text": [
      "True\n"
     ]
    }
   ],
   "source": [
    "x=6\n",
    "y=8\n",
    "print(x!=y)"
   ]
  },
  {
   "cell_type": "markdown",
   "id": "15f187bc-cc76-4f34-8853-769a4f4049ff",
   "metadata": {},
   "source": [
    "## greater than>"
   ]
  },
  {
   "cell_type": "code",
   "execution_count": 143,
   "id": "4dd755ef-c7bf-42c0-9a69-8aa7b3d72685",
   "metadata": {},
   "outputs": [
    {
     "name": "stdout",
     "output_type": "stream",
     "text": [
      "False\n"
     ]
    }
   ],
   "source": [
    "x=6\n",
    "y=8\n",
    "print(x>y)"
   ]
  },
  {
   "cell_type": "markdown",
   "id": "1bdb894c-a40b-4868-bcfb-9d070d291f68",
   "metadata": {},
   "source": [
    "## less than>"
   ]
  },
  {
   "cell_type": "code",
   "execution_count": 145,
   "id": "c1a6b9fa-2c20-4cb0-8ce9-97894d59750f",
   "metadata": {},
   "outputs": [
    {
     "name": "stdout",
     "output_type": "stream",
     "text": [
      "True\n"
     ]
    }
   ],
   "source": [
    "x=6\n",
    "y=8\n",
    "print(x<y)"
   ]
  },
  {
   "cell_type": "code",
   "execution_count": null,
   "id": "869b729a-00df-4e27-bd68-0c78694f583d",
   "metadata": {},
   "outputs": [],
   "source": []
  }
 ],
 "metadata": {
  "kernelspec": {
   "display_name": "Python 3 (ipykernel)",
   "language": "python",
   "name": "python3"
  },
  "language_info": {
   "codemirror_mode": {
    "name": "ipython",
    "version": 3
   },
   "file_extension": ".py",
   "mimetype": "text/x-python",
   "name": "python",
   "nbconvert_exporter": "python",
   "pygments_lexer": "ipython3",
   "version": "3.12.4"
  }
 },
 "nbformat": 4,
 "nbformat_minor": 5
}
