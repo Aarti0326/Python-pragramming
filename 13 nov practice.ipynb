{
 "cells": [
  {
   "cell_type": "markdown",
   "id": "1d7f4460-8d79-40da-a8ad-b9771c808154",
   "metadata": {},
   "source": [
    "## Write a nested loop that prints a 5x5 multiplication table."
   ]
  },
  {
   "cell_type": "code",
   "execution_count": 2,
   "id": "401968c1-04cb-43b5-b990-ef963936d6ed",
   "metadata": {},
   "outputs": [
    {
     "name": "stdout",
     "output_type": "stream",
     "text": [
      "1 2 3 4 5 \n",
      "2 4 6 8 10 \n",
      "3 6 9 12 15 \n",
      "4 8 12 16 20 \n",
      "5 10 15 20 25 \n"
     ]
    }
   ],
   "source": [
    "for i in range(1, 6):\n",
    "    for j in range(1, 6):\n",
    "        print(i * j, end=\" \")\n",
    "    print()  # New line after each row\n"
   ]
  },
  {
   "cell_type": "markdown",
   "id": "62819e1e-585f-41bb-b1f0-47cb231bc7e2",
   "metadata": {},
   "source": [
    "## Print the following pattern using nested loops:"
   ]
  },
  {
   "cell_type": "code",
   "execution_count": 7,
   "id": "e3f0d0ed-52b3-46d8-9cac-5c179d7fc910",
   "metadata": {},
   "outputs": [
    {
     "name": "stdout",
     "output_type": "stream",
     "text": [
      "* \n",
      "* * \n",
      "* * * \n",
      "* * * * \n",
      "* * * * * \n"
     ]
    }
   ],
   "source": [
    "for i in range(1, 6):\n",
    "    for j in range(i):\n",
    "        print(\"*\", end=\" \")\n",
    "    print()\n"
   ]
  },
  {
   "cell_type": "markdown",
   "id": "b95c676c-6aa3-4242-91bb-a611545a436f",
   "metadata": {},
   "source": [
    "## What is the purpose of the else clause in a loop? Write a code example to demonstrate it."
   ]
  },
  {
   "cell_type": "code",
   "execution_count": 10,
   "id": "2d7546f7-a2fa-4ef9-be85-246555244880",
   "metadata": {},
   "outputs": [
    {
     "name": "stdout",
     "output_type": "stream",
     "text": [
      "1\n",
      "2\n"
     ]
    }
   ],
   "source": [
    "for i in range(1, 6):\n",
    "    if i == 3:\n",
    "        break\n",
    "    print(i)\n",
    "else:\n",
    "    print(\"Loop completed without break.\")\n"
   ]
  },
  {
   "cell_type": "code",
   "execution_count": null,
   "id": "389d16d4-324e-4e6f-8de4-62f915db040e",
   "metadata": {},
   "outputs": [],
   "source": []
  }
 ],
 "metadata": {
  "kernelspec": {
   "display_name": "Python 3 (ipykernel)",
   "language": "python",
   "name": "python3"
  },
  "language_info": {
   "codemirror_mode": {
    "name": "ipython",
    "version": 3
   },
   "file_extension": ".py",
   "mimetype": "text/x-python",
   "name": "python",
   "nbconvert_exporter": "python",
   "pygments_lexer": "ipython3",
   "version": "3.12.4"
  }
 },
 "nbformat": 4,
 "nbformat_minor": 5
}
