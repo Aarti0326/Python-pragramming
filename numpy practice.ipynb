{
 "cells": [
  {
   "cell_type": "markdown",
   "id": "dff9482d-21ac-4e5e-9926-a21746f7f684",
   "metadata": {},
   "source": [
    "### arange"
   ]
  },
  {
   "cell_type": "markdown",
   "id": "c320042a-f22d-4ea2-84c5-8b06a3cde4ef",
   "metadata": {},
   "source": [
    "### Return evenly spaced values within a given interval."
   ]
  },
  {
   "cell_type": "code",
   "execution_count": null,
   "id": "fae18dae-2a0a-4737-99e7-2e778a85d516",
   "metadata": {},
   "outputs": [],
   "source": [
    "#np.arange(start,end,step)"
   ]
  },
  {
   "cell_type": "code",
   "execution_count": 37,
   "id": "5641ff2c-bc4f-4e3a-b38c-d17c88bede1d",
   "metadata": {},
   "outputs": [
    {
     "data": {
      "text/plain": [
       "array([ 0,  1,  2,  3,  4,  5,  6,  7,  8,  9, 10, 11, 12, 13, 14])"
      ]
     },
     "execution_count": 37,
     "metadata": {},
     "output_type": "execute_result"
    }
   ],
   "source": [
    "np.arange(15) # end; default start at 0"
   ]
  },
  {
   "cell_type": "code",
   "execution_count": 41,
   "id": "32a39f4a-0b6a-433e-bca0-f5f59d97be7d",
   "metadata": {},
   "outputs": [
    {
     "data": {
      "text/plain": [
       "array([1, 2, 3, 4])"
      ]
     },
     "execution_count": 41,
     "metadata": {},
     "output_type": "execute_result"
    }
   ],
   "source": [
    "np.arange(1,5)"
   ]
  },
  {
   "cell_type": "code",
   "execution_count": 49,
   "id": "a8f2b94e-e42a-4cc4-b5d6-f58de690b963",
   "metadata": {},
   "outputs": [
    {
     "data": {
      "text/plain": [
       "array([100,  96,  92,  88,  84,  80,  76,  72,  68,  64,  60,  56,  52,\n",
       "        48,  44,  40,  36,  32,  28,  24,  20,  16,  12,   8,   4])"
      ]
     },
     "execution_count": 49,
     "metadata": {},
     "output_type": "execute_result"
    }
   ],
   "source": [
    "np.arange(100,2,-4)"
   ]
  },
  {
   "cell_type": "code",
   "execution_count": null,
   "id": "8c623eea-be4a-434e-b29a-c8eb6cfbcc3a",
   "metadata": {},
   "outputs": [],
   "source": []
  },
  {
   "cell_type": "markdown",
   "id": "82a0bd66-910f-49ab-b4a6-febea3a8c3ba",
   "metadata": {},
   "source": [
    "## joining numpy arrays "
   ]
  },
  {
   "cell_type": "code",
   "execution_count": 2,
   "id": "4fbc54cb-bef4-4339-95eb-ef9322603212",
   "metadata": {},
   "outputs": [],
   "source": [
    "import numpy as np"
   ]
  },
  {
   "cell_type": "code",
   "execution_count": 3,
   "id": "a468e121-863a-4f38-bd9e-b0069c9c95ed",
   "metadata": {},
   "outputs": [
    {
     "name": "stdout",
     "output_type": "stream",
     "text": [
      "[1 2 3 5 6 7]\n"
     ]
    }
   ],
   "source": [
    "arr1 = np.array([1,2,3])\n",
    "arr2 = np.array([5,6,7])\n",
    "arr = np.concatenate((arr1,arr2))\n",
    "print(arr)"
   ]
  },
  {
   "cell_type": "code",
   "execution_count": 4,
   "id": "da9deafb-f161-46e2-b340-e4648da12081",
   "metadata": {},
   "outputs": [
    {
     "name": "stdout",
     "output_type": "stream",
     "text": [
      "24\n"
     ]
    }
   ],
   "source": [
    "arr1 = np.array([1,2,3])\n",
    "arr2 = np.array([5,6,7])\n",
    "arr = np.sum((arr1,arr2))\n",
    "print(arr)"
   ]
  },
  {
   "cell_type": "markdown",
   "id": "6fb21e28-4d74-4284-8d4e-82d0d9f2dbe2",
   "metadata": {},
   "source": [
    "### join 2d array"
   ]
  },
  {
   "cell_type": "code",
   "execution_count": 6,
   "id": "8e9640ce-33f2-4dbd-af05-915b5d61ec44",
   "metadata": {},
   "outputs": [
    {
     "name": "stdout",
     "output_type": "stream",
     "text": [
      "[[1 2 3 5 6 7]\n",
      " [8 6 3 5 7 4]]\n"
     ]
    }
   ],
   "source": [
    "arr1 = np.array([[1,2,3],[8,6,3]])\n",
    "arr2 = np.array([[5,6,7],[5,7,4]])\n",
    "arr = np.concatenate((arr1,arr2),axis = 1)\n",
    "print(arr)\n"
   ]
  },
  {
   "cell_type": "code",
   "execution_count": 7,
   "id": "3df1292c-45b5-4a93-b769-6100359f5607",
   "metadata": {},
   "outputs": [
    {
     "name": "stdout",
     "output_type": "stream",
     "text": [
      "[[1 2 3]\n",
      " [8 6 3]\n",
      " [5 6 7]\n",
      " [5 7 4]]\n"
     ]
    }
   ],
   "source": [
    "arr1 = np.array([[1,2,3],[8,6,3]])\n",
    "arr2 = np.array([[5,6,7],[5,7,4]])\n",
    "arr = np.concatenate((arr1,arr2),axis = 0)\n",
    "print(arr)\n"
   ]
  },
  {
   "cell_type": "markdown",
   "id": "4d1667e0-b686-4628-b27f-e4e9da464f7f",
   "metadata": {},
   "source": [
    "### spliting numpy arrays"
   ]
  },
  {
   "cell_type": "markdown",
   "id": "503faa7f-4949-40f6-bbbc-effa5f0e5000",
   "metadata": {},
   "source": [
    "### splitting the array in 4 parts"
   ]
  },
  {
   "cell_type": "code",
   "execution_count": 10,
   "id": "346febaa-7e72-48e4-b9b4-d4ac2447ab52",
   "metadata": {},
   "outputs": [
    {
     "name": "stdout",
     "output_type": "stream",
     "text": [
      "[array([1, 2]), array([3, 4]), array([5, 6]), array([7, 8])]\n"
     ]
    }
   ],
   "source": [
    "arr =np.array([1, 2, 3, 4, 5, 6, 7, 8])\n",
    "new_arr = np.array_split(arr,4)\n",
    "print(new_arr)"
   ]
  },
  {
   "cell_type": "markdown",
   "id": "fc74ddaa-ed3e-4107-a219-f7cd21ebb0fb",
   "metadata": {},
   "source": [
    "### splitting the array in 2 parts"
   ]
  },
  {
   "cell_type": "code",
   "execution_count": 12,
   "id": "5c1ba230-5398-420a-ba7a-9a35778019e9",
   "metadata": {},
   "outputs": [
    {
     "name": "stdout",
     "output_type": "stream",
     "text": [
      "[array([1, 2, 3, 4]), array([5, 6, 7, 8])]\n"
     ]
    }
   ],
   "source": [
    "arr =np.array([1, 2, 3, 4, 5, 6, 7, 8])\n",
    "new_arr = np.array_split(arr,2)\n",
    "print(new_arr)"
   ]
  },
  {
   "cell_type": "code",
   "execution_count": null,
   "id": "af16f5f0-744e-4a7e-afea-82219e029801",
   "metadata": {},
   "outputs": [],
   "source": []
  },
  {
   "cell_type": "code",
   "execution_count": null,
   "id": "895832b1-f4c7-4a77-865d-3298d968e4a8",
   "metadata": {},
   "outputs": [],
   "source": []
  },
  {
   "cell_type": "markdown",
   "id": "67d78037-66e9-4cad-a547-25070fce4764",
   "metadata": {},
   "source": [
    "## Data Types in NumPy\n",
    "#### NumPy has some extra data types, and refer to data types with one character, like i for integers, u for unsigned integers etc.\n",
    "\n",
    "##### Below is a list of all data types in NumPy and the characters used to represent them.\n",
    "\n",
    "#i - integer\n",
    "\n",
    "#b - boolean\n",
    "\n",
    "#u - unsigned integer\n",
    "\n",
    "#f - float\n",
    "\n",
    "#c - complex float\n",
    "\n",
    "#m - timedelta\n",
    "\n",
    "#M - datetime\n",
    "\n",
    "#O - object\n",
    "\n",
    "#S - string\n",
    "\n",
    "#U - unicode string\n",
    "\n",
    "#V - fixed chunk of memory for other type ( void )"
   ]
  },
  {
   "cell_type": "markdown",
   "id": "8d16245e-835e-4aec-954d-b0a7e2a45146",
   "metadata": {},
   "source": [
    "### `Get the data type of an array object:"
   ]
  },
  {
   "cell_type": "code",
   "execution_count": 15,
   "id": "9331c30e-e86e-4208-bab7-8c008592316d",
   "metadata": {},
   "outputs": [],
   "source": [
    "import numpy as np"
   ]
  },
  {
   "cell_type": "code",
   "execution_count": 16,
   "id": "6bd343ad-bb7b-4514-a61b-9653db8f134c",
   "metadata": {},
   "outputs": [
    {
     "name": "stdout",
     "output_type": "stream",
     "text": [
      "int32\n"
     ]
    }
   ],
   "source": [
    "arr = np.array([1,2,3,4])\n",
    "print(arr.dtype)"
   ]
  },
  {
   "cell_type": "markdown",
   "id": "b24826a2-e60a-43ab-93dc-bce08205cd46",
   "metadata": {},
   "source": [
    "### Get the data type of an array containing strings:"
   ]
  },
  {
   "cell_type": "code",
   "execution_count": 18,
   "id": "27878ea5-68f4-4c42-b113-6e54ac531ee5",
   "metadata": {},
   "outputs": [
    {
     "name": "stdout",
     "output_type": "stream",
     "text": [
      "<U6\n"
     ]
    }
   ],
   "source": [
    "arr = np.array(['apple', 'banana', 'cherry'])\n",
    "print(arr.dtype)"
   ]
  },
  {
   "cell_type": "markdown",
   "id": "d340446d-7fc0-42d4-b771-afc922051f2f",
   "metadata": {},
   "source": [
    "### Create an array with data type string:"
   ]
  },
  {
   "cell_type": "code",
   "execution_count": 20,
   "id": "7b4060e7-67bb-4501-bfd0-33963f2702fa",
   "metadata": {},
   "outputs": [
    {
     "name": "stdout",
     "output_type": "stream",
     "text": [
      "[b'1' b'2' b'3' b'4']\n",
      "|S1\n"
     ]
    }
   ],
   "source": [
    "arr = np.array([1, 2, 3, 4],dtype = 'S')\n",
    "print(arr)\n",
    "print(arr.dtype)"
   ]
  },
  {
   "cell_type": "markdown",
   "id": "eb4a7115-a867-444e-b148-3be805357152",
   "metadata": {},
   "source": [
    "#### Create an array with data type 4 bytes integer:"
   ]
  },
  {
   "cell_type": "code",
   "execution_count": 22,
   "id": "91e9c1da-ae03-4147-be50-fa876c700c2e",
   "metadata": {},
   "outputs": [
    {
     "name": "stdout",
     "output_type": "stream",
     "text": [
      "[1 2 3 4]\n",
      "int32\n"
     ]
    }
   ],
   "source": [
    "arr = np.array([1, 2, 3, 4], dtype='i4')\n",
    "\n",
    "print(arr)\n",
    "print(arr.dtype)"
   ]
  },
  {
   "cell_type": "markdown",
   "id": "71cebdca-3ba9-48e7-84dd-b35affc4d495",
   "metadata": {},
   "source": [
    "### A non integer string like 'a' can not be converted to integer (will raise an error):"
   ]
  },
  {
   "cell_type": "code",
   "execution_count": 24,
   "id": "1ea17114-805b-483f-b565-8fed80c6d8c5",
   "metadata": {},
   "outputs": [
    {
     "ename": "ValueError",
     "evalue": "invalid literal for int() with base 10: 'a'",
     "output_type": "error",
     "traceback": [
      "\u001b[1;31m---------------------------------------------------------------------------\u001b[0m",
      "\u001b[1;31mValueError\u001b[0m                                Traceback (most recent call last)",
      "Cell \u001b[1;32mIn[24], line 1\u001b[0m\n\u001b[1;32m----> 1\u001b[0m arr \u001b[38;5;241m=\u001b[39m np\u001b[38;5;241m.\u001b[39marray([\u001b[38;5;124m'\u001b[39m\u001b[38;5;124ma\u001b[39m\u001b[38;5;124m'\u001b[39m, \u001b[38;5;124m'\u001b[39m\u001b[38;5;124m2\u001b[39m\u001b[38;5;124m'\u001b[39m, \u001b[38;5;124m'\u001b[39m\u001b[38;5;124m3\u001b[39m\u001b[38;5;124m'\u001b[39m], dtype\u001b[38;5;241m=\u001b[39m\u001b[38;5;124m'\u001b[39m\u001b[38;5;124mi4\u001b[39m\u001b[38;5;124m'\u001b[39m)\n\u001b[0;32m      2\u001b[0m \u001b[38;5;28mprint\u001b[39m(arr)\n\u001b[0;32m      3\u001b[0m \u001b[38;5;28mprint\u001b[39m(arr\u001b[38;5;241m.\u001b[39mdtype)\n",
      "\u001b[1;31mValueError\u001b[0m: invalid literal for int() with base 10: 'a'"
     ]
    }
   ],
   "source": [
    "arr = np.array(['a', '2', '3'], dtype='i4')\n",
    "print(arr)\n",
    "print(arr.dtype)"
   ]
  },
  {
   "cell_type": "markdown",
   "id": "adee6d91-e576-4f46-8c19-8514de76459e",
   "metadata": {},
   "source": [
    "### Change data type from float to integer by using 'i' as parameter value:"
   ]
  },
  {
   "cell_type": "code",
   "execution_count": null,
   "id": "6a385464-3882-4ad4-a44c-9f079f5b0402",
   "metadata": {},
   "outputs": [],
   "source": [
    "arr = np.array([1.1, 2.1, 3.1])\n",
    "arr1 = arr.astype('i')\n",
    "print(arr1)\n",
    "print(arr1.dtype)"
   ]
  },
  {
   "cell_type": "markdown",
   "id": "6a813829-aeaa-4ede-b62a-02b89eb0cf71",
   "metadata": {},
   "source": [
    "### Change data type from float to integer by using int as parameter value:"
   ]
  },
  {
   "cell_type": "code",
   "execution_count": null,
   "id": "d23dca3b-8c2d-4c8b-9573-56bf4f828c15",
   "metadata": {},
   "outputs": [],
   "source": [
    "arr = np.array([1.1, 2.1, 3.1])\n",
    "\n",
    "newarr = arr.astype(int)\n",
    "\n",
    "print(newarr)\n",
    "print(newarr.dtype)"
   ]
  },
  {
   "cell_type": "markdown",
   "id": "d6c96a03-92a1-40e5-b524-f29ceebba2aa",
   "metadata": {},
   "source": [
    "### Change data type from integer to boolean:"
   ]
  },
  {
   "cell_type": "code",
   "execution_count": null,
   "id": "8ed22789-d8e5-48ab-8178-def6ba2307c1",
   "metadata": {},
   "outputs": [],
   "source": [
    "arr = np.array([1, 0, 3])\n",
    "arr1 =arr.astype(bool)\n",
    "print(arr)\n",
    "print(arr1)"
   ]
  },
  {
   "cell_type": "code",
   "execution_count": null,
   "id": "75b51c40-01d5-43e9-81dd-3acd37917712",
   "metadata": {},
   "outputs": [],
   "source": [
    "arr = np.array([-1, 0, 1])\n",
    "newarr = arr.astype('S')\n",
    "print(newarr)"
   ]
  },
  {
   "cell_type": "markdown",
   "id": "af262085-58e3-45a2-93d2-6e2b202acd9d",
   "metadata": {},
   "source": [
    "### COPY:"
   ]
  },
  {
   "cell_type": "markdown",
   "id": "6255dbca-1765-41cd-8fd9-722b3e94d3aa",
   "metadata": {},
   "source": [
    "#### Make a copy, change the original array, and display both arrays:"
   ]
  },
  {
   "cell_type": "code",
   "execution_count": null,
   "id": "4459eca1-2c50-46f2-a182-fe35ff83719b",
   "metadata": {},
   "outputs": [],
   "source": [
    "arr = np.array([1, 2, 3, 4, 5])\n",
    "x = arr.copy() \n",
    "arr[0] = 42   \n",
    "print(x)     #The copy SHOULD NOT be affected by the changes made to the original array.\n",
    "                  "
   ]
  },
  {
   "cell_type": "code",
   "execution_count": null,
   "id": "80f6d525-51fd-42c7-ab4d-b88e7103878a",
   "metadata": {},
   "outputs": [],
   "source": [
    "print(arr)"
   ]
  },
  {
   "cell_type": "markdown",
   "id": "62e30d3e-200a-4356-b518-0e9d0d7b73b0",
   "metadata": {},
   "source": [
    "### Make a view, change the original array, and display both arrays:"
   ]
  },
  {
   "cell_type": "code",
   "execution_count": null,
   "id": "373cbd06-1712-4dea-90a3-c33500330855",
   "metadata": {},
   "outputs": [],
   "source": [
    "arr = np.array([1, 2, 3, 4, 5])\n",
    "x = arr.view()\n",
    "arr[0] = 40\n",
    "print(arr)\n",
    "print(x)   #The view SHOULD be affected by the changes made to the original array."
   ]
  },
  {
   "cell_type": "code",
   "execution_count": null,
   "id": "0fb87c1b-d58a-48e3-8cc3-99dde230c49e",
   "metadata": {},
   "outputs": [],
   "source": [
    "#Check if Array Owns its Data\n",
    "#As mentioned above, copies owns the data, and views does not own the data, but how can we check this?\n",
    "\n",
    "#Every NumPy array has the attribute base that returns None if the array owns the data.\n",
    "\n",
    "#Otherwise, the base  attribute refers to the original object."
   ]
  },
  {
   "cell_type": "markdown",
   "id": "4e7372b7-77f8-42a9-b5e9-a5c444c28590",
   "metadata": {},
   "source": [
    "### Print the value of the base attribute to check if an array owns it's data or not:"
   ]
  },
  {
   "cell_type": "code",
   "execution_count": null,
   "id": "8af5d4ef-14f6-4d01-8b3f-82697ee7e76f",
   "metadata": {},
   "outputs": [],
   "source": [
    "arr = np.array([1, 2, 3, 4, 5])\n",
    "\n",
    "a = arr.copy()\n",
    "b = arr.view()\n",
    "\n",
    "print(a.base)\n",
    "print(b.base)"
   ]
  },
  {
   "cell_type": "code",
   "execution_count": null,
   "id": "ab9581fd-bdf3-42bc-9b42-7dd8caaa448a",
   "metadata": {},
   "outputs": [],
   "source": [
    "original_array = np.array([1, 2, 3])\n",
    "x = original_array.copy()               \n",
    "x[1] = 5\n",
    "print(original_array) #The copy SHOULD NOT be affected by the changes made to the original array."
   ]
  },
  {
   "cell_type": "code",
   "execution_count": null,
   "id": "38f62606-80e9-48a4-825b-30670b4f8c9c",
   "metadata": {},
   "outputs": [],
   "source": [
    "original_array = np.array([4,5,6])\n",
    "x= original_array.view()\n",
    "x[0] = 1\n",
    "print(original_array)  #The view SHOULD be affected by the changes made to the original array.  \n"
   ]
  },
  {
   "cell_type": "markdown",
   "id": "d8397b83-3ccb-47ca-bb4c-6792c0186859",
   "metadata": {},
   "source": [
    "## Shape of an Array\n",
    "### The shape of an array is the number of elements in each dimension."
   ]
  },
  {
   "cell_type": "markdown",
   "id": "9435229c-3e24-4875-842a-7447f6027929",
   "metadata": {},
   "source": [
    "#### NumPy arrays have an attribute called shape that returns a tuple with each index having the number of corresponding elements."
   ]
  },
  {
   "cell_type": "markdown",
   "id": "700f1580-f74b-4a3a-aadb-dda086f07adf",
   "metadata": {},
   "source": [
    "### Print the shape of a 2-D array:"
   ]
  },
  {
   "cell_type": "code",
   "execution_count": null,
   "id": "d8ca6dd8-8cd5-4885-b586-334d6315b3c3",
   "metadata": {},
   "outputs": [],
   "source": [
    "arr = np.array([[1, 2, 3, 4], [5, 6, 7, 8]])\n",
    "print(arr.shape)"
   ]
  },
  {
   "cell_type": "markdown",
   "id": "1114dcf1-15c2-4a0f-9698-9d3a539148d8",
   "metadata": {},
   "source": [
    "## Reshaping arrays\n",
    "#### Reshaping means changing the shape of an array.\n",
    "\n",
    "#### The shape of an array is the number of elements in each dimension.\n",
    "\n",
    "#### By reshaping we can add or remove dimensions or change number of elements in each dimension.\n",
    "\n"
   ]
  },
  {
   "cell_type": "markdown",
   "id": "0e064808-7837-4715-8871-1cbb1764ed16",
   "metadata": {},
   "source": [
    "## Convert the following 1-D array with 12 elements into a 2-D array.\n",
    "\n",
    "## The outermost dimension will have 4 arrays, each with 3 elements:"
   ]
  },
  {
   "cell_type": "code",
   "execution_count": null,
   "id": "66c10ba1-bc93-48ed-96ff-346a6d776be1",
   "metadata": {},
   "outputs": [],
   "source": [
    "arr = np.array([1, 2, 3, 4, 5, 6, 7, 8, 9, 10, 11, 12])\n",
    "arrnew = arr.reshape(3,4)\n",
    "print(arrnew)"
   ]
  },
  {
   "cell_type": "code",
   "execution_count": null,
   "id": "457d6bef-9de5-4a12-a3e7-29cf350dbe85",
   "metadata": {},
   "outputs": [],
   "source": [
    "arr = np.array([1, 2, 3, 4, 5, 6, 7, 8, 9, 10, 11, 12])\n",
    "arr1 = arr.reshape(2,3,2)\n",
    "print(arr1)"
   ]
  },
  {
   "cell_type": "markdown",
   "id": "815df1ab-09aa-4c10-9c4a-bb11ea9976c5",
   "metadata": {},
   "source": [
    "### Can We Reshape Into any Shape?"
   ]
  },
  {
   "cell_type": "markdown",
   "id": "99c77c98-f0df-458d-91f8-1aa1c937e62d",
   "metadata": {},
   "source": [
    "### We can reshape an 8 elements 1D array into 4 elements in 2 rows 2D array but we cannot reshape it into a 3 elements 3 rows 2D array as that would require 3x3 = 9 elements."
   ]
  },
  {
   "cell_type": "markdown",
   "id": "7ce14ac2-0963-4c2a-901f-9c52ca7def67",
   "metadata": {},
   "source": [
    "## Try converting 1D array with 8 elements to a 2D array with 3 elements in each dimension (will raise an error):"
   ]
  },
  {
   "cell_type": "code",
   "execution_count": null,
   "id": "3c73c874-049b-4b5e-869c-fb8ab6baaddb",
   "metadata": {},
   "outputs": [],
   "source": [
    "arr = np.array([1, 2, 3, 4, 5, 6, 7, 8])\n",
    "\n",
    "newarr = arr.reshape(3, 3)\n",
    "\n",
    "print(newarr)"
   ]
  },
  {
   "cell_type": "markdown",
   "id": "0fe0e381-e816-4a51-b4a8-a963e00f7f19",
   "metadata": {},
   "source": [
    "## Check if the returned array is a copy or a view:\n"
   ]
  },
  {
   "cell_type": "code",
   "execution_count": null,
   "id": "1929d2d9-0fa1-4c1b-8381-22f4fa95c39e",
   "metadata": {},
   "outputs": [],
   "source": [
    "arr = np.array([1, 2, 3, 4, 5, 6, 7, 8])\n",
    "print(arr.reshape(2,4).base)      \n",
    "print(\"The example above returns the original array, so it is a view.\")"
   ]
  },
  {
   "cell_type": "code",
   "execution_count": null,
   "id": "a38801c4-f2cf-472a-8565-3d0c2f360466",
   "metadata": {},
   "outputs": [],
   "source": [
    "arr = np.array([1, 2, 3, 4, 5, 6, 7, 8])\n",
    "x = arr.copy()\n",
    "arr[0] = 5\n",
    "print(arr.reshape(4,2).base)  "
   ]
  },
  {
   "cell_type": "markdown",
   "id": "41d6b51c-0a3d-4305-a929-d1e775a512cf",
   "metadata": {},
   "source": [
    "## ravel & flatten"
   ]
  },
  {
   "cell_type": "markdown",
   "id": "5bba9e30-5f4a-49ad-bfe1-b39d15764e7b",
   "metadata": {},
   "source": [
    "#### converts multidimensional array into 1d array "
   ]
  },
  {
   "cell_type": "code",
   "execution_count": null,
   "id": "2a59b9ec-6a53-4476-9775-70feed5c70de",
   "metadata": {},
   "outputs": [],
   "source": [
    "a = np.array([[[1,2,3],[4,5,6]],[[7,8,9],[7,4,1]]])\n",
    "print(a)\n",
    "print(\"dimension is\",a.ndim)\n",
    "\n",
    "b = a.ravel()\n",
    "print(b)\n",
    "print(\"the new dimension is\",b.ndim)\n"
   ]
  },
  {
   "cell_type": "code",
   "execution_count": null,
   "id": "1ef64fb0-d693-402e-9b1e-30b8a6fd5418",
   "metadata": {},
   "outputs": [],
   "source": [
    "c = np.array([[1,2,3],[4,5,6],[7,8,9],[7,4,1]])"
   ]
  },
  {
   "cell_type": "code",
   "execution_count": null,
   "id": "8cdf91bf-4178-4e42-a3bb-322e6da51afa",
   "metadata": {},
   "outputs": [],
   "source": [
    "print(c)\n",
    "print(\"dimension is\",c.ndim)\n",
    "\n",
    "d = c.flatten()\n",
    "print(d)\n",
    "print(\"the new dimension is\",d.ndim)"
   ]
  },
  {
   "cell_type": "markdown",
   "id": "7c6d5ec4-40b9-42c2-bb39-3fc66a24234b",
   "metadata": {},
   "source": [
    "### Unique Function"
   ]
  },
  {
   "cell_type": "code",
   "execution_count": null,
   "id": "2ff7a5b9-0206-4f2f-aa0b-5becf300146b",
   "metadata": {},
   "outputs": [],
   "source": [
    "k = np.array([1,2,5,7,8,8,8,5,6,7,3,0,4,5,10])\n",
    "print(k)\n",
    "inique = np.unique(k)\n",
    "print(inique)"
   ]
  },
  {
   "cell_type": "code",
   "execution_count": null,
   "id": "c64f5930-48cf-4bbd-9f57-bc66a335b72d",
   "metadata": {},
   "outputs": [],
   "source": [
    "k = np.array([1,2,5,7,8,8,8,5,6,7,3,0,4,5,10])\n",
    "print(k)\n",
    "x = np.unique(k,return_index = True) ## use for index position\n",
    "print(x)"
   ]
  },
  {
   "cell_type": "code",
   "execution_count": null,
   "id": "d5889e39-c191-4f05-ad41-9d364f4311db",
   "metadata": {},
   "outputs": [],
   "source": [
    "k = np.array([1,2,5,7,8,8,8,5,6,7,3,0,4,5,10])\n",
    "print(k)\n",
    "x = np.unique(k,return_index = True) ## use for index position\n",
    "print(x)"
   ]
  },
  {
   "cell_type": "code",
   "execution_count": null,
   "id": "11e8815a-3a4a-4c61-9c66-3dd0dec0435d",
   "metadata": {},
   "outputs": [],
   "source": [
    "k = np.array([1,2,5,7,8,8,8,5,6,7,3,0,4,5,10])\n",
    "print(k)\n",
    "x = np.unique(k,return_index = True,return_counts = True) ## use for repeted values count\n",
    "print(x)"
   ]
  },
  {
   "cell_type": "markdown",
   "id": "f0273b32-d376-4826-a7f4-34fbc7e96c42",
   "metadata": {},
   "source": [
    "### Delete"
   ]
  },
  {
   "cell_type": "code",
   "execution_count": null,
   "id": "72078026-1055-465b-ad19-8edcd16cc5f3",
   "metadata": {},
   "outputs": [],
   "source": [
    "a = np.array([45,63,2,8])\n",
    "del1 = np.delete(a,[0])\n",
    "print(del1)"
   ]
  },
  {
   "cell_type": "code",
   "execution_count": 62,
   "id": "9bed4116-4c89-43cd-9293-fb27245219d9",
   "metadata": {},
   "outputs": [
    {
     "name": "stdout",
     "output_type": "stream",
     "text": [
      "[[[1 2 3]\n",
      "  [4 5 6]]\n",
      "\n",
      " [[7 8 9]\n",
      "  [7 4 1]]]\n",
      "\n",
      "[[[1 2 3]\n",
      "  [4 5 6]]]\n"
     ]
    }
   ],
   "source": [
    "b = np.array([[[1,2,3],[4,5,6]],[[7,8,9],[7,4,1]]])\n",
    "print(b)\n",
    "x = np.delete(b,1,axis =0)\n",
    "print()\n",
    "print(x)\n"
   ]
  }
 ],
 "metadata": {
  "kernelspec": {
   "display_name": "Python 3 (ipykernel)",
   "language": "python",
   "name": "python3"
  },
  "language_info": {
   "codemirror_mode": {
    "name": "ipython",
    "version": 3
   },
   "file_extension": ".py",
   "mimetype": "text/x-python",
   "name": "python",
   "nbconvert_exporter": "python",
   "pygments_lexer": "ipython3",
   "version": "3.12.4"
  }
 },
 "nbformat": 4,
 "nbformat_minor": 5
}
