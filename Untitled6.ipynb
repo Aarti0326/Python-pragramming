{
 "cells": [
  {
   "cell_type": "code",
   "execution_count": 5,
   "id": "32ad4521-51ec-4178-ba2f-6a11e482d284",
   "metadata": {},
   "outputs": [
    {
     "name": "stdout",
     "output_type": "stream",
     "text": [
      "\n",
      "Welcome to the ATM\n",
      "1. Check Balance\n",
      "2. Deposit Money\n",
      "3. Withdraw Money\n",
      "4. Exit\n"
     ]
    },
    {
     "name": "stdin",
     "output_type": "stream",
     "text": [
      "Enter your choice (1-4):  3\n",
      "Enter the amount to withdraw: $ 5000\n"
     ]
    },
    {
     "name": "stdout",
     "output_type": "stream",
     "text": [
      "Insufficient balance!\n",
      "\n",
      "Welcome to the ATM\n",
      "1. Check Balance\n",
      "2. Deposit Money\n",
      "3. Withdraw Money\n",
      "4. Exit\n"
     ]
    },
    {
     "name": "stdin",
     "output_type": "stream",
     "text": [
      "Enter your choice (1-4):  200\n"
     ]
    },
    {
     "name": "stdout",
     "output_type": "stream",
     "text": [
      "Invalid choice. Please select a valid option.\n",
      "\n",
      "Welcome to the ATM\n",
      "1. Check Balance\n",
      "2. Deposit Money\n",
      "3. Withdraw Money\n",
      "4. Exit\n"
     ]
    },
    {
     "name": "stdin",
     "output_type": "stream",
     "text": [
      "Enter your choice (1-4):  1\n"
     ]
    },
    {
     "name": "stdout",
     "output_type": "stream",
     "text": [
      "Your current balance is: $1000.00\n",
      "\n",
      "Welcome to the ATM\n",
      "1. Check Balance\n",
      "2. Deposit Money\n",
      "3. Withdraw Money\n",
      "4. Exit\n"
     ]
    },
    {
     "name": "stdin",
     "output_type": "stream",
     "text": [
      "Enter your choice (1-4):  3\n",
      "Enter the amount to withdraw: $ 200\n"
     ]
    },
    {
     "name": "stdout",
     "output_type": "stream",
     "text": [
      "$200.00 has been withdrawn from your account.\n",
      "\n",
      "Welcome to the ATM\n",
      "1. Check Balance\n",
      "2. Deposit Money\n",
      "3. Withdraw Money\n",
      "4. Exit\n"
     ]
    },
    {
     "name": "stdin",
     "output_type": "stream",
     "text": [
      "Enter your choice (1-4):  1\n"
     ]
    },
    {
     "name": "stdout",
     "output_type": "stream",
     "text": [
      "Your current balance is: $800.00\n",
      "\n",
      "Welcome to the ATM\n",
      "1. Check Balance\n",
      "2. Deposit Money\n",
      "3. Withdraw Money\n",
      "4. Exit\n"
     ]
    },
    {
     "name": "stdin",
     "output_type": "stream",
     "text": [
      "Enter your choice (1-4):  3\n",
      "Enter the amount to withdraw: $ 300\n"
     ]
    },
    {
     "name": "stdout",
     "output_type": "stream",
     "text": [
      "$300.00 has been withdrawn from your account.\n",
      "\n",
      "Welcome to the ATM\n",
      "1. Check Balance\n",
      "2. Deposit Money\n",
      "3. Withdraw Money\n",
      "4. Exit\n"
     ]
    },
    {
     "name": "stdin",
     "output_type": "stream",
     "text": [
      "Enter your choice (1-4):  1\n"
     ]
    },
    {
     "name": "stdout",
     "output_type": "stream",
     "text": [
      "Your current balance is: $500.00\n",
      "\n",
      "Welcome to the ATM\n",
      "1. Check Balance\n",
      "2. Deposit Money\n",
      "3. Withdraw Money\n",
      "4. Exit\n"
     ]
    },
    {
     "name": "stdin",
     "output_type": "stream",
     "text": [
      "Enter your choice (1-4):  4\n"
     ]
    },
    {
     "name": "stdout",
     "output_type": "stream",
     "text": [
      "Thank you for using the ATM. Goodbye!\n"
     ]
    }
   ],
   "source": [
    "# Simple ATM Program\n",
    "\n",
    "# Initial balance\n",
    "balance = 1000.0\n",
    "\n",
    "def display_menu():\n",
    "    print(\"\\nWelcome to the ATM\")\n",
    "    print(\"1. Check Balance\")\n",
    "    print(\"2. Deposit Money\")\n",
    "    print(\"3. Withdraw Money\")\n",
    "    print(\"4. Exit\")\n",
    "\n",
    "while True:\n",
    "    display_menu()\n",
    "    choice = input(\"Enter your choice (1-4): \")\n",
    "\n",
    "    if choice == '1':\n",
    "        # Check balance\n",
    "        print(f\"Your current balance is: ${balance:.2f}\")\n",
    "\n",
    "    elif choice == '2':\n",
    "        # Deposit money\n",
    "        deposit_amount = float(input(\"Enter the amount to deposit: $\"))\n",
    "        if deposit_amount > 0:\n",
    "            balance += deposit_amount\n",
    "            print(f\"${deposit_amount:.2f} has been deposited to your account.\")\n",
    "        else:\n",
    "            print(\"Invalid amount. Please enter a positive value.\")\n",
    "\n",
    "    elif choice == '3':\n",
    "        # Withdraw money\n",
    "        withdraw_amount = float(input(\"Enter the amount to withdraw: $\"))\n",
    "        if 0 < withdraw_amount <= balance:\n",
    "            balance -= withdraw_amount\n",
    "            print(f\"${withdraw_amount:.2f} has been withdrawn from your account.\")\n",
    "        elif withdraw_amount > balance:\n",
    "            print(\"Insufficient balance!\")\n",
    "        else:\n",
    "            print(\"Invalid amount. Please enter a positive value.\")\n",
    "\n",
    "    elif choice == '4':\n",
    "        # Exit the program\n",
    "        print(\"Thank you for using the ATM. Goodbye!\")\n",
    "        break\n",
    "\n",
    "    else:\n",
    "        print(\"Invalid choice. Please select a valid option.\")\n"
   ]
  },
  {
   "cell_type": "code",
   "execution_count": null,
   "id": "1f09c760-3b01-44a5-afc5-54aef025a8c8",
   "metadata": {},
   "outputs": [],
   "source": []
  }
 ],
 "metadata": {
  "kernelspec": {
   "display_name": "Python 3 (ipykernel)",
   "language": "python",
   "name": "python3"
  },
  "language_info": {
   "codemirror_mode": {
    "name": "ipython",
    "version": 3
   },
   "file_extension": ".py",
   "mimetype": "text/x-python",
   "name": "python",
   "nbconvert_exporter": "python",
   "pygments_lexer": "ipython3",
   "version": "3.12.4"
  }
 },
 "nbformat": 4,
 "nbformat_minor": 5
}
