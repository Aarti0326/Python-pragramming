{
 "cells": [
  {
   "cell_type": "markdown",
   "id": "5972503d-fcf6-4946-a221-f3b1d3980cf2",
   "metadata": {},
   "source": [
    "## Assignment-7"
   ]
  },
  {
   "cell_type": "markdown",
   "id": "5fe5f80c-951c-483c-bf41-29b5240f6bae",
   "metadata": {},
   "source": [
    "## 1)Create an array of all even integers from 10-50."
   ]
  },
  {
   "cell_type": "code",
   "execution_count": 3,
   "id": "728e711a-fdca-4d03-9cae-3fe5cf4a3a2f",
   "metadata": {},
   "outputs": [
    {
     "name": "stdout",
     "output_type": "stream",
     "text": [
      "[10 12 14 16 18 20 22 24 26 28 30 32 34 36 38 40 42 44 46 48 50]\n"
     ]
    }
   ],
   "source": [
    "import numpy as np\n",
    "\n",
    "even_array = np.arange(10,51,2)\n",
    "print(even_array)"
   ]
  },
  {
   "cell_type": "markdown",
   "id": "6df9b164-e654-4407-9c32-ef54828c149c",
   "metadata": {},
   "source": [
    "## 2)Create an array of 20 linearly spaced points between 0 and 1."
   ]
  },
  {
   "cell_type": "code",
   "execution_count": 5,
   "id": "a026c46f-abb9-4e7a-875a-af63020a4ee4",
   "metadata": {},
   "outputs": [
    {
     "name": "stdout",
     "output_type": "stream",
     "text": [
      "[0.         0.05263158 0.10526316 0.15789474 0.21052632 0.26315789\n",
      " 0.31578947 0.36842105 0.42105263 0.47368421 0.52631579 0.57894737\n",
      " 0.63157895 0.68421053 0.73684211 0.78947368 0.84210526 0.89473684\n",
      " 0.94736842 1.        ]\n"
     ]
    }
   ],
   "source": [
    "linear_array = np.linspace(0,1,20)\n",
    "print(linear_array)"
   ]
  },
  {
   "cell_type": "markdown",
   "id": "44dcf207-9ff6-48de-80af-64c878bb999c",
   "metadata": {},
   "source": [
    "## 3)Write a NumPy program to compute the cross product of two given vectors."
   ]
  },
  {
   "cell_type": "code",
   "execution_count": 7,
   "id": "8f75e319-7ea4-48c0-9c3c-7bf69331df31",
   "metadata": {},
   "outputs": [
    {
     "name": "stdout",
     "output_type": "stream",
     "text": [
      "[-3  6 -3]\n"
     ]
    }
   ],
   "source": [
    "vector1 = np.array([1, 2, 3])\n",
    "vector2 = np.array([4, 5, 6])\n",
    "cross_product = np.cross(vector1, vector2)\n",
    "print(cross_product)"
   ]
  },
  {
   "cell_type": "markdown",
   "id": "fab70241-6ef9-422a-a8f9-fcc883e36011",
   "metadata": {},
   "source": [
    "## 4)Write a NumPy program to generate six random integers between 10 and 30."
   ]
  },
  {
   "cell_type": "code",
   "execution_count": 40,
   "id": "4474c969-8e24-4654-9573-5ce0d5879cbb",
   "metadata": {},
   "outputs": [
    {
     "name": "stdout",
     "output_type": "stream",
     "text": [
      "Random integers between 10 and 30: [13 29 16 16 29 18 24 18 27 11]\n"
     ]
    }
   ],
   "source": [
    "import numpy as np\n",
    "\n",
    "# Generate six random integers between 10 and 30\n",
    "random_integers = np.random.randint(10, 31,size = 10)\n",
    "\n",
    "print(\"Random integers between 10 and 30:\", random_integers)\n"
   ]
  },
  {
   "cell_type": "markdown",
   "id": "6b9a02f8-3869-4985-b32f-0ea1938c6898",
   "metadata": {},
   "source": [
    "## 5)Write a python program to add two numpy arrays."
   ]
  },
  {
   "cell_type": "code",
   "execution_count": 45,
   "id": "28eb3a5d-6425-464e-88b3-cc48c812969f",
   "metadata": {},
   "outputs": [
    {
     "data": {
      "text/plain": [
       "array([11, 22, 33, 44, 55])"
      ]
     },
     "execution_count": 45,
     "metadata": {},
     "output_type": "execute_result"
    }
   ],
   "source": [
    "array1 = np.array([1, 2, 3, 4, 5])\n",
    "array2 = np.array([10, 20, 30, 40, 50])\n",
    "\n",
    "# Method 1: Using numpy.add()\n",
    "sum_array1 = np.add(array1, array2)\n",
    "sum_array1 "
   ]
  },
  {
   "cell_type": "markdown",
   "id": "027ec6c8-2fde-483d-bc9f-6baef7a823dd",
   "metadata": {},
   "source": [
    "## 6)Write a python program to demonstrate indexing in NumPy array."
   ]
  },
  {
   "cell_type": "code",
   "execution_count": 16,
   "id": "6473c8a4-9603-4806-aba5-af80aaa2aff3",
   "metadata": {},
   "outputs": [
    {
     "name": "stdout",
     "output_type": "stream",
     "text": [
      "Element at index (0, 0): 1\n",
      "Element at index (1, 2): 6\n",
      "Row at index 1: [4 5 6]\n",
      "Column at index 2: [3 6 9]\n",
      "Sub-array from row 1 to 2 and column 0 to 2:\n",
      " [[4 5]\n",
      " [7 8]]\n"
     ]
    }
   ],
   "source": [
    "import numpy as np\n",
    "\n",
    "# Create a 2D NumPy array\n",
    "arr = np.array([[1, 2, 3], [4, 5, 6], [7, 8, 9]])\n",
    "\n",
    "# Access elements using index\n",
    "print(\"Element at index (0, 0):\", arr[0, 0])  # Access element at row 0, column 0\n",
    "print(\"Element at index (1, 2):\", arr[1, 2])  # Access element at row 1, column 2\n",
    "\n",
    "# Accessing entire row and column\n",
    "print(\"Row at index 1:\", arr[1, :])  # Access entire row at index 1\n",
    "print(\"Column at index 2:\", arr[:, 2])  # Access entire column at index 2\n",
    "\n",
    "# Accessing a sub-array using slicing\n",
    "print(\"Sub-array from row 1 to 2 and column 0 to 2:\\n\", arr[1:3, 0:2])\n"
   ]
  },
  {
   "cell_type": "markdown",
   "id": "f74a24a0-e742-41c0-b25b-1cb2c832b93e",
   "metadata": {},
   "source": [
    "## Create a data frame using `df = pd.DataFrame(randn(5,4),index='A B C D E'.split(),columns='W X Y Z'.split()) then add a new column to it."
   ]
  },
  {
   "cell_type": "code",
   "execution_count": 7,
   "id": "2f59c273-413c-4bcc-a7bb-59f166073a17",
   "metadata": {},
   "outputs": [
    {
     "name": "stdout",
     "output_type": "stream",
     "text": [
      "          W         X         Y         Z  NewCol\n",
      "A -0.360035  1.737295 -1.394694 -0.872255       1\n",
      "B -1.076486 -0.501382  0.492693 -0.398306       2\n",
      "C  0.540123 -0.177771  0.804708  0.925494       3\n",
      "D  2.117914 -0.132590 -0.711446 -0.756774       4\n",
      "E  1.996606 -0.804803  0.835839  0.338232       5\n"
     ]
    }
   ],
   "source": [
    "import pandas as pd\n",
    "from numpy import random\n",
    "\n",
    "\n",
    "df = pd.DataFrame(random.randn(5, 4), index='A B C D E'.split(), columns='W X Y Z'.split())\n",
    "\n",
    "# Adding a new column to the DataFrame\n",
    "df['NewCol'] = [1, 2, 3, 4, 5]  # Adding a simple column with values 1, 2, 3, 4, 5\n",
    "\n",
    "# Display the DataFrame\n",
    "print(df)\n"
   ]
  },
  {
   "cell_type": "markdown",
   "id": "794d7a6d-95a7-48fd-8a0a-3b9897da7f6d",
   "metadata": {},
   "source": [
    "## 2)Develop a dataframe for\n",
    "## data = {'Company':['GOOG','GOOG','MSFT','MSFT','FB','FB'], 'Person':['Sam','Charlie','Amy','Vanessa','Carl','Sarah'], 'Sales':[200,120,340,124,243,350]}.\n",
    "\n",
    "## Then group the data using company column."
   ]
  },
  {
   "cell_type": "code",
   "execution_count": 10,
   "id": "f2176fc1-5bb5-4797-88a4-39d7b9703408",
   "metadata": {},
   "outputs": [
    {
     "name": "stdout",
     "output_type": "stream",
     "text": [
      "Company: FB\n",
      "  Company Person  Sales\n",
      "4      FB   Carl    243\n",
      "5      FB  Sarah    350 \n",
      "\n",
      "Company: GOOG\n",
      "  Company   Person  Sales\n",
      "0    GOOG      Sam    200\n",
      "1    GOOG  Charlie    120 \n",
      "\n",
      "Company: MSFT\n",
      "  Company   Person  Sales\n",
      "2    MSFT      Amy    340\n",
      "3    MSFT  Vanessa    124 \n",
      "\n"
     ]
    }
   ],
   "source": [
    "import pandas as pd\n",
    "\n",
    "# Create the DataFrame\n",
    "data = {'Company': ['GOOG', 'GOOG', 'MSFT', 'MSFT', 'FB', 'FB'],\n",
    "        'Person': ['Sam', 'Charlie', 'Amy', 'Vanessa', 'Carl', 'Sarah'],\n",
    "        'Sales': [200, 120, 340, 124, 243, 350]}\n",
    "\n",
    "df = pd.DataFrame(data)\n",
    "\n",
    "# Group by the 'Company' column\n",
    "grouped = df.groupby('Company')\n",
    "\n",
    "# Display the groups\n",
    "for company, group in grouped:\n",
    "    print(f\"Company: {company}\")\n",
    "    print(group, \"\\n\")\n"
   ]
  },
  {
   "cell_type": "markdown",
   "id": "e279bd02-69fb-49d0-9477-2e5eaa2ec07c",
   "metadata": {},
   "source": [
    "## 3)Write a Pandas program to remove repetitive characters from the specified column of a given DataFrame."
   ]
  },
  {
   "cell_type": "code",
   "execution_count": 13,
   "id": "9916b6da-f125-47d3-a5f7-31accfd5f324",
   "metadata": {},
   "outputs": [
    {
     "name": "stdout",
     "output_type": "stream",
     "text": [
      "       Name  Text\n",
      "0      neha   abc\n",
      "1  vaishali    xy\n",
      "2     rohit   abc\n",
      "3     divya  pqrs\n"
     ]
    }
   ],
   "source": [
    "import pandas as pd\n",
    "\n",
    "# Create a sample DataFrame\n",
    "data = {'Name': ['neha', 'vaishali', 'rohit', 'divya'],\n",
    "        'Text': ['aabbcc', 'xxxyyy', 'aaabbbccc', 'ppqqrrss']}\n",
    "\n",
    "df = pd.DataFrame(data)\n",
    "\n",
    "# Remove consecutive repetitive characters in the 'Text' column\n",
    "df['Text'] = df['Text'].str.replace(r'(.)\\1+', r'\\1', regex=True)\n",
    "\n",
    "# Display the updated DataFrame\n",
    "print(df)\n"
   ]
  },
  {
   "cell_type": "markdown",
   "id": "cf511d33-59e2-49a5-8cd1-976d614b3f24",
   "metadata": {},
   "source": [
    "## 4)Write a Pandas program to create a Pivot table and find the total sale amount region wise, manager wise, sales man wise."
   ]
  },
  {
   "cell_type": "code",
   "execution_count": 19,
   "id": "22d0d4cb-6317-4f7f-b236-a6251d521ab6",
   "metadata": {},
   "outputs": [
    {
     "name": "stdout",
     "output_type": "stream",
     "text": [
      "                         Sale_Amount\n",
      "Region Manager Salesman             \n",
      "East   anjali  raj               600\n",
      "North  neha    samir             500\n",
      "       rohan   vedika            750\n",
      "       sushant nisha             800\n",
      "South  aarti   mitali            650\n",
      "       javid   sam               700\n",
      "West   nikita  usha              900\n",
      "       shweta  adi               950\n"
     ]
    }
   ],
   "source": [
    "import pandas as pd\n",
    "\n",
    "# Sample data: Sales records\n",
    "data = {\n",
    "    'Region': ['North', 'South', 'North', 'East', 'West', 'South', 'West', 'North'],\n",
    "    'Manager': ['neha', 'javid', 'sushant', 'anjali', 'nikita', 'aarti', 'shweta', 'rohan'],\n",
    "    'Salesman': ['samir', 'sam', 'nisha', 'raj', 'usha', 'mitali', 'adi', 'vedika'],\n",
    "    'Sale_Amount': [500, 700, 800, 600, 900, 650, 950, 750]\n",
    "}\n",
    "\n",
    "# Create a DataFrame\n",
    "df = pd.DataFrame(data)\n",
    "\n",
    "# Create a pivot table to sum the sale amounts based on Region, Manager, and Salesman\n",
    "pivot_table = pd.pivot_table(df, values='Sale_Amount', index=['Region', 'Manager', 'Salesman'], aggfunc='sum')\n",
    "\n",
    "# Display the pivot table\n",
    "print(pivot_table)\n"
   ]
  },
  {
   "cell_type": "markdown",
   "id": "27a7f107-df0f-4cc9-918b-3ef3f7755d02",
   "metadata": {},
   "source": [
    "## 5)Write a python program to create a data frame from 2 dictionaries."
   ]
  },
  {
   "cell_type": "code",
   "execution_count": 23,
   "id": "ed38588c-b467-413c-8812-c8a43ea9c46d",
   "metadata": {},
   "outputs": [
    {
     "name": "stdout",
     "output_type": "stream",
     "text": [
      "     Name  Age      City\n",
      "0    neha   24      pune\n",
      "1   aarti   27    mumbai\n",
      "2  anjali   22     delhi\n",
      "3  nikita   29    satara\n",
      "4     sam   31  kolhapur\n",
      "5   samir   25      pune\n"
     ]
    }
   ],
   "source": [
    "import pandas as pd\n",
    "\n",
    "# Define two dictionaries\n",
    "data1 = {\n",
    "    'Name': ['neha', 'aarti', 'anjali'],\n",
    "    'Age': [24, 27, 22],\n",
    "    'City': ['pune', 'mumbai', 'delhi']\n",
    "}\n",
    "\n",
    "data2 = {\n",
    "    'Name': ['nikita', 'sam', 'samir'],\n",
    "    'Age': [29, 31, 25],\n",
    "    'City': ['satara', 'kolhapur', 'pune']\n",
    "}\n",
    "\n",
    "# Create DataFrames from the dictionaries\n",
    "df1 = pd.DataFrame(data1)\n",
    "df2 = pd.DataFrame(data2)\n",
    "\n",
    "\n",
    "df = pd.concat([df1, df2], ignore_index=True)\n",
    "\n",
    "\n",
    "print(df)\n"
   ]
  },
  {
   "cell_type": "code",
   "execution_count": null,
   "id": "48efe30d-b2e4-4c53-9a52-40a3c13e6423",
   "metadata": {},
   "outputs": [],
   "source": []
  },
  {
   "cell_type": "code",
   "execution_count": 30,
   "id": "a91f6294-e222-4113-bcc3-ff929477a6f8",
   "metadata": {},
   "outputs": [
    {
     "name": "stdout",
     "output_type": "stream",
     "text": [
      "      EmpName EmpSalary EmpDesignation\n",
      "EmpID                                 \n",
      "101      neha     50000        Manager\n",
      "102     nisha     45000      Developer\n",
      "103    vedika     40000         Tester\n"
     ]
    }
   ],
   "source": [
    "import pandas as pd\n",
    "\n",
    "# Create an initial employee register (empty DataFrame)\n",
    "columns = ['EmpID', 'EmpName', 'EmpSalary', 'EmpDesignation']\n",
    "employee_register = pd.DataFrame(columns=columns)\n",
    "\n",
    "# Add employee details using pd.concat()\n",
    "new_employee1 = pd.DataFrame([{'EmpID': 101, 'EmpName': 'neha', 'EmpSalary': 50000, 'EmpDesignation': 'Manager'}])\n",
    "new_employee2 = pd.DataFrame([{'EmpID': 102, 'EmpName': 'nisha', 'EmpSalary': 45000, 'EmpDesignation': 'Developer'}])\n",
    "new_employee3 = pd.DataFrame([{'EmpID': 103, 'EmpName': 'vedika', 'EmpSalary': 40000, 'EmpDesignation': 'Tester'}])\n",
    "\n",
    "# Concatenate the new records to the employee register\n",
    "employee_register = pd.concat([employee_register, new_employee1, new_employee2, new_employee3], ignore_index=True)\n",
    "\n",
    "# Set \"EmpID\" as the index\n",
    "employee_register.set_index('EmpID', inplace=True)\n",
    "\n",
    "# Display the employee register\n",
    "print(employee_register)\n"
   ]
  },
  {
   "cell_type": "markdown",
   "id": "59a1f421-04aa-4d7e-b14e-62c355e241a4",
   "metadata": {},
   "source": [
    "## Graded Assignments"
   ]
  },
  {
   "cell_type": "markdown",
   "id": "7dbbc6a8-46ff-42ba-8c75-2256d186e9cf",
   "metadata": {},
   "source": [
    "## 1) NumPy Program to Calculate the Difference Between the Maximum and Minimum Values of a Given Array Along the Second Axis"
   ]
  },
  {
   "cell_type": "code",
   "execution_count": 38,
   "id": "7f2c903a-f793-45a8-97c2-b61a378a541b",
   "metadata": {},
   "outputs": [
    {
     "name": "stdout",
     "output_type": "stream",
     "text": [
      "Original Array:\n",
      " [[1 5 3]\n",
      " [7 2 6]\n",
      " [4 8 9]]\n",
      "\n",
      "Difference between max and min values along the second axis:\n",
      " [4 5 5]\n"
     ]
    }
   ],
   "source": [
    "import numpy as np\n",
    "\n",
    "# Create a 2D NumPy array\n",
    "arr = np.array([[1, 5, 3], [7, 2, 6], [4, 8, 9]])\n",
    "\n",
    "# Find the maximum values along the second axis (columns)\n",
    "max_values = np.max(arr, axis=1)\n",
    "\n",
    "# Find the minimum values along the second axis (columns)\n",
    "min_values = np.min(arr, axis=1)\n",
    "\n",
    "# Calculate the difference between max and min along the second axis (columns)\n",
    "difference = max_values - min_values\n",
    "\n",
    "print(\"Original Array:\\n\", arr)\n",
    "print(\"\\nDifference between max and min values along the second axis:\\n\", difference)\n"
   ]
  },
  {
   "cell_type": "markdown",
   "id": "ea7d9a6d-a1b0-488c-95b6-bd87827993c3",
   "metadata": {},
   "source": [
    "## 2) Pandas Program to Get a Time Series with the Last Working Days of Each Month for a Specific Year"
   ]
  },
  {
   "cell_type": "code",
   "execution_count": 47,
   "id": "1cf48387-6815-4af6-a5e0-cd767d489abd",
   "metadata": {},
   "outputs": [
    {
     "name": "stdout",
     "output_type": "stream",
     "text": [
      "Last Working Days of Each Month in 2024 :\n",
      " DatetimeIndex(['2024-01-31', '2024-02-29', '2024-03-29', '2024-04-30',\n",
      "               '2024-05-31', '2024-06-28', '2024-07-31', '2024-08-30',\n",
      "               '2024-09-30', '2024-10-31', '2024-11-29', '2024-12-31'],\n",
      "              dtype='datetime64[ns]', freq='BME')\n"
     ]
    },
    {
     "name": "stderr",
     "output_type": "stream",
     "text": [
      "C:\\Users\\Aarti Salunkhe\\AppData\\Local\\Temp\\ipykernel_33516\\3120775483.py:7: FutureWarning: 'BM' is deprecated and will be removed in a future version, please use 'BME' instead.\n",
      "  last_working_days = pd.date_range(f'{year}-01-01', f'{year}-12-31', freq='BM')\n"
     ]
    }
   ],
   "source": [
    "import pandas as pd\n",
    "\n",
    "# Specify the year\n",
    "year = 2024\n",
    "\n",
    "\n",
    "last_working_days = pd.date_range(f'{year}-01-01', f'{year}-12-31', freq='BM')\n",
    "\n",
    "# Display the last working days of each month\n",
    "print(\"Last Working Days of Each Month in\", year, \":\\n\", last_working_days)\n"
   ]
  },
  {
   "cell_type": "code",
   "execution_count": null,
   "id": "56bcbb69-51f8-4a21-9e9c-a408864d02e9",
   "metadata": {},
   "outputs": [],
   "source": []
  }
 ],
 "metadata": {
  "kernelspec": {
   "display_name": "Python 3 (ipykernel)",
   "language": "python",
   "name": "python3"
  },
  "language_info": {
   "codemirror_mode": {
    "name": "ipython",
    "version": 3
   },
   "file_extension": ".py",
   "mimetype": "text/x-python",
   "name": "python",
   "nbconvert_exporter": "python",
   "pygments_lexer": "ipython3",
   "version": "3.12.4"
  }
 },
 "nbformat": 4,
 "nbformat_minor": 5
}
