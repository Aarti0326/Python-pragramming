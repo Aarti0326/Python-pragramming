{
 "cells": [
  {
   "cell_type": "markdown",
   "id": "85bf51e2-4f87-4b29-bcf1-d9e753237480",
   "metadata": {},
   "source": [
    "## FizzBuzz Problem\n",
    "## Problem: Print numbers from 1 to n."
   ]
  },
  {
   "cell_type": "code",
   "execution_count": 2,
   "id": "52e47ed5-fcf0-4ef2-81ba-79068ed0667d",
   "metadata": {},
   "outputs": [
    {
     "name": "stdout",
     "output_type": "stream",
     "text": [
      "1\n",
      "2\n",
      "Fizz\n",
      "4\n",
      "Buzz\n",
      "Fizz\n",
      "7\n",
      "8\n",
      "Fizz\n",
      "Buzz\n",
      "11\n",
      "Fizz\n",
      "13\n",
      "14\n",
      "FizzBuzz\n"
     ]
    }
   ],
   "source": [
    "def fizz_buzz(n):\n",
    "    for i in range(1, n + 1):\n",
    "        if i % 3 == 0 and i % 5 == 0:\n",
    "            print(\"FizzBuzz\")\n",
    "        elif i % 3 == 0:\n",
    "            print(\"Fizz\")\n",
    "        elif i % 5 == 0:\n",
    "            print(\"Buzz\")\n",
    "        else:\n",
    "            print(i)\n",
    "\n",
    "fizz_buzz(15)\n"
   ]
  },
  {
   "cell_type": "markdown",
   "id": "48157cee-d313-4a16-88ae-afc9ac2714dd",
   "metadata": {},
   "source": [
    "## Find the Intersection of Two Arrays\n",
    "## Problem: Find common elements between two arrays."
   ]
  },
  {
   "cell_type": "code",
   "execution_count": 7,
   "id": "fa68c4fe-deab-43b7-a3a5-1e8b38e10800",
   "metadata": {},
   "outputs": [
    {
     "name": "stdout",
     "output_type": "stream",
     "text": [
      "[2]\n"
     ]
    }
   ],
   "source": [
    "def array_intersection(nums1, nums2):\n",
    "    return list(set(nums1) & set(nums2))\n",
    "\n",
    "# Example:\n",
    "print(array_intersection([1, 2, 2, 1], [2, 2]))  "
   ]
  },
  {
   "cell_type": "code",
   "execution_count": null,
   "id": "8b767e3b-116f-47e8-b7c7-f1722b1bf415",
   "metadata": {},
   "outputs": [],
   "source": []
  }
 ],
 "metadata": {
  "kernelspec": {
   "display_name": "Python 3 (ipykernel)",
   "language": "python",
   "name": "python3"
  },
  "language_info": {
   "codemirror_mode": {
    "name": "ipython",
    "version": 3
   },
   "file_extension": ".py",
   "mimetype": "text/x-python",
   "name": "python",
   "nbconvert_exporter": "python",
   "pygments_lexer": "ipython3",
   "version": "3.12.4"
  }
 },
 "nbformat": 4,
 "nbformat_minor": 5
}
