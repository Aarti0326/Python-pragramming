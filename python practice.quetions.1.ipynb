{
 "cells": [
  {
   "cell_type": "markdown",
   "id": "faa32914-0079-4d67-a593-1811640ab89f",
   "metadata": {},
   "source": [
    "### Exercise 1: Reverse a list in Python"
   ]
  },
  {
   "cell_type": "code",
   "execution_count": 5,
   "id": "40c3c8cb-cd20-47ba-95d0-b5115d0d7e01",
   "metadata": {},
   "outputs": [
    {
     "name": "stdout",
     "output_type": "stream",
     "text": [
      "[500, 400, 300, 200, 100]\n"
     ]
    }
   ],
   "source": [
    "list1 = [100, 200, 300, 400, 500]\n",
    "list1.reverse()\n",
    "print(list1)"
   ]
  },
  {
   "cell_type": "markdown",
   "id": "dba9834b-2363-4333-9397-c0cf9bff2cf6",
   "metadata": {},
   "source": [
    "### Find the Largest Element in a List\n",
    "#### Problem: Find the largest element in a list of numbers."
   ]
  },
  {
   "cell_type": "code",
   "execution_count": 16,
   "id": "d5bc4f60-57ba-4d6b-abe6-aff4ffb80a94",
   "metadata": {},
   "outputs": [
    {
     "name": "stdout",
     "output_type": "stream",
     "text": [
      "9\n"
     ]
    }
   ],
   "source": [
    "def find_largest(numbers):\n",
    "    return max(numbers)\n",
    "\n",
    "numbers = [3, 1, 4, 1, 5, 9, 2]\n",
    "print(find_largest(numbers)) "
   ]
  },
  {
   "cell_type": "markdown",
   "id": "a847c07f-8126-472a-8ead-d5af28a05d5c",
   "metadata": {},
   "source": [
    "### Count Vowels in a String\n",
    "#### Problem: Count the number of vowels in a given string."
   ]
  },
  {
   "cell_type": "code",
   "execution_count": 19,
   "id": "a7cf83e5-a5fd-489f-aa18-3aae26a20333",
   "metadata": {},
   "outputs": [
    {
     "name": "stdout",
     "output_type": "stream",
     "text": [
      "3\n"
     ]
    }
   ],
   "source": [
    "def count_vowels(s):\n",
    "    vowels = 'aeiou'\n",
    "    return sum(1 for char in s.lower() if char in vowels)\n",
    "\n",
    "print(count_vowels(\"Hello World\")) "
   ]
  },
  {
   "cell_type": "markdown",
   "id": "7725214b-6a36-4a2d-8878-ed2a29a5c4ee",
   "metadata": {},
   "source": [
    "### Check Palindrome\n",
    "#### Problem: Check if a string is a palindrome."
   ]
  },
  {
   "cell_type": "code",
   "execution_count": 22,
   "id": "86ad1fbf-0881-429a-a943-8b086dcc8a08",
   "metadata": {},
   "outputs": [
    {
     "name": "stdout",
     "output_type": "stream",
     "text": [
      "True\n",
      "False\n"
     ]
    }
   ],
   "source": [
    "def is_palindrome(s):\n",
    "    s = s.lower().replace(\" \", \"\")\n",
    "    return s == s[::-1]\n",
    "\n",
    "print(is_palindrome(\"Racecar\")) \n",
    "print(is_palindrome(\"Hello\"))    "
   ]
  },
  {
   "cell_type": "markdown",
   "id": "939cb936-4654-400d-b460-530377b85b9b",
   "metadata": {},
   "source": [
    "### Sum of Digits in a Number\n",
    "#### Problem: Calculate the sum of digits in a given number."
   ]
  },
  {
   "cell_type": "code",
   "execution_count": 25,
   "id": "09ba75c2-36af-4cfe-b0cb-9528b130a3a0",
   "metadata": {},
   "outputs": [
    {
     "name": "stdout",
     "output_type": "stream",
     "text": [
      "10\n"
     ]
    }
   ],
   "source": [
    "def sum_of_digits(n):\n",
    "    return sum(int(digit) for digit in str(n))\n",
    "\n",
    "print(sum_of_digits(1234))"
   ]
  },
  {
   "cell_type": "markdown",
   "id": "edd5f7a1-3710-49de-96ab-c4cbc6c3013b",
   "metadata": {},
   "source": [
    "### Merge Two Dictionaries\n",
    "#### Problem: Merge two dictionaries into one."
   ]
  },
  {
   "cell_type": "code",
   "execution_count": 28,
   "id": "11016fa9-05ab-4229-b20d-f1dd6d933a06",
   "metadata": {},
   "outputs": [
    {
     "name": "stdout",
     "output_type": "stream",
     "text": [
      "{'a': 1, 'b': 2, 'c': 3, 'd': 4}\n"
     ]
    }
   ],
   "source": [
    "dict1 = {'a': 1, 'b': 2}\n",
    "dict2 = {'c': 3, 'd': 4}\n",
    "\n",
    "merged_dict = {**dict1, **dict2}\n",
    "print(merged_dict) "
   ]
  },
  {
   "cell_type": "markdown",
   "id": "4a14ea29-eae6-4e64-bb70-38e6b42d52bf",
   "metadata": {},
   "source": [
    "### Sort a List of Tuples\n",
    "#### Problem: Sort a list of tuples by the second element."
   ]
  },
  {
   "cell_type": "code",
   "execution_count": 31,
   "id": "a8dbdf04-b434-4125-9234-f9e12955d8b2",
   "metadata": {},
   "outputs": [
    {
     "name": "stdout",
     "output_type": "stream",
     "text": [
      "[(3, 1), (2, 2), (1, 3)]\n"
     ]
    }
   ],
   "source": [
    "tuples_list = [(1, 3), (2, 2), (3, 1)]\n",
    "\n",
    "sorted_list = sorted(tuples_list, key=lambda x: x[1])\n",
    "print(sorted_list) "
   ]
  },
  {
   "cell_type": "markdown",
   "id": "f8222e21-95be-481d-9c16-d425bec3962c",
   "metadata": {},
   "source": [
    "### Find Common Elements in Two Lists\n",
    "#### Problem: Find common elements between two lists."
   ]
  },
  {
   "cell_type": "code",
   "execution_count": 34,
   "id": "38834c45-310c-4ea8-ab87-a2ee61bf77ed",
   "metadata": {},
   "outputs": [
    {
     "name": "stdout",
     "output_type": "stream",
     "text": [
      "[4, 5]\n"
     ]
    }
   ],
   "source": [
    "list1 = [1, 2, 3, 4, 5]\n",
    "list2 = [4, 5, 6, 7, 8]\n",
    "\n",
    "common_elements = list(set(list1) & set(list2))\n",
    "print(common_elements)"
   ]
  },
  {
   "cell_type": "markdown",
   "id": "98868a76-4fee-42fd-89ab-7ff85971aa03",
   "metadata": {},
   "source": [
    "### Convert Temperature from Celsius to Fahrenheit\n",
    "#### Problem: Convert a temperature from Celsius to Fahrenheit."
   ]
  },
  {
   "cell_type": "code",
   "execution_count": 37,
   "id": "1e57e4ea-958a-4c56-87db-917fa537d354",
   "metadata": {},
   "outputs": [
    {
     "name": "stdout",
     "output_type": "stream",
     "text": [
      "77.0\n"
     ]
    }
   ],
   "source": [
    "def celsius_to_fahrenheit(celsius):\n",
    "    return (celsius * 9/5) + 32\n",
    "\n",
    "print(celsius_to_fahrenheit(25))"
   ]
  },
  {
   "cell_type": "markdown",
   "id": "f1e8c627-ee59-499f-a711-b91ad5bb3ccd",
   "metadata": {},
   "source": [
    "### Find the Greatest Common Divisor (GCD)\n",
    "#### Problem: Find the GCD of two numbers."
   ]
  },
  {
   "cell_type": "code",
   "execution_count": 45,
   "id": "8d7c849c-59b2-460d-8328-1460871a77a7",
   "metadata": {},
   "outputs": [
    {
     "name": "stdout",
     "output_type": "stream",
     "text": [
      "6\n"
     ]
    }
   ],
   "source": [
    "import math\n",
    "\n",
    "def gcd(a, b):\n",
    "    return math.gcd(a, b)\n",
    "\n",
    "print(gcd(48, 18))   #Explanation: This program uses the built-in math.gcd() function to find the greatest common divisor of two numbers."
   ]
  },
  {
   "cell_type": "code",
   "execution_count": null,
   "id": "a97d40ca-eaae-423d-be09-c7769022aaed",
   "metadata": {},
   "outputs": [],
   "source": []
  }
 ],
 "metadata": {
  "kernelspec": {
   "display_name": "Python 3 (ipykernel)",
   "language": "python",
   "name": "python3"
  },
  "language_info": {
   "codemirror_mode": {
    "name": "ipython",
    "version": 3
   },
   "file_extension": ".py",
   "mimetype": "text/x-python",
   "name": "python",
   "nbconvert_exporter": "python",
   "pygments_lexer": "ipython3",
   "version": "3.12.4"
  }
 },
 "nbformat": 4,
 "nbformat_minor": 5
}
