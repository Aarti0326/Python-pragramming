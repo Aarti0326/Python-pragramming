{
 "cells": [
  {
   "cell_type": "markdown",
   "id": "d57f872b-372f-4f5e-bfa8-da4c835a916e",
   "metadata": {},
   "source": [
    "## What is a string in Python?"
   ]
  },
  {
   "cell_type": "markdown",
   "id": "55c2ca34-8b7f-4aff-a177-1e69d1c2c822",
   "metadata": {},
   "source": [
    "#### A string in Python is a sequence of characters enclosed in either single quotes (') or double quotes (\"). For example, 'hello' and \"world\" are both strings. Strings are used to represent text in Python."
   ]
  },
  {
   "cell_type": "markdown",
   "id": "4d9f325a-532c-4855-933c-32c0ba453207",
   "metadata": {},
   "source": [
    "## How do you concatenate two strings in Python?"
   ]
  },
  {
   "cell_type": "code",
   "execution_count": 19,
   "id": "0b77b7c5-a40c-4a7b-a5be-1a179a97478a",
   "metadata": {},
   "outputs": [
    {
     "name": "stdout",
     "output_type": "stream",
     "text": [
      "hello world\n"
     ]
    }
   ],
   "source": [
    "str1= \"hello\"\n",
    "str2 = \"world\"\n",
    "result = str1+ \" \" +str2\n",
    "print(result)"
   ]
  },
  {
   "cell_type": "markdown",
   "id": "0225f9f2-4fcc-4f38-b534-6f7d855cd993",
   "metadata": {},
   "source": [
    "## How can you convert a string to uppercase and lowercase in Python?"
   ]
  },
  {
   "cell_type": "code",
   "execution_count": 24,
   "id": "da67d677-4662-40e5-9848-417e9a2523b1",
   "metadata": {},
   "outputs": [
    {
     "name": "stdout",
     "output_type": "stream",
     "text": [
      "HELLO\n",
      "hello\n"
     ]
    }
   ],
   "source": [
    "text = \"hello\"\n",
    "print(text.upper())\n",
    "print(text.lower())"
   ]
  },
  {
   "cell_type": "markdown",
   "id": "4d438601-fe91-4588-910e-c11f06981b92",
   "metadata": {},
   "source": [
    "## What is the purpose of the len() function in Python?"
   ]
  },
  {
   "cell_type": "markdown",
   "id": "d16a5199-8091-40a8-8125-88e304f885d7",
   "metadata": {},
   "source": [
    "#### The len() function returns the length of a string, which is the number of characters in it."
   ]
  },
  {
   "cell_type": "code",
   "execution_count": 29,
   "id": "c91817bd-eac6-41b6-b3c0-6a269dd0cac6",
   "metadata": {},
   "outputs": [
    {
     "name": "stdout",
     "output_type": "stream",
     "text": [
      "5\n"
     ]
    }
   ],
   "source": [
    "text = \"hello\"\n",
    "print(len(text))"
   ]
  },
  {
   "cell_type": "markdown",
   "id": "17b233c1-1309-43cd-8140-927c20f97b2d",
   "metadata": {},
   "source": [
    "###  How do you check if a string contains a particular substring in Python?"
   ]
  },
  {
   "cell_type": "code",
   "execution_count": 41,
   "id": "6f67ee31-2045-4bfd-88af-c646ac12ecca",
   "metadata": {},
   "outputs": [
    {
     "name": "stdin",
     "output_type": "stream",
     "text": [
      "enter a string :  hello world\n"
     ]
    },
    {
     "name": "stdout",
     "output_type": "stream",
     "text": [
      "substring found!\n"
     ]
    }
   ],
   "source": [
    "text = input(\"enter a string : \")\n",
    "if \"world\" in text:\n",
    "    print(\"substring found!\")\n",
    "else:\n",
    "    print(\"substring not found!\")"
   ]
  },
  {
   "cell_type": "markdown",
   "id": "51635f6b-e715-401d-bdb4-fdf97c9ba7c3",
   "metadata": {},
   "source": [
    "### How do you replace part of a string with another string in Python?"
   ]
  },
  {
   "cell_type": "code",
   "execution_count": 60,
   "id": "e84ac8f7-1c1b-45b5-886b-2a567b416251",
   "metadata": {},
   "outputs": [
    {
     "name": "stdout",
     "output_type": "stream",
     "text": [
      "Hello aarti\n"
     ]
    }
   ],
   "source": [
    "text = \"Hello World\"\n",
    "new_text = text.replace(\"World\",\"aarti\")\n",
    "print(new_text)"
   ]
  },
  {
   "cell_type": "markdown",
   "id": "f71b1b2f-91da-4ac5-9dc6-6aa1f60115ae",
   "metadata": {},
   "source": [
    "### What is string slicing in Python?"
   ]
  },
  {
   "cell_type": "markdown",
   "id": "083571f6-1cee-4a5c-b23e-6b882edc8e83",
   "metadata": {},
   "source": [
    "#### String slicing allows you to extract a part of a string by specifying a starting index and an ending index. The format is string[start:end]."
   ]
  },
  {
   "cell_type": "code",
   "execution_count": 64,
   "id": "a91a9642-54bb-4d9b-b52f-700e2eb74892",
   "metadata": {},
   "outputs": [
    {
     "name": "stdout",
     "output_type": "stream",
     "text": [
      "Hello\n"
     ]
    }
   ],
   "source": [
    "text = \"Hello World\"\n",
    "slice = text[0:5]\n",
    "print(slice)"
   ]
  },
  {
   "cell_type": "markdown",
   "id": "1df65025-ef19-4837-9354-7972690ea442",
   "metadata": {},
   "source": [
    "### What is the difference between == and is when comparing strings in Python?"
   ]
  },
  {
   "cell_type": "markdown",
   "id": "4d69efd8-507d-4bb1-953f-278b834a3ac0",
   "metadata": {},
   "source": [
    "#### == checks if the values of two strings are equal.\n",
    "#### is checks if two strings are the same object in memory (i.e., they refer to the same location in memory).\n"
   ]
  },
  {
   "cell_type": "code",
   "execution_count": 73,
   "id": "f4e8c24d-a02e-45a5-87ea-0fb32fa74aa3",
   "metadata": {},
   "outputs": [
    {
     "name": "stdout",
     "output_type": "stream",
     "text": [
      "True\n",
      "True\n"
     ]
    }
   ],
   "source": [
    "str1 = \"hello\"\n",
    "str2 = \"hello\"\n",
    "print(str1 == str2)  # Output: True (values are equal)\n",
    "print(str1 is str2)  # Output: True (they point to the same object in memory)\n"
   ]
  },
  {
   "cell_type": "markdown",
   "id": "0c862523-ac70-4f25-9f0a-2ccdd12fb0d6",
   "metadata": {},
   "source": [
    "### How can you remove whitespace from the beginning and end of a string in Python?"
   ]
  },
  {
   "cell_type": "code",
   "execution_count": 76,
   "id": "179cd685-8ba1-401c-9c6d-88b58755fe39",
   "metadata": {},
   "outputs": [
    {
     "name": "stdout",
     "output_type": "stream",
     "text": [
      "Hello World\n"
     ]
    }
   ],
   "source": [
    "text = \"  Hello World  \"\n",
    "cleaned_text = text.strip()\n",
    "print(cleaned_text)"
   ]
  },
  {
   "cell_type": "markdown",
   "id": "363b4dd7-6ce5-43b3-9a52-825cfe0818ec",
   "metadata": {},
   "source": [
    "### Can you check whether a string is a palindrome in Python?\n"
   ]
  },
  {
   "cell_type": "markdown",
   "id": "ad580ec8-6b5e-491f-be2e-ed3f0466ac0f",
   "metadata": {},
   "source": [
    "### A palindrome is a string that reads the same forward and backward. You can check this by comparing the string to its reverse."
   ]
  },
  {
   "cell_type": "code",
   "execution_count": 82,
   "id": "e1b3be5f-591e-41da-98d2-85370a52d4e8",
   "metadata": {},
   "outputs": [
    {
     "name": "stdin",
     "output_type": "stream",
     "text": [
      "enter a string madam\n"
     ]
    },
    {
     "name": "stdout",
     "output_type": "stream",
     "text": [
      "palindrome\n"
     ]
    }
   ],
   "source": [
    "text = input(\"enter a string\")\n",
    "if text==text[::-1]:\n",
    "    print(\"palindrome\")\n",
    "else:\n",
    "    print(\"not palindrome\")"
   ]
  },
  {
   "cell_type": "code",
   "execution_count": null,
   "id": "b66f5e19-6dbf-4dde-bce2-403b996bb6f9",
   "metadata": {},
   "outputs": [],
   "source": []
  }
 ],
 "metadata": {
  "kernelspec": {
   "display_name": "Python 3 (ipykernel)",
   "language": "python",
   "name": "python3"
  },
  "language_info": {
   "codemirror_mode": {
    "name": "ipython",
    "version": 3
   },
   "file_extension": ".py",
   "mimetype": "text/x-python",
   "name": "python",
   "nbconvert_exporter": "python",
   "pygments_lexer": "ipython3",
   "version": "3.12.4"
  }
 },
 "nbformat": 4,
 "nbformat_minor": 5
}
