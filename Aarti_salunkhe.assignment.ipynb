{
 "cells": [
  {
   "cell_type": "markdown",
   "id": "4162bbf0-3e27-4b4c-80fc-0c08d40811fe",
   "metadata": {},
   "source": [
    "### Assignment 1"
   ]
  },
  {
   "cell_type": "markdown",
   "id": "3067e30c-40c8-4cf4-a402-258493cb02ea",
   "metadata": {},
   "source": [
    "### Topic 2.A.1. Practice Assignments : Data Types"
   ]
  },
  {
   "cell_type": "markdown",
   "id": "484b6e3c-78e6-4ecd-9bc5-2550561374d0",
   "metadata": {},
   "source": [
    "#### 1.Python Program to Check if a Number is Odd or Even."
   ]
  },
  {
   "cell_type": "code",
   "execution_count": 3,
   "id": "1bf573ad-9601-44f3-b44b-f6d6218e4f82",
   "metadata": {},
   "outputs": [],
   "source": [
    "def check_odd_even(number):\n",
    "    if number % 2 ==0:\n",
    "        print(\"the number is even\")\n",
    "    else:\n",
    "        print(\"the number is odd\")      "
   ]
  },
  {
   "cell_type": "code",
   "execution_count": 5,
   "id": "33cfbea7-ac4f-4d9f-ae0e-a8cab01270f5",
   "metadata": {},
   "outputs": [
    {
     "name": "stdout",
     "output_type": "stream",
     "text": [
      "the number is odd\n"
     ]
    }
   ],
   "source": [
    "check_odd_even(5)"
   ]
  },
  {
   "cell_type": "code",
   "execution_count": 13,
   "id": "e9edd3d0-9271-47d1-a675-871ca7411ecf",
   "metadata": {},
   "outputs": [
    {
     "name": "stdout",
     "output_type": "stream",
     "text": [
      "the number is even\n"
     ]
    }
   ],
   "source": [
    "check_odd_even(6)"
   ]
  },
  {
   "cell_type": "markdown",
   "id": "5162dd3c-626f-470e-825f-7d6ab43fa2c0",
   "metadata": {},
   "source": [
    "#### 2. Write a python program to calculate the length of a string =”The art of crafting a single sentence brings together subjects, verbs, and objects with cohesion.”"
   ]
  },
  {
   "cell_type": "code",
   "execution_count": 22,
   "id": "5c04611a-9062-4a50-9e55-4f481150a420",
   "metadata": {},
   "outputs": [
    {
     "name": "stdout",
     "output_type": "stream",
     "text": [
      "length of string is : 97\n"
     ]
    }
   ],
   "source": [
    "string = \"The art of crafting a single sentence brings together subjects, verbs, and objects with cohesion.\"\n",
    "Length = len(string)\n",
    "print(\"length of string is :\",Length)"
   ]
  },
  {
   "cell_type": "markdown",
   "id": "facc7bc4-2a52-4820-a91d-f9681387c5cc",
   "metadata": {},
   "source": [
    "#### 3) Print “are you” from the string my_string = ”Hello Ram Where are you going”"
   ]
  },
  {
   "cell_type": "code",
   "execution_count": 91,
   "id": "a23eadb2-5362-47aa-83b6-458d18e460df",
   "metadata": {},
   "outputs": [
    {
     "name": "stdout",
     "output_type": "stream",
     "text": [
      " are you\n"
     ]
    }
   ],
   "source": [
    "my_string = \"Hello Ram Where are you going\"\n",
    "sep_string = my_string[15:23]\n",
    "print(sep_string)"
   ]
  },
  {
   "cell_type": "markdown",
   "id": "7376f5f7-76d0-4be2-ba79-84d417a9c75b",
   "metadata": {},
   "source": [
    "#### 4) Separate all lower case letters, upper case letters ,special characters & numbers from given string \n",
    "#### my_string=”ASdfesD@#HBDHB&^GUV%^*H45fdvnhw74w5e54uuU”\n",
    "#### Print the given string by the order of given below.\n",
    "#1. Uppercases\n",
    "#2. Lowercases\n",
    "#3. Special Characters\n",
    "#4. Numbers\n"
   ]
  },
  {
   "cell_type": "code",
   "execution_count": 132,
   "id": "0d0b4bdf-9198-4c22-88bb-a941260321b2",
   "metadata": {},
   "outputs": [
    {
     "name": "stdout",
     "output_type": "stream",
     "text": [
      "Uppercases: ASDHBDHBGUVHU\n",
      "Lowercases: dfesfdvnhwweuu\n",
      "Special Characters: @#&^%^*\n",
      "Numbers: 4574554\n"
     ]
    }
   ],
   "source": [
    "# Define the input string\n",
    "my_string = \"ASdfesD@#HBDHB&^GUV%^*H45fdvnhw74w5e54uuU\"\n",
    "\n",
    "# Initialize empty lists \n",
    "uppercases = []\n",
    "lowercases = []\n",
    "special_characters = []\n",
    "numbers = []\n",
    "\n",
    "for char in my_string:\n",
    "    if char.isupper():\n",
    "        uppercases.append(char)\n",
    "    elif char.islower():\n",
    "        lowercases.append(char)\n",
    "    elif char.isdigit():\n",
    "        numbers.append(char)\n",
    "    else:\n",
    "        special_characters.append(char)\n",
    "\n",
    "# Print the results\n",
    "print(\"Uppercases:\", ''.join(uppercases))\n",
    "print(\"Lowercases:\", ''.join(lowercases))\n",
    "print(\"Special Characters:\", ''.join(special_characters))\n",
    "print(\"Numbers:\", ''.join(numbers))"
   ]
  },
  {
   "cell_type": "markdown",
   "id": "93173c00-88b9-4fb5-b6c4-86b41ae61d9a",
   "metadata": {},
   "source": [
    "\n",
    "#### 1)Write a Python script to concatenate following dictionaries to create a new one. \n",
    "#### Sample Dictionary : dic1={1:10, 2:20} dic2={3:30, 4:40} dic3={5:50,6:60}\n"
   ]
  },
  {
   "cell_type": "code",
   "execution_count": 145,
   "id": "e6f528a7-3734-4179-a3fa-060ae4ef3f8a",
   "metadata": {},
   "outputs": [
    {
     "name": "stdout",
     "output_type": "stream",
     "text": [
      "Combined Dictionary: {1: 10, 2: 20, 3: 30, 4: 40, 5: 50, 6: 60}\n"
     ]
    }
   ],
   "source": [
    "dic1 = {1: 10, 2: 20}\n",
    "dic2 = {3: 30, 4: 40}\n",
    "dic3 = {5: 50, 6: 60}\n",
    "\n",
    "# Create a new dictionary \n",
    "concatinate_dict = dic1.copy()  # Start with a copy of dic1\n",
    "concatinate_dict.update(dic2)   # Update with dic2\n",
    "concatinate_dict.update(dic3)   # Update with dic3\n",
    "\n",
    "# Print the result\n",
    "print(\"Combined Dictionary:\", combined_dict)"
   ]
  },
  {
   "cell_type": "markdown",
   "id": "58975b19-992b-4a13-9798-5831b3a3167a",
   "metadata": {},
   "source": [
    "#### 2) Given a Python list. Turn every item of a list into its square aList = [1, 2, 3, 4, 5, 6, 7]"
   ]
  },
  {
   "cell_type": "code",
   "execution_count": 168,
   "id": "810ea27a-faa5-4d8b-98d0-d6c265105eb7",
   "metadata": {},
   "outputs": [
    {
     "name": "stdout",
     "output_type": "stream",
     "text": [
      "the square of each numbers is [1, 4, 9, 16, 25, 36, 49]\n"
     ]
    }
   ],
   "source": [
    "numbers = [1, 2, 3, 4, 5, 6, 7]\n",
    "squared_numbers = [num ** 2 for num in numbers]\n",
    "print(\"the square of each numbers is\",squared_numbers)"
   ]
  },
  {
   "cell_type": "markdown",
   "id": "3e456c72-2851-45b9-8198-79155cc11c95",
   "metadata": {},
   "source": [
    "#### 3) Remove empty strings from the list of strings:\n",
    "#### list1 = [\"Mike\", \"\", \"Emma\", \"Kelly\", \"\", \"Brad\"]\n"
   ]
  },
  {
   "cell_type": "code",
   "execution_count": 180,
   "id": "ccbd5eb9-60ca-4ffe-8e53-9de36762243a",
   "metadata": {},
   "outputs": [
    {
     "name": "stdout",
     "output_type": "stream",
     "text": [
      "['Mike', 'Emma', 'Kelly', 'Brad']\n"
     ]
    }
   ],
   "source": [
    "list1 = [\"Mike\", \"\", \"Emma\", \"Kelly\", \"\", \"Brad\"]\n",
    "new_list = []\n",
    "for name in list1:\n",
    "    if name != \"\":\n",
    "        new_list.append(name)\n",
    "print(new_list)\n"
   ]
  },
  {
   "cell_type": "markdown",
   "id": "f63424c0-f3e7-428a-b51c-7f5463aaaa57",
   "metadata": {},
   "source": [
    "#### 4) Access value 20 from the following tuple\n",
    "\n",
    "      #Tuple = (\"Orange\", [10, 20, 30], (5, 15, 25))\n"
   ]
  },
  {
   "cell_type": "code",
   "execution_count": 190,
   "id": "0f72b8fb-a03a-45ed-a2a1-bbaf0139bf90",
   "metadata": {},
   "outputs": [
    {
     "name": "stdout",
     "output_type": "stream",
     "text": [
      "The value  is: 20\n"
     ]
    }
   ],
   "source": [
    "# Define the tuple\n",
    "Tuple = (\"Orange\", [10, 20, 30], (5, 15, 25))\n",
    "\n",
    "# Access the value 20\n",
    "value = Tuple[1][1]\n",
    "\n",
    "# Print the result\n",
    "print(\"The value  is:\", value)"
   ]
  },
  {
   "cell_type": "markdown",
   "id": "eecde132-d555-4baa-a841-cc299f2d99b2",
   "metadata": {},
   "source": [
    "#### 5) Given two Python sets, update first set with items that exist only in the first set and not in the second set.\n",
    "#set1 = {10, 20, 30}\n",
    "#set2 = {20, 40, 50}\n"
   ]
  },
  {
   "cell_type": "code",
   "execution_count": 208,
   "id": "b468d7ff-f1da-42e0-b5ff-35165b67a3eb",
   "metadata": {},
   "outputs": [
    {
     "name": "stdout",
     "output_type": "stream",
     "text": [
      "{10, 30}\n"
     ]
    }
   ],
   "source": [
    "set1 = {10, 20, 30}\n",
    "set2 = {20, 40, 50}\n",
    "\n",
    "set1.difference_update(set2)\n",
    "\n",
    "print(set1)\n"
   ]
  },
  {
   "cell_type": "code",
   "execution_count": null,
   "id": "cc8420d4-90cc-4e41-8959-c6dd4158a09a",
   "metadata": {},
   "outputs": [],
   "source": []
  },
  {
   "cell_type": "code",
   "execution_count": null,
   "id": "9b9f6b58-e7e9-43ed-bf78-29dbed8b6a0f",
   "metadata": {},
   "outputs": [],
   "source": []
  }
 ],
 "metadata": {
  "kernelspec": {
   "display_name": "Python 3 (ipykernel)",
   "language": "python",
   "name": "python3"
  },
  "language_info": {
   "codemirror_mode": {
    "name": "ipython",
    "version": 3
   },
   "file_extension": ".py",
   "mimetype": "text/x-python",
   "name": "python",
   "nbconvert_exporter": "python",
   "pygments_lexer": "ipython3",
   "version": "3.12.4"
  }
 },
 "nbformat": 4,
 "nbformat_minor": 5
}
