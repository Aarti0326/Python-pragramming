{
 "cells": [
  {
   "cell_type": "markdown",
   "id": "44cd532d-0862-406b-acf6-00b4890f57f8",
   "metadata": {},
   "source": [
    "## string\n",
    "## length method"
   ]
  },
  {
   "cell_type": "code",
   "execution_count": 2,
   "id": "2e3b6e24-4ff2-4193-bb1c-80afe4825eef",
   "metadata": {},
   "outputs": [
    {
     "data": {
      "text/plain": [
       "13"
      ]
     },
     "execution_count": 2,
     "metadata": {},
     "output_type": "execute_result"
    }
   ],
   "source": [
    "s=\"aartisalunkhe\"\n",
    "len(s)"
   ]
  },
  {
   "cell_type": "code",
   "execution_count": 3,
   "id": "cca8afbb-30c6-46ab-8aac-97732ea59922",
   "metadata": {},
   "outputs": [
    {
     "data": {
      "text/plain": [
       "14"
      ]
     },
     "execution_count": 3,
     "metadata": {},
     "output_type": "execute_result"
    }
   ],
   "source": [
    "a=\"nikita salunke\"\n",
    "len(a)"
   ]
  },
  {
   "cell_type": "code",
   "execution_count": 4,
   "id": "80553416-fbe5-4f57-8887-402dbc722923",
   "metadata": {},
   "outputs": [
    {
     "data": {
      "text/plain": [
       "0"
      ]
     },
     "execution_count": 4,
     "metadata": {},
     "output_type": "execute_result"
    }
   ],
   "source": [
    "s=\"\"\n",
    "len(s)"
   ]
  },
  {
   "cell_type": "code",
   "execution_count": 5,
   "id": "d50e7e4b-86a4-4f45-90c1-e2c363e90f85",
   "metadata": {},
   "outputs": [
    {
     "data": {
      "text/plain": [
       "1"
      ]
     },
     "execution_count": 5,
     "metadata": {},
     "output_type": "execute_result"
    }
   ],
   "source": [
    "s=\" \"\n",
    "len(s)"
   ]
  },
  {
   "cell_type": "code",
   "execution_count": 6,
   "id": "32b21fa8-dbb0-49b9-926d-333bf92a0f86",
   "metadata": {},
   "outputs": [
    {
     "name": "stdout",
     "output_type": "stream",
     "text": [
      "12\n"
     ]
    }
   ],
   "source": [
    "s=\"hallo@worlds\"\n",
    "print(len(s))"
   ]
  },
  {
   "cell_type": "code",
   "execution_count": 7,
   "id": "d7c099a4-f1ab-4f3d-a8f4-c877fd9b9704",
   "metadata": {},
   "outputs": [
    {
     "data": {
      "text/plain": [
       "11"
      ]
     },
     "execution_count": 7,
     "metadata": {},
     "output_type": "execute_result"
    }
   ],
   "source": [
    "a=\"\"\"hello\n",
    "world\"\"\"\n",
    "len(a)"
   ]
  },
  {
   "cell_type": "markdown",
   "id": "d09e84bd-d22b-441e-834c-442a4564236e",
   "metadata": {},
   "source": [
    "### python-modify strings\n",
    "### upper method"
   ]
  },
  {
   "cell_type": "code",
   "execution_count": 9,
   "id": "1b79116b-a3ec-40a9-8283-505336cb2a8c",
   "metadata": {},
   "outputs": [],
   "source": [
    "s= \"i am learning data sciencea123\""
   ]
  },
  {
   "cell_type": "code",
   "execution_count": 10,
   "id": "58658677-31fa-49d3-9dac-a8cd2482af21",
   "metadata": {},
   "outputs": [
    {
     "name": "stdout",
     "output_type": "stream",
     "text": [
      "I AM LEARNING DATA SCIENCEA123\n"
     ]
    }
   ],
   "source": [
    "print(s.upper())"
   ]
  },
  {
   "cell_type": "code",
   "execution_count": 11,
   "id": "9981e406-de48-4491-a50d-3919fa08c4b1",
   "metadata": {},
   "outputs": [
    {
     "name": "stdout",
     "output_type": "stream",
     "text": [
      "i am learning data science\n"
     ]
    }
   ],
   "source": [
    "a=\"I AM LEARNING DATA SCIENCE\"\n",
    "print(a.lower())"
   ]
  },
  {
   "cell_type": "markdown",
   "id": "22d5c810-2b0d-425d-b983-a3a529cad313",
   "metadata": {},
   "source": [
    "### string concatination"
   ]
  },
  {
   "cell_type": "code",
   "execution_count": 34,
   "id": "c42bc154-0923-4f4c-bcc4-c59b9a73d215",
   "metadata": {},
   "outputs": [
    {
     "name": "stdout",
     "output_type": "stream",
     "text": [
      "hello world\n"
     ]
    }
   ],
   "source": [
    "a=\"hello\"\n",
    "b=\"world\"\n",
    "print(a+\" \"+b)"
   ]
  },
  {
   "cell_type": "code",
   "execution_count": 48,
   "id": "fcd453e7-e18a-4c69-979e-d18b8cd8270f",
   "metadata": {},
   "outputs": [
    {
     "name": "stdout",
     "output_type": "stream",
     "text": [
      "datadatadata\n"
     ]
    }
   ],
   "source": [
    "a=\"data\"\n",
    "print(a*3)"
   ]
  },
  {
   "cell_type": "markdown",
   "id": "ceaeb80c-7caa-4903-87cc-cbf889d960ed",
   "metadata": {},
   "source": [
    "## replace method"
   ]
  },
  {
   "cell_type": "code",
   "execution_count": 51,
   "id": "74be5c6c-3d08-4448-ac01-d0fb4aef7f9c",
   "metadata": {},
   "outputs": [
    {
     "name": "stdout",
     "output_type": "stream",
     "text": [
      "hello world,i am nikita salunkhe\n"
     ]
    }
   ],
   "source": [
    "a=\"hello world,i am aarti salunkhe\"\n",
    "rep=a.replace(\"aarti\",\"nikita\")\n",
    "print(rep)"
   ]
  },
  {
   "cell_type": "code",
   "execution_count": 63,
   "id": "685c825c-5b4f-45d3-9833-f3aef6eaace4",
   "metadata": {},
   "outputs": [],
   "source": [
    "str=\"\"\"One of the reasons pizza is my favorite food is its incredible versatility. You can start with a basic pizza crust and top it with a variety of ingredients to suit any taste. Whether you prefer a classic Margherita with just cheese, tomato sauce, and basil, or a loaded meat lover’s pizza with pepperoni, sausage, and bacon, there’s a pizza for everyone. Vegetarians and vegans can enjoy pizzas topped with a rich array of vegetables and plant-based cheeses. The variety allows for endless experimentation, making each pizza experience unique.\"\"\""
   ]
  },
  {
   "cell_type": "code",
   "execution_count": 76,
   "id": "48b81fc7-774d-4d17-af49-78902422e19e",
   "metadata": {
    "scrolled": true
   },
   "outputs": [
    {
     "name": "stdout",
     "output_type": "stream",
     "text": [
      "One of the reasons burger is my favorite food is its incredible versatility. You can start with a basic burger crust and top it with a variety of ingredients to suit any taste. Whether you prefer a classic Margherita with just cheese, tomato sauce, and basil, or a loaded meat lover’s burger with pepperoni, sausage, and bacon, there’s a burger for everyone. Vegetarians and vegans can enjoy burgers topped with a rich array of vegetables and plant-based cheeses. The variety allows for endless experimentation, making each burger experience unique.\n"
     ]
    }
   ],
   "source": [
    "paragraph=str.replace(\"pizza\",\"burger\")\n",
    "print(paragraph)"
   ]
  },
  {
   "cell_type": "markdown",
   "id": "2a00d2b8-19bd-4973-b1a8-a9d9b766dab2",
   "metadata": {},
   "source": [
    "## index method"
   ]
  },
  {
   "cell_type": "code",
   "execution_count": 79,
   "id": "db3f60a8-a574-4770-9f10-2ca226596f1f",
   "metadata": {},
   "outputs": [
    {
     "name": "stdout",
     "output_type": "stream",
     "text": [
      "7\n"
     ]
    }
   ],
   "source": [
    "a=\"i want to learn\"\n",
    "print(a.index(\"to\"))"
   ]
  },
  {
   "cell_type": "code",
   "execution_count": 85,
   "id": "7a4bd09f-3543-4228-ac0c-44b83fcd036e",
   "metadata": {},
   "outputs": [],
   "source": [
    "str2=\"\"\"One of the reasons burger is my favorite food is its incredible versatility. You can start with a basic burger crust and top it with a variety of ingredients to suit any taste. Whether you prefer a classic Margherita with just cheese, tomato sauce, and basil, or a loaded meat lover’s burger with pepperoni, sausage, and bacon, there’s a burger for everyone. Vegetarians and vegans can enjoy burgers topped with a rich array of vegetables and plant-based cheeses. The variety allows for endless experimentation, making each burger experience unique.\"\"\""
   ]
  },
  {
   "cell_type": "code",
   "execution_count": 87,
   "id": "be26e5bc-e118-4f06-816f-ad860f8799d8",
   "metadata": {},
   "outputs": [
    {
     "name": "stdout",
     "output_type": "stream",
     "text": [
      "111\n"
     ]
    }
   ],
   "source": [
    "print(str2.index(\"crust\"))"
   ]
  },
  {
   "cell_type": "markdown",
   "id": "2751c3de-8e0f-4a25-84f9-4d4b648cf06d",
   "metadata": {},
   "source": [
    "### find method"
   ]
  },
  {
   "cell_type": "code",
   "execution_count": 94,
   "id": "c071099e-5267-4979-afd0-156de0241011",
   "metadata": {},
   "outputs": [
    {
     "name": "stdout",
     "output_type": "stream",
     "text": [
      "10\n"
     ]
    }
   ],
   "source": [
    "a = \"python is great\"\n",
    "b = a.find(\"g\")\n",
    "print(b)"
   ]
  },
  {
   "cell_type": "code",
   "execution_count": 98,
   "id": "2a922df2-ace2-49db-b71d-9cd7723afde2",
   "metadata": {},
   "outputs": [],
   "source": [
    "# write a python program that accomplishes the following tasks:\n",
    "\n",
    "# 1) concatenate the strings \"hello\" and \"world\".\n",
    "# 2) find the length of the resulting string from the concatenation.\n",
    "# 3) extract the subtracting \"world\" from the concatenated string.\n",
    "# 4) convert the reversed subtracting to uppercase.\n",
    "# 5) replace the letter 'L' with 'x' in the reversed and uppercase subtracting."
   ]
  },
  {
   "cell_type": "code",
   "execution_count": 21,
   "id": "75ad340f-8c7d-4549-b69d-5bd512209167",
   "metadata": {},
   "outputs": [
    {
     "name": "stdout",
     "output_type": "stream",
     "text": [
      "helloworld\n",
      "10\n",
      "world\n",
      "dlrow\n",
      "DLROW\n",
      "DXROW\n"
     ]
    }
   ],
   "source": [
    "concatinated_string=\"hello\" + \"world\"\n",
    "\n",
    "length = len(concatinated_string)\n",
    "\n",
    "substring = concatinated_string[5:]\n",
    "\n",
    "reverse = substring[::-1]\n",
    "\n",
    "upper = reverse.upper()\n",
    "\n",
    "rep = upper.replace(\"L\",\"X\")\n",
    "\n",
    "print(concatinated_string)\n",
    "print(length)\n",
    "print(substring)\n",
    "print(reverse)\n",
    "print(upper)\n",
    "print(rep)"
   ]
  },
  {
   "cell_type": "code",
   "execution_count": null,
   "id": "688524ed-56f9-46e1-a7bc-595795c58767",
   "metadata": {},
   "outputs": [],
   "source": []
  }
 ],
 "metadata": {
  "kernelspec": {
   "display_name": "Python 3 (ipykernel)",
   "language": "python",
   "name": "python3"
  },
  "language_info": {
   "codemirror_mode": {
    "name": "ipython",
    "version": 3
   },
   "file_extension": ".py",
   "mimetype": "text/x-python",
   "name": "python",
   "nbconvert_exporter": "python",
   "pygments_lexer": "ipython3",
   "version": "3.12.4"
  }
 },
 "nbformat": 4,
 "nbformat_minor": 5
}
