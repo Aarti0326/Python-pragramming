{
 "cells": [
  {
   "cell_type": "markdown",
   "id": "92266b23-30c0-40bc-a06e-32de74444acd",
   "metadata": {},
   "source": [
    "### What is the value of x"
   ]
  },
  {
   "cell_type": "code",
   "execution_count": 2,
   "id": "08898b3c-6b90-4f3e-8032-cfb4e9d13e03",
   "metadata": {},
   "outputs": [
    {
     "name": "stdout",
     "output_type": "stream",
     "text": [
      "the value of x is 100\n"
     ]
    }
   ],
   "source": [
    "x = 0\n",
    "while (x < 100):\n",
    "  x+=2\n",
    "print(\"the value of x is\",x)"
   ]
  },
  {
   "cell_type": "markdown",
   "id": "a1a9860e-4b07-4ec5-b195-0cdef15cc3a1",
   "metadata": {},
   "source": [
    "### Write a nested for loop program to print multiplication table in Python"
   ]
  },
  {
   "cell_type": "code",
   "execution_count": 4,
   "id": "eb2a0156-2f6e-45a8-878c-9443efcf308f",
   "metadata": {},
   "outputs": [
    {
     "name": "stdout",
     "output_type": "stream",
     "text": [
      "1 2 3 4 5 6 7 8 9 10 \n",
      "2 4 6 8 10 12 14 16 18 20 \n",
      "3 6 9 12 15 18 21 24 27 30 \n",
      "4 8 12 16 20 24 28 32 36 40 \n",
      "5 10 15 20 25 30 35 40 45 50 \n",
      "6 12 18 24 30 36 42 48 54 60 \n",
      "7 14 21 28 35 42 49 56 63 70 \n",
      "8 16 24 32 40 48 56 64 72 80 \n",
      "9 18 27 36 45 54 63 72 81 90 \n",
      "10 20 30 40 50 60 70 80 90 100 \n"
     ]
    }
   ],
   "source": [
    "for i in range (1,11):\n",
    "    for j in range(1,11):\n",
    "        print(i * j,end = ' ')\n",
    "    print()"
   ]
  },
  {
   "cell_type": "markdown",
   "id": "33e95e47-d0a3-4ed3-bf35-461b9cc6caff",
   "metadata": {},
   "source": [
    "### Nested Loop to Print Pattern\n"
   ]
  },
  {
   "cell_type": "code",
   "execution_count": 6,
   "id": "e297fad9-d2e6-43b9-918e-2c61638df9c1",
   "metadata": {},
   "outputs": [
    {
     "name": "stdout",
     "output_type": "stream",
     "text": [
      "* \n",
      "* * \n",
      "* * * \n",
      "* * * * \n",
      "* * * * * \n"
     ]
    }
   ],
   "source": [
    "rows = 5\n",
    "for i in range(1,rows+1):\n",
    "    for j in range (1,i+1):\n",
    "        print('*',end=' ')\n",
    "    print('')"
   ]
  },
  {
   "cell_type": "code",
   "execution_count": 7,
   "id": "38dea9fe-d3b2-4255-a069-c25eca4b54bf",
   "metadata": {},
   "outputs": [
    {
     "name": "stdout",
     "output_type": "stream",
     "text": [
      "* \n",
      "* * \n",
      "* * * \n",
      "* * * * \n",
      "* * * * * \n",
      "* * * * * * \n"
     ]
    }
   ],
   "source": [
    "rows=6\n",
    "for i in range(1,rows+1):\n",
    "    for j in range (1,i+1):\n",
    "        print('*',end=' ')\n",
    "    print('')\n",
    " "
   ]
  },
  {
   "cell_type": "code",
   "execution_count": 8,
   "id": "cb55081d-ac60-4e8f-9041-d05aa3ef461d",
   "metadata": {},
   "outputs": [
    {
     "name": "stdout",
     "output_type": "stream",
     "text": [
      "aarti aarti aarti aarti aarti \n",
      "nikita nikita nikita nikita nikita \n",
      "sushant sushant sushant sushant sushant \n"
     ]
    }
   ],
   "source": [
    "names = ['aarti','nikita','sushant']\n",
    "for name in names:\n",
    "    count = 0\n",
    "    while count<5:\n",
    "        print(name,end=' ')\n",
    "        count = count+1\n",
    "    print()\n",
    "    "
   ]
  },
  {
   "cell_type": "markdown",
   "id": "98e68f80-844c-4387-99de-eebbba85f35c",
   "metadata": {},
   "source": [
    "### Print a rectangle Pattern with 5 rows and 3 columns of stars"
   ]
  },
  {
   "cell_type": "code",
   "execution_count": 10,
   "id": "89b7dd46-06e8-4b79-9800-ce3c3b363d12",
   "metadata": {},
   "outputs": [
    {
     "name": "stdout",
     "output_type": "stream",
     "text": [
      "***\n",
      "***\n",
      "***\n",
      "***\n",
      "***\n"
     ]
    }
   ],
   "source": [
    "for i in range (5):\n",
    "    for j in range (3):\n",
    "        print('*',end='')\n",
    "    print()"
   ]
  },
  {
   "cell_type": "code",
   "execution_count": 11,
   "id": "190e5eab-f30f-4693-b333-7c3218720365",
   "metadata": {},
   "outputs": [
    {
     "name": "stdout",
     "output_type": "stream",
     "text": [
      "0 0\n",
      "1 1\n",
      "2 2\n",
      "3 3\n"
     ]
    }
   ],
   "source": [
    "for i in range(4):\n",
    "    for j in range(4):\n",
    "        if j == i:\n",
    "            print(i,j)  "
   ]
  },
  {
   "cell_type": "code",
   "execution_count": 12,
   "id": "3fb9b929-5d4c-41ff-a714-fbb307630e79",
   "metadata": {},
   "outputs": [
    {
     "name": "stdout",
     "output_type": "stream",
     "text": [
      "2 * 4 =  8\n",
      "2 * 6 =  12\n",
      "4 * 2 =  8\n",
      "4 * 6 =  24\n",
      "6 * 2 =  12\n",
      "6 * 4 =  24\n"
     ]
    }
   ],
   "source": [
    "first = [2,4,6]\n",
    "second = [2,4,6]\n",
    "for i in first:\n",
    "    for j in second:\n",
    "        if i==j:\n",
    "            continue\n",
    "        print(i, '*', j, '= ', i * j)"
   ]
  },
  {
   "cell_type": "code",
   "execution_count": 13,
   "id": "0887b94c-2e63-446a-9353-4dbc6ceacb00",
   "metadata": {},
   "outputs": [
    {
     "name": "stdout",
     "output_type": "stream",
     "text": [
      "[22, 32, 42, 23, 33, 43, 24, 34, 44]\n"
     ]
    }
   ],
   "source": [
    "first = [2, 3, 4]\n",
    "second = [20, 30, 40]\n",
    "final = []\n",
    "for i in first:\n",
    "    for j in second:\n",
    "        final.append(i+j)\n",
    "print(final)"
   ]
  },
  {
   "cell_type": "code",
   "execution_count": 14,
   "id": "a0617203-4231-448c-b441-af4890cd69d3",
   "metadata": {},
   "outputs": [
    {
     "name": "stdout",
     "output_type": "stream",
     "text": [
      "[22, 32, 42, 23, 33, 43, 24, 34, 44]\n"
     ]
    }
   ],
   "source": [
    "first = [2, 3, 4]\n",
    "second = [20, 30, 40]\n",
    "final = [i+j for i in first for j in second]\n",
    "print(final)"
   ]
  },
  {
   "cell_type": "markdown",
   "id": "91b57737-aebd-4f51-a91c-fd58073c7449",
   "metadata": {},
   "source": [
    "### In this example, we will print the first 10 numbers on each line 5 times."
   ]
  },
  {
   "cell_type": "code",
   "execution_count": 36,
   "id": "b83dc282-52a4-450b-bc40-ad4c75117744",
   "metadata": {},
   "outputs": [
    {
     "name": "stdout",
     "output_type": "stream",
     "text": [
      "12345678910\n",
      "12345678910\n",
      "12345678910\n",
      "12345678910\n",
      "12345678910\n"
     ]
    }
   ],
   "source": [
    "i = 1\n",
    "while i<=5:\n",
    "    j=1\n",
    "    while j <=10:\n",
    "        print(j,end='')\n",
    "        j=j+1\n",
    "    i = i+1\n",
    "    print()"
   ]
  },
  {
   "cell_type": "markdown",
   "id": "699d375b-5bbb-4dcc-888e-ffc68d5298d3",
   "metadata": {},
   "source": []
  }
 ],
 "metadata": {
  "kernelspec": {
   "display_name": "Python 3 (ipykernel)",
   "language": "python",
   "name": "python3"
  },
  "language_info": {
   "codemirror_mode": {
    "name": "ipython",
    "version": 3
   },
   "file_extension": ".py",
   "mimetype": "text/x-python",
   "name": "python",
   "nbconvert_exporter": "python",
   "pygments_lexer": "ipython3",
   "version": "3.12.4"
  }
 },
 "nbformat": 4,
 "nbformat_minor": 5
}
