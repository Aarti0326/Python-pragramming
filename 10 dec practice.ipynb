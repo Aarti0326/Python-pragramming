{
 "cells": [
  {
   "cell_type": "markdown",
   "id": "0237c92f-6c5f-48d4-98a7-87e0bbda4ecf",
   "metadata": {},
   "source": [
    "## 1. What are Python’s key features?"
   ]
  },
  {
   "cell_type": "markdown",
   "id": "7b6ee888-20f5-492f-820c-ca799d75d430",
   "metadata": {},
   "source": [
    "### Interpreted: Python code is executed line by line.\n",
    "### Dynamically Typed: Variables do not need explicit type declarations.\n",
    "### Object-Oriented: Supports object-oriented programming principles.\n",
    "### Extensive Libraries: Python provides rich libraries for data science, web development, machine learning, etc.\n",
    "### Readable Syntax: Python code is clean and easy to understand.\n"
   ]
  },
  {
   "cell_type": "markdown",
   "id": "c6affe7c-cc77-40f9-a838-d5900f87cb4c",
   "metadata": {},
   "source": [
    "## 2. What is the difference between mutable and immutable objects in Python?"
   ]
  },
  {
   "cell_type": "markdown",
   "id": "dbc8e7f7-782b-428b-98c4-99729977bcf5",
   "metadata": {},
   "source": [
    "### Mutable: Can be changed after creation (e.g., list, dict, set).\n",
    "### Immutable: Cannot be changed after creation (e.g., int, str, tuple)."
   ]
  },
  {
   "cell_type": "code",
   "execution_count": 13,
   "id": "9638760e-10a8-4129-9c50-e3f4ed2af6d6",
   "metadata": {},
   "outputs": [
    {
     "name": "stdout",
     "output_type": "stream",
     "text": [
      "[1, 2, 3, 4]\n"
     ]
    }
   ],
   "source": [
    "# Mutable\n",
    "my_list = [1, 2, 3]\n",
    "my_list.append(4)  # Modifies the list\n",
    "print(my_list)  "
   ]
  },
  {
   "cell_type": "code",
   "execution_count": 15,
   "id": "a529fd9d-5947-4aee-9f7b-430d29e8995c",
   "metadata": {},
   "outputs": [
    {
     "ename": "TypeError",
     "evalue": "'tuple' object does not support item assignment",
     "output_type": "error",
     "traceback": [
      "\u001b[1;31m---------------------------------------------------------------------------\u001b[0m",
      "\u001b[1;31mTypeError\u001b[0m                                 Traceback (most recent call last)",
      "Cell \u001b[1;32mIn[15], line 3\u001b[0m\n\u001b[0;32m      1\u001b[0m \u001b[38;5;66;03m#Immutable\u001b[39;00m\n\u001b[0;32m      2\u001b[0m my_tuple \u001b[38;5;241m=\u001b[39m (\u001b[38;5;241m1\u001b[39m, \u001b[38;5;241m2\u001b[39m, \u001b[38;5;241m3\u001b[39m)\n\u001b[1;32m----> 3\u001b[0m my_tuple[\u001b[38;5;241m0\u001b[39m] \u001b[38;5;241m=\u001b[39m \u001b[38;5;241m4\u001b[39m\n",
      "\u001b[1;31mTypeError\u001b[0m: 'tuple' object does not support item assignment"
     ]
    }
   ],
   "source": [
    " #Immutable\n",
    "my_tuple = (1, 2, 3)\n",
    " my_tuple[0] = 4   #it gives error\n"
   ]
  },
  {
   "cell_type": "markdown",
   "id": "5b88c7a5-3a2b-4499-b45a-cfdffe189de0",
   "metadata": {},
   "source": [
    "## What is the difference between deepcopy and copy?"
   ]
  },
  {
   "cell_type": "markdown",
   "id": "9140d141-f332-482d-9adf-2dee47d3800e",
   "metadata": {},
   "source": [
    "### copy.copy(): Creates a shallow copy (changes to nested objects will affect the original).\n",
    "### copy.deepcopy(): Creates a deep copy (nested objects are copied too, so changes won't affect the original)."
   ]
  },
  {
   "cell_type": "code",
   "execution_count": 19,
   "id": "a60bfbba-081f-4064-8866-8b2a4551658b",
   "metadata": {},
   "outputs": [
    {
     "name": "stdout",
     "output_type": "stream",
     "text": [
      "[1, [9, 3]]\n",
      "[1, [2, 3]]\n"
     ]
    }
   ],
   "source": [
    "import copy\n",
    "\n",
    "# Original object\n",
    "original = [1, [2, 3]]\n",
    "\n",
    "# Shallow Copy\n",
    "shallow_copy = copy.copy(original)\n",
    "shallow_copy[1][0] = 9\n",
    "print(original)  \n",
    "# Deep Copy\n",
    "original = [1, [2, 3]]\n",
    "deep_copy = copy.deepcopy(original)\n",
    "deep_copy[1][0] = 9\n",
    "print(original) "
   ]
  },
  {
   "cell_type": "code",
   "execution_count": null,
   "id": "d57920ce-1a00-4b4a-840a-7767b4047e46",
   "metadata": {},
   "outputs": [],
   "source": []
  }
 ],
 "metadata": {
  "kernelspec": {
   "display_name": "Python 3 (ipykernel)",
   "language": "python",
   "name": "python3"
  },
  "language_info": {
   "codemirror_mode": {
    "name": "ipython",
    "version": 3
   },
   "file_extension": ".py",
   "mimetype": "text/x-python",
   "name": "python",
   "nbconvert_exporter": "python",
   "pygments_lexer": "ipython3",
   "version": "3.12.4"
  }
 },
 "nbformat": 4,
 "nbformat_minor": 5
}
