{
 "cells": [
  {
   "cell_type": "markdown",
   "id": "a4e5fca5-0d57-4ef0-9940-e3a8830c4eb6",
   "metadata": {},
   "source": [
    "###  Write a nested loop to print a multiplication table (1 to 5)."
   ]
  },
  {
   "cell_type": "code",
   "execution_count": 7,
   "id": "a36baa3f-6799-4901-99af-c28b2c1150f0",
   "metadata": {},
   "outputs": [
    {
     "name": "stdout",
     "output_type": "stream",
     "text": [
      "1\t2\t3\t4\t5\t\n",
      "2\t4\t6\t8\t10\t\n",
      "3\t6\t9\t12\t15\t\n",
      "4\t8\t12\t16\t20\t\n",
      "5\t10\t15\t20\t25\t\n"
     ]
    }
   ],
   "source": [
    "for i in range(1,6):\n",
    "    for j in range(1,6):\n",
    "        print(i*j , end = \"\\t\" )\n",
    "    print()"
   ]
  },
  {
   "cell_type": "markdown",
   "id": "4d15db71-38a7-4fc0-bcaf-3620a38d00af",
   "metadata": {},
   "source": [
    "### Write a Python program to find the largest of three numbers using if-else."
   ]
  },
  {
   "cell_type": "code",
   "execution_count": 16,
   "id": "477a777b-bfcb-4429-8579-0826c804283e",
   "metadata": {},
   "outputs": [
    {
     "name": "stdin",
     "output_type": "stream",
     "text": [
      "Enter three numbers:  5.3\n",
      "Enter three numbers:  1\n",
      "Enter three numbers:  56\n"
     ]
    },
    {
     "name": "stdout",
     "output_type": "stream",
     "text": [
      "the largest number is 56.0\n"
     ]
    }
   ],
   "source": [
    "a = float(input(\"Enter three numbers: \"))\n",
    "b = float(input(\"Enter three numbers: \"))\n",
    "c = float(input(\"Enter three numbers: \"))\n",
    "\n",
    "if a>b and a>c:\n",
    "    print(f\"the largest number is {a}\")\n",
    "elif b>a and b>c:\n",
    "    print(f\"the largest number is {b}\")\n",
    "else:\n",
    "    print(f\"the largest number is {c}\")"
   ]
  },
  {
   "cell_type": "markdown",
   "id": "36273f41-1403-4f34-932f-084d581c4002",
   "metadata": {},
   "source": [
    "### Write a program to check if a year is a leap year using if-else."
   ]
  },
  {
   "cell_type": "code",
   "execution_count": 36,
   "id": "f941c1a1-c1e6-486f-904f-354612910cd5",
   "metadata": {},
   "outputs": [
    {
     "name": "stdin",
     "output_type": "stream",
     "text": [
      "enter a year 2025\n"
     ]
    },
    {
     "name": "stdout",
     "output_type": "stream",
     "text": [
      "2025 is not a leap year\n"
     ]
    }
   ],
   "source": [
    "year = int(input(\"enter a year\"))\n",
    "if (year % 4 == 0 and year % 100 != 0 ) or (year % 400 ==0):\n",
    "    print(f\"{year} is a leap year\")\n",
    "else:\n",
    "    print(f\"{year} is not a leap year\")"
   ]
  },
  {
   "cell_type": "markdown",
   "id": "31fc1452-c956-4327-8093-5aa743e34da2",
   "metadata": {},
   "source": [
    "### Use a while loop to reverse a number (e.g., 12345 → 54321)."
   ]
  },
  {
   "cell_type": "code",
   "execution_count": 4,
   "id": "5230036f-6cef-427e-ac50-95c428d85c95",
   "metadata": {},
   "outputs": [
    {
     "name": "stdin",
     "output_type": "stream",
     "text": [
      "Enter a number:  5023\n"
     ]
    },
    {
     "name": "stdout",
     "output_type": "stream",
     "text": [
      "Reversed number: 3205\n"
     ]
    }
   ],
   "source": [
    "num = int(input(\"Enter a number: \"))\n",
    "reversed_num = 0\n",
    "while num > 0:\n",
    "    digit = num % 10\n",
    "    reversed_num = reversed_num * 10 + digit\n",
    "    num = num // 10\n",
    "print(\"Reversed number:\", reversed_num)\n"
   ]
  },
  {
   "cell_type": "code",
   "execution_count": null,
   "id": "9dda8c84-6c4a-41e4-8537-02599e35c631",
   "metadata": {},
   "outputs": [],
   "source": []
  }
 ],
 "metadata": {
  "kernelspec": {
   "display_name": "Python 3 (ipykernel)",
   "language": "python",
   "name": "python3"
  },
  "language_info": {
   "codemirror_mode": {
    "name": "ipython",
    "version": 3
   },
   "file_extension": ".py",
   "mimetype": "text/x-python",
   "name": "python",
   "nbconvert_exporter": "python",
   "pygments_lexer": "ipython3",
   "version": "3.12.4"
  }
 },
 "nbformat": 4,
 "nbformat_minor": 5
}
