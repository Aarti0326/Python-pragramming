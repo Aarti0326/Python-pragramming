{
 "cells": [
  {
   "cell_type": "markdown",
   "id": "edbd262c-e4f4-4187-b503-e162be407ec3",
   "metadata": {},
   "source": [
    "### 1)Write a program to create a function that takes two arguments, name and age, and print their value."
   ]
  },
  {
   "cell_type": "code",
   "execution_count": 2,
   "id": "18479578-6610-453d-8eda-73cc6673126b",
   "metadata": {},
   "outputs": [
    {
     "name": "stdin",
     "output_type": "stream",
     "text": [
      "enter your name Aarti\n",
      "enter your age 23\n"
     ]
    },
    {
     "name": "stdout",
     "output_type": "stream",
     "text": [
      "my name is Aarti\n",
      "my age is 23\n"
     ]
    }
   ],
   "source": [
    "name = input(\"enter your name\")\n",
    "age = int(input(\"enter your age\"))\n",
    "print(\"my name is\",name)\n",
    "print(\"my age is\",age)"
   ]
  },
  {
   "cell_type": "markdown",
   "id": "64d51c5e-ca11-4cf0-ad00-5473774a5778",
   "metadata": {},
   "source": [
    "### 2) Create a function with variable length of arguments."
   ]
  },
  {
   "cell_type": "code",
   "execution_count": 4,
   "id": "0acdbf42-874c-46e5-8de8-06a1a71d2dbe",
   "metadata": {},
   "outputs": [
    {
     "name": "stdout",
     "output_type": "stream",
     "text": [
      "3.12\n",
      "happy\n",
      "learning\n",
      "with python\n"
     ]
    }
   ],
   "source": [
    "def length_function(*args):\n",
    "    for arg in args:\n",
    "        print(arg)\n",
    "length_function(3.12,'happy','learning','with python')"
   ]
  },
  {
   "cell_type": "markdown",
   "id": "2731a161-464b-48d3-aa29-5d006b8a33dd",
   "metadata": {},
   "source": [
    "### 3)  Create a function with a default argument"
   ]
  },
  {
   "cell_type": "code",
   "execution_count": 6,
   "id": "3983d62f-7f55-4e02-b777-7f727c34c544",
   "metadata": {},
   "outputs": [
    {
     "name": "stdout",
     "output_type": "stream",
     "text": [
      "Student Details: Aart 14\n",
      "Student Details: Jon 12\n",
      "Student Details: Donald 13\n"
     ]
    }
   ],
   "source": [
    "def student(name, age):\n",
    "    print('Student Details:', name, age)\n",
    "\n",
    "\n",
    "student('Aart', 14)\n",
    "student(name='Jon', age=12)\n",
    "student('Donald', age=13)"
   ]
  },
  {
   "cell_type": "code",
   "execution_count": 7,
   "id": "02ca4ccf-98b7-457f-a7d1-9155700f6782",
   "metadata": {},
   "outputs": [],
   "source": [
    "def student(name,Age):\n",
    "    print('student details:',name,Age)"
   ]
  },
  {
   "cell_type": "code",
   "execution_count": 8,
   "id": "bc68e7eb-b353-45dd-84f6-84d7d1d3c122",
   "metadata": {},
   "outputs": [
    {
     "name": "stdout",
     "output_type": "stream",
     "text": [
      "student details: Aarti 23\n",
      "student details: nikita 18\n",
      "student details: sushant 17\n"
     ]
    }
   ],
   "source": [
    "student('Aarti',23)\n",
    "student(name='nikita',Age=18)\n",
    "student(name='sushant',Age=17)"
   ]
  },
  {
   "cell_type": "markdown",
   "id": "d0bb5ff7-a358-410c-a0bd-9e0521fbc430",
   "metadata": {},
   "source": [
    "### 4)Python Program To Display Powers of 2 Using Anonymous Function."
   ]
  },
  {
   "cell_type": "code",
   "execution_count": 10,
   "id": "9bcbc495-6c11-49f9-903e-573aebc98ac1",
   "metadata": {},
   "outputs": [
    {
     "name": "stdout",
     "output_type": "stream",
     "text": [
      "The total terms is: 10\n",
      "the power of 2 is [1, 2, 4, 8, 16, 32, 64, 128, 256, 512]\n"
     ]
    }
   ],
   "source": [
    "\n",
    "terms = 10\n",
    " \n",
    "# use anonymous function \n",
    "result = list(map(lambda x: 2 ** x, range(terms))) \n",
    " \n",
    "# display the result \n",
    "print(\"The total terms is:\", terms) \n",
    "print(\"the power of 2 is\",result)"
   ]
  },
  {
   "cell_type": "markdown",
   "id": "99ff29e1-29e2-4f3a-a243-43c81d4b4819",
   "metadata": {},
   "source": [
    "### 5)Python Program to Find Numbers Divisible by Another Number."
   ]
  },
  {
   "cell_type": "code",
   "execution_count": 12,
   "id": "09959acb-85e0-4102-8a0b-88d5c1ecbab3",
   "metadata": {},
   "outputs": [
    {
     "name": "stdout",
     "output_type": "stream",
     "text": [
      "the numbers divisible by 13 are :\n",
      "13\n",
      "26\n",
      "39\n"
     ]
    }
   ],
   "source": [
    "\n",
    "print(\"the numbers divisible by 13 are :\")    \n",
    "for i in range(1,50):\n",
    "    if i %13==0:\n",
    "        print(i)"
   ]
  },
  {
   "cell_type": "code",
   "execution_count": 13,
   "id": "309d768b-6541-4ca0-9bc7-5f72404f080b",
   "metadata": {},
   "outputs": [],
   "source": [
    "#solution:2  using lambda function"
   ]
  },
  {
   "cell_type": "code",
   "execution_count": 14,
   "id": "a9743e86-74bb-4989-96c3-130993bf1275",
   "metadata": {},
   "outputs": [
    {
     "name": "stdout",
     "output_type": "stream",
     "text": [
      "the number is divisible by 2 are: [20, 6, 56, 10]\n"
     ]
    }
   ],
   "source": [
    "l = [20,6,13,56,57,71,10]\n",
    "result =list(filter(lambda x :x % 2==0,l))\n",
    "print(\"the number is divisible by 2 are:\", result)"
   ]
  },
  {
   "cell_type": "markdown",
   "id": "87e2edad-826e-4dc5-ac97-43e3c3b3d61f",
   "metadata": {},
   "source": [
    "## 6)Python Program to Find the Largest Among Three Numbers."
   ]
  },
  {
   "cell_type": "code",
   "execution_count": 16,
   "id": "05666e22-cf6c-4b73-8fb4-0169b17054c5",
   "metadata": {},
   "outputs": [
    {
     "name": "stdout",
     "output_type": "stream",
     "text": [
      "the largest number is 49.65\n"
     ]
    }
   ],
   "source": [
    "def largest_num(a,b,c):\n",
    "    if a>=b and a>=c:\n",
    "        return a\n",
    "    elif b>=a and b>=c:\n",
    "        return b\n",
    "    else:\n",
    "        return c\n",
    "\n",
    "a = 45\n",
    "b = 49.65\n",
    "c = 1.3\n",
    "\n",
    "largest =float(largest_num(a,b,c))\n",
    "print(\"the largest number is\",largest)"
   ]
  },
  {
   "cell_type": "markdown",
   "id": "90f8559f-e66d-4527-9d16-39ba23012d9e",
   "metadata": {},
   "source": [
    "### 7)Create an inner function to calculate the addition in the following way:\n",
    "### Create an outer function that will accept two parameters a and b. Create a function inside an outer function that will calculate the addition of a  and b. At last, an outer function will add 5 into addition and return it"
   ]
  },
  {
   "cell_type": "code",
   "execution_count": 18,
   "id": "dd9aaf84-39b2-40cf-83fe-2ff49052de87",
   "metadata": {},
   "outputs": [
    {
     "name": "stdout",
     "output_type": "stream",
     "text": [
      "The final result is: 35\n"
     ]
    }
   ],
   "source": [
    "def outer_function(a, b):\n",
    "    def inner_function(x, y):\n",
    "        return x + y\n",
    "    \n",
    "    # Use the inner function to get the sum of a and b\n",
    "    addition_result = inner_function(a, b)\n",
    "    \n",
    "    # Add 5 to the result of the inner function and return it\n",
    "    final_result = addition_result + 5\n",
    "    return final_result\n",
    "\n",
    "# Example usage\n",
    "a = 10\n",
    "b = 20\n",
    "print(\"The final result is:\", outer_function(a, b))"
   ]
  },
  {
   "cell_type": "markdown",
   "id": "6a5a7d6c-8d26-496d-9c2f-e37ca3f53e45",
   "metadata": {},
   "source": [
    "### 8)Python Program to Check Whether a String is Palindrome or Not."
   ]
  },
  {
   "cell_type": "code",
   "execution_count": 52,
   "id": "4722c571-edcd-41b0-a6f2-9ee2215705a8",
   "metadata": {},
   "outputs": [
    {
     "name": "stdin",
     "output_type": "stream",
     "text": [
      "enter a string nayan\n"
     ]
    },
    {
     "name": "stdout",
     "output_type": "stream",
     "text": [
      "the string is a palindrome\n"
     ]
    }
   ],
   "source": [
    "def is_palindrome(s):\n",
    "    if s==s[::-1]:\n",
    "        return \"the string is a palindrome\"\n",
    "    else:\n",
    "        return \"the string is not a palindrome\"\n",
    "string = input(\"enter a string\")\n",
    "print(is_palindrome(string))"
   ]
  },
  {
   "cell_type": "markdown",
   "id": "36e011b7-0b7c-4d75-b6ac-667351f10428",
   "metadata": {},
   "source": [
    "### 9)Write a python program to create a exception class in 1. Arithmetic Error 2. Import Error 3. Index Error."
   ]
  },
  {
   "cell_type": "code",
   "execution_count": 55,
   "id": "258ea0f1-9dce-4c7a-903f-2683a6c67c9d",
   "metadata": {},
   "outputs": [
    {
     "name": "stdout",
     "output_type": "stream",
     "text": [
      " An arithmetic error occurred :  division by zero\n"
     ]
    }
   ],
   "source": [
    "# Python program for Arithmetic Error  \n",
    "try:  \n",
    "    result = 1/0  \n",
    "except ArithmeticError as e:  \n",
    "    print(\" An arithmetic error occurred : \", e)  "
   ]
  },
  {
   "cell_type": "markdown",
   "id": "4df711d7-b3c9-4e64-ad0b-275783aba020",
   "metadata": {},
   "source": [
    "### 9)Write a python program to create a exception class in \n",
    "### 1.Arithmetic Error 2. Import Error 3. Index Error."
   ]
  },
  {
   "cell_type": "code",
   "execution_count": null,
   "id": "45450ef6-c62c-4fe2-bbe8-382999eb8e65",
   "metadata": {},
   "outputs": [],
   "source": []
  },
  {
   "cell_type": "code",
   "execution_count": null,
   "id": "50c858a5-fd2d-4920-9e5b-ae2aa0f1d01d",
   "metadata": {},
   "outputs": [],
   "source": []
  }
 ],
 "metadata": {
  "kernelspec": {
   "display_name": "Python 3 (ipykernel)",
   "language": "python",
   "name": "python3"
  },
  "language_info": {
   "codemirror_mode": {
    "name": "ipython",
    "version": 3
   },
   "file_extension": ".py",
   "mimetype": "text/x-python",
   "name": "python",
   "nbconvert_exporter": "python",
   "pygments_lexer": "ipython3",
   "version": "3.12.4"
  }
 },
 "nbformat": 4,
 "nbformat_minor": 5
}
