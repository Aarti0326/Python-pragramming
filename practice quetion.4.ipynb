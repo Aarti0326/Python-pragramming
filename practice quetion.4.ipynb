{
 "cells": [
  {
   "cell_type": "markdown",
   "id": "5e7d5938-0a65-4fce-8dd1-7e93840e0cb2",
   "metadata": {},
   "source": [
    "###  Check if a Number is Positive, Negative, or Zero\n"
   ]
  },
  {
   "cell_type": "code",
   "execution_count": 10,
   "id": "f2977e50-2070-4c2c-97ff-8cefb5369d4e",
   "metadata": {},
   "outputs": [
    {
     "name": "stdin",
     "output_type": "stream",
     "text": [
      "enter a number -2\n"
     ]
    },
    {
     "name": "stdout",
     "output_type": "stream",
     "text": [
      "the number is negetive\n"
     ]
    }
   ],
   "source": [
    "number = float(input(\"enter a number\"))\n",
    "\n",
    "if number >0:\n",
    "    print(\"the number is positive\")\n",
    "elif number<0:\n",
    "    print(\"the number is negetive\")\n",
    "else:\n",
    "    print(\"the number is zero\")"
   ]
  },
  {
   "cell_type": "code",
   "execution_count": 14,
   "id": "8a90264c-7cfc-459b-8d5d-651f254ced8b",
   "metadata": {},
   "outputs": [],
   "source": [
    "#Explanation:\n",
    "\n",
    "#if number > 0: Checks if the input number is greater than 0. If true, it prints \"The number is positive.\"\n",
    "#elif number < 0: If the number is not positive, it checks if it is less than 0. If true, it prints \"The number is negative.\"\n",
    "#else: If neither condition is met (meaning the number is 0), it prints \"The number is zero.\""
   ]
  },
  {
   "cell_type": "markdown",
   "id": "a45e4c2b-bc10-4965-9966-dec1a17e8d67",
   "metadata": {},
   "source": [
    "### Check if a Number is Even or Odd\n"
   ]
  },
  {
   "cell_type": "code",
   "execution_count": 19,
   "id": "8c4ac73b-3e1b-4aa1-9c85-7361f42d7f0b",
   "metadata": {},
   "outputs": [
    {
     "name": "stdin",
     "output_type": "stream",
     "text": [
      "Enter a number  52\n"
     ]
    },
    {
     "name": "stdout",
     "output_type": "stream",
     "text": [
      "The number is even\n"
     ]
    }
   ],
   "source": [
    "number = int(input(\"Enter a number \"))\n",
    "\n",
    "if number % 2 == 0:\n",
    "    print(\"The number is even\")\n",
    "else:\n",
    "    print(\"The number is odd\")"
   ]
  },
  {
   "cell_type": "code",
   "execution_count": 21,
   "id": "37cfc7ed-749b-4e8a-82f6-991be8daae78",
   "metadata": {},
   "outputs": [],
   "source": [
    "#Explanation:\n",
    "\n",
    "#if number % 2 == 0: Checks if the number is divisible by 2 with no remainder (i.e., even).\n",
    "#else: If not, it prints \"The number is odd.\""
   ]
  },
  {
   "cell_type": "markdown",
   "id": "61109e9d-cc3e-42a6-a6f5-37176593fcb0",
   "metadata": {},
   "source": [
    "### Grade Classification"
   ]
  },
  {
   "cell_type": "code",
   "execution_count": 30,
   "id": "ddaf2590-f833-4474-a987-dff9907a979a",
   "metadata": {},
   "outputs": [
    {
     "name": "stdin",
     "output_type": "stream",
     "text": [
      "enetr the score 50\n"
     ]
    },
    {
     "name": "stdout",
     "output_type": "stream",
     "text": [
      "fail\n"
     ]
    }
   ],
   "source": [
    "score = float(input(\"enetr the score\" ))\n",
    "if score >= 90:\n",
    "    print(\"Grade: A\")\n",
    "elif score >= 80:\n",
    "    print(\"Grade: B\")\n",
    "elif score >= 70:\n",
    "    print(\"Grade: C\")\n",
    "elif score >= 60:\n",
    "    print(\"Grade: D\")\n",
    "else:\n",
    "    print(\"fail\")\n"
   ]
  },
  {
   "cell_type": "markdown",
   "id": "fc15ee5b-a001-4b12-b3c5-03af3631fbc8",
   "metadata": {},
   "source": [
    "### Check for Valid Email Format"
   ]
  },
  {
   "cell_type": "code",
   "execution_count": 35,
   "id": "3244cb34-e7f5-4323-9c36-cd464fa1ed40",
   "metadata": {},
   "outputs": [
    {
     "name": "stdin",
     "output_type": "stream",
     "text": [
      "enter an email address : aartisalunkhe72926@gmailcom\n"
     ]
    },
    {
     "name": "stdout",
     "output_type": "stream",
     "text": [
      "the email address is invalid\n"
     ]
    }
   ],
   "source": [
    "email = input(\"enter an email address :\")\n",
    "\n",
    "if \"@\" in email and \".\" in email:\n",
    "    print(\"the email address is valid\")\n",
    "else:\n",
    "     print(\"the email address is invalid\")"
   ]
  },
  {
   "cell_type": "code",
   "execution_count": 37,
   "id": "27892c7f-f5a8-4ebc-9aa9-e8f7e41145d7",
   "metadata": {},
   "outputs": [],
   "source": [
    "#Explanation:\n",
    "\n",
    "#if \"@\" in email and \".\" in email: Checks if the email contains both \"@\" and \".\" characters, which are basic indicators of a valid email format.\n",
    "#else: If either of these characters is missing, it prints \"The email address is invalid.\""
   ]
  },
  {
   "cell_type": "markdown",
   "id": "90a110cd-055d-45a8-9ee1-4c85177fa2cc",
   "metadata": {},
   "source": [
    "### Find the Largest of Three Numbers"
   ]
  },
  {
   "cell_type": "code",
   "execution_count": 80,
   "id": "800145b8-c2c9-4c4a-ad9f-2753af1428df",
   "metadata": {},
   "outputs": [
    {
     "name": "stdin",
     "output_type": "stream",
     "text": [
      "Enter first number:  96\n",
      "Enter second number:  55\n",
      "Enter third number:  2\n"
     ]
    },
    {
     "name": "stdout",
     "output_type": "stream",
     "text": [
      "The largest number is a.\n"
     ]
    }
   ],
   "source": [
    "a = float(input(\"Enter first number: \"))\n",
    "b = float(input(\"Enter second number: \"))\n",
    "c = float(input(\"Enter third number: \"))\n",
    "\n",
    "if a >= b and a >= c:\n",
    "    print('The largest number is a.')\n",
    "elif b >= a and b >= c:\n",
    "    print('The largest number is b.')\n",
    "else:\n",
    "    print('The largest number is c')"
   ]
  },
  {
   "cell_type": "code",
   "execution_count": 82,
   "id": "293178e2-05ef-4a45-ac7e-59f13456d277",
   "metadata": {},
   "outputs": [],
   "source": [
    "#Explanation:\n",
    "\n",
    "#if a >= b and a >= c: Checks if a is greater than or equal to both b and c. If true, it prints a as the largest number.\n",
    "#elif b >= a and b >= c: If a is not the largest, it checks if b is greater than or equal to both a and c. If true, it prints b as the largest number.\n",
    "#else: If neither a nor b is the largest, then c must be the largest."
   ]
  },
  {
   "cell_type": "markdown",
   "id": "e2568a09-bda9-404c-98c6-44adb7f796e1",
   "metadata": {},
   "source": [
    "### Check Voting Eligibility"
   ]
  },
  {
   "cell_type": "code",
   "execution_count": 92,
   "id": "e7d5f4ac-fe74-4699-9833-eae4eb6ecf7c",
   "metadata": {},
   "outputs": [
    {
     "name": "stdin",
     "output_type": "stream",
     "text": [
      "enter your age 56\n"
     ]
    },
    {
     "name": "stdout",
     "output_type": "stream",
     "text": [
      "You are eligible to vote.\n"
     ]
    }
   ],
   "source": [
    "age = int(input(\"enter your age\"))\n",
    "if age >= 18:\n",
    "      print(\"You are eligible to vote.\")\n",
    "else:\n",
    "    print(\"You are not eligible to vote.\")\n",
    "     "
   ]
  },
  {
   "cell_type": "code",
   "execution_count": 94,
   "id": "b3a2790c-bbb9-480e-a94a-1a28be6bb082",
   "metadata": {},
   "outputs": [],
   "source": [
    "#Explanation:\n",
    "\n",
    "#if age >= 18: Checks if the age is 18 or older. If true, it prints \"You are eligible to vote.\"\n",
    "#else: If the age is less than 18, it prints \"You are not eligible to vote.\""
   ]
  },
  {
   "cell_type": "markdown",
   "id": "b505cf6b-5b3b-4c19-b8c7-a718a971fffb",
   "metadata": {},
   "source": [
    "### Simple Login System"
   ]
  },
  {
   "cell_type": "code",
   "execution_count": 103,
   "id": "6a52a83f-be06-4933-90ba-583c25bef970",
   "metadata": {},
   "outputs": [
    {
     "name": "stdin",
     "output_type": "stream",
     "text": [
      "enter your username Aarti\n",
      "eneter your password pass123\n"
     ]
    },
    {
     "name": "stdout",
     "output_type": "stream",
     "text": [
      "login successfull\n"
     ]
    }
   ],
   "source": [
    "username = input(\"enter your username\")\n",
    "password = input(\"eneter your password\")\n",
    "\n",
    "if username == \"Aarti\" and password == \"pass123\":\n",
    "    print(\"login successfull\")\n",
    "else:\n",
    "    print(\"login failed.please check your username or password\")\n"
   ]
  },
  {
   "cell_type": "markdown",
   "id": "3686379e-5086-4c0a-abe6-add898ccd1d2",
   "metadata": {},
   "source": [
    "### Determine the Day of the Week Based on a Number"
   ]
  },
  {
   "cell_type": "code",
   "execution_count": 2,
   "id": "b0c05cda-bd08-4d3e-b656-27cad6adcb3d",
   "metadata": {},
   "outputs": [],
   "source": [
    "def day_of_week(day_num):\n",
    "    if day_num == 1:\n",
    "        return \"Monday\"\n",
    "    elif day_num == 2:\n",
    "        return \"Tuesday\"\n",
    "    elif day_num == 3:\n",
    "        return \"Wednesday\"\n",
    "    elif day_num == 4:\n",
    "        return \"Thursday\"\n",
    "    elif day_num == 5:\n",
    "        return \"Friday\"\n",
    "    elif day_num == 6:\n",
    "        return \"Saturday\"\n",
    "    elif day_num == 7:\n",
    "        return \"Sunday\"\n",
    "    else:\n",
    "        return \"Invalid number\""
   ]
  },
  {
   "cell_type": "code",
   "execution_count": 16,
   "id": "1f343f7c-da0f-4733-a5f5-31b98ec64ac9",
   "metadata": {},
   "outputs": [
    {
     "data": {
      "text/plain": [
       "'Tuesday'"
      ]
     },
     "execution_count": 16,
     "metadata": {},
     "output_type": "execute_result"
    }
   ],
   "source": [
    "day_of_week(2)"
   ]
  }
 ],
 "metadata": {
  "kernelspec": {
   "display_name": "Python 3 (ipykernel)",
   "language": "python",
   "name": "python3"
  },
  "language_info": {
   "codemirror_mode": {
    "name": "ipython",
    "version": 3
   },
   "file_extension": ".py",
   "mimetype": "text/x-python",
   "name": "python",
   "nbconvert_exporter": "python",
   "pygments_lexer": "ipython3",
   "version": "3.12.4"
  }
 },
 "nbformat": 4,
 "nbformat_minor": 5
}
