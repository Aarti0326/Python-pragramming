{
 "cells": [
  {
   "cell_type": "markdown",
   "id": "efecc860-83a7-4ffb-bccf-9f4ac5f593ac",
   "metadata": {},
   "source": [
    "## math Module\n",
    "#For mathematical operations."
   ]
  },
  {
   "cell_type": "code",
   "execution_count": 2,
   "id": "86f35531-b1e6-42f1-854e-30fa23c0155f",
   "metadata": {},
   "outputs": [
    {
     "name": "stdout",
     "output_type": "stream",
     "text": [
      "4.0\n",
      "3.141592653589793\n",
      "120\n"
     ]
    }
   ],
   "source": [
    "import math\n",
    "print(math.sqrt(16))       \n",
    "print(math.pi)             \n",
    "print(math.factorial(5))"
   ]
  },
  {
   "cell_type": "markdown",
   "id": "fa07f6b3-df0f-48d2-90a1-b239fa9a9e77",
   "metadata": {},
   "source": [
    "## datetime Module\n",
    "#For handling dates and times."
   ]
  },
  {
   "cell_type": "code",
   "execution_count": 9,
   "id": "5c77fa95-4e1f-45cf-9b7a-503298badb7c",
   "metadata": {},
   "outputs": [
    {
     "name": "stdout",
     "output_type": "stream",
     "text": [
      "Today 2024-11-27\n"
     ]
    }
   ],
   "source": [
    "import datetime\n",
    "\n",
    "Today = datetime.date.today()\n",
    "print(\"Today\",Today)"
   ]
  },
  {
   "cell_type": "code",
   "execution_count": 13,
   "id": "f3ee06df-a75a-4efd-9499-262825a1111b",
   "metadata": {},
   "outputs": [
    {
     "name": "stdout",
     "output_type": "stream",
     "text": [
      "current time 2024-11-27 22:28:12.112819\n"
     ]
    }
   ],
   "source": [
    "current_time = datetime.datetime.now()\n",
    "print(\"current time\",current_time)"
   ]
  },
  {
   "cell_type": "code",
   "execution_count": 15,
   "id": "ad76e677-3ec9-4791-949f-42cdec99eb21",
   "metadata": {},
   "outputs": [
    {
     "name": "stdout",
     "output_type": "stream",
     "text": [
      "specific_date 2024-11-26\n"
     ]
    }
   ],
   "source": [
    "specific_date = datetime.date(2024,11,26)\n",
    "print(\"specific_date\",specific_date)"
   ]
  },
  {
   "cell_type": "markdown",
   "id": "edfe4fb7-3864-4198-a81c-0b782cc54805",
   "metadata": {},
   "source": [
    "## random Module\n",
    "#For generating random numbers."
   ]
  },
  {
   "cell_type": "code",
   "execution_count": 30,
   "id": "00a5b3e7-88ae-4bc5-826f-9f70f93a24d4",
   "metadata": {},
   "outputs": [
    {
     "name": "stdout",
     "output_type": "stream",
     "text": [
      "5\n",
      "C\n",
      "2.6973764158971303\n"
     ]
    }
   ],
   "source": [
    "import random\n",
    "\n",
    "print(random.randint(1,10))         ## Random integer between 1 and 10\n",
    "print(random.choice(['A','B','C']))  #random choice from as list\n",
    "print(random.uniform(1.5,3.5))       #random float between 1.5 and 3.5"
   ]
  },
  {
   "cell_type": "markdown",
   "id": "89760f57-bf55-49c1-9a00-1fa0fe705d77",
   "metadata": {},
   "source": [
    "## os Module\n",
    "#For interacting with the operating system."
   ]
  },
  {
   "cell_type": "code",
   "execution_count": 51,
   "id": "3117d058-d915-4df2-ad2c-cb5f65eb0e26",
   "metadata": {},
   "outputs": [
    {
     "name": "stdout",
     "output_type": "stream",
     "text": [
      "nt\n",
      "C:\\Users\\Aarti Salunkhe\\daily program\n",
      "Directories: ['.ipynb_checkpoints', '11 nov practice.ipynb', '11 oct program practice.ipynb', '12 oct practice.ipynb', '13 nov practice.ipynb', '13 oct practice.ipynb', '14 oct python practice.ipynb', '15 nov practice.ipynb', '15 oct practice python.ipynb', '16 oct practice.ipynb', '17 nov practice.ipynb', '17 oct practice.ipynb', '18 nov practice.ipynb', '19 oct practice.ipynb', '2 nov peactice.ipynb', '20 nov practice.ipynb', '20 oct practice.ipynb', '21 oct practice.ipynb', '22 nov practice.ipynb', '22 oct.ipynb', '23 nov practice.ipynb', '24 nov practice.ipynb', '25 nov.ipynb', '25 oct practice.ipynb', '27 nov practice.ipynb', '27 oct practice.ipynb', '28 oct practice.ipynb', '29 oct practice.ipynb', '3 nov practice.ipynb', '30 oct practice.ipynb', '31 oct practice.ipynb', '4 nov practice.ipynb', '5 nov practice.ipynb', '6 nov practice.ipynb', '9 nov practise.ipynb', 'Aarti_salunkhe', 'assignment 3.ipynb', 'assignment 4 .ipynb', 'assignment 7.ipynb', 'assignment exam.ipynb', 'assignment practice.ipynb', 'ASSIGNMENT.3.ipynb', 'Favorites', 'Input and Output Exercise.ipynb', 'lambda,filter,map,reduce function practice.ipynb', 'New_Floder', 'oops concepts.ipynb', 'practice problem.oct.6.ipynb', 'practice.quetions.18.ipynb', 'practice.quetions.23.ipynb', 'practice.quetions.27.ipynb', 'python function exercise.ipynb', 'self.txt', 'Untitled.ipynb', 'Untitled1.ipynb', 'Untitled2.ipynb', 'Untitled3.ipynb', 'Untitled4.ipynb', 'Untitled5.ipynb', 'Untitled6.ipynb', 'Untitled7.ipynb', 'using string practice.19.oct.ipynb']\n"
     ]
    }
   ],
   "source": [
    "import os\n",
    "\n",
    "print(os.name)     # Name of the operating system\n",
    "print(os.getcwd())      # Get current working directory\n",
    "os.mkdir(\"New_Floder\")  ## Create a new directory\n",
    "print(\"Directories:\", os.listdir(\".\"))  ## List files in current directory"
   ]
  },
  {
   "cell_type": "markdown",
   "id": "ca21a487-47c3-40ad-a52b-adc80c7465ff",
   "metadata": {},
   "source": [
    "## sys Module\n",
    "##For interacting with the Python runtime environment."
   ]
  },
  {
   "cell_type": "code",
   "execution_count": 60,
   "id": "554361e0-e37e-49af-851a-04764a8050a0",
   "metadata": {},
   "outputs": [
    {
     "name": "stdout",
     "output_type": "stream",
     "text": [
      "3.12.4 | packaged by Anaconda, Inc. | (main, Jun 18 2024, 15:03:56) [MSC v.1929 64 bit (AMD64)]\n",
      "win32\n"
     ]
    }
   ],
   "source": [
    "import sys\n",
    "\n",
    "print(sys.version)         # Python version being used\n",
    "print(sys.platform)        # Operating system platform\n",
    "#sys.exit(\"Exiting program\")  # Exit the program\n"
   ]
  },
  {
   "cell_type": "markdown",
   "id": "5b0565e1-1c6d-483d-836d-0d863ca80cd9",
   "metadata": {},
   "source": [
    "## statistics Module"
   ]
  },
  {
   "cell_type": "code",
   "execution_count": 63,
   "id": "c367b6a6-8a67-44a6-9bcd-efa1ba24964c",
   "metadata": {},
   "outputs": [
    {
     "name": "stdout",
     "output_type": "stream",
     "text": [
      "3\n",
      "3\n",
      "2.5\n"
     ]
    }
   ],
   "source": [
    "import statistics\n",
    "data = [1, 2, 3, 4, 5]\n",
    "print(statistics.mean(data))   # Mean of data → Output: 3.0\n",
    "print(statistics.median(data)) # Median of data → Output: 3\n",
    "print(statistics.variance(data))  # Variance of data"
   ]
  },
  {
   "cell_type": "markdown",
   "id": "da9bf1fd-5239-46ee-a303-738a8b074805",
   "metadata": {},
   "source": [
    "## collections Module\n",
    "#For specialized data structures like Counter, deque, and defaultdict."
   ]
  },
  {
   "cell_type": "code",
   "execution_count": 69,
   "id": "4fa20284-3f6d-4a45-84f8-ebfbedbbd9dc",
   "metadata": {},
   "outputs": [
    {
     "name": "stdout",
     "output_type": "stream",
     "text": [
      "Counter({'apple': 2, 'banana': 1, 'orange': 1})\n"
     ]
    }
   ],
   "source": [
    "from collections import Counter\n",
    "\n",
    "data = ['apple', 'banana', 'apple', 'orange']\n",
    "count = Counter(data)  \n",
    "print(count)  \n"
   ]
  },
  {
   "cell_type": "code",
   "execution_count": 71,
   "id": "7c4bf9f2-8795-46c5-820f-4a9caf09ad8b",
   "metadata": {},
   "outputs": [
    {
     "name": "stdout",
     "output_type": "stream",
     "text": [
      "Found: 12345\n"
     ]
    }
   ],
   "source": [
    "## re Module\n",
    "#For working with regular expressions.\n",
    "\n",
    "import re\n",
    "pattern = r\"\\d+\"  # Matches one or more digits\n",
    "text = \"Order number 12345\"\n",
    "match = re.search(pattern, text)\n",
    "if match:\n",
    "    print(\"Found:\", match.group())"
   ]
  },
  {
   "cell_type": "markdown",
   "id": "9ec1e2b0-bdb2-4c4d-806d-315fd23d01a1",
   "metadata": {},
   "source": [
    "## time Module\n",
    "#For handling time-related tasks."
   ]
  },
  {
   "cell_type": "code",
   "execution_count": 81,
   "id": "7dc1e494-3af4-4e55-b3d1-52b030be05d0",
   "metadata": {},
   "outputs": [
    {
     "name": "stdout",
     "output_type": "stream",
     "text": [
      "Current time: 1732728045.1783938\n",
      "Waited for 2 seconds!\n"
     ]
    }
   ],
   "source": [
    "import time\n",
    "\n",
    "print(\"Current time:\", time.time())      # Get current time in seconds\n",
    "time.sleep(2)                            # Pause the program for 2 seconds\n",
    "print(\"Waited for 2 seconds!\")"
   ]
  },
  {
   "cell_type": "code",
   "execution_count": null,
   "id": "db10b996-919b-4da6-846c-94ca1de70ff9",
   "metadata": {},
   "outputs": [],
   "source": []
  }
 ],
 "metadata": {
  "kernelspec": {
   "display_name": "Python 3 (ipykernel)",
   "language": "python",
   "name": "python3"
  },
  "language_info": {
   "codemirror_mode": {
    "name": "ipython",
    "version": 3
   },
   "file_extension": ".py",
   "mimetype": "text/x-python",
   "name": "python",
   "nbconvert_exporter": "python",
   "pygments_lexer": "ipython3",
   "version": "3.12.4"
  }
 },
 "nbformat": 4,
 "nbformat_minor": 5
}
