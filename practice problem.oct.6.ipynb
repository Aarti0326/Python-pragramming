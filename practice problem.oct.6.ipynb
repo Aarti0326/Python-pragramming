{
 "cells": [
  {
   "cell_type": "code",
   "execution_count": 1,
   "id": "2c47c5cd-587a-4c8a-8abf-a7c476552533",
   "metadata": {},
   "outputs": [
    {
     "name": "stdout",
     "output_type": "stream",
     "text": [
      "Deposited 50. New balance: 150\n",
      "Withdrew 30. New balance: 120\n",
      "Insufficient funds!\n"
     ]
    }
   ],
   "source": [
    "class ATM:\n",
    "    def __init__(self, balance=0):\n",
    "        self.balance = balance\n",
    "\n",
    "    def deposit(self, amount):\n",
    "        self.balance += amount\n",
    "        return f\"Deposited {amount}. New balance: {self.balance}\"\n",
    "\n",
    "    def withdraw(self, amount):\n",
    "        if amount > self.balance:\n",
    "            return \"Insufficient funds!\"\n",
    "        self.balance -= amount\n",
    "        return f\"Withdrew {amount}. New balance: {self.balance}\"\n",
    "\n",
    "# Test\n",
    "atm = ATM(100)\n",
    "print(atm.deposit(50))\n",
    "print(atm.withdraw(30))\n",
    "print(atm.withdraw(200))\n"
   ]
  },
  {
   "cell_type": "code",
   "execution_count": 3,
   "id": "4a18bb8d-e043-4d70-b4df-b718b8b9b763",
   "metadata": {},
   "outputs": [
    {
     "name": "stdout",
     "output_type": "stream",
     "text": [
      "Duplicates: [2, 4]\n"
     ]
    }
   ],
   "source": [
    "def find_duplicates(lst):\n",
    "    seen = set()\n",
    "    duplicates = set()\n",
    "    for item in lst:\n",
    "        if item in seen:\n",
    "            duplicates.add(item)\n",
    "        else:\n",
    "            seen.add(item)\n",
    "    return list(duplicates)\n",
    "\n",
    "# Test\n",
    "numbers = [1, 2, 2, 3, 4, 4, 5]\n",
    "print(f\"Duplicates: {find_duplicates(numbers)}\")\n"
   ]
  },
  {
   "cell_type": "code",
   "execution_count": 5,
   "id": "e376d030-f419-453f-b016-f3bf14b674c1",
   "metadata": {},
   "outputs": [
    {
     "name": "stdout",
     "output_type": "stream",
     "text": [
      "Sum of digits in 12345: 15\n"
     ]
    }
   ],
   "source": [
    "def sum_of_digits(n):\n",
    "    return sum(int(digit) for digit in str(n))\n",
    "\n",
    "# Test\n",
    "number = 12345\n",
    "print(f\"Sum of digits in {number}: {sum_of_digits(number)}\")\n"
   ]
  },
  {
   "cell_type": "code",
   "execution_count": null,
   "id": "8b8c033a-067f-4827-9487-c85c2c924143",
   "metadata": {},
   "outputs": [],
   "source": []
  }
 ],
 "metadata": {
  "kernelspec": {
   "display_name": "Python 3 (ipykernel)",
   "language": "python",
   "name": "python3"
  },
  "language_info": {
   "codemirror_mode": {
    "name": "ipython",
    "version": 3
   },
   "file_extension": ".py",
   "mimetype": "text/x-python",
   "name": "python",
   "nbconvert_exporter": "python",
   "pygments_lexer": "ipython3",
   "version": "3.12.4"
  }
 },
 "nbformat": 4,
 "nbformat_minor": 5
}
