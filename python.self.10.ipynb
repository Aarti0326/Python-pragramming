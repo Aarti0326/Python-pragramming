{
 "cells": [
  {
   "cell_type": "markdown",
   "id": "27ab32f7-d27b-4507-911f-215bafbc9641",
   "metadata": {},
   "source": [
    "# user defined function"
   ]
  },
  {
   "cell_type": "markdown",
   "id": "2a08d8b8-a1b8-45a7-b237-93f3ce481f60",
   "metadata": {},
   "source": [
    "## creating and calling function"
   ]
  },
  {
   "cell_type": "code",
   "execution_count": 3,
   "id": "339eb52f-220e-4400-a02b-93c2f614d12c",
   "metadata": {},
   "outputs": [],
   "source": [
    "def my_function():\n",
    "    print(\"my name is aarti\")"
   ]
  },
  {
   "cell_type": "code",
   "execution_count": 4,
   "id": "a7e5b091-54da-4af9-8e5a-13c2c078a422",
   "metadata": {},
   "outputs": [
    {
     "name": "stdout",
     "output_type": "stream",
     "text": [
      "my name is aarti\n"
     ]
    }
   ],
   "source": [
    "my_function()"
   ]
  },
  {
   "cell_type": "code",
   "execution_count": 5,
   "id": "3790263b-bc62-4c97-a2ae-2a826892b3ff",
   "metadata": {},
   "outputs": [],
   "source": [
    "def Details_bill():\n",
    "    print(\"the last date of the bill payment is on next week\")\n",
    "    print(\"after deadline,you need to pay rs 500 as a fine\")\n",
    "    print(\"pay your bill soon\")"
   ]
  },
  {
   "cell_type": "code",
   "execution_count": 6,
   "id": "7282759d-69d8-405a-a360-768605e34862",
   "metadata": {},
   "outputs": [
    {
     "name": "stdin",
     "output_type": "stream",
     "text": [
      "enter your name AARTI\n",
      "enter the unit of electricity you have consumed 100\n"
     ]
    },
    {
     "name": "stdout",
     "output_type": "stream",
     "text": [
      "total amount of bill you need to pay is 1000\n",
      "the last date of the bill payment is on next week\n",
      "after deadline,you need to pay rs 500 as a fine\n",
      "pay your bill soon\n"
     ]
    },
    {
     "name": "stdin",
     "output_type": "stream",
     "text": [
      "enter your name NIKITA\n",
      "enter the unit of electricity you have consumed 200\n"
     ]
    },
    {
     "name": "stdout",
     "output_type": "stream",
     "text": [
      "total amount of bill you need to pay is 2000\n",
      "the last date of the bill payment is on next week\n",
      "after deadline,you need to pay rs 500 as a fine\n",
      "pay your bill soon\n"
     ]
    },
    {
     "name": "stdin",
     "output_type": "stream",
     "text": [
      "enter your name SUSHANT\n",
      "enter the unit of electricity you have consumed 10000\n"
     ]
    },
    {
     "name": "stdout",
     "output_type": "stream",
     "text": [
      "total amount of bill you need to pay is 100000\n",
      "the last date of the bill payment is on next week\n",
      "after deadline,you need to pay rs 500 as a fine\n",
      "pay your bill soon\n"
     ]
    }
   ],
   "source": [
    "for i in range(3):\n",
    "    a=input(\"enter your name\")\n",
    "    b=int(input(\"enter the unit of electricity you have consumed\"))\n",
    "    bill=b*10\n",
    "    print(\"total amount of bill you need to pay is\",bill)\n",
    "    Details_bill()"
   ]
  },
  {
   "cell_type": "code",
   "execution_count": 7,
   "id": "57982a10-b452-4865-a868-77271112bd9c",
   "metadata": {},
   "outputs": [],
   "source": [
    "def check_even_odd(number):\n",
    "    if (number)%2==0:\n",
    "        print(\"the number is even\")\n",
    "    else:\n",
    "        print(\"the number is odd\")\n",
    "        "
   ]
  },
  {
   "cell_type": "code",
   "execution_count": 8,
   "id": "62c0345a-9798-41fa-a2ba-0d4ffc8ccc3e",
   "metadata": {},
   "outputs": [
    {
     "name": "stdout",
     "output_type": "stream",
     "text": [
      "the number is odd\n"
     ]
    }
   ],
   "source": [
    "check_even_odd(11)"
   ]
  },
  {
   "cell_type": "code",
   "execution_count": 9,
   "id": "dd89e475-419a-434d-91b7-d0a87275cb0b",
   "metadata": {},
   "outputs": [
    {
     "name": "stdout",
     "output_type": "stream",
     "text": [
      "the number is even\n"
     ]
    }
   ],
   "source": [
    "check_even_odd(4598)"
   ]
  },
  {
   "cell_type": "code",
   "execution_count": 10,
   "id": "2d24467e-a497-467f-9096-de2394bf1a7f",
   "metadata": {},
   "outputs": [],
   "source": [
    "def my_name(fname,lname):\n",
    "    print(fname + \" \" + lname)"
   ]
  },
  {
   "cell_type": "code",
   "execution_count": 11,
   "id": "a54e50bb-9cb5-44cc-ae92-45ad63a38232",
   "metadata": {},
   "outputs": [
    {
     "name": "stdout",
     "output_type": "stream",
     "text": [
      "Aarti salunkhe\n"
     ]
    }
   ],
   "source": [
    "my_name(\"Aarti\",\"salunkhe\")"
   ]
  },
  {
   "cell_type": "code",
   "execution_count": 12,
   "id": "2285f97d-8545-4ebe-8c79-deb36c5f23e8",
   "metadata": {},
   "outputs": [],
   "source": [
    "def check_odd_even():\n",
    "    for number in range(0,11):\n",
    "        if number%2==0:\n",
    "            print(f\"the {number} is even\")\n",
    "        else:\n",
    "            print(f\"the {number} is  odd\")\n",
    "            \n",
    "    "
   ]
  },
  {
   "cell_type": "code",
   "execution_count": 13,
   "id": "5435f82c-bfb0-478e-9bdc-c5e611bdbb75",
   "metadata": {},
   "outputs": [
    {
     "name": "stdout",
     "output_type": "stream",
     "text": [
      "the 0 is even\n",
      "the 1 is  odd\n",
      "the 2 is even\n",
      "the 3 is  odd\n",
      "the 4 is even\n",
      "the 5 is  odd\n",
      "the 6 is even\n",
      "the 7 is  odd\n",
      "the 8 is even\n",
      "the 9 is  odd\n",
      "the 10 is even\n"
     ]
    }
   ],
   "source": [
    "check_odd_even()"
   ]
  },
  {
   "cell_type": "code",
   "execution_count": 59,
   "id": "609623d6-14b5-4091-870a-817f31d52674",
   "metadata": {},
   "outputs": [],
   "source": [
    "# control flow statements\n",
    "#loops\n",
    "#user defined functions"
   ]
  },
  {
   "cell_type": "markdown",
   "id": "00275147-2d43-4ec4-a8ce-6f6567879729",
   "metadata": {},
   "source": [
    "#you are given a dataset of student grades and need to determine the grades districution.\n",
    "\n",
    "##### write a python function grade_districution(grades) that takes a list of integers representing stdudent grades (0-100).use a  loop to the count number of grades in each grade catagory:\n",
    "#### 'A'(90-100),'B' (80,89),'C'(70,79),'D'(60,69), 'e'(below 60).\n",
    "#use if-elif-else statements within the loop to catagorize the grades.\n",
    "#return a dictionary with the counts of each grade category"
   ]
  },
  {
   "cell_type": "code",
   "execution_count": 114,
   "id": "7aa749ea-3021-4275-b2f6-9218bb4e52f4",
   "metadata": {},
   "outputs": [],
   "source": [
    "def grade_distribution(grades):\n",
    "    for grade in grades:\n",
    "        if 90<= grade <=100:\n",
    "            print(\"you have got A grade\")\n",
    "        elif 80<= grade <=89:\n",
    "            print(\"you have got B grade\")\n",
    "        elif 70<= grade <=79:\n",
    "             print(\"you have got C grade\")\n",
    "        elif 60<= grade <=69:\n",
    "            print(\"you have got D grade\")\n",
    "        else:\n",
    "            print(\"you have got E grade\")\n",
    "    "
   ]
  },
  {
   "cell_type": "code",
   "execution_count": 116,
   "id": "535bbb7b-d458-4dbd-9a00-6ed8d44baeb6",
   "metadata": {},
   "outputs": [
    {
     "name": "stdout",
     "output_type": "stream",
     "text": [
      "you have got B grade\n",
      "you have got E grade\n",
      "you have got D grade\n",
      "you have got A grade\n",
      "you have got E grade\n",
      "you have got A grade\n",
      "you have got D grade\n",
      "you have got D grade\n",
      "you have got E grade\n",
      "you have got B grade\n",
      "you have got C grade\n"
     ]
    }
   ],
   "source": [
    "grades= [84,25,65,99,40,100,69,60,55,81,71]\n",
    "grade_distribution(grades)"
   ]
  },
  {
   "cell_type": "code",
   "execution_count": null,
   "id": "970b9559-9a6a-44ce-ae7f-7c6dffba47ba",
   "metadata": {},
   "outputs": [],
   "source": []
  }
 ],
 "metadata": {
  "kernelspec": {
   "display_name": "Python 3 (ipykernel)",
   "language": "python",
   "name": "python3"
  },
  "language_info": {
   "codemirror_mode": {
    "name": "ipython",
    "version": 3
   },
   "file_extension": ".py",
   "mimetype": "text/x-python",
   "name": "python",
   "nbconvert_exporter": "python",
   "pygments_lexer": "ipython3",
   "version": "3.12.4"
  }
 },
 "nbformat": 4,
 "nbformat_minor": 5
}
