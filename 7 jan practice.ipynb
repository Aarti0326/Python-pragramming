{
 "cells": [
  {
   "cell_type": "markdown",
   "id": "50e68055-1f51-438a-9aa1-33472fa7f5e2",
   "metadata": {},
   "source": [
    "### What is the difference between break and continue in loops?"
   ]
  },
  {
   "cell_type": "markdown",
   "id": "abcc16b6-1bc9-4700-a7a5-02f81330fa53",
   "metadata": {},
   "source": [
    "- break: Stops the loop completely.\n",
    "- continue: Skips the current iteration and moves to the next one."
   ]
  },
  {
   "cell_type": "code",
   "execution_count": 5,
   "id": "5405aba5-e467-4d85-8b48-8b587f9606af",
   "metadata": {},
   "outputs": [
    {
     "name": "stdout",
     "output_type": "stream",
     "text": [
      "0\n",
      "1\n",
      "2\n"
     ]
    }
   ],
   "source": [
    "# Using break\n",
    "for i in range(5):\n",
    "    if i == 3:\n",
    "        break\n",
    "    print(i)"
   ]
  },
  {
   "cell_type": "code",
   "execution_count": 7,
   "id": "e6fd5d19-3fe8-490a-9173-2407292af4b1",
   "metadata": {},
   "outputs": [
    {
     "name": "stdout",
     "output_type": "stream",
     "text": [
      "0\n",
      "1\n",
      "2\n",
      "4\n"
     ]
    }
   ],
   "source": [
    "# Using continue\n",
    "for i in range(5):\n",
    "    if i==3:\n",
    "        continue\n",
    "    print(i)"
   ]
  },
  {
   "cell_type": "markdown",
   "id": "b7a03634-6faa-45ab-b527-9e572e5d542d",
   "metadata": {},
   "source": [
    "### What is the difference between a for loop and a while loop?"
   ]
  },
  {
   "cell_type": "markdown",
   "id": "95ee7a81-d1cb-47b6-8efa-0cff1bf7c4ad",
   "metadata": {},
   "source": [
    "- for loop: Used when the number of iterations is known.\n",
    "- while loop: Used when the condition is based on logic, not a fixed number of iterations."
   ]
  },
  {
   "cell_type": "code",
   "execution_count": 11,
   "id": "17f1ef5c-6366-4a94-9af4-0ba137a624b3",
   "metadata": {},
   "outputs": [
    {
     "name": "stdout",
     "output_type": "stream",
     "text": [
      "0\n",
      "1\n",
      "2\n",
      "3\n",
      "4\n"
     ]
    }
   ],
   "source": [
    "# For loop\n",
    "for i in range(5):\n",
    "    print(i)"
   ]
  },
  {
   "cell_type": "code",
   "execution_count": 15,
   "id": "b12ff957-8bd9-45c2-8ccd-2999ad133f3a",
   "metadata": {},
   "outputs": [
    {
     "name": "stdout",
     "output_type": "stream",
     "text": [
      "0\n",
      "1\n",
      "2\n",
      "3\n",
      "4\n",
      "5\n"
     ]
    }
   ],
   "source": [
    "# While loop\n",
    "i = 0\n",
    "while i<=5:\n",
    "    print(i)\n",
    "    i+=1"
   ]
  },
  {
   "cell_type": "markdown",
   "id": "b813f0dc-f857-41dd-a366-20359b861553",
   "metadata": {},
   "source": [
    "### Write a Python program to find the factorial of a number using recursion."
   ]
  },
  {
   "cell_type": "code",
   "execution_count": 20,
   "id": "9c82c349-3092-47dd-8e10-c65f3781ee5f",
   "metadata": {},
   "outputs": [
    {
     "data": {
      "text/plain": [
       "120"
      ]
     },
     "execution_count": 20,
     "metadata": {},
     "output_type": "execute_result"
    }
   ],
   "source": [
    "def factorial(n):\n",
    "    if n == 1:\n",
    "        return 1\n",
    "    return n*factorial(n-1)\n",
    "factorial(5)"
   ]
  },
  {
   "cell_type": "markdown",
   "id": "7c84b919-e9e6-4e48-ade1-44c173e4e2d6",
   "metadata": {},
   "source": [
    "###  How do you handle exceptions for specific errors in Python?"
   ]
  },
  {
   "cell_type": "code",
   "execution_count": 49,
   "id": "083afc10-466a-447f-9eda-db4b4cfe4501",
   "metadata": {},
   "outputs": [
    {
     "name": "stdin",
     "output_type": "stream",
     "text": [
      "Enter a number:  5\n"
     ]
    },
    {
     "name": "stdout",
     "output_type": "stream",
     "text": [
      "2.0\n"
     ]
    }
   ],
   "source": [
    "try:\n",
    "    num = int(input(\"Enter a number: \"))\n",
    "    result = 10 / num\n",
    "    print(result)\n",
    "except ValueError:\n",
    "    print(\"Please enter a valid number!\")\n",
    "except ZeroDivisionError:\n",
    "    print(\"Cannot divide by zero!\")\n"
   ]
  },
  {
   "cell_type": "markdown",
   "id": "4dbcac62-ac79-4b82-9a12-79ab14cbacc2",
   "metadata": {},
   "source": [
    "### Write a Python program to check if a string is a palindrome."
   ]
  },
  {
   "cell_type": "code",
   "execution_count": 52,
   "id": "db7d197d-3f75-4b7e-b26d-2c1df607b6da",
   "metadata": {},
   "outputs": [
    {
     "name": "stdout",
     "output_type": "stream",
     "text": [
      "True\n",
      "False\n"
     ]
    }
   ],
   "source": [
    "def is_palindrome(s):\n",
    "    return s==s[::-1]\n",
    "print(is_palindrome(\"madam\"))  \n",
    "print(is_palindrome(\"hello\"))  "
   ]
  },
  {
   "cell_type": "markdown",
   "id": "e8dc68b1-717e-406d-816a-0a4525b92119",
   "metadata": {},
   "source": [
    "### What is the difference between is and == in Python?"
   ]
  },
  {
   "cell_type": "code",
   "execution_count": null,
   "id": "19284a4f-4c84-482a-b3f5-d9cb2320f812",
   "metadata": {},
   "outputs": [],
   "source": [
    "#== checks if the values are the same.\n",
    "#is checks if the objects are the same (in memory)."
   ]
  },
  {
   "cell_type": "code",
   "execution_count": 56,
   "id": "1ed210fe-c5b7-4699-b3d9-1bac4f22334c",
   "metadata": {},
   "outputs": [
    {
     "name": "stdout",
     "output_type": "stream",
     "text": [
      "True\n",
      "False\n"
     ]
    }
   ],
   "source": [
    "a = [1, 2, 3]\n",
    "b = [1, 2, 3]\n",
    "print(a == b)  # Output: True (values are the same)\n",
    "print(a is b)  # Output: False (different memory locations)"
   ]
  },
  {
   "cell_type": "markdown",
   "id": "3365d2c3-0fc2-4a81-8a4e-d41ab798e3a9",
   "metadata": {},
   "source": [
    "###  Write a Python program to find the second largest number in a list."
   ]
  },
  {
   "cell_type": "code",
   "execution_count": 59,
   "id": "af7604dc-0958-475c-9fe5-9a9c8af428ca",
   "metadata": {},
   "outputs": [
    {
     "name": "stdout",
     "output_type": "stream",
     "text": [
      "Second largest: 45\n"
     ]
    }
   ],
   "source": [
    "numbers = [10, 20, 4, 45,99]\n",
    "numbers.sort()  # Sort the list in ascending order\n",
    "print(\"Second largest:\", numbers[-2]) "
   ]
  },
  {
   "cell_type": "markdown",
   "id": "740425e9-168e-4671-8403-ed0eb9cd0767",
   "metadata": {},
   "source": [
    "### How do you use the map() function in Python?"
   ]
  },
  {
   "cell_type": "markdown",
   "id": "280aef88-b22a-4d5f-832c-521e33f115ba",
   "metadata": {},
   "source": [
    "- map() applies a function to every item in an iterable (e.g., list)."
   ]
  },
  {
   "cell_type": "code",
   "execution_count": 63,
   "id": "1ed5cf70-937d-4330-8084-16ebc9bd99b1",
   "metadata": {},
   "outputs": [
    {
     "name": "stdout",
     "output_type": "stream",
     "text": [
      "[1, 4, 9, 16]\n"
     ]
    }
   ],
   "source": [
    "numbers = [1, 2, 3, 4]\n",
    "squares = list(map(lambda x: x ** 2, numbers))\n",
    "print(squares)  "
   ]
  },
  {
   "cell_type": "markdown",
   "id": "71f861c2-9b82-41b5-a5fc-8b72eddf471f",
   "metadata": {},
   "source": [
    "### Write a Python program to merge two dictionaries."
   ]
  },
  {
   "cell_type": "code",
   "execution_count": 66,
   "id": "62baa930-b76b-404e-80db-97dc41aa1d9d",
   "metadata": {},
   "outputs": [
    {
     "name": "stdout",
     "output_type": "stream",
     "text": [
      "{'a': 1, 'b': 2, 'c': 3, 'd': 4}\n"
     ]
    }
   ],
   "source": [
    "dict1 = {\"a\": 1, \"b\": 2}\n",
    "dict2 = {\"c\": 3, \"d\": 4}\n",
    "merged_dict = {**dict1, **dict2}\n",
    "print(merged_dict) "
   ]
  },
  {
   "cell_type": "markdown",
   "id": "c380ca75-15fa-4635-b189-6ed946c902b3",
   "metadata": {},
   "source": [
    "### How do you generate random numbers in Python?"
   ]
  },
  {
   "cell_type": "code",
   "execution_count": 84,
   "id": "46694fed-4e51-4d30-b3f8-58db78af5a4c",
   "metadata": {},
   "outputs": [
    {
     "name": "stdout",
     "output_type": "stream",
     "text": [
      "7\n",
      "0.9703258748863576\n"
     ]
    }
   ],
   "source": [
    "import random\n",
    "\n",
    "# Generate a random number between 1 and 10\n",
    "print(random.randint(1, 10))\n",
    "\n",
    "# Generate a random float between 0 and 1\n",
    "print(random.random())"
   ]
  },
  {
   "cell_type": "code",
   "execution_count": null,
   "id": "644a4155-403d-4290-b9a4-ab4420e4b0e9",
   "metadata": {},
   "outputs": [],
   "source": []
  },
  {
   "cell_type": "code",
   "execution_count": null,
   "id": "78c539ff-a3bb-44cc-9df9-4f178b18ffdb",
   "metadata": {},
   "outputs": [],
   "source": []
  }
 ],
 "metadata": {
  "kernelspec": {
   "display_name": "Python 3 (ipykernel)",
   "language": "python",
   "name": "python3"
  },
  "language_info": {
   "codemirror_mode": {
    "name": "ipython",
    "version": 3
   },
   "file_extension": ".py",
   "mimetype": "text/x-python",
   "name": "python",
   "nbconvert_exporter": "python",
   "pygments_lexer": "ipython3",
   "version": "3.12.4"
  }
 },
 "nbformat": 4,
 "nbformat_minor": 5
}
