{
 "cells": [
  {
   "cell_type": "markdown",
   "id": "3fdf4577-ec26-4a1a-8296-e5f4960e7648",
   "metadata": {},
   "source": [
    "### Print first 10 natural numbers using while loop"
   ]
  },
  {
   "cell_type": "code",
   "execution_count": 3,
   "id": "221ef230-79b9-4c6e-87f8-1d76c8b11b5d",
   "metadata": {},
   "outputs": [
    {
     "name": "stdout",
     "output_type": "stream",
     "text": [
      "1\n",
      "2\n",
      "3\n",
      "4\n",
      "5\n",
      "6\n",
      "7\n",
      "8\n",
      "9\n",
      "10\n"
     ]
    }
   ],
   "source": [
    "\n",
    "i = 1\n",
    "while i <= 10:\n",
    "    print(i)\n",
    "    i += 1"
   ]
  },
  {
   "cell_type": "markdown",
   "id": "2ff249a2-acb8-4a50-9236-04f688ba6813",
   "metadata": {},
   "source": [
    "### Display numbers from -10 to -1 using for loop"
   ]
  },
  {
   "cell_type": "code",
   "execution_count": 11,
   "id": "35c121b3-c61a-46aa-b58a-4544e072d32d",
   "metadata": {},
   "outputs": [
    {
     "name": "stdout",
     "output_type": "stream",
     "text": [
      "-10\n",
      "-9\n",
      "-8\n",
      "-7\n",
      "-6\n",
      "-5\n",
      "-4\n",
      "-3\n",
      "-2\n",
      "-1\n"
     ]
    }
   ],
   "source": [
    "for num in range(-10, 0, 1):\n",
    "    print(num)"
   ]
  },
  {
   "cell_type": "markdown",
   "id": "98e22ca6-9eb1-4c02-9ff5-68b947b0b006",
   "metadata": {},
   "source": [
    "### Copy specific elements from one tuple to a new tuple\n",
    "### Write a program to copy elements 44 and 55 from the following tuple into a new tuple."
   ]
  },
  {
   "cell_type": "code",
   "execution_count": 14,
   "id": "9b75e121-f46c-4881-9616-8511ad3f7854",
   "metadata": {},
   "outputs": [
    {
     "name": "stdout",
     "output_type": "stream",
     "text": [
      "(44, 55)\n"
     ]
    }
   ],
   "source": [
    "tuple1 = (11, 22, 33, 44, 55, 66)\n",
    "tuple2 = tuple1[3:-1]\n",
    "print(tuple2)"
   ]
  },
  {
   "cell_type": "markdown",
   "id": "5f695775-4024-45da-8351-8aa2861e18d2",
   "metadata": {},
   "source": [
    "### Find the Intersection of Two Lists"
   ]
  },
  {
   "cell_type": "code",
   "execution_count": 20,
   "id": "02cf0772-b156-44f7-bd1f-03b259c8b91a",
   "metadata": {},
   "outputs": [
    {
     "name": "stdout",
     "output_type": "stream",
     "text": [
      "[3, 4]\n"
     ]
    }
   ],
   "source": [
    "def intersection(list1, list2):\n",
    "    return list(set(list1) & set(list2))\n",
    "\n",
    "# Example usage:\n",
    "print(intersection([1, 2, 3, 4], [3, 4, 5, 6]))"
   ]
  },
  {
   "cell_type": "markdown",
   "id": "0dc90a4e-def6-4b3d-890b-b229641c349b",
   "metadata": {},
   "source": [
    "### Merge Two Dictionaries"
   ]
  },
  {
   "cell_type": "code",
   "execution_count": 23,
   "id": "a7b1aa0c-066c-4aa7-b3b5-dfea7bac15c4",
   "metadata": {},
   "outputs": [],
   "source": [
    "#Write a Python function to merge two dictionaries. If a key is present in both dictionaries, the value from the second dictionary should be used."
   ]
  },
  {
   "cell_type": "code",
   "execution_count": 25,
   "id": "72016f1d-d4d2-48b4-8a71-14d7112a33a9",
   "metadata": {},
   "outputs": [
    {
     "name": "stdout",
     "output_type": "stream",
     "text": [
      "{'a': 1, 'b': 3, 'c': 4}\n"
     ]
    }
   ],
   "source": [
    "def merge_dicts(dict1, dict2):\n",
    "    result = dict1.copy()  # Make a copy of the first dictionary\n",
    "    result.update(dict2)  # Update with the second dictionary\n",
    "    return result\n",
    "\n",
    "# Example usage:\n",
    "print(merge_dicts({'a': 1, 'b': 2}, {'b': 3, 'c': 4}))  "
   ]
  },
  {
   "cell_type": "code",
   "execution_count": null,
   "id": "a5ddf223-3b23-4914-ab46-d4294e5694d6",
   "metadata": {},
   "outputs": [],
   "source": []
  }
 ],
 "metadata": {
  "kernelspec": {
   "display_name": "Python 3 (ipykernel)",
   "language": "python",
   "name": "python3"
  },
  "language_info": {
   "codemirror_mode": {
    "name": "ipython",
    "version": 3
   },
   "file_extension": ".py",
   "mimetype": "text/x-python",
   "name": "python",
   "nbconvert_exporter": "python",
   "pygments_lexer": "ipython3",
   "version": "3.12.4"
  }
 },
 "nbformat": 4,
 "nbformat_minor": 5
}
