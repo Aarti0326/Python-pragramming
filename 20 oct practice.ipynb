{
 "cells": [
  {
   "cell_type": "markdown",
   "id": "f9fba383-6b55-469e-b3aa-52999ae62fa1",
   "metadata": {},
   "source": [
    "## 1. Defining and Calling Functions (def)\n",
    "#### Concept:\n",
    "#### A function is a block of code that performs a specific task. It helps avoid repetition and makes code reusable."
   ]
  },
  {
   "cell_type": "markdown",
   "id": "06f13133-b672-4a03-8da6-35c78a0d7b03",
   "metadata": {},
   "source": [
    "## Calculate Employee Bonus\n",
    "#### Problem: Write a function that calculates the bonus of an employee based on their salary and bonus percentage."
   ]
  },
  {
   "cell_type": "code",
   "execution_count": 3,
   "id": "b1929531-1084-450c-a388-67f29c017286",
   "metadata": {},
   "outputs": [
    {
     "name": "stdout",
     "output_type": "stream",
     "text": [
      "The bonus is: 5000.0\n"
     ]
    }
   ],
   "source": [
    "def calculate_bonus(salary, bonus_percentage):\n",
    "    bonus = salary * (bonus_percentage / 100)\n",
    "    return bonus\n",
    "\n",
    "# Function call\n",
    "salary = 50000\n",
    "bonus_percentage = 10\n",
    "bonus = calculate_bonus(salary, bonus_percentage)\n",
    "print(f\"The bonus is: {bonus}\")\n"
   ]
  },
  {
   "cell_type": "markdown",
   "id": "58bad7b8-70ab-4e70-82d2-401b7069bf67",
   "metadata": {},
   "source": [
    "## Generate a Customized Greeting\n",
    "#### Problem: Create a function that takes a name and an optional greeting message to print a personalized greeting."
   ]
  },
  {
   "cell_type": "code",
   "execution_count": 14,
   "id": "cf5413be-ed45-47c5-a8e1-6d72a8259527",
   "metadata": {},
   "outputs": [
    {
     "name": "stdout",
     "output_type": "stream",
     "text": [
      "Hello Aarti, Welcome!\n",
      "Hello nikita, Good to see you!\n"
     ]
    }
   ],
   "source": [
    "def greet_user(name, message=\"Welcome!\"):\n",
    "    return f\"Hello {name}, {message}\"\n",
    "\n",
    "# Function call with default message\n",
    "print(greet_user(\"Aarti\"))\n",
    "\n",
    "# Function call with custom message\n",
    "print(greet_user(\"nikita\", \"Good to see you!\"))\n"
   ]
  },
  {
   "cell_type": "markdown",
   "id": "68837185-bc50-4dda-9670-54a296a4934c",
   "metadata": {},
   "source": [
    "## Write a function that takes item prices and calculates the total."
   ]
  },
  {
   "cell_type": "code",
   "execution_count": 18,
   "id": "0672c006-1055-4d4f-a0d4-b78e8a0ac734",
   "metadata": {},
   "outputs": [
    {
     "name": "stdout",
     "output_type": "stream",
     "text": [
      "Order Total: 350.5\n"
     ]
    }
   ],
   "source": [
    "def calculate_total(*prices):\n",
    "    return sum(prices)\n",
    "\n",
    "# Function call with multiple arguments\n",
    "total = calculate_total(100, 200, 50.5)\n",
    "print(f\"Order Total: {total}\")\n"
   ]
  },
  {
   "cell_type": "markdown",
   "id": "2c0c0641-c861-4965-93b3-cb8f9fab97d5",
   "metadata": {},
   "source": [
    "## 3. Lambda Functions (Anonymous Functions)\n",
    "#### Concept:\n",
    "#### A lambda function is a small anonymous function defined using the lambda keyword. It is commonly used for short, throwaway functions."
   ]
  },
  {
   "cell_type": "markdown",
   "id": "f5378530-b3a0-45a0-baa7-950de5542c94",
   "metadata": {},
   "source": [
    "## Sort Products by Price\n",
    "#### Problem: Write a lambda function to sort a list of products by price."
   ]
  },
  {
   "cell_type": "code",
   "execution_count": 23,
   "id": "72513bb4-563f-4a89-8e6f-d95d21589015",
   "metadata": {},
   "outputs": [
    {
     "name": "stdout",
     "output_type": "stream",
     "text": [
      "[('Tablet', 300), ('phone', 600), ('Laptop', 800)]\n"
     ]
    }
   ],
   "source": [
    "products = [(\"Laptop\",800),(\"phone\",600),(\"Tablet\",300)]\n",
    "sorted_products = sorted(products,key = lambda x:x[1])\n",
    "print(sorted_products)"
   ]
  },
  {
   "cell_type": "markdown",
   "id": "eb424012-afd3-46a2-966b-f77392b58b25",
   "metadata": {},
   "source": [
    "## Use a lambda function to filter only even numbers from a list."
   ]
  },
  {
   "cell_type": "code",
   "execution_count": 26,
   "id": "0354dece-5803-4f6b-9523-edbb1e03e29d",
   "metadata": {},
   "outputs": [
    {
     "name": "stdout",
     "output_type": "stream",
     "text": [
      "Even Numbers: [2, 4, 6]\n"
     ]
    }
   ],
   "source": [
    "numbers = [1, 2, 3, 4, 5, 6]\n",
    "even_numbers = list(filter(lambda x: x % 2 == 0, numbers))\n",
    "\n",
    "print(f\"Even Numbers: {even_numbers}\")\n"
   ]
  },
  {
   "cell_type": "markdown",
   "id": "667c8dc8-43f8-4bab-9ef0-b3a9c6a1a0bb",
   "metadata": {},
   "source": [
    "## What are the differences between *args and **kwargs in Python?\n",
    "#Answer:\n",
    "\n",
    "### *args allows a function to accept a variable number of positional arguments.\n",
    "### **kwargs allows a function to accept variable key-value pairs (named arguments)."
   ]
  },
  {
   "cell_type": "code",
   "execution_count": 35,
   "id": "2a1c94f7-3361-4b65-90d4-6700fc36542e",
   "metadata": {},
   "outputs": [
    {
     "name": "stdout",
     "output_type": "stream",
     "text": [
      "Positional: (1, 2, 3)\n",
      "Keyword: {'name': 'Alice', 'age': 25}\n"
     ]
    }
   ],
   "source": [
    "def print_info(*args, **kwargs):\n",
    "    print(\"Positional:\", args)\n",
    "    print(\"Keyword:\", kwargs)\n",
    "\n",
    "print_info(1, 2, 3, name=\"Alice\", age=25)\n"
   ]
  },
  {
   "cell_type": "markdown",
   "id": "53b5e53a-5708-4c07-963b-964997899748",
   "metadata": {},
   "source": [
    "## 2) What is the difference between a function and a lambda function?\n",
    "#Answer:\n",
    "\n",
    "### A function is a block of reusable code defined using def.\n",
    "### A lambda function is a small, anonymous function defined using lambda."
   ]
  }
 ],
 "metadata": {
  "kernelspec": {
   "display_name": "Python 3 (ipykernel)",
   "language": "python",
   "name": "python3"
  },
  "language_info": {
   "codemirror_mode": {
    "name": "ipython",
    "version": 3
   },
   "file_extension": ".py",
   "mimetype": "text/x-python",
   "name": "python",
   "nbconvert_exporter": "python",
   "pygments_lexer": "ipython3",
   "version": "3.12.4"
  }
 },
 "nbformat": 4,
 "nbformat_minor": 5
}
