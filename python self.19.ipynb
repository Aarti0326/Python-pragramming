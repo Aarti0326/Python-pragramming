{
 "cells": [
  {
   "cell_type": "markdown",
   "id": "3fdc954f-eb19-4ae1-981c-421ec86a27d9",
   "metadata": {},
   "source": [
    "### 1. Write a Python program to print the following string in a specific format (see the output).\n",
    "#Sample String : \"Twinkle, twinkle, little star, How I wonder what you are!\n",
    "#Up above the world so high, Like a diamond in the sky.\n",
    "#Twinkle, twinkle, little star, How I wonder what you are\" Output :\n"
   ]
  },
  {
   "cell_type": "code",
   "execution_count": 2,
   "id": "b00efcf0-f26a-42a9-8d20-1d6638cf61d1",
   "metadata": {},
   "outputs": [
    {
     "name": "stdout",
     "output_type": "stream",
     "text": [
      "Twinkle, twinkle, little star,\n",
      "How I wonder what you are!\n",
      "Up above the world so high,\n",
      "Like a diamond in the sky.\n",
      "Twinkle, twinkle, little star, How I wonder what you are\n"
     ]
    }
   ],
   "source": [
    "paragraph = \"Twinkle, twinkle, little star,\\nHow I wonder what you are!\\nUp above the world so high,\\nLike a diamond in the sky.\\nTwinkle, twinkle, little star, How I wonder what you are\"\n",
    "print(paragraph)"
   ]
  },
  {
   "cell_type": "code",
   "execution_count": 3,
   "id": "d5deb034-a2fc-4e73-a4a7-e78e06bdfc2e",
   "metadata": {},
   "outputs": [],
   "source": [
    "import sys"
   ]
  },
  {
   "cell_type": "code",
   "execution_count": 4,
   "id": "5cb453e9-c293-4d67-a552-b227cd9b9f86",
   "metadata": {},
   "outputs": [
    {
     "name": "stdout",
     "output_type": "stream",
     "text": [
      "python version\n",
      "3.12.4 | packaged by Anaconda, Inc. | (main, Jun 18 2024, 15:03:56) [MSC v.1929 64 bit (AMD64)]\n",
      "Version info.\n"
     ]
    }
   ],
   "source": [
    "print(\"python version\")\n",
    "print (sys.version)\n",
    "print(\"Version info.\")"
   ]
  },
  {
   "cell_type": "markdown",
   "id": "55554f55-12b1-4d6f-b7cc-2e158d036df4",
   "metadata": {},
   "source": [
    "### Write a Python program to display the current date and time.\n"
   ]
  },
  {
   "cell_type": "code",
   "execution_count": 6,
   "id": "108c13ae-d789-43d9-a430-adb016faba2c",
   "metadata": {},
   "outputs": [
    {
     "name": "stdout",
     "output_type": "stream",
     "text": [
      "2024-08-19 22:26:28.676469\n"
     ]
    }
   ],
   "source": [
    "import datetime\n",
    "today = datetime.datetime.now()\n",
    "print(today)"
   ]
  },
  {
   "cell_type": "markdown",
   "id": "f4df0feb-fa36-4bed-b512-62248395211f",
   "metadata": {
    "jp-MarkdownHeadingCollapsed": true
   },
   "source": [
    "#### Write a Python program which accepts the radius of a circle from the user and compute the area\n"
   ]
  },
  {
   "cell_type": "code",
   "execution_count": 8,
   "id": "b8bd6377-244a-4861-92fc-88dc924e01ff",
   "metadata": {},
   "outputs": [],
   "source": [
    "import numpy as np"
   ]
  },
  {
   "cell_type": "code",
   "execution_count": 14,
   "id": "3c237ec0-a567-42a8-a4f3-eca928787dde",
   "metadata": {},
   "outputs": [],
   "source": [
    "def area_of_circle():\n",
    "    radius = float(input(\"enter the radius of circle\"))\n",
    "    area=np.pi*radius*radius\n",
    "    return area"
   ]
  },
  {
   "cell_type": "code",
   "execution_count": 16,
   "id": "296cbb3e-0751-40c8-ba16-cbee27a7aa14",
   "metadata": {},
   "outputs": [
    {
     "name": "stdin",
     "output_type": "stream",
     "text": [
      "enter the radius of circle 5\n"
     ]
    },
    {
     "data": {
      "text/plain": [
       "78.53981633974483"
      ]
     },
     "execution_count": 16,
     "metadata": {},
     "output_type": "execute_result"
    }
   ],
   "source": [
    " area_of_circle()"
   ]
  },
  {
   "cell_type": "markdown",
   "id": "5a464090-6c2f-46b1-970d-d97c7be9caa0",
   "metadata": {},
   "source": [
    "### Write a Python program which accepts the user's first and last name and print them in reverse order with a space between them."
   ]
  },
  {
   "cell_type": "code",
   "execution_count": 19,
   "id": "987b8b65-51ec-450a-a849-55de1ab098e9",
   "metadata": {},
   "outputs": [],
   "source": [
    "def reverse_the_string():\n",
    "    first_name = input(\"enter your first name\")\n",
    "    last_name = input(\"enter your last name\")\n",
    "    return last_name[::-1],first_name[::-1]"
   ]
  },
  {
   "cell_type": "code",
   "execution_count": 21,
   "id": "952f77db-1991-45f8-ae72-4fad8b64eb28",
   "metadata": {},
   "outputs": [
    {
     "name": "stdin",
     "output_type": "stream",
     "text": [
      "enter your first name Aarti\n",
      "enter your last name Anjali\n"
     ]
    },
    {
     "data": {
      "text/plain": [
       "('ilajnA', 'itraA')"
      ]
     },
     "execution_count": 21,
     "metadata": {},
     "output_type": "execute_result"
    }
   ],
   "source": [
    "reverse_the_string()"
   ]
  },
  {
   "cell_type": "code",
   "execution_count": 25,
   "id": "e4a06c82-9d69-40ca-bf11-6ccb5f72123b",
   "metadata": {},
   "outputs": [
    {
     "name": "stdin",
     "output_type": "stream",
     "text": [
      "Input your First Name :  nikita \n",
      "input your last name :  salunkhe\n"
     ]
    },
    {
     "name": "stdout",
     "output_type": "stream",
     "text": [
      "salunkhe nikita \n"
     ]
    }
   ],
   "source": [
    "f_name = input(\"Input your First Name : \")\n",
    "l_name = input(\"input your last name : \")\n",
    "print(l_name+ \" \" +f_name)"
   ]
  },
  {
   "cell_type": "markdown",
   "id": "60db6686-b3b9-4b6f-bee5-33acfbd10c30",
   "metadata": {},
   "source": [
    "### Write a Python program which accepts a sequence of comma-separated numbers from user and generate a list with those numbers"
   ]
  },
  {
   "cell_type": "code",
   "execution_count": 28,
   "id": "72d58dc7-cb2d-46d2-a3fe-caabe0a8e61c",
   "metadata": {},
   "outputs": [
    {
     "name": "stdin",
     "output_type": "stream",
     "text": [
      "Input some comma seprated numbers :  50.3\n"
     ]
    },
    {
     "name": "stdout",
     "output_type": "stream",
     "text": [
      "['50.3']\n"
     ]
    }
   ],
   "source": [
    "values = input(\"Input some comma seprated numbers : \")\n",
    "list1 = values.split(\",\")\n",
    "print(list1)"
   ]
  },
  {
   "cell_type": "markdown",
   "id": "c094c134-604b-4cfb-9e0b-a8631dab3bd7",
   "metadata": {},
   "source": [
    "### Write a Python program to accept a filename from the user and print the extension of that\n"
   ]
  },
  {
   "cell_type": "code",
   "execution_count": 45,
   "id": "d80686b6-ac49-43cf-8f7e-347829fbd339",
   "metadata": {},
   "outputs": [
    {
     "name": "stdin",
     "output_type": "stream",
     "text": [
      "Enter the name of file python.txt\n"
     ]
    },
    {
     "name": "stdout",
     "output_type": "stream",
     "text": [
      "txt\n"
     ]
    }
   ],
   "source": [
    "file_name=input('Enter the name of file')\n",
    "a=file_name.split('.')\n",
    "print(a[1])\n"
   ]
  },
  {
   "cell_type": "markdown",
   "id": "d5a33484-a55a-4005-bbc3-726473a13d80",
   "metadata": {},
   "source": [
    "### Filter Function"
   ]
  },
  {
   "cell_type": "code",
   "execution_count": null,
   "id": "ead03c9f-c25a-497b-aace-53f0a3f65737",
   "metadata": {},
   "outputs": [],
   "source": [
    "x =[ 4,10,3,6,2,10,62,56,55,33]\n",
    "filter_elem = filter(lambda a:a>5,x)\n",
    "list(filter_elem)"
   ]
  },
  {
   "cell_type": "code",
   "execution_count": null,
   "id": "72548ccb-f478-4100-92c5-d32c2e157230",
   "metadata": {},
   "outputs": [],
   "source": [
    "filter_even = filter(lambda a:a%2==0,x)\n",
    "list(filter_even)"
   ]
  },
  {
   "cell_type": "code",
   "execution_count": null,
   "id": "4cf22b3b-0ace-459f-84cb-2551e8c7460d",
   "metadata": {},
   "outputs": [],
   "source": [
    "filter_odd = filter(lambda a:a%2 !=0,x)\n",
    "list(filter_odd)"
   ]
  },
  {
   "cell_type": "markdown",
   "id": "d28e1c51-5c42-4539-8726-8942ad311aa9",
   "metadata": {},
   "source": [
    "### Map Function"
   ]
  },
  {
   "cell_type": "code",
   "execution_count": null,
   "id": "d6416e3f-2b28-47d6-912b-b98c083eab9c",
   "metadata": {},
   "outputs": [],
   "source": [
    "b = [3,56,4,85,85,8,9,8]"
   ]
  },
  {
   "cell_type": "code",
   "execution_count": null,
   "id": "4b72ff0e-62d7-45f5-92c2-0c6b48ad8fd3",
   "metadata": {},
   "outputs": [],
   "source": [
    "map_result = map(lambda a:a%2==0,b)\n",
    "list(map_result)"
   ]
  },
  {
   "cell_type": "code",
   "execution_count": null,
   "id": "11aeb667-ff18-4ed7-a652-411dc24074b6",
   "metadata": {},
   "outputs": [],
   "source": [
    "map_result = map(lambda a:a*2,b)\n",
    "list(map_result)"
   ]
  },
  {
   "cell_type": "markdown",
   "id": "fa0f13c3-0314-4729-aa9e-a1d288e41051",
   "metadata": {},
   "source": [
    "### reduce function"
   ]
  },
  {
   "cell_type": "code",
   "execution_count": null,
   "id": "faf60b7b-f6d5-4cd2-978d-2ba4b654f1d2",
   "metadata": {},
   "outputs": [],
   "source": [
    "import functools"
   ]
  },
  {
   "cell_type": "code",
   "execution_count": null,
   "id": "18df6627-6031-469a-86fa-ec925c32421f",
   "metadata": {},
   "outputs": [],
   "source": [
    "x = [2,5,4,9,7,4,10]"
   ]
  },
  {
   "cell_type": "code",
   "execution_count": null,
   "id": "b00f5e89-d54b-4a96-ba09-d65bb7a65919",
   "metadata": {},
   "outputs": [],
   "source": [
    "result = functools.reduce(lambda a,b:a+b,x)\n",
    "print(result)"
   ]
  },
  {
   "cell_type": "code",
   "execution_count": null,
   "id": "2c985a3f-2564-4710-9cf2-073e723bff10",
   "metadata": {},
   "outputs": [],
   "source": [
    "smallest = functools.reduce(lambda a,b: a if a<b else b,x)\n",
    "print(smallest)"
   ]
  }
 ],
 "metadata": {
  "kernelspec": {
   "display_name": "Python 3 (ipykernel)",
   "language": "python",
   "name": "python3"
  },
  "language_info": {
   "codemirror_mode": {
    "name": "ipython",
    "version": 3
   },
   "file_extension": ".py",
   "mimetype": "text/x-python",
   "name": "python",
   "nbconvert_exporter": "python",
   "pygments_lexer": "ipython3",
   "version": "3.12.4"
  }
 },
 "nbformat": 4,
 "nbformat_minor": 5
}
