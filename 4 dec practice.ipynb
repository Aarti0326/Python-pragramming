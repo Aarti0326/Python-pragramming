{
 "cells": [
  {
   "cell_type": "markdown",
   "id": "deece3ba-15ef-4bed-977b-31eaee53a750",
   "metadata": {},
   "source": [
    "## Write a Python program to find the remainder when a number is divided by z:"
   ]
  },
  {
   "cell_type": "code",
   "execution_count": 2,
   "id": "840a5f49-72da-4477-9365-176d8b7befa6",
   "metadata": {},
   "outputs": [
    {
     "name": "stdin",
     "output_type": "stream",
     "text": [
      "Enter the number:  5\n",
      "Enter the divisor:  3\n"
     ]
    },
    {
     "name": "stdout",
     "output_type": "stream",
     "text": [
      "The remainder when 5 is divided by 3 is: 2\n"
     ]
    }
   ],
   "source": [
    "# Input the number and divisor\n",
    "number = int(input(\"Enter the number: \"))\n",
    "z = int(input(\"Enter the divisor: \"))\n",
    "\n",
    "# Find the remainder\n",
    "remainder = number % z\n",
    "\n",
    "# Output the result\n",
    "print(\"The remainder when\", number, \"is divided by\", z, \"is:\", remainder)\n"
   ]
  },
  {
   "cell_type": "markdown",
   "id": "f4ffb0c9-3123-4b01-b64e-bc1df6d26ea4",
   "metadata": {},
   "source": [
    "## Check the type of variable assigned using the input() function:"
   ]
  },
  {
   "cell_type": "code",
   "execution_count": 7,
   "id": "8ee66fb2-b7a2-45f6-9e2e-006a61246e5c",
   "metadata": {},
   "outputs": [
    {
     "name": "stdin",
     "output_type": "stream",
     "text": [
      "Enter something:  hello\n"
     ]
    },
    {
     "name": "stdout",
     "output_type": "stream",
     "text": [
      "The type of the input is: <class 'str'>\n"
     ]
    }
   ],
   "source": [
    "# Take input from the user\n",
    "user_input = input(\"Enter something: \")\n",
    "\n",
    "# Check the type of the input\n",
    "print(\"The type of the input is:\", type(user_input))\n"
   ]
  },
  {
   "cell_type": "markdown",
   "id": "02d76b2e-e914-40ea-9c49-136b57e67115",
   "metadata": {},
   "source": [
    "## Use a comparison operator to find out whether the given variable 'a' is greater than 'b':"
   ]
  },
  {
   "cell_type": "code",
   "execution_count": 10,
   "id": "cb100bd7-4c7d-43ff-ab15-b11fddb5973a",
   "metadata": {},
   "outputs": [
    {
     "name": "stdout",
     "output_type": "stream",
     "text": [
      "a is not greater than b\n"
     ]
    }
   ],
   "source": [
    "a = 34\n",
    "b = 80\n",
    "\n",
    "# Compare the values\n",
    "if a > b:\n",
    "    print(\"a is greater than b\")\n",
    "else:\n",
    "    print(\"a is not greater than b\")\n"
   ]
  },
  {
   "cell_type": "markdown",
   "id": "8effa59a-a235-436a-a647-bf931a33bd29",
   "metadata": {},
   "source": [
    "## Write a Python program to find the average of two numbers entered by the user:"
   ]
  },
  {
   "cell_type": "code",
   "execution_count": 19,
   "id": "130bc799-71a4-4558-bbd9-e853619f15b1",
   "metadata": {},
   "outputs": [
    {
     "name": "stdin",
     "output_type": "stream",
     "text": [
      "Enter the first number:  100\n",
      "Enter the second number:  50\n"
     ]
    },
    {
     "name": "stdout",
     "output_type": "stream",
     "text": [
      "The average of the numbers is: 75.0\n"
     ]
    }
   ],
   "source": [
    "# Input two numbers\n",
    "num1 = float(input(\"Enter the first number: \"))\n",
    "num2 = float(input(\"Enter the second number: \"))\n",
    "\n",
    "# Calculate the average\n",
    "average = (num1 + num2) / 2\n",
    "\n",
    "# Output the result\n",
    "print(\"The average of the numbers is:\", average)\n"
   ]
  },
  {
   "cell_type": "code",
   "execution_count": null,
   "id": "43f19a36-69e1-41bd-80cd-23911c4e216e",
   "metadata": {},
   "outputs": [],
   "source": []
  }
 ],
 "metadata": {
  "kernelspec": {
   "display_name": "Python 3 (ipykernel)",
   "language": "python",
   "name": "python3"
  },
  "language_info": {
   "codemirror_mode": {
    "name": "ipython",
    "version": 3
   },
   "file_extension": ".py",
   "mimetype": "text/x-python",
   "name": "python",
   "nbconvert_exporter": "python",
   "pygments_lexer": "ipython3",
   "version": "3.12.4"
  }
 },
 "nbformat": 4,
 "nbformat_minor": 5
}
