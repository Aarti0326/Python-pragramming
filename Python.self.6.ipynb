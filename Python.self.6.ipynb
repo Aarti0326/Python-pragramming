{
 "cells": [
  {
   "cell_type": "markdown",
   "id": "131138e7-0acf-4458-9db9-0eb46f011726",
   "metadata": {},
   "source": [
    "# write a python code for hostel students,ask them to mention their course name and age,for 5 students and calculate their avg age."
   ]
  },
  {
   "cell_type": "code",
   "execution_count": 2,
   "id": "616069ba-dc57-4170-a8a6-7173af8520ef",
   "metadata": {},
   "outputs": [
    {
     "name": "stdin",
     "output_type": "stream",
     "text": [
      "enter 1st student name A\n",
      "enter 2nd student name B\n",
      "enter 3rd student name C\n",
      "enter 4th student name D\n",
      "enter 5th student name E\n"
     ]
    }
   ],
   "source": [
    "std_1=input(\"enter 1st student name\")\n",
    "std_2=input(\"enter 2nd student name\")\n",
    "std_3=input(\"enter 3rd student name\")\n",
    "std_4=input(\"enter 4th student name\")\n",
    "std_5=input(\"enter 5th student name\")"
   ]
  },
  {
   "cell_type": "code",
   "execution_count": 96,
   "id": "cf417fe6-c363-4682-9055-dd86af752560",
   "metadata": {},
   "outputs": [
    {
     "name": "stdin",
     "output_type": "stream",
     "text": [
      "enter 1st student age 45\n",
      "enter 2nd student age 44\n",
      "enter3rd student age 78\n",
      "enter 4th student age 51\n",
      "enter 5th student age 35\n"
     ]
    }
   ],
   "source": [
    "age_1=input(\"enter 1st student age\")\n",
    "age_2=input(\"enter 2nd student age\")\n",
    "age_3=input(\"enter3rd student age\")\n",
    "age_4=input(\"enter 4th student age\")\n",
    "age_5=input(\"enter 5th student age\")"
   ]
  },
  {
   "cell_type": "code",
   "execution_count": 12,
   "id": "538e8ef6-a0e6-465a-89bf-223042532bd0",
   "metadata": {},
   "outputs": [
    {
     "name": "stdout",
     "output_type": "stream",
     "text": [
      "B\n"
     ]
    }
   ],
   "source": [
    "student_2nd=std_2\n",
    "print(student_2nd)\n"
   ]
  },
  {
   "cell_type": "code",
   "execution_count": 98,
   "id": "e89093c4-506d-4ec4-b855-d829f2f7ece3",
   "metadata": {},
   "outputs": [
    {
     "name": "stdout",
     "output_type": "stream",
     "text": [
      "('45', '44', '78', '51', '35')\n"
     ]
    }
   ],
   "source": [
    "total_age=\"age_1,age_2,age_3,age_4,age_5\"\n",
    "sum_ages=eval(total_age)\n",
    "print(sum_ages)"
   ]
  },
  {
   "cell_type": "code",
   "execution_count": 112,
   "id": "2a74c568-634c-4b37-83ce-972da5fa984b",
   "metadata": {},
   "outputs": [
    {
     "name": "stdout",
     "output_type": "stream",
     "text": [
      "253\n"
     ]
    }
   ],
   "source": [
    "avg=(45, 44 ,78 ,51,35)\n",
    "print(sum(avg))"
   ]
  },
  {
   "cell_type": "code",
   "execution_count": 114,
   "id": "df35e6e4-a26a-4f1b-b17a-4a81bcbe5c72",
   "metadata": {},
   "outputs": [
    {
     "name": "stdout",
     "output_type": "stream",
     "text": [
      "the total student of avg is  50.6\n"
     ]
    }
   ],
   "source": [
    "total_avg=253/5\n",
    "print(\"the total student of avg is \",abs(total_avg))"
   ]
  },
  {
   "cell_type": "code",
   "execution_count": 124,
   "id": "0163259b-eb8b-49c5-ab0a-5cf5860d6c0d",
   "metadata": {},
   "outputs": [
    {
     "name": "stdout",
     "output_type": "stream",
     "text": [
      "5\n"
     ]
    }
   ],
   "source": [
    "a=(1,5,5,5,31)\n",
    "print(len(a))"
   ]
  },
  {
   "cell_type": "markdown",
   "id": "27139f20-f40f-461d-979e-e9d191302f04",
   "metadata": {},
   "source": [
    "# you are developing a program for a math compition where particopants need to solve mathematicals expression and provide the result.you want to use python to automate the evaluation process.\n",
    "# here's how you could aaroach it.\n",
    "# 1.take input from the participant to enter a mathematical expression.\n",
    "# 2.evaluate the expression entered by the participant and obtain the result.\n",
    "# 3.display the result to the partcipant."
   ]
  },
  {
   "cell_type": "code",
   "execution_count": 146,
   "id": "486117de-8b48-4ba9-a1fd-0d2a7e6877a0",
   "metadata": {},
   "outputs": [
    {
     "name": "stdin",
     "output_type": "stream",
     "text": [
      "enter the mathematical expression 236+6658/67*554%4\n"
     ]
    },
    {
     "name": "stdout",
     "output_type": "stream",
     "text": [
      "the mathematical expression is 236.71641791044385\n",
      "thanks for participating in the math competition\n"
     ]
    }
   ],
   "source": [
    "expression=input(\"enter the mathematical expression\")\n",
    "result=eval(expression)\n",
    "print(\"the mathematical expression is\", result)\n",
    "print(\"thanks for participating in the math competition\")\n"
   ]
  },
  {
   "cell_type": "markdown",
   "id": "73db7b42-6742-4d02-b1f9-8ff8243c3d52",
   "metadata": {},
   "source": [
    "## suppose you are analyzing a dataset containing information about house prices in a city .each record includes details such as the house size(in square feet) number of bedrooms,and price. you want to perform various calculations and applications on this dataset using python.answer the folloing quetions.\n",
    "# 1. ask the user 1 & 2 to enter house size,number of rooms they want and check the data type user has entered\n",
    "# 2.calculate the price of house ,if per sq feet is rs 5000.\n",
    "# 3.threshold price is 75 lakh rs ,whcih user is paying the price abouve threshold price."
   ]
  },
  {
   "cell_type": "code",
   "execution_count": 204,
   "id": "02830ff3-18e2-462b-8cd5-f4c2d512da00",
   "metadata": {},
   "outputs": [
    {
     "name": "stdin",
     "output_type": "stream",
     "text": [
      "user1 enter the size of house 1500\n",
      "user1 enter the number of rooms 3\n",
      "user1 enter the budget 65000000\n",
      "user2 enter the size of house 1500\n",
      "user2 enter the number of rooms 3\n",
      "user2 enter the budget 85000000\n"
     ]
    }
   ],
   "source": [
    "house_size_1=float(input(\"user1 enter the size of house\"))\n",
    "num_of_rooms_1=int(input(\"user1 enter the number of rooms\"))\n",
    "price_1=float(input(\"user1 enter the budget\"))\n",
    "\n",
    "house_size_2=float(input(\"user2 enter the size of house\"))\n",
    "num_of_rooms_2=int(input(\"user2 enter the number of rooms\"))\n",
    "price_2=float(input(\"user2 enter the budget\")) \n"
   ]
  },
  {
   "cell_type": "code",
   "execution_count": 278,
   "id": "bc524c1d-7bcf-410c-babc-079300744a82",
   "metadata": {},
   "outputs": [
    {
     "name": "stdout",
     "output_type": "stream",
     "text": [
      "the price of house for user1 is 7500000.0\n",
      "the price of house for user2 is 10000000.0\n"
     ]
    }
   ],
   "source": [
    "user_1_price=house_size_1*5000\n",
    "user_2_price=house_size_2*5000\n",
    "print(\"the price of house for user1 is\",user_1_price)\n",
    "print(\"the price of house for user2 is\",user_2_price)"
   ]
  },
  {
   "cell_type": "code",
   "execution_count": 276,
   "id": "9cbfe70a-f4ce-4c5c-916f-577836cb06e4",
   "metadata": {},
   "outputs": [
    {
     "name": "stdout",
     "output_type": "stream",
     "text": [
      "user 1 is paying above threshold True\n",
      "user 2 is paying above threshold True\n"
     ]
    }
   ],
   "source": [
    "thershold_price=7500000\n",
    "thershold_price_1=user_1_price>=thershold_price\n",
    "thershold_price_2=user_2_price>=thershold_price\n",
    "print(\"user 1 is paying above threshold\",thershold_price_1)\n",
    "print(\"user 2 is paying above threshold\",thershold_price_2)"
   ]
  },
  {
   "cell_type": "markdown",
   "id": "c6f2223d-330b-4403-bd7d-52a5bca1f915",
   "metadata": {},
   "source": [
    "# you are working on project t+o analyze stock market data.create variables to store the stock symbol,current price,after  and percentage change in price,then calculate new price after a 10% increase using arithmetic operators.finally prompt the user to enter their budget using the input() function,convert it to a float using the float() function,and compare it with the new price"
   ]
  },
  {
   "cell_type": "code",
   "execution_count": 22,
   "id": "b7c579d7-29bc-4263-95f4-c65f2f1ed88e",
   "metadata": {},
   "outputs": [
    {
     "name": "stdout",
     "output_type": "stream",
     "text": [
      "the new price of stock is 110.0\n"
     ]
    },
    {
     "name": "stdin",
     "output_type": "stream",
     "text": [
      "enter your budget 500\n"
     ]
    },
    {
     "name": "stdout",
     "output_type": "stream",
     "text": [
      "user budget is greater than new price True\n"
     ]
    }
   ],
   "source": [
    "stock_symbol=\"xyz\"\n",
    "current_price=100\n",
    "percent_change=10\n",
    "new_price=float(current_price+10)\n",
    "print(\"the new price of stock is\",new_price)\n",
    "user_budget=int(input(\"enter your budget\"))\n",
    "costomer_price=user_budget>=new_price\n",
    "print(\"user budget is greater than new price\",costomer_price)"
   ]
  },
  {
   "cell_type": "markdown",
   "id": "71b61bdc-26bb-42b8-8034-9595b842c34b",
   "metadata": {},
   "source": [
    "# you are working on project to analyze whether data. create variables to store the current temperature,the minimum temp recorded and the maximum temp recorded.determine whether the current temp is within the range of minimun and maximum temperatures recorded using logical operators"
   ]
  },
  {
   "cell_type": "code",
   "execution_count": 41,
   "id": "f525810f-e334-4afd-91d6-f48748d5b71c",
   "metadata": {},
   "outputs": [
    {
     "name": "stdin",
     "output_type": "stream",
     "text": [
      "enter your current temp 45\n",
      "enter your current temp 30\n",
      "enter your current temp 25\n"
     ]
    }
   ],
   "source": [
    "max_temp=int(input(\"enter your current temp\"))\n",
    "min_temp=int(input(\"enter your current temp\"))\n",
    "cur_temp=int(input(\"enter your current temp\"))\n"
   ]
  },
  {
   "cell_type": "code",
   "execution_count": 43,
   "id": "7d3aae15-74cc-4f62-aaf4-f9ca2b82b5a7",
   "metadata": {},
   "outputs": [
    {
     "name": "stdout",
     "output_type": "stream",
     "text": [
      "user temp is greater than the current temp True\n"
     ]
    }
   ],
   "source": [
    "check_a=max_temp>=cur_temp\n",
    "print(\"user temp is greater than the current temp\",check_a)"
   ]
  },
  {
   "cell_type": "code",
   "execution_count": 45,
   "id": "cca15c92-b75f-40f7-a8c9-9840eacd4940",
   "metadata": {},
   "outputs": [
    {
     "name": "stdout",
     "output_type": "stream",
     "text": [
      "user temp is greater than the current temp True\n"
     ]
    }
   ],
   "source": [
    "check_b=min_temp>=cur_temp\n",
    "print(\"user temp is greater than the current temp\",check_b)"
   ]
  },
  {
   "cell_type": "code",
   "execution_count": null,
   "id": "fcde735d-e204-41f9-b9ac-75420f1d7426",
   "metadata": {},
   "outputs": [],
   "source": []
  }
 ],
 "metadata": {
  "kernelspec": {
   "display_name": "Python 3 (ipykernel)",
   "language": "python",
   "name": "python3"
  },
  "language_info": {
   "codemirror_mode": {
    "name": "ipython",
    "version": 3
   },
   "file_extension": ".py",
   "mimetype": "text/x-python",
   "name": "python",
   "nbconvert_exporter": "python",
   "pygments_lexer": "ipython3",
   "version": "3.12.4"
  }
 },
 "nbformat": 4,
 "nbformat_minor": 5
}
