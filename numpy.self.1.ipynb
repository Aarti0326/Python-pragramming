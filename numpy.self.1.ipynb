{
 "cells": [
  {
   "cell_type": "code",
   "execution_count": 1,
   "id": "9e2d831a-b0ff-4354-ba27-0a4199cb70e8",
   "metadata": {},
   "outputs": [],
   "source": [
    "import numpy as np"
   ]
  },
  {
   "cell_type": "code",
   "execution_count": 2,
   "id": "643573fc-0bc7-4768-830e-bdb55f8d65cf",
   "metadata": {},
   "outputs": [
    {
     "data": {
      "text/plain": [
       "array([], dtype=float64)"
      ]
     },
     "execution_count": 2,
     "metadata": {},
     "output_type": "execute_result"
    }
   ],
   "source": [
    "arr1 = np.array([])   # create an empty array\n",
    "arr1"
   ]
  },
  {
   "cell_type": "code",
   "execution_count": 3,
   "id": "d4fb4538-4a3d-4937-9b08-9aea669defce",
   "metadata": {},
   "outputs": [
    {
     "name": "stdout",
     "output_type": "stream",
     "text": [
      "[1, 2, 3, 4, 5]\n",
      "<class 'list'>\n"
     ]
    }
   ],
   "source": [
    "my_list = [1,2,3,4,5]\n",
    "print(my_list)\n",
    "print(type(my_list))"
   ]
  },
  {
   "cell_type": "code",
   "execution_count": 4,
   "id": "6c7ab3cb-a345-4aeb-8ab1-e1ba6e30be65",
   "metadata": {},
   "outputs": [],
   "source": [
    "a = np.array(my_list)"
   ]
  },
  {
   "cell_type": "code",
   "execution_count": 5,
   "id": "78fbaca6-e90e-48a8-af22-7dacc52804cf",
   "metadata": {},
   "outputs": [
    {
     "data": {
      "text/plain": [
       "array([1, 2, 3, 4, 5])"
      ]
     },
     "execution_count": 5,
     "metadata": {},
     "output_type": "execute_result"
    }
   ],
   "source": [
    "a"
   ]
  },
  {
   "cell_type": "code",
   "execution_count": 6,
   "id": "0cd84046-32b5-4022-a95a-4bea71da27de",
   "metadata": {},
   "outputs": [
    {
     "data": {
      "text/plain": [
       "numpy.ndarray"
      ]
     },
     "execution_count": 6,
     "metadata": {},
     "output_type": "execute_result"
    }
   ],
   "source": [
    "type(a)    # ndarray is number dimension array"
   ]
  },
  {
   "cell_type": "code",
   "execution_count": 7,
   "id": "d0283c6b-ac2d-4d96-bdb0-702d2f92ca3e",
   "metadata": {},
   "outputs": [
    {
     "data": {
      "text/plain": [
       "1"
      ]
     },
     "execution_count": 7,
     "metadata": {},
     "output_type": "execute_result"
    }
   ],
   "source": [
    "a.ndim  # number of dimensions in the array"
   ]
  },
  {
   "cell_type": "code",
   "execution_count": 8,
   "id": "790aa5fc-84e0-4cde-b438-2cad2227c963",
   "metadata": {},
   "outputs": [
    {
     "data": {
      "text/plain": [
       "5"
      ]
     },
     "execution_count": 8,
     "metadata": {},
     "output_type": "execute_result"
    }
   ],
   "source": [
    "a.size  # size of an array is the no. of items "
   ]
  },
  {
   "cell_type": "code",
   "execution_count": 9,
   "id": "67d5ce07-204f-4612-bdad-ae97e10c3084",
   "metadata": {},
   "outputs": [
    {
     "data": {
      "text/plain": [
       "(5,)"
      ]
     },
     "execution_count": 9,
     "metadata": {},
     "output_type": "execute_result"
    }
   ],
   "source": [
    "a.shape # shape of array   #no of rows and column (rows,column)"
   ]
  },
  {
   "cell_type": "code",
   "execution_count": 10,
   "id": "7497c4b8-0272-4f59-ba68-070b387247a1",
   "metadata": {},
   "outputs": [
    {
     "data": {
      "text/plain": [
       "dtype('int32')"
      ]
     },
     "execution_count": 10,
     "metadata": {},
     "output_type": "execute_result"
    }
   ],
   "source": [
    "a.dtype"
   ]
  },
  {
   "cell_type": "markdown",
   "id": "fd889de3-a6db-4f0f-807c-adb937863280",
   "metadata": {},
   "source": [
    "#### Arrays can be of n dimensions."
   ]
  },
  {
   "cell_type": "code",
   "execution_count": 12,
   "id": "c5e1d91a-32b1-45ce-99d3-43bf07726d2d",
   "metadata": {},
   "outputs": [
    {
     "data": {
      "text/plain": [
       "[[1, 2, 3, 4], [5, 6, 7, 8], [9, 10, 11, 12]]"
      ]
     },
     "execution_count": 12,
     "metadata": {},
     "output_type": "execute_result"
    }
   ],
   "source": [
    "my_matrix = [[1,2,3,4],[5,6,7,8],[9,10,11,12]] # list of lists\n",
    "my_matrix"
   ]
  },
  {
   "cell_type": "code",
   "execution_count": 13,
   "id": "b4578e13-2e3b-4285-bfd0-12a546c1365f",
   "metadata": {},
   "outputs": [],
   "source": [
    "b = np.array(my_matrix)  # generates a 2-d array"
   ]
  },
  {
   "cell_type": "code",
   "execution_count": 14,
   "id": "3a012b10-155f-4cef-8963-b328d84b31c2",
   "metadata": {},
   "outputs": [
    {
     "data": {
      "text/plain": [
       "array([[ 1,  2,  3,  4],\n",
       "       [ 5,  6,  7,  8],\n",
       "       [ 9, 10, 11, 12]])"
      ]
     },
     "execution_count": 14,
     "metadata": {},
     "output_type": "execute_result"
    }
   ],
   "source": [
    "b"
   ]
  },
  {
   "cell_type": "code",
   "execution_count": 15,
   "id": "1347c197-3590-453d-8092-99c5c254338d",
   "metadata": {},
   "outputs": [
    {
     "data": {
      "text/plain": [
       "numpy.ndarray"
      ]
     },
     "execution_count": 15,
     "metadata": {},
     "output_type": "execute_result"
    }
   ],
   "source": [
    "type(b)"
   ]
  },
  {
   "cell_type": "code",
   "execution_count": 16,
   "id": "6740ff1c-eba4-460d-ab67-9e2214a71e33",
   "metadata": {},
   "outputs": [
    {
     "data": {
      "text/plain": [
       "dtype('int32')"
      ]
     },
     "execution_count": 16,
     "metadata": {},
     "output_type": "execute_result"
    }
   ],
   "source": [
    "b.dtype"
   ]
  },
  {
   "cell_type": "code",
   "execution_count": 17,
   "id": "c5271421-e14b-4311-b390-5205fc42d69e",
   "metadata": {},
   "outputs": [
    {
     "data": {
      "text/plain": [
       "(3, 4)"
      ]
     },
     "execution_count": 17,
     "metadata": {},
     "output_type": "execute_result"
    }
   ],
   "source": [
    "b.shape"
   ]
  },
  {
   "cell_type": "code",
   "execution_count": 18,
   "id": "658f22ea-aa1b-4ddf-8539-c9ff3dc7a8fb",
   "metadata": {},
   "outputs": [
    {
     "data": {
      "text/plain": [
       "12"
      ]
     },
     "execution_count": 18,
     "metadata": {},
     "output_type": "execute_result"
    }
   ],
   "source": [
    "b.size"
   ]
  },
  {
   "cell_type": "code",
   "execution_count": 19,
   "id": "a8168b96-8164-418a-9ffc-d840be78d244",
   "metadata": {},
   "outputs": [
    {
     "name": "stdout",
     "output_type": "stream",
     "text": [
      "The Dimension of array 2\n"
     ]
    }
   ],
   "source": [
    "# Array summary\n",
    "print('The Dimension of array',b.ndim)"
   ]
  },
  {
   "cell_type": "code",
   "execution_count": 20,
   "id": "1a5e3cc1-6754-4879-b165-f0b119cdb004",
   "metadata": {},
   "outputs": [
    {
     "data": {
      "text/plain": [
       "2"
      ]
     },
     "execution_count": 20,
     "metadata": {},
     "output_type": "execute_result"
    }
   ],
   "source": [
    "b.ndim\n"
   ]
  },
  {
   "cell_type": "markdown",
   "id": "6f0d3bb5-f4a0-4d89-9f05-241af6b08f7f",
   "metadata": {},
   "source": [
    "### 1 d array"
   ]
  },
  {
   "cell_type": "code",
   "execution_count": 22,
   "id": "1ff8dc08-db2f-49ea-8b0d-23a15eda853a",
   "metadata": {},
   "outputs": [
    {
     "name": "stdout",
     "output_type": "stream",
     "text": [
      "[1 2 4 6 8]\n",
      "1\n"
     ]
    }
   ],
   "source": [
    "arr2 = np.array([1,2,4,6,8])\n",
    "print(arr2)\n",
    "print(arr2.ndim)"
   ]
  },
  {
   "cell_type": "markdown",
   "id": "2c8d162b-27eb-4903-b346-e3cece48da6c",
   "metadata": {},
   "source": [
    "### 2 d array"
   ]
  },
  {
   "cell_type": "code",
   "execution_count": 24,
   "id": "ec95cc48-04d2-4ae8-aeb0-0b340da1d4bf",
   "metadata": {},
   "outputs": [
    {
     "name": "stdout",
     "output_type": "stream",
     "text": [
      "[[1 2 4 6 8]\n",
      " [5 3 6 5 1]]\n",
      "2\n"
     ]
    }
   ],
   "source": [
    "arr3 = np.array([[1,2,4,6,8],[5,3,6,5,1]])\n",
    "print(arr3)\n",
    "print(arr3.ndim)\n"
   ]
  },
  {
   "cell_type": "markdown",
   "id": "29148757-71e3-473d-a5ca-d3b4c83a5a9d",
   "metadata": {},
   "source": [
    "### 3 d array"
   ]
  },
  {
   "cell_type": "code",
   "execution_count": 26,
   "id": "4e58f85a-9e23-49fc-bbda-9126b0f4bf95",
   "metadata": {},
   "outputs": [
    {
     "name": "stdout",
     "output_type": "stream",
     "text": [
      "[[[1 2 4 6 8]\n",
      "  [5 3 6 5 1]\n",
      "  [2 5 6 5 8]]]\n",
      "3\n"
     ]
    }
   ],
   "source": [
    "arr4 = np.array([[[1,2,4,6,8] ,[5,3,6,5,1] ,[2,5,6,5,8]]])\n",
    "print(arr4)\n",
    "print(arr4.ndim)"
   ]
  },
  {
   "cell_type": "code",
   "execution_count": 27,
   "id": "da7f1301-db00-4006-bc60-58250a53007e",
   "metadata": {},
   "outputs": [
    {
     "data": {
      "text/plain": [
       "array([[[5, 6, 6],\n",
       "        [5, 8, 9]],\n",
       "\n",
       "       [[5, 7, 8],\n",
       "        [9, 6, 3]]])"
      ]
     },
     "execution_count": 27,
     "metadata": {},
     "output_type": "execute_result"
    }
   ],
   "source": [
    "arr5 = np.array([[[5,6,6],[5,8,9]],[[5,7,8],[9,6,3]]])\n",
    "arr5"
   ]
  },
  {
   "cell_type": "code",
   "execution_count": 28,
   "id": "3a5f37f2-aaee-43a6-8d15-4985216549c4",
   "metadata": {},
   "outputs": [
    {
     "data": {
      "text/plain": [
       "(2, 2, 3)"
      ]
     },
     "execution_count": 28,
     "metadata": {},
     "output_type": "execute_result"
    }
   ],
   "source": [
    "arr5.shape"
   ]
  },
  {
   "cell_type": "code",
   "execution_count": 29,
   "id": "af4b9058-1100-4d89-87f4-f85b0dd5c16d",
   "metadata": {},
   "outputs": [
    {
     "data": {
      "text/plain": [
       "3"
      ]
     },
     "execution_count": 29,
     "metadata": {},
     "output_type": "execute_result"
    }
   ],
   "source": [
    "arr5.ndim"
   ]
  },
  {
   "cell_type": "code",
   "execution_count": 30,
   "id": "bd15c5df-5061-4c0f-8a3d-bf9057cfdfb6",
   "metadata": {},
   "outputs": [],
   "source": [
    "a = np.array(45)\n",
    "b = np.array([1,2,3,4,5])\n",
    "c = np.array([[1,2,3,],[5,5,6]])\n",
    "d = np.array([[[5,6,4],[5,8,9]],[[5,7,8],[9,6,3]]])"
   ]
  },
  {
   "cell_type": "code",
   "execution_count": 31,
   "id": "ce70547d-4e12-4ef1-80a8-6ed5d57c5d34",
   "metadata": {},
   "outputs": [
    {
     "name": "stdout",
     "output_type": "stream",
     "text": [
      "0\n",
      "1\n",
      "2\n",
      "3\n"
     ]
    }
   ],
   "source": [
    "print(a.ndim)\n",
    "print(b.ndim)\n",
    "print(c.ndim)\n",
    "print(d.ndim)"
   ]
  },
  {
   "cell_type": "code",
   "execution_count": 32,
   "id": "97b82ecf-8a1e-4970-8ae6-daa840715bd0",
   "metadata": {},
   "outputs": [
    {
     "name": "stdout",
     "output_type": "stream",
     "text": [
      "1\n"
     ]
    }
   ],
   "source": [
    "arr = np.array([1,2,3,4,5])\n",
    "print(arr[0])"
   ]
  },
  {
   "cell_type": "code",
   "execution_count": 33,
   "id": "cbf97b9f-7231-4584-96e0-4a9bcec76ca8",
   "metadata": {},
   "outputs": [
    {
     "name": "stdout",
     "output_type": "stream",
     "text": [
      "5\n"
     ]
    }
   ],
   "source": [
    "arr = np.array([1,2,3,4,5])\n",
    "print(arr[-1])"
   ]
  },
  {
   "cell_type": "code",
   "execution_count": 34,
   "id": "85877387-743f-4594-9cf9-fdba8dcb26af",
   "metadata": {},
   "outputs": [],
   "source": [
    "import numpy as np"
   ]
  },
  {
   "cell_type": "code",
   "execution_count": 35,
   "id": "04143a24-3bcc-4413-ad8c-fcc41199c1e5",
   "metadata": {},
   "outputs": [
    {
     "name": "stdout",
     "output_type": "stream",
     "text": [
      "[[[[[1 2 3 4 5]]]]]\n",
      "number of dimension : 5\n"
     ]
    }
   ],
   "source": [
    "arr = np.array([1, 2, 3, 4,5], ndmin=5)\n",
    "print(arr)\n",
    "print('number of dimension :',arr.ndim )\n"
   ]
  },
  {
   "cell_type": "code",
   "execution_count": 36,
   "id": "97f548c5-8b62-4c03-92fe-86cf2f930173",
   "metadata": {},
   "outputs": [
    {
     "name": "stdout",
     "output_type": "stream",
     "text": [
      "[[[[[1 2 3 4]]]]]\n",
      "number of dimension 5\n"
     ]
    }
   ],
   "source": [
    "arr1 = np.array([1, 2, 3, 4], ndmin = 5)\n",
    "print(arr1)\n",
    "print(\"number of dimension\",arr.ndim)"
   ]
  },
  {
   "cell_type": "code",
   "execution_count": 37,
   "id": "8f6bce39-083f-4cd6-ba51-ee5d5156e11e",
   "metadata": {},
   "outputs": [
    {
     "name": "stdout",
     "output_type": "stream",
     "text": [
      "60\n"
     ]
    }
   ],
   "source": [
    "arr = np.array([[10, 20, 30, 40], [50, 60, 70, 80]])\n",
    "print(arr[1,1])"
   ]
  },
  {
   "cell_type": "code",
   "execution_count": 38,
   "id": "579f8656-c731-4132-b9a4-53da6bf7f883",
   "metadata": {},
   "outputs": [
    {
     "data": {
      "text/plain": [
       "[[10, 20, 30, 40], [50, 60, 70, 80]]"
      ]
     },
     "execution_count": 38,
     "metadata": {},
     "output_type": "execute_result"
    }
   ],
   "source": [
    "arr1 = ([[10, 20, 30, 40], [50, 60, 70, 80]])\n",
    "arr1"
   ]
  }
 ],
 "metadata": {
  "kernelspec": {
   "display_name": "Python 3 (ipykernel)",
   "language": "python",
   "name": "python3"
  },
  "language_info": {
   "codemirror_mode": {
    "name": "ipython",
    "version": 3
   },
   "file_extension": ".py",
   "mimetype": "text/x-python",
   "name": "python",
   "nbconvert_exporter": "python",
   "pygments_lexer": "ipython3",
   "version": "3.12.4"
  }
 },
 "nbformat": 4,
 "nbformat_minor": 5
}
