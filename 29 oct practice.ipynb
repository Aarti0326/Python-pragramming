{
 "cells": [
  {
   "cell_type": "code",
   "execution_count": 3,
   "id": "fc45c616-e594-4deb-b134-de5fe9ac412d",
   "metadata": {},
   "outputs": [
    {
     "name": "stdout",
     "output_type": "stream",
     "text": [
      "PythonPythonPython\n"
     ]
    }
   ],
   "source": [
    "x = \"Python\"\n",
    "print(x * 3)\n"
   ]
  },
  {
   "cell_type": "code",
   "execution_count": 6,
   "id": "f7d9c500-4104-437e-af91-d2514824034c",
   "metadata": {},
   "outputs": [
    {
     "name": "stdout",
     "output_type": "stream",
     "text": [
      "8\n"
     ]
    }
   ],
   "source": [
    "add = lambda x, y: x + y\n",
    "print(add(3, 5))  "
   ]
  },
  {
   "cell_type": "code",
   "execution_count": 8,
   "id": "540073c2-b90d-4aa4-97a2-acca6879e405",
   "metadata": {},
   "outputs": [
    {
     "name": "stdout",
     "output_type": "stream",
     "text": [
      "Greater than 5\n"
     ]
    }
   ],
   "source": [
    "x = 10\n",
    "if x > 5:\n",
    "    print(\"Greater than 5\")\n",
    "elif x == 5:\n",
    "    print(\"Equal to 5\")\n",
    "else:\n",
    "    print(\"Less than 5\")\n"
   ]
  },
  {
   "cell_type": "code",
   "execution_count": 10,
   "id": "de1f6fd8-3881-411d-bd7a-c481b82fd8be",
   "metadata": {},
   "outputs": [
    {
     "name": "stdout",
     "output_type": "stream",
     "text": [
      "2\n",
      "4\n",
      "6\n",
      "8\n",
      "10\n"
     ]
    }
   ],
   "source": [
    "for i in range(2, 11, 2):\n",
    "    print(i)"
   ]
  },
  {
   "cell_type": "code",
   "execution_count": 12,
   "id": "ef64d2f0-7186-4a13-b6a7-8a40ee4031f1",
   "metadata": {},
   "outputs": [
    {
     "name": "stdout",
     "output_type": "stream",
     "text": [
      "[1, 2, 3, 4, 5]\n"
     ]
    }
   ],
   "source": [
    "numbers = [1, 2, 2, 3, 4, 4, 5]\n",
    "unique_numbers = list(set(numbers))\n",
    "print(unique_numbers)\n"
   ]
  },
  {
   "cell_type": "markdown",
   "id": "42b4d64e-7b2b-4f41-bcf4-da48ead97c04",
   "metadata": {},
   "source": [
    "##  Write a program to create a list of squares from 1 to 5 using list comprehension."
   ]
  },
  {
   "cell_type": "code",
   "execution_count": 16,
   "id": "088cb699-ba39-4977-aca9-3bffdc687d9b",
   "metadata": {},
   "outputs": [
    {
     "name": "stdout",
     "output_type": "stream",
     "text": [
      "[1, 4, 9, 16, 25]\n"
     ]
    }
   ],
   "source": [
    "squares = [x**2 for x in range(1, 6)]\n",
    "print(squares)"
   ]
  },
  {
   "cell_type": "markdown",
   "id": "825fafd9-74fa-4508-b1a2-f45690b1d355",
   "metadata": {},
   "source": [
    "## How do you define a class and create an object in Python?"
   ]
  },
  {
   "cell_type": "code",
   "execution_count": 19,
   "id": "c38d9047-7603-49d3-b7ed-c8ae1faa90f8",
   "metadata": {},
   "outputs": [
    {
     "name": "stdout",
     "output_type": "stream",
     "text": [
      "Buddy says woof!\n"
     ]
    }
   ],
   "source": [
    "class Dog:\n",
    "    def __init__(self,name):\n",
    "        self.name = name\n",
    "\n",
    "    def bark(self):\n",
    "        print(f\"{self.name} says woof!\")\n",
    "\n",
    "Dog1 = Dog(\"Buddy\")\n",
    "Dog1.bark()\n"
   ]
  },
  {
   "cell_type": "markdown",
   "id": "9d3f685f-c770-4c5a-9db1-863fadba3b2b",
   "metadata": {},
   "source": [
    "## Q: How do you create a NumPy array of zeros with shape (3, 3)?"
   ]
  },
  {
   "cell_type": "code",
   "execution_count": 26,
   "id": "7124d7d1-62b0-4d60-b88b-e43881adde05",
   "metadata": {},
   "outputs": [
    {
     "name": "stdout",
     "output_type": "stream",
     "text": [
      "[[0. 0. 0.]\n",
      " [0. 0. 0.]\n",
      " [0. 0. 0.]]\n"
     ]
    }
   ],
   "source": [
    "import numpy as np\n",
    "array = np.zeros((3, 3))\n",
    "print(array)"
   ]
  },
  {
   "cell_type": "markdown",
   "id": "cacd2042-0563-4672-a178-63a87e59826a",
   "metadata": {},
   "source": [
    "## How do you create a DataFrame from a dictionary?"
   ]
  },
  {
   "cell_type": "code",
   "execution_count": 29,
   "id": "0c71177c-439d-4ff0-97e6-82516488f519",
   "metadata": {},
   "outputs": [
    {
     "name": "stdout",
     "output_type": "stream",
     "text": [
      "    Name  Age\n",
      "0  Aarti   25\n",
      "1   John   30\n"
     ]
    }
   ],
   "source": [
    "import pandas as pd\n",
    "data = {'Name': ['Aarti', 'John'], 'Age': [25, 30]}\n",
    "df = pd.DataFrame(data)\n",
    "print(df)"
   ]
  },
  {
   "cell_type": "code",
   "execution_count": null,
   "id": "fcb02b58-c864-4eb0-987f-5fb3d0b0d975",
   "metadata": {},
   "outputs": [],
   "source": []
  }
 ],
 "metadata": {
  "kernelspec": {
   "display_name": "Python 3 (ipykernel)",
   "language": "python",
   "name": "python3"
  },
  "language_info": {
   "codemirror_mode": {
    "name": "ipython",
    "version": 3
   },
   "file_extension": ".py",
   "mimetype": "text/x-python",
   "name": "python",
   "nbconvert_exporter": "python",
   "pygments_lexer": "ipython3",
   "version": "3.12.4"
  }
 },
 "nbformat": 4,
 "nbformat_minor": 5
}
