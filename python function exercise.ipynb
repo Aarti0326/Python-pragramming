{
 "cells": [
  {
   "cell_type": "markdown",
   "id": "08ce86f6-3e7e-4899-8c86-ee4c85ed2080",
   "metadata": {},
   "source": [
    "### 1. Add Two Numbers"
   ]
  },
  {
   "cell_type": "code",
   "execution_count": 1,
   "id": "f16835bc-7c6a-4242-8158-73085b27e286",
   "metadata": {},
   "outputs": [],
   "source": [
    "def add(a,b):\n",
    "    return a+b"
   ]
  },
  {
   "cell_type": "code",
   "execution_count": 3,
   "id": "d6a65586-6811-4bbf-9762-93e4482ddfeb",
   "metadata": {},
   "outputs": [
    {
     "data": {
      "text/plain": [
       "11"
      ]
     },
     "execution_count": 3,
     "metadata": {},
     "output_type": "execute_result"
    }
   ],
   "source": [
    "add(5,6)"
   ]
  },
  {
   "cell_type": "markdown",
   "id": "14c4af1d-9f12-4d73-90a6-5c03acca2330",
   "metadata": {},
   "source": [
    "### 2. Subtract Two Numbers"
   ]
  },
  {
   "cell_type": "code",
   "execution_count": 5,
   "id": "5d81992f-52fb-48c9-9ec7-90fa302dace6",
   "metadata": {},
   "outputs": [],
   "source": [
    "def subtract(a, b):\n",
    "    return a - b"
   ]
  },
  {
   "cell_type": "code",
   "execution_count": 7,
   "id": "4a063fdd-7557-4011-9078-66b49db8dea1",
   "metadata": {},
   "outputs": [
    {
     "data": {
      "text/plain": [
       "-1"
      ]
     },
     "execution_count": 7,
     "metadata": {},
     "output_type": "execute_result"
    }
   ],
   "source": [
    "subtract(5,6)"
   ]
  },
  {
   "cell_type": "markdown",
   "id": "fd414694-9f13-4b3a-94c9-db3a4ff9d9ed",
   "metadata": {},
   "source": [
    "### Divide Two Numbers"
   ]
  },
  {
   "cell_type": "code",
   "execution_count": 24,
   "id": "396ea93a-7a22-4dc0-9fc7-585967767084",
   "metadata": {},
   "outputs": [],
   "source": [
    "def divide(a,b):\n",
    "    if b!=0:\n",
    "        return a/b\n",
    "    else:\n",
    "        return \"divisible by zero\"\n"
   ]
  },
  {
   "cell_type": "code",
   "execution_count": 34,
   "id": "db1c4c99-7810-42c0-bb6e-ba09823c2ac2",
   "metadata": {},
   "outputs": [
    {
     "data": {
      "text/plain": [
       "'divisible by zero'"
      ]
     },
     "execution_count": 34,
     "metadata": {},
     "output_type": "execute_result"
    }
   ],
   "source": [
    "divide(1,0)"
   ]
  },
  {
   "cell_type": "markdown",
   "id": "37a487ed-6978-441b-a9b0-e2bda9b2b0d0",
   "metadata": {},
   "source": [
    "### Max of Two Numbers"
   ]
  },
  {
   "cell_type": "code",
   "execution_count": 60,
   "id": "00633177-e2fb-49f1-8790-5cb4c9c24870",
   "metadata": {},
   "outputs": [],
   "source": [
    "def max_of_two(x,y):\n",
    "    if x>y:\n",
    "        return x\n",
    "    else:\n",
    "        y"
   ]
  },
  {
   "cell_type": "code",
   "execution_count": 64,
   "id": "4726ac2a-00d1-4a83-ae88-5649033fdf55",
   "metadata": {},
   "outputs": [
    {
     "data": {
      "text/plain": [
       "5"
      ]
     },
     "execution_count": 64,
     "metadata": {},
     "output_type": "execute_result"
    }
   ],
   "source": [
    "max_of_two(5,3)"
   ]
  },
  {
   "cell_type": "markdown",
   "id": "ad7a8f23-8c3c-4fae-afa3-23f3ea28ff7d",
   "metadata": {},
   "source": [
    "### Check Even or Odd"
   ]
  },
  {
   "cell_type": "code",
   "execution_count": 86,
   "id": "4c7ea0a8-bb35-4286-aa5e-35d88f749711",
   "metadata": {},
   "outputs": [],
   "source": [
    "def is_even(number):\n",
    "    if number%2==0:\n",
    "        return \"even number\"\n",
    "    else:\n",
    "        return \"odd number\""
   ]
  },
  {
   "cell_type": "code",
   "execution_count": 88,
   "id": "8d551268-c483-46b1-b7dd-69a758c41161",
   "metadata": {},
   "outputs": [
    {
     "data": {
      "text/plain": [
       "'odd number'"
      ]
     },
     "execution_count": 88,
     "metadata": {},
     "output_type": "execute_result"
    }
   ],
   "source": [
    "is_even(5)"
   ]
  },
  {
   "cell_type": "markdown",
   "id": "cc3d163d-f0c6-43e5-9324-cbe590b406d1",
   "metadata": {},
   "source": [
    "### Reverse a String"
   ]
  },
  {
   "cell_type": "code",
   "execution_count": 92,
   "id": "da387924-0fea-4576-b97d-6c2a9199e495",
   "metadata": {},
   "outputs": [
    {
     "name": "stdout",
     "output_type": "stream",
     "text": [
      "olleh\n"
     ]
    }
   ],
   "source": [
    "def reverse_string(s):\n",
    "    return s[::-1]\n",
    "print(reverse_string('hello'))"
   ]
  },
  {
   "cell_type": "markdown",
   "id": "48fda499-087a-454d-9d8b-995283f41046",
   "metadata": {},
   "source": [
    "### Sum of List"
   ]
  },
  {
   "cell_type": "code",
   "execution_count": 98,
   "id": "41eae0d2-cef1-49bf-82b6-a1561a2d430b",
   "metadata": {},
   "outputs": [
    {
     "name": "stdout",
     "output_type": "stream",
     "text": [
      "16\n"
     ]
    }
   ],
   "source": [
    "def sum_of_list(list):\n",
    "    return sum(list)\n",
    "\n",
    "print(sum_of_list([1,5,6,4]))"
   ]
  },
  {
   "cell_type": "markdown",
   "id": "5e328584-9336-4ca6-884a-43b56d62cb61",
   "metadata": {},
   "source": [
    "### Find the Minimum"
   ]
  },
  {
   "cell_type": "code",
   "execution_count": 101,
   "id": "78708083-d38d-4f5f-afd9-2f14c666e3c2",
   "metadata": {},
   "outputs": [
    {
     "name": "stdout",
     "output_type": "stream",
     "text": [
      "10\n"
     ]
    }
   ],
   "source": [
    "def min_of_two(a, b):\n",
    "    return a if a < b else b\n",
    "\n",
    "print(min_of_two(10, 20))  \n"
   ]
  },
  {
   "cell_type": "markdown",
   "id": "f64cdd44-0c8d-4888-9583-8e611fbe21c7",
   "metadata": {},
   "source": [
    "### Count Elements in a List"
   ]
  },
  {
   "cell_type": "code",
   "execution_count": 106,
   "id": "a0bc5ec2-80a5-4ecc-808b-bb2e1b7f118f",
   "metadata": {},
   "outputs": [
    {
     "name": "stdout",
     "output_type": "stream",
     "text": [
      "5\n"
     ]
    }
   ],
   "source": [
    "def count_elements(lst):\n",
    "    return len(lst)\n",
    "\n",
    "print(count_elements([1, 2, 3, 4, 5])) \n"
   ]
  },
  {
   "cell_type": "markdown",
   "id": "9a445a9c-4657-40db-b2c3-0da302692d63",
   "metadata": {},
   "source": [
    "### Remove Duplicates from a List"
   ]
  },
  {
   "cell_type": "code",
   "execution_count": 109,
   "id": "80a6a335-4ee0-4c17-8369-7321880974e1",
   "metadata": {},
   "outputs": [
    {
     "name": "stdout",
     "output_type": "stream",
     "text": [
      "[1, 2, 3, 5, 6]\n"
     ]
    }
   ],
   "source": [
    "def  remove_duplicates(L):\n",
    "    return list(set(L))\n",
    "\n",
    "print(remove_duplicates([1,5,6,6,3,2]))"
   ]
  },
  {
   "cell_type": "markdown",
   "id": "20abc622-fc3e-4210-b442-99684430722c",
   "metadata": {},
   "source": [
    "## Merge Two Lists"
   ]
  },
  {
   "cell_type": "code",
   "execution_count": 112,
   "id": "c059703d-7138-4d2d-a1ec-5b90e3098826",
   "metadata": {},
   "outputs": [
    {
     "name": "stdout",
     "output_type": "stream",
     "text": [
      "[1, 2, 3, 4, 5, 6]\n"
     ]
    }
   ],
   "source": [
    "def merge_lists(lst1, lst2):\n",
    "    return lst1 + lst2\n",
    "\n",
    "print(merge_lists([1,2,3],[4,5,6]))"
   ]
  },
  {
   "cell_type": "markdown",
   "id": "4ab090d7-33b5-4295-8d61-c1229a7e634a",
   "metadata": {},
   "source": [
    "## Sort a List"
   ]
  },
  {
   "cell_type": "code",
   "execution_count": 120,
   "id": "2995aa58-a5fd-4ce8-860b-795e816976c7",
   "metadata": {},
   "outputs": [
    {
     "name": "stdout",
     "output_type": "stream",
     "text": [
      "[3, 5, 6, 7, 7, 8]\n"
     ]
    }
   ],
   "source": [
    "def sort_list(lst):\n",
    "    return sorted(lst)\n",
    "\n",
    "print(sort_list([5,6,8,7,7,3]))"
   ]
  },
  {
   "cell_type": "markdown",
   "id": "08120ab0-262f-45a5-92e1-29fb0ec13b95",
   "metadata": {},
   "source": [
    "### Find the Average of a List"
   ]
  },
  {
   "cell_type": "code",
   "execution_count": 130,
   "id": "2c435354-767b-400d-99fb-b66cc1058aaa",
   "metadata": {},
   "outputs": [
    {
     "name": "stdout",
     "output_type": "stream",
     "text": [
      "3.75\n"
     ]
    }
   ],
   "source": [
    "def average(lst):\n",
    "    return sum(lst)/len(lst) \n",
    "\n",
    "print(average([5,6,3,1]))"
   ]
  },
  {
   "cell_type": "markdown",
   "id": "4fa919f9-e0ba-4745-80fa-355f975fdeb6",
   "metadata": {},
   "source": [
    "### Get Unique Characters in a String"
   ]
  },
  {
   "cell_type": "code",
   "execution_count": 139,
   "id": "e16b6f3e-165b-4a73-be14-8a7b2d8fd5c9",
   "metadata": {},
   "outputs": [
    {
     "name": "stdout",
     "output_type": "stream",
     "text": [
      "oelh\n"
     ]
    }
   ],
   "source": [
    "def unique_characters(s):\n",
    "    return ''.join(set(s))\n",
    "\n",
    "print(unique_characters('hello'))   ## Output: \"helo\" (order may vary)\n",
    "\n",
    "####explaination:\n",
    "\n",
    "#Creating a Set:\n",
    "\n",
    "#set(s) converts the string s into a set.\n",
    "#A set is a collection data type that automatically removes duplicate values. So, if s contains any repeated characters, they will only appear once in the set.\n",
    "#For example:\n",
    "\n",
    "#If s = \"hello\", set(s) will produce {'h', 'e', 'l', 'o'}. Note that the order of characters is not guaranteed because sets are unordered collections.\n",
    "#Joining Characters:\n",
    "\n",
    "#''.join(...) takes the set of unique characters and concatenates them into a single string.\n",
    "#The join() method is called on an empty string '', which serves as the separator. In this case, since we want to combine characters without any separators, we use an empty string."
   ]
  },
  {
   "cell_type": "markdown",
   "id": "e6e05883-a5f2-4c88-8a91-50132283d054",
   "metadata": {},
   "source": [
    "### Convert Celsius to Fahrenheit"
   ]
  },
  {
   "cell_type": "code",
   "execution_count": 146,
   "id": "49c13769-a3f9-4f1c-8370-4e79ac736a81",
   "metadata": {},
   "outputs": [
    {
     "name": "stdout",
     "output_type": "stream",
     "text": [
      "41.0\n"
     ]
    }
   ],
   "source": [
    "def celsius_to_fahrenheit(celsius):\n",
    "    return (celsius*9/5)+32\n",
    "\n",
    "print(celsius_to_fahrenheit(5)) "
   ]
  },
  {
   "cell_type": "code",
   "execution_count": null,
   "id": "e0962948-f7ac-4fb1-9bf7-b722c4aed33f",
   "metadata": {},
   "outputs": [],
   "source": []
  }
 ],
 "metadata": {
  "kernelspec": {
   "display_name": "Python 3 (ipykernel)",
   "language": "python",
   "name": "python3"
  },
  "language_info": {
   "codemirror_mode": {
    "name": "ipython",
    "version": 3
   },
   "file_extension": ".py",
   "mimetype": "text/x-python",
   "name": "python",
   "nbconvert_exporter": "python",
   "pygments_lexer": "ipython3",
   "version": "3.12.4"
  }
 },
 "nbformat": 4,
 "nbformat_minor": 5
}
