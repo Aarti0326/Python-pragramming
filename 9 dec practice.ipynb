{
 "cells": [
  {
   "cell_type": "markdown",
   "id": "a837bbee-c6da-4192-8731-94cf083e5f6b",
   "metadata": {},
   "source": [
    "### What is the difference between a list and a tuple in Python?"
   ]
  },
  {
   "cell_type": "markdown",
   "id": "198205cc-610f-4867-b628-0929993eaec0",
   "metadata": {},
   "source": [
    "## list"
   ]
  },
  {
   "cell_type": "code",
   "execution_count": 9,
   "id": "520729ff-c22c-4225-9f91-f675f4fbe313",
   "metadata": {},
   "outputs": [],
   "source": [
    "#Answer:\n",
    "#Mutable (can be modified after creation).\n",
    "#Allows adding, removing, and changing elements.\n",
    "#Defined using square brackets []."
   ]
  },
  {
   "cell_type": "code",
   "execution_count": 11,
   "id": "257f233e-c045-4ead-aaa6-04e2160a8460",
   "metadata": {},
   "outputs": [],
   "source": [
    "my_list = [1, 2, 3]\n",
    "my_list.append(4)"
   ]
  },
  {
   "cell_type": "code",
   "execution_count": 13,
   "id": "5b6610b5-852a-4275-a323-25f3aec88a51",
   "metadata": {},
   "outputs": [
    {
     "data": {
      "text/plain": [
       "[1, 2, 3, 4]"
      ]
     },
     "execution_count": 13,
     "metadata": {},
     "output_type": "execute_result"
    }
   ],
   "source": [
    "my_list"
   ]
  },
  {
   "cell_type": "markdown",
   "id": "905320a0-edd7-4895-9222-0580b13b9bc4",
   "metadata": {},
   "source": [
    "## Tuple:"
   ]
  },
  {
   "cell_type": "code",
   "execution_count": 17,
   "id": "340daac4-a929-4732-adf7-cfb2b8f55779",
   "metadata": {},
   "outputs": [],
   "source": [
    "#Immutable (cannot be modified after creation).\n",
    "#Defined using parentheses ()."
   ]
  },
  {
   "cell_type": "code",
   "execution_count": 21,
   "id": "df08713f-ced0-4e83-98e1-28d7d4d7409b",
   "metadata": {},
   "outputs": [
    {
     "ename": "TypeError",
     "evalue": "'tuple' object does not support item assignment",
     "output_type": "error",
     "traceback": [
      "\u001b[1;31m---------------------------------------------------------------------------\u001b[0m",
      "\u001b[1;31mTypeError\u001b[0m                                 Traceback (most recent call last)",
      "Cell \u001b[1;32mIn[21], line 2\u001b[0m\n\u001b[0;32m      1\u001b[0m my_tuple \u001b[38;5;241m=\u001b[39m (\u001b[38;5;241m1\u001b[39m, \u001b[38;5;241m2\u001b[39m, \u001b[38;5;241m3\u001b[39m)\n\u001b[1;32m----> 2\u001b[0m my_tuple[\u001b[38;5;241m0\u001b[39m] \u001b[38;5;241m=\u001b[39m \u001b[38;5;241m10\u001b[39m\n",
      "\u001b[1;31mTypeError\u001b[0m: 'tuple' object does not support item assignment"
     ]
    }
   ],
   "source": [
    "my_tuple = (1, 2, 3)\n",
    "my_tuple[0] = 10  # This would raise an error"
   ]
  },
  {
   "cell_type": "markdown",
   "id": "2e902b06-66f5-4a25-8d32-ecce30d1e0cb",
   "metadata": {},
   "source": [
    "## How do you handle errors in Python?"
   ]
  },
  {
   "cell_type": "code",
   "execution_count": 24,
   "id": "b5ccf0cd-4ae5-476a-a223-0cd95e3ec4ff",
   "metadata": {},
   "outputs": [],
   "source": [
    "#Answer:\n",
    "#I use try-except blocks to handle errors and exceptions. "
   ]
  },
  {
   "cell_type": "code",
   "execution_count": 26,
   "id": "faaddd01-78bb-4dcd-aaba-9ed9caab7a25",
   "metadata": {},
   "outputs": [
    {
     "name": "stdout",
     "output_type": "stream",
     "text": [
      "Error: division by zero\n",
      "Execution finished\n"
     ]
    }
   ],
   "source": [
    "try:\n",
    "    result = 10 / 0  # Dividing by zero\n",
    "except ZeroDivisionError as e:\n",
    "    print(\"Error:\", e)  # Handles division by zero error\n",
    "else:\n",
    "    print(\"Operation was successful\")\n",
    "finally:\n",
    "    print(\"Execution finished\")\n"
   ]
  },
  {
   "cell_type": "code",
   "execution_count": null,
   "id": "b56c55c0-91d3-48ca-9a41-809aec16362f",
   "metadata": {},
   "outputs": [],
   "source": []
  }
 ],
 "metadata": {
  "kernelspec": {
   "display_name": "Python 3 (ipykernel)",
   "language": "python",
   "name": "python3"
  },
  "language_info": {
   "codemirror_mode": {
    "name": "ipython",
    "version": 3
   },
   "file_extension": ".py",
   "mimetype": "text/x-python",
   "name": "python",
   "nbconvert_exporter": "python",
   "pygments_lexer": "ipython3",
   "version": "3.12.4"
  }
 },
 "nbformat": 4,
 "nbformat_minor": 5
}
