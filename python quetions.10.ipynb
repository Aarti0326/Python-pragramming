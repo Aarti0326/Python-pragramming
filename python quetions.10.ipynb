{
 "cells": [
  {
   "cell_type": "markdown",
   "id": "8d3ce9e4-0985-4dc8-ae2d-5e0e4721f365",
   "metadata": {},
   "source": [
    "### loops in python practice"
   ]
  },
  {
   "cell_type": "code",
   "execution_count": 10,
   "id": "dc495e76-cc5c-4c30-abf4-bab470d2ed1b",
   "metadata": {},
   "outputs": [
    {
     "name": "stdout",
     "output_type": "stream",
     "text": [
      "p ?\n",
      "y ?\n",
      "t ?\n",
      "h ?\n",
      "o ?\n",
      "n ?\n"
     ]
    }
   ],
   "source": [
    "for i in \"python\":\n",
    "    print(i,'?')"
   ]
  },
  {
   "cell_type": "code",
   "execution_count": 12,
   "id": "50e1b8a3-a743-4a44-9551-9b265cd1293b",
   "metadata": {},
   "outputs": [
    {
     "name": "stdout",
     "output_type": "stream",
     "text": [
      "0\n",
      "1\n",
      "2\n",
      "3\n",
      "4\n"
     ]
    }
   ],
   "source": [
    "for i in range (5):\n",
    "    print(i)"
   ]
  },
  {
   "cell_type": "code",
   "execution_count": 14,
   "id": "03e760b4-c37c-4911-952c-ff55c369421e",
   "metadata": {},
   "outputs": [
    {
     "name": "stdout",
     "output_type": "stream",
     "text": [
      "10\n",
      "11\n",
      "12\n",
      "13\n",
      "14\n",
      "15\n",
      "16\n",
      "17\n",
      "18\n",
      "19\n"
     ]
    }
   ],
   "source": [
    "for i in range(10,20):\n",
    "    print(i)"
   ]
  },
  {
   "cell_type": "markdown",
   "id": "6cabe0e6-90f3-4e1d-9013-740747cb2d92",
   "metadata": {},
   "source": [
    "### write a program to print first 10 natural number."
   ]
  },
  {
   "cell_type": "code",
   "execution_count": 19,
   "id": "1b34db14-94ca-4218-8a33-6621f4ae7ee9",
   "metadata": {},
   "outputs": [
    {
     "name": "stdout",
     "output_type": "stream",
     "text": [
      "0\n",
      "1\n",
      "2\n",
      "3\n",
      "4\n",
      "5\n",
      "6\n",
      "7\n",
      "8\n",
      "9\n",
      "10\n"
     ]
    }
   ],
   "source": [
    "for i in range(0,11):\n",
    "    print(i)\n",
    "    \n",
    "    "
   ]
  },
  {
   "cell_type": "markdown",
   "id": "0b812b61-69a8-424a-bd35-1bd08f3697ac",
   "metadata": {},
   "source": [
    "### write a program to print first 10 even numbers."
   ]
  },
  {
   "cell_type": "code",
   "execution_count": 43,
   "id": "7c120d47-e750-4868-9bfa-57a0008f7eb3",
   "metadata": {},
   "outputs": [
    {
     "name": "stdout",
     "output_type": "stream",
     "text": [
      "2\n",
      "4\n",
      "6\n",
      "8\n",
      "10\n",
      "12\n",
      "14\n",
      "16\n",
      "18\n",
      "20\n"
     ]
    }
   ],
   "source": [
    "for i in range (2,22,2):\n",
    "    print(i)"
   ]
  },
  {
   "cell_type": "markdown",
   "id": "740ab18e-68c7-460d-ade4-ae61633a4027",
   "metadata": {},
   "source": [
    "### write a program to print first 10 odd numbers "
   ]
  },
  {
   "cell_type": "code",
   "execution_count": 46,
   "id": "c5769050-f20c-44e1-98da-f065100c7267",
   "metadata": {},
   "outputs": [
    {
     "name": "stdout",
     "output_type": "stream",
     "text": [
      "1\n",
      "3\n",
      "5\n",
      "7\n",
      "9\n",
      "11\n",
      "13\n",
      "15\n",
      "17\n",
      "19\n"
     ]
    }
   ],
   "source": [
    "for i in range (1,21,2):\n",
    "    print(i)"
   ]
  },
  {
   "cell_type": "markdown",
   "id": "6fd9681b-6b37-43b1-b33b-3da7d660e4b8",
   "metadata": {},
   "source": [
    "### write a program to print first 10 even numbers in reverse order "
   ]
  },
  {
   "cell_type": "code",
   "execution_count": 49,
   "id": "28cc49a4-f116-4a0d-8230-4f106d522507",
   "metadata": {},
   "outputs": [
    {
     "name": "stdout",
     "output_type": "stream",
     "text": [
      "20\n",
      "18\n",
      "16\n",
      "14\n",
      "12\n",
      "10\n",
      "8\n",
      "6\n",
      "4\n",
      "2\n"
     ]
    }
   ],
   "source": [
    "for i in range (20,0,-2):\n",
    "    print(i)"
   ]
  },
  {
   "cell_type": "markdown",
   "id": "0f5ab93b-a132-43f3-98c4-c8378209223f",
   "metadata": {},
   "source": [
    "### write a program to print table of number accepted from user."
   ]
  },
  {
   "cell_type": "code",
   "execution_count": 63,
   "id": "c7a4fc88-148c-4e30-bf88-4bb74c5ea256",
   "metadata": {},
   "outputs": [
    {
     "name": "stdin",
     "output_type": "stream",
     "text": [
      "enter a number 2\n"
     ]
    },
    {
     "name": "stdout",
     "output_type": "stream",
     "text": [
      "2\n",
      "4\n",
      "6\n",
      "8\n",
      "10\n",
      "12\n",
      "14\n",
      "16\n",
      "18\n",
      "20\n"
     ]
    }
   ],
   "source": [
    "num = int(input(\"enter a number\"))\n",
    "for i in range(1,11):\n",
    "    print(num*i)\n",
    "          "
   ]
  }
 ],
 "metadata": {
  "kernelspec": {
   "display_name": "Python 3 (ipykernel)",
   "language": "python",
   "name": "python3"
  },
  "language_info": {
   "codemirror_mode": {
    "name": "ipython",
    "version": 3
   },
   "file_extension": ".py",
   "mimetype": "text/x-python",
   "name": "python",
   "nbconvert_exporter": "python",
   "pygments_lexer": "ipython3",
   "version": "3.12.4"
  }
 },
 "nbformat": 4,
 "nbformat_minor": 5
}
