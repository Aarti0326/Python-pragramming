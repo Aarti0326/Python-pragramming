{
 "cells": [
  {
   "cell_type": "markdown",
   "id": "e0f19744-07ce-40cc-be3a-48dbe9aae8c0",
   "metadata": {},
   "source": [
    "### Insert the correct argument for creating a NumPy array with 2 dimensions."
   ]
  },
  {
   "cell_type": "code",
   "execution_count": 2,
   "id": "44113141-e8ac-4e64-ab71-afe1169d5abc",
   "metadata": {},
   "outputs": [],
   "source": [
    "import numpy as np"
   ]
  },
  {
   "cell_type": "code",
   "execution_count": 3,
   "id": "fbd81462-6630-4063-b4bf-6aea9b785402",
   "metadata": {},
   "outputs": [
    {
     "data": {
      "text/plain": [
       "array([[1, 2, 3, 4, 5]])"
      ]
     },
     "execution_count": 3,
     "metadata": {},
     "output_type": "execute_result"
    }
   ],
   "source": [
    "arr = np.array([1,2,3,4,5],ndmin=2)\n",
    "arr"
   ]
  },
  {
   "cell_type": "markdown",
   "id": "35e3b437-1fc6-4e60-a6c8-3721015d6f33",
   "metadata": {},
   "source": [
    "### Insert the correct syntax for checking the number of dimension of a NumPy array.\n"
   ]
  },
  {
   "cell_type": "code",
   "execution_count": 5,
   "id": "f196ace0-db2c-4623-9a9a-05fb1bad87cc",
   "metadata": {},
   "outputs": [
    {
     "name": "stdout",
     "output_type": "stream",
     "text": [
      "1\n"
     ]
    }
   ],
   "source": [
    "arr = np.array([1, 2, 3, 4])\n",
    "print(arr.ndim)"
   ]
  },
  {
   "cell_type": "code",
   "execution_count": 6,
   "id": "97d7c33e-6627-40fd-8008-745ae020a665",
   "metadata": {},
   "outputs": [
    {
     "name": "stdout",
     "output_type": "stream",
     "text": [
      "3\n"
     ]
    }
   ],
   "source": [
    "arr1 = np.array([[[1,2,2]],[[3,4,5]]])\n",
    "print(arr1.ndim)"
   ]
  },
  {
   "cell_type": "markdown",
   "id": "f5f3a229-2312-41c0-83f4-8f48b5f8c8f0",
   "metadata": {},
   "source": [
    "### Insert the correct syntax for printing the first item in the array.\n",
    "\n"
   ]
  },
  {
   "cell_type": "code",
   "execution_count": 8,
   "id": "4bf30932-704b-4246-bbed-f84542153e45",
   "metadata": {},
   "outputs": [
    {
     "name": "stdout",
     "output_type": "stream",
     "text": [
      "1\n"
     ]
    }
   ],
   "source": [
    "arr = np.array([1, 2, 3, 4, 5])\n",
    "print(arr[0])"
   ]
  },
  {
   "cell_type": "markdown",
   "id": "17e48fde-1301-49b5-8d31-d0a84909bf7f",
   "metadata": {},
   "source": [
    "### Insert the correct syntax for printing the number 50 from the array.\n",
    "\n"
   ]
  },
  {
   "cell_type": "code",
   "execution_count": 10,
   "id": "d56b142c-56ab-4130-87a0-9870a0b23de3",
   "metadata": {},
   "outputs": [
    {
     "name": "stdout",
     "output_type": "stream",
     "text": [
      "50\n"
     ]
    }
   ],
   "source": [
    "arr = np.array([10,20,30,40,50,60])\n",
    "print(arr[4])"
   ]
  },
  {
   "cell_type": "markdown",
   "id": "84715cf2-b33c-4c2f-9ec2-59ba3baa7f54",
   "metadata": {},
   "source": [
    "### Insert the correct syntax for printing the number 50 from the array.\n"
   ]
  },
  {
   "cell_type": "code",
   "execution_count": 12,
   "id": "cb4f124d-c83e-4cac-a708-0d05f96dbd04",
   "metadata": {},
   "outputs": [],
   "source": [
    "arr = np.array([[10,20,30,40,50,60],[40,10,20,50,30,50]])"
   ]
  },
  {
   "cell_type": "code",
   "execution_count": 13,
   "id": "e34642a2-c87b-4f71-afe5-661ecf28fb3d",
   "metadata": {},
   "outputs": [
    {
     "name": "stdout",
     "output_type": "stream",
     "text": [
      "50\n"
     ]
    }
   ],
   "source": [
    "print(arr[1,3])"
   ]
  },
  {
   "cell_type": "markdown",
   "id": "471e6a0c-639a-48e0-afab-bf54f735100c",
   "metadata": {},
   "source": [
    "### Use negative index to print the last item in the array.\n"
   ]
  },
  {
   "cell_type": "code",
   "execution_count": 15,
   "id": "85785b7c-b88b-40f6-be8d-925c3a4315ae",
   "metadata": {},
   "outputs": [
    {
     "name": "stdout",
     "output_type": "stream",
     "text": [
      "50\n"
     ]
    }
   ],
   "source": [
    "arr3 = np.array([10, 20, 30, 40, 50])\n",
    "print(arr3[-1])"
   ]
  },
  {
   "cell_type": "markdown",
   "id": "79203678-1635-4e07-b136-92476eee57de",
   "metadata": {},
   "source": [
    "### Insert the correct slicing syntax to print the following selection of the array:\n",
    "\n",
    "### Everything from (including) the second item to (not including) the fifth item.\n",
    "\n"
   ]
  },
  {
   "cell_type": "code",
   "execution_count": 17,
   "id": "4ed2eefd-9c9a-49b1-822a-eb2cb4cfd10f",
   "metadata": {},
   "outputs": [
    {
     "data": {
      "text/plain": [
       "array([10, 15, 20, 25, 30, 35, 40])"
      ]
     },
     "execution_count": 17,
     "metadata": {},
     "output_type": "execute_result"
    }
   ],
   "source": [
    "arr = np.array([10, 15, 20, 25, 30, 35, 40])\n",
    "arr"
   ]
  },
  {
   "cell_type": "code",
   "execution_count": 18,
   "id": "0c200789-0709-47bf-8367-56f22f1a7864",
   "metadata": {},
   "outputs": [
    {
     "name": "stdout",
     "output_type": "stream",
     "text": [
      "[15 20 25]\n"
     ]
    }
   ],
   "source": [
    "print(arr[1:4])"
   ]
  },
  {
   "cell_type": "code",
   "execution_count": 19,
   "id": "bd02398b-23c4-455a-87ea-f4bb9d60c883",
   "metadata": {},
   "outputs": [
    {
     "ename": "SyntaxError",
     "evalue": "invalid syntax (2337716687.py, line 1)",
     "output_type": "error",
     "traceback": [
      "\u001b[1;36m  Cell \u001b[1;32mIn[19], line 1\u001b[1;36m\u001b[0m\n\u001b[1;33m    Everything from (including) the third item to (not including) the fifth item.\u001b[0m\n\u001b[1;37m               ^\u001b[0m\n\u001b[1;31mSyntaxError\u001b[0m\u001b[1;31m:\u001b[0m invalid syntax\n"
     ]
    }
   ],
   "source": [
    "Everything from (including) the third item to (not including) the fifth item.\n"
   ]
  },
  {
   "cell_type": "code",
   "execution_count": null,
   "id": "ba933050-faa9-48dd-9e1d-2de964988d5c",
   "metadata": {},
   "outputs": [],
   "source": [
    "print(arr[2:4])"
   ]
  },
  {
   "cell_type": "markdown",
   "id": "50325edd-7bac-422b-8d6f-00cf6238c2c5",
   "metadata": {},
   "source": [
    "### Insert the correct slicing syntax to print the following selection of the array:\n",
    "### Every other item from (including) the second item to (not including) the fifth item."
   ]
  },
  {
   "cell_type": "code",
   "execution_count": null,
   "id": "0f48d1b6-2a6a-48fc-8c5e-59bdeebf977b",
   "metadata": {},
   "outputs": [],
   "source": [
    "arr5 = np.array([10, 15, 20, 25, 30, 35, 40])\n",
    "print(arr5[1:4:2])"
   ]
  },
  {
   "cell_type": "markdown",
   "id": "04cda718-0c13-42f0-bf61-8dec6cd9635d",
   "metadata": {},
   "source": [
    "### Insert the correct slicing syntax to print the following selection of the array:\n",
    "### Every other item from the entire array.\n",
    "### use the step syntax.\n",
    "\n",
    "\n"
   ]
  },
  {
   "cell_type": "code",
   "execution_count": null,
   "id": "0f8e9649-e46e-4007-a876-3e6f1938500c",
   "metadata": {},
   "outputs": [],
   "source": [
    "arr = np.array([10, 15, 20, 25, 30, 35, 40])\n",
    "print(arr[::2])"
   ]
  },
  {
   "cell_type": "code",
   "execution_count": null,
   "id": "208c6e82-26d7-4ef2-a94a-faa13b379bef",
   "metadata": {},
   "outputs": [],
   "source": [
    "print(arr[::1])"
   ]
  },
  {
   "cell_type": "code",
   "execution_count": null,
   "id": "17374e8d-d86b-4763-b78c-c8ae73d4c90e",
   "metadata": {},
   "outputs": [],
   "source": [
    "print(arr[::-1])"
   ]
  },
  {
   "cell_type": "code",
   "execution_count": null,
   "id": "64505d89-8e01-41f7-a0be-8eced83091b7",
   "metadata": {},
   "outputs": [],
   "source": [
    "print(arr[1::])"
   ]
  },
  {
   "cell_type": "code",
   "execution_count": null,
   "id": "4b13d674-2c29-4db4-97b7-1d189e355009",
   "metadata": {},
   "outputs": [],
   "source": [
    "print(arr[0::])"
   ]
  },
  {
   "cell_type": "code",
   "execution_count": null,
   "id": "f77cc792-d7c2-4bf6-b693-a4e7e6527064",
   "metadata": {},
   "outputs": [],
   "source": [
    "import numpy as np\n",
    "\n",
    "arr = np.array([[[1, 2, 3], [4, 5, 6]], [[7, 8, 9], [10, 11, 12]]])\n",
    "\n",
    "print(arr[0, 1, 2])\n"
   ]
  },
  {
   "cell_type": "markdown",
   "id": "6d6f059c-0454-4baf-9c42-e781da0205d2",
   "metadata": {
    "jp-MarkdownHeadingCollapsed": true
   },
   "source": [
    "### NumPy uses a character to represent each of the following data types, which one?\n",
    "#i = integer\n",
    "\n",
    "#b = boolean\n",
    "\n",
    "#u = unsigned integer\n",
    "\n",
    "#f = float\n",
    "\n",
    "#c = complex float\n",
    "\n",
    "#m = timedelta\n",
    "\n",
    "#M = datetime\n",
    "\n",
    "#O = object\n",
    "\n",
    "#S = string"
   ]
  },
  {
   "cell_type": "markdown",
   "id": "01666360-1865-4ea0-8139-79126e8f3c21",
   "metadata": {},
   "source": [
    "### slicing of numpy arrays"
   ]
  },
  {
   "cell_type": "code",
   "execution_count": null,
   "id": "517e841e-0ba4-4264-95be-e9c1fe51e9fe",
   "metadata": {},
   "outputs": [],
   "source": [
    "import numpy as np"
   ]
  },
  {
   "cell_type": "code",
   "execution_count": null,
   "id": "ed2e8484-ba51-485e-b15a-9184bb8baa00",
   "metadata": {},
   "outputs": [],
   "source": [
    "arr = np.array([1,2,3,4,5,6])\n",
    "print(arr[1:5])"
   ]
  },
  {
   "cell_type": "code",
   "execution_count": null,
   "id": "a578c456-89d5-4442-b50b-76c6da6d2031",
   "metadata": {},
   "outputs": [],
   "source": [
    "print(arr[::1])"
   ]
  },
  {
   "cell_type": "code",
   "execution_count": null,
   "id": "919e4fe5-3245-4bdd-a991-006c3a396437",
   "metadata": {},
   "outputs": [],
   "source": [
    "print(arr[::2])"
   ]
  },
  {
   "cell_type": "markdown",
   "id": "f494b596-86d4-4e82-b9e9-112ce11dd196",
   "metadata": {},
   "source": [
    "### slicing in 2d array"
   ]
  },
  {
   "cell_type": "code",
   "execution_count": null,
   "id": "326acef8-d3cc-449b-bac8-e054e3512d23",
   "metadata": {},
   "outputs": [],
   "source": [
    "a = np.array([[120,24,85,52],[854,652,3,85]])\n",
    "print(a[1,1:3])"
   ]
  },
  {
   "cell_type": "code",
   "execution_count": null,
   "id": "ee9183e5-e220-4dea-af65-1d340d785045",
   "metadata": {},
   "outputs": [],
   "source": [
    "print(a[0,1:3])"
   ]
  },
  {
   "cell_type": "markdown",
   "id": "9dfd2567-8113-444d-b51e-c4430b2d214f",
   "metadata": {},
   "source": [
    "### checking the data type of an array"
   ]
  },
  {
   "cell_type": "code",
   "execution_count": null,
   "id": "d0b3841c-6f77-4f53-8222-385410f93808",
   "metadata": {},
   "outputs": [],
   "source": [
    "arr = np.array([1,2,3,4,5])\n",
    "print(arr.dtype)"
   ]
  },
  {
   "cell_type": "code",
   "execution_count": null,
   "id": "585fa74a-d76b-4b3c-b66a-17f6fae37a63",
   "metadata": {},
   "outputs": [],
   "source": [
    "arr = np.array(['animals','bat','cat'])\n",
    "print(arr.dtype)"
   ]
  },
  {
   "cell_type": "markdown",
   "id": "7906c013-5af6-4e74-8a02-c0b02b239fc6",
   "metadata": {},
   "source": [
    "### create an array with data types 4 bytes integer "
   ]
  },
  {
   "cell_type": "code",
   "execution_count": 34,
   "id": "a9baea3d-1d77-4bff-99a0-44411dad5042",
   "metadata": {},
   "outputs": [],
   "source": [
    "import numpy as np"
   ]
  },
  {
   "cell_type": "code",
   "execution_count": 39,
   "id": "625bfdef-e950-46a0-bca8-ccbd611dd33d",
   "metadata": {},
   "outputs": [
    {
     "name": "stdout",
     "output_type": "stream",
     "text": [
      "[1 2 3 4]\n",
      "int32\n"
     ]
    }
   ],
   "source": [
    "arr = np.array ([1,2,3,4],dtype = 'i4')\n",
    "print(arr)\n",
    "print(arr.dtype)"
   ]
  },
  {
   "cell_type": "markdown",
   "id": "a7232224-6aee-4082-bf44-8295c4f2b1de",
   "metadata": {},
   "source": [
    "### numpy array shape "
   ]
  },
  {
   "cell_type": "markdown",
   "id": "137c0fb9-81ef-4fbd-951b-32b1010122bd",
   "metadata": {},
   "source": [
    "### print the shape of a 2d array"
   ]
  },
  {
   "cell_type": "code",
   "execution_count": 47,
   "id": "36652798-c8be-43e0-9c3d-20154da5efd4",
   "metadata": {},
   "outputs": [
    {
     "name": "stdout",
     "output_type": "stream",
     "text": [
      "(2, 4)\n"
     ]
    }
   ],
   "source": [
    "arr = np.array([[1,5,5,6],[68,5,2,5]])\n",
    "print(arr.shape)\n",
    "            "
   ]
  },
  {
   "cell_type": "code",
   "execution_count": 54,
   "id": "7f429810-48d5-4475-ad0f-40773ea0cdc0",
   "metadata": {},
   "outputs": [
    {
     "name": "stdout",
     "output_type": "stream",
     "text": [
      "(1, 3, 4)\n"
     ]
    }
   ],
   "source": [
    "arr1 = np.array([[[1,5,5,6],[5,5,6,5],[68,5,2,5]]])\n",
    "print(arr1.shape)"
   ]
  },
  {
   "cell_type": "code",
   "execution_count": null,
   "id": "bace13da-93d1-4c91-b8ed-2c907b245eaf",
   "metadata": {},
   "outputs": [],
   "source": []
  }
 ],
 "metadata": {
  "kernelspec": {
   "display_name": "Python 3 (ipykernel)",
   "language": "python",
   "name": "python3"
  },
  "language_info": {
   "codemirror_mode": {
    "name": "ipython",
    "version": 3
   },
   "file_extension": ".py",
   "mimetype": "text/x-python",
   "name": "python",
   "nbconvert_exporter": "python",
   "pygments_lexer": "ipython3",
   "version": "3.12.4"
  }
 },
 "nbformat": 4,
 "nbformat_minor": 5
}
