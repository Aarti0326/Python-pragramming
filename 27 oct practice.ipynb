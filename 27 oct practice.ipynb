{
 "cells": [
  {
   "cell_type": "markdown",
   "id": "d631799b-d3ea-447a-9bd4-56c93a158f95",
   "metadata": {},
   "source": [
    "## Write a program to calculate the total and average marks of a student from three subjects."
   ]
  },
  {
   "cell_type": "code",
   "execution_count": 2,
   "id": "a278bcda-13f9-40dd-8150-f697be33be43",
   "metadata": {},
   "outputs": [
    {
     "name": "stdout",
     "output_type": "stream",
     "text": [
      "Total Marks: 263, Average Marks: 87.66666666666667\n"
     ]
    }
   ],
   "source": [
    "# Input marks for three subjects\n",
    "math = 85\n",
    "science = 90\n",
    "english = 88\n",
    "\n",
    "# Total and average\n",
    "total = math + science + english\n",
    "average = total / 3\n",
    "\n",
    "print(f\"Total Marks: {total}, Average Marks: {average}\")\n"
   ]
  },
  {
   "cell_type": "markdown",
   "id": "524485b6-43d8-4cde-bd0b-753aa44a0e30",
   "metadata": {},
   "source": [
    "## Demonstrate how to use assignment operators to increase a price by 10% and then apply a discount of 5%."
   ]
  },
  {
   "cell_type": "code",
   "execution_count": 5,
   "id": "b0b3eeb3-a381-4afd-85f1-02d9eda00aba",
   "metadata": {},
   "outputs": [
    {
     "name": "stdout",
     "output_type": "stream",
     "text": [
      "Final Price: 1045.0\n"
     ]
    }
   ],
   "source": [
    "price = 1000  \n",
    "\n",
    "# Increase price by 10%\n",
    "price += price * 0.10  \n",
    "# Apply a 5% discount\n",
    "price -= price * 0.05  \n",
    "\n",
    "print(f\"Final Price: {price}\")\n"
   ]
  },
  {
   "cell_type": "markdown",
   "id": "c37730e4-1770-4ee9-9098-2155783df706",
   "metadata": {},
   "source": [
    "## Check if a number is within a given range using logical operators."
   ]
  },
  {
   "cell_type": "code",
   "execution_count": 8,
   "id": "d56dada1-2454-4fd8-87fc-962f9ee5094c",
   "metadata": {},
   "outputs": [
    {
     "name": "stdout",
     "output_type": "stream",
     "text": [
      "The number is within the range.\n"
     ]
    }
   ],
   "source": [
    "number = 25\n",
    "\n",
    "if number > 10 and number < 50:\n",
    "    print(\"The number is within the range.\")\n",
    "else:\n",
    "    print(\"The number is out of range.\")\n"
   ]
  },
  {
   "cell_type": "code",
   "execution_count": null,
   "id": "5c77a10b-03ce-4342-9f72-6eb5039947cf",
   "metadata": {},
   "outputs": [],
   "source": []
  }
 ],
 "metadata": {
  "kernelspec": {
   "display_name": "Python 3 (ipykernel)",
   "language": "python",
   "name": "python3"
  },
  "language_info": {
   "codemirror_mode": {
    "name": "ipython",
    "version": 3
   },
   "file_extension": ".py",
   "mimetype": "text/x-python",
   "name": "python",
   "nbconvert_exporter": "python",
   "pygments_lexer": "ipython3",
   "version": "3.12.4"
  }
 },
 "nbformat": 4,
 "nbformat_minor": 5
}
