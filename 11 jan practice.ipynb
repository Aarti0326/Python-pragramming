{
 "cells": [
  {
   "cell_type": "markdown",
   "id": "b96c1152-5b59-4978-a518-580d24e88399",
   "metadata": {},
   "source": [
    "### Write a program that will convert celsius value to fahrenheit."
   ]
  },
  {
   "cell_type": "code",
   "execution_count": 2,
   "id": "d17aaea8-2b97-4874-9278-1bdcc2eab41b",
   "metadata": {},
   "outputs": [
    {
     "name": "stdin",
     "output_type": "stream",
     "text": [
      "enter the temp in celcius  2\n"
     ]
    },
    {
     "name": "stdout",
     "output_type": "stream",
     "text": [
      "35.6 F\n"
     ]
    }
   ],
   "source": [
    "celcius = float(input('enter the temp in celcius '))\n",
    "feren = celcius*(9/5) +32\n",
    "print(feren,'F')"
   ]
  },
  {
   "cell_type": "markdown",
   "id": "27426dd3-fce7-4530-a35b-673a4f40fb22",
   "metadata": {},
   "source": [
    "### Take 2 numbers as input from the user. Write a program to swap the numbers without using any special python syntax."
   ]
  },
  {
   "cell_type": "code",
   "execution_count": 15,
   "id": "0f5a4c60-f727-4950-8c91-8ea70d2fe267",
   "metadata": {},
   "outputs": [
    {
     "name": "stdout",
     "output_type": "stream",
     "text": [
      "5\n",
      "3\n"
     ]
    }
   ],
   "source": [
    "# Write your code here\n",
    "a = 3\n",
    "b = 5\n",
    "a,b = b,a \n",
    "print(a)\n",
    "print(b)"
   ]
  },
  {
   "cell_type": "markdown",
   "id": "9fe9d701-c8b7-4637-9e51-0df53e6069e8",
   "metadata": {},
   "source": [
    "### Write a program to find the simple interest when the value of principle,rate of interest and time period is provided by the user."
   ]
  },
  {
   "cell_type": "code",
   "execution_count": 25,
   "id": "34c26bd6-9c3f-4167-b432-35789c051684",
   "metadata": {},
   "outputs": [
    {
     "name": "stdin",
     "output_type": "stream",
     "text": [
      "Enter amount  1000\n",
      "Enter time period  10\n",
      "Enter rate  5\n"
     ]
    },
    {
     "name": "stdout",
     "output_type": "stream",
     "text": [
      "the interest is  500.0\n"
     ]
    }
   ],
   "source": [
    "\n",
    "p = int(input('Enter amount '))\n",
    "t = int(input('Enter time period '))\n",
    "r = float(input('Enter rate '))\n",
    "interest = (p*t*r)/100\n",
    "print('the interest is ',interest)"
   ]
  },
  {
   "cell_type": "markdown",
   "id": "1c1f6b59-772f-4c64-9fc0-b51baf7bd5a0",
   "metadata": {},
   "source": [
    "###  Write a program to find the sum of squares of first n natural numbers where n will be provided by the user."
   ]
  },
  {
   "cell_type": "markdown",
   "id": "e18b53c4-6a02-4127-a595-506cd0b16758",
   "metadata": {},
   "source": [
    "- Thus, the sum of the squares of first n natural numbers = n(n+1)(2n+1)/6"
   ]
  },
  {
   "cell_type": "code",
   "execution_count": 29,
   "id": "3cecd12a-6cfc-4f23-979e-715f2b533034",
   "metadata": {},
   "outputs": [
    {
     "name": "stdin",
     "output_type": "stream",
     "text": [
      "enter the number  10\n"
     ]
    },
    {
     "name": "stdout",
     "output_type": "stream",
     "text": [
      "385.0\n"
     ]
    }
   ],
   "source": [
    "n = int(input('enter the number '))\n",
    "result = (n*(n+1)*(2*n + 1))/6\n",
    "print(result)"
   ]
  },
  {
   "cell_type": "code",
   "execution_count": null,
   "id": "748c3303-8dff-4bb2-94a2-bd4fbfce9bbe",
   "metadata": {},
   "outputs": [],
   "source": []
  }
 ],
 "metadata": {
  "kernelspec": {
   "display_name": "Python 3 (ipykernel)",
   "language": "python",
   "name": "python3"
  },
  "language_info": {
   "codemirror_mode": {
    "name": "ipython",
    "version": 3
   },
   "file_extension": ".py",
   "mimetype": "text/x-python",
   "name": "python",
   "nbconvert_exporter": "python",
   "pygments_lexer": "ipython3",
   "version": "3.12.4"
  }
 },
 "nbformat": 4,
 "nbformat_minor": 5
}
