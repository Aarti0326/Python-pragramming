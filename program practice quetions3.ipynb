{
 "cells": [
  {
   "cell_type": "markdown",
   "id": "d65c5abd-ae8a-4ec1-897a-896edfbd69fc",
   "metadata": {},
   "source": [
    "### Python Program to Find the Square Root"
   ]
  },
  {
   "cell_type": "code",
   "execution_count": 30,
   "id": "f598d8ce-d08f-4278-b2a5-07ab050025ea",
   "metadata": {},
   "outputs": [
    {
     "name": "stdin",
     "output_type": "stream",
     "text": [
      "Enter a number  8\n"
     ]
    },
    {
     "name": "stdout",
     "output_type": "stream",
     "text": [
      "the square root is 2.8284271247461903\n"
     ]
    }
   ],
   "source": [
    "#Python Program to Find the Square Root\n",
    "num = float(input(\"Enter a number \"))\n",
    "result = num ** 0.5\n",
    "print(\"the square root is\",result)"
   ]
  },
  {
   "cell_type": "markdown",
   "id": "9e48bcbf-2d1a-41c1-bfeb-19fc216c4f0c",
   "metadata": {},
   "source": [
    "### Python Program to Generate a Random Number"
   ]
  },
  {
   "cell_type": "code",
   "execution_count": 41,
   "id": "5cb765a9-281a-451d-a085-5e0bec471b0b",
   "metadata": {},
   "outputs": [
    {
     "name": "stdout",
     "output_type": "stream",
     "text": [
      "5\n"
     ]
    }
   ],
   "source": [
    "# Program to generate a random number between 0 and 9\n",
    "\n",
    "# importing the random module\n",
    "import random\n",
    "\n",
    "print(random.randint(0,9))"
   ]
  },
  {
   "cell_type": "markdown",
   "id": "f5e1e6f0-06bc-4567-b1f4-c4896a4f05ea",
   "metadata": {},
   "source": [
    "### Python Program to Convert Kilometers to Miles"
   ]
  },
  {
   "cell_type": "code",
   "execution_count": 111,
   "id": "9d554f2d-ef40-433e-916b-fdfae89f4532",
   "metadata": {},
   "outputs": [],
   "source": [
    "def kilometers_to_miles(km):\n",
    "    one_kilometer = 0.621371\n",
    "    #convert kilometers to miles\n",
    "    miles = km*one_kilometer\n",
    "    return miles   "
   ]
  },
  {
   "cell_type": "code",
   "execution_count": 113,
   "id": "a3ac1903-d98e-4d06-80e4-25812c41f479",
   "metadata": {},
   "outputs": [
    {
     "data": {
      "text/plain": [
       "3.106855"
      ]
     },
     "execution_count": 113,
     "metadata": {},
     "output_type": "execute_result"
    }
   ],
   "source": [
    "kilometers_to_miles(5)\n"
   ]
  },
  {
   "cell_type": "markdown",
   "id": "391e17c3-b963-4675-8e2d-f2caa2081225",
   "metadata": {},
   "source": [
    "### Python Program to Check if a Number is Positive, Negative or 0"
   ]
  },
  {
   "cell_type": "code",
   "execution_count": 116,
   "id": "a3d3edd8-a116-4715-be80-afe72de5a5fe",
   "metadata": {},
   "outputs": [
    {
     "name": "stdin",
     "output_type": "stream",
     "text": [
      "Enter a number:  5\n"
     ]
    },
    {
     "name": "stdout",
     "output_type": "stream",
     "text": [
      "Positive number\n"
     ]
    }
   ],
   "source": [
    "num = float(input(\"Enter a number: \"))\n",
    "if num > 0:\n",
    "   print(\"Positive number\")\n",
    "elif num == 0:\n",
    "   print(\"Zero\")\n",
    "else:\n",
    "   print(\"Negative number\")"
   ]
  },
  {
   "cell_type": "code",
   "execution_count": 120,
   "id": "8b92b13f-c2df-4228-b5ba-93174941c820",
   "metadata": {},
   "outputs": [
    {
     "name": "stdin",
     "output_type": "stream",
     "text": [
      "Enter a number:  -8\n"
     ]
    },
    {
     "name": "stdout",
     "output_type": "stream",
     "text": [
      "Negative number\n"
     ]
    }
   ],
   "source": [
    "num = float(input(\"Enter a number: \"))\n",
    "if num >= 0:\n",
    "   if num == 0:\n",
    "       print(\"Zero\")\n",
    "   else:\n",
    "       print(\"Positive number\")\n",
    "else:\n",
    "   print(\"Negative number\")\n"
   ]
  },
  {
   "cell_type": "markdown",
   "id": "c6849cbc-a939-48c9-8947-8df460a67691",
   "metadata": {},
   "source": [
    "###  Find the Maximum of Three Numbers\n"
   ]
  },
  {
   "cell_type": "code",
   "execution_count": 126,
   "id": "8c7abec5-5df3-4ccc-89c4-99396f1ef69c",
   "metadata": {},
   "outputs": [
    {
     "name": "stdin",
     "output_type": "stream",
     "text": [
      "Enter first number:  65\n",
      "Enter second number:  52\n",
      "Enter third number:  2\n"
     ]
    },
    {
     "name": "stdout",
     "output_type": "stream",
     "text": [
      "Maximum: 65.0\n"
     ]
    }
   ],
   "source": [
    "def find_max(a, b, c):\n",
    "    return max(a, b, c)\n",
    "\n",
    "a = float(input(\"Enter first number: \"))\n",
    "b = float(input(\"Enter second number: \"))\n",
    "c = float(input(\"Enter third number: \"))\n",
    "print(\"Maximum:\", find_max(a, b, c))"
   ]
  },
  {
   "cell_type": "markdown",
   "id": "4750fc10-06b8-4aa4-988c-19c6ee10ebef",
   "metadata": {},
   "source": [
    "### Check if a String is a Palindrome\n"
   ]
  },
  {
   "cell_type": "code",
   "execution_count": 140,
   "id": "671a92f2-757e-44c1-a288-e4a10ff43df0",
   "metadata": {},
   "outputs": [
    {
     "name": "stdin",
     "output_type": "stream",
     "text": [
      "Enter a string:  radar\n"
     ]
    },
    {
     "name": "stdout",
     "output_type": "stream",
     "text": [
      "Is palindrome: True\n"
     ]
    }
   ],
   "source": [
    "def is_palindrome(s):\n",
    "    return s == s[::-1]\n",
    "\n",
    "s = input(\"Enter a string: \")\n",
    "print(\"Is palindrome:\", is_palindrome(s))"
   ]
  },
  {
   "cell_type": "markdown",
   "id": "33a0c273-0366-4352-9b35-d3fc45fcf0ab",
   "metadata": {},
   "source": [
    "### Calculate the Factorial of a Number"
   ]
  },
  {
   "cell_type": "code",
   "execution_count": 149,
   "id": "c0de6f19-f8f4-4a6a-b6c2-b9ae1944a6a8",
   "metadata": {},
   "outputs": [
    {
     "name": "stdin",
     "output_type": "stream",
     "text": [
      "Enter a number 6\n"
     ]
    },
    {
     "name": "stdout",
     "output_type": "stream",
     "text": [
      "Factorial: 720\n"
     ]
    }
   ],
   "source": [
    "def factorial(n):\n",
    "    if n == 0:\n",
    "        return 1\n",
    "    else:\n",
    "        return n * factorial(n-1)\n",
    "\n",
    "num = int(input(\"Enter a number\"))\n",
    "print(\"Factorial:\", factorial(num))"
   ]
  },
  {
   "cell_type": "code",
   "execution_count": null,
   "id": "8435b5ee-c49a-46b4-a0b3-bb5aabd0df97",
   "metadata": {},
   "outputs": [],
   "source": []
  }
 ],
 "metadata": {
  "kernelspec": {
   "display_name": "Python 3 (ipykernel)",
   "language": "python",
   "name": "python3"
  },
  "language_info": {
   "codemirror_mode": {
    "name": "ipython",
    "version": 3
   },
   "file_extension": ".py",
   "mimetype": "text/x-python",
   "name": "python",
   "nbconvert_exporter": "python",
   "pygments_lexer": "ipython3",
   "version": "3.12.4"
  }
 },
 "nbformat": 4,
 "nbformat_minor": 5
}
