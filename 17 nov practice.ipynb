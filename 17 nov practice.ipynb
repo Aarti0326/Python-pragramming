{
 "cells": [
  {
   "cell_type": "markdown",
   "id": "6d2693ea-0806-40e7-aa3b-b481256e0aaf",
   "metadata": {},
   "source": [
    "## Skip numbers divisible by 3 using continue."
   ]
  },
  {
   "cell_type": "code",
   "execution_count": 2,
   "id": "4e669037-92fd-43f2-8761-c3401f2ff4bc",
   "metadata": {},
   "outputs": [
    {
     "name": "stdout",
     "output_type": "stream",
     "text": [
      "1 2 4 5 7 8 10 "
     ]
    }
   ],
   "source": [
    "for i in range(1, 11):        # Loop from 1 to 10\n",
    "    if i % 3 == 0:           # Check if the number is divisible by 3\n",
    "        continue             # Skip the rest of the loop for this iteration\n",
    "    print(i, end=\" \")         # Print the number\n"
   ]
  },
  {
   "cell_type": "markdown",
   "id": "69f3be9b-3c00-4dd1-9ba3-b067e4daa4c5",
   "metadata": {},
   "source": [
    "## Print only even numbers from 1 to 50 using range()."
   ]
  },
  {
   "cell_type": "code",
   "execution_count": 5,
   "id": "f07bb1f4-a355-4ffc-9b13-2fd12a1a213e",
   "metadata": {},
   "outputs": [
    {
     "name": "stdout",
     "output_type": "stream",
     "text": [
      "2 4 6 8 10 12 14 16 18 20 22 24 26 28 30 32 34 36 38 40 42 44 46 48 50 "
     ]
    }
   ],
   "source": [
    "for i in range(2, 51, 2):  # Start from 2, increment by 2\n",
    "    print(i, end=\" \")\n"
   ]
  },
  {
   "cell_type": "markdown",
   "id": "22d969db-725d-40ea-a23c-f4cc7057ae95",
   "metadata": {},
   "source": [
    "## Calculate the sum of squares of numbers from 1 to 10."
   ]
  },
  {
   "cell_type": "code",
   "execution_count": 8,
   "id": "ad8bbdd6-43da-43cc-9586-73365f060b92",
   "metadata": {},
   "outputs": [
    {
     "name": "stdout",
     "output_type": "stream",
     "text": [
      "Sum of squares is: 385\n"
     ]
    }
   ],
   "source": [
    "total = 0\n",
    "for i in range(1, 11):       # Loop from 1 to 10\n",
    "    total += i ** 2          # Add the square of the current number\n",
    "print(\"Sum of squares is:\", total)\n"
   ]
  },
  {
   "cell_type": "markdown",
   "id": "5d0ddab2-a121-46bb-8751-5cc712382a21",
   "metadata": {},
   "source": [
    "## Print a pyramid pattern of numbers."
   ]
  },
  {
   "cell_type": "code",
   "execution_count": 11,
   "id": "1904ac03-60c2-4cfc-a0d9-4e2f996aeb22",
   "metadata": {},
   "outputs": [
    {
     "name": "stdout",
     "output_type": "stream",
     "text": [
      "1 \n",
      "1 2 \n",
      "1 2 3 \n",
      "1 2 3 4 \n",
      "1 2 3 4 5 \n"
     ]
    }
   ],
   "source": [
    "for i in range(1, 6):           # Outer loop for rows (1 to 5)\n",
    "    for j in range(1, i + 1):   # Inner loop for columns in each row\n",
    "        print(j, end=\" \")       # Print the column value\n",
    "    print()                     # Move to the next line after each row\n"
   ]
  },
  {
   "cell_type": "markdown",
   "id": "d5d2628c-7465-4017-89e7-5a38cc2e503e",
   "metadata": {},
   "source": [
    "## Multiplication table in matrix format using nested loops."
   ]
  },
  {
   "cell_type": "code",
   "execution_count": 14,
   "id": "2f7d1a4a-7b6e-4f25-bc24-555dff584346",
   "metadata": {},
   "outputs": [
    {
     "name": "stdout",
     "output_type": "stream",
     "text": [
      "   1    2    3    4    5    6    7    8    9   10 \n",
      "   2    4    6    8   10   12   14   16   18   20 \n",
      "   3    6    9   12   15   18   21   24   27   30 \n",
      "   4    8   12   16   20   24   28   32   36   40 \n",
      "   5   10   15   20   25   30   35   40   45   50 \n",
      "   6   12   18   24   30   36   42   48   54   60 \n",
      "   7   14   21   28   35   42   49   56   63   70 \n",
      "   8   16   24   32   40   48   56   64   72   80 \n",
      "   9   18   27   36   45   54   63   72   81   90 \n",
      "  10   20   30   40   50   60   70   80   90  100 \n"
     ]
    }
   ],
   "source": [
    "for i in range(1, 11):          # Outer loop for rows (1 to 10)\n",
    "    for j in range(1, 11):      # Inner loop for columns (1 to 10)\n",
    "        print(f\"{i * j:4}\", end=\" \")  # Print product with 4-character spacing\n",
    "    print()                    # Move to the next line after each row\n"
   ]
  },
  {
   "cell_type": "markdown",
   "id": "58e42a34-7264-46f7-bfc0-587378343798",
   "metadata": {},
   "source": [
    "## Find all pairs (x, y) where x^2 + y^2 = 50 for x, y in range [0, 10]."
   ]
  },
  {
   "cell_type": "code",
   "execution_count": 17,
   "id": "7232b47f-62c8-4d21-9445-1c1a1859486f",
   "metadata": {},
   "outputs": [
    {
     "name": "stdout",
     "output_type": "stream",
     "text": [
      "Pair found: (1, 7)\n",
      "Pair found: (5, 5)\n",
      "Pair found: (7, 1)\n"
     ]
    }
   ],
   "source": [
    "for x in range(11):             # Loop for x (0 to 10)\n",
    "    for y in range(11):         # Loop for y (0 to 10)\n",
    "        if x ** 2 + y ** 2 == 50:  # Check if the condition is satisfied\n",
    "            print(f\"Pair found: ({x}, {y})\")\n"
   ]
  },
  {
   "cell_type": "code",
   "execution_count": null,
   "id": "a9121ff3-8d64-4141-b703-fa77d1060f80",
   "metadata": {},
   "outputs": [],
   "source": []
  }
 ],
 "metadata": {
  "kernelspec": {
   "display_name": "Python 3 (ipykernel)",
   "language": "python",
   "name": "python3"
  },
  "language_info": {
   "codemirror_mode": {
    "name": "ipython",
    "version": 3
   },
   "file_extension": ".py",
   "mimetype": "text/x-python",
   "name": "python",
   "nbconvert_exporter": "python",
   "pygments_lexer": "ipython3",
   "version": "3.12.4"
  }
 },
 "nbformat": 4,
 "nbformat_minor": 5
}
