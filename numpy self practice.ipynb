{
 "cells": [
  {
   "cell_type": "markdown",
   "id": "c5d8b39d-84e6-4b4b-975d-dc4c60143838",
   "metadata": {},
   "source": [
    "## Introduction to NumPy\n",
    "#### NumPy is a Python library created in 2005 that performs numerical calculations. \n",
    "#### It is generally used for working with arrays.\n",
    "\n",
    "#### NumPy also includes a wide range of mathematical functions, \n",
    "#### such as linear algebra, Fourier transforms, and random number generation, which can be applied to arrays.\n",
    "\n"
   ]
  },
  {
   "cell_type": "markdown",
   "id": "0c50ec17-e9ea-4a48-8e75-a6071ca83b07",
   "metadata": {},
   "source": [
    "## What is NumPy Used for?\n",
    "#### NumPy is an important library generally used for:\n",
    "\n",
    "#### Machine Learning\n",
    "#### Data Science\n",
    "#### Image and Signal Processing\n",
    "#### Scientific Computing\n",
    "#### Quantum Computing\n"
   ]
  },
  {
   "cell_type": "markdown",
   "id": "22a91272-69fa-42f6-8e6a-9aadcf91fa3f",
   "metadata": {},
   "source": [
    "## Why Use NumPy?\n",
    "#### Some of the major reasons why we should use NumPy are:\n",
    "\n",
    "#### 1. Faster Execution\n",
    "\n",
    "#### In Python, we use lists to work with arrays. But when it comes to large array operations, Python lists are not optimized enough.\n",
    "\n",
    "#### Numpy arrays are optimized for complex mathematical and statistical operations. \n",
    "#### Operations on NumPy are up to 50x faster than iterating over native Python lists using loops."
   ]
  },
  {
   "cell_type": "markdown",
   "id": "7c204f08-7efd-4567-a7fa-a2e7c06207e2",
   "metadata": {},
   "source": [
    "#### Here're some of the reasons why NumPy is so fast:\n",
    "\n",
    "#### Uses specialized data structures called numpy arrays.\n",
    "#### Created using high-performance languages like C and C++.\n"
   ]
  },
  {
   "cell_type": "markdown",
   "id": "27a0cac1-3bd5-4b46-b562-c9c5308d8525",
   "metadata": {},
   "source": [
    "## 2. Used with Various Libraries\n",
    "\n",
    "#### NumPy is heavily used with various libraries like Pandas, Scipy, scikit-learn, etc."
   ]
  },
  {
   "cell_type": "markdown",
   "id": "4a15ded8-f93d-4cfd-97a7-fb7c1a8c773c",
   "metadata": {},
   "source": [
    "## import numpy as np\n",
    "#### The code above imports the numpy library in our program as an alias np.\n",
    "\n",
    "#### After this import statement, we can use NumPy functions and objects by calling them with np."
   ]
  },
  {
   "cell_type": "code",
   "execution_count": null,
   "id": "70a1e2b0-db3a-4217-8279-8361019a9e7f",
   "metadata": {},
   "outputs": [],
   "source": []
  },
  {
   "cell_type": "markdown",
   "id": "ca03e4a5-d659-47ae-84d7-a345ccfbbd1d",
   "metadata": {},
   "source": [
    "## NumPy Array Creation\n",
    "#### An array allows us to store a collection of multiple values in a single data structure.\n",
    "\n",
    "#### The NumPy array is similar to a list, but with added benefits such as being faster and more memory efficient.\n",
    "\n",
    "#### Numpy library provides various methods to work with data. To leverage all those features, we first need to create numpy arrays.\n",
    "\n",
    "#### There are multiple techniques to generate arrays in NumPy, and we will explore each of them below."
   ]
  },
  {
   "cell_type": "markdown",
   "id": "f2572efc-266c-4b1a-810f-84fe3014f43d",
   "metadata": {},
   "source": [
    "### Create Array Using Python List\n",
    "##### We can create a NumPy array using a Python List. For example,\n",
    "\n"
   ]
  },
  {
   "cell_type": "code",
   "execution_count": 9,
   "id": "d70bda97-c2d5-428f-8bed-7d72b0bf85e2",
   "metadata": {},
   "outputs": [],
   "source": [
    "import numpy as np"
   ]
  },
  {
   "cell_type": "code",
   "execution_count": 10,
   "id": "8e342162-bdb7-45c4-969a-0e06f4133aa8",
   "metadata": {},
   "outputs": [
    {
     "name": "stdout",
     "output_type": "stream",
     "text": [
      "[2 4 6 8]\n"
     ]
    }
   ],
   "source": [
    "# create a list named list1\n",
    "list1 = [2, 4, 6, 8]\n",
    "\n",
    "#create a list named list1\n",
    "array1 = np.array(list1)\n",
    "print(array1)"
   ]
  },
  {
   "cell_type": "code",
   "execution_count": 11,
   "id": "f167d2f1-aa8d-4aab-9f66-da0fb6bed7da",
   "metadata": {},
   "outputs": [
    {
     "name": "stdout",
     "output_type": "stream",
     "text": [
      "[ 2  4  6  8 10]\n"
     ]
    }
   ],
   "source": [
    "import numpy as np\n",
    "\n",
    "# create numpy array using a list\n",
    "array1 = np.array([2,4,6,8,10])\n",
    "print(array1)"
   ]
  },
  {
   "cell_type": "markdown",
   "id": "7ea318dd-bc17-4ad3-9ee7-80f67230b779",
   "metadata": {},
   "source": [
    "### Create an Array Using np.zeros()"
   ]
  },
  {
   "cell_type": "markdown",
   "id": "4d1bda55-da36-4076-847c-5add7bca8b4a",
   "metadata": {},
   "source": [
    "#### create an array with 4 elements filled with zeros"
   ]
  },
  {
   "cell_type": "code",
   "execution_count": 14,
   "id": "907bf556-40f2-415a-a0b6-0f49c76fefec",
   "metadata": {},
   "outputs": [
    {
     "name": "stdout",
     "output_type": "stream",
     "text": [
      "[0. 0. 0. 0.]\n"
     ]
    }
   ],
   "source": [
    "array1 = np.zeros(4)\n",
    "print(array1)"
   ]
  },
  {
   "cell_type": "code",
   "execution_count": 15,
   "id": "c1d130ac-a5ba-4b58-b6a9-291e03c0b36a",
   "metadata": {},
   "outputs": [
    {
     "data": {
      "text/plain": [
       "array([0., 0., 0., 0.])"
      ]
     },
     "execution_count": 15,
     "metadata": {},
     "output_type": "execute_result"
    }
   ],
   "source": [
    "array1 = np.zeros(4)\n",
    "array1"
   ]
  },
  {
   "cell_type": "code",
   "execution_count": 16,
   "id": "b18b0bb6-0345-4e47-9dd4-1efcbd74cd7a",
   "metadata": {},
   "outputs": [],
   "source": [
    "#Here, we have created an array named array1 with 4 elements all initialized to 0 using the np.zeros(4) function."
   ]
  },
  {
   "cell_type": "code",
   "execution_count": 17,
   "id": "884fcc4d-cd4c-4c85-9982-f27937f5cb8f",
   "metadata": {},
   "outputs": [],
   "source": [
    "#Note: Similarly we can use np.ones() to create an array filled with values 1."
   ]
  },
  {
   "cell_type": "code",
   "execution_count": 18,
   "id": "98e30ed7-d063-4301-bb1e-6009cfd0fd03",
   "metadata": {},
   "outputs": [
    {
     "name": "stdout",
     "output_type": "stream",
     "text": [
      "[1. 1. 1. 1.]\n"
     ]
    }
   ],
   "source": [
    "array1 = np.ones(4)\n",
    "print(array1)"
   ]
  },
  {
   "cell_type": "markdown",
   "id": "a14af26a-9111-4144-871b-073537cd397c",
   "metadata": {},
   "source": [
    "## Create an Array With np.arange()"
   ]
  },
  {
   "cell_type": "code",
   "execution_count": 20,
   "id": "ef50d415-15d9-463c-b421-7b3e04e306dd",
   "metadata": {},
   "outputs": [],
   "source": [
    "#The np.arange() function returns an array with values within a specified interval. For example,"
   ]
  },
  {
   "cell_type": "code",
   "execution_count": 21,
   "id": "81325ec8-a5fb-43d3-9d0f-e66d7e4221a7",
   "metadata": {},
   "outputs": [
    {
     "name": "stdout",
     "output_type": "stream",
     "text": [
      "Using np.arange(5): [0 1 2 3 4]\n"
     ]
    }
   ],
   "source": [
    "# create an array with values from 0 to 4\n",
    "array1 = np.arange(5)\n",
    "print(\"Using np.arange(5):\", array1)      "
   ]
  },
  {
   "cell_type": "code",
   "execution_count": 22,
   "id": "d107f158-1a50-4682-a92e-eaed0622f3d8",
   "metadata": {},
   "outputs": [
    {
     "name": "stdout",
     "output_type": "stream",
     "text": [
      "Using np.arange(1,9,2): [1 3 5 7]\n"
     ]
    }
   ],
   "source": [
    "# create an arrays with values from 1 to 8 a step of 2\n",
    "array2 = np.arange(1,9,2)\n",
    "print(\"Using np.arange(1,9,2):\", array2)"
   ]
  },
  {
   "cell_type": "code",
   "execution_count": 23,
   "id": "2747878f-0f74-45ba-8c0d-8c80e328b60d",
   "metadata": {},
   "outputs": [],
   "source": [
    "#In the above example, we have created arrays using the np.arange() function."
   ]
  },
  {
   "cell_type": "code",
   "execution_count": 24,
   "id": "f9b88708-0da9-46ae-a40d-6ad486276b34",
   "metadata": {},
   "outputs": [],
   "source": [
    "#np.arange(5) - create an array with 5 elements, where the values range from 0 to 4\n",
    "#np.arange(1, 9, 2) - create an array with 5 elements, where the values range from 1 to 8 with a step of 2."
   ]
  },
  {
   "cell_type": "markdown",
   "id": "c70961e5-f2b1-44ce-9934-d25ca32628fc",
   "metadata": {},
   "source": [
    "## Create an Array With np.random.rand()"
   ]
  },
  {
   "cell_type": "code",
   "execution_count": 26,
   "id": "c1085109-b730-46b8-b37d-2169f3a2ba4d",
   "metadata": {},
   "outputs": [
    {
     "name": "stdout",
     "output_type": "stream",
     "text": [
      "[0.94528346 0.01360906 0.12877958 0.21303353 0.79080557]\n"
     ]
    }
   ],
   "source": [
    "#The np.random.rand() function is used to create an array of random numbers.\n",
    "\n",
    "#Let's see an example to create an array of 5 random numbers,\n",
    "\n",
    "# generate an array of 5 random numbers\n",
    "\n",
    "array1 = np.random.rand(5)\n",
    "print(array1)"
   ]
  },
  {
   "cell_type": "code",
   "execution_count": 27,
   "id": "9c0f582e-42b2-40d3-8f37-8bab60fff724",
   "metadata": {},
   "outputs": [],
   "source": [
    "#In the above example, we have used the np.random.rand() function to create an array array1 with 5 random numbers.\n",
    "\n",
    "#This code generates a different output each time we run it."
   ]
  },
  {
   "cell_type": "markdown",
   "id": "df54afb2-541e-4843-b01a-106deec85ce6",
   "metadata": {},
   "source": [
    "### Create an Empty NumPy Array"
   ]
  },
  {
   "cell_type": "code",
   "execution_count": 29,
   "id": "27f3ecb4-9092-4c91-8cc0-0a2e8ce6cbe3",
   "metadata": {},
   "outputs": [],
   "source": [
    "import numpy as np"
   ]
  },
  {
   "cell_type": "code",
   "execution_count": 30,
   "id": "0cff1b24-d4c8-477e-bc81-1c6f238f27ec",
   "metadata": {},
   "outputs": [],
   "source": [
    "#To create an empty NumPy array, we use the np.empty() function. For example,"
   ]
  },
  {
   "cell_type": "code",
   "execution_count": 31,
   "id": "112dad7d-7681-4ba6-92a1-267cd3575b41",
   "metadata": {},
   "outputs": [
    {
     "name": "stdout",
     "output_type": "stream",
     "text": [
      "[0.94528346 0.01360906 0.12877958 0.21303353 0.79080557]\n"
     ]
    }
   ],
   "source": [
    "import numpy as np\n",
    "\n",
    "# create an empty array of length 5\n",
    "array1 = np.empty(5)\n",
    "\n",
    "print(array1)"
   ]
  },
  {
   "cell_type": "code",
   "execution_count": 32,
   "id": "9b314b02-36ec-4fdd-b516-116819128990",
   "metadata": {},
   "outputs": [],
   "source": [
    "#Here, we have created an empty array of length 4 using the np.empty() function.\n",
    "\n",
    "#If we look into the output of the code, we can see the empty array is actually not empty, it has some values in it.\n",
    "\n",
    "#It is because although we are creating an empty array, NumPy will try to add some value to it.\n",
    "#The values stored in the array are arbitrary and have no significance."
   ]
  },
  {
   "cell_type": "markdown",
   "id": "e09da409-2bf0-47e9-8019-4c36c89ae156",
   "metadata": {},
   "source": [
    "## NumPy N-D Array Creation\n",
    "#### NumPy is not restricted to 1-D arrays, it can have arrays of multiple dimensions, also known as N-dimensional arrays or ndarrays.\n",
    "\n",
    "#### An N-dimensional array refers to the number of dimensions in which the array is organized.\n",
    "\n",
    "#### An array can have any number of dimensions and each dimension can have any number of elements.\n",
    "\n",
    "#### For example, a 2D array represents a table with rows and columns, while a 3D array represents a cube with width, height, and depth.\n",
    "\n",
    "#### There are multiple techniques to create N-d arrays in NumPy, and we will explore each of them below."
   ]
  },
  {
   "cell_type": "markdown",
   "id": "187b6ffc-057a-412c-ab89-598cd4e1bf3c",
   "metadata": {},
   "source": [
    "## N-D Array Creation From List of Lists"
   ]
  },
  {
   "cell_type": "code",
   "execution_count": 35,
   "id": "bf78c078-24cb-49f5-bfc6-91074e1468fc",
   "metadata": {},
   "outputs": [],
   "source": [
    "#To create an N-dimensional NumPy array from a Python List,\n",
    "#we can use the np.array() function and pass the list as an argument."
   ]
  },
  {
   "cell_type": "markdown",
   "id": "6d2a22e2-1297-474f-a19a-b0717d04b692",
   "metadata": {},
   "source": [
    "### Create a 2-D NumPy Array"
   ]
  },
  {
   "cell_type": "code",
   "execution_count": 37,
   "id": "f5d581ba-ac11-4c29-a922-48834549a301",
   "metadata": {},
   "outputs": [],
   "source": [
    "#Let's create a 2D NumPy array with 2 rows and 4 columns using lists."
   ]
  },
  {
   "cell_type": "code",
   "execution_count": 38,
   "id": "b4606b63-c56a-4749-9629-7b87c73b682a",
   "metadata": {},
   "outputs": [
    {
     "name": "stdout",
     "output_type": "stream",
     "text": [
      "[[1 2 3 4]\n",
      " [5 6 7 8]]\n"
     ]
    }
   ],
   "source": [
    "import numpy as np\n",
    "\n",
    "# create a 2D array with 2 rows and 4 columns\n",
    "array1 = np.array([[1, 2, 3, 4],\n",
    "                  [5, 6, 7, 8]])\n",
    "\n",
    "print(array1)"
   ]
  },
  {
   "cell_type": "code",
   "execution_count": 39,
   "id": "9526e5c3-e914-467c-b6f4-3aaa82ea9567",
   "metadata": {},
   "outputs": [],
   "source": [
    "#In the above example, we first created a 2D list (list of lists) [[1, 2, 3, 4], [5, 6, 7, 8]] with 2 rows and 4 columns.\n",
    "#We then passed the list to the np.array() function to create a 2D array."
   ]
  },
  {
   "cell_type": "markdown",
   "id": "95048362-0858-4370-a734-9c0eebda6db9",
   "metadata": {},
   "source": [
    "## Create a 3-D NumPy Array"
   ]
  },
  {
   "cell_type": "code",
   "execution_count": 41,
   "id": "4a13b791-edfa-4f50-898b-decb4bac4062",
   "metadata": {},
   "outputs": [],
   "source": [
    "#Let's say we want to create a 3-D NumPy array consisting of two \"slices\" where each slice has 3 rows and 4 columns."
   ]
  },
  {
   "cell_type": "code",
   "execution_count": 42,
   "id": "e9b87aa2-42dc-4326-9cc7-03f750f0c640",
   "metadata": {},
   "outputs": [],
   "source": [
    "#Here's how we create our desired 3-D array,"
   ]
  },
  {
   "cell_type": "markdown",
   "id": "714a4f4e-1862-468a-8f05-b6285b6f3ba1",
   "metadata": {},
   "source": [
    "### create a 3D array with 2 \"slices\", each of 3 rows and 4 columns"
   ]
  },
  {
   "cell_type": "code",
   "execution_count": 44,
   "id": "d47086c9-d567-480d-8600-ceb944d13685",
   "metadata": {},
   "outputs": [
    {
     "name": "stdout",
     "output_type": "stream",
     "text": [
      "[[[1 2 3 4]\n",
      "  [4 5 6 7]\n",
      "  [7 8 5 3]]\n",
      "\n",
      " [[4 6 9 5]\n",
      "  [5 6 0 5]\n",
      "  [8 5 2 3]]]\n"
     ]
    }
   ],
   "source": [
    "array2 = np.array([[[1,2,3,4],[4,5,6,7],[7,8,5,3]] , [[4,6,9,5],[5,6,0,5],[8,5,2,3]]])\n",
    "print(array2)\n"
   ]
  },
  {
   "cell_type": "code",
   "execution_count": 45,
   "id": "b30a3719-b6f7-484d-9cb5-5a469c13649c",
   "metadata": {},
   "outputs": [],
   "source": [
    "#Here, we created a 3D list [list of lists of lists] and passed it to the np.array() function. This creates the 3-D array named array2."
   ]
  },
  {
   "cell_type": "code",
   "execution_count": 46,
   "id": "fb79adec-f0aa-44e9-a857-75afdb3cf2b0",
   "metadata": {},
   "outputs": [],
   "source": [
    "#In the 3D list,\n",
    "\n",
    "#The outermost list contains two elements, which are lists representing the two \"slices\" of the array.\n",
    "#Each slice is a 2-D array with 3 rows and 4 columns.\n",
    "#The innermost lists represent the individual rows of the 2-D arrays."
   ]
  },
  {
   "cell_type": "code",
   "execution_count": 47,
   "id": "7654555a-ee6a-49af-97d6-9899f3de5171",
   "metadata": {},
   "outputs": [],
   "source": [
    "#Note: In the context of an N-D array, a slice is like a subset of the array that we can take out by selecting a specific range of rows, columns."
   ]
  },
  {
   "cell_type": "markdown",
   "id": "41aa3dde-6087-45de-8651-b221f165caf4",
   "metadata": {},
   "source": [
    "## Creating N-d Arrays From Scratch\n"
   ]
  },
  {
   "cell_type": "code",
   "execution_count": 49,
   "id": "0b6c1da3-e332-4378-a4cc-53b8e127ba35",
   "metadata": {},
   "outputs": [],
   "source": [
    "#We saw how to create N-d NumPy arrays from Python lists. Now we'll see how we can create them from scratch.\n",
    "\n",
    "#To create multidimensional arrays from scratch we use functions such as\n",
    "#np.zeros()\n",
    "#np.arange()\n",
    "#np.random.rand()\n"
   ]
  },
  {
   "cell_type": "markdown",
   "id": "1dfece83-da68-4959-8ed4-451b18a01d5b",
   "metadata": {},
   "source": [
    "## Create N-D Arrays using np.zeros()"
   ]
  },
  {
   "cell_type": "code",
   "execution_count": 51,
   "id": "928f7aec-cd08-4583-b656-924104cbb67b",
   "metadata": {},
   "outputs": [],
   "source": [
    "#The np.zeros() function allows us to create N-D arrays filled with all zeros. For example,"
   ]
  },
  {
   "cell_type": "code",
   "execution_count": 52,
   "id": "802bc853-efd7-4a82-ac8a-46f895bf2156",
   "metadata": {},
   "outputs": [
    {
     "name": "stdout",
     "output_type": "stream",
     "text": [
      "2d array:\n",
      "[[0. 0. 0.]\n",
      " [0. 0. 0.]]\n"
     ]
    }
   ],
   "source": [
    "# create 2D array with 2 rows and 3 columns filled with zeros\n",
    "array1 = np.zeros((2,3))\n",
    "print(\"2d array:\")\n",
    "print(array1)"
   ]
  },
  {
   "cell_type": "code",
   "execution_count": 53,
   "id": "cb562149-8566-44d0-844b-40ca428f4f5e",
   "metadata": {},
   "outputs": [
    {
     "name": "stdout",
     "output_type": "stream",
     "text": [
      "3d array:\n",
      "[[[0. 0. 0. 0.]\n",
      "  [0. 0. 0. 0.]\n",
      "  [0. 0. 0. 0.]]\n",
      "\n",
      " [[0. 0. 0. 0.]\n",
      "  [0. 0. 0. 0.]\n",
      "  [0. 0. 0. 0.]]]\n"
     ]
    }
   ],
   "source": [
    "# create 3D array with dimensions 2x3x4 filled with zeros\n",
    "array2 = np.zeros((2,3,4))\n",
    "print(\"3d array:\")\n",
    "print(array2)"
   ]
  },
  {
   "cell_type": "markdown",
   "id": "9657b487-bcca-4266-b85b-0611f17ef9b7",
   "metadata": {},
   "source": [
    "#### In the above example, we have used the np.zeros() function to create a 2-D array and 3-D array filled with zeros respectively.\n",
    "#### np.zeros((2, 3)) - returns a zero filled 2-D array with 2 rows and 3 columns\n",
    "#### np.zeros((2, 3, 4)) - returns a zero filled 3-D array with 2 slices, each slice having 3 rows and 4 columns."
   ]
  },
  {
   "cell_type": "code",
   "execution_count": 55,
   "id": "2d8201f6-4cd6-4361-a6f6-a92208b9c3d4",
   "metadata": {},
   "outputs": [],
   "source": [
    "## Note: Similarly we can use np.ones() to create an array filled with values 1."
   ]
  },
  {
   "cell_type": "markdown",
   "id": "91d9504b-577f-4c57-9192-5114fd80f8f0",
   "metadata": {},
   "source": [
    "## Create N-D Array with a Specified Value"
   ]
  },
  {
   "cell_type": "code",
   "execution_count": 57,
   "id": "52544b5a-e905-488a-b4df-f98192755259",
   "metadata": {},
   "outputs": [],
   "source": [
    "#In NumPy, we can use the np.full() function to create a multidimensional array with a specified value."
   ]
  },
  {
   "cell_type": "markdown",
   "id": "655ee276-54a1-4b35-b4c0-6cb4b11a8840",
   "metadata": {},
   "source": [
    "### For example, to create a 2-D array with the value 5, we can do the following:"
   ]
  },
  {
   "cell_type": "code",
   "execution_count": 59,
   "id": "01705d64-de4a-4298-8dc2-6d05789f99cf",
   "metadata": {},
   "outputs": [
    {
     "name": "stdout",
     "output_type": "stream",
     "text": [
      "[[5 5]\n",
      " [5 5]]\n"
     ]
    }
   ],
   "source": [
    "# Create a 2-D array with elements initialized to 5 \n",
    "numpy_array = np.full((2,2),5)\n",
    "print(numpy_array)"
   ]
  },
  {
   "cell_type": "code",
   "execution_count": 60,
   "id": "6d0d38cd-bd5d-47a0-a60c-9ae6b3e8397c",
   "metadata": {},
   "outputs": [],
   "source": [
    "#Here, we have used the np.full() function to create a 2-D array where all elements are initialized to 5."
   ]
  },
  {
   "cell_type": "code",
   "execution_count": 61,
   "id": "9db6b972-ec76-4e7b-abab-75b9391a5113",
   "metadata": {},
   "outputs": [
    {
     "name": "stdout",
     "output_type": "stream",
     "text": [
      "[[6 6]\n",
      " [6 6]\n",
      " [6 6]]\n"
     ]
    }
   ],
   "source": [
    "numpy_array1 = np.full((3,2),6)\n",
    "print(numpy_array1)"
   ]
  },
  {
   "cell_type": "markdown",
   "id": "270e3e4f-0058-48ae-8731-540470ac2040",
   "metadata": {},
   "source": [
    "## Creating Arrays With np.random.rand()"
   ]
  },
  {
   "cell_type": "markdown",
   "id": "c7ff3cc8-449e-44e3-b36b-a42a835288ce",
   "metadata": {},
   "source": [
    "### The np.random.rand() function is used to create an array of random numbers."
   ]
  },
  {
   "cell_type": "code",
   "execution_count": 64,
   "id": "fc6cf4fb-2650-4e80-9bd7-7f4471ae1373",
   "metadata": {},
   "outputs": [],
   "source": [
    "#Let's see an example to create an array of 5 random numbers,"
   ]
  },
  {
   "cell_type": "code",
   "execution_count": 65,
   "id": "8381b84b-2f0f-4039-9657-54075130b88c",
   "metadata": {},
   "outputs": [
    {
     "name": "stdout",
     "output_type": "stream",
     "text": [
      "[[0.06482853 0.11720149]\n",
      " [0.56869463 0.81075977]]\n"
     ]
    }
   ],
   "source": [
    "# create a 2D array of 2 rows and 2 columns of random numbers\n",
    "array1 = np.random.rand(2, 2)\n",
    "print(array1)"
   ]
  },
  {
   "cell_type": "code",
   "execution_count": 66,
   "id": "a045992f-8c00-45d1-ac18-f6252a19cddf",
   "metadata": {},
   "outputs": [
    {
     "name": "stdout",
     "output_type": "stream",
     "text": [
      "[[[0.80457985 0.73288504]\n",
      "  [0.18438292 0.8441796 ]]\n",
      "\n",
      " [[0.05958431 0.70683651]\n",
      "  [0.151215   0.07229112]]]\n"
     ]
    }
   ],
   "source": [
    "# create a 3D array of shape (2, 2, 2) of random numbers\n",
    "array2= np.random.rand(2,2,2)\n",
    "print(array2)"
   ]
  },
  {
   "cell_type": "code",
   "execution_count": 67,
   "id": "46957c35-4d0e-4343-8985-e67ce87a8246",
   "metadata": {},
   "outputs": [],
   "source": [
    "#Here,\n",
    "#np.random.rand(2, 2) - creates a 2D array of 2 rows and 2 columns of random numbers.\n",
    "#np.random.rand(2, 2, 2) - creates a 3D array with 2 slices, each slice having 2 rows and 2 columns of random numbers."
   ]
  },
  {
   "cell_type": "markdown",
   "id": "6b68c845-c9bc-4e46-9756-d6d2920bafdc",
   "metadata": {},
   "source": [
    "## Create Empty N-D NumPy Array"
   ]
  },
  {
   "cell_type": "markdown",
   "id": "2bb05804-f963-4af7-b43f-d8bf4c73d31e",
   "metadata": {},
   "source": [
    "### To create an empty N-D NumPy array, we use the np.empty() function. For example,"
   ]
  },
  {
   "cell_type": "code",
   "execution_count": 70,
   "id": "6807c07d-0945-4181-8abd-9ae675e09df4",
   "metadata": {},
   "outputs": [
    {
     "name": "stdout",
     "output_type": "stream",
     "text": [
      "[[0.06482853 0.11720149]\n",
      " [0.56869463 0.81075977]]\n"
     ]
    }
   ],
   "source": [
    "# create an empty 2D array with 2 rows and 2 columns\n",
    "array1 = np.empty((2, 2))\n",
    "print(array1)"
   ]
  },
  {
   "cell_type": "code",
   "execution_count": 71,
   "id": "1125da99-1d29-46bb-b06d-6c31723899f6",
   "metadata": {},
   "outputs": [
    {
     "name": "stdout",
     "output_type": "stream",
     "text": [
      "[[[0.80457985 0.73288504]\n",
      "  [0.18438292 0.8441796 ]]\n",
      "\n",
      " [[0.05958431 0.70683651]\n",
      "  [0.151215   0.07229112]]]\n"
     ]
    }
   ],
   "source": [
    "# create an empty 3D array of shape (2, 2, 2) \n",
    "array2 = np.empty((2, 2, 2))\n",
    "print(array2)"
   ]
  },
  {
   "cell_type": "code",
   "execution_count": 72,
   "id": "c8dfeabe-0a8b-4136-bd97-da60df449f6a",
   "metadata": {},
   "outputs": [],
   "source": [
    "#In the above example, we used the np.empty() function to create an empty 2-D array and a 3-D array respectively.\n",
    "\n",
    "#If we look into the output of the code, we can see the empty array is actually not empty, it has some values in it.\n",
    "\n",
    "#It is because although we are creating an empty array, NumPy will try to add some value to it.\n",
    "#The values stored in the array are arbitrary and have no significance value."
   ]
  },
  {
   "cell_type": "markdown",
   "id": "15c9fa23-e07f-49cf-987a-8aa72addbe88",
   "metadata": {},
   "source": [
    "## NumPy Data Types\n",
    "#A data type is a way to specify the type of data that will be stored in an array. For example,"
   ]
  },
  {
   "cell_type": "code",
   "execution_count": 74,
   "id": "16f5ffc8-ba0d-4e03-9ecf-978914afa235",
   "metadata": {},
   "outputs": [],
   "source": [
    "array1 = np.array([2, 4, 6])\n",
    "#Here, the array1 array contains three integer elements, so the data type is Integer(int64)), by default.\n",
    "\n",
    "#NumPy provides us with several built-in data types to efficiently represent numerical data."
   ]
  },
  {
   "cell_type": "markdown",
   "id": "20cd9bc7-a84f-4d1c-8960-014e40b11671",
   "metadata": {},
   "source": [
    "## NumPy Data Types\n",
    "#NumPy offers a wider range of numerical data types than what is available in Python. \n",
    "#Here's the list of most commonly used numeric data types in NumPy:"
   ]
  },
  {
   "cell_type": "code",
   "execution_count": 76,
   "id": "31d28ec1-71cb-4147-9570-c76c7fdfac9f",
   "metadata": {},
   "outputs": [],
   "source": [
    "#int8, int16, int32, int64 -     signed integer types with different bit sizes\n",
    "#uint8, uint16, uint32, uint64 - unsigned integer types with different bit sizes\n",
    "#float32, float64 -             floating-point types with different precision levels\n",
    "#complex64, complex128 -       complex number types with different precision levels"
   ]
  },
  {
   "cell_type": "markdown",
   "id": "589bea52-c7e6-4a55-a250-53c45355236f",
   "metadata": {},
   "source": [
    "### Check Data Type of a NumPy Array"
   ]
  },
  {
   "cell_type": "code",
   "execution_count": 78,
   "id": "fcb29074-05ae-4c64-ba99-8e5cd7d66caa",
   "metadata": {},
   "outputs": [
    {
     "name": "stdout",
     "output_type": "stream",
     "text": [
      "int32\n"
     ]
    }
   ],
   "source": [
    "import numpy as np\n",
    "\n",
    "# create an array of integers \n",
    "array1 = np.array([2, 4, 6])\n",
    "# check the data type of array1\n",
    "print(array1.dtype)"
   ]
  },
  {
   "cell_type": "code",
   "execution_count": 79,
   "id": "52c1dd4a-fdff-4287-a192-a374970766ee",
   "metadata": {},
   "outputs": [],
   "source": [
    "#In the above example, we have used the dtype attribute to check the data type of the array1 array.\n",
    "\n",
    "#Since array1 is an array of integers, the data type of array1 is inferred as int64 by default."
   ]
  },
  {
   "cell_type": "markdown",
   "id": "a9cf9c9f-e908-451d-b66f-3f50c26c272f",
   "metadata": {},
   "source": [
    "## Example: Check Data Type of NumPy Array\n"
   ]
  },
  {
   "cell_type": "code",
   "execution_count": 81,
   "id": "d279dca2-964b-4dfc-97bb-9bc1c2b4a25a",
   "metadata": {},
   "outputs": [
    {
     "name": "stdout",
     "output_type": "stream",
     "text": [
      "int32\n"
     ]
    }
   ],
   "source": [
    "# create an array of  integers\n",
    "int_array = np.array([-3, -1, 0, 1])\n",
    "print(int_array.dtype)"
   ]
  },
  {
   "cell_type": "code",
   "execution_count": 82,
   "id": "fceb46f6-c5cf-40e6-bd32-5cb3e241957f",
   "metadata": {},
   "outputs": [
    {
     "name": "stdout",
     "output_type": "stream",
     "text": [
      "float64\n"
     ]
    }
   ],
   "source": [
    "#create an array of floating-point numbers\n",
    "float_array = np.array([0.1, 0.2, 0.3])\n",
    "print(float_array.dtype)"
   ]
  },
  {
   "cell_type": "code",
   "execution_count": 83,
   "id": "0c1ef2c7-fafa-43dd-8e3c-890633eb29f9",
   "metadata": {},
   "outputs": [
    {
     "name": "stdout",
     "output_type": "stream",
     "text": [
      "complex128\n"
     ]
    }
   ],
   "source": [
    "#create an array of complex numbers\n",
    "complex_array = np.array([1+2j, 2+3j, 3+4j])\n",
    "print(complex_array.dtype)"
   ]
  },
  {
   "cell_type": "code",
   "execution_count": 84,
   "id": "fca3888d-6380-412a-aa5a-431c075f6a2d",
   "metadata": {},
   "outputs": [],
   "source": [
    "#Here, we have created types of arrays and checked the default data types of these arrays using the dtype attribute.\n",
    "\n",
    "#int_array - contains four integer elements whose default data type is int64\n",
    "#float_array - contains three floating-point numbers whose default data type is float64\n",
    "#complex_array - contains three complex numbers whose default data type is complex128"
   ]
  },
  {
   "cell_type": "markdown",
   "id": "872254c2-96b5-4b6b-9ec2-a4c835ca20cc",
   "metadata": {},
   "source": [
    "## Creating NumPy Arrays With a Defined Data Type\n",
    "#### In NumPy, we can create an array with a defined data type by passing the dtype parameter while calling the np.array() function. For example,"
   ]
  },
  {
   "cell_type": "code",
   "execution_count": 86,
   "id": "d8957f33-2262-4c15-98d9-c2929d9aaac5",
   "metadata": {},
   "outputs": [
    {
     "name": "stdout",
     "output_type": "stream",
     "text": [
      "[4 6 5]\n",
      "int32\n"
     ]
    }
   ],
   "source": [
    "# create an array of 32-bit integers\n",
    "array1 = np.array([4,6,5],dtype = int)\n",
    "print(array1)\n",
    "print(array1.dtype)"
   ]
  },
  {
   "cell_type": "code",
   "execution_count": 87,
   "id": "825bb5db-75ec-4d45-aae8-bc3e5d776244",
   "metadata": {},
   "outputs": [],
   "source": [
    "#In the above example, we have created a NumPy array named array1 with a defined data type.\n",
    "\n",
    "#Notice the code,\n",
    "\n",
    "#np.array([1, 3, 7], dtype='int32')\n",
    "#Here, inside np.array(), we have passed an array [1, 3, 7] and set the dtype parameter to int32.\n",
    "\n",
    "#Since we have set the data type of the array to int32, each element of the array is represented as a 32-bit integer."
   ]
  },
  {
   "cell_type": "code",
   "execution_count": 88,
   "id": "5061d35d-31e7-4999-97f8-ea3282b56fb0",
   "metadata": {},
   "outputs": [
    {
     "name": "stdout",
     "output_type": "stream",
     "text": [
      "float64\n",
      "[ 4.   5.  63.2]\n"
     ]
    }
   ],
   "source": [
    "array2 = np.array([4,5,63.2],dtype = float)\n",
    "print(array2.dtype)\n",
    "print(array2)"
   ]
  },
  {
   "cell_type": "code",
   "execution_count": 89,
   "id": "f7f951e6-bbd3-42a9-85c7-e8780bce2fff",
   "metadata": {},
   "outputs": [
    {
     "name": "stdout",
     "output_type": "stream",
     "text": [
      "complex128\n",
      "[ 4. +0.j  5. +0.j 63.2+0.j]\n"
     ]
    }
   ],
   "source": [
    "array3 = np.array([4, 5, 63.2],dtype = complex)\n",
    "print(array3.dtype)\n",
    "print(array3)"
   ]
  },
  {
   "cell_type": "markdown",
   "id": "bc3972b3-ebab-4400-8286-caf132dfec2e",
   "metadata": {},
   "source": [
    "## Example: Creating NumPy Arrays With a Defined Data Type"
   ]
  },
  {
   "cell_type": "code",
   "execution_count": 91,
   "id": "36d58a3f-1c71-40fb-940e-d944ce6f5e29",
   "metadata": {},
   "outputs": [
    {
     "name": "stdout",
     "output_type": "stream",
     "text": [
      "[2 4 6]\n",
      "int32\n"
     ]
    }
   ],
   "source": [
    "# create an array of 8-bit integers\n",
    "array4 = np.array([2, 4, 6], dtype=int)\n",
    "print(array4)\n",
    "print(array4.dtype)\n"
   ]
  },
  {
   "cell_type": "markdown",
   "id": "a0684635-048e-44c7-a094-0c7f3e2f5fc8",
   "metadata": {},
   "source": [
    "## NumPy Type Conversion"
   ]
  },
  {
   "cell_type": "markdown",
   "id": "01a3c429-dfb0-4c6d-b40d-fb9ff403f061",
   "metadata": {},
   "source": [
    "#### In NumPy, we can convert the data type of an array using the astype() method. For example,\n",
    "\n"
   ]
  },
  {
   "cell_type": "code",
   "execution_count": 94,
   "id": "25780288-fce1-4bd9-89b5-63200e8d2005",
   "metadata": {},
   "outputs": [
    {
     "name": "stdout",
     "output_type": "stream",
     "text": [
      "[1 3 5 7] int32\n",
      "[1. 3. 5. 7.] float64\n"
     ]
    }
   ],
   "source": [
    "# create an array of integers\n",
    "int_array = np.array([1, 3, 5, 7])\n",
    "\n",
    "# convert data type of int_array to float\n",
    "float_array = int_array.astype(float)\n",
    "\n",
    "print(int_array,int_array.dtype)\n",
    "print(float_array,float_array.dtype)"
   ]
  },
  {
   "cell_type": "markdown",
   "id": "5b1f79ed-0a7c-4ea5-8807-618538c46fb6",
   "metadata": {},
   "source": [
    "#### Here, int_array.astype('float') converts the data type of int_array from int64 to float64 using astype()."
   ]
  },
  {
   "cell_type": "markdown",
   "id": "5de5b8f5-cda6-45ad-b397-57cc2ce4ede2",
   "metadata": {},
   "source": [
    "## NumPy Array Attributes\n",
    "#In NumPy, attributes are properties of NumPy arrays that provide information about the array's shape, size, data type, dimension, and so on.\n",
    "\n",
    "#For example, to get the dimension of an array, we can use the ndim attribute.\n",
    "\n",
    "#There are numerous attributes available in NumPy, which we'll learn below."
   ]
  },
  {
   "cell_type": "markdown",
   "id": "1af72b02-210c-44af-82e0-686d49dc06fd",
   "metadata": {},
   "source": [
    "## Common NumPy Attributes\n",
    "##### Here are some of the commonly used NumPy attributes:\n",
    "\n",
    "### Attributes\tDescription\n",
    "#### ndim\treturns number of dimension of the array\n",
    "\n",
    "#### size\treturns number of elements in the array\n",
    "\n",
    "#### dtype\treturns data type of elements in the array\n",
    "\n",
    "#### shape\treturns the size of the array in each dimension.\n",
    "\n",
    "#### itemsize\treturns the size (in bytes) of each elements in the array\n",
    "\n",
    "#### data\treturns the buffer containing actual elements of the array in memory"
   ]
  },
  {
   "cell_type": "code",
   "execution_count": 98,
   "id": "44dd42f3-7fed-4db5-9f12-c551b8bbc94b",
   "metadata": {},
   "outputs": [],
   "source": [
    "#To access the Numpy attributes, we use the . notation. For example,\n",
    "#array1.ndim\n",
    "#This returns the number of dimensions in array1."
   ]
  },
  {
   "cell_type": "markdown",
   "id": "410a5290-e01c-4499-98a9-629778aff175",
   "metadata": {},
   "source": [
    "## Numpy Array ndim Attribute"
   ]
  },
  {
   "cell_type": "markdown",
   "id": "96412338-d5d8-45d1-8d22-678194ee9121",
   "metadata": {},
   "source": [
    "### The ndim attribute returns the number of dimensions in the numpy array. For example,"
   ]
  },
  {
   "cell_type": "code",
   "execution_count": 101,
   "id": "96328e10-2bbd-4736-bdea-9ddd7ac24a4b",
   "metadata": {},
   "outputs": [
    {
     "name": "stdout",
     "output_type": "stream",
     "text": [
      "2\n",
      "[[2 4 6]\n",
      " [1 3 5]]\n"
     ]
    }
   ],
   "source": [
    "import numpy as np\n",
    "\n",
    "# create a 2-D array \n",
    "array1 = np.array([[2, 4, 6], [1, 3, 5]])\n",
    "\n",
    "# check the dimension of array1\n",
    "print(array1.ndim)\n",
    "print(array1)"
   ]
  },
  {
   "cell_type": "code",
   "execution_count": 102,
   "id": "1c059adb-a2ca-478a-b12b-b56e0a1a8016",
   "metadata": {},
   "outputs": [],
   "source": [
    "#In this example, array1.ndim returns the number of dimensions present in array1. As array1 is a 2D array, we got 2 as an output."
   ]
  },
  {
   "cell_type": "markdown",
   "id": "a4e90598-b1d3-4020-9300-e67b4ae7097f",
   "metadata": {},
   "source": [
    "## NumPy Array size Attribute\n"
   ]
  },
  {
   "cell_type": "markdown",
   "id": "f22d4d63-52f1-4f43-b7ed-3e492fdf0502",
   "metadata": {},
   "source": [
    "### The size attribute returns the total number of elements in the given array.\n",
    "#Let's see an example."
   ]
  },
  {
   "cell_type": "code",
   "execution_count": 105,
   "id": "3149e435-97ba-4dc7-91ad-8d6665685783",
   "metadata": {},
   "outputs": [
    {
     "name": "stdout",
     "output_type": "stream",
     "text": [
      "[[2 4 6]\n",
      " [1 3 5]]\n",
      "6\n"
     ]
    }
   ],
   "source": [
    "array2 = np.array([[2, 4, 6], [1, 3, 5]])\n",
    "print(array2)\n",
    "\n",
    "# return total number of elements in array1\n",
    "print(array2.size)"
   ]
  },
  {
   "cell_type": "code",
   "execution_count": 106,
   "id": "8fd1b939-6ef2-404f-ae5e-526303f8e81b",
   "metadata": {},
   "outputs": [],
   "source": [
    "#In this example, array1.size returns the total number of elements in the array1 array, regardless of the number of dimensions.\n",
    "#Since these are a total of 6 elements in array1, the size attribute returns 6"
   ]
  },
  {
   "cell_type": "markdown",
   "id": "5d9a5949-9f04-4250-a839-6a64011cda64",
   "metadata": {},
   "source": [
    "## NumPy Array shape Attribute\n"
   ]
  },
  {
   "cell_type": "markdown",
   "id": "6685b183-8d0a-4365-807b-35bb5724099a",
   "metadata": {},
   "source": [
    "### In NumPy, the shape attribute returns a tuple of integers that gives the size of the array in each dimension. For example,\n"
   ]
  },
  {
   "cell_type": "code",
   "execution_count": 109,
   "id": "3ed4bc6b-1dfb-4927-8935-4f02628ebd83",
   "metadata": {},
   "outputs": [
    {
     "name": "stdout",
     "output_type": "stream",
     "text": [
      "[[2 8 6]\n",
      " [1 3 6]]\n",
      "(2, 3)\n"
     ]
    }
   ],
   "source": [
    "array3 = np.array([[2, 8, 6], [1, 3, 6]])\n",
    "print(array3)\n",
    "# return a tuple that gives size of array in each dimension\n",
    "print(array3.shape)"
   ]
  },
  {
   "cell_type": "markdown",
   "id": "d1906e80-aa36-4dc8-9b9b-2672c8c53ca0",
   "metadata": {},
   "source": [
    "#### Here, array1 is a 2-D array that has 2 rows and 3 columns. So array1.shape returns the tuple (2,3) as an output."
   ]
  },
  {
   "cell_type": "markdown",
   "id": "b8f0d0f8-92cc-489c-8d56-c7c21014af79",
   "metadata": {},
   "source": [
    "## NumPy Array dtype Attribute"
   ]
  },
  {
   "cell_type": "markdown",
   "id": "99081e4a-c4c0-4634-8318-a1ca6ecfbadd",
   "metadata": {},
   "source": [
    "#### We can use the dtype attribute to check the datatype of a NumPy array. For example,\n"
   ]
  },
  {
   "cell_type": "code",
   "execution_count": 113,
   "id": "d054abfb-c2b3-417c-9608-50d41bc8ce53",
   "metadata": {},
   "outputs": [
    {
     "name": "stdout",
     "output_type": "stream",
     "text": [
      "float64\n"
     ]
    }
   ],
   "source": [
    "# create an array of floating \n",
    "array1 = np.array([6.5, 7.7, 8.1])\n",
    "\n",
    "# check the data type of array1\n",
    "print(array1.dtype) "
   ]
  },
  {
   "cell_type": "code",
   "execution_count": 114,
   "id": "3c5f14c1-4636-4a96-bc4f-bac89d1125cf",
   "metadata": {},
   "outputs": [],
   "source": [
    "#In the above example, the dtype attribute returns the data type of array1.\n",
    "#Since array1 is an array of integers, the data type of array1 is inferred as int64 by default."
   ]
  },
  {
   "cell_type": "markdown",
   "id": "55777e1e-5704-422e-b230-75fe345e92d2",
   "metadata": {},
   "source": [
    "## NumPy Array itemsize Attribute"
   ]
  },
  {
   "cell_type": "code",
   "execution_count": 116,
   "id": "a64e763f-171c-4abf-be55-a9110b267a32",
   "metadata": {},
   "outputs": [],
   "source": [
    "#In NumPy, the itemsize attribute determines size (in bytes) of each element in the array. For example,"
   ]
  },
  {
   "cell_type": "code",
   "execution_count": 117,
   "id": "0ba12e89-5cb4-4328-8041-5d0e9e3b7c31",
   "metadata": {},
   "outputs": [
    {
     "name": "stdout",
     "output_type": "stream",
     "text": [
      "8\n",
      "4\n"
     ]
    }
   ],
   "source": [
    "import numpy as np\n",
    "\n",
    "# create a default 1-D array of integers\n",
    "array5 = np.array([6, 7, 8, 10, 13,85],dtype=np.int64)\n",
    "\n",
    "# create a 1-D array of 32-bit integers \n",
    "array6 = np.array([6, 7, 8, 10, 13,45], dtype=np.int32)\n",
    "\n",
    "# use of itemsize to determine size of each array element of array1 and array2\n",
    "print(array5.itemsize)  \n",
    "print(array6.itemsize)  "
   ]
  },
  {
   "cell_type": "code",
   "execution_count": 118,
   "id": "84a99ee6-5503-4916-a97c-bf699e505f9c",
   "metadata": {},
   "outputs": [],
   "source": [
    "#array1 is an array containing 64-bit integers by default, which uses 8 bytes of memory per element.\n",
    "#So, itemsize returns 8 as the size of each element.\n",
    "#array2 is an array of 32-bit integers, so each element in this array uses only 4 bytes of memory.\n",
    "#So, itemsize returns 4 as the size of each element."
   ]
  },
  {
   "cell_type": "markdown",
   "id": "055b9a18-1e72-4ee3-9458-8ce4a686fb33",
   "metadata": {},
   "source": [
    "## NumPy Array data Attribute\n"
   ]
  },
  {
   "cell_type": "code",
   "execution_count": 120,
   "id": "ae9c33ad-aa17-4dba-8304-7016dc06b375",
   "metadata": {},
   "outputs": [],
   "source": [
    "#In NumPy, we can get a buffer containing actual elements of the array in memory using the data attribute.\n",
    "\n",
    "#In simpler terms, \n",
    "#the data attribute is like a pointer to the memory location where the array's data is stored in the computer's memory.\n",
    "\n",
    "#Let's see an example."
   ]
  },
  {
   "cell_type": "code",
   "execution_count": 121,
   "id": "094a6ff1-2f42-4b47-8b2f-2ef116df35cc",
   "metadata": {},
   "outputs": [],
   "source": [
    "import numpy as np"
   ]
  },
  {
   "cell_type": "code",
   "execution_count": 122,
   "id": "b442075b-9a7f-4466-aa98-8e90f8e9b41a",
   "metadata": {},
   "outputs": [
    {
     "name": "stdout",
     "output_type": "stream",
     "text": [
      "<memory at 0x000001E8644BB1C0>\n",
      "<memory at 0x000001E861EB6B50>\n"
     ]
    }
   ],
   "source": [
    "array1 = np.array([6, 7, 8])\n",
    "array2 = np.array([[1, 2, 3],[6, 7, 8]])\n",
    "print(array1.data)\n",
    "print(array2.data)\n"
   ]
  },
  {
   "cell_type": "code",
   "execution_count": 123,
   "id": "d704d2ff-0fe7-46e8-b92c-e591d3a70bf1",
   "metadata": {},
   "outputs": [],
   "source": [
    "#Here, the data attribute returns the memory addresses of the data for array1 and array2 respectively."
   ]
  },
  {
   "cell_type": "markdown",
   "id": "cc8dc354-4201-433e-9a16-133efd3c1cac",
   "metadata": {},
   "source": [
    "## NumPy Input Output"
   ]
  },
  {
   "cell_type": "code",
   "execution_count": 125,
   "id": "a3327428-f68b-4532-b61b-2b86bd574747",
   "metadata": {},
   "outputs": [],
   "source": [
    "#NumPy offers input/output (I/O) functions for loading and saving data to and from files.\n",
    "\n",
    "#Input/output functions support a variety of file formats, including binary and text formats.\n",
    "\n",
    "#The binary format is designed for efficient storage and retrieval of large arrays.\n",
    "#The text format is more human-readable and can be easily edited in a text editor."
   ]
  },
  {
   "cell_type": "markdown",
   "id": "7b5ef265-7f52-4af9-9522-02326dd163fa",
   "metadata": {},
   "source": [
    "## Most Commonly Used I/O Functions\n"
   ]
  },
  {
   "cell_type": "markdown",
   "id": "00ac98e5-cf52-418a-8692-b5724f00d1f1",
   "metadata": {},
   "source": [
    "### Function\tDescription\n",
    "##### save()\tsaves an array to a binary file in the NumPy .npy format.\n",
    "##### load()\tloads data from a binary file in the NumPy .npy format\n",
    "##### savetxt()\tsaves an array to a text file in a specific format\n",
    "##### loadtxt()\tloads data from a text file.\n"
   ]
  },
  {
   "cell_type": "markdown",
   "id": "0ad88b02-46b9-4382-9599-44793738ee05",
   "metadata": {},
   "source": [
    "## NumPy save() Function\n"
   ]
  },
  {
   "cell_type": "markdown",
   "id": "476d084e-ae9a-40ca-b12c-0c4ba8af22e5",
   "metadata": {},
   "source": [
    "#### In NumPy, the save() function is used to save an array to a binary file in the NumPy .npy format.\n",
    "\n",
    "#Here's the syntax of the save() function,\n",
    "\n",
    "#np.save(file, array)"
   ]
  },
  {
   "cell_type": "code",
   "execution_count": 130,
   "id": "9c6e06d0-248e-4e39-b7b3-d8d5fcf96a3e",
   "metadata": {},
   "outputs": [],
   "source": [
    "#file - specifies the file name (along with path if required)\n",
    "\n",
    "#array - specifies the NumPy array to be saved"
   ]
  },
  {
   "cell_type": "code",
   "execution_count": 131,
   "id": "1d6e9a70-d6ef-4fc6-8dcd-91ac3b824bc9",
   "metadata": {},
   "outputs": [],
   "source": [
    "#Now, let's see an example.\n",
    " #create a NumPy array\n",
    "array1 = np.array([[1, 3, 5],  [7, 9, 11]])\n",
    "\n",
    "# save the array to a file\n",
    "np.save('file1',array1)\n",
    "#Here, we saved the NumPy array named array1 to the binary file named file1.npy in our current directory.\n"
   ]
  },
  {
   "cell_type": "markdown",
   "id": "74e1e63d-edd2-4a71-88ce-ec6651025ef7",
   "metadata": {},
   "source": [
    "## NumPy load() Function\n"
   ]
  },
  {
   "cell_type": "markdown",
   "id": "c11be33d-2a1d-4db3-8905-6b6cc4ed7471",
   "metadata": {},
   "source": [
    "### in the previous example, we saved an array to a binary file. Now we'll load that saved file using the load() function."
   ]
  },
  {
   "cell_type": "code",
   "execution_count": 134,
   "id": "fb985c69-82ef-40ca-aebb-89809781538b",
   "metadata": {},
   "outputs": [
    {
     "name": "stdout",
     "output_type": "stream",
     "text": [
      "[[ 1  3  5]\n",
      " [ 7  9 11]]\n"
     ]
    }
   ],
   "source": [
    "#Let's see an example.\n",
    "\n",
    "# load the saved NumPy array\n",
    "loaded_array = np.load('file1.npy')\n",
    "# display the loaded array\n",
    "print(loaded_array)\n"
   ]
  },
  {
   "cell_type": "code",
   "execution_count": 135,
   "id": "87e92ab3-8708-45c3-b881-91381e62f0c0",
   "metadata": {},
   "outputs": [],
   "source": [
    "#Here, we have used the load() function to read a binary file named file1.npy.\n",
    "#This is the same file we created and saved using save() function in the last example."
   ]
  },
  {
   "cell_type": "markdown",
   "id": "256afd10-0d8c-4f69-b606-0be964c052b3",
   "metadata": {},
   "source": [
    "## NumPy savetxt() Function\n"
   ]
  },
  {
   "cell_type": "markdown",
   "id": "62ad75f2-d82c-426c-86dc-b277114bbd53",
   "metadata": {},
   "source": [
    "#### In NumPy, we use the savetxt() function to save an array to a text file.\n",
    "\n",
    "#### Here's the syntax of the savetxt() function:"
   ]
  },
  {
   "cell_type": "markdown",
   "id": "dd932d01-eb29-4a9b-b419-944f83cbd7a4",
   "metadata": {},
   "source": [
    "#np.save(file, array)"
   ]
  },
  {
   "cell_type": "code",
   "execution_count": 139,
   "id": "e1b21a9f-f174-49d6-addc-325d738af91d",
   "metadata": {},
   "outputs": [],
   "source": [
    "#file - specifies the file name\n",
    "#array - specifies the NumPy array to be saved"
   ]
  },
  {
   "cell_type": "code",
   "execution_count": 140,
   "id": "8f3c32d7-924e-4da4-b380-bc3b22512c6a",
   "metadata": {},
   "outputs": [],
   "source": [
    "#Now, let's see an example,\n",
    "#create a NumPy array\n",
    "array2 = np.array([[1, 3, 5],  [7, 9, 11]])\n",
    "np.savetxt('file2.txt',array2)\n",
    "#The code above will save the NumPy array array2 to the text file named file2.txt in our current directory."
   ]
  },
  {
   "cell_type": "markdown",
   "id": "c162e6bf-b62d-4f55-8332-9b11b56dd1cb",
   "metadata": {},
   "source": [
    "##### We use the loadtxt() function to load the saved txt file.\n",
    "\n",
    "##### Let's see an example to load the file2.txt file that we saved earlier."
   ]
  },
  {
   "cell_type": "code",
   "execution_count": 142,
   "id": "a0ae8bbf-d520-4c5e-ae9e-6f1eefe6812d",
   "metadata": {},
   "outputs": [
    {
     "name": "stdout",
     "output_type": "stream",
     "text": [
      "[[ 1.  3.  5.]\n",
      " [ 7.  9. 11.]]\n"
     ]
    }
   ],
   "source": [
    "# load the saved NumPy array\n",
    "loaded_array = np.loadtxt('file2.txt')\n",
    "print(loaded_array)"
   ]
  },
  {
   "cell_type": "markdown",
   "id": "1caecb96-9884-434d-879d-f843fb8aa72d",
   "metadata": {},
   "source": [
    "##### Here, we have used the loadtxt() function to load the text file named file2.\n",
    "##### txt that was previously created and saved using the savetxt() function.\n",
    "\n",
    "##### Note: The values in the loaded array have dots . because loadtxt() reads the values as floating point numbers by default.\n",
    "\n"
   ]
  },
  {
   "cell_type": "markdown",
   "id": "8651a924-dba8-4fa7-9ede-758d684c30a6",
   "metadata": {},
   "source": [
    "## Numpy Array Indexing\n"
   ]
  },
  {
   "cell_type": "markdown",
   "id": "43192642-3863-4e78-ab8b-2db0cecf26e3",
   "metadata": {},
   "source": [
    "#### In NumPy, each element in an array is associated with a number. The number is known as an array index.\n",
    "\n",
    "#### Let's see an example to demonstrate NumPy array indexing.\n"
   ]
  },
  {
   "cell_type": "code",
   "execution_count": 146,
   "id": "a219ae07-d1d8-4b9a-9a5b-ee9f03593a2c",
   "metadata": {},
   "outputs": [],
   "source": [
    "#1,3,5,7,9\n",
    "#0 1 2 3 4.......index  "
   ]
  },
  {
   "cell_type": "code",
   "execution_count": 147,
   "id": "1bb78301-ff40-4d0b-89dd-89ff2660e864",
   "metadata": {},
   "outputs": [],
   "source": [
    "#In the above array, 5 is the 3rd element. However, its index is 2.\n",
    "\n",
    "#This is because the array indexing starts from 0, that is, the first element of the array has index 0, the second element has index 1, and so on.\n",
    "\n",
    "#Now, we'll see how we can access individual items from the array using the index number."
   ]
  },
  {
   "cell_type": "markdown",
   "id": "c21e0b50-057a-4ee4-bbd1-36e06395ca2e",
   "metadata": {},
   "source": [
    "## Access Array Elements Using Index\n",
    "#We can use indices to access individual elements of a NumPy array.\n",
    "\n",
    "#Suppose we have a NumPy array:\n",
    "\n"
   ]
  },
  {
   "cell_type": "code",
   "execution_count": 149,
   "id": "ecf15395-b624-42b6-a2f8-7cfd61be855d",
   "metadata": {},
   "outputs": [],
   "source": [
    "# array1 = np.array([1, 3, 5, 7, 9])\n",
    "#Now, we can use the index number to access array elements as:\n",
    "#array1[0] - to access the first element, i.e. 1\n",
    "#array1[2] - to access the third element, i.e. 5\n",
    "#array1[4] - #to access the fifth element, i.e. 9"
   ]
  },
  {
   "cell_type": "markdown",
   "id": "c8f2e225-0821-4151-b018-c5e794cd2ceb",
   "metadata": {},
   "source": [
    "### Modify Array Elements Using Index\n"
   ]
  },
  {
   "cell_type": "code",
   "execution_count": 151,
   "id": "8bf105c4-df02-47f8-a834-994f9e389201",
   "metadata": {},
   "outputs": [
    {
     "name": "stdout",
     "output_type": "stream",
     "text": [
      "After modifying first element: [12  4  6  8 10]\n"
     ]
    }
   ],
   "source": [
    "# create a numpy array\n",
    "numbers = np.array([2, 4, 6, 8, 10])\n",
    "\n",
    "# change the value of the first element\n",
    "numbers[0] = 12\n",
    "print(\"After modifying first element:\",numbers)    "
   ]
  },
  {
   "cell_type": "markdown",
   "id": "ef16e34e-5cf9-4042-901d-ddffaa999e1e",
   "metadata": {},
   "source": [
    "### NumPy Negative Array Indexing\n"
   ]
  },
  {
   "cell_type": "code",
   "execution_count": 153,
   "id": "4c667d30-1652-4579-84b1-56b4b6555f5b",
   "metadata": {},
   "outputs": [],
   "source": [
    "#NumPy allows negative indexing for its array. The index of -1 refers to the last item, -2 to the second last item and so on."
   ]
  },
  {
   "cell_type": "code",
   "execution_count": 154,
   "id": "f04b4df9-6415-4bec-8bda-5e4a1016300a",
   "metadata": {},
   "outputs": [
    {
     "name": "stdout",
     "output_type": "stream",
     "text": [
      "9\n",
      "modify number is: [ 1  3 -1  7  9]\n"
     ]
    }
   ],
   "source": [
    "import numpy as np\n",
    "\n",
    "# create a numpy array\n",
    "numbers = np.array([1, 3, 5, 7, 9])\n",
    "\n",
    "# access the last element\n",
    "print(numbers[-1])   \n",
    "\n",
    "numbers[-3] = -1\n",
    "print(\"modify number is:\",numbers)"
   ]
  },
  {
   "cell_type": "code",
   "execution_count": 167,
   "id": "0b6b2d7f-7162-4b12-ae15-50d5afc5608c",
   "metadata": {},
   "outputs": [
    {
     "name": "stdout",
     "output_type": "stream",
     "text": [
      "6\n",
      "5\n",
      "2\n",
      "3\n"
     ]
    }
   ],
   "source": [
    "array1 = np.array([[1, 3, 5], [7, 9, 2],[4, 6, 8]])\n",
    "print(array1[2,1])\n",
    "print(array1[0,2])\n",
    "print(array1[1,2])\n",
    "print(array1[0,1])"
   ]
  },
  {
   "cell_type": "code",
   "execution_count": 179,
   "id": "c9f31df3-8f87-4d1a-a916-e1f8f59f049a",
   "metadata": {},
   "outputs": [
    {
     "name": "stdout",
     "output_type": "stream",
     "text": [
      "Second Row: [7 9 2]\n"
     ]
    }
   ],
   "source": [
    "#create a 2D array \n",
    "array2 = np.array([[1, 3, 5],  [7, 9, 2],  [4, 6, 8]])\n",
    "# access the second row of the array\n",
    "second_row = array2[1, :]\n",
    "print(\"Second Row:\", second_row)  \n"
   ]
  },
  {
   "cell_type": "code",
   "execution_count": 181,
   "id": "c40288c9-facc-4b31-8e1d-32b7b9c89287",
   "metadata": {},
   "outputs": [
    {
     "name": "stdout",
     "output_type": "stream",
     "text": [
      "[4 6 8]\n"
     ]
    }
   ],
   "source": [
    "array2 = np.array([[1, 3, 5],  [7, 9, 2],  [4, 6, 8]])\n",
    "third_raw = array2[2, :]\n",
    "print(third_raw)"
   ]
  },
  {
   "cell_type": "code",
   "execution_count": 185,
   "id": "4312b415-5982-4f63-b88e-e80bf65f8d2f",
   "metadata": {},
   "outputs": [
    {
     "name": "stdout",
     "output_type": "stream",
     "text": [
      "19\n"
     ]
    }
   ],
   "source": [
    "import numpy as np\n",
    "\n",
    "# create a 3D array with shape (2, 3, 4)\n",
    "array3 = np.array([[[1, 2, 3, 4],  [5, 6, 7, 8], [9, 10, 11, 12]]   ,   [[13, 14, 15, 16], [17, 18, 19, 20],  [21, 22, 23, 24]]])\n",
    "# access a specific element of the array\n",
    "element = array3[1,1,2]\n",
    "print(element)\n"
   ]
  },
  {
   "cell_type": "code",
   "execution_count": 191,
   "id": "f7c2edd8-7e2d-43d6-b421-74b36698bff7",
   "metadata": {},
   "outputs": [
    {
     "name": "stdout",
     "output_type": "stream",
     "text": [
      "[[13 14 15 16]\n",
      " [17 18 19 20]\n",
      " [21 22 23 24]]\n"
     ]
    }
   ],
   "source": [
    "print(array3[1, :])\n"
   ]
  },
  {
   "cell_type": "code",
   "execution_count": 193,
   "id": "c73c6e61-df89-41f4-a9a8-e01971aae646",
   "metadata": {},
   "outputs": [
    {
     "name": "stdout",
     "output_type": "stream",
     "text": [
      "[[ 5  6  7  8]\n",
      " [17 18 19 20]]\n"
     ]
    }
   ],
   "source": [
    "print(array3[:, 1])"
   ]
  },
  {
   "cell_type": "code",
   "execution_count": 199,
   "id": "8c28b2e3-5f34-4c77-b3c3-034efaeacbe4",
   "metadata": {},
   "outputs": [
    {
     "name": "stdout",
     "output_type": "stream",
     "text": [
      "[[[ 1  2  3  4]\n",
      "  [ 5  6  7  8]\n",
      "  [ 9 10 11 12]]\n",
      "\n",
      " [[13 14 15 16]\n",
      "  [17 18 19 20]\n",
      "  [21 22 23 24]]]\n"
     ]
    }
   ],
   "source": [
    "print(array3[ :2: ])"
   ]
  },
  {
   "cell_type": "code",
   "execution_count": 203,
   "id": "04723451-24aa-451d-8235-db81abc325b7",
   "metadata": {},
   "outputs": [
    {
     "data": {
      "text/plain": [
       "array([[13, 14, 15, 16],\n",
       "       [17, 18, 19, 20],\n",
       "       [21, 22, 23, 24]])"
      ]
     },
     "execution_count": 203,
     "metadata": {},
     "output_type": "execute_result"
    }
   ],
   "source": [
    "array3[1, :] "
   ]
  },
  {
   "cell_type": "code",
   "execution_count": null,
   "id": "c296dc04-810f-41a2-8606-82ea4b00b119",
   "metadata": {},
   "outputs": [],
   "source": []
  }
 ],
 "metadata": {
  "kernelspec": {
   "display_name": "Python 3 (ipykernel)",
   "language": "python",
   "name": "python3"
  },
  "language_info": {
   "codemirror_mode": {
    "name": "ipython",
    "version": 3
   },
   "file_extension": ".py",
   "mimetype": "text/x-python",
   "name": "python",
   "nbconvert_exporter": "python",
   "pygments_lexer": "ipython3",
   "version": "3.12.4"
  }
 },
 "nbformat": 4,
 "nbformat_minor": 5
}
