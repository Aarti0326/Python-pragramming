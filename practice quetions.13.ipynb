{
 "cells": [
  {
   "cell_type": "code",
   "execution_count": 1,
   "id": "e4ad16ea-6eba-48f3-a477-b9c5a4d625dd",
   "metadata": {},
   "outputs": [
    {
     "name": "stdin",
     "output_type": "stream",
     "text": [
      "enter your marks : 25\n"
     ]
    },
    {
     "name": "stdout",
     "output_type": "stream",
     "text": [
      "you are not eligible for next exam\n",
      "good luck for next time\n"
     ]
    }
   ],
   "source": [
    "marks = int(input(\"enter your marks :\"))\n",
    "if (marks>=35) or (marks>=75):\n",
    "    print(\"you got good score\")\n",
    "    print(\"congrats\")\n",
    "else:\n",
    "    print(\"you are not eligible for next exam\")\n",
    "    print(\"good luck for next time\")        "
   ]
  },
  {
   "cell_type": "code",
   "execution_count": 8,
   "id": "3802b8ad-10e2-4f31-a966-2fb3de1ab20f",
   "metadata": {},
   "outputs": [
    {
     "name": "stdin",
     "output_type": "stream",
     "text": [
      "enetr your age 18\n"
     ]
    },
    {
     "name": "stdout",
     "output_type": "stream",
     "text": [
      "you are eligible for vote\n"
     ]
    }
   ],
   "source": [
    "a = int(input(\"enetr your age\"))\n",
    "if a < 18:\n",
    "    print(\"you are not eligible for vote\")\n",
    "elif a == 18:\n",
    "    print(\"you are eligible for vote\")\n",
    "else:\n",
    "    print(\"you are eligible for vote\")"
   ]
  },
  {
   "cell_type": "code",
   "execution_count": 51,
   "id": "6a220683-9cbb-4c69-820c-86b103842ad7",
   "metadata": {},
   "outputs": [
    {
     "name": "stdin",
     "output_type": "stream",
     "text": [
      "enter your total percentage 25\n"
     ]
    },
    {
     "name": "stdout",
     "output_type": "stream",
     "text": [
      "you are not eligible for bsc\n"
     ]
    }
   ],
   "source": [
    "percentage = int(input(\"enter your total percentage\" ))\n",
    "if percentage <=35:\n",
    "    print(\"you are not eligible for bsc\")\n",
    "else:\n",
    "    print(f\"you are eligible for bsc\")\n",
    "        "
   ]
  },
  {
   "cell_type": "code",
   "execution_count": 5,
   "id": "d0753dd4-326d-45ba-85f1-15813ff981cb",
   "metadata": {},
   "outputs": [
    {
     "name": "stdin",
     "output_type": "stream",
     "text": [
      "enter a :  0\n",
      "enter b :  1\n"
     ]
    },
    {
     "name": "stdout",
     "output_type": "stream",
     "text": [
      "b is greater than a \n"
     ]
    }
   ],
   "source": [
    "a = int(input(\"enter a : \"))\n",
    "b = int(input(\"enter b : \"))\n",
    "if(a>b):\n",
    "  print(\"a is greater than b\")\n",
    "elif(a==b):\n",
    "  print(\"a is equal to b and true\")\n",
    "elif(a<b):\n",
    " print(\"b is greater than a \")\n",
    "else:\n",
    "    print('false')"
   ]
  },
  {
   "cell_type": "code",
   "execution_count": 11,
   "id": "8ae21f02-c38c-4da7-a5e0-ef260d9ebb25",
   "metadata": {},
   "outputs": [
    {
     "name": "stdin",
     "output_type": "stream",
     "text": [
      "enter a :  5\n",
      "enter b :  3\n",
      "enter c :  3\n"
     ]
    },
    {
     "name": "stdout",
     "output_type": "stream",
     "text": [
      "a is greater than b and c\n"
     ]
    }
   ],
   "source": [
    "a = int(input(\"enter a : \"))\n",
    "b = int(input(\"enter b : \"))\n",
    "c = int(input(\"enter c : \"))\n",
    "if(a>b) and (a>c):\n",
    "  print(\"a is greater than b and c\")\n",
    "elif(b>a) and (b>c):\n",
    "  print(\"b is greater than a and c\")\n",
    "elif(c>a) and (c>b):\n",
    "  print(\"c is greater than a and b\")\n",
    "else:\n",
    "  print(\"a,b,c are equal\")"
   ]
  },
  {
   "cell_type": "code",
   "execution_count": 19,
   "id": "e8970f37-569c-4dfc-91d5-68d5a6554e52",
   "metadata": {},
   "outputs": [
    {
     "name": "stdin",
     "output_type": "stream",
     "text": [
      "enetr amount to withdraw :  2000\n"
     ]
    },
    {
     "name": "stdout",
     "output_type": "stream",
     "text": [
      "please collect your cash 2000\n",
      "your available balance is : 1000\n"
     ]
    }
   ],
   "source": [
    "bal = 3000\n",
    "withdrawal = int(input(\"enetr amount to withdraw : \"))\n",
    "if withdrawal>bal:\n",
    "    print(\"insufficient balance \")\n",
    "else:\n",
    "    print(\"please collect your cash\",withdrawal)\n",
    "    bal = bal-withdrawal\n",
    "    print(\"your available balance is :\",bal)"
   ]
  },
  {
   "cell_type": "code",
   "execution_count": 47,
   "id": "32e81e41-e6ca-4965-a0d2-7761057909b1",
   "metadata": {},
   "outputs": [
    {
     "name": "stdin",
     "output_type": "stream",
     "text": [
      "enetr a number  2\n"
     ]
    },
    {
     "name": "stdout",
     "output_type": "stream",
     "text": [
      "The number is positive.\n"
     ]
    }
   ],
   "source": [
    "number = int(input(\"enetr a number \"))\n",
    "if number > 0:\n",
    "    print( \"The number is positive.\")\n",
    "elif number < 0:\n",
    "    print( \"The number is negative.\")\n",
    "else:\n",
    "     (\"The number is zero.\")"
   ]
  },
  {
   "cell_type": "code",
   "execution_count": null,
   "id": "5120a75f-4880-4fa4-aef2-f6939a259d30",
   "metadata": {},
   "outputs": [],
   "source": []
  },
  {
   "cell_type": "code",
   "execution_count": null,
   "id": "7e118035-36d2-46a2-9659-2cff8e0ba0ed",
   "metadata": {},
   "outputs": [],
   "source": []
  }
 ],
 "metadata": {
  "kernelspec": {
   "display_name": "Python 3 (ipykernel)",
   "language": "python",
   "name": "python3"
  },
  "language_info": {
   "codemirror_mode": {
    "name": "ipython",
    "version": 3
   },
   "file_extension": ".py",
   "mimetype": "text/x-python",
   "name": "python",
   "nbconvert_exporter": "python",
   "pygments_lexer": "ipython3",
   "version": "3.12.4"
  }
 },
 "nbformat": 4,
 "nbformat_minor": 5
}
