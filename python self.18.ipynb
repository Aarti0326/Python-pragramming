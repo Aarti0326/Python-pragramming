{
 "cells": [
  {
   "cell_type": "markdown",
   "id": "7e107afe-1434-440c-b033-ff6ab8322ed1",
   "metadata": {},
   "source": [
    "### string methods :\n",
    "\n",
    "#### 1)create a string variable sentenses with any sentenses of your choise.\n",
    "#### 2)convert the sentense to uppercase.\n",
    "#### 3)split the sentense into a list of words.\n",
    "#### 4)join the words in the list using a space as the seperator.\n",
    "#### 5)print the modufied sentenses"
   ]
  },
  {
   "cell_type": "code",
   "execution_count": 2,
   "id": "47d7d907-f7f7-46a9-82cc-a70baa485fa0",
   "metadata": {},
   "outputs": [
    {
     "name": "stdout",
     "output_type": "stream",
     "text": [
      "AARTI SALUNKHE\n",
      "['Aarti', 'salunkhe']\n",
      "Aarti salunkhe\n",
      "modified list is Aarti salunkhe\n"
     ]
    }
   ],
   "source": [
    "name = \"Aarti salunkhe\"\n",
    "print(name.upper())\n",
    "print(name.split())\n",
    "join_name = \"\".join(name)\n",
    "print(join_name)\n",
    "print(\"modified list is\",name)"
   ]
  },
  {
   "cell_type": "markdown",
   "id": "9978d5c4-d0b7-4184-8980-a044c466c010",
   "metadata": {},
   "source": [
    "### list sorting:"
   ]
  },
  {
   "cell_type": "code",
   "execution_count": 4,
   "id": "873a6b7f-fcff-426c-81b1-24776c81bb1e",
   "metadata": {},
   "outputs": [],
   "source": [
    "# create a list named ages containing integers representing ages of individuals\n",
    "# sort the list in ascending oreder \n",
    "# sort the list in descending order \n",
    "# print the sorted lists"
   ]
  },
  {
   "cell_type": "code",
   "execution_count": 5,
   "id": "ecbe62ca-40c9-44a9-942a-a64acb1b893b",
   "metadata": {},
   "outputs": [
    {
     "name": "stdout",
     "output_type": "stream",
     "text": [
      "[15, 18, 20, 35, 44, 45, 58, 68, 87, 98]\n",
      "[98, 87, 68, 58, 45, 44, 35, 20, 18, 15]\n",
      "the sorted list is [98, 87, 68, 58, 45, 44, 35, 20, 18, 15]\n"
     ]
    }
   ],
   "source": [
    "ages = [18,45,15,98,20,58,68,35,44,87]\n",
    "ages_ascending = ages.sort()\n",
    "print(ages)\n",
    "\n",
    "ages_descending  = ages.reverse()\n",
    "print(ages)\n",
    "\n",
    "print(\"the sorted list is\",ages)"
   ]
  },
  {
   "cell_type": "markdown",
   "id": "f56ed65f-6d47-4480-97a1-1e6382c0c34a",
   "metadata": {},
   "source": [
    "## Tuples"
   ]
  },
  {
   "cell_type": "code",
   "execution_count": 7,
   "id": "13c2a1a9-eebd-4628-94b2-891cba17d005",
   "metadata": {},
   "outputs": [
    {
     "name": "stdout",
     "output_type": "stream",
     "text": [
      "(41, 62, 85)\n",
      "<class 'tuple'>\n"
     ]
    }
   ],
   "source": [
    "a = (41,62,85)\n",
    "print(a)\n",
    "print(type(a))"
   ]
  },
  {
   "cell_type": "markdown",
   "id": "edea2a64-ca93-4a96-aae5-ce841231d03c",
   "metadata": {},
   "source": [
    "### empty tumple"
   ]
  },
  {
   "cell_type": "code",
   "execution_count": 9,
   "id": "99efa70e-99a5-478e-9a70-f5b0fc69ae47",
   "metadata": {},
   "outputs": [
    {
     "name": "stdout",
     "output_type": "stream",
     "text": [
      "()\n"
     ]
    }
   ],
   "source": [
    "tup = ()\n",
    "print(tup)"
   ]
  },
  {
   "cell_type": "markdown",
   "id": "d395d9d0-97ad-466d-a627-da59cef96845",
   "metadata": {},
   "source": [
    "### single element"
   ]
  },
  {
   "cell_type": "code",
   "execution_count": 11,
   "id": "3bd8e750-248b-437a-af67-fd8ea0c101c0",
   "metadata": {},
   "outputs": [
    {
     "name": "stdout",
     "output_type": "stream",
     "text": [
      "6\n"
     ]
    },
    {
     "data": {
      "text/plain": [
       "int"
      ]
     },
     "execution_count": 11,
     "metadata": {},
     "output_type": "execute_result"
    }
   ],
   "source": [
    "b = (6)\n",
    "print(b)\n",
    "type(b)"
   ]
  },
  {
   "cell_type": "code",
   "execution_count": 12,
   "id": "a4854a4f-67f2-4f5b-af28-f2769de726b9",
   "metadata": {},
   "outputs": [
    {
     "data": {
      "text/plain": [
       "tuple"
      ]
     },
     "execution_count": 12,
     "metadata": {},
     "output_type": "execute_result"
    }
   ],
   "source": [
    "b = (6,)           #single element tuple\n",
    "type(b)"
   ]
  },
  {
   "cell_type": "markdown",
   "id": "e6b16d2b-49fc-4a46-93f6-614b81c1c10c",
   "metadata": {},
   "source": [
    "### a tuple with mixed data type"
   ]
  },
  {
   "cell_type": "code",
   "execution_count": 14,
   "id": "4d88a49b-ffe5-4a32-ab89-1e624fb572d3",
   "metadata": {},
   "outputs": [
    {
     "name": "stdout",
     "output_type": "stream",
     "text": [
      "(4, 5.2, 6, 'aarti', True)\n"
     ]
    },
    {
     "data": {
      "text/plain": [
       "tuple"
      ]
     },
     "execution_count": 14,
     "metadata": {},
     "output_type": "execute_result"
    }
   ],
   "source": [
    " b = (4,5.2,6,\"aarti\",True)\n",
    "print(b)\n",
    "type(b)"
   ]
  },
  {
   "cell_type": "markdown",
   "id": "d01aa7a7-26ee-4a48-9a3b-35d8dc6aa485",
   "metadata": {},
   "source": [
    "### nested tuples"
   ]
  },
  {
   "cell_type": "code",
   "execution_count": 16,
   "id": "ee705931-b47f-4f61-be39-53033c5fe455",
   "metadata": {},
   "outputs": [
    {
     "name": "stdout",
     "output_type": "stream",
     "text": [
      "(4, 5.2, 6, 'aarti', (True, False))\n"
     ]
    },
    {
     "data": {
      "text/plain": [
       "tuple"
      ]
     },
     "execution_count": 16,
     "metadata": {},
     "output_type": "execute_result"
    }
   ],
   "source": [
    " b = (4,5.2,6,\"aarti\",(True,False))\n",
    "print(b)\n",
    "type(b)"
   ]
  },
  {
   "cell_type": "code",
   "execution_count": 17,
   "id": "79eeee26-f41d-45a0-8f1e-839f4e5545b8",
   "metadata": {},
   "outputs": [
    {
     "name": "stdout",
     "output_type": "stream",
     "text": [
      "(4, (5.2, 6), 'aarti', True, [10, 20, 30])\n"
     ]
    },
    {
     "data": {
      "text/plain": [
       "tuple"
      ]
     },
     "execution_count": 17,
     "metadata": {},
     "output_type": "execute_result"
    }
   ],
   "source": [
    "num = (4,(5.2,6),\"aarti\",True,[10,20,30])\n",
    "print(num)\n",
    "type(num)"
   ]
  },
  {
   "cell_type": "markdown",
   "id": "3b40ca50-6dda-45b0-8462-850b10a3e8ba",
   "metadata": {},
   "source": [
    "### Tuple constuctor"
   ]
  },
  {
   "cell_type": "code",
   "execution_count": 19,
   "id": "866e2a7f-33e4-43a5-ab6c-bd3940a884ac",
   "metadata": {},
   "outputs": [
    {
     "name": "stdout",
     "output_type": "stream",
     "text": [
      "()\n"
     ]
    },
    {
     "data": {
      "text/plain": [
       "tuple"
      ]
     },
     "execution_count": 19,
     "metadata": {},
     "output_type": "execute_result"
    }
   ],
   "source": [
    "tuple_empty = tuple()\n",
    "print(tuple_empty)\n",
    "type(tuple_empty)"
   ]
  },
  {
   "cell_type": "markdown",
   "id": "aaf196e9-b56a-444f-8068-eaeb0eb494de",
   "metadata": {},
   "source": [
    "### converting list into tuple"
   ]
  },
  {
   "cell_type": "code",
   "execution_count": 21,
   "id": "33783540-a534-4fae-9777-068334aad5ee",
   "metadata": {},
   "outputs": [
    {
     "name": "stdout",
     "output_type": "stream",
     "text": [
      "(1, 2, 3, 4)\n"
     ]
    },
    {
     "data": {
      "text/plain": [
       "tuple"
      ]
     },
     "execution_count": 21,
     "metadata": {},
     "output_type": "execute_result"
    }
   ],
   "source": [
    "list = [1,2,3,4]          \n",
    "number = tuple(list)    # convert in tuple \n",
    "print(number)\n",
    "type(number)"
   ]
  },
  {
   "cell_type": "code",
   "execution_count": 22,
   "id": "eacecf43-4812-4699-a9d1-3d16b2024669",
   "metadata": {},
   "outputs": [
    {
     "ename": "SyntaxError",
     "evalue": "invalid syntax (4221254808.py, line 1)",
     "output_type": "error",
     "traceback": [
      "\u001b[1;36m  Cell \u001b[1;32mIn[22], line 1\u001b[1;36m\u001b[0m\n\u001b[1;33m    converting string into a tuple\u001b[0m\n\u001b[1;37m               ^\u001b[0m\n\u001b[1;31mSyntaxError\u001b[0m\u001b[1;31m:\u001b[0m invalid syntax\n"
     ]
    }
   ],
   "source": [
    "converting string into a tuple"
   ]
  },
  {
   "cell_type": "code",
   "execution_count": null,
   "id": "34b69a54-4416-4fc0-ae04-8dcd2869f95a",
   "metadata": {},
   "outputs": [],
   "source": [
    "string = \"hello\"\n",
    "tuple = tuple(string)\n",
    "print(tuple)\n",
    "print(type(tuple))"
   ]
  },
  {
   "cell_type": "markdown",
   "id": "e541fe41-a7aa-4e84-98a5-61cb9b191d55",
   "metadata": {},
   "source": [
    "### converting dictionary into a tuple"
   ]
  },
  {
   "cell_type": "code",
   "execution_count": 32,
   "id": "c18ed8f1-fd94-4dce-be38-355c047c937c",
   "metadata": {},
   "outputs": [
    {
     "name": "stdout",
     "output_type": "stream",
     "text": [
      "{'a': 1, 'b': 2, 'c': 3}\n",
      "<class 'dict'>\n",
      "('a', 'b', 'c')\n",
      "<class 'tuple'>\n"
     ]
    }
   ],
   "source": [
    "dic = {'a': 1, 'b': 2, 'c': 3}         #dictionary type\n",
    "print(dic)\n",
    "print(type(dic))\n",
    "\n",
    "tup = tuple(dic)\n",
    "print(tup)\n",
    "print(type(tup))           #converting dic into tuple"
   ]
  },
  {
   "cell_type": "markdown",
   "id": "9113f804-a51f-4315-ad49-f3820e6efed4",
   "metadata": {},
   "source": [
    "### converting a set into a tuple"
   ]
  },
  {
   "cell_type": "code",
   "execution_count": 42,
   "id": "db765499-7495-4496-8f57-39ef04ec5a2b",
   "metadata": {},
   "outputs": [
    {
     "name": "stdout",
     "output_type": "stream",
     "text": [
      "{1, 2, 3, 4, 5, 6}\n",
      "<class 'set'>\n",
      "(1, 2, 3, 4, 5, 6)\n",
      "<class 'tuple'>\n"
     ]
    }
   ],
   "source": [
    "set = {1,2,3,4,5,6}\n",
    "print(set)\n",
    "print(type(set))\n",
    "\n",
    "tup2 = tuple(set)\n",
    "print(tup2)\n",
    "print(type(tup2))"
   ]
  },
  {
   "cell_type": "code",
   "execution_count": 44,
   "id": "1a04ad61-e76f-4fdf-b7d8-3262eb60ff52",
   "metadata": {},
   "outputs": [
    {
     "name": "stdout",
     "output_type": "stream",
     "text": [
      "(1, 2, 3, 4, 5, 9)\n"
     ]
    }
   ],
   "source": [
    "my_list = [1,2,3,4,5,9]\n",
    "print(tuple(my_list))"
   ]
  },
  {
   "cell_type": "code",
   "execution_count": 46,
   "id": "29173b73-781e-439a-be8d-aac9ed688def",
   "metadata": {},
   "outputs": [
    {
     "name": "stdout",
     "output_type": "stream",
     "text": [
      "[]\n"
     ]
    }
   ],
   "source": [
    "empty_tuple = []\n",
    "print(empty_tuple)          #empty"
   ]
  },
  {
   "cell_type": "code",
   "execution_count": 54,
   "id": "96c94e28-576c-4fd4-9e7f-81d62b3da35d",
   "metadata": {},
   "outputs": [
    {
     "name": "stdout",
     "output_type": "stream",
     "text": [
      "()\n"
     ]
    }
   ],
   "source": [
    "empty_tuple1 = tuple()      #empty\n",
    "print(empty_tuple1)"
   ]
  },
  {
   "cell_type": "code",
   "execution_count": null,
   "id": "0ab040a5-2cdb-432c-a7c0-5f14cc3a7571",
   "metadata": {},
   "outputs": [],
   "source": []
  }
 ],
 "metadata": {
  "kernelspec": {
   "display_name": "Python 3 (ipykernel)",
   "language": "python",
   "name": "python3"
  },
  "language_info": {
   "codemirror_mode": {
    "name": "ipython",
    "version": 3
   },
   "file_extension": ".py",
   "mimetype": "text/x-python",
   "name": "python",
   "nbconvert_exporter": "python",
   "pygments_lexer": "ipython3",
   "version": "3.12.4"
  }
 },
 "nbformat": 4,
 "nbformat_minor": 5
}
