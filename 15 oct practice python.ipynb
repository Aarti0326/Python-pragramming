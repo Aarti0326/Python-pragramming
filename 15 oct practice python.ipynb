{
 "cells": [
  {
   "cell_type": "markdown",
   "id": "4c8a5aac-f850-4b31-b6a3-afdda686b6fc",
   "metadata": {},
   "source": [
    "### Fibonacci numbers:"
   ]
  },
  {
   "cell_type": "code",
   "execution_count": 1,
   "id": "e46f8a76-4601-4c57-af43-670081be9a44",
   "metadata": {},
   "outputs": [
    {
     "name": "stdout",
     "output_type": "stream",
     "text": [
      "First 10 Fibonacci numbers:\n",
      "0\n",
      "1\n",
      "1\n",
      "2\n",
      "3\n",
      "5\n",
      "8\n",
      "13\n",
      "21\n",
      "34\n"
     ]
    }
   ],
   "source": [
    "a, b = 0, 1\n",
    "count = 0\n",
    "\n",
    "print(\"First 10 Fibonacci numbers:\")\n",
    "while count < 10:\n",
    "    print(a)\n",
    "    a, b = b, a + b  # Update the values\n",
    "    count += 1\n"
   ]
  },
  {
   "cell_type": "markdown",
   "id": "0934f83c-39c7-47b9-b2f0-46031838a83d",
   "metadata": {},
   "source": [
    "## Write a program that checks if a person is eligible for a subscription.\n",
    "#Conditions:  \n",
    "Below 18: \"You are too young for this service.\"\n",
    "\n",
    "#18-60: \"Subscription granted.\"\n",
    "\n",
    "#Above 60: \"Senior Citizen Plan Activated.\""
   ]
  },
  {
   "cell_type": "code",
   "execution_count": 10,
   "id": "8687910b-ca04-4bbb-a36c-02514c3e8f65",
   "metadata": {},
   "outputs": [
    {
     "name": "stdin",
     "output_type": "stream",
     "text": [
      "Enter your age:  60\n"
     ]
    },
    {
     "name": "stdout",
     "output_type": "stream",
     "text": [
      "Subscription granted.\n"
     ]
    }
   ],
   "source": [
    "age = int(input(\"Enter your age: \"))\n",
    "\n",
    "if age < 18:\n",
    "    print(\"You are too young for this service.\")\n",
    "elif 18<=age<=60:\n",
    "    print(\"Subscription granted.\")\n",
    "else:\n",
    "    print(\"Senior Citizen Plan Activated.\")"
   ]
  },
  {
   "cell_type": "markdown",
   "id": "2244d531-0d34-4ab7-bb2b-d3ba3f7ced81",
   "metadata": {},
   "source": [
    "## Extract Emails from a List of Employees\n",
    "#### Question: Write a program to print all employee emails from a list of dictionaries."
   ]
  },
  {
   "cell_type": "code",
   "execution_count": 22,
   "id": "6e1d671b-243a-48b4-b9d0-3ae205732a6f",
   "metadata": {},
   "outputs": [
    {
     "name": "stdout",
     "output_type": "stream",
     "text": [
      "aartisalunkhe.com\n",
      "Aarti\n",
      "nikita.com\n",
      "nikita\n",
      "sushant.com\n",
      "sushant\n"
     ]
    }
   ],
   "source": [
    "employees = [\n",
    "    {\"name\":\"Aarti\",\"Email\":\"aartisalunkhe.com\"},\n",
    "    {\"name\":\"nikita\",\"Email\":\"nikita.com\"},\n",
    "    {\"name\":\"sushant\",\"Email\":\"sushant.com\"},\n",
    "]\n",
    "for employee in employees:\n",
    "    print(employee[\"Email\"]),\n",
    "    print(employee[\"name\"])\n",
    "\n",
    "    "
   ]
  },
  {
   "cell_type": "code",
   "execution_count": null,
   "id": "16964270-c4d0-4afd-81ed-6ce6d46f578a",
   "metadata": {},
   "outputs": [],
   "source": []
  }
 ],
 "metadata": {
  "kernelspec": {
   "display_name": "Python 3 (ipykernel)",
   "language": "python",
   "name": "python3"
  },
  "language_info": {
   "codemirror_mode": {
    "name": "ipython",
    "version": 3
   },
   "file_extension": ".py",
   "mimetype": "text/x-python",
   "name": "python",
   "nbconvert_exporter": "python",
   "pygments_lexer": "ipython3",
   "version": "3.12.4"
  }
 },
 "nbformat": 4,
 "nbformat_minor": 5
}
