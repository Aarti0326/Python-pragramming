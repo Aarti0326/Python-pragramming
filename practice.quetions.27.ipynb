{
 "cells": [
  {
   "cell_type": "markdown",
   "id": "8f823eb5-738c-4787-8195-e344b0f178b1",
   "metadata": {},
   "source": [
    "### Check if a Number is Positive, Negative or 0"
   ]
  },
  {
   "cell_type": "code",
   "execution_count": 2,
   "id": "1350f1df-2f3b-4a06-9da1-f90df83a5681",
   "metadata": {},
   "outputs": [
    {
     "name": "stdin",
     "output_type": "stream",
     "text": [
      "Enter a number:  5\n"
     ]
    },
    {
     "name": "stdout",
     "output_type": "stream",
     "text": [
      "Positive\n"
     ]
    }
   ],
   "source": [
    "num = float(input(\"Enter a number: \"))\n",
    "if num > 0:\n",
    "    print(\"Positive\")\n",
    "elif num < 0:\n",
    "    print(\"Negative\")\n",
    "else:\n",
    "    print(\"Zero\")\n"
   ]
  },
  {
   "cell_type": "markdown",
   "id": "0d5d0eae-0d3f-40d8-8e8e-ae7d9fc48020",
   "metadata": {},
   "source": [
    "### Check if a Number is Odd or Even"
   ]
  },
  {
   "cell_type": "code",
   "execution_count": 5,
   "id": "23f3d286-b745-4db6-88cc-8da7e0328088",
   "metadata": {},
   "outputs": [
    {
     "name": "stdin",
     "output_type": "stream",
     "text": [
      "Enter a number:  52\n"
     ]
    },
    {
     "name": "stdout",
     "output_type": "stream",
     "text": [
      "Even\n"
     ]
    }
   ],
   "source": [
    "num = int(input(\"Enter a number: \"))\n",
    "if num % 2 == 0:\n",
    "    print(\"Even\")\n",
    "else:\n",
    "    print(\"Odd\")\n"
   ]
  },
  {
   "cell_type": "markdown",
   "id": "0d661b03-d50f-4719-9cd6-fe28b925416d",
   "metadata": {},
   "source": [
    "### Convert Decimal to Binary, Octal and Hexadecimal"
   ]
  },
  {
   "cell_type": "code",
   "execution_count": 12,
   "id": "84b78119-ffad-482f-b968-f3aa7c3194ac",
   "metadata": {},
   "outputs": [
    {
     "name": "stdin",
     "output_type": "stream",
     "text": [
      "enter a decimal number 34\n"
     ]
    },
    {
     "name": "stdout",
     "output_type": "stream",
     "text": [
      "binary: 100010\n",
      "octal: 42\n",
      "hexadecimal: 22\n"
     ]
    }
   ],
   "source": [
    "num = int(input(\"enter a decimal number\"))\n",
    "print(\"binary:\",bin(num)[2:])\n",
    "print(\"octal:\",oct(num)[2:])\n",
    "print(\"hexadecimal:\",hex(num)[2:])"
   ]
  },
  {
   "cell_type": "markdown",
   "id": "2f0b4837-36ff-485a-ba0c-43062739d337",
   "metadata": {},
   "source": [
    "### Sort Words in Alphabetical Order"
   ]
  },
  {
   "cell_type": "code",
   "execution_count": 29,
   "id": "3e3e86fb-87cb-41f5-89c2-5d8656719eed",
   "metadata": {},
   "outputs": [
    {
     "name": "stdin",
     "output_type": "stream",
     "text": [
      "Enter words separated by space:  hello aarti good morning\n"
     ]
    },
    {
     "name": "stdout",
     "output_type": "stream",
     "text": [
      "Sorted words: aarti good hello morning\n"
     ]
    }
   ],
   "source": [
    "words = input(\"Enter words separated by space: \").split()\n",
    "words.sort()\n",
    "print(\"Sorted words:\", ' '.join(words))\n"
   ]
  },
  {
   "cell_type": "markdown",
   "id": "19bb0be0-3761-466a-8426-e5a8001154ac",
   "metadata": {},
   "source": [
    "### Swap Two Variables"
   ]
  },
  {
   "cell_type": "code",
   "execution_count": 38,
   "id": "6f29ffd6-fb0c-427c-8c6a-7e6956865d03",
   "metadata": {},
   "outputs": [
    {
     "name": "stdin",
     "output_type": "stream",
     "text": [
      "Enter first variable:  62\n",
      "Enter second variable:  25\n"
     ]
    },
    {
     "name": "stdout",
     "output_type": "stream",
     "text": [
      "swapping: ('25', '62')\n"
     ]
    }
   ],
   "source": [
    "a = input(\"Enter first variable: \")\n",
    "b = input(\"Enter second variable: \")\n",
    "swap = a, b = b, a\n",
    "print(\"swapping:\",swap)\n"
   ]
  },
  {
   "cell_type": "markdown",
   "id": "6f12365b-f2aa-4a21-b6f5-e9e1bcf6d7d0",
   "metadata": {},
   "source": [
    "### Calculate the Area of a Triangle"
   ]
  },
  {
   "cell_type": "code",
   "execution_count": 41,
   "id": "0275275b-c85b-46af-8403-2a782509f8ec",
   "metadata": {},
   "outputs": [
    {
     "name": "stdin",
     "output_type": "stream",
     "text": [
      "Enter base:  5\n",
      "Enter height:  6\n"
     ]
    },
    {
     "name": "stdout",
     "output_type": "stream",
     "text": [
      "Area of the triangle: 15.0\n"
     ]
    }
   ],
   "source": [
    "base = float(input(\"Enter base: \"))\n",
    "height = float(input(\"Enter height: \"))\n",
    "area = (base * height) / 2\n",
    "print(\"Area of the triangle:\", area)\n"
   ]
  },
  {
   "cell_type": "markdown",
   "id": "86b3c771-c622-4c53-ab20-26c717031374",
   "metadata": {},
   "source": [
    "### Display the Multiplication Table"
   ]
  },
  {
   "cell_type": "code",
   "execution_count": 52,
   "id": "bf0601d1-8622-46d3-bf9f-8a9892a209a4",
   "metadata": {},
   "outputs": [
    {
     "name": "stdin",
     "output_type": "stream",
     "text": [
      "Enter a number:  5\n"
     ]
    },
    {
     "name": "stdout",
     "output_type": "stream",
     "text": [
      "5\n",
      "10\n",
      "15\n",
      "20\n",
      "25\n",
      "30\n",
      "35\n",
      "40\n",
      "45\n",
      "50\n"
     ]
    }
   ],
   "source": [
    "num = int(input(\"Enter a number: \"))\n",
    "for i in range(1, 11):\n",
    "    print(num*i )\n"
   ]
  },
  {
   "cell_type": "markdown",
   "id": "0158cf2c-fd44-49d7-92d9-d2ead5aad4a9",
   "metadata": {},
   "source": [
    "### Convert Kilometers to Miles"
   ]
  },
  {
   "cell_type": "code",
   "execution_count": 56,
   "id": "ea0ed465-4832-4826-9cc9-cda2595c4bdd",
   "metadata": {},
   "outputs": [
    {
     "name": "stdin",
     "output_type": "stream",
     "text": [
      "Enter kilometers:  3\n"
     ]
    },
    {
     "name": "stdout",
     "output_type": "stream",
     "text": [
      "Miles: 1.8641130000000001\n"
     ]
    }
   ],
   "source": [
    "kilometers = float(input(\"Enter kilometers: \"))\n",
    "miles = kilometers * 0.621371\n",
    "print(\"Miles:\", miles)\n"
   ]
  },
  {
   "cell_type": "markdown",
   "id": "7a8265a4-0d3b-4961-a825-6a958ed6ae2f",
   "metadata": {},
   "source": [
    "### Convert Celsius to Fahrenheit"
   ]
  },
  {
   "cell_type": "code",
   "execution_count": 61,
   "id": "79f4e39e-8e8e-4490-ae8f-bcc3d717e043",
   "metadata": {},
   "outputs": [
    {
     "name": "stdin",
     "output_type": "stream",
     "text": [
      "Enter temperature in Celsius:  20\n"
     ]
    },
    {
     "name": "stdout",
     "output_type": "stream",
     "text": [
      "Fahrenheit: 68.0\n"
     ]
    }
   ],
   "source": [
    "celsius = float(input(\"Enter temperature in Celsius: \"))\n",
    "fahrenheit = (celsius * 9/5) + 32\n",
    "print(\"Fahrenheit:\", fahrenheit)\n"
   ]
  },
  {
   "cell_type": "markdown",
   "id": "304b01dd-ed6b-4195-a189-f5f418e946f0",
   "metadata": {},
   "source": [
    "### Display Powers of 2 Using Anonymous Function"
   ]
  },
  {
   "cell_type": "code",
   "execution_count": 68,
   "id": "093df9c0-26e9-42ad-a04b-498dc519bb1c",
   "metadata": {},
   "outputs": [
    {
     "name": "stdin",
     "output_type": "stream",
     "text": [
      "enter number of terms 11\n"
     ]
    },
    {
     "name": "stdout",
     "output_type": "stream",
     "text": [
      "[0, 1, 4, 9, 16, 25, 36, 49, 64, 81, 100]\n"
     ]
    }
   ],
   "source": [
    "n = int(input(\"enter number of terms\"))\n",
    "power_of_two = list(map(lambda x:x**2,range(n)))\n",
    "print(power_of_two)"
   ]
  },
  {
   "cell_type": "code",
   "execution_count": null,
   "id": "f3f590eb-e824-4da6-a971-8517a14b3874",
   "metadata": {},
   "outputs": [],
   "source": []
  }
 ],
 "metadata": {
  "kernelspec": {
   "display_name": "Python 3 (ipykernel)",
   "language": "python",
   "name": "python3"
  },
  "language_info": {
   "codemirror_mode": {
    "name": "ipython",
    "version": 3
   },
   "file_extension": ".py",
   "mimetype": "text/x-python",
   "name": "python",
   "nbconvert_exporter": "python",
   "pygments_lexer": "ipython3",
   "version": "3.12.4"
  }
 },
 "nbformat": 4,
 "nbformat_minor": 5
}
