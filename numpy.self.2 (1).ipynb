{
 "cells": [
  {
   "cell_type": "markdown",
   "id": "ae9fe48e-bef7-4d60-aeab-be4fca833a36",
   "metadata": {},
   "source": [
    "## NumPy Array Reshaping"
   ]
  },
  {
   "cell_type": "markdown",
   "id": "b3400e2f-0dc3-4fba-b2a5-507256117c8d",
   "metadata": {},
   "source": [
    "#### NumPy array reshaping simply means changing the shape of an array without changing its data.\n",
    "\n",
    "##### Let's say we have a 1D array."
   ]
  },
  {
   "cell_type": "code",
   "execution_count": 7,
   "id": "d724ac36-eb56-4204-8112-84785b6ed963",
   "metadata": {},
   "outputs": [
    {
     "name": "stdout",
     "output_type": "stream",
     "text": [
      "[[1 3 5 7]\n",
      " [2 4 6 8]]\n"
     ]
    }
   ],
   "source": [
    "import numpy as np\n",
    "\n",
    "array1 = np.array([1, 3, 5, 7, 2, 4, 6, 8])\n",
    "\n",
    "# reshape a 1D array into a 2D array \n",
    "# with 2 rows and 4 columns\n",
    "result = np.reshape(array1,(2,4))\n",
    "print(result)"
   ]
  },
  {
   "cell_type": "markdown",
   "id": "df77583a-3547-4f6c-8149-df346aedfdac",
   "metadata": {},
   "source": [
    "## NumPy Arithmetic Array Operations\n"
   ]
  },
  {
   "cell_type": "code",
   "execution_count": 12,
   "id": "bd69f628-4744-418c-9370-41c4b68c2235",
   "metadata": {},
   "outputs": [],
   "source": [
    "#Element-wise Operation\t\t\n",
    "#Addition\t        +\t             add()\n",
    "#Subtraction       \t-\t             subtract()\n",
    "#Multiplication\t    *\t             multiply()\n",
    "#Division\t        /\t             divide()\n",
    "#Exponentiation\t    **\t             power()\n",
    "#Modulus         \t%\t             mod()\n"
   ]
  },
  {
   "cell_type": "code",
   "execution_count": 16,
   "id": "7c3651fb-8c2e-4e84-b9c5-40b51ffed8fc",
   "metadata": {},
   "outputs": [
    {
     "name": "stdout",
     "output_type": "stream",
     "text": [
      "Sum: [5 7 9]\n",
      "Product: [ 4 10 18]\n"
     ]
    }
   ],
   "source": [
    "import numpy as np\n",
    "\n",
    "# Create two arrays\n",
    "array1 = np.array([1, 2, 3])\n",
    "array2 = np.array([4, 5, 6])\n",
    "\n",
    "# Element-wise addition\n",
    "sum_array = array1 + array2\n",
    "print(\"Sum:\", sum_array)\n",
    "\n",
    "# Element-wise multiplication\n",
    "product_array = array1 * array2\n",
    "print(\"Product:\", product_array)"
   ]
  },
  {
   "cell_type": "code",
   "execution_count": 18,
   "id": "6addee0d-7994-45f8-8cc8-a82fd8f6697d",
   "metadata": {},
   "outputs": [
    {
     "name": "stdout",
     "output_type": "stream",
     "text": [
      "Reshaped Array: [[ 0  1  2  3]\n",
      " [ 4  5  6  7]\n",
      " [ 8  9 10 11]]\n"
     ]
    }
   ],
   "source": [
    "# Create a 1D array\n",
    "array = np.arange(12)\n",
    "\n",
    "# Reshape the array to 3x4\n",
    "reshaped_array = array.reshape(3, 4)\n",
    "print(\"Reshaped Array:\", reshaped_array)"
   ]
  },
  {
   "cell_type": "code",
   "execution_count": 20,
   "id": "c4d69a7a-b4b3-465f-82aa-8da7ac945509",
   "metadata": {},
   "outputs": [
    {
     "name": "stdout",
     "output_type": "stream",
     "text": [
      "Mean: 5.5\n",
      "Median: 5.5\n",
      "Standard Deviation: 2.8722813232690143\n"
     ]
    }
   ],
   "source": [
    "# Create an array\n",
    "array = np.array([1, 2, 3, 4, 5, 6, 7, 8, 9, 10])\n",
    "\n",
    "# Calculate mean, median, and standard deviation\n",
    "mean = np.mean(array)\n",
    "median = np.median(array)\n",
    "std_dev = np.std(array)\n",
    "\n",
    "print(\"Mean:\", mean)\n",
    "print(\"Median:\", median)\n",
    "print(\"Standard Deviation:\", std_dev)"
   ]
  },
  {
   "cell_type": "code",
   "execution_count": 22,
   "id": "e8ee5926-3aa9-4044-8221-634c26c5c66f",
   "metadata": {},
   "outputs": [
    {
     "name": "stdout",
     "output_type": "stream",
     "text": [
      "Comparison (array1 > array2): [False False False  True]\n"
     ]
    }
   ],
   "source": [
    "# Create two arrays\n",
    "array1 = np.array([10, 20, 30, 40])\n",
    "array2 = np.array([15, 25, 35, 30])\n",
    "\n",
    "# Element-wise comparison\n",
    "comparison = array1 > array2\n",
    "print(\"Comparison (array1 > array2):\", comparison)"
   ]
  },
  {
   "cell_type": "code",
   "execution_count": 26,
   "id": "7ed6bf5b-6626-4756-ac99-d16d49bcf25a",
   "metadata": {},
   "outputs": [
    {
     "name": "stdout",
     "output_type": "stream",
     "text": [
      "Matrix Product: [[19 22]\n",
      " [43 50]]\n"
     ]
    }
   ],
   "source": [
    "# Create two matrices\n",
    "matrix1 = np.array([[1, 2], [3, 4]])\n",
    "matrix2 = np.array([[5, 6], [7, 8]])\n",
    "\n",
    "# Matrix multiplication\n",
    "product_matrix = np.dot(matrix1, matrix2)\n",
    "print(\"Matrix Product:\", product_matrix)\n"
   ]
  },
  {
   "cell_type": "code",
   "execution_count": 28,
   "id": "42176c2f-2bb1-4ff6-b817-9dd4a3cbd89f",
   "metadata": {},
   "outputs": [
    {
     "name": "stdout",
     "output_type": "stream",
     "text": [
      "Sliced Array:\n",
      " [[4 5]\n",
      " [7 8]]\n",
      "Indexed Element: 5\n"
     ]
    }
   ],
   "source": [
    "# Create a 3x3 array\n",
    "array = np.arange(9).reshape(3, 3)\n",
    "\n",
    "# Slice the array\n",
    "sliced_array = array[1:, 1:]\n",
    "print(\"Sliced Array:\\n\", sliced_array)\n",
    "\n",
    "# Indexing\n",
    "indexed_element = array[1, 2]\n",
    "print(\"Indexed Element:\", indexed_element)"
   ]
  },
  {
   "cell_type": "code",
   "execution_count": null,
   "id": "9db02a09-d4a3-400b-b8a7-9e06e79a1653",
   "metadata": {},
   "outputs": [],
   "source": []
  }
 ],
 "metadata": {
  "kernelspec": {
   "display_name": "Python 3 (ipykernel)",
   "language": "python",
   "name": "python3"
  },
  "language_info": {
   "codemirror_mode": {
    "name": "ipython",
    "version": 3
   },
   "file_extension": ".py",
   "mimetype": "text/x-python",
   "name": "python",
   "nbconvert_exporter": "python",
   "pygments_lexer": "ipython3",
   "version": "3.12.4"
  }
 },
 "nbformat": 4,
 "nbformat_minor": 5
}
