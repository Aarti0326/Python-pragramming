{
 "cells": [
  {
   "cell_type": "markdown",
   "id": "0c31d856-6f1f-43f2-a186-72c2c6fee215",
   "metadata": {},
   "source": [
    "### Append an element to a list\n"
   ]
  },
  {
   "cell_type": "code",
   "execution_count": 2,
   "id": "eb1dc894-4905-4286-a3bf-1a0076cfe138",
   "metadata": {},
   "outputs": [
    {
     "name": "stdout",
     "output_type": "stream",
     "text": [
      "[1, 2, 4, 5]\n"
     ]
    }
   ],
   "source": [
    "my_list = [1,2,4]\n",
    "list= my_list.append(5)\n",
    "print(my_list)\n"
   ]
  },
  {
   "cell_type": "code",
   "execution_count": 3,
   "id": "47775942-d579-4203-b766-7feac98c0da6",
   "metadata": {},
   "outputs": [
    {
     "name": "stdin",
     "output_type": "stream",
     "text": [
      "What is your name?  aarti\n"
     ]
    },
    {
     "name": "stdout",
     "output_type": "stream",
     "text": [
      "Hello, aarti !\n"
     ]
    }
   ],
   "source": [
    "### Ask the user for their name and print it.\n",
    "name = input(\"What is your name? \")\n",
    "\n",
    "print(\"Hello,\", name, \"!\")\n",
    "\n"
   ]
  },
  {
   "cell_type": "code",
   "execution_count": 4,
   "id": "0dadb14f-4a28-48c5-8342-d3ae796dec99",
   "metadata": {},
   "outputs": [
    {
     "name": "stdin",
     "output_type": "stream",
     "text": [
      "Enter first number:  5\n",
      "Enter second number:  6\n"
     ]
    },
    {
     "name": "stdout",
     "output_type": "stream",
     "text": [
      "Sum: 11\n"
     ]
    }
   ],
   "source": [
    "## Calculate the sum of two numbers\n",
    "num1 = int(input(\"Enter first number: \"))\n",
    "num2 = int(input(\"Enter second number: \"))\n",
    "print(\"Sum:\", num1 + num2)\n"
   ]
  },
  {
   "cell_type": "markdown",
   "id": "cf73a059-45b1-4ff7-b3b4-32bf2b65c4ea",
   "metadata": {},
   "source": [
    "### program to add two numbers"
   ]
  },
  {
   "cell_type": "code",
   "execution_count": 6,
   "id": "5755a6e2-704a-4fb8-bf98-29519e51543f",
   "metadata": {},
   "outputs": [
    {
     "name": "stdout",
     "output_type": "stream",
     "text": [
      "sum of two nos 17\n"
     ]
    }
   ],
   "source": [
    "num1 = 12\n",
    "num2 = 5\n",
    "#adding two nos\n",
    "sum = num1+num2\n",
    "print(\"sum of two nos\",sum)"
   ]
  },
  {
   "cell_type": "code",
   "execution_count": 7,
   "id": "fb60e415-ee4c-411d-9a0b-e42bb75e6e1d",
   "metadata": {},
   "outputs": [
    {
     "name": "stdin",
     "output_type": "stream",
     "text": [
      "first number 6\n",
      "second number 2\n"
     ]
    },
    {
     "name": "stdout",
     "output_type": "stream",
     "text": [
      "4.0\n"
     ]
    }
   ],
   "source": [
    "number1 = float(input(\"first number\"))\n",
    "number2 = float(input(\"second number\"))\n",
    "sub = number1-number2\n",
    "print(sub)"
   ]
  },
  {
   "cell_type": "code",
   "execution_count": 30,
   "id": "d0a5260e-3534-46ac-b8df-532d7c806c09",
   "metadata": {},
   "outputs": [],
   "source": [
    "#Python program to interchange first and last elements in a list"
   ]
  },
  {
   "cell_type": "code",
   "execution_count": 32,
   "id": "c6189c9f-23fa-4a62-9c29-208a71bbcb64",
   "metadata": {},
   "outputs": [
    {
     "name": "stdout",
     "output_type": "stream",
     "text": [
      "(5, 1)\n",
      "[5, 2, 3, 4, 1]\n"
     ]
    }
   ],
   "source": [
    "# Initialize a list\n",
    "my_list = [1, 2, 3, 4, 5]\n",
    "interchange=my_list[0], my_list[-1]= my_list[-1], my_list[0]\n",
    "print(interchange)\n",
    "print(my_list)"
   ]
  },
  {
   "cell_type": "markdown",
   "id": "39c2799a-e57c-4e03-a70c-dda7046838e9",
   "metadata": {},
   "source": [
    "### `Python Program to Swap Two Elements in a List\n"
   ]
  },
  {
   "cell_type": "code",
   "execution_count": 35,
   "id": "10ff8840-4ebf-4fc7-804c-5301f98b59b7",
   "metadata": {},
   "outputs": [
    {
     "name": "stdout",
     "output_type": "stream",
     "text": [
      "[10, 40, 30, 20, 50]\n"
     ]
    }
   ],
   "source": [
    "my_list = [10, 20, 30, 40, 50]\n",
    "# swap elements at index 1 and 3 \n",
    "pos1,pos2=1, 3\n",
    "# swap the elements at index 1 and 3\n",
    "my_list[pos1],my_list[pos2] = my_list[pos2],my_list[pos1]\n",
    "print(my_list)"
   ]
  },
  {
   "cell_type": "code",
   "execution_count": 37,
   "id": "924f3821-79bf-44b9-b72f-27b7f949a07c",
   "metadata": {},
   "outputs": [
    {
     "name": "stdout",
     "output_type": "stream",
     "text": [
      "num is : 720\n"
     ]
    }
   ],
   "source": [
    "# Input: An integer number\n",
    "num = 6\n",
    "\n",
    "# Initialize the factorial variable to 1\n",
    "factorial = 1\n",
    "\n",
    "# Calculate the factorial using a for loop\n",
    "for i in range(1, num + 1):\n",
    "    factorial *= i\n",
    "\n",
    "# Output: The factorial of the number\n",
    "print(\"num is :\",factorial)"
   ]
  },
  {
   "cell_type": "code",
   "execution_count": 39,
   "id": "2c627f12-a96b-4b6f-8bff-51df2327a1f8",
   "metadata": {},
   "outputs": [],
   "source": [
    "import math"
   ]
  },
  {
   "cell_type": "code",
   "execution_count": 41,
   "id": "0c5200f3-ecdf-4c71-8c31-a0d90b1b3590",
   "metadata": {},
   "outputs": [
    {
     "name": "stdout",
     "output_type": "stream",
     "text": [
      "the factorial of 6 is: 720\n"
     ]
    }
   ],
   "source": [
    "def factorial(num):\n",
    "    return(math.factorial(num))\n",
    "\n",
    "n = 6\n",
    "print(\"the factorial of 6 is:\",factorial(n))"
   ]
  },
  {
   "cell_type": "markdown",
   "id": "061f93e7-58ba-496a-b195-9c7ad11c2874",
   "metadata": {},
   "source": [
    "### Python Program for Simple Interest\n"
   ]
  },
  {
   "cell_type": "code",
   "execution_count": 51,
   "id": "cca3dad3-3f95-422d-800a-3b4b968dd445",
   "metadata": {},
   "outputs": [
    {
     "name": "stdout",
     "output_type": "stream",
     "text": [
      "the simple interest is 2500.0\n"
     ]
    }
   ],
   "source": [
    "#Simple interest formula is given by: Simple Interest = (P x T x R)/100 \n",
    "#Where, P is the principal amount T is the time and R is the rate\n",
    "p = 10000\n",
    "r = 5\n",
    "t = 5\n",
    "si = (p*t*r)/100\n",
    "print(\"the simple interest is\",si)"
   ]
  },
  {
   "cell_type": "code",
   "execution_count": 63,
   "id": "bdba64c0-83f2-4527-89e3-8d23aa595bc7",
   "metadata": {},
   "outputs": [],
   "source": [
    "def simple_interest(p,t,r):\n",
    "    print('The principal is', p)\n",
    "    print('The time period is', t)\n",
    "    print('The rate of interest is',r)\n",
    "    si = (p*t*r)/100\n",
    "    print(\"the simple interest is\",si)\n",
    "    return si"
   ]
  },
  {
   "cell_type": "code",
   "execution_count": 69,
   "id": "860f7b22-b649-49e0-965c-58be3e74b1bf",
   "metadata": {},
   "outputs": [
    {
     "name": "stdout",
     "output_type": "stream",
     "text": [
      "The principal is 500\n",
      "The time period is 6\n",
      "The rate of interest is 2\n",
      "the simple interest is 60.0\n"
     ]
    },
    {
     "data": {
      "text/plain": [
       "60.0"
      ]
     },
     "execution_count": 69,
     "metadata": {},
     "output_type": "execute_result"
    }
   ],
   "source": [
    "simple_interest(500,6,2)"
   ]
  },
  {
   "cell_type": "markdown",
   "id": "d4967b69-8120-4024-a41c-829dd80f392a",
   "metadata": {},
   "source": [
    "### Python Program for Compound Interest"
   ]
  },
  {
   "cell_type": "code",
   "execution_count": 105,
   "id": "dad064bc-077d-436b-86db-5240a8f47107",
   "metadata": {},
   "outputs": [],
   "source": [
    "#Let us discuss the formula for compound interest. \n",
    "#The formula to calculate compound interest annually is given by: \n",
    "\n",
    "#A = P(1 + R/100)^t .......amount\n",
    "\n",
    "#Compound Interest = A – P \n",
    "\n",
    "#Where, \n",
    "\n",
    "#A is amount \n",
    "#P is the principal amount \n",
    "#R is the rate and \n",
    "#T is the time span\n",
    "\n",
    "def compound_interest(p,r,t):\n",
    "    \n",
    "    amount = p*(1+r/100)**t  #amount formula\n",
    "    ci = amount-p            #compound inetrest formula\n",
    "    print(\"compound interest is\",ci)\n",
    "    "
   ]
  },
  {
   "cell_type": "code",
   "execution_count": 107,
   "id": "2daea910-4abb-45a9-b743-2b47ae912166",
   "metadata": {},
   "outputs": [
    {
     "name": "stdout",
     "output_type": "stream",
     "text": [
      "compound interest is 6288.946267774416\n"
     ]
    }
   ],
   "source": [
    "compound_interest(10000,10.25,5)"
   ]
  },
  {
   "cell_type": "code",
   "execution_count": null,
   "id": "1897acd7-a4ad-47a0-9769-112602c03060",
   "metadata": {},
   "outputs": [],
   "source": []
  }
 ],
 "metadata": {
  "kernelspec": {
   "display_name": "Python 3 (ipykernel)",
   "language": "python",
   "name": "python3"
  },
  "language_info": {
   "codemirror_mode": {
    "name": "ipython",
    "version": 3
   },
   "file_extension": ".py",
   "mimetype": "text/x-python",
   "name": "python",
   "nbconvert_exporter": "python",
   "pygments_lexer": "ipython3",
   "version": "3.12.4"
  }
 },
 "nbformat": 4,
 "nbformat_minor": 5
}
