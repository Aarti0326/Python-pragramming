{
 "cells": [
  {
   "cell_type": "markdown",
   "id": "1226a8cf-e9f1-4c41-b7cd-36e46acc26b2",
   "metadata": {},
   "source": [
    "## control statements in python (Practice)"
   ]
  },
  {
   "cell_type": "markdown",
   "id": "985be7c4-16e0-4f40-ac1d-ed767cacb310",
   "metadata": {},
   "source": [
    "### 1)Python Program to Check if a Number is Positive, Negative or 0"
   ]
  },
  {
   "cell_type": "code",
   "execution_count": 44,
   "id": "6dac76b4-cb71-427d-b286-53450c2f169e",
   "metadata": {},
   "outputs": [
    {
     "name": "stdin",
     "output_type": "stream",
     "text": [
      "enter a nummber : 0\n"
     ]
    },
    {
     "name": "stdout",
     "output_type": "stream",
     "text": [
      " the number is zero\n"
     ]
    }
   ],
   "source": [
    "number = float(input('enter a nummber :'))\n",
    "if number>0:\n",
    "    print (\"the number is positive\")\n",
    "elif number<0:\n",
    "    print (\"the number is negetive \")\n",
    "else:\n",
    "    print (\" the number is zero\")"
   ]
  },
  {
   "cell_type": "markdown",
   "id": "c92cfada-5bce-451c-94f5-cc68e7aad890",
   "metadata": {},
   "source": [
    "### 2) Python Program to Check if a Number is Odd or Even"
   ]
  },
  {
   "cell_type": "code",
   "execution_count": 60,
   "id": "09a89195-1655-4d00-98f9-bec789215e7e",
   "metadata": {},
   "outputs": [
    {
     "name": "stdin",
     "output_type": "stream",
     "text": [
      "enter a number : 5\n"
     ]
    },
    {
     "name": "stdout",
     "output_type": "stream",
     "text": [
      "5 is an odd number :\n"
     ]
    }
   ],
   "source": [
    "num = int(input(\"enter a number :\"))\n",
    "if num % 2 == 0:\n",
    "    print(f\"{num} is an even number :\")\n",
    "else:\n",
    "    print(f\"{num} is an odd number :\")\n",
    "    "
   ]
  },
  {
   "cell_type": "markdown",
   "id": "c281ab43-69af-4dd3-8092-7881770a1ee3",
   "metadata": {},
   "source": [
    "### 3) Python Program to Check Leap Year"
   ]
  },
  {
   "cell_type": "code",
   "execution_count": 81,
   "id": "a4573216-31f7-4769-8650-822b8d1c6c91",
   "metadata": {},
   "outputs": [
    {
     "name": "stdin",
     "output_type": "stream",
     "text": [
      "enter a four digit number 1900\n"
     ]
    },
    {
     "name": "stdout",
     "output_type": "stream",
     "text": [
      "1900 is not a leap year\n"
     ]
    }
   ],
   "source": [
    "year = int(input(\"enter a four digit number\"))\n",
    "if year%4==0 and  year%100!=0 or year%400==0:\n",
    "    print(f\"{year} is a leap year\")\n",
    "else:\n",
    "    print(f\"{year} is not a leap year\")"
   ]
  },
  {
   "cell_type": "markdown",
   "id": "fff385e0-6efa-4c0c-9975-6e80a9cdd509",
   "metadata": {},
   "source": [
    "### 4)Python Program to Find the Largest Among Three Numbers"
   ]
  },
  {
   "cell_type": "code",
   "execution_count": 103,
   "id": "25524387-128d-4a5c-aba6-84146c563b7e",
   "metadata": {},
   "outputs": [
    {
     "name": "stdin",
     "output_type": "stream",
     "text": [
      "Enter the first number:  5\n",
      "Enter the second number:  32\n",
      "Enter the third number:  2\n"
     ]
    },
    {
     "name": "stdout",
     "output_type": "stream",
     "text": [
      "32.0 is larget\n"
     ]
    }
   ],
   "source": [
    "# Input from the user\n",
    "num1 = float(input(\"Enter the first number: \"))\n",
    "num2 = float(input(\"Enter the second number: \"))\n",
    "num3 = float(input(\"Enter the third number: \"))\n",
    "\n",
    "# Check which number is the largest\n",
    "if num1 >= num2 and num1 >= num3:\n",
    "    print (f\"{num1} is larget\")\n",
    "elif num2 >= num1 and num2 >= num3:\n",
    "    print (f\"{num2} is larget\")\n",
    "else:\n",
    "    print (f\"{num3} is larget\")"
   ]
  },
  {
   "cell_type": "markdown",
   "id": "5dd4dd9e-044c-447e-88e9-21a136e1bec1",
   "metadata": {},
   "source": [
    "### 5)Python Program to Check Prime Number"
   ]
  },
  {
   "cell_type": "code",
   "execution_count": 13,
   "id": "92bbfa00-0838-4ffb-83d2-0cd5fc24b465",
   "metadata": {},
   "outputs": [
    {
     "name": "stdin",
     "output_type": "stream",
     "text": [
      "Enter a number:  9\n"
     ]
    },
    {
     "name": "stdout",
     "output_type": "stream",
     "text": [
      "9 is not a prime number.\n"
     ]
    }
   ],
   "source": [
    "num = int(input(\"Enter a number: \"))\n",
    "\n",
    "if num > 1:\n",
    "    for i in range(2, num):\n",
    "        if num % i == 0:\n",
    "            print(f\"{num} is not a prime number.\")\n",
    "            break\n",
    "    else:\n",
    "        print(f\"{num} is a prime number.\")\n",
    "else:\n",
    "    print(f\"{num} is not a prime number.\")\n"
   ]
  },
  {
   "cell_type": "markdown",
   "id": "83f9d77b-1256-4bd7-a897-7ece4127ee24",
   "metadata": {},
   "source": [
    "### 6)Python Program to Find the Factorial of a Number"
   ]
  },
  {
   "cell_type": "code",
   "execution_count": 35,
   "id": "e2b32e28-ca52-4642-9869-6496392e20b5",
   "metadata": {},
   "outputs": [
    {
     "name": "stdin",
     "output_type": "stream",
     "text": [
      "enter a number: 6\n"
     ]
    },
    {
     "name": "stdout",
     "output_type": "stream",
     "text": [
      "720\n"
     ]
    }
   ],
   "source": [
    "number = int(input(\"enter a number:\"))\n",
    "factorial = 1\n",
    "\n",
    "for i in range(1,number+1):\n",
    "    factorial *=i\n",
    "print(factorial)"
   ]
  },
  {
   "cell_type": "markdown",
   "id": "addc1dff-4a9c-47b5-b1e8-e43e7b7a2f27",
   "metadata": {},
   "source": [
    "### 7)Python Program to Display the multiplication Table"
   ]
  },
  {
   "cell_type": "code",
   "execution_count": 85,
   "id": "8d4d3993-b9ab-41d1-add3-155c703c12ff",
   "metadata": {},
   "outputs": [
    {
     "name": "stdin",
     "output_type": "stream",
     "text": [
      "Enter a number:  3\n"
     ]
    },
    {
     "name": "stdout",
     "output_type": "stream",
     "text": [
      "3\n",
      "6\n",
      "9\n",
      "12\n",
      "15\n",
      "18\n",
      "21\n",
      "24\n",
      "27\n",
      "30\n"
     ]
    }
   ],
   "source": [
    "number = int(input(\"Enter a number: \"))\n",
    "\n",
    "for i in range(1, 11):\n",
    "    print(number * i)   "
   ]
  },
  {
   "cell_type": "markdown",
   "id": "1cc272f5-54df-4a69-a9ef-e35f837bc780",
   "metadata": {},
   "source": [
    "### 8)Python Program to Print the Fibonacci sequence"
   ]
  },
  {
   "cell_type": "code",
   "execution_count": 89,
   "id": "781e95b2-8907-4d46-9209-793ccf08e8d3",
   "metadata": {},
   "outputs": [
    {
     "name": "stdin",
     "output_type": "stream",
     "text": [
      "enter a number : 7\n"
     ]
    },
    {
     "name": "stdout",
     "output_type": "stream",
     "text": [
      "0\n",
      "1\n",
      "1\n",
      "2\n",
      "3\n",
      "5\n",
      "8\n"
     ]
    }
   ],
   "source": [
    "a = 0\n",
    "b = 1\n",
    "\n",
    "num = int(input(\"enter a number :\"))\n",
    "print(a)\n",
    "print(b)\n",
    "\n",
    "for i in range (2,num):\n",
    "    c= a+b\n",
    "    a = b\n",
    "    b = c\n",
    "    print(c)"
   ]
  },
  {
   "cell_type": "code",
   "execution_count": null,
   "id": "c56517f3-6401-4f43-a28d-4816ee78c248",
   "metadata": {},
   "outputs": [],
   "source": []
  }
 ],
 "metadata": {
  "kernelspec": {
   "display_name": "Python 3 (ipykernel)",
   "language": "python",
   "name": "python3"
  },
  "language_info": {
   "codemirror_mode": {
    "name": "ipython",
    "version": 3
   },
   "file_extension": ".py",
   "mimetype": "text/x-python",
   "name": "python",
   "nbconvert_exporter": "python",
   "pygments_lexer": "ipython3",
   "version": "3.12.4"
  }
 },
 "nbformat": 4,
 "nbformat_minor": 5
}
