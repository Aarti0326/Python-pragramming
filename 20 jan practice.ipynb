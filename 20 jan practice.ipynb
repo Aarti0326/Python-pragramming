{
 "cells": [
  {
   "cell_type": "markdown",
   "id": "45fcd4c2-81e9-4c6b-b2e3-90d11b5082d2",
   "metadata": {},
   "source": [
    "### Given an array of integers, find the sum of the elements."
   ]
  },
  {
   "cell_type": "code",
   "execution_count": 2,
   "id": "2daaa1c7-0ef9-4bf4-ad07-3999c14ee205",
   "metadata": {},
   "outputs": [
    {
     "name": "stdout",
     "output_type": "stream",
     "text": [
      "15\n"
     ]
    }
   ],
   "source": [
    "def array_sum(arr):\n",
    "    return sum(arr)\n",
    "\n",
    "arr = [1, 2, 3, 4, 5]\n",
    "print(array_sum(arr))  \n"
   ]
  },
  {
   "cell_type": "markdown",
   "id": "bae7b4e4-67a4-47bd-a1ec-fe8162459e90",
   "metadata": {},
   "source": [
    "### Given an array, find the largest element."
   ]
  },
  {
   "cell_type": "code",
   "execution_count": 5,
   "id": "d8ebf362-725f-4d46-96a3-128fbdfa11a7",
   "metadata": {},
   "outputs": [
    {
     "name": "stdout",
     "output_type": "stream",
     "text": [
      "55\n"
     ]
    }
   ],
   "source": [
    "def largest_element(arr):\n",
    "    return max(arr)\n",
    "\n",
    "arr = [10, 2, 33, 4, 55]\n",
    "print(largest_element(arr))  "
   ]
  },
  {
   "cell_type": "markdown",
   "id": "698be0f8-a653-4e5e-b642-2b74c7517a8d",
   "metadata": {},
   "source": [
    "### Write a Python function to count the number of times an element appears in a list."
   ]
  },
  {
   "cell_type": "code",
   "execution_count": 10,
   "id": "cc7dcf98-48cb-4e82-b5c7-5f59c3435b22",
   "metadata": {},
   "outputs": [
    {
     "name": "stdout",
     "output_type": "stream",
     "text": [
      "3\n"
     ]
    }
   ],
   "source": [
    "def count_occurrences(arr, element):\n",
    "    return arr.count(element)\n",
    "\n",
    "# Example usage:\n",
    "arr = [1, 2, 2, 3, 4, 2]\n",
    "print(count_occurrences(arr, 2))  \n"
   ]
  },
  {
   "cell_type": "code",
   "execution_count": 14,
   "id": "baa89736-96e9-43a0-8cbc-24b43257e605",
   "metadata": {},
   "outputs": [
    {
     "name": "stdout",
     "output_type": "stream",
     "text": [
      "[1, 2, 3, 4, 5]\n"
     ]
    }
   ],
   "source": [
    "def remove_duplicates(arr):\n",
    "    return list(set(arr))\n",
    "\n",
    "# Example usage:\n",
    "arr = [1, 2, 2, 3, 4, 4, 5]\n",
    "print(remove_duplicates(arr))  "
   ]
  },
  {
   "cell_type": "code",
   "execution_count": 16,
   "id": "093d0246-07a6-4dd5-a89f-e3b440d744d5",
   "metadata": {},
   "outputs": [
    {
     "name": "stdout",
     "output_type": "stream",
     "text": [
      "{'a': 1, 'b': 2, 'c': 3}\n"
     ]
    }
   ],
   "source": [
    "def create_dict(keys, values):\n",
    "    return dict(zip(keys, values))\n",
    "\n",
    "# Example usage:\n",
    "keys = ['a', 'b', 'c']\n",
    "values = [1, 2, 3]\n",
    "print(create_dict(keys, values))  \n"
   ]
  },
  {
   "cell_type": "code",
   "execution_count": null,
   "id": "c49aaa80-30db-4888-ac17-182611d7c41b",
   "metadata": {},
   "outputs": [],
   "source": []
  }
 ],
 "metadata": {
  "kernelspec": {
   "display_name": "Python 3 (ipykernel)",
   "language": "python",
   "name": "python3"
  },
  "language_info": {
   "codemirror_mode": {
    "name": "ipython",
    "version": 3
   },
   "file_extension": ".py",
   "mimetype": "text/x-python",
   "name": "python",
   "nbconvert_exporter": "python",
   "pygments_lexer": "ipython3",
   "version": "3.12.4"
  }
 },
 "nbformat": 4,
 "nbformat_minor": 5
}
